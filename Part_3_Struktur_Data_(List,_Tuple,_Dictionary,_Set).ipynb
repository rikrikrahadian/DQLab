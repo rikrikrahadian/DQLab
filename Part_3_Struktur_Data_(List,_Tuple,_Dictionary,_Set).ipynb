{
  "cells": [
    {
      "cell_type": "markdown",
      "metadata": {
        "id": "view-in-github",
        "colab_type": "text"
      },
      "source": [
        "<a href=\"https://colab.research.google.com/github/rikrikrahadian/DQLab/blob/main/Part_3_Struktur_Data_(List%2C_Tuple%2C_Dictionary%2C_Set).ipynb\" target=\"_parent\"><img src=\"https://colab.research.google.com/assets/colab-badge.svg\" alt=\"Open In Colab\"/></a>"
      ]
    },
    {
      "cell_type": "markdown",
      "metadata": {
        "id": "GgjwWAS2eFI1"
      },
      "source": [
        "# STRUKTUR DATA: `iterables`\n",
        "\n",
        "Pada sesi sebelumnya, kita telah membahas tentang *variable* serta berbagai tipe data dasar yang digunakan dalam pengolahan data dengan Python. Kali ini, kita akan melanjutkan ke tipe data yang lebih kompleks, mulai dari data satu dimensi berurutan hingga struktur dua dimensi yang sangat penting dalam praktik analisis data menggunakan Python.\n",
        "\n",
        "Fokus utama sesi ini adalah pada kelompok objek Python yang dikenal sebagai `iterables`.\n",
        "\n",
        "> `Iterables` adalah objek-objek yang bersifat *sequential*, di mana elemen-elemennya dapat diakses satu per satu—biasanya melalui `for loop`.\n",
        "\n",
        "Objek-objek Python yang termasuk dalam kategori `iterables` antara lain:\n",
        "\n",
        "1. `range`\n",
        "2. `list`\n",
        "3. `tuple`\n",
        "4. `set`\n",
        "5. `dictionary`\n",
        "6. `iterator`\n",
        "\n",
        "Namun, untuk mempermudah proses belajar, pembahasan pada sesi ini tidak akan mencakup `iterator`.\n",
        "\n",
        "---\n",
        "**NOTE**: Agar dapat menjalankan formulir pada beberapa ilustrasi di bagian bawah berikut, maka terlebih dahulu unduh file [functions.py](https://drive.google.com/file/d/1dXMuGyplSRowrLZ-_tvowhavE7rJ3Xw_/view?usp=sharing), lalu unggah file tersebut ke *working directory*.\n",
        "\n",
        "---\n",
        "\n"
      ]
    },
    {
      "cell_type": "markdown",
      "source": [
        "# **`range`**\n",
        "\n",
        "Dalam Python, `range` adalah sebuah *built-in object* yang digunakan untuk menghasilkan urutan bilangan secara efisien. Objek ini sangat umum digunakan dalam perulangan, terutama dalam struktur `for loop`.\n",
        "\n",
        "## Sintaks Dasar\n",
        "\n",
        "```python\n",
        "range(stop: int)\n",
        "range(start: int = 0, stop: int)\n",
        "range(start: int = 0, stop: int, step: int = 1)\n",
        "```\n",
        "\n",
        "* `start`: nilai awal (default = 0)\n",
        "* `stop`: nilai batas akhir **(tidak termasuk)**\n",
        "* `step`: jarak antar nilai (default = 1)\n",
        "\n",
        "## Contoh Penggunaan\n",
        "\n",
        "```python\n",
        "range(5)              # menghasilkan: 0, 1, 2, 3, 4\n",
        "range(2, 7)           # menghasilkan: 2, 3, 4, 5, 6\n",
        "range(10, 0, -2)      # menghasilkan: 10, 8, 6, 4, 2\n",
        "```\n",
        "\n",
        "Objek `range` **tidak langsung menghasilkan list**. Untuk melihat isinya secara eksplisit, kita dapat mengubahnya menjadi list:\n",
        "\n",
        "```python\n",
        "# Memanggil isi object range dari memory\n",
        "range(5)              # Output: range(0, 5)\n",
        "\n",
        "# Melihat list berisi sebuah range dari memory\n",
        "list(range(5))        # Output: [0, 1, 2, 3, 4]\n",
        "```\n",
        "\n",
        "## Mengapa `range` Efisien?\n",
        "\n",
        "`range` tidak menyimpan semua nilai di memori. Sebaliknya, ia hanya menyimpan *start*, *stop*, dan *step*, dan menghasilkan elemen sesuai kebutuhan. Inilah yang disebut *lazy evaluation* atau *lazy loading*, membuat `range` sangat hemat memori meskipun menghasilkan urutan yang panjang.\n",
        "\n",
        "```python\n",
        "for i in range(1, 6):\n",
        "    print(f\"Iterasi ke-{i}\")\n",
        "```"
      ],
      "metadata": {
        "id": "dmMoURwT5wKj"
      }
    },
    {
      "cell_type": "code",
      "source": [
        "# @title ### Ilustrasi 1: `range`\n",
        "# Import needed modules\n",
        "from IPython.display import display, Markdown\n",
        "import ipywidgets as widgets\n",
        "from functions import Part_3, check_answers, layouts\n",
        "\n",
        "urutan_naik = range(0, 101, 1)\n",
        "urutan_turun = range(100, -1, -1)\n",
        "\n",
        "display(Markdown(\n",
        "    \"---\\n\"\n",
        "    \"### Perhatikan kedua object berikut:\\n\"\n",
        "    \"```python\\n\"\n",
        "    \"urutan_naik = range(0, 101, 1)\\n\"\n",
        "    \"urutan_turun = range(100, -1, -1)\\n\"\n",
        "    \"```\"\n",
        "))\n",
        "\n",
        "display(Markdown(\"---\\n### Pilih pernyataan yang tepat terkait `urutan_naik`:\"))\n",
        "# Question 1\n",
        "correct_answers_1 = Part_3['Q1']\n",
        "\n",
        "# Create checkboxes for each option in Question 1\n",
        "option_a_1 = widgets.Checkbox(value=False, description='urutan_naik berisikan angka desimal dari 0.0 hingga 100.00', layout=layouts)\n",
        "option_b_1 = widgets.Checkbox(value=False, description='urutan_naik berisikan angka bulat dari 0 hingga 101', layout=layouts)\n",
        "option_c_1 = widgets.Checkbox(value=False, description='urutan_naik berisikan [0, 1, 2, ..., 100]', layout=layouts)\n",
        "option_d_1 = widgets.Checkbox(value=False, description='urutan_naik berisikan range(101)', layout=layouts)\n",
        "option_e_1 = widgets.Checkbox(value=False, description='urutan_naik berisikan range(0, 100)', layout=layouts)\n",
        "\n",
        "options_1 = (option_a_1, option_b_1, option_c_1, option_d_1, option_e_1)\n",
        "\n",
        "# Output box for feedback\n",
        "result_1 = widgets.Textarea(value=\"\", placeholder='Feedback', description='', disabled=True)\n",
        "\n",
        "# Button to check answers for Question 1\n",
        "check_button_1 = widgets.Button(description=\"Cek Jawaban\")\n",
        "check_button_1.on_click(lambda event: check_answers(correct_answers_1, options_1, result_1))\n",
        "\n",
        "# Display the interactive form for Question 1\n",
        "display(option_a_1, option_b_1, option_c_1, option_d_1, option_e_1, check_button_1, result_1)\n",
        "display(Markdown(\"---\\n### Pilih pernyataan yang tepat terkait `urutan_turun`:\"))\n",
        "\n",
        "# Question 2\n",
        "correct_answers_2 = Part_3['Q2']\n",
        "\n",
        "# Create checkboxes for each option in Question 1\n",
        "option_a_2 = widgets.Checkbox(value=False, description='urutan_turun berisikan angka desimal dari 100.0 hingga 0.0', layout=layouts)\n",
        "option_b_2 = widgets.Checkbox(value=False, description='urutan_turun menghasilkan angka bulat dari 100 hingga 0', layout=layouts)\n",
        "option_c_2 = widgets.Checkbox(value=False, description='urutan_turun berisikan [100, 99, 98, ..., 0]', layout=layouts)\n",
        "option_d_2 = widgets.Checkbox(value=False, description='urutan_turun berisikan range(100, -1, -1)', layout=layouts)\n",
        "option_e_2 = widgets.Checkbox(value=False, description='urutan_turun berisikan range(101, 0, -1)', layout=layouts)\n",
        "\n",
        "options_2 = (option_a_2, option_b_2, option_c_2, option_d_2, option_e_2)\n",
        "\n",
        "# Output box for feedback\n",
        "result_2 = widgets.Textarea(value=\"\", placeholder='Feedback', description='', disabled=True)\n",
        "\n",
        "# Button to check answers for Question 2\n",
        "check_button_2 = widgets.Button(description=\"Cek Jawaban\")\n",
        "check_button_2.on_click(lambda event: check_answers(correct_answers_2, options_2, result_2))\n",
        "\n",
        "# Display the interactive form for Question 2\n",
        "display(option_a_2, option_b_2, option_c_2, option_d_2, option_e_2, check_button_2, result_2)\n",
        "display(Markdown(\"---\"))"
      ],
      "metadata": {
        "cellView": "form",
        "id": "p34s0XzyCbF1"
      },
      "execution_count": null,
      "outputs": []
    },
    {
      "cell_type": "code",
      "source": [
        "for angka in urutan_naik:\n",
        "  print(angka)"
      ],
      "metadata": {
        "id": "S0RlusuNnRZh"
      },
      "execution_count": null,
      "outputs": []
    },
    {
      "cell_type": "markdown",
      "source": [
        "# EXERCISE 1: `range`"
      ],
      "metadata": {
        "id": "a2G2wXqy8hgg"
      }
    },
    {
      "cell_type": "code",
      "source": [
        "# Panggil isi urutan_naik dari memory\n",
        "urutan_naik"
      ],
      "metadata": {
        "id": "BB18UP758sCQ"
      },
      "execution_count": null,
      "outputs": []
    },
    {
      "cell_type": "code",
      "source": [
        "# Panggil isi urutan_turun dari memory\n",
        "urutan_turun"
      ],
      "metadata": {
        "id": "1Ma8HLgGGX1H"
      },
      "execution_count": null,
      "outputs": []
    },
    {
      "cell_type": "code",
      "source": [
        "# Panggil isi urutan_naik sebagai sebuah list dari memory\n",
        "list(urutan_naik)"
      ],
      "metadata": {
        "id": "ryThu7hInr-m"
      },
      "execution_count": null,
      "outputs": []
    },
    {
      "cell_type": "code",
      "source": [
        "# Tampilkan ke layar isi urutan_turun satu persatu\n",
        "for urutan in urutan_turun:\n",
        "  print(urutan)"
      ],
      "metadata": {
        "id": "hPTlpI26n00A"
      },
      "execution_count": null,
      "outputs": []
    },
    {
      "cell_type": "markdown",
      "metadata": {
        "id": "jLgx8o0UpJZ9"
      },
      "source": [
        "# **`list`**\n",
        "> `List` adalah sebuah objek kelas dalam Python yang berupa sebuah koleksi/kontainer berisi objek bertipe rangkaian (*sequence*), sehingga seringkali dirujuk sebagai *containers* atau *collections*.\n",
        "\n",
        "`List`, yang merupakan sebuah objek kelas fundamental, memiliki seperangkat fitur yang memungkinkan pengelolaan sekaligus manipulasi beragam tipe data secara efisien. Sebuah `list` akan memiliki beberapa karakteristik sebagai berikut:\n",
        "1. ***Ordered***: Urutan setiap elemen pada sebuah list akan sesuai dengan urutan penginputan masing-masing elemen;\n",
        "2. ***Zero-based***: Indeks posisional dari setiap elemen pada sebuah `list` akan dimulai dari indeks 0;\n",
        "3. ***Mutable***: Memungkinkan untuk melakukan perubahan (*mutations*) terhadap elemen yang ada didalamnya;\n",
        "4. ***Heterogeneous***: Dapat memuat objek dengan tipe yang bermacam-macam (`int`, `float`, `str`, `list`, `tuple`, `dictionary`, `set`, & bahkan `function`);\n",
        "5. ***Growable & Dynamic***: Memungkinkan untuk melakukan penambahan, penginputan, dan penghapusan elemen;\n",
        "6. ***Nestable***: Dapat memuat `list` lain di dalamnya;\n",
        "7. ***Iterable***: Memungkinkan untuk dilakukan iterasi terhadap setiap elemen di dalamnya dengan menggunakan `loop` atau `list comprehension`;\n",
        "8. ***Sliceable***: Memungkinkan untuk melakukan operasi *slicing* untuk mengakses elemennya;\n",
        "9. ***Combinable***: Memungkinkan untuk melakukan proses *concatenation* terhadap satu `list` dengan `list` lain;\n",
        "10. ***copyable***: Memungkinkan untuk membuat duplikat dari `list` ke dalam sebuah `list` yang lain."
      ]
    },
    {
      "cell_type": "markdown",
      "metadata": {
        "id": "ZZAawgepzHOn"
      },
      "source": [
        "## Construction\n",
        "Terdapat tiga cara untuk membangun sebuah `list`:\n",
        "1. Menggunakan `list literals`:\n",
        "```python\n",
        "nama_list = [] # Membuat list kosong\n",
        "nama_list = [elemen_1, elemen_2, ..., elemen_n]\n",
        "```\n",
        "2. Menggunakan `type constructor`:\n",
        "```python\n",
        "nama_list = list() # Membuat list kosong\n",
        "nama_list = list(iterable)\n",
        "```\n",
        "3. Menggunakan `list comprehension`:\n",
        "```python\n",
        "nama_list = [expression(item) for item in iterable if conditional]\n",
        "```"
      ]
    },
    {
      "cell_type": "code",
      "source": [
        "[\n",
        "    ['Amir', 'Budi', 'Cici'],\n",
        "    ['08777', '0818', '0817'],\n",
        "    ['01/01/1990', '02/02/2000', '03/03/2001']\n",
        "]"
      ],
      "metadata": {
        "id": "GcrkzFIItAaX"
      },
      "execution_count": null,
      "outputs": []
    },
    {
      "cell_type": "code",
      "source": [
        "[\n",
        "    ['Amir', '08777', '01/01/1990'],\n",
        "    ['Budi', ' 0818', '02/02/2000'],\n",
        "    ['Cici', '0817', '03/03/2001']\n",
        "]"
      ],
      "metadata": {
        "id": "VRYtEv7atXly"
      },
      "execution_count": null,
      "outputs": []
    },
    {
      "cell_type": "code",
      "source": [
        "# @title ### Ilustrasi 2: `list` Construction\n",
        "# Question 1\n",
        "display(Markdown(\"---\\n### 1. Ekspresi manakah yang bukan merupakan cara untuk membuat `list`?\"))\n",
        "nama_teman = ['Amir', 'Budi', 'Cinta', 'Dimas', 'Edi']\n",
        "angka = list(range(0, 10, 1))\n",
        "angka_ganjil = [odd for odd in range(0, 10, 1) if odd % 2 == 1]\n",
        "# Menyiapkan Jawaban Question 1\n",
        "correct_answers_3 = Part_3['Q3']\n",
        "# Membuat Options Question 1\n",
        "option_a_3 = widgets.Checkbox(value=False, description=\"nama_teman = ['Amir', 'Budi', 'Cinta', 'Dimas', 'Edi']\", layout=layouts)\n",
        "option_b_3 = widgets.Checkbox(value=False, description='angka = list(range(0, 10, 1))', layout=layouts)\n",
        "option_c_3 = widgets.Checkbox(value=False, description='angka_ganjil = [odd for odd in range(0, 10, 1) if odd % 2 == 1]', layout=layouts)\n",
        "options_3 = (option_a_3, option_b_3, option_c_3)\n",
        "\n",
        "result_3 = widgets.Textarea(value=\"\", placeholder='Feedback', description='', disabled=True)\n",
        "\n",
        "# Button to check answers for Question 1\n",
        "check_button_3 = widgets.Button(description=\"Cek Jawaban\")\n",
        "check_button_3.on_click(lambda event: check_answers(correct_answers_3, options_3, result_3))\n",
        "\n",
        "# Tampilkan form Question 1 ke layar\n",
        "display(option_a_3, option_b_3, option_c_3, check_button_3, result_3)\n",
        "\n",
        "# Question 2\n",
        "display(Markdown(\"---\\n### 2. Ekspresi manakah yang merupakan cara menyusun `list` menggunakan `literals`?\\n\"))\n",
        "correct_answers_4 = Part_3['Q4']\n",
        "# Options for Question 2\n",
        "option_a_4 = widgets.Checkbox(value=False, description=\"nama_teman = ['Amir', 'Budi', 'Cinta', 'Dimas', 'Edi']\", layout=layouts)\n",
        "option_b_4 = widgets.Checkbox(value=False, description='angka = list(range(0, 10, 1))', layout=layouts)\n",
        "option_c_4 = widgets.Checkbox(value=False, description='angka_ganjil = [odd for odd in range(0, 10, 1) if odd % 2 == 1]', layout=layouts)\n",
        "options_4 = (option_a_4, option_b_4, option_c_4)\n",
        "# Result for Question 2\n",
        "result_4 = widgets.Textarea(value=\"\", placeholder='Feedback', description='', disabled=True)\n",
        "# Button to check answers for Question 1\n",
        "check_button_4 = widgets.Button(description=\"Cek Jawaban\")\n",
        "check_button_4.on_click(lambda event: check_answers(correct_answers_4, options_4, result_4))\n",
        "# Tampilkan form Question 1 ke layar\n",
        "display(option_a_4, option_b_4, option_c_4, check_button_4, result_4)\n",
        "display(Markdown(\"---\"))"
      ],
      "metadata": {
        "id": "hQcp9XiGopCj",
        "cellView": "form"
      },
      "execution_count": null,
      "outputs": []
    },
    {
      "cell_type": "code",
      "source": [
        "# Silahkan melakukan percobaan list construction di sini\n",
        "angka[1:4:1]"
      ],
      "metadata": {
        "id": "Gu4NGz5R0qxK"
      },
      "execution_count": null,
      "outputs": []
    },
    {
      "cell_type": "markdown",
      "metadata": {
        "id": "JY-m2EiJ3cZQ"
      },
      "source": [
        "## Access to elements\n",
        "Berikut ini dapat diamati beberapa sintaks yang biasanya digunakan untuk mengakses elemen pada sebuah list:\n",
        "1. `indexing`, menghasilkan sebuah data yang merupakan elemen dari sebuah `list`. Sebagai ilustrasi, di bawah berikut dapat diamati cara untuk menampilkan angka 5 yang merupakan sebuah elemen pada `angka` yang kita buat pada exercise sebelumnya.\n",
        "```python\n",
        "angka[5] # dituliskan nomor index dari elemen 5\n",
        "# Output = 5\n",
        "```\n",
        "2. `slicing`, menghasilkan sebuah `list` berisi sebuah atau beberapa elemen dari sebuah `list` lainnya. Sebagai ilustrasi, di bawah berikut dapat diamati cara mengambil angka 1, 2, 3 yang merupakan elemen pada `angka`.\n",
        "```python\n",
        "angka[1:4:1] # dituliskan index awal, index akhir+1, dan step\n",
        "# Output = [1, 2, 3]\n",
        "```"
      ]
    },
    {
      "cell_type": "code",
      "source": [
        "# @title ###  Ilustrasi 3: Accessing Elements\n",
        "display(Markdown(\n",
        "    \"---\\n\"\n",
        "    \"### Cermati list berikut:\\n\"\n",
        "    \"```python\\n\"\n",
        "    \"nama_teman = ['Amir', 'Budi', 'Cinta', 'Dimas', 'Edi']\\n\"\n",
        "    \"```\"\n",
        "))\n",
        "# Question 1\n",
        "display(Markdown(f\"---\\n### 1. Manakah pernyataan yang tepat terkait *indexing* bagi list tersebut:\"))\n",
        "# Menyiapkan jawaban Question 1\n",
        "correct_answers_5 = Part_3['Q5']\n",
        "# Options\n",
        "option_a_5 = widgets.Checkbox(value=False, description=\"nama_teman[0] # Mengakses elemen pertama pada list `nama_teman`.\", layout=layouts)\n",
        "option_b_5 = widgets.Checkbox(value=False, description=\"nama_teman[1] # Mengakses elemen kedua pada list `nama_teman`.\", layout=layouts)\n",
        "option_c_5 = widgets.Checkbox(value=False, description=\"nama_teman[-1] # Mengakses elemen paling akhir pada list `nama_teman`.\", layout=layouts)\n",
        "option_d_5 = widgets.Checkbox(value=False, description=\"nama_teman[-1] # Mengakses elemen kedua dari akhir pada list `nama_teman`.\", layout=layouts)\n",
        "options_5 = (option_a_5, option_b_5, option_c_5, option_d_5)\n",
        "# Result\n",
        "result_5 = widgets.Textarea(value=\"\", placeholder='Feedback', description='', disabled=True)\n",
        "# Button to check answers for Question 1\n",
        "check_button_5 = widgets.Button(description=\"Cek Jawaban\")\n",
        "check_button_5.on_click(lambda event: check_answers(correct_answers_5, options_5, result_5))\n",
        "# Tampilkan Question 1 ke layar\n",
        "display(option_a_5, option_b_5, option_c_5, option_d_5, check_button_5, result_5)\n",
        "\n",
        "# Question 2\n",
        "display(Markdown(f\"---\\n### 2. Manakah pernyataan yang tepat terkait *slicing* bagi list tersebut:\"))\n",
        "# Menyiapkan jawaban Question 2\n",
        "correct_answers_6 = Part_3['Q6']\n",
        "# Options\n",
        "option_a_6 = widgets.Checkbox(value=False, description=\"nama_teman[:2] # Mengakses elemen nama_teman, dari elemen indeks 0 hingga elemen indeks 1\", layout=layouts)\n",
        "option_b_6 = widgets.Checkbox(value=False, description=\"nama_teman[::2] # Mengakses seluruh elemen nama_teman yang bernomor indeks genap (0, 2, 4, ...)\", layout=layouts)\n",
        "option_c_6 = widgets.Checkbox(value=False, description=\"nama_teman[::-2] # Mengakses seluruh elemen nama_teman  secara terbalik, mulai dari urutan kedua dari akhir hingga paling awal\", layout=layouts)\n",
        "option_d_6 = widgets.Checkbox(value=False, description=\"nama_teman[::-1] # Mengakses seluruh elemen pada nama_teman secara terbalik, dari urutan paling akhir hingga ke awal\", layout=layouts)\n",
        "options_6 = (option_a_6, option_b_6, option_c_6, option_d_6)\n",
        "# Result\n",
        "result_6 = widgets.Textarea(value=\"\", placeholder='Feedback', description='', disabled=True)\n",
        "# Button to check\n",
        "check_button_6 = widgets.Button(description=\"Cek Jawaban\")\n",
        "check_button_6.on_click(lambda event: check_answers(correct_answers_6, options_6, result_6))\n",
        "# Tampilkan Question 2\n",
        "display(option_a_6, option_b_6, option_c_6, option_d_6, check_button_6, result_6)\n",
        "\n",
        "# Question 3\n",
        "display(Markdown(f\"---\\n### 3. Manakah cara `slicing` yang tepat untuk menghasilkan ['Edi', 'Cinta'] dari `list` tersebut:\"))\n",
        "# Menyiapkan jawaban Question 3\n",
        "correct_answers_7 = Part_3['Q7']\n",
        "# Options\n",
        "option_a_7 = widgets.Checkbox(value=False, description=\"nama_teman[-1::-2]\", layout=layouts)\n",
        "option_b_7 = widgets.Checkbox(value=False, description=\"nama_teman[-1:0:-2]\", layout=layouts)\n",
        "option_c_7 = widgets.Checkbox(value=False, description=\"nama_teman[4:0:-2]\", layout=layouts)\n",
        "option_d_7 = widgets.Checkbox(value=False, description=\"nama_teman[:0:-2]\", layout=layouts)\n",
        "options_7 = (option_a_7, option_b_7, option_c_7, option_d_7)\n",
        "# Result\n",
        "result_7 = widgets.Textarea(value=\"\", placeholder='Feedback', description='', disabled=True)\n",
        "# Button to check\n",
        "check_button_7 = widgets.Button(description=\"Cek Jawaban\")\n",
        "check_button_7.on_click(lambda event: check_answers(correct_answers_7, options_7, result_7))\n",
        "# Tampilkan Question 3\n",
        "display(option_a_7, option_b_7, option_c_7, option_d_7, check_button_7, result_7)\n",
        "display(Markdown(\"---\"))"
      ],
      "metadata": {
        "id": "ONGwjfPyuP8Q",
        "cellView": "form"
      },
      "execution_count": null,
      "outputs": []
    },
    {
      "cell_type": "code",
      "source": [
        "# Silahkan melakukan pengecekan indexing / slicing di sini\n",
        "len(nama_teman_baru)"
      ],
      "metadata": {
        "id": "xNS_gg2u0X52"
      },
      "execution_count": null,
      "outputs": []
    },
    {
      "cell_type": "markdown",
      "metadata": {
        "id": "JZ705wgCIqn4"
      },
      "source": [
        "## Copying\n",
        "Operasi ini umumnya jarang dilakukan, akan tetapi membuat duplikat dari sebuah `list` merupakan sebuah *good practice*, terutama ketika hendak melakukan pengolahan terhadap elemen dari `list` tersebut. Hal ini untuk memastikan bahwa data orijinal tidak mengalami perubahan, sehingga pada saat terjadi kesalahan dalam proses pengolahan, kita dapat melakukan *trace back* ke kondisi sebelumnyan dengan mudah.\n",
        "\n",
        "Untuk membuat copy dari sebuah `list` kita dapat menggunakan method `copy` seperti dicontohkan berikut di bawah ini:\n",
        "```python\n",
        "# Membuat sebuah copy dari nama_teman\n",
        "nama_teman_copy = nama_teman.copy()\n",
        "```"
      ]
    },
    {
      "cell_type": "code",
      "source": [
        "# @title ### Ilustrasi 4: Copying `list`\n",
        "\n",
        "# Membuat duplikat list angka ganjil\n",
        "angka_ganjil_copy = angka_ganjil.copy()\n",
        "# Membuat duplikat nama_teman\n",
        "nama_teman_baru = nama_teman.copy()\n",
        "# Melakukan proses perubahan\n",
        "angka_ganjil_copy[2] = angka_ganjil_copy[2]/4\n",
        "nama_teman_baru.insert(2, 'Rhoma')\n",
        "\n",
        "display(Markdown(\n",
        "    \"---\\n\"\n",
        "    \"### Cermati *Scripts* di bawah berikut:\\n\"\n",
        "    \"```python\\n\"\n",
        "    \"# Membuat duplikat list angka ganjil\\n\"\n",
        "    \"angka_ganjil_copy = angka_ganjil.copy()\\n\"\n",
        "    \"# Membuat duplikat nama_teman\\n\"\n",
        "    \"nama_teman_baru = nama_teman.copy()\\n\"\n",
        "    \"# Melakukan proses perubahan\\n\"\n",
        "    \"angka_ganjil_copy[2] = angka_ganjil_copy[2]/4\\n\"\n",
        "    \"nama_teman_baru.insert(2, 'Rhoma')\\n\"\n",
        "    \"```\\n\"\n",
        "    \"---\"\n",
        "))\n",
        "display(Markdown(\"### Pernyataan mana yang tidak benar:\"))\n",
        "\n",
        "# Jawaban Pertanyaan\n",
        "correct_answers_9 = Part_3['Q9']\n",
        "\n",
        "# Options\n",
        "option_a_9 = widgets.Checkbox(value=False, description=f\"angka_ganjil_copy = {str(angka_ganjil_copy)}\", layout=layouts)\n",
        "option_b_9 = widgets.Checkbox(value=False, description=f\"nama_teman_baru = {str(nama_teman_baru)}\", layout=layouts)\n",
        "option_c_9 = widgets.Checkbox(value=False, description=f\"angka_ganjil = {str(angka_ganjil)}\", layout=layouts)\n",
        "option_d_9 = widgets.Checkbox(value=False, description=f\"nama_teman = {str(nama_teman)}\", layout=layouts)\n",
        "options_9 = (option_a_9, option_b_9, option_c_9, option_d_9)\n",
        "\n",
        "# Result\n",
        "result_9 = widgets.Textarea(value=\"\", placeholder='Feedback', description='', disabled=True)\n",
        "\n",
        "# Button to check answers for Question\n",
        "check_button_9 = widgets.Button(description=\"Cek Jawaban\")\n",
        "check_button_9.on_click(lambda event: check_answers(correct_answers_9, options_9, result_9))\n",
        "\n",
        "# Tampilkan Question\n",
        "display(option_a_9, option_b_9, option_c_9, option_d_9, check_button_9, result_9)\n",
        "display(Markdown(\"---\"))"
      ],
      "metadata": {
        "id": "5PpmSnXiu_IL",
        "cellView": "form"
      },
      "execution_count": null,
      "outputs": []
    },
    {
      "cell_type": "markdown",
      "metadata": {
        "id": "JDEkiWu_DmS_"
      },
      "source": [
        "## [*Common Sequence Operations*](https://docs.python.org/3/library/stdtypes.html#common-sequence-operations) for `list`\n",
        "*Common Sequence Operations* adalah berbagai fungsi, methods dan operasi yang dapat dikenakan terhadap data bertipe sequence, antara lain:\n",
        "1. Fungsi `len()`;\n",
        "2. Method `count()`;\n",
        "3. Method `index()`;\n",
        "4. Method `sort()`;\n",
        "5. Method `reverse()`;\n",
        "6. Operasi Concatenate `list_1 + list_2`;\n",
        "7. Operasi Repetition `2 * list_1`;\n",
        "8. Fungsi `max()`; dan\n",
        "9. Fungsi `min()`;\n",
        "10. Operasi `in`;\n",
        "11. Operasi `not in`."
      ]
    },
    {
      "cell_type": "markdown",
      "source": [
        "### Ilustrasi 5: Common Sequence Operators"
      ],
      "metadata": {
        "id": "TyqKzA1eXjDu"
      }
    },
    {
      "cell_type": "code",
      "execution_count": null,
      "metadata": {
        "id": "M3C5VDzGjvIB"
      },
      "outputs": [],
      "source": [
        "# Menampilkan jumlah elemen pada sebuah list\n",
        "\n",
        "print(f\"Jumlah elemen pada list nama_teman = {len(nama_teman)}\")\n",
        "print(f\"Jumlah elemen pada list nama_teman_baru = {len(nama_teman_baru)}\")"
      ]
    },
    {
      "cell_type": "code",
      "execution_count": null,
      "metadata": {
        "id": "tc6DZ73OkGla"
      },
      "outputs": [],
      "source": [
        "# Menghitung banyaknya kemunculan sebuah elemen\n",
        "\n",
        "nama_teman_baru.count('Beni')"
      ]
    },
    {
      "cell_type": "code",
      "execution_count": null,
      "metadata": {
        "id": "gC9tnRsJkbh9"
      },
      "outputs": [],
      "source": [
        "# Menampilkan index dari elemen tertentu\n",
        "# jika elemen memiliki duplikat maka index yang ditampilkan adalah index terkecil\n",
        "\n",
        "nama_teman_baru.index('Dimas')"
      ]
    },
    {
      "cell_type": "code",
      "source": [
        "nama_teman_baru"
      ],
      "metadata": {
        "id": "HTt_NQ_S1Tud"
      },
      "execution_count": null,
      "outputs": []
    },
    {
      "cell_type": "code",
      "source": [
        "# Me-reverse order dari elemen pada list\n",
        "# Reverse itu bukanlah sorting\n",
        "nama_teman_baru.reverse()\n",
        "# Tampilkan hasis reverse ke layar\n",
        "print(nama_teman_baru)"
      ],
      "metadata": {
        "id": "EoLC0QJZi2ZQ"
      },
      "execution_count": null,
      "outputs": []
    },
    {
      "cell_type": "code",
      "execution_count": null,
      "metadata": {
        "id": "9AjnYrC8nWRe"
      },
      "outputs": [],
      "source": [
        "# Mengurutkan elemen pada list menggunakan method sort()\n",
        "# Method sort() akan melakukan perubahan secara 'inplace'\n",
        "\n",
        "# Ascending sorting\n",
        "nama_teman_baru.sort()\n",
        "print(f'List diurut secara Ascending: {nama_teman_baru}')\n",
        "\n",
        "# Descending sorting\n",
        "nama_teman_baru.sort(reverse=True)\n",
        "print(f'List diurut secara Descending: {nama_teman_baru}')"
      ]
    },
    {
      "cell_type": "code",
      "execution_count": null,
      "metadata": {
        "id": "KtxA7uHmPh51"
      },
      "outputs": [],
      "source": [
        "# Concatenation, menggabungkan list dengan list lain\n",
        "print(f\"Hasil concatenation nama_teman dan angka: {nama_teman+angka}\")"
      ]
    },
    {
      "cell_type": "code",
      "execution_count": null,
      "metadata": {
        "id": "6BtyqEERPzm0"
      },
      "outputs": [],
      "source": [
        "# Repetition, mengulang list\n",
        "print(2 * nama_teman)\n",
        "print(2 * angka)"
      ]
    },
    {
      "cell_type": "code",
      "execution_count": null,
      "metadata": {
        "id": "EeqE2FsxL2A4"
      },
      "outputs": [],
      "source": [
        "# Mencari elemen dengan value paling besar\n",
        "max(nama_teman_baru)"
      ]
    },
    {
      "cell_type": "code",
      "execution_count": null,
      "metadata": {
        "id": "MhhI1R_YMJpB"
      },
      "outputs": [],
      "source": [
        "# Mencari elemen dengan value paling kecil\n",
        "min(nama_teman_baru)"
      ]
    },
    {
      "cell_type": "code",
      "execution_count": null,
      "metadata": {
        "id": "LbWth0_lJ8gB"
      },
      "outputs": [],
      "source": [
        "# Melakukan pengecekan keberadaan 'Rhoma' pada list nama_teman\n",
        "\n",
        "'Edi' in nama_teman"
      ]
    },
    {
      "cell_type": "code",
      "execution_count": null,
      "metadata": {
        "id": "SEgGk5XkKIdU"
      },
      "outputs": [],
      "source": [
        "# Melakukan pengecekan ketidak-adaan 'Rhoma' pada list nama_teman\n",
        "\n",
        "'Edi' not in nama_teman"
      ]
    },
    {
      "cell_type": "markdown",
      "metadata": {
        "id": "XLxgVGTX9TSy"
      },
      "source": [
        "## Size modification\n",
        "Beberapa methods yang dapat mengubah ukuran dari sebuah `list`:\n",
        "1. Menambah elemen baru pada akhir sebuah list:\n",
        "```python\n",
        "nama_list.append(elemen_baru)\n",
        "```\n",
        "2. Menyisipkan elemen baru pada posisi tertentu:\n",
        "```python\n",
        "nama_list.insert(index_posisi, elemen_baru)\n",
        "```\n",
        "3. Menghapus elemen pada posisi index tertentu:\n",
        "```python\n",
        "nama_list.pop(indeks)\n",
        "```\n",
        "4. Menghapus elemen tertentu dari `list`:\n",
        "```python\n",
        "nama_list.remove(elemen)\n",
        "```\n",
        "5. Mengosongkan seluruh elemen dari `list:\n",
        "```python\n",
        "nama_list.clear()\n",
        "```"
      ]
    },
    {
      "cell_type": "markdown",
      "source": [
        "### Ilustrasi 6: Size Modification"
      ],
      "metadata": {
        "id": "tBcf918_YlHk"
      }
    },
    {
      "cell_type": "code",
      "execution_count": null,
      "metadata": {
        "id": "Bhut-OTQhHAT"
      },
      "outputs": [],
      "source": [
        "# Menambahkan elemen baru di akhir list\n",
        "\n",
        "nama_teman_baru.append('Ferdi')\n",
        "print(nama_teman_baru)"
      ]
    },
    {
      "cell_type": "code",
      "execution_count": null,
      "metadata": {
        "id": "VAvBlTqGk6iT"
      },
      "outputs": [],
      "source": [
        "# Menyisipkan elemen baru pada indeks posisi tertentu\n",
        "\n",
        "nama_teman_baru.insert(2, 'Canda')\n",
        "print(nama_teman_baru)"
      ]
    },
    {
      "cell_type": "code",
      "execution_count": null,
      "metadata": {
        "id": "wBUDNtMHmKOK"
      },
      "outputs": [],
      "source": [
        "# Menghapus elemen pada index posisional tertentu\n",
        "\n",
        "nama_teman_baru.pop(2)\n",
        "print(nama_teman_baru)"
      ]
    },
    {
      "cell_type": "code",
      "execution_count": null,
      "metadata": {
        "id": "7rtOiNMJmzqe"
      },
      "outputs": [],
      "source": [
        "# Menghapus elemen tertentu\n",
        "# Jika terdapat elemen yang terduplikat maka yang dihapus adalah value yang muncul pertama kali\n",
        "nama_teman_baru.append('Cinta')\n",
        "nama_teman_baru.remove('Cinta')\n",
        "print(nama_teman_baru)"
      ]
    },
    {
      "cell_type": "code",
      "execution_count": null,
      "metadata": {
        "id": "BmZ1HqighMV1"
      },
      "outputs": [],
      "source": [
        "# Mengosongkan nama_teman\n",
        "\n",
        "nama_teman_baru.clear()\n",
        "print(nama_teman_baru)"
      ]
    },
    {
      "cell_type": "code",
      "source": [
        "[nama for nama in nama_teman if nama!='Cinta']"
      ],
      "metadata": {
        "id": "dETqPVh647fq"
      },
      "execution_count": null,
      "outputs": []
    },
    {
      "cell_type": "markdown",
      "metadata": {
        "id": "bDYTPQ9yGNNo"
      },
      "source": [
        "## Elements mutations\n",
        "Cara melakukan mutasi terhadap elemen sebuah list:\n",
        "```python\n",
        "# Menggunakan Index\n",
        "nama_list[indeks_posisional]=elemen_pengganti\n",
        "\n",
        "# Menggunakan list comprehension\n",
        "mutated_list = [x if x!='Beni' else 'Budi' for x in nama_list]\n",
        "```"
      ]
    },
    {
      "cell_type": "markdown",
      "source": [
        "### Ilustrasi 7: Elements Mutation"
      ],
      "metadata": {
        "id": "srs3GwGQY1PB"
      }
    },
    {
      "cell_type": "code",
      "execution_count": null,
      "metadata": {
        "id": "oS2T-Ny_UJl4"
      },
      "outputs": [],
      "source": [
        "# Mengganti elemen pada index tertentu dari list nama_teman\n",
        "# Budi akan digantikan dengan Beni\n",
        "# Ketika terjadi mutasi terhadap elemen pada list hasil copy,\n",
        "# elemen pada list original tidak mengalami perubahan!!!\n",
        "\n",
        "# Merubah elemen index 1 menjadi 'Beni'\n",
        "nama_teman[1] = 'Beni'\n",
        "print(f\"{'HASIL PERUBAHAN MENGGUNAKAN INDEX':-^84}\")\n",
        "print(f\"{'Elemen pada list nama_teman': <32}: {nama_teman}\")\n",
        "print(f\"{'Elemen pada list nama_teman_baru': <32}: {nama_teman_baru}\\n\")\n",
        "\n",
        "# Merubah elemen bernilai == 'Beni' menjadi 'Budi'\n",
        "nama_teman = [x if x!='Beni' else 'Budi' for x in nama_teman]\n",
        "print(f\"{'HASIL PERUBAHAN MENGGUNAKAN LIST COMPREHENSION':-^84}\")\n",
        "print(f\"{'Elemen pada list nama_teman': <32}: {nama_teman}\")\n",
        "print(f\"{'Elemen pada list nama_teman_baru': <32}: {nama_teman_baru}\")"
      ]
    },
    {
      "cell_type": "markdown",
      "metadata": {
        "id": "GHo5_hELi74V"
      },
      "source": [
        "# EXERCISE 2: `list`\n",
        "Lakukan mutasi pada setiap elemen pada list angka_ganjil:\n",
        "1. Lakukan duplikat terhadap `angka_ganjil` dan assign ke variabel baru bernama `angka_untuk_dirubah`;\n",
        "2. Lakukan operasi pangkat 2 terhadap elemen `angka_untuk_dirubah` dengan indeks == 4;\n",
        "3. Lakukan operasi pangkat 0 terhadap seluruh elemen pada `angka_ganjil`, lalu assign ke variabel bernama `angka_satu`;\n",
        "4. Lakukan operasi perkalian angka 10 dengan setiap elemen ber-**indeks ganjil** pada `angka_ganjil`, lalu assign ke sebuah variabel bernama `perkalian_sepuluh_terpilih`."
      ]
    },
    {
      "cell_type": "code",
      "source": [
        "# 1. Duplikat angka_ganjil\n",
        "angka_untuk_dirubah = angka_ganjil.copy()\n",
        "print(angka_untuk_dirubah)"
      ],
      "metadata": {
        "id": "Qma66JR-6PRo"
      },
      "execution_count": null,
      "outputs": []
    },
    {
      "cell_type": "code",
      "execution_count": null,
      "metadata": {
        "id": "JbxfwelAQuQA"
      },
      "outputs": [],
      "source": [
        "# 2. Mutasi elemen ber-index == 4 pada angka_untuk_dirubah\n",
        "angka_untuk_dirubah[4] = angka_untuk_dirubah[4]**2\n",
        "print(angka_untuk_dirubah)"
      ]
    },
    {
      "cell_type": "code",
      "source": [
        "# 3. Operasi pangkat 0 terhadap seluruh elemen angka_ganjil\n",
        "angka_satu = [x**0 for x in angka_ganjil]\n",
        "print(angka_satu)"
      ],
      "metadata": {
        "id": "CpY-KNJD41A9"
      },
      "execution_count": null,
      "outputs": []
    },
    {
      "cell_type": "code",
      "source": [
        "# 4. Operasi perkalian 10 terhadap elemen berindeks ganjil dari angka_ganjil\n",
        "perkalian_sepuluh_terpilih = [angka_ganjil[x]*10 if x%2==1 else angka_ganjil[x] for x in range(len(angka_ganjil)) ]\n",
        "print(perkalian_sepuluh_terpilih)"
      ],
      "metadata": {
        "id": "crwvAfVz7XJR"
      },
      "execution_count": null,
      "outputs": []
    },
    {
      "cell_type": "code",
      "source": [
        "[x*10 if idx%2==1 else x for idx, x in enumerate(angka_ganjil)]"
      ],
      "metadata": {
        "id": "aZLCK097928s"
      },
      "execution_count": null,
      "outputs": []
    },
    {
      "cell_type": "markdown",
      "metadata": {
        "id": "FV_-gQW2rIiT"
      },
      "source": [
        "---\n",
        "# `Tuple`\n",
        "> Serupa dengan `list`, sebuah `tuple` berisikan objek bertipe rangkaian (*sequence*).\n",
        "\n",
        "Sebuah `tuple` memiliki karakteristik yang hampir seluruhnya mirip dengan `list`. Karakteristik yang membedakan `tuple` dari `list` adalah sifatnya yang ***immutable***, dengan kata lain sebuah `tuple` bersifat *fixed* dan *unchangeable*. Setelah sebuah `tuple` dibangun isinya tidak akan bisa berubah, sehingga biasanya `tuple` dipergunakan untuk menyimpan data yang bersifat konstan, seperti:\n",
        "1. Menyimpan nilai warna dalam format RGB (exp. red = (255, 0, 0));\n",
        "2. Menyimpan data geometri (exp. koordinat = (106.888111, 17.132424))."
      ]
    },
    {
      "cell_type": "markdown",
      "metadata": {
        "id": "umz2HU5OcYcx"
      },
      "source": [
        "### Construction\n",
        "Beberapa cara untuk membuat sebuah `tuple`:\n",
        "1. Menggunakan `comma literals`:\n",
        "```python\n",
        "nama_tuple = item_1, item_2, ..., item_n\n",
        "```\n",
        "2. Menggunakan `tuple literals`:\n",
        "```python\n",
        "nama_tuple = () # Membuat tuple kosong\n",
        "nama_tuple = (elemen_1, elemen_2, ..., elemen_n)\n",
        "```\n",
        "\n",
        "3. Menggunakan `type constructor`:\n",
        "```python\n",
        "nama_tuple = tuple() # Membuat tuple kosong\n",
        "nama_tuple = tuple(iterable)\n",
        "```"
      ]
    },
    {
      "cell_type": "code",
      "source": [
        "# @title ### Ilustrasi 8: `tuple` Construction\n",
        "# Membuat tuple dengan comma literals\n",
        "gaji_tuple = 1_000_000, 2_000_000, 3_000_000, 4_000_000, 5_000_000\n",
        "# Membuat tuple dengan tuple literals\n",
        "umur_tuple = (25, 20, 30, 40, 50)\n",
        "# Membuat tuple dengan type constructor\n",
        "kode_tuple = tuple(range(100, 501, 100))\n",
        "# Question 1\n",
        "display(Markdown(\"---\\n### 1. Mana yang bukan merupakan cara untuk membuat sebuah `tuple`?\"))\n",
        "# Menyediakan jawaban\n",
        "correct_answers_8 = Part_3['Q8']\n",
        "# Options\n",
        "option_a_8 = widgets.Checkbox(value=False, description=\"gaji_tuple = 1_000_000, 2_000_000, 3_000_000, 4_000_000, 5_000_000\", layout=layouts)\n",
        "option_b_8 = widgets.Checkbox(value=False, description=\"umur_tuple = (25, 20, 30, 40, 50)\", layout=layouts)\n",
        "option_c_8 = widgets.Checkbox(value=False, description=\"kode_tuple = tuple(range(100, 501, 100))\", layout=layouts)\n",
        "option_d_8 = widgets.Checkbox(value=False, description=\"kode_tuple = tuple(x**2 for x in tuple(range(100, 501, 100)))\", layout=layouts)\n",
        "option_e_8 = widgets.Checkbox(value=False, description=\"kode_tuple = (x**2 for x in range(100, 501, 100))\", layout=layouts)\n",
        "options_8 = (option_a_8, option_b_8, option_c_8, option_d_8, option_e_8)\n",
        "# Result\n",
        "result_8 = widgets.Textarea(value=\"\", placeholder='Feedback', description='', disabled=True)\n",
        "# Button to check answers for Question 1\n",
        "check_button_8 = widgets.Button(description=\"Cek Jawaban\")\n",
        "check_button_8.on_click(lambda event: check_answers(correct_answers_8, options_8, result_8))\n",
        "# Tampilkan Question 1\n",
        "display(option_a_8, option_b_8, option_c_8, option_d_8, option_e_8, check_button_8, result_8)"
      ],
      "metadata": {
        "id": "ai2Y3VfqIWom",
        "cellView": "form"
      },
      "execution_count": null,
      "outputs": []
    },
    {
      "cell_type": "code",
      "source": [
        "# cobalah untuk melakukan pengecekan tipe setiap output dari ekpresi pada pilihan di atas\n",
        "range_tuple = (x**2 for x in range(100, 501, 100))\n",
        "print(type(range_tuple))"
      ],
      "metadata": {
        "id": "0tp4Fp0_z8Vn"
      },
      "execution_count": null,
      "outputs": []
    },
    {
      "cell_type": "markdown",
      "metadata": {
        "id": "35VD-mo2goWl"
      },
      "source": [
        "## *Common Sequence Operators*\n",
        "Berbagai *common sequence operators* yang berlaku bagi `list` juga dapat diberlakukan terhadap `tuple`."
      ]
    },
    {
      "cell_type": "markdown",
      "source": [
        "### Ilustrasi 9: Common Sequence Operators for `tuple`"
      ],
      "metadata": {
        "id": "G8XhZdjLIgNw"
      }
    },
    {
      "cell_type": "code",
      "execution_count": null,
      "metadata": {
        "id": "7kOdOIElwOrD"
      },
      "outputs": [],
      "source": [
        "# Menampilkan jumlah elemen pada puluhan_tuple\n",
        "print(f\"Jumlah elemen pada umur_tuple: {len(umur_tuple)} elemen\")"
      ]
    },
    {
      "cell_type": "code",
      "execution_count": null,
      "metadata": {
        "id": "z0JRHxQVwQvv"
      },
      "outputs": [],
      "source": [
        "# Menampilkan kemunculan elemen bernilai 10 pada puluhan_tuple\n",
        "print(f\"Banyaknya nilai 20 pada umur_tuple: {umur_tuple.count(20)} elemen\")"
      ]
    },
    {
      "cell_type": "code",
      "execution_count": null,
      "metadata": {
        "id": "c0eDAOpEK-XN"
      },
      "outputs": [],
      "source": [
        "# Menampilkan indeks posisional dari sebuah elemen pada puluhan_tuple\n",
        "print(f\"Posisi index dari 30 pada umur_tuple adalah: index-{umur_tuple.index(30)}\")"
      ]
    },
    {
      "cell_type": "code",
      "execution_count": null,
      "metadata": {
        "id": "lBixP0HLwF7T"
      },
      "outputs": [],
      "source": [
        "# Menampilkan elemen dengan index posisional 3 pada tuple\n",
        "print(f\"Elemen pada posisi indeks-3 adalah: {umur_tuple[3]}\")"
      ]
    },
    {
      "cell_type": "code",
      "execution_count": null,
      "metadata": {
        "id": "9AU1z6_rwJbG"
      },
      "outputs": [],
      "source": [
        "# Slicing pada tuple\n",
        "print(umur_tuple[::2])"
      ]
    },
    {
      "cell_type": "code",
      "execution_count": null,
      "metadata": {
        "id": "KOQAHReIMXJX"
      },
      "outputs": [],
      "source": [
        "# Repetition sebanyak 3 kali\n",
        "print(umur_tuple*3)"
      ]
    },
    {
      "cell_type": "code",
      "execution_count": null,
      "metadata": {
        "id": "AYNBGPqFMnwd"
      },
      "outputs": [],
      "source": [
        "# Concatenation\n",
        "print(f\"Hasil concatenation umur_tuple dengan gaji_tuple = {umur_tuple+gaji_tuple}\")"
      ]
    },
    {
      "cell_type": "code",
      "execution_count": null,
      "metadata": {
        "id": "85LUmIpUNPoL"
      },
      "outputs": [],
      "source": [
        "# Mencari nilai max\n",
        "max(umur_tuple)"
      ]
    },
    {
      "cell_type": "code",
      "execution_count": null,
      "metadata": {
        "id": "PLEaabKpNXCm"
      },
      "outputs": [],
      "source": [
        "# Mencari nilai min\n",
        "min(umur_tuple)"
      ]
    },
    {
      "cell_type": "code",
      "execution_count": null,
      "metadata": {
        "id": "AxDSSIKoNdDt"
      },
      "outputs": [],
      "source": [
        "# Melakukan pengecekan keberadaan 70 pada puluhan_tuple\n",
        "70 in umur_tuple"
      ]
    },
    {
      "cell_type": "code",
      "execution_count": null,
      "metadata": {
        "id": "7Rr4rwtvNdbw"
      },
      "outputs": [],
      "source": [
        "# Melakukan pengecekan ketidak-adaan 70 pada puluhan_tuple\n",
        "\n",
        "70 not in umur_tuple"
      ]
    },
    {
      "cell_type": "code",
      "source": [
        "umur_tuple"
      ],
      "metadata": {
        "id": "ps6Q-YNP_sVT"
      },
      "execution_count": null,
      "outputs": []
    },
    {
      "cell_type": "markdown",
      "metadata": {
        "id": "tN7rubaBhJ6K"
      },
      "source": [
        "# EXERCISE 3: `tuple`\n",
        "**1** -- Buatlah sebuah `tuple` sebagai berikut:\n",
        "  1. Berisikan range angka bulat antara 100 hingga 0, dengan step penurunan sebesar 5;\n",
        "  3. Assign `tuple` tersebut ke variable `tuple_menurun`;\n",
        "  4. Tampilkan `tuple_menurun` ke layar.\n"
      ]
    },
    {
      "cell_type": "code",
      "execution_count": null,
      "metadata": {
        "id": "-JW5IZVDwMNY"
      },
      "outputs": [],
      "source": [
        "# Tuple integer 100 - 0, step 5\n",
        "tuple_menurun = tuple(range(100,-1,-5))\n",
        "# Tampilkan tuple ke layar\n",
        "print(tuple_menurun)"
      ]
    },
    {
      "cell_type": "markdown",
      "source": [
        "**2** -- Lakukan operasi pangkat 25 terhadap terhadap elemen berindex 25 pada `tuple_menurun`."
      ],
      "metadata": {
        "id": "jVaU5bgiyhtk"
      }
    },
    {
      "cell_type": "code",
      "source": [
        "tuple_menurun.sort(reverse=True)"
      ],
      "metadata": {
        "id": "8SFJY87_yJIs"
      },
      "execution_count": null,
      "outputs": []
    },
    {
      "cell_type": "markdown",
      "source": [
        "___\n",
        "# `pd.Series` Object\n",
        "\n",
        "> `pd.Series` adalah sebuah objek modul `pandas` yang berupa rangkaian object data 1 dimensional.\n",
        "\n",
        "Sebuah `pd.Series` dapat disusun dengan cara:\n",
        "1. Memasukkan sebuah `list` atau `tuple` ke dalam method `pd.Series`;\n",
        "2. Mengambil setiap elemen pada sebuah `columns` dari sebuah `DataFrame`; atau\n",
        "3. Mengambil setiap elemen pada sebuah `row` dari sebuah `DataFrame`.\n",
        "\n",
        "Sebuah `pd.Series` akan memiliki attribut/karakteristik hampir serupa dengan yang dimiliki oleh sebuah `list` atau `tuple`, terkecuali atribut index yang `zero-based`. Tidak seperti `list` dan `tuple`, index dari sebuah `pd.Series` bersifat fleksibel, dapat bertipe data apapun selama setiap index tersebut bersifat unik.\n",
        "\n"
      ],
      "metadata": {
        "id": "0OFwQTzSwECV"
      }
    },
    {
      "cell_type": "markdown",
      "source": [
        "### Ilustrasi 10: `pd.Series`"
      ],
      "metadata": {
        "id": "EN45KMg6LCgb"
      }
    },
    {
      "cell_type": "code",
      "source": [
        "# Mengimpor modul yang diperlukan\n",
        "import pandas as pd\n",
        "\n",
        "# Set file path\n",
        "file_path = \"https://storage.googleapis.com/dqlab-dataset/SuperStore.csv\"\n",
        "\n",
        "# Mengimport dataset ke dalam sebuah DataFrame\n",
        "df_sales = pd.read_csv(file_path)"
      ],
      "metadata": {
        "id": "U9T4s4Xvx9s6"
      },
      "execution_count": null,
      "outputs": []
    },
    {
      "cell_type": "code",
      "source": [
        "# 1.a. Membuat sebuah Series dari sebuah `list`\n",
        "print(\"`nama_teman` adalah sebuah\", type(nama_teman))\n",
        "# Masukkan `nama_teman` ke dalam `pd.Series`\n",
        "nama_teman_series = pd.Series(nama_teman, name='Nama_Teman')\n",
        "# `nama_teman_series` adalah sebuah `pd.Series`\n",
        "print(\"'nama_teman_series' adalah sebuah\", type(nama_teman_series))\n",
        "# Lihat isi nama_teman_series\n",
        "nama_teman_series"
      ],
      "metadata": {
        "id": "Rk3rS0Q2ysDQ"
      },
      "execution_count": null,
      "outputs": []
    },
    {
      "cell_type": "code",
      "source": [
        "# 1.b. Membuat sebuah Series dari sebuah `tuple`\n",
        "print(\"`umur_tuple` adalah sebuah\", type(umur_tuple))\n",
        "# Masukan `puluhan_tuple` ke dalam `pd.Series`\n",
        "umur_tuple_series = pd.Series(umur_tuple, name='Umur')\n",
        "# `puluhan_tuple_series` adalah sebuah `pd.Series`\n",
        "print(\"'umur_tuple_series' adalah sebuah\", type(umur_tuple_series))\n",
        "# lihat isi puluhan_tuple_series\n",
        "umur_tuple_series"
      ],
      "metadata": {
        "id": "2mQnApy8uCog"
      },
      "execution_count": null,
      "outputs": []
    },
    {
      "cell_type": "code",
      "source": [
        "# 2. Membuat sebuah Series dari sebuah kolom pada dataframe\n",
        "isi_kolom_sales = df_sales['Sales']\n",
        "# Cek tipe object dari `isi_kolom_sales`\n",
        "print(\"Seluruh elemen pada kolom `Sales` dari dataframe `df_sales` adalah\", type(isi_kolom_sales))\n",
        "# Melihat seluruh isi sebuah series berasal dari kolom dataframe\n",
        "isi_kolom_sales"
      ],
      "metadata": {
        "id": "aOIkiqgfzQbT"
      },
      "execution_count": null,
      "outputs": []
    },
    {
      "cell_type": "code",
      "source": [
        "# 3. Membuat sebuah Series dari sebuah row pada dataframe\n",
        "isi_row_tertentu = df_sales.loc[0, :]\n",
        "# Cek tipe object `isi_row_tertentu`\n",
        "print(\"Setiap row pada sebuah dataframe pada dasarnya adalah sebuah\", type(isi_row_tertentu))\n",
        "# Melihat isi sebuah series berasal dari row dataframe\n",
        "isi_row_tertentu"
      ],
      "metadata": {
        "id": "RuP_GFVGzpYF"
      },
      "execution_count": null,
      "outputs": []
    },
    {
      "cell_type": "code",
      "source": [
        "# Menunjukkan nama dari sebuah Series dilakukan dengan menggunakan attribut `name`\n",
        "nama_teman_series.name"
      ],
      "metadata": {
        "id": "Y41hYfvBse5R"
      },
      "execution_count": null,
      "outputs": []
    },
    {
      "cell_type": "code",
      "source": [
        "# Menunjukkan berbagai index pada sebuah Series dilakukan dengan menggunakan attribut `index`\n",
        "isi_row_tertentu.index"
      ],
      "metadata": {
        "id": "qqfTP8Mlr-4W"
      },
      "execution_count": null,
      "outputs": []
    },
    {
      "cell_type": "code",
      "source": [
        "# Menunjukkan besaran dimensi dari sebuah Series\n",
        "isi_row_tertentu.shape"
      ],
      "metadata": {
        "id": "VPtnfEJqtVe5"
      },
      "execution_count": null,
      "outputs": []
    },
    {
      "cell_type": "code",
      "source": [
        "# Menampilkan elemen tertentu dari sebuah Series dapat dilakukan menggunakan indexnya\n",
        "print(\"Elemen dengan index `0` pada `nama_teman_series` adalah\", nama_teman_series[0])\n",
        "print(\"Elemen dengan index `0` pada `isi_kolom_sales` adalah\", isi_kolom_sales[0])\n",
        "print(\"Elemen dengan index `State` pada `isi_row_tertentu` adalah\", isi_row_tertentu['State'])"
      ],
      "metadata": {
        "id": "tZFS5wah0tJ1"
      },
      "execution_count": null,
      "outputs": []
    },
    {
      "cell_type": "markdown",
      "metadata": {
        "id": "jaqzhRxwrLh1"
      },
      "source": [
        "---\n",
        "# `Set`\n",
        "> `Set` adalah sebuah objek berisi koleksi objek yang *unordered*, bersifat unik, dan *hashable*.\n",
        "\n",
        "`Set` adalah sebuah tipe data di Python yang berisi kumpulan elemen unik dan *unordered*. Artinya, tidak ada elemen yang terduplikasi dalam `Set`, dan elemen-elemen di dalamnya tidak memiliki urutan tertentu seperti halnya pada *list* atau *tuple*. Ini berguna saat kita hanya perlu memastikan bahwa setiap item hanya muncul sekali.\n",
        "\n",
        "Setiap elemen dalam `Set` bersifat *hashable*, yang berarti elemen-elemen tersebut dapat memiliki nilai unik yang memudahkan Python untuk memproses dan mencari elemen dalam `Set` dengan cepat. Struktur data `Set` ini dioptimalkan untuk operasi keanggotaan (membership testing) dan perbandingan.\n",
        "\n",
        "Dalam praktek pengolahan data dengan menggunakan Python, `Set` sering digunakan untuk:\n",
        "- Menyaring duplikasi dari data.\n",
        "- Melakukan tes cepat apakah suatu item terdapat dalam kumpulan.\n",
        "- Melakukan operasi himpunan seperti penggabungan dan irisan pada data yang unik."
      ]
    },
    {
      "cell_type": "markdown",
      "metadata": {
        "id": "lXFsp506Liv4"
      },
      "source": [
        "## `Set` Construction\n",
        "Beberapa cara membuat set:\n",
        "1. Menggunakan `set constructor`:\n",
        "```python\n",
        "nama_set = set() # Membuat set kosong\n",
        "nama_set = set(iterable)\n",
        "```\n",
        "2. Menggunakan `type literals`:\n",
        "```python\n",
        "nama_set = {objek_1, objek_2, ..., objek_n}\n",
        "```"
      ]
    },
    {
      "cell_type": "markdown",
      "source": [
        "### Ilustrasi 11: `set` Construction"
      ],
      "metadata": {
        "id": "V9X5s6HDYceU"
      }
    },
    {
      "cell_type": "code",
      "execution_count": null,
      "metadata": {
        "id": "wgnrjwk_A4rN"
      },
      "outputs": [],
      "source": [
        "# Membuat set dari list nama_teman menggunakan constructor\n",
        "\n",
        "nama_teman_set = set(nama_teman)\n",
        "print(nama_teman_set)"
      ]
    },
    {
      "cell_type": "code",
      "execution_count": null,
      "metadata": {
        "id": "ahEti0sVH9C9"
      },
      "outputs": [],
      "source": [
        "# Membuat set menggunakan literals\n",
        "\n",
        "teman_lama_set = {\"Rhoma\", \"Ani\", \"Ridho\", \"Soneta\"}\n",
        "print(teman_lama_set)"
      ]
    },
    {
      "cell_type": "markdown",
      "metadata": {
        "id": "J1rlldykEz60"
      },
      "source": [
        "## Size modification\n",
        "Jumlah elemen dalam sebuah `set` dapat dirubah dengan menggunakan empat method berikut:\n",
        "1. `add`;\n",
        "2. `update`;\n",
        "3. `remove`; dan\n",
        "4. `discard`.\n"
      ]
    },
    {
      "cell_type": "markdown",
      "source": [
        "### Ilustrasi 12: `set` Size Modification"
      ],
      "metadata": {
        "id": "iE2EHL8aaOfe"
      }
    },
    {
      "cell_type": "code",
      "execution_count": null,
      "metadata": {
        "id": "C_wlJTlpKMT5"
      },
      "outputs": [],
      "source": [
        "# Menambah sebuah elemen baru ke dalam set\n",
        "\n",
        "nama_teman_set.add('Ani')\n",
        "print(nama_teman_set)"
      ]
    },
    {
      "cell_type": "code",
      "execution_count": null,
      "metadata": {
        "id": "R9CmV3mCCm2j"
      },
      "outputs": [],
      "source": [
        "# Menambahkan sebuah set lain,\n",
        "\n",
        "nama_teman_set.update({'Firman','Rudi', 'Beni'})\n",
        "# Apa yang terjadi jika menambah elemen yang sudah ada sebelumnya??\n",
        "\n",
        "print(nama_teman_set)"
      ]
    },
    {
      "cell_type": "code",
      "execution_count": null,
      "metadata": {
        "id": "BbEohvJVCt6h"
      },
      "outputs": [],
      "source": [
        "# Me-remove 'Rudi' dari himpunan\n",
        "\n",
        "nama_teman_set.remove('Rudi')\n",
        "\n",
        "print(nama_teman_set)"
      ]
    },
    {
      "cell_type": "code",
      "execution_count": null,
      "metadata": {
        "id": "fY40xiHiC2f3"
      },
      "outputs": [],
      "source": [
        "# Apa yang terjadi jika mencoba untuk me-remove elemen yang tidak ada pada set??\n",
        "\n",
        "nama_teman_set.remove('Tina')\n",
        "print(nama_teman_set)"
      ]
    },
    {
      "cell_type": "code",
      "execution_count": null,
      "metadata": {
        "id": "2Rhif0mLCyWQ"
      },
      "outputs": [],
      "source": [
        "# Men-discard 'Firman' dari set\n",
        "\n",
        "nama_teman_set.discard('Firman')\n",
        "\n",
        "print(nama_teman_set)"
      ]
    },
    {
      "cell_type": "code",
      "execution_count": null,
      "metadata": {
        "id": "Aw4neUI5HU5_"
      },
      "outputs": [],
      "source": [
        "# Men-discard elemen yang tidak ada pada set\n",
        "\n",
        "nama_teman_set.discard('Paimin')\n",
        "print(nama_teman_set)"
      ]
    },
    {
      "cell_type": "markdown",
      "metadata": {
        "id": "Q59wcpT2IrxT"
      },
      "source": [
        "## *Common Sequence Operators*\n",
        "\n",
        "Karena perbedaan karakteristik elemen pada `set`, maka tidak seluruh *common sequence operators* dapat dikenakan. Berikut ini adalah beberapa operators yang dapat dikenakan terhadap sebuah `set`:"
      ]
    },
    {
      "cell_type": "markdown",
      "source": [
        "### Ilustrasi 13: Common Sequence Operators for `set`"
      ],
      "metadata": {
        "id": "4xJjn6ZBaw6z"
      }
    },
    {
      "cell_type": "code",
      "execution_count": null,
      "metadata": {
        "id": "Pww11NJrO7pk"
      },
      "outputs": [],
      "source": [
        "# Menampilkan jumlah elemen pada nama_teman_set\n",
        "print(f\"Jumlah elemen pada nama_teman_set: {len(nama_teman_set)} elemen\")"
      ]
    },
    {
      "cell_type": "code",
      "execution_count": null,
      "metadata": {
        "id": "omK8DzYOOtJg"
      },
      "outputs": [],
      "source": [
        "# Mencari nilai max\n",
        "max(nama_teman_set)"
      ]
    },
    {
      "cell_type": "code",
      "execution_count": null,
      "metadata": {
        "id": "j9APrqioOtJg"
      },
      "outputs": [],
      "source": [
        "# Mencari nilai min\n",
        "min(nama_teman_set)"
      ]
    },
    {
      "cell_type": "code",
      "execution_count": null,
      "metadata": {
        "id": "2_wDacRGOtJg"
      },
      "outputs": [],
      "source": [
        "# Melakukan pengecekan keberadaan 'Ani' pada nama_teman_set\n",
        "'Ani' in nama_teman_set"
      ]
    },
    {
      "cell_type": "code",
      "execution_count": null,
      "metadata": {
        "id": "YzLj800SOtJg"
      },
      "outputs": [],
      "source": [
        "# Melakukan pengecekan ketidak-adaan 'Ani' pada nama_teman_set\n",
        "'Ani' not in nama_teman_set"
      ]
    },
    {
      "cell_type": "markdown",
      "source": [
        "## Operations & Methods\n",
        "Python menyediakan beberapa operasi bawaan yang efisien untuk bekerja dengan `Set`, seperti:\n",
        "- **Gabungan (Union)**, untuk menggabungkan dua atau lebih set.\n",
        "- **Irisan (Intersection)**, untuk mendapatkan elemen yang ada di kedua set.\n",
        "- **Selisih (Difference)**, untuk mendapatkan elemen yang ada di satu set tetapi tidak di set lain.\n",
        "- **Eksklusif (Symmetric Difference)**, untuk mendapatkan semua elemen yang hanya ada di salah satu set saja.\n"
      ],
      "metadata": {
        "id": "FWR0u2qqRPlU"
      }
    },
    {
      "cell_type": "markdown",
      "source": [
        "### Ilustrasi 14: `set` Operations & Methods"
      ],
      "metadata": {
        "id": "fCuZmq6HrmXQ"
      }
    },
    {
      "cell_type": "code",
      "execution_count": null,
      "metadata": {
        "id": "l8ALKKIfDTLH"
      },
      "outputs": [],
      "source": [
        "# Menggabungkan dua buah set dengan method 'union()'\n",
        "print(f\"Union dari nama_teman_set & teman_lama_set: {nama_teman_set.union(teman_lama_set)}\")"
      ]
    },
    {
      "cell_type": "code",
      "execution_count": null,
      "metadata": {
        "id": "qTdD3pxHS705"
      },
      "outputs": [],
      "source": [
        "# Menggabungkan dua buah set dengan operator '|'\n",
        "print(f\"Union dari nama_teman_set & teman_lama_set: {nama_teman_set | teman_lama_set}\")"
      ]
    },
    {
      "cell_type": "code",
      "execution_count": null,
      "metadata": {
        "id": "ugqbj_qDC_gL"
      },
      "outputs": [],
      "source": [
        "# Mencari elemen yang berbeda pada dua buah set dengan method 'difference()'\n",
        "print(f\"Elemen nama_teman_set yang tidak ada pada teman_lama_set: {nama_teman_set.difference(teman_lama_set)}\")"
      ]
    },
    {
      "cell_type": "code",
      "execution_count": null,
      "metadata": {
        "id": "bxScuT_oTIkq"
      },
      "outputs": [],
      "source": [
        "# Mencari elemen yang berbeda pada dua buah set dengan operator '-'\n",
        "print(f\"Elemen nama_teman_set yang tidak ada pada teman_lama_set: {nama_teman_set - teman_lama_set}\")"
      ]
    },
    {
      "cell_type": "code",
      "execution_count": null,
      "metadata": {
        "id": "dJ1lYuGHDI3G"
      },
      "outputs": [],
      "source": [
        "# Mencari elemen yang beririsan pada dua buah set dengan method 'intersection()'\n",
        "print(f\"Elemen nama_teman_set yang beririsan dengan teman_lama_set: {nama_teman_set.intersection(teman_lama_set)}\")"
      ]
    },
    {
      "cell_type": "code",
      "source": [
        "# Mencari elemen yang beririsan pada dua buah set dengan operator '&'\n",
        "print(f\"Elemen nama_teman_set yang beririsan dengan teman_lama_set: {nama_teman_set & teman_lama_set}\")"
      ],
      "metadata": {
        "id": "oqwB3CW9TUnW"
      },
      "execution_count": null,
      "outputs": []
    },
    {
      "cell_type": "code",
      "source": [
        "# Mencari semua elemen yang hanya ada di salah satu set saja dengan `symmetric_difference`\n",
        "print(f\"Semua elemen yang hanya ada pada salah satu set: {nama_teman_set.symmetric_difference(teman_lama_set)}\")"
      ],
      "metadata": {
        "id": "iGcGSA6Xq0Ih"
      },
      "execution_count": null,
      "outputs": []
    },
    {
      "cell_type": "code",
      "source": [
        "# Mencari semua elemen yang hanya ada di salah satu set saja dengan `^`\n",
        "print(f\"Semua elemen yang hanya ada pada salah satu set: {nama_teman_set ^ teman_lama_set}\")"
      ],
      "metadata": {
        "id": "OkhlTQltrYn7"
      },
      "execution_count": null,
      "outputs": []
    },
    {
      "cell_type": "markdown",
      "source": [
        "___\n",
        "# EXERCISE 4: `set`\n",
        "Lengkapilah setiap script pada `cells` di bawah berikut, agar setiap script dapat:\n",
        "1. Membuat sebuah object `pd.Series` berisi setiap elemen pada kolom `State` pada `df_sales`;\n",
        "2. Melakukan pengecekan Tipe object yang dihasilkan proses di atas;\n",
        "3. Melakukan pengecekan jumlah elemen pada object tersebut;\n",
        "4. Melakukan pengecekan object tersebut menjadi sebuah `set`;\n",
        "5. Melakukan pengecekan jumlah elemen pada `set` tersebut;\n",
        "6. Menampilkan isi dari `set` tersebut dari memory;\n",
        "7. Mengakses elemen urutan pertama dari `set` tersebut;\n",
        "8. Menampilkan setiap elemen pada `set` tersebut ke layar menggunakan loop.\n"
      ],
      "metadata": {
        "id": "z2i_C8Z2VYMY"
      }
    },
    {
      "cell_type": "code",
      "source": [
        "# 1. Buat series assign ke variabel `States_Recorded`\n",
        "States_Recorded = pd.Series(df_sales['State'])"
      ],
      "metadata": {
        "id": "VwLrE5_cVcs7"
      },
      "execution_count": null,
      "outputs": []
    },
    {
      "cell_type": "code",
      "source": [
        "# 2. Cek Tipe object\n",
        "type(States_Recorded)"
      ],
      "metadata": {
        "id": "BD0T6cMCcxRc"
      },
      "execution_count": null,
      "outputs": []
    },
    {
      "cell_type": "code",
      "source": [
        "# 3. Check jumlah elemen dalam series\n",
        "len(States_Recorded)"
      ],
      "metadata": {
        "id": "eAuKRoZbb5aI"
      },
      "execution_count": null,
      "outputs": []
    },
    {
      "cell_type": "code",
      "source": [
        "# 4. Buat sebuah set dari `States_Recorded` assign ke variabel `States_Set`\n",
        "States_Set = set(States_Recorded)"
      ],
      "metadata": {
        "id": "6eq3FfBDZIrx"
      },
      "execution_count": null,
      "outputs": []
    },
    {
      "cell_type": "code",
      "source": [
        "# 5. Cek panjang dari set\n",
        "len(States_Set)"
      ],
      "metadata": {
        "id": "OVMmvwVBj545"
      },
      "execution_count": null,
      "outputs": []
    },
    {
      "cell_type": "code",
      "source": [
        "# 6. Tampilkan isi Set dari memory\n",
        "States_Set"
      ],
      "metadata": {
        "id": "hcVX_D8NjfA5"
      },
      "execution_count": null,
      "outputs": []
    },
    {
      "cell_type": "code",
      "source": [
        "# 7. Cobalah untuk melihat elemen pertama\n",
        "States_Set[0]"
      ],
      "metadata": {
        "id": "7hZDwGVrkg3M"
      },
      "execution_count": null,
      "outputs": []
    },
    {
      "cell_type": "code",
      "source": [
        "# Print setiap elemen pada States_Set menggunakan for loop\n",
        "for state in States_Set:\n",
        "  print(state)"
      ],
      "metadata": {
        "id": "BRSREdmlk2tM"
      },
      "execution_count": null,
      "outputs": []
    },
    {
      "cell_type": "markdown",
      "metadata": {
        "id": "TXlh9tERrM-H"
      },
      "source": [
        "---\n",
        "# `Dictionary`\n",
        "> `Dictionary` adalah struktur data dalam Python yang menyimpan data dalam bentuk pasangan *key*--*value*, merupakan jenis data yang sangat berguna saat kita ingin mengasosiasikan atau melakukan pemetaan data.\n",
        "\n",
        "Dictionary memiliki karakteristik sebagai berikut:\n",
        "- ***Unordered***: Urutan pasangan `key-value` dalam `dictionary` tidak dijamin konsisten dan bisa berubah seiring waktu.\n",
        "- ***Mutable***: Dimungkinkan untuk mengubah, menambah, atau menghapus pasangan `key-value` setelah `dictionary` dibuat.\n",
        "- ***Indexed by Keys***: Akses elemen `dictionary` dilakukan menggunakan `key`, bukan posisi index seperti pada `list`.\n",
        "- ***Unique Keys***: Setiap *key* dalam `dictionary` harus unik. Jika terdapat `value` dengan `key` terduplikat, maka value terakhir yang ditambahkan akan otomatis menggantikan `value` sebelumnya.\n",
        "- ***Heterogeneous Values***: `value` yang disimpan dalam `dictionary` dapat berupa objek dengan tipe data apa pun, termasuk `list`, `tuple`, `set`, atau bahkan `dictionary` lainnya."
      ]
    },
    {
      "cell_type": "markdown",
      "source": [
        "## Construction\n",
        "Beberapa cara yang lazim digunakan untuk menyusun `dictionary`:\n",
        "1. `type literals`:\n",
        "```python\n",
        "nama_dictionary = {} # Membuat dictionary kosong\n",
        "nama_dictionary = {\n",
        "  'key_1': 'value_1',\n",
        "  'key_2': 'value_2',\n",
        "  'key_n': 'value_n'\n",
        "}\n",
        "```\n",
        "2. `dict constructor`:\n",
        "```python\n",
        "nama_dictionary = dict() # Membuat dictionary kosong\n",
        "nama_dictionary = dict(\n",
        "   key_1='value_1',\n",
        "   key_2='value_2',\n",
        "   key_n='value_n'\n",
        ")\n",
        "```\n",
        "3. `zip method`:\n",
        "```python\n",
        "keys = ['key1', 'key2', 'key3']\n",
        "values = ['value1', 'value2', 'value3']\n",
        "nama_dict = dict(zip(keys, values))\n",
        "```"
      ],
      "metadata": {
        "id": "_QI9MQ0rgH15"
      }
    },
    {
      "cell_type": "markdown",
      "source": [
        "### Ilustrasi 15: `dictionary` Construction"
      ],
      "metadata": {
        "id": "HO4c-SrgwzjI"
      }
    },
    {
      "cell_type": "code",
      "execution_count": null,
      "metadata": {
        "id": "YIXprrdEkAkX"
      },
      "outputs": [],
      "source": [
        "# Membuat dictionary dengan literals\n",
        "\n",
        "pegawai_1 = {\n",
        "\t'Nama': 'Dicky',\n",
        "\t'Usia': 30,\n",
        "\t'Role': 'Data Analyst',\n",
        "\t'Dept': 'Marketing'\n",
        "}\n",
        "print(pegawai_1)"
      ]
    },
    {
      "cell_type": "code",
      "source": [
        "# Membuat dictionary dengan constructor\n",
        "\n",
        "pegawai_2 = dict(\n",
        "    Nama='Dika',\n",
        "    Usia=25,\n",
        "    Role='Data Analyst',\n",
        "    Dept='Marketing'\n",
        ")\n",
        "print(pegawai_2)"
      ],
      "metadata": {
        "id": "mpuHsM4OhuOE"
      },
      "execution_count": null,
      "outputs": []
    },
    {
      "cell_type": "markdown",
      "source": [
        "## Access to elements\n",
        "Terdapat dua cara yang lazimnya dipergunakan untuk mengakses elemen pada sebuah `dictionary`:\n",
        "1. Menggunakan `key`\n",
        "```python\n",
        "dictionary['key'] # Output: 'value'\n",
        "```\n",
        "2. Menggunakan method `get`\n",
        "```python\n",
        "dictionary.get('key', 'value_if_no_key_is_found')\n",
        "```"
      ],
      "metadata": {
        "id": "us0Ck0k9kBnn"
      }
    },
    {
      "cell_type": "markdown",
      "source": [
        "### Ilustrasi 16: Access to Elements"
      ],
      "metadata": {
        "id": "_FCwhjWax40-"
      }
    },
    {
      "cell_type": "code",
      "execution_count": null,
      "metadata": {
        "id": "Li8_-BDEs7WW"
      },
      "outputs": [],
      "source": [
        "# Memanggil value dari dictionary menggunakan key\n",
        "\n",
        "print(pegawai_1['Nama'])\n",
        "print(pegawai_1['Gaji']) # Memanggil key yang tidak terdapat pada dictionary akan menyebabkan error"
      ]
    },
    {
      "cell_type": "code",
      "source": [
        "# Memanggil value dari dictionary menggunakan method 'get()'\n",
        "\n",
        "print(pegawai_1.get('Nama'))\n",
        "print(pegawai_1.get('Gaji')) # Memanggil key yang tidak ada, tidak menyebabkan error\n",
        "print(pegawai_1.get('Gaji', 'Key tersebut tidak ditemukan!'))"
      ],
      "metadata": {
        "id": "k-I6YksTkgB0"
      },
      "execution_count": null,
      "outputs": []
    },
    {
      "cell_type": "markdown",
      "source": [
        "## Size modification\n",
        "Modifikasi jumlah elemen pada sebuah `dictionary` dapat terjadi ketika dilakukan:\n",
        "1. Penambahan elemen, dengan cara:\n",
        "```python\n",
        "dictionary['key']='value'\n",
        "```\n",
        "  **Catatan**: Jika `key` yang dituliskan belum terdapat pada `dictionary`, maka akan terjadi penambahan elemen `key`:`value` pada `dictionary` tersebut. Sedangkan jika `key` yang dituliskan sudah ada, maka tidak akan terjadi penambahan elemen, akan tetapi akan terjadi perubahan `value` yang disimpan dengan `key` tersebut pada `dictionary`.\n",
        "2. Pengurangan elemen, dengan cara:\n",
        "```python\n",
        "del dictionary['key']\n",
        "```"
      ],
      "metadata": {
        "id": "_bQhl8IhlmUC"
      }
    },
    {
      "cell_type": "markdown",
      "source": [
        "### Ilustrasi 17: Size Modification"
      ],
      "metadata": {
        "id": "80YF5-bty7iQ"
      }
    },
    {
      "cell_type": "code",
      "execution_count": null,
      "metadata": {
        "id": "6iyvfORls9z0"
      },
      "outputs": [],
      "source": [
        "# Mengganti nilai pada dictionary\n",
        "\n",
        "pegawai_1['Nama'] = 'Ricky'\n",
        "\n",
        "print(pegawai_1)"
      ]
    },
    {
      "cell_type": "code",
      "execution_count": null,
      "metadata": {
        "id": "btXvZzcctAe_"
      },
      "outputs": [],
      "source": [
        "# Menambahkan key baru beserta valuenya\n",
        "\n",
        "pegawai_1['Gaji'] = 10_000_000\n",
        "pegawai_2['Gaji'] = 9_500_000\n",
        "\n",
        "print(pegawai_1)\n",
        "print(pegawai_2)"
      ]
    },
    {
      "cell_type": "code",
      "execution_count": null,
      "metadata": {
        "id": "j_7U3L22tBTR"
      },
      "outputs": [],
      "source": [
        "# Menghapus key beserta valuenya\n",
        "\n",
        "del pegawai_1['Role']\n",
        "del pegawai_2['Role']\n",
        "\n",
        "print(pegawai_1)\n",
        "print(pegawai_2)"
      ]
    },
    {
      "cell_type": "markdown",
      "source": [
        "## Methods\n",
        "Beberapa methods lain yang sangat berguna dalam pemanfaatan object `dictionary` adalah sebagai berikut:\n",
        "1. `keys`;\n",
        "2. `values`;\n",
        "3. `items`;\n",
        "4. `copy`;\n",
        "5. `clear`; dan\n",
        "6. `get`.\n",
        "Adapun penggunaan masing-masing method tersebut dapat dicoba pada examples di bawah berikut."
      ],
      "metadata": {
        "id": "f8XizLr5l0pf"
      }
    },
    {
      "cell_type": "markdown",
      "source": [
        "### Ilustrasi 18: `dictionary` Methods"
      ],
      "metadata": {
        "id": "luQK5fL56NMP"
      }
    },
    {
      "cell_type": "code",
      "execution_count": null,
      "metadata": {
        "id": "onRJzBXktK64"
      },
      "outputs": [],
      "source": [
        "# Menampilkan daftar key dari dictionary\n",
        "pegawai_1.keys()"
      ]
    },
    {
      "cell_type": "code",
      "execution_count": null,
      "metadata": {
        "id": "YCIxOTZMuLPk"
      },
      "outputs": [],
      "source": [
        "# Menampilkan daftar values\n",
        "pegawai_1.values()"
      ]
    },
    {
      "cell_type": "code",
      "execution_count": null,
      "metadata": {
        "id": "7wvf6JiuuMep"
      },
      "outputs": [],
      "source": [
        "# Menampilkan pasangan key value dalam bentuk list of tuples\n",
        "pegawai_1.items()"
      ]
    },
    {
      "cell_type": "code",
      "execution_count": null,
      "metadata": {
        "id": "-_fzyG_XuNoa"
      },
      "outputs": [],
      "source": [
        "# menyalin dictionary\n",
        "copy_of_pegawai_1 = pegawai_1.copy()\n",
        "print(copy_of_pegawai_1)"
      ]
    },
    {
      "cell_type": "code",
      "execution_count": null,
      "metadata": {
        "id": "d0Ozu2fDOfOc"
      },
      "outputs": [],
      "source": [
        "# menghapus seluruh isi dictionary\n",
        "copy_of_pegawai_1.clear()\n",
        "print(copy_of_pegawai_1)"
      ]
    },
    {
      "cell_type": "code",
      "source": [
        "# Menampilkan data yang disimpan pada sebuah dictionary\n",
        "pegawai_1['Nama']"
      ],
      "metadata": {
        "id": "dL0b1-grvf9V"
      },
      "execution_count": null,
      "outputs": []
    },
    {
      "cell_type": "code",
      "source": [
        "# Jika key yang diinput tidak ditemukan pada dictionary\n",
        "pegawai_1['Alamat']"
      ],
      "metadata": {
        "id": "qjF12u9bwBNg"
      },
      "execution_count": null,
      "outputs": []
    },
    {
      "cell_type": "code",
      "source": [
        "# Agar tidak menghasilkan error saat pencarian data\n",
        "pegawai_1.get('Alamat')"
      ],
      "metadata": {
        "id": "3xIYCr_3wOIc"
      },
      "execution_count": null,
      "outputs": []
    },
    {
      "cell_type": "code",
      "source": [
        "# Untuk memberikan keterangan \"Data yang dicari tidak ada dalam database!\"\n",
        "pegawai_1.get('Alamat', \"Data yang dicari tidak ada dalam database!\")"
      ],
      "metadata": {
        "id": "wuvU2rEywXRs"
      },
      "execution_count": null,
      "outputs": []
    },
    {
      "cell_type": "markdown",
      "source": [
        "# EXERCISE 5: `dictionary`\n",
        "1. Buat sebuah `list` berisikan dua `dictionary` pegawai_1 dan pegawai_2, lalu *assign* ke variabel `list_pegawai`;\n",
        "2. Gunakan teknik `list comprehension` untuk mengambil hanya setiap *values* dari kedua pegawai pada `list_pegawai`;\n",
        "3. Gunakan teknik `list comprehension` untuk mengambil hanya data `Nama` dan `Usia` dari kedua pegawai pada `list_pegawai`;\n",
        "4. Gunakan teknik `list comprehension` untuk melakukan filtering data\n",
        " `Usia` pada `list_pegawai` yang memiliki value `Nama` == 'Dika';\n",
        "5. Gunakan teknis `list comprehension` untuk melakukan filtering data pegawai yang memiliki nilai gaji dibawah 10 juta."
      ],
      "metadata": {
        "id": "I1V_hmANmBTg"
      }
    },
    {
      "cell_type": "code",
      "source": [
        "# 1. Buat list_pegawai\n",
        "list_pegawai = [pegawai_1, pegawai_2]\n",
        "print(list_pegawai)"
      ],
      "metadata": {
        "id": "IjCnzfHXsyxV"
      },
      "execution_count": null,
      "outputs": []
    },
    {
      "cell_type": "code",
      "source": [
        "# 2. Tampilkan hanya item values saja\n",
        "[data.values() for data in list_pegawai]"
      ],
      "metadata": {
        "id": "BZNNWswtxcL5"
      },
      "execution_count": null,
      "outputs": []
    },
    {
      "cell_type": "code",
      "source": [
        "# 3. Tampilkan data 'Nama' dan 'Usia' saja\n",
        "[(data['Nama'], data['Usia']) for data in list_pegawai]"
      ],
      "metadata": {
        "id": "M1u1jeLZv8kl"
      },
      "execution_count": null,
      "outputs": []
    },
    {
      "cell_type": "code",
      "source": [
        "# 4. Tampilkan hanya data 'Usia' dari pegawai bernama 'Dika'\n",
        "[data['Usia'] for data in list_pegawai if data['Nama'] == 'Dika']"
      ],
      "metadata": {
        "id": "mY7DUdJ9s-qw"
      },
      "execution_count": null,
      "outputs": []
    },
    {
      "cell_type": "code",
      "source": [
        "# 5. Tampilkan data pegawai yang nilai 'Gaji' di bawah 10 juta\n",
        "[data for data in list_pegawai if data['Gaji'] < 10_000_000]"
      ],
      "metadata": {
        "id": "Sul4s2AOzEmP"
      },
      "execution_count": null,
      "outputs": []
    },
    {
      "cell_type": "markdown",
      "source": [
        "---\n",
        "# `pd.DataFrame` Object\n",
        "\n",
        "Seperti telah dicontohkan pada pertemuan ke-7 sebelumnya, kegiatan data analytics akan mengharuskan seorang data analyst untuk biasa bekerja dengan object `pd.DataFrame`. Seperti dicontohkan pada ilustrasi di pertemuan tersebut, bahwa data dari kegiatan survey dapat disimpan dalam berbagai object data fundamental python, seperti `list` dan `tuple`, dan dikonversi menjadi object `pd.DataFrame` agar memudahkan proses pengolahan, dan analisis lebih lanjutnya."
      ],
      "metadata": {
        "id": "mt8wui1h0KMs"
      }
    },
    {
      "cell_type": "markdown",
      "source": [
        "### CONSTRUCTION\n",
        "Pada exercise di bawah ini, akan diperkenalkan beberapa methods pada modul `pandas` yang umumnya dipergunakan untuk membangun sebuah dataframe, yaitu:\n",
        "1. `pd.DataFrame`; dan\n",
        "2. `pd.concat`."
      ],
      "metadata": {
        "id": "CZVa_cZeMDmo"
      }
    },
    {
      "cell_type": "markdown",
      "source": [
        "#### **METHOD `pd.DataFrame`**\n",
        "\n",
        "Method ini cukup fleksibel, karena dapat dimanfaatkan untuk menkonversi data yang tersimpan di dalam berbagai jenis object python fundamental, atau pada sebuah object `pd.series`.\n",
        "\n",
        "Hal penting yang harus dipastikan dalam penggunaan method ini adalah:\n",
        "1. Setiap data yang akan dikonversi memiliki **jumlah elemen** yang sama;\n",
        "2. Setiap data yang akan dikonversi memiliki **penulisan index** yang seragam; dan\n",
        "3. Setiap data yang akan dikonversi tersimpan dalam **tipe object** (object fundamental python atau `pd.series`) yang seragam.\n",
        "\n",
        "Berikut ini dicontohkan cara penggunaannya yang disesuaikan dengan jenis object yang akan dikonversi."
      ],
      "metadata": {
        "id": "E7UanytFMKSA"
      }
    },
    {
      "cell_type": "code",
      "source": [
        "import pandas as pd\n",
        "# 1. Mengkonversi beberapa object fundamental python menjadi dataframe\n",
        "# Buat list berisi `kode_tuple`, `nama_teman`, `umur_tuple`, dan `gaji_tuple`\n",
        "list_of_objects = [kode_tuple, nama_teman, umur_tuple, gaji_tuple]\n",
        "# Proses list_of_data menjadi dataframe\n",
        "df_fundamental = pd.DataFrame(list_of_objects, index=['Kode', 'Nama', 'Usia', 'Gaji']).T.set_index('Kode')\n",
        "# Check hasil konversi\n",
        "df_fundamental"
      ],
      "metadata": {
        "id": "YDWpUH6y6siX"
      },
      "execution_count": null,
      "outputs": []
    },
    {
      "cell_type": "code",
      "source": [
        "# 2. Mengkonversi beberapa series menjadi dataframe\n",
        "# Buat list berisi kode_tuple, nama_teman, umur_tuple, dan gaji_tuple yang telah diubah menjadi object series\n",
        "list_of_series = [pd.Series(kode_tuple, name='Kode'),\n",
        "                  pd.Series(nama_teman, name='Nama'),\n",
        "                  pd.Series(umur_tuple, name='Usia'),\n",
        "                  pd.Series(gaji_tuple, name='Gaji')]\n",
        "# Proses konversi list_of_series menjadi dataframe\n",
        "df_series = pd.DataFrame(list_of_series).T.set_index('Kode')\n",
        "df_series"
      ],
      "metadata": {
        "id": "rsmEEuaFu7ZY"
      },
      "execution_count": null,
      "outputs": []
    },
    {
      "cell_type": "code",
      "source": [
        "# 3. Menkonversi dictionary menjadi dataframe\n",
        "# Buat dictionary kengan keys=['Kode', 'Nama', 'Umur', 'Gaji'] dan values=[kode_tuple, nama_teman, umur_tuple, gaji_tuple]\n",
        "data_teman = {\n",
        "    'Kode':kode_tuple,\n",
        "    'Nama':nama_teman,\n",
        "    'Umur':umur_tuple,\n",
        "    'Gaji':gaji_tuple\n",
        "}\n",
        "# Proses konversi dictionary data_teman menjadi dataframe\n",
        "df_dictionary = pd.DataFrame(data_teman).set_index('Kode')\n",
        "df_dictionary"
      ],
      "metadata": {
        "id": "SV73Drfn7G5r"
      },
      "execution_count": null,
      "outputs": []
    },
    {
      "cell_type": "markdown",
      "source": [
        "#### **METHOD `pd.concat`**\n",
        "Method ini hanya dapat dipergunakan untuk menggabungkan object `dataframe` atau `series` menjadi sebuah dataframe.\n",
        "\n",
        "Salah satu parameter pada method ini adalah `axis` yang akan menentukan bagaimana penggabungan akan dilakukan.\n",
        "1. `axis` = 0, maka `series`/`dataframe` akan digabungkan secara tumpang tindih;\n",
        "2. `axis`= 1, maka `series`/`dataframe` akan digabungkan secara bersebelahan.\n",
        "\n",
        "Hal yang harus dipastikan adalah:\n",
        "1. Jika `axis`=0, nama kolom pada setiap `dataframe`/`series` yang digabungkan sama;\n",
        "2. Jika `axis`=1, penulisan index baris setiap `dataframe`/`series` yang digabungkan sama."
      ],
      "metadata": {
        "id": "ypSV77zaxeBI"
      }
    },
    {
      "cell_type": "code",
      "source": [
        "# Menggabungkan data pada list_of_series\n",
        "pd.concat(list_of_series, axis=1).set_index('Kode')"
      ],
      "metadata": {
        "id": "Fnpv5MZd0Ku9"
      },
      "execution_count": null,
      "outputs": []
    },
    {
      "cell_type": "markdown",
      "metadata": {
        "id": "X2wP6M-0e2t9"
      },
      "source": [
        "---"
      ]
    }
  ],
  "metadata": {
    "colab": {
      "provenance": [],
      "include_colab_link": true
    },
    "kernelspec": {
      "display_name": "Python 3",
      "name": "python3"
    },
    "language_info": {
      "name": "python"
    }
  },
  "nbformat": 4,
  "nbformat_minor": 0
}