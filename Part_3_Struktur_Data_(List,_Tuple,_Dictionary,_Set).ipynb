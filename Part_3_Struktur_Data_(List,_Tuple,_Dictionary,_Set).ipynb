{
  "cells": [
    {
      "cell_type": "markdown",
      "metadata": {
        "id": "view-in-github",
        "colab_type": "text"
      },
      "source": [
        "<a href=\"https://colab.research.google.com/github/rikrikrahadian/DQLab/blob/main/Part_3_Struktur_Data_(List%2C_Tuple%2C_Dictionary%2C_Set).ipynb\" target=\"_parent\"><img src=\"https://colab.research.google.com/assets/colab-badge.svg\" alt=\"Open In Colab\"/></a>"
      ]
    },
    {
      "cell_type": "markdown",
      "metadata": {
        "id": "GgjwWAS2eFI1"
      },
      "source": [
        "# STRUKTUR DATA: `iterables`\n",
        "\n",
        "Pada sesi sebelumnya, kita telah membahas tentang *variable* serta berbagai tipe data dasar yang digunakan dalam pengolahan data dengan Python. Kali ini, kita akan melanjutkan ke tipe data yang lebih kompleks, mulai dari data satu dimensi berurutan hingga struktur dua dimensi yang sangat penting dalam praktik analisis data menggunakan Python.\n",
        "\n",
        "Fokus utama sesi ini adalah pada kelompok objek Python yang dikenal sebagai `iterables`.\n",
        "\n",
        "> `Iterables` adalah objek-objek yang bersifat *sequential*, di mana elemen-elemennya dapat diakses satu per satu—biasanya melalui `for loop`.\n",
        "\n",
        "Objek-objek Python yang termasuk dalam kategori `iterables` antara lain:\n",
        "\n",
        "1. `range`\n",
        "2. `list`\n",
        "3. `tuple`\n",
        "4. `set`\n",
        "5. `dictionary`\n",
        "6. `iterator`\n",
        "\n",
        "Namun, untuk mempermudah proses belajar, pembahasan pada sesi ini tidak akan mencakup `iterator`.\n",
        "\n",
        "---\n",
        "**NOTE**: Agar dapat menjalankan formulir pada beberapa ilustrasi di bagian bawah berikut, maka terlebih dahulu unduh file [functions.py](https://drive.google.com/file/d/1dXMuGyplSRowrLZ-_tvowhavE7rJ3Xw_/view?usp=sharing), lalu unggah file tersebut ke *working directory*.\n",
        "\n",
        "---\n",
        "\n"
      ]
    },
    {
      "cell_type": "markdown",
      "source": [
        "# **`range`**\n",
        "\n",
        "Dalam Python, `range` adalah sebuah *built-in object* yang digunakan untuk menghasilkan urutan bilangan secara efisien. Objek ini sangat umum digunakan dalam perulangan, terutama dalam struktur `for loop`.\n",
        "\n",
        "## Sintaks Dasar\n",
        "\n",
        "```python\n",
        "range(stop: int)\n",
        "range(start: int = 0, stop: int)\n",
        "range(start: int = 0, stop: int, step: int = 1)\n",
        "```\n",
        "\n",
        "* `start`: nilai awal (default = 0)\n",
        "* `stop`: nilai batas akhir **(tidak termasuk)**\n",
        "* `step`: jarak antar nilai (default = 1)\n",
        "\n",
        "## Contoh Penggunaan\n",
        "\n",
        "```python\n",
        "range(5)              # menghasilkan: 0, 1, 2, 3, 4\n",
        "range(2, 7)           # menghasilkan: 2, 3, 4, 5, 6\n",
        "range(10, 0, -2)      # menghasilkan: 10, 8, 6, 4, 2\n",
        "```\n",
        "\n",
        "Objek `range` **tidak langsung menghasilkan list**. Untuk melihat isinya secara eksplisit, kita dapat mengubahnya menjadi list:\n",
        "\n",
        "```python\n",
        "# Memanggil isi object range dari memory\n",
        "range(5)              # Output: range(0, 5)\n",
        "\n",
        "# Melihat list berisi sebuah range dari memory\n",
        "list(range(5))        # Output: [0, 1, 2, 3, 4]\n",
        "```\n",
        "\n",
        "## Mengapa `range` Efisien?\n",
        "\n",
        "`range` tidak menyimpan semua nilai di memori. Sebaliknya, ia hanya menyimpan *start*, *stop*, dan *step*, dan menghasilkan elemen sesuai kebutuhan. Inilah yang disebut *lazy evaluation* atau *lazy loading*, membuat `range` sangat hemat memori meskipun menghasilkan urutan yang panjang.\n",
        "\n",
        "```python\n",
        "for i in range(1, 6):\n",
        "    print(f\"Iterasi ke-{i}\")\n",
        "```"
      ],
      "metadata": {
        "id": "dmMoURwT5wKj"
      }
    },
    {
      "cell_type": "code",
      "source": [
        "# @title ### Ilustrasi 1: `range`\n",
        "# Import needed modules\n",
        "from IPython.display import display, Markdown\n",
        "import ipywidgets as widgets\n",
        "from functions import Part_3, check_answers, layouts\n",
        "\n",
        "urutan_naik = range(0, 101, 1)\n",
        "urutan_turun = range(100, -1, -1)\n",
        "\n",
        "display(Markdown(\n",
        "    \"---\\n\"\n",
        "    \"### Perhatikan kedua object berikut:\\n\"\n",
        "    \"```python\\n\"\n",
        "    \"urutan_naik = range(0, 101, 1)\\n\"\n",
        "    \"urutan_turun = range(100, -1, -1)\\n\"\n",
        "    \"```\"\n",
        "))\n",
        "\n",
        "display(Markdown(\"---\\n### Pilih pernyataan yang tepat terkait `urutan_naik`:\"))\n",
        "# Question 1\n",
        "correct_answers_1 = Part_3['Q1']\n",
        "\n",
        "# Create checkboxes for each option in Question 1\n",
        "option_a_1 = widgets.Checkbox(value=False, description='urutan_naik berisikan angka desimal dari 0.0 hingga 100.00', layout=layouts)\n",
        "option_b_1 = widgets.Checkbox(value=False, description='urutan_naik berisikan angka bulat dari 0 hingga 101', layout=layouts)\n",
        "option_c_1 = widgets.Checkbox(value=False, description='urutan_naik berisikan [0, 1, 2, ..., 100]', layout=layouts)\n",
        "option_d_1 = widgets.Checkbox(value=False, description='urutan_naik berisikan range(101)', layout=layouts)\n",
        "option_e_1 = widgets.Checkbox(value=False, description='urutan_naik berisikan range(0, 100)', layout=layouts)\n",
        "\n",
        "options_1 = (option_a_1, option_b_1, option_c_1, option_d_1, option_e_1)\n",
        "\n",
        "# Output box for feedback\n",
        "result_1 = widgets.Textarea(value=\"\", placeholder='Feedback', description='', disabled=True)\n",
        "\n",
        "# Button to check answers for Question 1\n",
        "check_button_1 = widgets.Button(description=\"Cek Jawaban\")\n",
        "check_button_1.on_click(lambda event: check_answers(correct_answers_1, options_1, result_1))\n",
        "\n",
        "# Display the interactive form for Question 1\n",
        "display(option_a_1, option_b_1, option_c_1, option_d_1, option_e_1, check_button_1, result_1)\n",
        "display(Markdown(\"---\\n### Pilih pernyataan yang tepat terkait `urutan_turun`:\"))\n",
        "\n",
        "# Question 2\n",
        "correct_answers_2 = Part_3['Q2']\n",
        "\n",
        "# Create checkboxes for each option in Question 1\n",
        "option_a_2 = widgets.Checkbox(value=False, description='urutan_turun berisikan angka desimal dari 100.0 hingga 0.0', layout=layouts)\n",
        "option_b_2 = widgets.Checkbox(value=False, description='urutan_turun menghasilkan angka bulat dari 100 hingga 0', layout=layouts)\n",
        "option_c_2 = widgets.Checkbox(value=False, description='urutan_turun berisikan [100, 99, 98, ..., 0]', layout=layouts)\n",
        "option_d_2 = widgets.Checkbox(value=False, description='urutan_turun berisikan range(100, -1, -1)', layout=layouts)\n",
        "option_e_2 = widgets.Checkbox(value=False, description='urutan_turun berisikan range(101, 0, -1)', layout=layouts)\n",
        "\n",
        "options_2 = (option_a_2, option_b_2, option_c_2, option_d_2, option_e_2)\n",
        "\n",
        "# Output box for feedback\n",
        "result_2 = widgets.Textarea(value=\"\", placeholder='Feedback', description='', disabled=True)\n",
        "\n",
        "# Button to check answers for Question 2\n",
        "check_button_2 = widgets.Button(description=\"Cek Jawaban\")\n",
        "check_button_2.on_click(lambda event: check_answers(correct_answers_2, options_2, result_2))\n",
        "\n",
        "# Display the interactive form for Question 2\n",
        "display(option_a_2, option_b_2, option_c_2, option_d_2, option_e_2, check_button_2, result_2)\n",
        "display(Markdown(\"---\"))"
      ],
      "metadata": {
        "cellView": "form",
        "id": "p34s0XzyCbF1",
        "colab": {
          "base_uri": "https://localhost:8080/",
          "height": 663,
          "referenced_widgets": [
            "b6791c36ba094fe1873867b70947a727",
            "8b7e292cc44048989ae62f075b8e9175",
            "823b6662eead43a3825ca51548cba3ce",
            "16f4a443ab9744e7b3cc05a6dd7418df",
            "e72c8b550a3c4cf488faca4b22e09889",
            "e4059c17702044ec88a2c583162442e8",
            "bf8502e5f36a44769935b0a39c3dfcba",
            "df2c12918a3a4149b0eb30fcef47f9c1",
            "b99deed4ba7642f08afb9896404143b0",
            "463a641504794e16a04e42b96556db28",
            "e1b387dec9334957ae783ba3de1985a3",
            "96d7a2235ce8462c9b3013235c72d382",
            "8dd728de8e224f01b78ccd615e103a85",
            "2e311710c9e743fb8760354f93162f2e",
            "3267ab5f7df248b5bd1b7503bbd40492",
            "c9f5eadf6fe24eb6b0a5e375f8c4b98f",
            "d3233df32c0e4463a194213cc9f800d4",
            "267e97c9f7d948cd8325cdbc760ad01b",
            "6e3f8d6c936b4aa58ec2a526e227766b",
            "70bb24794e124e0abd8e61f34c1bee5d",
            "bd2db55070294f3daabde7ab6ec3f7fd",
            "c1d1b1362df9421aa97ebb38eb9b84bd",
            "facf32ef7fe34d408720b074dbc46abc",
            "96a7edb7cb5042f49a57248d60ff32f2",
            "62f456cc8d544623ba105c0e0ec7612a",
            "e1686166ef8d4959a7db82216da305cb",
            "196dbc1b804d4a6ab9b43a5f4bfa4468",
            "a9ebf1b2bf794aa3bea5225c1974fd09",
            "97d9d49e055a4413933c37917a918858",
            "cf48ec82bd7e4cd4bf8cd2f1230a9ee6",
            "9bff31a91da043e5a9874c695e5c11b8",
            "a11b786559fe407aac5ced12176f0aa3",
            "37ef5309f0394f5a96e7ba7e3ff89219"
          ]
        },
        "outputId": "4e578b15-4358-4bf3-d4a5-eff8f88418cb"
      },
      "execution_count": null,
      "outputs": [
        {
          "output_type": "display_data",
          "data": {
            "text/plain": [
              "<IPython.core.display.Markdown object>"
            ],
            "text/markdown": "---\n### Perhatikan kedua object berikut:\n```python\nurutan_naik = range(0, 101, 1)\nurutan_turun = range(100, -1, -1)\n```"
          },
          "metadata": {}
        },
        {
          "output_type": "display_data",
          "data": {
            "text/plain": [
              "<IPython.core.display.Markdown object>"
            ],
            "text/markdown": "---\n### Pilih pernyataan yang tepat terkait `urutan_naik`:"
          },
          "metadata": {}
        },
        {
          "output_type": "display_data",
          "data": {
            "text/plain": [
              "Checkbox(value=False, description='urutan_naik berisikan angka desimal dari 0.0 hingga 100.00', layout=Layout(…"
            ],
            "application/vnd.jupyter.widget-view+json": {
              "version_major": 2,
              "version_minor": 0,
              "model_id": "b6791c36ba094fe1873867b70947a727"
            }
          },
          "metadata": {}
        },
        {
          "output_type": "display_data",
          "data": {
            "text/plain": [
              "Checkbox(value=False, description='urutan_naik berisikan angka bulat dari 0 hingga 101', layout=Layout(width='…"
            ],
            "application/vnd.jupyter.widget-view+json": {
              "version_major": 2,
              "version_minor": 0,
              "model_id": "16f4a443ab9744e7b3cc05a6dd7418df"
            }
          },
          "metadata": {}
        },
        {
          "output_type": "display_data",
          "data": {
            "text/plain": [
              "Checkbox(value=False, description='urutan_naik berisikan [0, 1, 2, ..., 100]', layout=Layout(width='auto'))"
            ],
            "application/vnd.jupyter.widget-view+json": {
              "version_major": 2,
              "version_minor": 0,
              "model_id": "e4059c17702044ec88a2c583162442e8"
            }
          },
          "metadata": {}
        },
        {
          "output_type": "display_data",
          "data": {
            "text/plain": [
              "Checkbox(value=False, description='urutan_naik berisikan range(101)', layout=Layout(width='auto'))"
            ],
            "application/vnd.jupyter.widget-view+json": {
              "version_major": 2,
              "version_minor": 0,
              "model_id": "df2c12918a3a4149b0eb30fcef47f9c1"
            }
          },
          "metadata": {}
        },
        {
          "output_type": "display_data",
          "data": {
            "text/plain": [
              "Checkbox(value=False, description='urutan_naik berisikan range(0, 100)', layout=Layout(width='auto'))"
            ],
            "application/vnd.jupyter.widget-view+json": {
              "version_major": 2,
              "version_minor": 0,
              "model_id": "463a641504794e16a04e42b96556db28"
            }
          },
          "metadata": {}
        },
        {
          "output_type": "display_data",
          "data": {
            "text/plain": [
              "Button(description='Cek Jawaban', style=ButtonStyle())"
            ],
            "application/vnd.jupyter.widget-view+json": {
              "version_major": 2,
              "version_minor": 0,
              "model_id": "96d7a2235ce8462c9b3013235c72d382"
            }
          },
          "metadata": {}
        },
        {
          "output_type": "display_data",
          "data": {
            "text/plain": [
              "Textarea(value='', disabled=True, placeholder='Feedback')"
            ],
            "application/vnd.jupyter.widget-view+json": {
              "version_major": 2,
              "version_minor": 0,
              "model_id": "3267ab5f7df248b5bd1b7503bbd40492"
            }
          },
          "metadata": {}
        },
        {
          "output_type": "display_data",
          "data": {
            "text/plain": [
              "<IPython.core.display.Markdown object>"
            ],
            "text/markdown": "---\n### Pilih pernyataan yang tepat terkait `urutan_turun`:"
          },
          "metadata": {}
        },
        {
          "output_type": "display_data",
          "data": {
            "text/plain": [
              "Checkbox(value=False, description='urutan_turun berisikan angka desimal dari 100.0 hingga 0.0', layout=Layout(…"
            ],
            "application/vnd.jupyter.widget-view+json": {
              "version_major": 2,
              "version_minor": 0,
              "model_id": "267e97c9f7d948cd8325cdbc760ad01b"
            }
          },
          "metadata": {}
        },
        {
          "output_type": "display_data",
          "data": {
            "text/plain": [
              "Checkbox(value=False, description='urutan_turun menghasilkan angka bulat dari 100 hingga 0', layout=Layout(wid…"
            ],
            "application/vnd.jupyter.widget-view+json": {
              "version_major": 2,
              "version_minor": 0,
              "model_id": "70bb24794e124e0abd8e61f34c1bee5d"
            }
          },
          "metadata": {}
        },
        {
          "output_type": "display_data",
          "data": {
            "text/plain": [
              "Checkbox(value=False, description='urutan_turun berisikan [100, 99, 98, ..., 0]', layout=Layout(width='auto'))"
            ],
            "application/vnd.jupyter.widget-view+json": {
              "version_major": 2,
              "version_minor": 0,
              "model_id": "c1d1b1362df9421aa97ebb38eb9b84bd"
            }
          },
          "metadata": {}
        },
        {
          "output_type": "display_data",
          "data": {
            "text/plain": [
              "Checkbox(value=False, description='urutan_turun berisikan range(100, -1, -1)', layout=Layout(width='auto'))"
            ],
            "application/vnd.jupyter.widget-view+json": {
              "version_major": 2,
              "version_minor": 0,
              "model_id": "96a7edb7cb5042f49a57248d60ff32f2"
            }
          },
          "metadata": {}
        },
        {
          "output_type": "display_data",
          "data": {
            "text/plain": [
              "Checkbox(value=False, description='urutan_turun berisikan range(101, 0, -1)', layout=Layout(width='auto'))"
            ],
            "application/vnd.jupyter.widget-view+json": {
              "version_major": 2,
              "version_minor": 0,
              "model_id": "e1686166ef8d4959a7db82216da305cb"
            }
          },
          "metadata": {}
        },
        {
          "output_type": "display_data",
          "data": {
            "text/plain": [
              "Button(description='Cek Jawaban', style=ButtonStyle())"
            ],
            "application/vnd.jupyter.widget-view+json": {
              "version_major": 2,
              "version_minor": 0,
              "model_id": "a9ebf1b2bf794aa3bea5225c1974fd09"
            }
          },
          "metadata": {}
        },
        {
          "output_type": "display_data",
          "data": {
            "text/plain": [
              "Textarea(value='', disabled=True, placeholder='Feedback')"
            ],
            "application/vnd.jupyter.widget-view+json": {
              "version_major": 2,
              "version_minor": 0,
              "model_id": "9bff31a91da043e5a9874c695e5c11b8"
            }
          },
          "metadata": {}
        },
        {
          "output_type": "display_data",
          "data": {
            "text/plain": [
              "<IPython.core.display.Markdown object>"
            ],
            "text/markdown": "---"
          },
          "metadata": {}
        }
      ]
    },
    {
      "cell_type": "code",
      "source": [
        "for angka in urutan_naik:\n",
        "  print(angka)"
      ],
      "metadata": {
        "colab": {
          "base_uri": "https://localhost:8080/"
        },
        "id": "S0RlusuNnRZh",
        "outputId": "3e9ac912-7466-4122-89ad-e0b8179225ca"
      },
      "execution_count": null,
      "outputs": [
        {
          "output_type": "stream",
          "name": "stdout",
          "text": [
            "0\n",
            "1\n",
            "2\n",
            "3\n",
            "4\n",
            "5\n",
            "6\n",
            "7\n",
            "8\n",
            "9\n",
            "10\n",
            "11\n",
            "12\n",
            "13\n",
            "14\n",
            "15\n",
            "16\n",
            "17\n",
            "18\n",
            "19\n",
            "20\n",
            "21\n",
            "22\n",
            "23\n",
            "24\n",
            "25\n",
            "26\n",
            "27\n",
            "28\n",
            "29\n",
            "30\n",
            "31\n",
            "32\n",
            "33\n",
            "34\n",
            "35\n",
            "36\n",
            "37\n",
            "38\n",
            "39\n",
            "40\n",
            "41\n",
            "42\n",
            "43\n",
            "44\n",
            "45\n",
            "46\n",
            "47\n",
            "48\n",
            "49\n",
            "50\n",
            "51\n",
            "52\n",
            "53\n",
            "54\n",
            "55\n",
            "56\n",
            "57\n",
            "58\n",
            "59\n",
            "60\n",
            "61\n",
            "62\n",
            "63\n",
            "64\n",
            "65\n",
            "66\n",
            "67\n",
            "68\n",
            "69\n",
            "70\n",
            "71\n",
            "72\n",
            "73\n",
            "74\n",
            "75\n",
            "76\n",
            "77\n",
            "78\n",
            "79\n",
            "80\n",
            "81\n",
            "82\n",
            "83\n",
            "84\n",
            "85\n",
            "86\n",
            "87\n",
            "88\n",
            "89\n",
            "90\n",
            "91\n",
            "92\n",
            "93\n",
            "94\n",
            "95\n",
            "96\n",
            "97\n",
            "98\n",
            "99\n",
            "100\n"
          ]
        }
      ]
    },
    {
      "cell_type": "markdown",
      "source": [
        "# EXERCISE 1: `range`"
      ],
      "metadata": {
        "id": "a2G2wXqy8hgg"
      }
    },
    {
      "cell_type": "code",
      "source": [
        "# Panggil isi urutan_naik dari memory\n",
        "urutan_naik"
      ],
      "metadata": {
        "id": "BB18UP758sCQ",
        "colab": {
          "base_uri": "https://localhost:8080/"
        },
        "outputId": "866d8146-74b9-46e0-f6f5-c5b39026e7e0"
      },
      "execution_count": null,
      "outputs": [
        {
          "output_type": "execute_result",
          "data": {
            "text/plain": [
              "range(0, 101)"
            ]
          },
          "metadata": {},
          "execution_count": 6
        }
      ]
    },
    {
      "cell_type": "code",
      "source": [
        "# Panggil isi urutan_turun dari memory\n",
        "urutan_turun"
      ],
      "metadata": {
        "id": "1Ma8HLgGGX1H",
        "colab": {
          "base_uri": "https://localhost:8080/"
        },
        "outputId": "2528d90b-61bc-4a42-ea9d-6cef3cfd2e51"
      },
      "execution_count": null,
      "outputs": [
        {
          "output_type": "execute_result",
          "data": {
            "text/plain": [
              "range(100, -1, -1)"
            ]
          },
          "metadata": {},
          "execution_count": 7
        }
      ]
    },
    {
      "cell_type": "code",
      "source": [
        "# Panggil isi urutan_naik sebagai sebuah list dari memory\n",
        "list(urutan_naik)"
      ],
      "metadata": {
        "id": "ryThu7hInr-m",
        "colab": {
          "base_uri": "https://localhost:8080/"
        },
        "outputId": "0f779670-0e6f-45d4-e6b1-6067e47b9c52"
      },
      "execution_count": null,
      "outputs": [
        {
          "output_type": "execute_result",
          "data": {
            "text/plain": [
              "[0,\n",
              " 1,\n",
              " 2,\n",
              " 3,\n",
              " 4,\n",
              " 5,\n",
              " 6,\n",
              " 7,\n",
              " 8,\n",
              " 9,\n",
              " 10,\n",
              " 11,\n",
              " 12,\n",
              " 13,\n",
              " 14,\n",
              " 15,\n",
              " 16,\n",
              " 17,\n",
              " 18,\n",
              " 19,\n",
              " 20,\n",
              " 21,\n",
              " 22,\n",
              " 23,\n",
              " 24,\n",
              " 25,\n",
              " 26,\n",
              " 27,\n",
              " 28,\n",
              " 29,\n",
              " 30,\n",
              " 31,\n",
              " 32,\n",
              " 33,\n",
              " 34,\n",
              " 35,\n",
              " 36,\n",
              " 37,\n",
              " 38,\n",
              " 39,\n",
              " 40,\n",
              " 41,\n",
              " 42,\n",
              " 43,\n",
              " 44,\n",
              " 45,\n",
              " 46,\n",
              " 47,\n",
              " 48,\n",
              " 49,\n",
              " 50,\n",
              " 51,\n",
              " 52,\n",
              " 53,\n",
              " 54,\n",
              " 55,\n",
              " 56,\n",
              " 57,\n",
              " 58,\n",
              " 59,\n",
              " 60,\n",
              " 61,\n",
              " 62,\n",
              " 63,\n",
              " 64,\n",
              " 65,\n",
              " 66,\n",
              " 67,\n",
              " 68,\n",
              " 69,\n",
              " 70,\n",
              " 71,\n",
              " 72,\n",
              " 73,\n",
              " 74,\n",
              " 75,\n",
              " 76,\n",
              " 77,\n",
              " 78,\n",
              " 79,\n",
              " 80,\n",
              " 81,\n",
              " 82,\n",
              " 83,\n",
              " 84,\n",
              " 85,\n",
              " 86,\n",
              " 87,\n",
              " 88,\n",
              " 89,\n",
              " 90,\n",
              " 91,\n",
              " 92,\n",
              " 93,\n",
              " 94,\n",
              " 95,\n",
              " 96,\n",
              " 97,\n",
              " 98,\n",
              " 99,\n",
              " 100]"
            ]
          },
          "metadata": {},
          "execution_count": 8
        }
      ]
    },
    {
      "cell_type": "code",
      "source": [
        "# Tampilkan ke layar isi urutan_turun satu persatu\n",
        "for urutan in urutan_turun:\n",
        "  print(urutan)"
      ],
      "metadata": {
        "id": "hPTlpI26n00A",
        "colab": {
          "base_uri": "https://localhost:8080/"
        },
        "outputId": "e58356a4-e444-4cdd-a13f-de3a34e00b13"
      },
      "execution_count": null,
      "outputs": [
        {
          "output_type": "stream",
          "name": "stdout",
          "text": [
            "100\n",
            "99\n",
            "98\n",
            "97\n",
            "96\n",
            "95\n",
            "94\n",
            "93\n",
            "92\n",
            "91\n",
            "90\n",
            "89\n",
            "88\n",
            "87\n",
            "86\n",
            "85\n",
            "84\n",
            "83\n",
            "82\n",
            "81\n",
            "80\n",
            "79\n",
            "78\n",
            "77\n",
            "76\n",
            "75\n",
            "74\n",
            "73\n",
            "72\n",
            "71\n",
            "70\n",
            "69\n",
            "68\n",
            "67\n",
            "66\n",
            "65\n",
            "64\n",
            "63\n",
            "62\n",
            "61\n",
            "60\n",
            "59\n",
            "58\n",
            "57\n",
            "56\n",
            "55\n",
            "54\n",
            "53\n",
            "52\n",
            "51\n",
            "50\n",
            "49\n",
            "48\n",
            "47\n",
            "46\n",
            "45\n",
            "44\n",
            "43\n",
            "42\n",
            "41\n",
            "40\n",
            "39\n",
            "38\n",
            "37\n",
            "36\n",
            "35\n",
            "34\n",
            "33\n",
            "32\n",
            "31\n",
            "30\n",
            "29\n",
            "28\n",
            "27\n",
            "26\n",
            "25\n",
            "24\n",
            "23\n",
            "22\n",
            "21\n",
            "20\n",
            "19\n",
            "18\n",
            "17\n",
            "16\n",
            "15\n",
            "14\n",
            "13\n",
            "12\n",
            "11\n",
            "10\n",
            "9\n",
            "8\n",
            "7\n",
            "6\n",
            "5\n",
            "4\n",
            "3\n",
            "2\n",
            "1\n",
            "0\n"
          ]
        }
      ]
    },
    {
      "cell_type": "markdown",
      "metadata": {
        "id": "jLgx8o0UpJZ9"
      },
      "source": [
        "# **`list`**\n",
        "> `List` adalah sebuah objek kelas dalam Python yang berupa sebuah koleksi/kontainer berisi objek bertipe rangkaian (*sequence*), sehingga seringkali dirujuk sebagai *containers* atau *collections*.\n",
        "\n",
        "`List`, yang merupakan sebuah objek kelas fundamental, memiliki seperangkat fitur yang memungkinkan pengelolaan sekaligus manipulasi beragam tipe data secara efisien. Sebuah `list` akan memiliki beberapa karakteristik sebagai berikut:\n",
        "1. ***Ordered***: Urutan setiap elemen pada sebuah list akan sesuai dengan urutan penginputan masing-masing elemen;\n",
        "2. ***Zero-based***: Indeks posisional dari setiap elemen pada sebuah `list` akan dimulai dari indeks 0;\n",
        "3. ***Mutable***: Memungkinkan untuk melakukan perubahan (*mutations*) terhadap elemen yang ada didalamnya;\n",
        "4. ***Heterogeneous***: Dapat memuat objek dengan tipe yang bermacam-macam (`int`, `float`, `str`, `list`, `tuple`, `dictionary`, `set`, & bahkan `function`);\n",
        "5. ***Growable & Dynamic***: Memungkinkan untuk melakukan penambahan, penginputan, dan penghapusan elemen;\n",
        "6. ***Nestable***: Dapat memuat `list` lain di dalamnya;\n",
        "7. ***Iterable***: Memungkinkan untuk dilakukan iterasi terhadap setiap elemen di dalamnya dengan menggunakan `loop` atau `list comprehension`;\n",
        "8. ***Sliceable***: Memungkinkan untuk melakukan operasi *slicing* untuk mengakses elemennya;\n",
        "9. ***Combinable***: Memungkinkan untuk melakukan proses *concatenation* terhadap satu `list` dengan `list` lain;\n",
        "10. ***copyable***: Memungkinkan untuk membuat duplikat dari `list` ke dalam sebuah `list` yang lain."
      ]
    },
    {
      "cell_type": "markdown",
      "metadata": {
        "id": "ZZAawgepzHOn"
      },
      "source": [
        "## Construction\n",
        "Terdapat tiga cara untuk membangun sebuah `list`:\n",
        "1. Menggunakan `list literals`:\n",
        "```python\n",
        "nama_list = [] # Membuat list kosong\n",
        "nama_list = [elemen_1, elemen_2, ..., elemen_n]\n",
        "```\n",
        "2. Menggunakan `type constructor`:\n",
        "```python\n",
        "nama_list = list() # Membuat list kosong\n",
        "nama_list = list(iterable)\n",
        "```\n",
        "3. Menggunakan `list comprehension`:\n",
        "```python\n",
        "nama_list = [expression(item) for item in iterable if conditional]\n",
        "```"
      ]
    },
    {
      "cell_type": "code",
      "source": [
        "[\n",
        "    ['Amir', 'Budi', 'Cici'],\n",
        "    ['08777', '0818', '0817'],\n",
        "    ['01/01/1990', '02/02/2000', '03/03/2001']\n",
        "]"
      ],
      "metadata": {
        "colab": {
          "base_uri": "https://localhost:8080/"
        },
        "id": "GcrkzFIItAaX",
        "outputId": "39d10a2b-22b8-40f9-a149-0fc9dd7530cb"
      },
      "execution_count": null,
      "outputs": [
        {
          "output_type": "execute_result",
          "data": {
            "text/plain": [
              "[['Amir', 'Budi', 'Cici'],\n",
              " ['08777', '0818', '0817'],\n",
              " ['01/01/1990', '02/02/2000', '03/03/2001']]"
            ]
          },
          "metadata": {},
          "execution_count": 13
        }
      ]
    },
    {
      "cell_type": "code",
      "source": [
        "[\n",
        "    ['Amir', '08777', '01/01/1990'],\n",
        "    ['Budi', ' 0818', '02/02/2000'],\n",
        "    ['Cici', '0817', '03/03/2001']\n",
        "]"
      ],
      "metadata": {
        "colab": {
          "base_uri": "https://localhost:8080/"
        },
        "id": "VRYtEv7atXly",
        "outputId": "0a98bf61-b185-449f-9606-4d6474283a18"
      },
      "execution_count": null,
      "outputs": [
        {
          "output_type": "execute_result",
          "data": {
            "text/plain": [
              "[['Amir', '08777', '01/01/1990'],\n",
              " ['Budi', ' 0818', '02/02/2000'],\n",
              " ['Cici', '0817', '03/03/2001']]"
            ]
          },
          "metadata": {},
          "execution_count": 14
        }
      ]
    },
    {
      "cell_type": "code",
      "source": [
        "# @title ### Ilustrasi 2: `list` Construction\n",
        "# Question 1\n",
        "display(Markdown(\"---\\n### 1. Ekspresi manakah yang bukan merupakan cara untuk membuat `list`?\"))\n",
        "nama_teman = ['Amir', 'Budi', 'Cinta', 'Dimas', 'Edi']\n",
        "angka = list(range(0, 10, 1))\n",
        "angka_ganjil = [odd for odd in range(0, 10, 1) if odd % 2 == 1]\n",
        "# Menyiapkan Jawaban Question 1\n",
        "correct_answers_3 = Part_3['Q3']\n",
        "# Membuat Options Question 1\n",
        "option_a_3 = widgets.Checkbox(value=False, description=\"nama_teman = ['Amir', 'Budi', 'Cinta', 'Dimas', 'Edi']\", layout=layouts)\n",
        "option_b_3 = widgets.Checkbox(value=False, description='angka = list(range(0, 10, 1))', layout=layouts)\n",
        "option_c_3 = widgets.Checkbox(value=False, description='angka_ganjil = [odd for odd in range(0, 10, 1) if odd % 2 == 1]', layout=layouts)\n",
        "options_3 = (option_a_3, option_b_3, option_c_3)\n",
        "\n",
        "result_3 = widgets.Textarea(value=\"\", placeholder='Feedback', description='', disabled=True)\n",
        "\n",
        "# Button to check answers for Question 1\n",
        "check_button_3 = widgets.Button(description=\"Cek Jawaban\")\n",
        "check_button_3.on_click(lambda event: check_answers(correct_answers_3, options_3, result_3))\n",
        "\n",
        "# Tampilkan form Question 1 ke layar\n",
        "display(option_a_3, option_b_3, option_c_3, check_button_3, result_3)\n",
        "\n",
        "# Question 2\n",
        "display(Markdown(\"---\\n### 2. Ekspresi manakah yang merupakan cara menyusun `list` menggunakan `literals`?\\n\"))\n",
        "correct_answers_4 = Part_3['Q4']\n",
        "# Options for Question 2\n",
        "option_a_4 = widgets.Checkbox(value=False, description=\"nama_teman = ['Amir', 'Budi', 'Cinta', 'Dimas', 'Edi']\", layout=layouts)\n",
        "option_b_4 = widgets.Checkbox(value=False, description='angka = list(range(0, 10, 1))', layout=layouts)\n",
        "option_c_4 = widgets.Checkbox(value=False, description='angka_ganjil = [odd for odd in range(0, 10, 1) if odd % 2 == 1]', layout=layouts)\n",
        "options_4 = (option_a_4, option_b_4, option_c_4)\n",
        "# Result for Question 2\n",
        "result_4 = widgets.Textarea(value=\"\", placeholder='Feedback', description='', disabled=True)\n",
        "# Button to check answers for Question 1\n",
        "check_button_4 = widgets.Button(description=\"Cek Jawaban\")\n",
        "check_button_4.on_click(lambda event: check_answers(correct_answers_4, options_4, result_4))\n",
        "# Tampilkan form Question 1 ke layar\n",
        "display(option_a_4, option_b_4, option_c_4, check_button_4, result_4)\n",
        "display(Markdown(\"---\"))"
      ],
      "metadata": {
        "id": "hQcp9XiGopCj",
        "cellView": "form",
        "colab": {
          "base_uri": "https://localhost:8080/",
          "height": 459,
          "referenced_widgets": [
            "38728407aac2474a922cd11a7f2cc466",
            "8b7e292cc44048989ae62f075b8e9175",
            "952e5562799b4c1fa75582eb7a1f19a2",
            "3b871390c235436f83bb1bdca063bc58",
            "2b963c921a8e48cc9d20eef5cdf92f9c",
            "f483dc1ed25a4e55a33ba1c23b23c11f",
            "94d54b3716724c14938c4a3db5a23af8",
            "6333011712c845838b0adb81da7727df",
            "b893c88c9afb41d59464b2661ccf3e79",
            "4a46a6d7feb84cecba9ec7de0caa3f95",
            "acc8a005a2ab490fa11d9f641a1a3f14",
            "4f34a86258444f5483da1402b1207528",
            "f8203d437f124bbeb50b7698851013a6",
            "e3718784ded742bb9770ad983081c986",
            "badea875daa0470bbb2ff83b6cc01cd6",
            "ceffc445c92b4a1b81b8aa927b6f35a8",
            "1f6170a1bfba4133b0b026a9e7f0d009",
            "d4bfd86547d745cc970c318a9d7795f2",
            "2e34b5943140449a9c177b7b1a783c5b",
            "6d1fb60d55c54443b9e930710c827b5f",
            "5264decba575430b941828b78ac03e20",
            "3267b9726dab4844a1e547df1257c495",
            "16abd3097a764a539491b5b39630a7b1",
            "c9dbc021349d4170bd646ce388fccbbe",
            "cac7657515cf4074a92f90fca9c7d210"
          ]
        },
        "outputId": "9f755259-2323-446e-e119-16ba9d82c900"
      },
      "execution_count": null,
      "outputs": [
        {
          "output_type": "display_data",
          "data": {
            "text/plain": [
              "<IPython.core.display.Markdown object>"
            ],
            "text/markdown": "---\n### 1. Ekspresi manakah yang bukan merupakan cara untuk membuat `list`?"
          },
          "metadata": {}
        },
        {
          "output_type": "display_data",
          "data": {
            "text/plain": [
              "Checkbox(value=False, description=\"nama_teman = ['Amir', 'Budi', 'Cinta', 'Dimas', 'Edi']\", layout=Layout(widt…"
            ],
            "application/vnd.jupyter.widget-view+json": {
              "version_major": 2,
              "version_minor": 0,
              "model_id": "38728407aac2474a922cd11a7f2cc466"
            }
          },
          "metadata": {}
        },
        {
          "output_type": "display_data",
          "data": {
            "text/plain": [
              "Checkbox(value=False, description='angka = list(range(0, 10, 1))', layout=Layout(width='auto'))"
            ],
            "application/vnd.jupyter.widget-view+json": {
              "version_major": 2,
              "version_minor": 0,
              "model_id": "3b871390c235436f83bb1bdca063bc58"
            }
          },
          "metadata": {}
        },
        {
          "output_type": "display_data",
          "data": {
            "text/plain": [
              "Checkbox(value=False, description='angka_ganjil = [odd for odd in range(0, 10, 1) if odd % 2 == 1]', layout=La…"
            ],
            "application/vnd.jupyter.widget-view+json": {
              "version_major": 2,
              "version_minor": 0,
              "model_id": "f483dc1ed25a4e55a33ba1c23b23c11f"
            }
          },
          "metadata": {}
        },
        {
          "output_type": "display_data",
          "data": {
            "text/plain": [
              "Button(description='Cek Jawaban', style=ButtonStyle())"
            ],
            "application/vnd.jupyter.widget-view+json": {
              "version_major": 2,
              "version_minor": 0,
              "model_id": "6333011712c845838b0adb81da7727df"
            }
          },
          "metadata": {}
        },
        {
          "output_type": "display_data",
          "data": {
            "text/plain": [
              "Textarea(value='', disabled=True, placeholder='Feedback')"
            ],
            "application/vnd.jupyter.widget-view+json": {
              "version_major": 2,
              "version_minor": 0,
              "model_id": "acc8a005a2ab490fa11d9f641a1a3f14"
            }
          },
          "metadata": {}
        },
        {
          "output_type": "display_data",
          "data": {
            "text/plain": [
              "<IPython.core.display.Markdown object>"
            ],
            "text/markdown": "---\n### 2. Ekspresi manakah yang merupakan cara menyusun `list` menggunakan `literals`?\n"
          },
          "metadata": {}
        },
        {
          "output_type": "display_data",
          "data": {
            "text/plain": [
              "Checkbox(value=False, description=\"nama_teman = ['Amir', 'Budi', 'Cinta', 'Dimas', 'Edi']\", layout=Layout(widt…"
            ],
            "application/vnd.jupyter.widget-view+json": {
              "version_major": 2,
              "version_minor": 0,
              "model_id": "e3718784ded742bb9770ad983081c986"
            }
          },
          "metadata": {}
        },
        {
          "output_type": "display_data",
          "data": {
            "text/plain": [
              "Checkbox(value=False, description='angka = list(range(0, 10, 1))', layout=Layout(width='auto'))"
            ],
            "application/vnd.jupyter.widget-view+json": {
              "version_major": 2,
              "version_minor": 0,
              "model_id": "ceffc445c92b4a1b81b8aa927b6f35a8"
            }
          },
          "metadata": {}
        },
        {
          "output_type": "display_data",
          "data": {
            "text/plain": [
              "Checkbox(value=False, description='angka_ganjil = [odd for odd in range(0, 10, 1) if odd % 2 == 1]', layout=La…"
            ],
            "application/vnd.jupyter.widget-view+json": {
              "version_major": 2,
              "version_minor": 0,
              "model_id": "d4bfd86547d745cc970c318a9d7795f2"
            }
          },
          "metadata": {}
        },
        {
          "output_type": "display_data",
          "data": {
            "text/plain": [
              "Button(description='Cek Jawaban', style=ButtonStyle())"
            ],
            "application/vnd.jupyter.widget-view+json": {
              "version_major": 2,
              "version_minor": 0,
              "model_id": "6d1fb60d55c54443b9e930710c827b5f"
            }
          },
          "metadata": {}
        },
        {
          "output_type": "display_data",
          "data": {
            "text/plain": [
              "Textarea(value='', disabled=True, placeholder='Feedback')"
            ],
            "application/vnd.jupyter.widget-view+json": {
              "version_major": 2,
              "version_minor": 0,
              "model_id": "16abd3097a764a539491b5b39630a7b1"
            }
          },
          "metadata": {}
        },
        {
          "output_type": "display_data",
          "data": {
            "text/plain": [
              "<IPython.core.display.Markdown object>"
            ],
            "text/markdown": "---"
          },
          "metadata": {}
        }
      ]
    },
    {
      "cell_type": "code",
      "source": [
        "# Silahkan melakukan percobaan list construction di sini\n",
        "angka[1:4:1]"
      ],
      "metadata": {
        "id": "Gu4NGz5R0qxK",
        "colab": {
          "base_uri": "https://localhost:8080/"
        },
        "outputId": "39fb103c-c302-45b6-9492-ea8147467f06"
      },
      "execution_count": null,
      "outputs": [
        {
          "output_type": "execute_result",
          "data": {
            "text/plain": [
              "[1, 2, 3]"
            ]
          },
          "metadata": {},
          "execution_count": 29
        }
      ]
    },
    {
      "cell_type": "markdown",
      "metadata": {
        "id": "JY-m2EiJ3cZQ"
      },
      "source": [
        "## Access to elements\n",
        "Berikut ini dapat diamati beberapa sintaks yang biasanya digunakan untuk mengakses elemen pada sebuah list:\n",
        "1. `indexing`, menghasilkan sebuah data yang merupakan elemen dari sebuah `list`. Sebagai ilustrasi, di bawah berikut dapat diamati cara untuk menampilkan angka 5 yang merupakan sebuah elemen pada `angka` yang kita buat pada exercise sebelumnya.\n",
        "```python\n",
        "angka[5] # dituliskan nomor index dari elemen 5\n",
        "# Output = 5\n",
        "```\n",
        "2. `slicing`, menghasilkan sebuah `list` berisi sebuah atau beberapa elemen dari sebuah `list` lainnya. Sebagai ilustrasi, di bawah berikut dapat diamati cara mengambil angka 1, 2, 3 yang merupakan elemen pada `angka`.\n",
        "```python\n",
        "angka[1:4:1] # dituliskan index awal, index akhir+1, dan step\n",
        "# Output = [1, 2, 3]\n",
        "```"
      ]
    },
    {
      "cell_type": "code",
      "source": [
        "# @title ###  Ilustrasi 3: Accessing Elements\n",
        "display(Markdown(\n",
        "    \"---\\n\"\n",
        "    \"### Cermati list berikut:\\n\"\n",
        "    \"```python\\n\"\n",
        "    \"nama_teman = ['Amir', 'Budi', 'Cinta', 'Dimas', 'Edi']\\n\"\n",
        "    \"```\"\n",
        "))\n",
        "# Question 1\n",
        "display(Markdown(f\"---\\n### 1. Manakah pernyataan yang tepat terkait *indexing* bagi list tersebut:\"))\n",
        "# Menyiapkan jawaban Question 1\n",
        "correct_answers_5 = Part_3['Q5']\n",
        "# Options\n",
        "option_a_5 = widgets.Checkbox(value=False, description=\"nama_teman[0] # Mengakses elemen pertama pada list `nama_teman`.\", layout=layouts)\n",
        "option_b_5 = widgets.Checkbox(value=False, description=\"nama_teman[1] # Mengakses elemen kedua pada list `nama_teman`.\", layout=layouts)\n",
        "option_c_5 = widgets.Checkbox(value=False, description=\"nama_teman[-1] # Mengakses elemen paling akhir pada list `nama_teman`.\", layout=layouts)\n",
        "option_d_5 = widgets.Checkbox(value=False, description=\"nama_teman[-1] # Mengakses elemen kedua dari akhir pada list `nama_teman`.\", layout=layouts)\n",
        "options_5 = (option_a_5, option_b_5, option_c_5, option_d_5)\n",
        "# Result\n",
        "result_5 = widgets.Textarea(value=\"\", placeholder='Feedback', description='', disabled=True)\n",
        "# Button to check answers for Question 1\n",
        "check_button_5 = widgets.Button(description=\"Cek Jawaban\")\n",
        "check_button_5.on_click(lambda event: check_answers(correct_answers_5, options_5, result_5))\n",
        "# Tampilkan Question 1 ke layar\n",
        "display(option_a_5, option_b_5, option_c_5, option_d_5, check_button_5, result_5)\n",
        "\n",
        "# Question 2\n",
        "display(Markdown(f\"---\\n### 2. Manakah pernyataan yang tepat terkait *slicing* bagi list tersebut:\"))\n",
        "# Menyiapkan jawaban Question 2\n",
        "correct_answers_6 = Part_3['Q6']\n",
        "# Options\n",
        "option_a_6 = widgets.Checkbox(value=False, description=\"nama_teman[:2] # Mengakses elemen nama_teman, dari elemen indeks 0 hingga elemen indeks 1\", layout=layouts)\n",
        "option_b_6 = widgets.Checkbox(value=False, description=\"nama_teman[::2] # Mengakses seluruh elemen nama_teman yang bernomor indeks genap (0, 2, 4, ...)\", layout=layouts)\n",
        "option_c_6 = widgets.Checkbox(value=False, description=\"nama_teman[::-2] # Mengakses seluruh elemen nama_teman  secara terbalik, mulai dari urutan kedua dari akhir hingga paling awal\", layout=layouts)\n",
        "option_d_6 = widgets.Checkbox(value=False, description=\"nama_teman[::-1] # Mengakses seluruh elemen pada nama_teman secara terbalik, dari urutan paling akhir hingga ke awal\", layout=layouts)\n",
        "options_6 = (option_a_6, option_b_6, option_c_6, option_d_6)\n",
        "# Result\n",
        "result_6 = widgets.Textarea(value=\"\", placeholder='Feedback', description='', disabled=True)\n",
        "# Button to check\n",
        "check_button_6 = widgets.Button(description=\"Cek Jawaban\")\n",
        "check_button_6.on_click(lambda event: check_answers(correct_answers_6, options_6, result_6))\n",
        "# Tampilkan Question 2\n",
        "display(option_a_6, option_b_6, option_c_6, option_d_6, check_button_6, result_6)\n",
        "\n",
        "# Question 3\n",
        "display(Markdown(f\"---\\n### 3. Manakah cara `slicing` yang tepat untuk menghasilkan ['Edi', 'Cinta'] dari `list` tersebut:\"))\n",
        "# Menyiapkan jawaban Question 3\n",
        "correct_answers_7 = Part_3['Q7']\n",
        "# Options\n",
        "option_a_7 = widgets.Checkbox(value=False, description=\"nama_teman[-1::-2]\", layout=layouts)\n",
        "option_b_7 = widgets.Checkbox(value=False, description=\"nama_teman[-1:0:-2]\", layout=layouts)\n",
        "option_c_7 = widgets.Checkbox(value=False, description=\"nama_teman[4:0:-2]\", layout=layouts)\n",
        "option_d_7 = widgets.Checkbox(value=False, description=\"nama_teman[:0:-2]\", layout=layouts)\n",
        "options_7 = (option_a_7, option_b_7, option_c_7, option_d_7)\n",
        "# Result\n",
        "result_7 = widgets.Textarea(value=\"\", placeholder='Feedback', description='', disabled=True)\n",
        "# Button to check\n",
        "check_button_7 = widgets.Button(description=\"Cek Jawaban\")\n",
        "check_button_7.on_click(lambda event: check_answers(correct_answers_7, options_7, result_7))\n",
        "# Tampilkan Question 3\n",
        "display(option_a_7, option_b_7, option_c_7, option_d_7, check_button_7, result_7)\n",
        "display(Markdown(\"---\"))"
      ],
      "metadata": {
        "id": "ONGwjfPyuP8Q",
        "cellView": "form",
        "colab": {
          "base_uri": "https://localhost:8080/",
          "height": 829,
          "referenced_widgets": [
            "39c5fe7f1e9440f6b18060b807ae1644",
            "8b7e292cc44048989ae62f075b8e9175",
            "ec5cc8def643441085cf2ef275339aed",
            "c2ddba1ca8b34e7391533fde12b20116",
            "5a16ff8893704948b3a8dcf5428349e9",
            "b78e09147c7a4ca6b8c2aea117f069b4",
            "eed355e0300f40acbb402e8e22f084ce",
            "46d5a3f040dc48ed9aeecbf9eae7179a",
            "ce9ad3eb90734af08e0c703707c1d247",
            "fe40005855ed4239ba0e505ff21994d4",
            "87fac6725da747c2819a10f3f0eabcfe",
            "022c0ae4b5054a0c8842de25eca4c5a2",
            "4f571264965747f6a8bf78f7e1d13f37",
            "c805f2b9a5e14ffda7ad779374441aa3",
            "7ef741cb712147f9a881f6f43a9413d4",
            "742e17292c7e479381429e3b2f887cb5",
            "f93ca8c87d324db2913e8ea68b93a952",
            "89ec32a5d4f7430eac0eff3cabc783ec",
            "35e36e56917344e6812557a369f02398",
            "4c2b7eae15bf4e5eb2b70334a0af5220",
            "600a5d6c9e944ea3bde29e6f4d8df515",
            "7582229473224b72ab886f73f6452772",
            "df83aed5bced453780da0e0a28a5c98e",
            "ad04712fbd2c47019f881f714763bb2a",
            "e546f572df4740718b382ae77631238e",
            "73c026fe24ba4f069b5661caa311a640",
            "cd43b61f88d640c5b8f49ff97e1153f9",
            "dd24d118559444339364f6ee2bd2da30",
            "c81e1f130a7140e785b2fe6fa1eaf29e",
            "72d0a0c4b50f46928fc575543b29ec9c",
            "8992156b99984ab3adc8a76cf941e44d",
            "48f49c3a348b462e89196702b0529795",
            "a25f16a6d05e4574933735907d344ee5",
            "3cbd3c96c2574518b89282ebb2633056",
            "6c73ef3d5c4046d5997c127e6247340b",
            "7d1ac7bc7e024f8eab25b7a6e1d4cfac",
            "b8b047732c614a9e8a147cc0fa7f9525",
            "fd005af4035648058b7e6ed0455ff543",
            "31509488ee1346ac9ca16ba3222c0cd4",
            "90963cee2d1a4abc8ea0a517971822f6",
            "9b41400f37b244139f2ddfed16d76630",
            "baade59222574a38bcbae52362446847",
            "43f332c48b884b5daacb8e9a675a7d3e"
          ]
        },
        "outputId": "2822e58d-5c27-4469-b3da-663ccc82844a"
      },
      "execution_count": null,
      "outputs": [
        {
          "output_type": "display_data",
          "data": {
            "text/plain": [
              "<IPython.core.display.Markdown object>"
            ],
            "text/markdown": "---\n### Cermati list berikut:\n```python\nnama_teman = ['Amir', 'Budi', 'Cinta', 'Dimas', 'Edi']\n```"
          },
          "metadata": {}
        },
        {
          "output_type": "display_data",
          "data": {
            "text/plain": [
              "<IPython.core.display.Markdown object>"
            ],
            "text/markdown": "---\n### 1. Manakah pernyataan yang tepat terkait *indexing* bagi list tersebut:"
          },
          "metadata": {}
        },
        {
          "output_type": "display_data",
          "data": {
            "text/plain": [
              "Checkbox(value=False, description='nama_teman[0] # Mengakses elemen pertama pada list `nama_teman`.', layout=L…"
            ],
            "application/vnd.jupyter.widget-view+json": {
              "version_major": 2,
              "version_minor": 0,
              "model_id": "39c5fe7f1e9440f6b18060b807ae1644"
            }
          },
          "metadata": {}
        },
        {
          "output_type": "display_data",
          "data": {
            "text/plain": [
              "Checkbox(value=False, description='nama_teman[1] # Mengakses elemen kedua pada list `nama_teman`.', layout=Lay…"
            ],
            "application/vnd.jupyter.widget-view+json": {
              "version_major": 2,
              "version_minor": 0,
              "model_id": "c2ddba1ca8b34e7391533fde12b20116"
            }
          },
          "metadata": {}
        },
        {
          "output_type": "display_data",
          "data": {
            "text/plain": [
              "Checkbox(value=False, description='nama_teman[-1] # Mengakses elemen paling akhir pada list `nama_teman`.', la…"
            ],
            "application/vnd.jupyter.widget-view+json": {
              "version_major": 2,
              "version_minor": 0,
              "model_id": "b78e09147c7a4ca6b8c2aea117f069b4"
            }
          },
          "metadata": {}
        },
        {
          "output_type": "display_data",
          "data": {
            "text/plain": [
              "Checkbox(value=False, description='nama_teman[-1] # Mengakses elemen kedua dari akhir pada list `nama_teman`.'…"
            ],
            "application/vnd.jupyter.widget-view+json": {
              "version_major": 2,
              "version_minor": 0,
              "model_id": "46d5a3f040dc48ed9aeecbf9eae7179a"
            }
          },
          "metadata": {}
        },
        {
          "output_type": "display_data",
          "data": {
            "text/plain": [
              "Button(description='Cek Jawaban', style=ButtonStyle())"
            ],
            "application/vnd.jupyter.widget-view+json": {
              "version_major": 2,
              "version_minor": 0,
              "model_id": "fe40005855ed4239ba0e505ff21994d4"
            }
          },
          "metadata": {}
        },
        {
          "output_type": "display_data",
          "data": {
            "text/plain": [
              "Textarea(value='', disabled=True, placeholder='Feedback')"
            ],
            "application/vnd.jupyter.widget-view+json": {
              "version_major": 2,
              "version_minor": 0,
              "model_id": "4f571264965747f6a8bf78f7e1d13f37"
            }
          },
          "metadata": {}
        },
        {
          "output_type": "display_data",
          "data": {
            "text/plain": [
              "<IPython.core.display.Markdown object>"
            ],
            "text/markdown": "---\n### 2. Manakah pernyataan yang tepat terkait *slicing* bagi list tersebut:"
          },
          "metadata": {}
        },
        {
          "output_type": "display_data",
          "data": {
            "text/plain": [
              "Checkbox(value=False, description='nama_teman[:2] # Mengakses elemen nama_teman, dari elemen indeks 0 hingga e…"
            ],
            "application/vnd.jupyter.widget-view+json": {
              "version_major": 2,
              "version_minor": 0,
              "model_id": "742e17292c7e479381429e3b2f887cb5"
            }
          },
          "metadata": {}
        },
        {
          "output_type": "display_data",
          "data": {
            "text/plain": [
              "Checkbox(value=False, description='nama_teman[::2] # Mengakses seluruh elemen nama_teman yang bernomor indeks …"
            ],
            "application/vnd.jupyter.widget-view+json": {
              "version_major": 2,
              "version_minor": 0,
              "model_id": "89ec32a5d4f7430eac0eff3cabc783ec"
            }
          },
          "metadata": {}
        },
        {
          "output_type": "display_data",
          "data": {
            "text/plain": [
              "Checkbox(value=False, description='nama_teman[::-2] # Mengakses seluruh elemen nama_teman  secara terbalik, mu…"
            ],
            "application/vnd.jupyter.widget-view+json": {
              "version_major": 2,
              "version_minor": 0,
              "model_id": "4c2b7eae15bf4e5eb2b70334a0af5220"
            }
          },
          "metadata": {}
        },
        {
          "output_type": "display_data",
          "data": {
            "text/plain": [
              "Checkbox(value=False, description='nama_teman[::-1] # Mengakses seluruh elemen pada nama_teman secara terbalik…"
            ],
            "application/vnd.jupyter.widget-view+json": {
              "version_major": 2,
              "version_minor": 0,
              "model_id": "7582229473224b72ab886f73f6452772"
            }
          },
          "metadata": {}
        },
        {
          "output_type": "display_data",
          "data": {
            "text/plain": [
              "Button(description='Cek Jawaban', style=ButtonStyle())"
            ],
            "application/vnd.jupyter.widget-view+json": {
              "version_major": 2,
              "version_minor": 0,
              "model_id": "ad04712fbd2c47019f881f714763bb2a"
            }
          },
          "metadata": {}
        },
        {
          "output_type": "display_data",
          "data": {
            "text/plain": [
              "Textarea(value='', disabled=True, placeholder='Feedback')"
            ],
            "application/vnd.jupyter.widget-view+json": {
              "version_major": 2,
              "version_minor": 0,
              "model_id": "cd43b61f88d640c5b8f49ff97e1153f9"
            }
          },
          "metadata": {}
        },
        {
          "output_type": "display_data",
          "data": {
            "text/plain": [
              "<IPython.core.display.Markdown object>"
            ],
            "text/markdown": "---\n### 3. Manakah cara `slicing` yang tepat untuk menghasilkan ['Edi', 'Cinta'] dari `list` tersebut:"
          },
          "metadata": {}
        },
        {
          "output_type": "display_data",
          "data": {
            "text/plain": [
              "Checkbox(value=False, description='nama_teman[-1::-2]', layout=Layout(width='auto'))"
            ],
            "application/vnd.jupyter.widget-view+json": {
              "version_major": 2,
              "version_minor": 0,
              "model_id": "72d0a0c4b50f46928fc575543b29ec9c"
            }
          },
          "metadata": {}
        },
        {
          "output_type": "display_data",
          "data": {
            "text/plain": [
              "Checkbox(value=False, description='nama_teman[-1:0:-2]', layout=Layout(width='auto'))"
            ],
            "application/vnd.jupyter.widget-view+json": {
              "version_major": 2,
              "version_minor": 0,
              "model_id": "48f49c3a348b462e89196702b0529795"
            }
          },
          "metadata": {}
        },
        {
          "output_type": "display_data",
          "data": {
            "text/plain": [
              "Checkbox(value=False, description='nama_teman[4:0:-2]', layout=Layout(width='auto'))"
            ],
            "application/vnd.jupyter.widget-view+json": {
              "version_major": 2,
              "version_minor": 0,
              "model_id": "3cbd3c96c2574518b89282ebb2633056"
            }
          },
          "metadata": {}
        },
        {
          "output_type": "display_data",
          "data": {
            "text/plain": [
              "Checkbox(value=False, description='nama_teman[:0:-2]', layout=Layout(width='auto'))"
            ],
            "application/vnd.jupyter.widget-view+json": {
              "version_major": 2,
              "version_minor": 0,
              "model_id": "7d1ac7bc7e024f8eab25b7a6e1d4cfac"
            }
          },
          "metadata": {}
        },
        {
          "output_type": "display_data",
          "data": {
            "text/plain": [
              "Button(description='Cek Jawaban', style=ButtonStyle())"
            ],
            "application/vnd.jupyter.widget-view+json": {
              "version_major": 2,
              "version_minor": 0,
              "model_id": "fd005af4035648058b7e6ed0455ff543"
            }
          },
          "metadata": {}
        },
        {
          "output_type": "display_data",
          "data": {
            "text/plain": [
              "Textarea(value='', disabled=True, placeholder='Feedback')"
            ],
            "application/vnd.jupyter.widget-view+json": {
              "version_major": 2,
              "version_minor": 0,
              "model_id": "9b41400f37b244139f2ddfed16d76630"
            }
          },
          "metadata": {}
        },
        {
          "output_type": "display_data",
          "data": {
            "text/plain": [
              "<IPython.core.display.Markdown object>"
            ],
            "text/markdown": "---"
          },
          "metadata": {}
        }
      ]
    },
    {
      "cell_type": "code",
      "source": [
        "# Silahkan melakukan pengecekan indexing / slicing di sini\n",
        "len(nama_teman_baru)"
      ],
      "metadata": {
        "id": "xNS_gg2u0X52",
        "colab": {
          "base_uri": "https://localhost:8080/"
        },
        "outputId": "4f3d04a6-c1f0-4245-a5de-37770a9e568e"
      },
      "execution_count": null,
      "outputs": [
        {
          "output_type": "execute_result",
          "data": {
            "text/plain": [
              "6"
            ]
          },
          "metadata": {},
          "execution_count": 41
        }
      ]
    },
    {
      "cell_type": "markdown",
      "metadata": {
        "id": "JZ705wgCIqn4"
      },
      "source": [
        "## Copying\n",
        "Operasi ini umumnya jarang dilakukan, akan tetapi membuat duplikat dari sebuah `list` merupakan sebuah *good practice*, terutama ketika hendak melakukan pengolahan terhadap elemen dari `list` tersebut. Hal ini untuk memastikan bahwa data orijinal tidak mengalami perubahan, sehingga pada saat terjadi kesalahan dalam proses pengolahan, kita dapat melakukan *trace back* ke kondisi sebelumnyan dengan mudah.\n",
        "\n",
        "Untuk membuat copy dari sebuah `list` kita dapat menggunakan method `copy` seperti dicontohkan berikut di bawah ini:\n",
        "```python\n",
        "# Membuat sebuah copy dari nama_teman\n",
        "nama_teman_copy = nama_teman.copy()\n",
        "```"
      ]
    },
    {
      "cell_type": "code",
      "source": [
        "# @title ### Ilustrasi 4: Copying `list`\n",
        "\n",
        "# Membuat duplikat list angka ganjil\n",
        "angka_ganjil_copy = angka_ganjil.copy()\n",
        "# Membuat duplikat nama_teman\n",
        "nama_teman_baru = nama_teman.copy()\n",
        "# Melakukan proses perubahan\n",
        "angka_ganjil_copy[2] = angka_ganjil_copy[2]/4\n",
        "nama_teman_baru.insert(2, 'Rhoma')\n",
        "\n",
        "display(Markdown(\n",
        "    \"---\\n\"\n",
        "    \"### Cermati *Scripts* di bawah berikut:\\n\"\n",
        "    \"```python\\n\"\n",
        "    \"# Membuat duplikat list angka ganjil\\n\"\n",
        "    \"angka_ganjil_copy = angka_ganjil.copy()\\n\"\n",
        "    \"# Membuat duplikat nama_teman\\n\"\n",
        "    \"nama_teman_baru = nama_teman.copy()\\n\"\n",
        "    \"# Melakukan proses perubahan\\n\"\n",
        "    \"angka_ganjil_copy[2] = angka_ganjil_copy[2]/4\\n\"\n",
        "    \"nama_teman_baru.insert(2, 'Rhoma')\\n\"\n",
        "    \"```\\n\"\n",
        "    \"---\"\n",
        "))\n",
        "display(Markdown(\"### Pernyataan mana yang tidak benar:\"))\n",
        "\n",
        "# Jawaban Pertanyaan\n",
        "correct_answers_9 = Part_3['Q9']\n",
        "\n",
        "# Options\n",
        "option_a_9 = widgets.Checkbox(value=False, description=f\"angka_ganjil_copy = {str(angka_ganjil_copy)}\", layout=layouts)\n",
        "option_b_9 = widgets.Checkbox(value=False, description=f\"nama_teman_baru = {str(nama_teman_baru)}\", layout=layouts)\n",
        "option_c_9 = widgets.Checkbox(value=False, description=f\"angka_ganjil = {str(angka_ganjil)}\", layout=layouts)\n",
        "option_d_9 = widgets.Checkbox(value=False, description=f\"nama_teman = {str(nama_teman)}\", layout=layouts)\n",
        "options_9 = (option_a_9, option_b_9, option_c_9, option_d_9)\n",
        "\n",
        "# Result\n",
        "result_9 = widgets.Textarea(value=\"\", placeholder='Feedback', description='', disabled=True)\n",
        "\n",
        "# Button to check answers for Question\n",
        "check_button_9 = widgets.Button(description=\"Cek Jawaban\")\n",
        "check_button_9.on_click(lambda event: check_answers(correct_answers_9, options_9, result_9))\n",
        "\n",
        "# Tampilkan Question\n",
        "display(option_a_9, option_b_9, option_c_9, option_d_9, check_button_9, result_9)\n",
        "display(Markdown(\"---\"))"
      ],
      "metadata": {
        "id": "5PpmSnXiu_IL",
        "cellView": "form",
        "colab": {
          "base_uri": "https://localhost:8080/",
          "height": 447,
          "referenced_widgets": [
            "bb5dcc9cb7bc47029ee0762dae802dad",
            "8b7e292cc44048989ae62f075b8e9175",
            "e52a9e359d404d3b9f88a2b7287f803e",
            "bd93286e42064d01b77ae7aa9604538e",
            "b31dbe60aacd4529a166439066710a8c",
            "320eecb56ed04090b38e895fefa3f6c5",
            "a61da18f638346749f3da0136473998a",
            "953ee69c3e424e1489613546270fb283",
            "46ab6351ea494e6e8d711b64308eea6e",
            "0b2eec7df45840fcbdd7623ab30cd060",
            "d50c405c391449dfaef76cbb7651775f",
            "40765bb51dca476ba05d17702e20d5fc",
            "9e5e7f90c1ab4298918d4927e57310b9",
            "06415d4c29c3408790e0bc2089968d0e",
            "840e8b75d4fb42228240f0fbcac89ee4"
          ]
        },
        "outputId": "f3a2411d-6e4a-4cb8-bd39-ae7c5d1d360c"
      },
      "execution_count": null,
      "outputs": [
        {
          "output_type": "display_data",
          "data": {
            "text/plain": [
              "<IPython.core.display.Markdown object>"
            ],
            "text/markdown": "---\n### Cermati *Scripts* di bawah berikut:\n```python\n# Membuat duplikat list angka ganjil\nangka_ganjil_copy = angka_ganjil.copy()\n# Membuat duplikat nama_teman\nnama_teman_baru = nama_teman.copy()\n# Melakukan proses perubahan\nangka_ganjil_copy[2] = angka_ganjil_copy[2]/4\nnama_teman_baru.insert(2, 'Rhoma')\n```\n---"
          },
          "metadata": {}
        },
        {
          "output_type": "display_data",
          "data": {
            "text/plain": [
              "<IPython.core.display.Markdown object>"
            ],
            "text/markdown": "### Pernyataan mana yang tidak benar:"
          },
          "metadata": {}
        },
        {
          "output_type": "display_data",
          "data": {
            "text/plain": [
              "Checkbox(value=False, description='angka_ganjil_copy = [1, 3, 1.25, 7, 9]', layout=Layout(width='auto'))"
            ],
            "application/vnd.jupyter.widget-view+json": {
              "version_major": 2,
              "version_minor": 0,
              "model_id": "bb5dcc9cb7bc47029ee0762dae802dad"
            }
          },
          "metadata": {}
        },
        {
          "output_type": "display_data",
          "data": {
            "text/plain": [
              "Checkbox(value=False, description=\"nama_teman_baru = ['Amir', 'Budi', 'Rhoma', 'Cinta', 'Dimas', 'Edi']\", layo…"
            ],
            "application/vnd.jupyter.widget-view+json": {
              "version_major": 2,
              "version_minor": 0,
              "model_id": "bd93286e42064d01b77ae7aa9604538e"
            }
          },
          "metadata": {}
        },
        {
          "output_type": "display_data",
          "data": {
            "text/plain": [
              "Checkbox(value=False, description='angka_ganjil = [1, 3, 5, 7, 9]', layout=Layout(width='auto'))"
            ],
            "application/vnd.jupyter.widget-view+json": {
              "version_major": 2,
              "version_minor": 0,
              "model_id": "320eecb56ed04090b38e895fefa3f6c5"
            }
          },
          "metadata": {}
        },
        {
          "output_type": "display_data",
          "data": {
            "text/plain": [
              "Checkbox(value=False, description=\"nama_teman = ['Amir', 'Budi', 'Cinta', 'Dimas', 'Edi']\", layout=Layout(widt…"
            ],
            "application/vnd.jupyter.widget-view+json": {
              "version_major": 2,
              "version_minor": 0,
              "model_id": "953ee69c3e424e1489613546270fb283"
            }
          },
          "metadata": {}
        },
        {
          "output_type": "display_data",
          "data": {
            "text/plain": [
              "Button(description='Cek Jawaban', style=ButtonStyle())"
            ],
            "application/vnd.jupyter.widget-view+json": {
              "version_major": 2,
              "version_minor": 0,
              "model_id": "0b2eec7df45840fcbdd7623ab30cd060"
            }
          },
          "metadata": {}
        },
        {
          "output_type": "display_data",
          "data": {
            "text/plain": [
              "Textarea(value='', disabled=True, placeholder='Feedback')"
            ],
            "application/vnd.jupyter.widget-view+json": {
              "version_major": 2,
              "version_minor": 0,
              "model_id": "9e5e7f90c1ab4298918d4927e57310b9"
            }
          },
          "metadata": {}
        },
        {
          "output_type": "display_data",
          "data": {
            "text/plain": [
              "<IPython.core.display.Markdown object>"
            ],
            "text/markdown": "---"
          },
          "metadata": {}
        }
      ]
    },
    {
      "cell_type": "markdown",
      "metadata": {
        "id": "JDEkiWu_DmS_"
      },
      "source": [
        "## [*Common Sequence Operations*](https://docs.python.org/3/library/stdtypes.html#common-sequence-operations) for `list`\n",
        "*Common Sequence Operations* adalah berbagai fungsi, methods dan operasi yang dapat dikenakan terhadap data bertipe sequence, antara lain:\n",
        "1. Fungsi `len()`;\n",
        "2. Method `count()`;\n",
        "3. Method `index()`;\n",
        "4. Method `sort()`;\n",
        "5. Method `reverse()`;\n",
        "6. Operasi Concatenate `list_1 + list_2`;\n",
        "7. Operasi Repetition `2 * list_1`;\n",
        "8. Fungsi `max()`; dan\n",
        "9. Fungsi `min()`;\n",
        "10. Operasi `in`;\n",
        "11. Operasi `not in`."
      ]
    },
    {
      "cell_type": "markdown",
      "source": [
        "### Ilustrasi 5: Common Sequence Operators"
      ],
      "metadata": {
        "id": "TyqKzA1eXjDu"
      }
    },
    {
      "cell_type": "code",
      "execution_count": null,
      "metadata": {
        "id": "M3C5VDzGjvIB",
        "colab": {
          "base_uri": "https://localhost:8080/"
        },
        "outputId": "3f749a07-9738-412b-e05e-3911183d4d56"
      },
      "outputs": [
        {
          "output_type": "stream",
          "name": "stdout",
          "text": [
            "Jumlah elemen pada list nama_teman = 5\n",
            "Jumlah elemen pada list nama_teman_baru = 6\n"
          ]
        }
      ],
      "source": [
        "# Menampilkan jumlah elemen pada sebuah list\n",
        "\n",
        "print(f\"Jumlah elemen pada list nama_teman = {len(nama_teman)}\")\n",
        "print(f\"Jumlah elemen pada list nama_teman_baru = {len(nama_teman_baru)}\")"
      ]
    },
    {
      "cell_type": "code",
      "execution_count": null,
      "metadata": {
        "id": "tc6DZ73OkGla",
        "colab": {
          "base_uri": "https://localhost:8080/"
        },
        "outputId": "39bbe2ab-06ed-4ee3-df03-cd88e1b0128e"
      },
      "outputs": [
        {
          "output_type": "execute_result",
          "data": {
            "text/plain": [
              "0"
            ]
          },
          "metadata": {},
          "execution_count": 43
        }
      ],
      "source": [
        "# Menghitung banyaknya kemunculan sebuah elemen\n",
        "\n",
        "nama_teman_baru.count('Beni')"
      ]
    },
    {
      "cell_type": "code",
      "execution_count": null,
      "metadata": {
        "id": "gC9tnRsJkbh9",
        "colab": {
          "base_uri": "https://localhost:8080/"
        },
        "outputId": "1489aa49-02a9-4ed5-b86f-975a9f538711"
      },
      "outputs": [
        {
          "output_type": "execute_result",
          "data": {
            "text/plain": [
              "4"
            ]
          },
          "metadata": {},
          "execution_count": 44
        }
      ],
      "source": [
        "# Menampilkan index dari elemen tertentu\n",
        "# jika elemen memiliki duplikat maka index yang ditampilkan adalah index terkecil\n",
        "\n",
        "nama_teman_baru.index('Dimas')"
      ]
    },
    {
      "cell_type": "code",
      "source": [
        "nama_teman_baru"
      ],
      "metadata": {
        "colab": {
          "base_uri": "https://localhost:8080/"
        },
        "id": "HTt_NQ_S1Tud",
        "outputId": "caac55d6-536b-45cd-b976-b3b00918d30b"
      },
      "execution_count": null,
      "outputs": [
        {
          "output_type": "execute_result",
          "data": {
            "text/plain": [
              "['Amir', 'Budi', 'Rhoma', 'Cinta', 'Dimas', 'Edi']"
            ]
          },
          "metadata": {},
          "execution_count": 45
        }
      ]
    },
    {
      "cell_type": "code",
      "source": [
        "# Me-reverse order dari elemen pada list\n",
        "# Reverse itu bukanlah sorting\n",
        "nama_teman_baru.reverse()\n",
        "# Tampilkan hasis reverse ke layar\n",
        "print(nama_teman_baru)"
      ],
      "metadata": {
        "id": "EoLC0QJZi2ZQ",
        "colab": {
          "base_uri": "https://localhost:8080/"
        },
        "outputId": "323ecfd4-4685-4c13-e8ff-145e92327cda"
      },
      "execution_count": null,
      "outputs": [
        {
          "output_type": "stream",
          "name": "stdout",
          "text": [
            "['Edi', 'Dimas', 'Cinta', 'Rhoma', 'Budi', 'Amir']\n"
          ]
        }
      ]
    },
    {
      "cell_type": "code",
      "execution_count": null,
      "metadata": {
        "id": "9AjnYrC8nWRe",
        "colab": {
          "base_uri": "https://localhost:8080/"
        },
        "outputId": "da13af8d-add5-4288-863e-d5a34bbc3137"
      },
      "outputs": [
        {
          "output_type": "stream",
          "name": "stdout",
          "text": [
            "List diurut secara Ascending: ['Amir', 'Budi', 'Cinta', 'Dimas', 'Edi', 'Rhoma']\n",
            "List diurut secara Descending: ['Rhoma', 'Edi', 'Dimas', 'Cinta', 'Budi', 'Amir']\n"
          ]
        }
      ],
      "source": [
        "# Mengurutkan elemen pada list menggunakan method sort()\n",
        "# Method sort() akan melakukan perubahan secara 'inplace'\n",
        "\n",
        "# Ascending sorting\n",
        "nama_teman_baru.sort()\n",
        "print(f'List diurut secara Ascending: {nama_teman_baru}')\n",
        "\n",
        "# Descending sorting\n",
        "nama_teman_baru.sort(reverse=True)\n",
        "print(f'List diurut secara Descending: {nama_teman_baru}')"
      ]
    },
    {
      "cell_type": "code",
      "execution_count": null,
      "metadata": {
        "id": "KtxA7uHmPh51",
        "colab": {
          "base_uri": "https://localhost:8080/"
        },
        "outputId": "a871a2fd-b909-4977-c3ba-cc74459ed8eb"
      },
      "outputs": [
        {
          "output_type": "stream",
          "name": "stdout",
          "text": [
            "Hasil concatenation nama_teman dan angka: ['Amir', 'Budi', 'Cinta', 'Dimas', 'Edi', 0, 1, 2, 3, 4, 5, 6, 7, 8, 9]\n"
          ]
        }
      ],
      "source": [
        "# Concatenation, menggabungkan list dengan list lain\n",
        "print(f\"Hasil concatenation nama_teman dan angka: {nama_teman+angka}\")"
      ]
    },
    {
      "cell_type": "code",
      "execution_count": null,
      "metadata": {
        "id": "6BtyqEERPzm0",
        "colab": {
          "base_uri": "https://localhost:8080/"
        },
        "outputId": "f9b820fc-b13d-4d8d-9781-cfb56c40e515"
      },
      "outputs": [
        {
          "output_type": "stream",
          "name": "stdout",
          "text": [
            "['Amir', 'Budi', 'Cinta', 'Dimas', 'Edi', 'Amir', 'Budi', 'Cinta', 'Dimas', 'Edi']\n",
            "[0, 1, 2, 3, 4, 5, 6, 7, 8, 9, 0, 1, 2, 3, 4, 5, 6, 7, 8, 9]\n"
          ]
        }
      ],
      "source": [
        "# Repetition, mengulang list\n",
        "print(2 * nama_teman)\n",
        "print(2 * angka)"
      ]
    },
    {
      "cell_type": "code",
      "execution_count": null,
      "metadata": {
        "id": "EeqE2FsxL2A4",
        "colab": {
          "base_uri": "https://localhost:8080/",
          "height": 35
        },
        "outputId": "5b9e5dc8-48df-4424-a9cc-824ebe5ea926"
      },
      "outputs": [
        {
          "output_type": "execute_result",
          "data": {
            "text/plain": [
              "'Rhoma'"
            ],
            "application/vnd.google.colaboratory.intrinsic+json": {
              "type": "string"
            }
          },
          "metadata": {},
          "execution_count": 52
        }
      ],
      "source": [
        "# Mencari elemen dengan value paling besar\n",
        "max(nama_teman_baru)"
      ]
    },
    {
      "cell_type": "code",
      "execution_count": null,
      "metadata": {
        "id": "MhhI1R_YMJpB",
        "colab": {
          "base_uri": "https://localhost:8080/",
          "height": 35
        },
        "outputId": "6e785680-f0ed-4972-b2cf-e173477ab995"
      },
      "outputs": [
        {
          "output_type": "execute_result",
          "data": {
            "text/plain": [
              "'Amir'"
            ],
            "application/vnd.google.colaboratory.intrinsic+json": {
              "type": "string"
            }
          },
          "metadata": {},
          "execution_count": 53
        }
      ],
      "source": [
        "# Mencari elemen dengan value paling kecil\n",
        "min(nama_teman_baru)"
      ]
    },
    {
      "cell_type": "code",
      "execution_count": null,
      "metadata": {
        "id": "LbWth0_lJ8gB",
        "colab": {
          "base_uri": "https://localhost:8080/"
        },
        "outputId": "fc8c4275-f6fd-4abd-a683-25ed0952bbb4"
      },
      "outputs": [
        {
          "output_type": "execute_result",
          "data": {
            "text/plain": [
              "True"
            ]
          },
          "metadata": {},
          "execution_count": 55
        }
      ],
      "source": [
        "# Melakukan pengecekan keberadaan 'Rhoma' pada list nama_teman\n",
        "\n",
        "'Edi' in nama_teman"
      ]
    },
    {
      "cell_type": "code",
      "execution_count": null,
      "metadata": {
        "id": "SEgGk5XkKIdU",
        "colab": {
          "base_uri": "https://localhost:8080/"
        },
        "outputId": "4931ac20-3d03-4a62-f563-2921281d4df9"
      },
      "outputs": [
        {
          "output_type": "execute_result",
          "data": {
            "text/plain": [
              "False"
            ]
          },
          "metadata": {},
          "execution_count": 57
        }
      ],
      "source": [
        "# Melakukan pengecekan ketidak-adaan 'Rhoma' pada list nama_teman\n",
        "\n",
        "'Edi' not in nama_teman"
      ]
    },
    {
      "cell_type": "markdown",
      "metadata": {
        "id": "XLxgVGTX9TSy"
      },
      "source": [
        "## Size modification\n",
        "Beberapa methods yang dapat mengubah ukuran dari sebuah `list`:\n",
        "1. Menambah elemen baru pada akhir sebuah list:\n",
        "```python\n",
        "nama_list.append(elemen_baru)\n",
        "```\n",
        "2. Menyisipkan elemen baru pada posisi tertentu:\n",
        "```python\n",
        "nama_list.insert(index_posisi, elemen_baru)\n",
        "```\n",
        "3. Menghapus elemen pada posisi index tertentu:\n",
        "```python\n",
        "nama_list.pop(indeks)\n",
        "```\n",
        "4. Menghapus elemen tertentu dari `list`:\n",
        "```python\n",
        "nama_list.remove(elemen)\n",
        "```\n",
        "5. Mengosongkan seluruh elemen dari `list:\n",
        "```python\n",
        "nama_list.clear()\n",
        "```"
      ]
    },
    {
      "cell_type": "markdown",
      "source": [
        "### Ilustrasi 6: Size Modification"
      ],
      "metadata": {
        "id": "tBcf918_YlHk"
      }
    },
    {
      "cell_type": "code",
      "execution_count": null,
      "metadata": {
        "id": "Bhut-OTQhHAT",
        "colab": {
          "base_uri": "https://localhost:8080/"
        },
        "outputId": "b1c491fd-4b32-4e99-8004-57f17e6f1fff"
      },
      "outputs": [
        {
          "output_type": "stream",
          "name": "stdout",
          "text": [
            "['Rhoma', 'Edi', 'Dimas', 'Cinta', 'Budi', 'Amir', 'Ferdi']\n"
          ]
        }
      ],
      "source": [
        "# Menambahkan elemen baru di akhir list\n",
        "\n",
        "nama_teman_baru.append('Ferdi')\n",
        "print(nama_teman_baru)"
      ]
    },
    {
      "cell_type": "code",
      "execution_count": null,
      "metadata": {
        "id": "VAvBlTqGk6iT",
        "colab": {
          "base_uri": "https://localhost:8080/"
        },
        "outputId": "339385bb-5494-4d97-db32-762388f6d876"
      },
      "outputs": [
        {
          "output_type": "stream",
          "name": "stdout",
          "text": [
            "['Rhoma', 'Edi', 'Canda', 'Dimas', 'Cinta', 'Budi', 'Amir', 'Ferdi']\n"
          ]
        }
      ],
      "source": [
        "# Menyisipkan elemen baru pada indeks posisi tertentu\n",
        "\n",
        "nama_teman_baru.insert(2, 'Canda')\n",
        "print(nama_teman_baru)"
      ]
    },
    {
      "cell_type": "code",
      "execution_count": null,
      "metadata": {
        "id": "wBUDNtMHmKOK",
        "colab": {
          "base_uri": "https://localhost:8080/"
        },
        "outputId": "e97a29d3-8f2c-4756-c79f-ce92389c9064"
      },
      "outputs": [
        {
          "output_type": "stream",
          "name": "stdout",
          "text": [
            "['Rhoma', 'Edi', 'Dimas', 'Cinta', 'Budi', 'Amir', 'Ferdi']\n"
          ]
        }
      ],
      "source": [
        "# Menghapus elemen pada index posisional tertentu\n",
        "\n",
        "nama_teman_baru.pop(2)\n",
        "print(nama_teman_baru)"
      ]
    },
    {
      "cell_type": "code",
      "execution_count": null,
      "metadata": {
        "id": "7rtOiNMJmzqe",
        "colab": {
          "base_uri": "https://localhost:8080/"
        },
        "outputId": "3e1b1ae6-c86e-4101-85c2-5b9e7d6d1fb7"
      },
      "outputs": [
        {
          "output_type": "stream",
          "name": "stdout",
          "text": [
            "['Rhoma', 'Edi', 'Dimas', 'Budi', 'Amir', 'Ferdi', 'Cinta']\n"
          ]
        }
      ],
      "source": [
        "# Menghapus elemen tertentu\n",
        "# Jika terdapat elemen yang terduplikat maka yang dihapus adalah value yang muncul pertama kali\n",
        "nama_teman_baru.append('Cinta')\n",
        "nama_teman_baru.remove('Cinta')\n",
        "print(nama_teman_baru)"
      ]
    },
    {
      "cell_type": "code",
      "execution_count": null,
      "metadata": {
        "id": "BmZ1HqighMV1",
        "colab": {
          "base_uri": "https://localhost:8080/"
        },
        "outputId": "6fffbf4d-e194-47f7-ba6e-e7a9c582902d"
      },
      "outputs": [
        {
          "output_type": "stream",
          "name": "stdout",
          "text": [
            "[]\n"
          ]
        }
      ],
      "source": [
        "# Mengosongkan nama_teman\n",
        "\n",
        "nama_teman_baru.clear()\n",
        "print(nama_teman_baru)"
      ]
    },
    {
      "cell_type": "code",
      "source": [
        "[nama for nama in nama_teman if nama!='Cinta']"
      ],
      "metadata": {
        "colab": {
          "base_uri": "https://localhost:8080/"
        },
        "id": "dETqPVh647fq",
        "outputId": "465d7c2d-00ab-4e90-fc4f-d77e540b6965"
      },
      "execution_count": null,
      "outputs": [
        {
          "output_type": "execute_result",
          "data": {
            "text/plain": [
              "['Amir', 'Budi', 'Dimas', 'Edi']"
            ]
          },
          "metadata": {},
          "execution_count": 64
        }
      ]
    },
    {
      "cell_type": "markdown",
      "metadata": {
        "id": "bDYTPQ9yGNNo"
      },
      "source": [
        "## Elements mutations\n",
        "Cara melakukan mutasi terhadap elemen sebuah list:\n",
        "```python\n",
        "# Menggunakan Index\n",
        "nama_list[indeks_posisional]=elemen_pengganti\n",
        "\n",
        "# Menggunakan list comprehension\n",
        "mutated_list = [x if x!='Beni' else 'Budi' for x in nama_list]\n",
        "```"
      ]
    },
    {
      "cell_type": "markdown",
      "source": [
        "### Ilustrasi 7: Elements Mutation"
      ],
      "metadata": {
        "id": "srs3GwGQY1PB"
      }
    },
    {
      "cell_type": "code",
      "execution_count": null,
      "metadata": {
        "id": "oS2T-Ny_UJl4",
        "colab": {
          "base_uri": "https://localhost:8080/"
        },
        "outputId": "79ba797a-780d-443f-ea4e-caa5fca57a21"
      },
      "outputs": [
        {
          "output_type": "stream",
          "name": "stdout",
          "text": [
            "-------------------------HASIL PERUBAHAN MENGGUNAKAN INDEX--------------------------\n",
            "Elemen pada list nama_teman     : ['Amir', 'Beni', 'Cinta', 'Dimas', 'Edi']\n",
            "Elemen pada list nama_teman_baru: []\n",
            "\n",
            "-------------------HASIL PERUBAHAN MENGGUNAKAN LIST COMPREHENSION-------------------\n",
            "Elemen pada list nama_teman     : ['Amir', 'Budi', 'Cinta', 'Dimas', 'Edi']\n",
            "Elemen pada list nama_teman_baru: []\n"
          ]
        }
      ],
      "source": [
        "# Mengganti elemen pada index tertentu dari list nama_teman\n",
        "# Budi akan digantikan dengan Beni\n",
        "# Ketika terjadi mutasi terhadap elemen pada list hasil copy,\n",
        "# elemen pada list original tidak mengalami perubahan!!!\n",
        "\n",
        "# Merubah elemen index 1 menjadi 'Beni'\n",
        "nama_teman[1] = 'Beni'\n",
        "print(f\"{'HASIL PERUBAHAN MENGGUNAKAN INDEX':-^84}\")\n",
        "print(f\"{'Elemen pada list nama_teman': <32}: {nama_teman}\")\n",
        "print(f\"{'Elemen pada list nama_teman_baru': <32}: {nama_teman_baru}\\n\")\n",
        "\n",
        "# Merubah elemen bernilai == 'Beni' menjadi 'Budi'\n",
        "nama_teman = [x if x!='Beni' else 'Budi' for x in nama_teman]\n",
        "print(f\"{'HASIL PERUBAHAN MENGGUNAKAN LIST COMPREHENSION':-^84}\")\n",
        "print(f\"{'Elemen pada list nama_teman': <32}: {nama_teman}\")\n",
        "print(f\"{'Elemen pada list nama_teman_baru': <32}: {nama_teman_baru}\")"
      ]
    },
    {
      "cell_type": "markdown",
      "metadata": {
        "id": "GHo5_hELi74V"
      },
      "source": [
        "# EXERCISE 2: `list`\n",
        "Lakukan mutasi pada setiap elemen pada list angka_ganjil:\n",
        "1. Lakukan duplikat terhadap `angka_ganjil` dan assign ke variabel baru bernama `angka_untuk_dirubah`;\n",
        "2. Lakukan operasi pangkat 2 terhadap elemen `angka_untuk_dirubah` dengan indeks == 4;\n",
        "3. Lakukan operasi pangkat 0 terhadap seluruh elemen pada `angka_ganjil`, lalu assign ke variabel bernama `angka_satu`;\n",
        "4. Lakukan operasi perkalian angka 10 dengan setiap elemen ber-**indeks ganjil** pada `angka_ganjil`, lalu assign ke sebuah variabel bernama `perkalian_sepuluh_terpilih`."
      ]
    },
    {
      "cell_type": "code",
      "source": [
        "# 1. Duplikat angka_ganjil\n",
        "angka_untuk_dirubah = angka_ganjil.copy()\n",
        "print(angka_untuk_dirubah)"
      ],
      "metadata": {
        "id": "Qma66JR-6PRo",
        "colab": {
          "base_uri": "https://localhost:8080/"
        },
        "outputId": "c7593a42-508e-48bf-abdb-b85b00ee78ea"
      },
      "execution_count": null,
      "outputs": [
        {
          "output_type": "stream",
          "name": "stdout",
          "text": [
            "[1, 3, 5, 7, 9]\n"
          ]
        }
      ]
    },
    {
      "cell_type": "code",
      "execution_count": null,
      "metadata": {
        "id": "JbxfwelAQuQA",
        "colab": {
          "base_uri": "https://localhost:8080/"
        },
        "outputId": "278ed11d-3169-476a-8c6c-d64f5bbc2134"
      },
      "outputs": [
        {
          "output_type": "stream",
          "name": "stdout",
          "text": [
            "[1, 3, 5, 7, 81]\n"
          ]
        }
      ],
      "source": [
        "# 2. Mutasi elemen ber-index == 4 pada angka_untuk_dirubah\n",
        "angka_untuk_dirubah[4] = angka_untuk_dirubah[4]**2\n",
        "print(angka_untuk_dirubah)"
      ]
    },
    {
      "cell_type": "code",
      "source": [
        "# 3. Operasi pangkat 0 terhadap seluruh elemen angka_ganjil\n",
        "angka_satu = [x**0 for x in angka_ganjil]\n",
        "print(angka_satu)"
      ],
      "metadata": {
        "id": "CpY-KNJD41A9",
        "colab": {
          "base_uri": "https://localhost:8080/"
        },
        "outputId": "82061099-a625-4bf4-ddff-d1fd9502e097"
      },
      "execution_count": null,
      "outputs": [
        {
          "output_type": "stream",
          "name": "stdout",
          "text": [
            "[1, 1, 1, 1, 1]\n"
          ]
        }
      ]
    },
    {
      "cell_type": "code",
      "source": [
        "# 4. Operasi perkalian 10 terhadap elemen berindeks ganjil dari angka_ganjil\n",
        "perkalian_sepuluh_terpilih = [angka_ganjil[x]*10 if x%2==1 else angka_ganjil[x] for x in range(len(angka_ganjil)) ]\n",
        "print(perkalian_sepuluh_terpilih)"
      ],
      "metadata": {
        "id": "crwvAfVz7XJR",
        "colab": {
          "base_uri": "https://localhost:8080/"
        },
        "outputId": "8663faf3-543a-472b-d4e8-77650d486b7f"
      },
      "execution_count": null,
      "outputs": [
        {
          "output_type": "stream",
          "name": "stdout",
          "text": [
            "[1, 30, 5, 70, 9]\n"
          ]
        }
      ]
    },
    {
      "cell_type": "code",
      "source": [
        "[x*10 if idx%2==1 else x for idx, x in enumerate(angka_ganjil)]"
      ],
      "metadata": {
        "colab": {
          "base_uri": "https://localhost:8080/"
        },
        "id": "aZLCK097928s",
        "outputId": "a3861239-4d97-4b5a-f8eb-f27ba0e502ee"
      },
      "execution_count": null,
      "outputs": [
        {
          "output_type": "execute_result",
          "data": {
            "text/plain": [
              "[1, 30, 5, 70, 9]"
            ]
          },
          "metadata": {},
          "execution_count": 78
        }
      ]
    },
    {
      "cell_type": "markdown",
      "metadata": {
        "id": "FV_-gQW2rIiT"
      },
      "source": [
        "---\n",
        "# `Tuple`\n",
        "> Serupa dengan `list`, sebuah `tuple` berisikan objek bertipe rangkaian (*sequence*).\n",
        "\n",
        "Sebuah `tuple` memiliki karakteristik yang hampir seluruhnya mirip dengan `list`. Karakteristik yang membedakan `tuple` dari `list` adalah sifatnya yang ***immutable***, dengan kata lain sebuah `tuple` bersifat *fixed* dan *unchangeable*. Setelah sebuah `tuple` dibangun isinya tidak akan bisa berubah, sehingga biasanya `tuple` dipergunakan untuk menyimpan data yang bersifat konstan, seperti:\n",
        "1. Menyimpan nilai warna dalam format RGB (exp. red = (255, 0, 0));\n",
        "2. Menyimpan data geometri (exp. koordinat = (106.888111, 17.132424))."
      ]
    },
    {
      "cell_type": "markdown",
      "metadata": {
        "id": "umz2HU5OcYcx"
      },
      "source": [
        "### Construction\n",
        "Beberapa cara untuk membuat sebuah `tuple`:\n",
        "1. Menggunakan `comma literals`:\n",
        "```python\n",
        "nama_tuple = item_1, item_2, ..., item_n\n",
        "```\n",
        "2. Menggunakan `tuple literals`:\n",
        "```python\n",
        "nama_tuple = () # Membuat tuple kosong\n",
        "nama_tuple = (elemen_1, elemen_2, ..., elemen_n)\n",
        "```\n",
        "\n",
        "3. Menggunakan `type constructor`:\n",
        "```python\n",
        "nama_tuple = tuple() # Membuat tuple kosong\n",
        "nama_tuple = tuple(iterable)\n",
        "```"
      ]
    },
    {
      "cell_type": "code",
      "source": [
        "# @title ### Ilustrasi 8: `tuple` Construction\n",
        "# Membuat tuple dengan comma literals\n",
        "gaji_tuple = 1_000_000, 2_000_000, 3_000_000, 4_000_000, 5_000_000\n",
        "# Membuat tuple dengan tuple literals\n",
        "umur_tuple = (25, 20, 30, 40, 50)\n",
        "# Membuat tuple dengan type constructor\n",
        "kode_tuple = tuple(range(100, 501, 100))\n",
        "# Question 1\n",
        "display(Markdown(\"---\\n### 1. Mana yang bukan merupakan cara untuk membuat sebuah `tuple`?\"))\n",
        "# Menyediakan jawaban\n",
        "correct_answers_8 = Part_3['Q8']\n",
        "# Options\n",
        "option_a_8 = widgets.Checkbox(value=False, description=\"gaji_tuple = 1_000_000, 2_000_000, 3_000_000, 4_000_000, 5_000_000\", layout=layouts)\n",
        "option_b_8 = widgets.Checkbox(value=False, description=\"umur_tuple = (25, 20, 30, 40, 50)\", layout=layouts)\n",
        "option_c_8 = widgets.Checkbox(value=False, description=\"kode_tuple = tuple(range(100, 501, 100))\", layout=layouts)\n",
        "option_d_8 = widgets.Checkbox(value=False, description=\"kode_tuple = tuple(x**2 for x in tuple(range(100, 501, 100)))\", layout=layouts)\n",
        "option_e_8 = widgets.Checkbox(value=False, description=\"kode_tuple = (x**2 for x in range(100, 501, 100))\", layout=layouts)\n",
        "options_8 = (option_a_8, option_b_8, option_c_8, option_d_8, option_e_8)\n",
        "# Result\n",
        "result_8 = widgets.Textarea(value=\"\", placeholder='Feedback', description='', disabled=True)\n",
        "# Button to check answers for Question 1\n",
        "check_button_8 = widgets.Button(description=\"Cek Jawaban\")\n",
        "check_button_8.on_click(lambda event: check_answers(correct_answers_8, options_8, result_8))\n",
        "# Tampilkan Question 1\n",
        "display(option_a_8, option_b_8, option_c_8, option_d_8, option_e_8, check_button_8, result_8)"
      ],
      "metadata": {
        "id": "ai2Y3VfqIWom",
        "cellView": "form",
        "colab": {
          "base_uri": "https://localhost:8080/",
          "height": 292,
          "referenced_widgets": [
            "129ccebd93d44a03b66225b6839d674a",
            "8b7e292cc44048989ae62f075b8e9175",
            "09f89736071e4486b0424415c8469557",
            "9865f66bfd314d43b740fbf237ccf60f",
            "d23342f7b6694bfdb1e32cfc310244e0",
            "42bf03ae91c745a18a95a09ad6aa9c9c",
            "9814494d9cd64af58c87984e0b0d1752",
            "89cee6aec4314430ab7f50afc4172276",
            "71845c38d1b64fcb8c41873a70d6d66f",
            "291fd649bb494e61bfc8dbf8894f932c",
            "2c85cb2abf5446c397046089db6af15a",
            "e20edd67777e4d04b41daa83560dd1a6",
            "162d55538edc49ce9aad0ebc1aa09751",
            "ba85292fbd434dc683dc26efc67f0887",
            "a7194026d8ff4e86bccf90fab47cedbb",
            "ccba7c2e6b724644a53f736edec864fc",
            "c99ac636b6e242c2928feca0f4c91b30"
          ]
        },
        "outputId": "0654d14b-f27c-4f76-8d9f-46d0d56535a9"
      },
      "execution_count": null,
      "outputs": [
        {
          "output_type": "display_data",
          "data": {
            "text/plain": [
              "<IPython.core.display.Markdown object>"
            ],
            "text/markdown": "---\n### 1. Mana yang bukan merupakan cara untuk membuat sebuah `tuple`?"
          },
          "metadata": {}
        },
        {
          "output_type": "display_data",
          "data": {
            "text/plain": [
              "Checkbox(value=False, description='gaji_tuple = 1_000_000, 2_000_000, 3_000_000, 4_000_000, 5_000_000', layout…"
            ],
            "application/vnd.jupyter.widget-view+json": {
              "version_major": 2,
              "version_minor": 0,
              "model_id": "129ccebd93d44a03b66225b6839d674a"
            }
          },
          "metadata": {}
        },
        {
          "output_type": "display_data",
          "data": {
            "text/plain": [
              "Checkbox(value=False, description='umur_tuple = (25, 20, 30, 40, 50)', layout=Layout(width='auto'))"
            ],
            "application/vnd.jupyter.widget-view+json": {
              "version_major": 2,
              "version_minor": 0,
              "model_id": "9865f66bfd314d43b740fbf237ccf60f"
            }
          },
          "metadata": {}
        },
        {
          "output_type": "display_data",
          "data": {
            "text/plain": [
              "Checkbox(value=False, description='kode_tuple = tuple(range(100, 501, 100))', layout=Layout(width='auto'))"
            ],
            "application/vnd.jupyter.widget-view+json": {
              "version_major": 2,
              "version_minor": 0,
              "model_id": "42bf03ae91c745a18a95a09ad6aa9c9c"
            }
          },
          "metadata": {}
        },
        {
          "output_type": "display_data",
          "data": {
            "text/plain": [
              "Checkbox(value=False, description='kode_tuple = tuple(x**2 for x in tuple(range(100, 501, 100)))', layout=Layo…"
            ],
            "application/vnd.jupyter.widget-view+json": {
              "version_major": 2,
              "version_minor": 0,
              "model_id": "89cee6aec4314430ab7f50afc4172276"
            }
          },
          "metadata": {}
        },
        {
          "output_type": "display_data",
          "data": {
            "text/plain": [
              "Checkbox(value=False, description='kode_tuple = (x**2 for x in range(100, 501, 100))', layout=Layout(width='au…"
            ],
            "application/vnd.jupyter.widget-view+json": {
              "version_major": 2,
              "version_minor": 0,
              "model_id": "291fd649bb494e61bfc8dbf8894f932c"
            }
          },
          "metadata": {}
        },
        {
          "output_type": "display_data",
          "data": {
            "text/plain": [
              "Button(description='Cek Jawaban', style=ButtonStyle())"
            ],
            "application/vnd.jupyter.widget-view+json": {
              "version_major": 2,
              "version_minor": 0,
              "model_id": "e20edd67777e4d04b41daa83560dd1a6"
            }
          },
          "metadata": {}
        },
        {
          "output_type": "display_data",
          "data": {
            "text/plain": [
              "Textarea(value='', disabled=True, placeholder='Feedback')"
            ],
            "application/vnd.jupyter.widget-view+json": {
              "version_major": 2,
              "version_minor": 0,
              "model_id": "a7194026d8ff4e86bccf90fab47cedbb"
            }
          },
          "metadata": {}
        }
      ]
    },
    {
      "cell_type": "code",
      "source": [
        "# cobalah untuk melakukan pengecekan tipe setiap output dari ekpresi pada pilihan di atas\n",
        "range_tuple = (x**2 for x in range(100, 501, 100))\n",
        "print(type(range_tuple))"
      ],
      "metadata": {
        "id": "0tp4Fp0_z8Vn",
        "colab": {
          "base_uri": "https://localhost:8080/"
        },
        "outputId": "19bb21b9-a5ca-41c2-9197-213b193c7f88"
      },
      "execution_count": null,
      "outputs": [
        {
          "output_type": "stream",
          "name": "stdout",
          "text": [
            "<class 'generator'>\n"
          ]
        }
      ]
    },
    {
      "cell_type": "markdown",
      "metadata": {
        "id": "35VD-mo2goWl"
      },
      "source": [
        "## *Common Sequence Operators*\n",
        "Berbagai *common sequence operators* yang berlaku bagi `list` juga dapat diberlakukan terhadap `tuple`."
      ]
    },
    {
      "cell_type": "markdown",
      "source": [
        "### Ilustrasi 9: Common Sequence Operators for `tuple`"
      ],
      "metadata": {
        "id": "G8XhZdjLIgNw"
      }
    },
    {
      "cell_type": "code",
      "execution_count": null,
      "metadata": {
        "id": "7kOdOIElwOrD",
        "colab": {
          "base_uri": "https://localhost:8080/"
        },
        "outputId": "65b5c23e-0854-4d67-d579-28ef6971a55d"
      },
      "outputs": [
        {
          "output_type": "stream",
          "name": "stdout",
          "text": [
            "Jumlah elemen pada umur_tuple: 5 elemen\n"
          ]
        }
      ],
      "source": [
        "# Menampilkan jumlah elemen pada puluhan_tuple\n",
        "print(f\"Jumlah elemen pada umur_tuple: {len(umur_tuple)} elemen\")"
      ]
    },
    {
      "cell_type": "code",
      "execution_count": null,
      "metadata": {
        "id": "z0JRHxQVwQvv",
        "colab": {
          "base_uri": "https://localhost:8080/"
        },
        "outputId": "8db63826-9fd7-4edf-cf05-282ac35f4d26"
      },
      "outputs": [
        {
          "output_type": "stream",
          "name": "stdout",
          "text": [
            "Banyaknya nilai 20 pada umur_tuple: 1 elemen\n"
          ]
        }
      ],
      "source": [
        "# Menampilkan kemunculan elemen bernilai 10 pada puluhan_tuple\n",
        "print(f\"Banyaknya nilai 20 pada umur_tuple: {umur_tuple.count(20)} elemen\")"
      ]
    },
    {
      "cell_type": "code",
      "execution_count": null,
      "metadata": {
        "id": "c0eDAOpEK-XN",
        "colab": {
          "base_uri": "https://localhost:8080/"
        },
        "outputId": "cb1f6e18-ddb8-4286-fe3d-6fd7d793534e"
      },
      "outputs": [
        {
          "output_type": "stream",
          "name": "stdout",
          "text": [
            "Posisi index dari 30 pada umur_tuple adalah: index-2\n"
          ]
        }
      ],
      "source": [
        "# Menampilkan indeks posisional dari sebuah elemen pada puluhan_tuple\n",
        "print(f\"Posisi index dari 30 pada umur_tuple adalah: index-{umur_tuple.index(30)}\")"
      ]
    },
    {
      "cell_type": "code",
      "execution_count": null,
      "metadata": {
        "id": "lBixP0HLwF7T",
        "colab": {
          "base_uri": "https://localhost:8080/"
        },
        "outputId": "37484470-a6a6-4c48-b6b3-c5fb216f4e55"
      },
      "outputs": [
        {
          "output_type": "stream",
          "name": "stdout",
          "text": [
            "Elemen pada posisi indeks-3 adalah: 40\n"
          ]
        }
      ],
      "source": [
        "# Menampilkan elemen dengan index posisional 3 pada tuple\n",
        "print(f\"Elemen pada posisi indeks-3 adalah: {umur_tuple[3]}\")"
      ]
    },
    {
      "cell_type": "code",
      "execution_count": null,
      "metadata": {
        "id": "9AU1z6_rwJbG",
        "colab": {
          "base_uri": "https://localhost:8080/"
        },
        "outputId": "a7483107-c28b-4cf0-8c30-96e259d0953b"
      },
      "outputs": [
        {
          "output_type": "stream",
          "name": "stdout",
          "text": [
            "(25, 30, 50)\n"
          ]
        }
      ],
      "source": [
        "# Slicing pada tuple\n",
        "print(umur_tuple[::2])"
      ]
    },
    {
      "cell_type": "code",
      "execution_count": null,
      "metadata": {
        "id": "KOQAHReIMXJX",
        "colab": {
          "base_uri": "https://localhost:8080/"
        },
        "outputId": "45c607ee-10b2-492a-fc81-17bbc79a8c38"
      },
      "outputs": [
        {
          "output_type": "stream",
          "name": "stdout",
          "text": [
            "(25, 20, 30, 40, 50, 25, 20, 30, 40, 50, 25, 20, 30, 40, 50)\n"
          ]
        }
      ],
      "source": [
        "# Repetition sebanyak 3 kali\n",
        "print(umur_tuple*3)"
      ]
    },
    {
      "cell_type": "code",
      "execution_count": null,
      "metadata": {
        "id": "AYNBGPqFMnwd",
        "colab": {
          "base_uri": "https://localhost:8080/"
        },
        "outputId": "dc13a5ce-51f8-4d0c-ff3f-70ecbd7a82f9"
      },
      "outputs": [
        {
          "output_type": "stream",
          "name": "stdout",
          "text": [
            "Hasil concatenation umur_tuple dengan gaji_tuple = (25, 20, 30, 40, 50, 1000000, 2000000, 3000000, 4000000, 5000000)\n"
          ]
        }
      ],
      "source": [
        "# Concatenation\n",
        "print(f\"Hasil concatenation umur_tuple dengan gaji_tuple = {umur_tuple+gaji_tuple}\")"
      ]
    },
    {
      "cell_type": "code",
      "execution_count": null,
      "metadata": {
        "id": "85LUmIpUNPoL",
        "colab": {
          "base_uri": "https://localhost:8080/"
        },
        "outputId": "066626dc-3265-4f0c-c9fb-b25aa24a9232"
      },
      "outputs": [
        {
          "output_type": "execute_result",
          "data": {
            "text/plain": [
              "50"
            ]
          },
          "metadata": {},
          "execution_count": 92
        }
      ],
      "source": [
        "# Mencari nilai max\n",
        "max(umur_tuple)"
      ]
    },
    {
      "cell_type": "code",
      "execution_count": null,
      "metadata": {
        "id": "PLEaabKpNXCm",
        "colab": {
          "base_uri": "https://localhost:8080/"
        },
        "outputId": "7008320a-1660-4e2e-ac46-1332073ca1d7"
      },
      "outputs": [
        {
          "output_type": "execute_result",
          "data": {
            "text/plain": [
              "20"
            ]
          },
          "metadata": {},
          "execution_count": 93
        }
      ],
      "source": [
        "# Mencari nilai min\n",
        "min(umur_tuple)"
      ]
    },
    {
      "cell_type": "code",
      "execution_count": null,
      "metadata": {
        "id": "AxDSSIKoNdDt",
        "colab": {
          "base_uri": "https://localhost:8080/"
        },
        "outputId": "814861cc-df9b-47b8-cad2-2152b89624ad"
      },
      "outputs": [
        {
          "output_type": "execute_result",
          "data": {
            "text/plain": [
              "False"
            ]
          },
          "metadata": {},
          "execution_count": 94
        }
      ],
      "source": [
        "# Melakukan pengecekan keberadaan 70 pada puluhan_tuple\n",
        "70 in umur_tuple"
      ]
    },
    {
      "cell_type": "code",
      "execution_count": null,
      "metadata": {
        "id": "7Rr4rwtvNdbw",
        "colab": {
          "base_uri": "https://localhost:8080/"
        },
        "outputId": "ad09bfb4-a572-4fec-ea98-0887d71c8c0a"
      },
      "outputs": [
        {
          "output_type": "execute_result",
          "data": {
            "text/plain": [
              "True"
            ]
          },
          "metadata": {},
          "execution_count": 95
        }
      ],
      "source": [
        "# Melakukan pengecekan ketidak-adaan 70 pada puluhan_tuple\n",
        "\n",
        "70 not in umur_tuple"
      ]
    },
    {
      "cell_type": "code",
      "source": [
        "umur_tuple"
      ],
      "metadata": {
        "colab": {
          "base_uri": "https://localhost:8080/"
        },
        "id": "ps6Q-YNP_sVT",
        "outputId": "730fd395-e452-4dcd-9b0b-5c99a65f391a"
      },
      "execution_count": null,
      "outputs": [
        {
          "output_type": "execute_result",
          "data": {
            "text/plain": [
              "(25, 20, 30, 40, 50)"
            ]
          },
          "metadata": {},
          "execution_count": 99
        }
      ]
    },
    {
      "cell_type": "markdown",
      "metadata": {
        "id": "tN7rubaBhJ6K"
      },
      "source": [
        "# EXERCISE 3: `tuple`\n",
        "**1** -- Buatlah sebuah `tuple` sebagai berikut:\n",
        "  1. Berisikan range angka bulat antara 100 hingga 0, dengan step penurunan sebesar 5;\n",
        "  3. Assign `tuple` tersebut ke variable `tuple_menurun`;\n",
        "  4. Tampilkan `tuple_menurun` ke layar.\n"
      ]
    },
    {
      "cell_type": "code",
      "execution_count": null,
      "metadata": {
        "id": "-JW5IZVDwMNY",
        "colab": {
          "base_uri": "https://localhost:8080/"
        },
        "outputId": "9b73e077-fa8a-4c68-a516-fc60854d618a"
      },
      "outputs": [
        {
          "output_type": "stream",
          "name": "stdout",
          "text": [
            "(100, 95, 90, 85, 80, 75, 70, 65, 60, 55, 50, 45, 40, 35, 30, 25, 20, 15, 10, 5, 0)\n"
          ]
        }
      ],
      "source": [
        "# Tuple integer 100 - 0, step 5\n",
        "tuple_menurun = tuple(range(100,-1,-5))\n",
        "# Tampilkan tuple ke layar\n",
        "print(tuple_menurun)"
      ]
    },
    {
      "cell_type": "markdown",
      "source": [
        "**2** -- Lakukan operasi pangkat 25 terhadap terhadap elemen berindex 25 pada `tuple_menurun`."
      ],
      "metadata": {
        "id": "jVaU5bgiyhtk"
      }
    },
    {
      "cell_type": "code",
      "source": [
        "tuple_menurun.sort(reverse=True)"
      ],
      "metadata": {
        "id": "8SFJY87_yJIs",
        "colab": {
          "base_uri": "https://localhost:8080/",
          "height": 141
        },
        "outputId": "0b2875cb-2691-4fce-8762-263182640716"
      },
      "execution_count": null,
      "outputs": [
        {
          "output_type": "error",
          "ename": "AttributeError",
          "evalue": "'tuple' object has no attribute 'sort'",
          "traceback": [
            "\u001b[0;31m---------------------------------------------------------------------------\u001b[0m",
            "\u001b[0;31mAttributeError\u001b[0m                            Traceback (most recent call last)",
            "\u001b[0;32m<ipython-input-105-76936c671708>\u001b[0m in \u001b[0;36m<cell line: 0>\u001b[0;34m()\u001b[0m\n\u001b[0;32m----> 1\u001b[0;31m \u001b[0mtuple_menurun\u001b[0m\u001b[0;34m.\u001b[0m\u001b[0msort\u001b[0m\u001b[0;34m(\u001b[0m\u001b[0mreverse\u001b[0m\u001b[0;34m=\u001b[0m\u001b[0;32mTrue\u001b[0m\u001b[0;34m)\u001b[0m\u001b[0;34m\u001b[0m\u001b[0;34m\u001b[0m\u001b[0m\n\u001b[0m",
            "\u001b[0;31mAttributeError\u001b[0m: 'tuple' object has no attribute 'sort'"
          ]
        }
      ]
    },
    {
      "cell_type": "markdown",
      "source": [
        "___\n",
        "# `pd.Series` Object\n",
        "\n",
        "> `pd.Series` adalah sebuah objek modul `pandas` yang berupa rangkaian object data 1 dimensional.\n",
        "\n",
        "Sebuah `pd.Series` dapat disusun dengan cara:\n",
        "1. Memasukkan sebuah `list` atau `tuple` ke dalam method `pd.Series`;\n",
        "2. Mengambil setiap elemen pada sebuah `columns` dari sebuah `DataFrame`; atau\n",
        "3. Mengambil setiap elemen pada sebuah `row` dari sebuah `DataFrame`.\n",
        "\n",
        "Sebuah `pd.Series` akan memiliki attribut/karakteristik hampir serupa dengan yang dimiliki oleh sebuah `list` atau `tuple`, terkecuali atribut index yang `zero-based`. Tidak seperti `list` dan `tuple`, index dari sebuah `pd.Series` bersifat fleksibel, dapat bertipe data apapun selama setiap index tersebut bersifat unik.\n",
        "\n"
      ],
      "metadata": {
        "id": "0OFwQTzSwECV"
      }
    },
    {
      "cell_type": "markdown",
      "source": [
        "### Ilustrasi 10: `pd.Series`"
      ],
      "metadata": {
        "id": "EN45KMg6LCgb"
      }
    },
    {
      "cell_type": "code",
      "source": [
        "# Mengimpor modul yang diperlukan\n",
        "import pandas as pd\n",
        "\n",
        "# Set file path\n",
        "file_path = \"https://storage.googleapis.com/dqlab-dataset/SuperStore.csv\"\n",
        "\n",
        "# Mengimport dataset ke dalam sebuah DataFrame\n",
        "df_sales = pd.read_csv(file_path)"
      ],
      "metadata": {
        "id": "U9T4s4Xvx9s6"
      },
      "execution_count": null,
      "outputs": []
    },
    {
      "cell_type": "code",
      "source": [
        "# 1.a. Membuat sebuah Series dari sebuah `list`\n",
        "print(\"`nama_teman` adalah sebuah\", type(nama_teman))\n",
        "# Masukkan `nama_teman` ke dalam `pd.Series`\n",
        "nama_teman_series = pd.Series(nama_teman, name='Nama_Teman')\n",
        "# `nama_teman_series` adalah sebuah `pd.Series`\n",
        "print(\"'nama_teman_series' adalah sebuah\", type(nama_teman_series))\n",
        "# Lihat isi nama_teman_series\n",
        "nama_teman_series"
      ],
      "metadata": {
        "id": "Rk3rS0Q2ysDQ",
        "colab": {
          "base_uri": "https://localhost:8080/",
          "height": 275
        },
        "outputId": "bb5da108-153b-49ef-c3e0-4c0ba1b4eec5"
      },
      "execution_count": null,
      "outputs": [
        {
          "output_type": "stream",
          "name": "stdout",
          "text": [
            "`nama_teman` adalah sebuah <class 'list'>\n",
            "'nama_teman_series' adalah sebuah <class 'pandas.core.series.Series'>\n"
          ]
        },
        {
          "output_type": "execute_result",
          "data": {
            "text/plain": [
              "0     Amir\n",
              "1     Budi\n",
              "2    Cinta\n",
              "3    Dimas\n",
              "4      Edi\n",
              "Name: Nama_Teman, dtype: object"
            ],
            "text/html": [
              "<div>\n",
              "<style scoped>\n",
              "    .dataframe tbody tr th:only-of-type {\n",
              "        vertical-align: middle;\n",
              "    }\n",
              "\n",
              "    .dataframe tbody tr th {\n",
              "        vertical-align: top;\n",
              "    }\n",
              "\n",
              "    .dataframe thead th {\n",
              "        text-align: right;\n",
              "    }\n",
              "</style>\n",
              "<table border=\"1\" class=\"dataframe\">\n",
              "  <thead>\n",
              "    <tr style=\"text-align: right;\">\n",
              "      <th></th>\n",
              "      <th>Nama_Teman</th>\n",
              "    </tr>\n",
              "  </thead>\n",
              "  <tbody>\n",
              "    <tr>\n",
              "      <th>0</th>\n",
              "      <td>Amir</td>\n",
              "    </tr>\n",
              "    <tr>\n",
              "      <th>1</th>\n",
              "      <td>Budi</td>\n",
              "    </tr>\n",
              "    <tr>\n",
              "      <th>2</th>\n",
              "      <td>Cinta</td>\n",
              "    </tr>\n",
              "    <tr>\n",
              "      <th>3</th>\n",
              "      <td>Dimas</td>\n",
              "    </tr>\n",
              "    <tr>\n",
              "      <th>4</th>\n",
              "      <td>Edi</td>\n",
              "    </tr>\n",
              "  </tbody>\n",
              "</table>\n",
              "</div><br><label><b>dtype:</b> object</label>"
            ]
          },
          "metadata": {},
          "execution_count": 107
        }
      ]
    },
    {
      "cell_type": "code",
      "source": [
        "# 1.b. Membuat sebuah Series dari sebuah `tuple`\n",
        "print(\"`umur_tuple` adalah sebuah\", type(umur_tuple))\n",
        "# Masukan `puluhan_tuple` ke dalam `pd.Series`\n",
        "umur_tuple_series = pd.Series(umur_tuple, name='Umur')\n",
        "# `puluhan_tuple_series` adalah sebuah `pd.Series`\n",
        "print(\"'umur_tuple_series' adalah sebuah\", type(umur_tuple_series))\n",
        "# lihat isi puluhan_tuple_series\n",
        "umur_tuple_series"
      ],
      "metadata": {
        "id": "2mQnApy8uCog",
        "colab": {
          "base_uri": "https://localhost:8080/",
          "height": 275
        },
        "outputId": "230ddbf2-8835-49d0-aeb7-16829ddda3e9"
      },
      "execution_count": null,
      "outputs": [
        {
          "output_type": "stream",
          "name": "stdout",
          "text": [
            "`umur_tuple` adalah sebuah <class 'tuple'>\n",
            "'umur_tuple_series' adalah sebuah <class 'pandas.core.series.Series'>\n"
          ]
        },
        {
          "output_type": "execute_result",
          "data": {
            "text/plain": [
              "0    25\n",
              "1    20\n",
              "2    30\n",
              "3    40\n",
              "4    50\n",
              "Name: Umur, dtype: int64"
            ],
            "text/html": [
              "<div>\n",
              "<style scoped>\n",
              "    .dataframe tbody tr th:only-of-type {\n",
              "        vertical-align: middle;\n",
              "    }\n",
              "\n",
              "    .dataframe tbody tr th {\n",
              "        vertical-align: top;\n",
              "    }\n",
              "\n",
              "    .dataframe thead th {\n",
              "        text-align: right;\n",
              "    }\n",
              "</style>\n",
              "<table border=\"1\" class=\"dataframe\">\n",
              "  <thead>\n",
              "    <tr style=\"text-align: right;\">\n",
              "      <th></th>\n",
              "      <th>Umur</th>\n",
              "    </tr>\n",
              "  </thead>\n",
              "  <tbody>\n",
              "    <tr>\n",
              "      <th>0</th>\n",
              "      <td>25</td>\n",
              "    </tr>\n",
              "    <tr>\n",
              "      <th>1</th>\n",
              "      <td>20</td>\n",
              "    </tr>\n",
              "    <tr>\n",
              "      <th>2</th>\n",
              "      <td>30</td>\n",
              "    </tr>\n",
              "    <tr>\n",
              "      <th>3</th>\n",
              "      <td>40</td>\n",
              "    </tr>\n",
              "    <tr>\n",
              "      <th>4</th>\n",
              "      <td>50</td>\n",
              "    </tr>\n",
              "  </tbody>\n",
              "</table>\n",
              "</div><br><label><b>dtype:</b> int64</label>"
            ]
          },
          "metadata": {},
          "execution_count": 108
        }
      ]
    },
    {
      "cell_type": "code",
      "source": [
        "# 2. Membuat sebuah Series dari sebuah kolom pada dataframe\n",
        "isi_kolom_sales = df_sales['Sales']\n",
        "# Cek tipe object dari `isi_kolom_sales`\n",
        "print(\"Seluruh elemen pada kolom `Sales` dari dataframe `df_sales` adalah\", type(isi_kolom_sales))\n",
        "# Melihat seluruh isi sebuah series berasal dari kolom dataframe\n",
        "isi_kolom_sales"
      ],
      "metadata": {
        "id": "aOIkiqgfzQbT",
        "colab": {
          "base_uri": "https://localhost:8080/",
          "height": 476
        },
        "outputId": "885792a5-2422-4bd1-88bb-ae4939a174c3"
      },
      "execution_count": null,
      "outputs": [
        {
          "output_type": "stream",
          "name": "stdout",
          "text": [
            "Seluruh elemen pada kolom `Sales` dari dataframe `df_sales` adalah <class 'pandas.core.series.Series'>\n"
          ]
        },
        {
          "output_type": "execute_result",
          "data": {
            "text/plain": [
              "0       261.9600\n",
              "1       731.9400\n",
              "2        14.6200\n",
              "3       957.5775\n",
              "4        22.3680\n",
              "          ...   \n",
              "9989     25.2480\n",
              "9990     91.9600\n",
              "9991    258.5760\n",
              "9992     29.6000\n",
              "9993    243.1600\n",
              "Name: Sales, Length: 9994, dtype: float64"
            ],
            "text/html": [
              "<div>\n",
              "<style scoped>\n",
              "    .dataframe tbody tr th:only-of-type {\n",
              "        vertical-align: middle;\n",
              "    }\n",
              "\n",
              "    .dataframe tbody tr th {\n",
              "        vertical-align: top;\n",
              "    }\n",
              "\n",
              "    .dataframe thead th {\n",
              "        text-align: right;\n",
              "    }\n",
              "</style>\n",
              "<table border=\"1\" class=\"dataframe\">\n",
              "  <thead>\n",
              "    <tr style=\"text-align: right;\">\n",
              "      <th></th>\n",
              "      <th>Sales</th>\n",
              "    </tr>\n",
              "  </thead>\n",
              "  <tbody>\n",
              "    <tr>\n",
              "      <th>0</th>\n",
              "      <td>261.9600</td>\n",
              "    </tr>\n",
              "    <tr>\n",
              "      <th>1</th>\n",
              "      <td>731.9400</td>\n",
              "    </tr>\n",
              "    <tr>\n",
              "      <th>2</th>\n",
              "      <td>14.6200</td>\n",
              "    </tr>\n",
              "    <tr>\n",
              "      <th>3</th>\n",
              "      <td>957.5775</td>\n",
              "    </tr>\n",
              "    <tr>\n",
              "      <th>4</th>\n",
              "      <td>22.3680</td>\n",
              "    </tr>\n",
              "    <tr>\n",
              "      <th>...</th>\n",
              "      <td>...</td>\n",
              "    </tr>\n",
              "    <tr>\n",
              "      <th>9989</th>\n",
              "      <td>25.2480</td>\n",
              "    </tr>\n",
              "    <tr>\n",
              "      <th>9990</th>\n",
              "      <td>91.9600</td>\n",
              "    </tr>\n",
              "    <tr>\n",
              "      <th>9991</th>\n",
              "      <td>258.5760</td>\n",
              "    </tr>\n",
              "    <tr>\n",
              "      <th>9992</th>\n",
              "      <td>29.6000</td>\n",
              "    </tr>\n",
              "    <tr>\n",
              "      <th>9993</th>\n",
              "      <td>243.1600</td>\n",
              "    </tr>\n",
              "  </tbody>\n",
              "</table>\n",
              "<p>9994 rows × 1 columns</p>\n",
              "</div><br><label><b>dtype:</b> float64</label>"
            ]
          },
          "metadata": {},
          "execution_count": 109
        }
      ]
    },
    {
      "cell_type": "code",
      "source": [
        "# 3. Membuat sebuah Series dari sebuah row pada dataframe\n",
        "isi_row_tertentu = df_sales.loc[0, :]\n",
        "# Cek tipe object `isi_row_tertentu`\n",
        "print(\"Setiap row pada sebuah dataframe pada dasarnya adalah sebuah\", type(isi_row_tertentu))\n",
        "# Melihat isi sebuah series berasal dari row dataframe\n",
        "isi_row_tertentu"
      ],
      "metadata": {
        "id": "RuP_GFVGzpYF",
        "colab": {
          "base_uri": "https://localhost:8080/",
          "height": 728
        },
        "outputId": "04f7d9ab-6663-431a-c3b6-109f0ffe78ca"
      },
      "execution_count": null,
      "outputs": [
        {
          "output_type": "stream",
          "name": "stdout",
          "text": [
            "Setiap row pada sebuah dataframe pada dasarnya adalah sebuah <class 'pandas.core.series.Series'>\n"
          ]
        },
        {
          "output_type": "execute_result",
          "data": {
            "text/plain": [
              "Order_ID                             CA-2019-152156\n",
              "Customer_ID                                CG-12520\n",
              "Postal_Code                                   42420\n",
              "Product_ID                          FUR-BO-10001798\n",
              "Sales                                        261.96\n",
              "Quantity                                          2\n",
              "Discount                                        0.0\n",
              "Profit                                      41.9136\n",
              "Category                                  Furniture\n",
              "Sub-Category                              Bookcases\n",
              "Product_Name      Bush Somerset Collection Bookcase\n",
              "Order_Date                                11/8/2019\n",
              "Ship_Date                                11/11/2019\n",
              "Ship_Mode                              Second Class\n",
              "Customer_Name                           Claire Gute\n",
              "Segment                                    Consumer\n",
              "Country/Region                        United States\n",
              "City                                      Henderson\n",
              "State                                      Kentucky\n",
              "Region                                        South\n",
              "Name: 0, dtype: object"
            ],
            "text/html": [
              "<div>\n",
              "<style scoped>\n",
              "    .dataframe tbody tr th:only-of-type {\n",
              "        vertical-align: middle;\n",
              "    }\n",
              "\n",
              "    .dataframe tbody tr th {\n",
              "        vertical-align: top;\n",
              "    }\n",
              "\n",
              "    .dataframe thead th {\n",
              "        text-align: right;\n",
              "    }\n",
              "</style>\n",
              "<table border=\"1\" class=\"dataframe\">\n",
              "  <thead>\n",
              "    <tr style=\"text-align: right;\">\n",
              "      <th></th>\n",
              "      <th>0</th>\n",
              "    </tr>\n",
              "  </thead>\n",
              "  <tbody>\n",
              "    <tr>\n",
              "      <th>Order_ID</th>\n",
              "      <td>CA-2019-152156</td>\n",
              "    </tr>\n",
              "    <tr>\n",
              "      <th>Customer_ID</th>\n",
              "      <td>CG-12520</td>\n",
              "    </tr>\n",
              "    <tr>\n",
              "      <th>Postal_Code</th>\n",
              "      <td>42420</td>\n",
              "    </tr>\n",
              "    <tr>\n",
              "      <th>Product_ID</th>\n",
              "      <td>FUR-BO-10001798</td>\n",
              "    </tr>\n",
              "    <tr>\n",
              "      <th>Sales</th>\n",
              "      <td>261.96</td>\n",
              "    </tr>\n",
              "    <tr>\n",
              "      <th>Quantity</th>\n",
              "      <td>2</td>\n",
              "    </tr>\n",
              "    <tr>\n",
              "      <th>Discount</th>\n",
              "      <td>0.0</td>\n",
              "    </tr>\n",
              "    <tr>\n",
              "      <th>Profit</th>\n",
              "      <td>41.9136</td>\n",
              "    </tr>\n",
              "    <tr>\n",
              "      <th>Category</th>\n",
              "      <td>Furniture</td>\n",
              "    </tr>\n",
              "    <tr>\n",
              "      <th>Sub-Category</th>\n",
              "      <td>Bookcases</td>\n",
              "    </tr>\n",
              "    <tr>\n",
              "      <th>Product_Name</th>\n",
              "      <td>Bush Somerset Collection Bookcase</td>\n",
              "    </tr>\n",
              "    <tr>\n",
              "      <th>Order_Date</th>\n",
              "      <td>11/8/2019</td>\n",
              "    </tr>\n",
              "    <tr>\n",
              "      <th>Ship_Date</th>\n",
              "      <td>11/11/2019</td>\n",
              "    </tr>\n",
              "    <tr>\n",
              "      <th>Ship_Mode</th>\n",
              "      <td>Second Class</td>\n",
              "    </tr>\n",
              "    <tr>\n",
              "      <th>Customer_Name</th>\n",
              "      <td>Claire Gute</td>\n",
              "    </tr>\n",
              "    <tr>\n",
              "      <th>Segment</th>\n",
              "      <td>Consumer</td>\n",
              "    </tr>\n",
              "    <tr>\n",
              "      <th>Country/Region</th>\n",
              "      <td>United States</td>\n",
              "    </tr>\n",
              "    <tr>\n",
              "      <th>City</th>\n",
              "      <td>Henderson</td>\n",
              "    </tr>\n",
              "    <tr>\n",
              "      <th>State</th>\n",
              "      <td>Kentucky</td>\n",
              "    </tr>\n",
              "    <tr>\n",
              "      <th>Region</th>\n",
              "      <td>South</td>\n",
              "    </tr>\n",
              "  </tbody>\n",
              "</table>\n",
              "</div><br><label><b>dtype:</b> object</label>"
            ]
          },
          "metadata": {},
          "execution_count": 110
        }
      ]
    },
    {
      "cell_type": "code",
      "source": [
        "# Menunjukkan nama dari sebuah Series dilakukan dengan menggunakan attribut `name`\n",
        "nama_teman_series.name"
      ],
      "metadata": {
        "id": "Y41hYfvBse5R",
        "colab": {
          "base_uri": "https://localhost:8080/",
          "height": 35
        },
        "outputId": "ae690ca7-2ce6-4638-cbad-bc24b1fc88c9"
      },
      "execution_count": null,
      "outputs": [
        {
          "output_type": "execute_result",
          "data": {
            "text/plain": [
              "'Nama_Teman'"
            ],
            "application/vnd.google.colaboratory.intrinsic+json": {
              "type": "string"
            }
          },
          "metadata": {},
          "execution_count": 111
        }
      ]
    },
    {
      "cell_type": "code",
      "source": [
        "# Menunjukkan berbagai index pada sebuah Series dilakukan dengan menggunakan attribut `index`\n",
        "isi_row_tertentu.index"
      ],
      "metadata": {
        "id": "qqfTP8Mlr-4W",
        "colab": {
          "base_uri": "https://localhost:8080/"
        },
        "outputId": "c7ac6118-0547-40ee-ca8e-def1dc82b742"
      },
      "execution_count": null,
      "outputs": [
        {
          "output_type": "execute_result",
          "data": {
            "text/plain": [
              "Index(['Order_ID', 'Customer_ID', 'Postal_Code', 'Product_ID', 'Sales',\n",
              "       'Quantity', 'Discount', 'Profit', 'Category', 'Sub-Category',\n",
              "       'Product_Name', 'Order_Date', 'Ship_Date', 'Ship_Mode', 'Customer_Name',\n",
              "       'Segment', 'Country/Region', 'City', 'State', 'Region'],\n",
              "      dtype='object')"
            ]
          },
          "metadata": {},
          "execution_count": 112
        }
      ]
    },
    {
      "cell_type": "code",
      "source": [
        "# Menunjukkan besaran dimensi dari sebuah Series\n",
        "isi_row_tertentu.shape"
      ],
      "metadata": {
        "id": "VPtnfEJqtVe5",
        "colab": {
          "base_uri": "https://localhost:8080/"
        },
        "outputId": "edb43822-8a05-4eff-e42d-b1226242fdd9"
      },
      "execution_count": null,
      "outputs": [
        {
          "output_type": "execute_result",
          "data": {
            "text/plain": [
              "(20,)"
            ]
          },
          "metadata": {},
          "execution_count": 113
        }
      ]
    },
    {
      "cell_type": "code",
      "source": [
        "# Menampilkan elemen tertentu dari sebuah Series dapat dilakukan menggunakan indexnya\n",
        "print(\"Elemen dengan index `0` pada `nama_teman_series` adalah\", nama_teman_series[0])\n",
        "print(\"Elemen dengan index `0` pada `isi_kolom_sales` adalah\", isi_kolom_sales[0])\n",
        "print(\"Elemen dengan index `State` pada `isi_row_tertentu` adalah\", isi_row_tertentu['State'])"
      ],
      "metadata": {
        "id": "tZFS5wah0tJ1",
        "colab": {
          "base_uri": "https://localhost:8080/"
        },
        "outputId": "0b4d312e-e06f-4bd0-8324-38819900f8b0"
      },
      "execution_count": null,
      "outputs": [
        {
          "output_type": "stream",
          "name": "stdout",
          "text": [
            "Elemen dengan index `0` pada `nama_teman_series` adalah Amir\n",
            "Elemen dengan index `0` pada `isi_kolom_sales` adalah 261.96\n",
            "Elemen dengan index `State` pada `isi_row_tertentu` adalah Kentucky\n"
          ]
        }
      ]
    },
    {
      "cell_type": "markdown",
      "metadata": {
        "id": "jaqzhRxwrLh1"
      },
      "source": [
        "---\n",
        "# `Set`\n",
        "> `Set` adalah sebuah objek berisi koleksi objek yang *unordered*, bersifat unik, dan *hashable*.\n",
        "\n",
        "`Set` adalah sebuah tipe data di Python yang berisi kumpulan elemen unik dan *unordered*. Artinya, tidak ada elemen yang terduplikasi dalam `Set`, dan elemen-elemen di dalamnya tidak memiliki urutan tertentu seperti halnya pada *list* atau *tuple*. Ini berguna saat kita hanya perlu memastikan bahwa setiap item hanya muncul sekali.\n",
        "\n",
        "Setiap elemen dalam `Set` bersifat *hashable*, yang berarti elemen-elemen tersebut dapat memiliki nilai unik yang memudahkan Python untuk memproses dan mencari elemen dalam `Set` dengan cepat. Struktur data `Set` ini dioptimalkan untuk operasi keanggotaan (membership testing) dan perbandingan.\n",
        "\n",
        "Dalam praktek pengolahan data dengan menggunakan Python, `Set` sering digunakan untuk:\n",
        "- Menyaring duplikasi dari data.\n",
        "- Melakukan tes cepat apakah suatu item terdapat dalam kumpulan.\n",
        "- Melakukan operasi himpunan seperti penggabungan dan irisan pada data yang unik."
      ]
    },
    {
      "cell_type": "markdown",
      "metadata": {
        "id": "lXFsp506Liv4"
      },
      "source": [
        "## `Set` Construction\n",
        "Beberapa cara membuat set:\n",
        "1. Menggunakan `set constructor`:\n",
        "```python\n",
        "nama_set = set() # Membuat set kosong\n",
        "nama_set = set(iterable)\n",
        "```\n",
        "2. Menggunakan `type literals`:\n",
        "```python\n",
        "nama_set = {objek_1, objek_2, ..., objek_n}\n",
        "```"
      ]
    },
    {
      "cell_type": "markdown",
      "source": [
        "### Ilustrasi 11: `set` Construction"
      ],
      "metadata": {
        "id": "V9X5s6HDYceU"
      }
    },
    {
      "cell_type": "code",
      "execution_count": null,
      "metadata": {
        "id": "wgnrjwk_A4rN",
        "colab": {
          "base_uri": "https://localhost:8080/"
        },
        "outputId": "f5aed383-9a2b-4db7-a34d-3d8a7d9bcbfe"
      },
      "outputs": [
        {
          "output_type": "stream",
          "name": "stdout",
          "text": [
            "{'Edi', 'Cinta', 'Budi', 'Amir', 'Dimas'}\n"
          ]
        }
      ],
      "source": [
        "# Membuat set dari list nama_teman menggunakan constructor\n",
        "\n",
        "nama_teman_set = set(nama_teman)\n",
        "print(nama_teman_set)"
      ]
    },
    {
      "cell_type": "code",
      "execution_count": null,
      "metadata": {
        "id": "ahEti0sVH9C9",
        "colab": {
          "base_uri": "https://localhost:8080/"
        },
        "outputId": "b8ef46ff-c88a-4c31-888a-814c3cd68beb"
      },
      "outputs": [
        {
          "output_type": "stream",
          "name": "stdout",
          "text": [
            "{'Rhoma', 'Soneta', 'Ani', 'Ridho'}\n"
          ]
        }
      ],
      "source": [
        "# Membuat set menggunakan literals\n",
        "\n",
        "teman_lama_set = {\"Rhoma\", \"Ani\", \"Ridho\", \"Soneta\"}\n",
        "print(teman_lama_set)"
      ]
    },
    {
      "cell_type": "markdown",
      "metadata": {
        "id": "J1rlldykEz60"
      },
      "source": [
        "## Size modification\n",
        "Jumlah elemen dalam sebuah `set` dapat dirubah dengan menggunakan empat method berikut:\n",
        "1. `add`;\n",
        "2. `update`;\n",
        "3. `remove`; dan\n",
        "4. `discard`.\n"
      ]
    },
    {
      "cell_type": "markdown",
      "source": [
        "### Ilustrasi 12: `set` Size Modification"
      ],
      "metadata": {
        "id": "iE2EHL8aaOfe"
      }
    },
    {
      "cell_type": "code",
      "execution_count": null,
      "metadata": {
        "id": "C_wlJTlpKMT5",
        "colab": {
          "base_uri": "https://localhost:8080/"
        },
        "outputId": "3d39cc9a-3236-4938-e7ad-1053bd6735b5"
      },
      "outputs": [
        {
          "output_type": "stream",
          "name": "stdout",
          "text": [
            "{'Edi', 'Cinta', 'Budi', 'Amir', 'Ani', 'Dimas'}\n"
          ]
        }
      ],
      "source": [
        "# Menambah sebuah elemen baru ke dalam set\n",
        "\n",
        "nama_teman_set.add('Ani')\n",
        "print(nama_teman_set)"
      ]
    },
    {
      "cell_type": "code",
      "execution_count": null,
      "metadata": {
        "id": "R9CmV3mCCm2j",
        "colab": {
          "base_uri": "https://localhost:8080/"
        },
        "outputId": "4610e90c-17a6-4118-a181-4b1de61cbdd3"
      },
      "outputs": [
        {
          "output_type": "stream",
          "name": "stdout",
          "text": [
            "{'Edi', 'Cinta', 'Budi', 'Amir', 'Beni', 'Rudi', 'Ani', 'Firman', 'Dimas'}\n"
          ]
        }
      ],
      "source": [
        "# Menambahkan sebuah set lain,\n",
        "\n",
        "nama_teman_set.update({'Firman','Rudi', 'Beni'})\n",
        "# Apa yang terjadi jika menambah elemen yang sudah ada sebelumnya??\n",
        "\n",
        "print(nama_teman_set)"
      ]
    },
    {
      "cell_type": "code",
      "execution_count": null,
      "metadata": {
        "id": "BbEohvJVCt6h",
        "colab": {
          "base_uri": "https://localhost:8080/"
        },
        "outputId": "1ac64479-6fbd-4c67-fffd-1e948cde20b3"
      },
      "outputs": [
        {
          "output_type": "stream",
          "name": "stdout",
          "text": [
            "{'Edi', 'Cinta', 'Budi', 'Amir', 'Beni', 'Ani', 'Firman', 'Dimas'}\n"
          ]
        }
      ],
      "source": [
        "# Me-remove 'Rudi' dari himpunan\n",
        "\n",
        "nama_teman_set.remove('Rudi')\n",
        "\n",
        "print(nama_teman_set)"
      ]
    },
    {
      "cell_type": "code",
      "execution_count": null,
      "metadata": {
        "id": "fY40xiHiC2f3",
        "colab": {
          "base_uri": "https://localhost:8080/",
          "height": 193
        },
        "outputId": "82ac65fc-d7c4-4fb8-8e31-ad328e82c01d"
      },
      "outputs": [
        {
          "output_type": "error",
          "ename": "KeyError",
          "evalue": "'Tina'",
          "traceback": [
            "\u001b[0;31m---------------------------------------------------------------------------\u001b[0m",
            "\u001b[0;31mKeyError\u001b[0m                                  Traceback (most recent call last)",
            "\u001b[0;32m<ipython-input-120-167e1e4a467a>\u001b[0m in \u001b[0;36m<cell line: 0>\u001b[0;34m()\u001b[0m\n\u001b[1;32m      1\u001b[0m \u001b[0;31m# Apa yang terjadi jika mencoba untuk me-remove elemen yang tidak ada pada set??\u001b[0m\u001b[0;34m\u001b[0m\u001b[0;34m\u001b[0m\u001b[0m\n\u001b[1;32m      2\u001b[0m \u001b[0;34m\u001b[0m\u001b[0m\n\u001b[0;32m----> 3\u001b[0;31m \u001b[0mnama_teman_set\u001b[0m\u001b[0;34m.\u001b[0m\u001b[0mremove\u001b[0m\u001b[0;34m(\u001b[0m\u001b[0;34m'Tina'\u001b[0m\u001b[0;34m)\u001b[0m\u001b[0;34m\u001b[0m\u001b[0;34m\u001b[0m\u001b[0m\n\u001b[0m\u001b[1;32m      4\u001b[0m \u001b[0mprint\u001b[0m\u001b[0;34m(\u001b[0m\u001b[0mnama_teman_set\u001b[0m\u001b[0;34m)\u001b[0m\u001b[0;34m\u001b[0m\u001b[0;34m\u001b[0m\u001b[0m\n",
            "\u001b[0;31mKeyError\u001b[0m: 'Tina'"
          ]
        }
      ],
      "source": [
        "# Apa yang terjadi jika mencoba untuk me-remove elemen yang tidak ada pada set??\n",
        "\n",
        "nama_teman_set.remove('Tina')\n",
        "print(nama_teman_set)"
      ]
    },
    {
      "cell_type": "code",
      "execution_count": null,
      "metadata": {
        "id": "2Rhif0mLCyWQ",
        "colab": {
          "base_uri": "https://localhost:8080/"
        },
        "outputId": "ed473e61-f01c-48bb-d661-df157f2c1fd5"
      },
      "outputs": [
        {
          "output_type": "stream",
          "name": "stdout",
          "text": [
            "{'Edi', 'Cinta', 'Budi', 'Amir', 'Beni', 'Ani', 'Dimas'}\n"
          ]
        }
      ],
      "source": [
        "# Men-discard 'Firman' dari set\n",
        "\n",
        "nama_teman_set.discard('Firman')\n",
        "\n",
        "print(nama_teman_set)"
      ]
    },
    {
      "cell_type": "code",
      "execution_count": null,
      "metadata": {
        "id": "Aw4neUI5HU5_",
        "colab": {
          "base_uri": "https://localhost:8080/"
        },
        "outputId": "4aec7fb9-be4c-43e4-f9f2-5216344050dc"
      },
      "outputs": [
        {
          "output_type": "stream",
          "name": "stdout",
          "text": [
            "{'Edi', 'Cinta', 'Budi', 'Amir', 'Beni', 'Ani', 'Dimas'}\n"
          ]
        }
      ],
      "source": [
        "# Men-discard elemen yang tidak ada pada set\n",
        "\n",
        "nama_teman_set.discard('Paimin')\n",
        "print(nama_teman_set)"
      ]
    },
    {
      "cell_type": "markdown",
      "metadata": {
        "id": "Q59wcpT2IrxT"
      },
      "source": [
        "## *Common Sequence Operators*\n",
        "\n",
        "Karena perbedaan karakteristik elemen pada `set`, maka tidak seluruh *common sequence operators* dapat dikenakan. Berikut ini adalah beberapa operators yang dapat dikenakan terhadap sebuah `set`:"
      ]
    },
    {
      "cell_type": "markdown",
      "source": [
        "### Ilustrasi 13: Common Sequence Operators for `set`"
      ],
      "metadata": {
        "id": "4xJjn6ZBaw6z"
      }
    },
    {
      "cell_type": "code",
      "execution_count": null,
      "metadata": {
        "id": "Pww11NJrO7pk",
        "colab": {
          "base_uri": "https://localhost:8080/"
        },
        "outputId": "564ad497-23de-4afd-ea61-cbf7254811c9"
      },
      "outputs": [
        {
          "output_type": "stream",
          "name": "stdout",
          "text": [
            "Jumlah elemen pada nama_teman_set: 7 elemen\n"
          ]
        }
      ],
      "source": [
        "# Menampilkan jumlah elemen pada nama_teman_set\n",
        "print(f\"Jumlah elemen pada nama_teman_set: {len(nama_teman_set)} elemen\")"
      ]
    },
    {
      "cell_type": "code",
      "execution_count": null,
      "metadata": {
        "id": "omK8DzYOOtJg",
        "colab": {
          "base_uri": "https://localhost:8080/",
          "height": 35
        },
        "outputId": "62287b4c-1afe-45f7-bd01-1d25d529b5b9"
      },
      "outputs": [
        {
          "output_type": "execute_result",
          "data": {
            "text/plain": [
              "'Edi'"
            ],
            "application/vnd.google.colaboratory.intrinsic+json": {
              "type": "string"
            }
          },
          "metadata": {},
          "execution_count": 124
        }
      ],
      "source": [
        "# Mencari nilai max\n",
        "max(nama_teman_set)"
      ]
    },
    {
      "cell_type": "code",
      "execution_count": null,
      "metadata": {
        "id": "j9APrqioOtJg",
        "colab": {
          "base_uri": "https://localhost:8080/",
          "height": 35
        },
        "outputId": "84b0c80e-e91e-435d-b726-d0e75cbd76ac"
      },
      "outputs": [
        {
          "output_type": "execute_result",
          "data": {
            "text/plain": [
              "'Amir'"
            ],
            "application/vnd.google.colaboratory.intrinsic+json": {
              "type": "string"
            }
          },
          "metadata": {},
          "execution_count": 125
        }
      ],
      "source": [
        "# Mencari nilai min\n",
        "min(nama_teman_set)"
      ]
    },
    {
      "cell_type": "code",
      "execution_count": null,
      "metadata": {
        "id": "2_wDacRGOtJg",
        "colab": {
          "base_uri": "https://localhost:8080/"
        },
        "outputId": "d96a4c53-eaf8-490d-aa4e-2f9b246bc798"
      },
      "outputs": [
        {
          "output_type": "execute_result",
          "data": {
            "text/plain": [
              "True"
            ]
          },
          "metadata": {},
          "execution_count": 126
        }
      ],
      "source": [
        "# Melakukan pengecekan keberadaan 'Ani' pada nama_teman_set\n",
        "'Ani' in nama_teman_set"
      ]
    },
    {
      "cell_type": "code",
      "execution_count": null,
      "metadata": {
        "id": "YzLj800SOtJg",
        "colab": {
          "base_uri": "https://localhost:8080/"
        },
        "outputId": "b0642788-107e-428a-da9b-d98dde582cb2"
      },
      "outputs": [
        {
          "output_type": "execute_result",
          "data": {
            "text/plain": [
              "False"
            ]
          },
          "metadata": {},
          "execution_count": 127
        }
      ],
      "source": [
        "# Melakukan pengecekan ketidak-adaan 'Ani' pada nama_teman_set\n",
        "'Ani' not in nama_teman_set"
      ]
    },
    {
      "cell_type": "markdown",
      "source": [
        "## Operations & Methods\n",
        "Python menyediakan beberapa operasi bawaan yang efisien untuk bekerja dengan `Set`, seperti:\n",
        "- **Gabungan (Union)**, untuk menggabungkan dua atau lebih set.\n",
        "- **Irisan (Intersection)**, untuk mendapatkan elemen yang ada di kedua set.\n",
        "- **Selisih (Difference)**, untuk mendapatkan elemen yang ada di satu set tetapi tidak di set lain.\n",
        "- **Eksklusif (Symmetric Difference)**, untuk mendapatkan semua elemen yang hanya ada di salah satu set saja.\n"
      ],
      "metadata": {
        "id": "FWR0u2qqRPlU"
      }
    },
    {
      "cell_type": "markdown",
      "source": [
        "### Ilustrasi 14: `set` Operations & Methods"
      ],
      "metadata": {
        "id": "fCuZmq6HrmXQ"
      }
    },
    {
      "cell_type": "code",
      "execution_count": null,
      "metadata": {
        "id": "l8ALKKIfDTLH",
        "colab": {
          "base_uri": "https://localhost:8080/"
        },
        "outputId": "f07c04f9-c444-46fb-e55d-4f883b6d90b3"
      },
      "outputs": [
        {
          "output_type": "stream",
          "name": "stdout",
          "text": [
            "Union dari nama_teman_set & teman_lama_set: {'Edi', 'Cinta', 'Budi', 'Amir', 'Beni', 'Ani', 'Dimas', 'Rhoma', 'Soneta', 'Ridho'}\n"
          ]
        }
      ],
      "source": [
        "# Menggabungkan dua buah set dengan method 'union()'\n",
        "print(f\"Union dari nama_teman_set & teman_lama_set: {nama_teman_set.union(teman_lama_set)}\")"
      ]
    },
    {
      "cell_type": "code",
      "execution_count": null,
      "metadata": {
        "id": "qTdD3pxHS705",
        "colab": {
          "base_uri": "https://localhost:8080/"
        },
        "outputId": "df5bcc1f-5f11-4dc7-a137-c4a361d33063"
      },
      "outputs": [
        {
          "output_type": "stream",
          "name": "stdout",
          "text": [
            "Union dari nama_teman_set & teman_lama_set: {'Edi', 'Cinta', 'Budi', 'Amir', 'Beni', 'Ani', 'Dimas', 'Rhoma', 'Soneta', 'Ridho'}\n"
          ]
        }
      ],
      "source": [
        "# Menggabungkan dua buah set dengan operator '|'\n",
        "print(f\"Union dari nama_teman_set & teman_lama_set: {nama_teman_set | teman_lama_set}\")"
      ]
    },
    {
      "cell_type": "code",
      "execution_count": null,
      "metadata": {
        "id": "ugqbj_qDC_gL",
        "colab": {
          "base_uri": "https://localhost:8080/"
        },
        "outputId": "7adf48ee-5782-4ec5-c3ee-67d5cff62112"
      },
      "outputs": [
        {
          "output_type": "stream",
          "name": "stdout",
          "text": [
            "Elemen nama_teman_set yang tidak ada pada teman_lama_set: {'Edi', 'Beni', 'Amir', 'Budi', 'Cinta', 'Dimas'}\n"
          ]
        }
      ],
      "source": [
        "# Mencari elemen yang berbeda pada dua buah set dengan method 'difference()'\n",
        "print(f\"Elemen nama_teman_set yang tidak ada pada teman_lama_set: {nama_teman_set.difference(teman_lama_set)}\")"
      ]
    },
    {
      "cell_type": "code",
      "execution_count": null,
      "metadata": {
        "id": "bxScuT_oTIkq",
        "colab": {
          "base_uri": "https://localhost:8080/"
        },
        "outputId": "d765b4d7-47c4-4055-9753-ae7cdd41235d"
      },
      "outputs": [
        {
          "output_type": "stream",
          "name": "stdout",
          "text": [
            "Elemen nama_teman_set yang tidak ada pada teman_lama_set: {'Edi', 'Beni', 'Amir', 'Budi', 'Cinta', 'Dimas'}\n"
          ]
        }
      ],
      "source": [
        "# Mencari elemen yang berbeda pada dua buah set dengan operator '-'\n",
        "print(f\"Elemen nama_teman_set yang tidak ada pada teman_lama_set: {nama_teman_set - teman_lama_set}\")"
      ]
    },
    {
      "cell_type": "code",
      "execution_count": null,
      "metadata": {
        "id": "dJ1lYuGHDI3G",
        "colab": {
          "base_uri": "https://localhost:8080/"
        },
        "outputId": "1eff6ffd-5b13-48b5-c5f9-8c1e28acad35"
      },
      "outputs": [
        {
          "output_type": "stream",
          "name": "stdout",
          "text": [
            "Elemen nama_teman_set yang beririsan dengan teman_lama_set: {'Ani'}\n"
          ]
        }
      ],
      "source": [
        "# Mencari elemen yang beririsan pada dua buah set dengan method 'intersection()'\n",
        "print(f\"Elemen nama_teman_set yang beririsan dengan teman_lama_set: {nama_teman_set.intersection(teman_lama_set)}\")"
      ]
    },
    {
      "cell_type": "code",
      "source": [
        "# Mencari elemen yang beririsan pada dua buah set dengan operator '&'\n",
        "print(f\"Elemen nama_teman_set yang beririsan dengan teman_lama_set: {nama_teman_set & teman_lama_set}\")"
      ],
      "metadata": {
        "id": "oqwB3CW9TUnW",
        "colab": {
          "base_uri": "https://localhost:8080/"
        },
        "outputId": "0c453d9a-ce0b-4d2e-9f57-c15d9ec5f8e8"
      },
      "execution_count": null,
      "outputs": [
        {
          "output_type": "stream",
          "name": "stdout",
          "text": [
            "Elemen nama_teman_set yang beririsan dengan teman_lama_set: {'Ani'}\n"
          ]
        }
      ]
    },
    {
      "cell_type": "code",
      "source": [
        "# Mencari semua elemen yang hanya ada di salah satu set saja dengan `symmetric_difference`\n",
        "print(f\"Semua elemen yang hanya ada pada salah satu set: {nama_teman_set.symmetric_difference(teman_lama_set)}\")"
      ],
      "metadata": {
        "id": "iGcGSA6Xq0Ih",
        "colab": {
          "base_uri": "https://localhost:8080/"
        },
        "outputId": "de05a693-8cf5-4c56-88ee-e80f49a87893"
      },
      "execution_count": null,
      "outputs": [
        {
          "output_type": "stream",
          "name": "stdout",
          "text": [
            "Semua elemen yang hanya ada pada salah satu set: {'Edi', 'Cinta', 'Budi', 'Amir', 'Beni', 'Dimas', 'Rhoma', 'Soneta', 'Ridho'}\n"
          ]
        }
      ]
    },
    {
      "cell_type": "code",
      "source": [
        "# Mencari semua elemen yang hanya ada di salah satu set saja dengan `^`\n",
        "print(f\"Semua elemen yang hanya ada pada salah satu set: {nama_teman_set ^ teman_lama_set}\")"
      ],
      "metadata": {
        "id": "OkhlTQltrYn7",
        "colab": {
          "base_uri": "https://localhost:8080/"
        },
        "outputId": "9d324464-d301-4f34-8125-35567e11adbb"
      },
      "execution_count": null,
      "outputs": [
        {
          "output_type": "stream",
          "name": "stdout",
          "text": [
            "Semua elemen yang hanya ada pada salah satu set: {'Edi', 'Cinta', 'Budi', 'Amir', 'Beni', 'Dimas', 'Rhoma', 'Soneta', 'Ridho'}\n"
          ]
        }
      ]
    },
    {
      "cell_type": "markdown",
      "source": [
        "___\n",
        "# EXERCISE 4: `set`\n",
        "Lengkapilah setiap script pada `cells` di bawah berikut, agar setiap script dapat:\n",
        "1. Membuat sebuah object `pd.Series` berisi setiap elemen pada kolom `State` pada `df_sales`;\n",
        "2. Melakukan pengecekan Tipe object yang dihasilkan proses di atas;\n",
        "3. Melakukan pengecekan jumlah elemen pada object tersebut;\n",
        "4. Melakukan pengecekan object tersebut menjadi sebuah `set`;\n",
        "5. Melakukan pengecekan jumlah elemen pada `set` tersebut;\n",
        "6. Menampilkan isi dari `set` tersebut dari memory;\n",
        "7. Mengakses elemen urutan pertama dari `set` tersebut;\n",
        "8. Menampilkan setiap elemen pada `set` tersebut ke layar menggunakan loop.\n"
      ],
      "metadata": {
        "id": "z2i_C8Z2VYMY"
      }
    },
    {
      "cell_type": "code",
      "source": [
        "# 1. Buat series assign ke variabel `States_Recorded`\n",
        "States_Recorded = pd.Series(df_sales['State'])"
      ],
      "metadata": {
        "id": "VwLrE5_cVcs7"
      },
      "execution_count": null,
      "outputs": []
    },
    {
      "cell_type": "code",
      "source": [
        "# 2. Cek Tipe object\n",
        "type(States_Recorded)"
      ],
      "metadata": {
        "id": "BD0T6cMCcxRc",
        "colab": {
          "base_uri": "https://localhost:8080/",
          "height": 203
        },
        "outputId": "17ed1c1e-9119-4944-9d49-1f113b93748c"
      },
      "execution_count": null,
      "outputs": [
        {
          "output_type": "execute_result",
          "data": {
            "text/plain": [
              "pandas.core.series.Series"
            ],
            "text/html": [
              "<div style=\"max-width:800px; border: 1px solid var(--colab-border-color);\"><style>\n",
              "      pre.function-repr-contents {\n",
              "        overflow-x: auto;\n",
              "        padding: 8px 12px;\n",
              "        max-height: 500px;\n",
              "      }\n",
              "\n",
              "      pre.function-repr-contents.function-repr-contents-collapsed {\n",
              "        cursor: pointer;\n",
              "        max-height: 100px;\n",
              "      }\n",
              "    </style>\n",
              "    <pre style=\"white-space: initial; background:\n",
              "         var(--colab-secondary-surface-color); padding: 8px 12px;\n",
              "         border-bottom: 1px solid var(--colab-border-color);\"><b>pandas.core.series.Series</b><br/>def __init__(data=None, index=None, dtype: Dtype | None=None, name=None, copy: bool | None=None, fastpath: bool | lib.NoDefault=lib.no_default) -&gt; None</pre><pre class=\"function-repr-contents function-repr-contents-collapsed\" style=\"\"><a class=\"filepath\" style=\"display:none\" href=\"#\">/usr/local/lib/python3.11/dist-packages/pandas/core/series.py</a>One-dimensional ndarray with axis labels (including time series).\n",
              "\n",
              "Labels need not be unique but must be a hashable type. The object\n",
              "supports both integer- and label-based indexing and provides a host of\n",
              "methods for performing operations involving the index. Statistical\n",
              "methods from ndarray have been overridden to automatically exclude\n",
              "missing data (currently represented as NaN).\n",
              "\n",
              "Operations between Series (+, -, /, \\*, \\*\\*) align values based on their\n",
              "associated index values-- they need not be the same length. The result\n",
              "index will be the sorted union of the two indexes.\n",
              "\n",
              "Parameters\n",
              "----------\n",
              "data : array-like, Iterable, dict, or scalar value\n",
              "    Contains data stored in Series. If data is a dict, argument order is\n",
              "    maintained.\n",
              "index : array-like or Index (1d)\n",
              "    Values must be hashable and have the same length as `data`.\n",
              "    Non-unique index values are allowed. Will default to\n",
              "    RangeIndex (0, 1, 2, ..., n) if not provided. If data is dict-like\n",
              "    and index is None, then the keys in the data are used as the index. If the\n",
              "    index is not None, the resulting Series is reindexed with the index values.\n",
              "dtype : str, numpy.dtype, or ExtensionDtype, optional\n",
              "    Data type for the output Series. If not specified, this will be\n",
              "    inferred from `data`.\n",
              "    See the :ref:`user guide &lt;basics.dtypes&gt;` for more usages.\n",
              "name : Hashable, default None\n",
              "    The name to give to the Series.\n",
              "copy : bool, default False\n",
              "    Copy input data. Only affects Series or 1d ndarray input. See examples.\n",
              "\n",
              "Notes\n",
              "-----\n",
              "Please reference the :ref:`User Guide &lt;basics.series&gt;` for more information.\n",
              "\n",
              "Examples\n",
              "--------\n",
              "Constructing Series from a dictionary with an Index specified\n",
              "\n",
              "&gt;&gt;&gt; d = {&#x27;a&#x27;: 1, &#x27;b&#x27;: 2, &#x27;c&#x27;: 3}\n",
              "&gt;&gt;&gt; ser = pd.Series(data=d, index=[&#x27;a&#x27;, &#x27;b&#x27;, &#x27;c&#x27;])\n",
              "&gt;&gt;&gt; ser\n",
              "a   1\n",
              "b   2\n",
              "c   3\n",
              "dtype: int64\n",
              "\n",
              "The keys of the dictionary match with the Index values, hence the Index\n",
              "values have no effect.\n",
              "\n",
              "&gt;&gt;&gt; d = {&#x27;a&#x27;: 1, &#x27;b&#x27;: 2, &#x27;c&#x27;: 3}\n",
              "&gt;&gt;&gt; ser = pd.Series(data=d, index=[&#x27;x&#x27;, &#x27;y&#x27;, &#x27;z&#x27;])\n",
              "&gt;&gt;&gt; ser\n",
              "x   NaN\n",
              "y   NaN\n",
              "z   NaN\n",
              "dtype: float64\n",
              "\n",
              "Note that the Index is first build with the keys from the dictionary.\n",
              "After this the Series is reindexed with the given Index values, hence we\n",
              "get all NaN as a result.\n",
              "\n",
              "Constructing Series from a list with `copy=False`.\n",
              "\n",
              "&gt;&gt;&gt; r = [1, 2]\n",
              "&gt;&gt;&gt; ser = pd.Series(r, copy=False)\n",
              "&gt;&gt;&gt; ser.iloc[0] = 999\n",
              "&gt;&gt;&gt; r\n",
              "[1, 2]\n",
              "&gt;&gt;&gt; ser\n",
              "0    999\n",
              "1      2\n",
              "dtype: int64\n",
              "\n",
              "Due to input data type the Series has a `copy` of\n",
              "the original data even though `copy=False`, so\n",
              "the data is unchanged.\n",
              "\n",
              "Constructing Series from a 1d ndarray with `copy=False`.\n",
              "\n",
              "&gt;&gt;&gt; r = np.array([1, 2])\n",
              "&gt;&gt;&gt; ser = pd.Series(r, copy=False)\n",
              "&gt;&gt;&gt; ser.iloc[0] = 999\n",
              "&gt;&gt;&gt; r\n",
              "array([999,   2])\n",
              "&gt;&gt;&gt; ser\n",
              "0    999\n",
              "1      2\n",
              "dtype: int64\n",
              "\n",
              "Due to input data type the Series has a `view` on\n",
              "the original data, so\n",
              "the data is changed as well.</pre>\n",
              "      <script>\n",
              "      if (google.colab.kernel.accessAllowed && google.colab.files && google.colab.files.view) {\n",
              "        for (const element of document.querySelectorAll('.filepath')) {\n",
              "          element.style.display = 'block'\n",
              "          element.onclick = (event) => {\n",
              "            event.preventDefault();\n",
              "            event.stopPropagation();\n",
              "            google.colab.files.view(element.textContent, 263);\n",
              "          };\n",
              "        }\n",
              "      }\n",
              "      for (const element of document.querySelectorAll('.function-repr-contents')) {\n",
              "        element.onclick = (event) => {\n",
              "          event.preventDefault();\n",
              "          event.stopPropagation();\n",
              "          element.classList.toggle('function-repr-contents-collapsed');\n",
              "        };\n",
              "      }\n",
              "      </script>\n",
              "      </div>"
            ]
          },
          "metadata": {},
          "execution_count": 162
        }
      ]
    },
    {
      "cell_type": "code",
      "source": [
        "# 3. Check jumlah elemen dalam series\n",
        "len(States_Recorded)"
      ],
      "metadata": {
        "id": "eAuKRoZbb5aI",
        "colab": {
          "base_uri": "https://localhost:8080/"
        },
        "outputId": "6f98edde-56cd-47a0-9311-07dc3709ecb4"
      },
      "execution_count": null,
      "outputs": [
        {
          "output_type": "execute_result",
          "data": {
            "text/plain": [
              "9994"
            ]
          },
          "metadata": {},
          "execution_count": 163
        }
      ]
    },
    {
      "cell_type": "code",
      "source": [
        "# 4. Buat sebuah set dari `States_Recorded` assign ke variabel `States_Set`\n",
        "States_Set = set(States_Recorded)"
      ],
      "metadata": {
        "id": "6eq3FfBDZIrx"
      },
      "execution_count": null,
      "outputs": []
    },
    {
      "cell_type": "code",
      "source": [
        "# 5. Cek panjang dari set\n",
        "len(States_Set)"
      ],
      "metadata": {
        "id": "OVMmvwVBj545",
        "colab": {
          "base_uri": "https://localhost:8080/"
        },
        "outputId": "c022dc83-e7e2-41a9-c6e9-b8dc8051f428"
      },
      "execution_count": null,
      "outputs": [
        {
          "output_type": "execute_result",
          "data": {
            "text/plain": [
              "49"
            ]
          },
          "metadata": {},
          "execution_count": 166
        }
      ]
    },
    {
      "cell_type": "code",
      "source": [
        "# 6. Tampilkan isi Set dari memory\n",
        "States_Set"
      ],
      "metadata": {
        "id": "hcVX_D8NjfA5",
        "colab": {
          "base_uri": "https://localhost:8080/"
        },
        "outputId": "a9a06326-e494-4d67-e247-7b1ff657ad35"
      },
      "execution_count": null,
      "outputs": [
        {
          "output_type": "execute_result",
          "data": {
            "text/plain": [
              "{'Alabama',\n",
              " 'Arizona',\n",
              " 'Arkansas',\n",
              " 'California',\n",
              " 'Colorado',\n",
              " 'Connecticut',\n",
              " 'Delaware',\n",
              " 'District of Columbia',\n",
              " 'Florida',\n",
              " 'Georgia',\n",
              " 'Idaho',\n",
              " 'Illinois',\n",
              " 'Indiana',\n",
              " 'Iowa',\n",
              " 'Kansas',\n",
              " 'Kentucky',\n",
              " 'Louisiana',\n",
              " 'Maine',\n",
              " 'Maryland',\n",
              " 'Massachusetts',\n",
              " 'Michigan',\n",
              " 'Minnesota',\n",
              " 'Mississippi',\n",
              " 'Missouri',\n",
              " 'Montana',\n",
              " 'Nebraska',\n",
              " 'Nevada',\n",
              " 'New Hampshire',\n",
              " 'New Jersey',\n",
              " 'New Mexico',\n",
              " 'New York',\n",
              " 'North Carolina',\n",
              " 'North Dakota',\n",
              " 'Ohio',\n",
              " 'Oklahoma',\n",
              " 'Oregon',\n",
              " 'Pennsylvania',\n",
              " 'Rhode Island',\n",
              " 'South Carolina',\n",
              " 'South Dakota',\n",
              " 'Tennessee',\n",
              " 'Texas',\n",
              " 'Utah',\n",
              " 'Vermont',\n",
              " 'Virginia',\n",
              " 'Washington',\n",
              " 'West Virginia',\n",
              " 'Wisconsin',\n",
              " 'Wyoming'}"
            ]
          },
          "metadata": {},
          "execution_count": 167
        }
      ]
    },
    {
      "cell_type": "code",
      "source": [
        "# 7. Cobalah untuk melihat elemen pertama\n",
        "States_Set[0]"
      ],
      "metadata": {
        "id": "7hZDwGVrkg3M",
        "colab": {
          "base_uri": "https://localhost:8080/",
          "height": 158
        },
        "outputId": "1e73a90e-138a-4c23-eb87-8135faf827b1"
      },
      "execution_count": null,
      "outputs": [
        {
          "output_type": "error",
          "ename": "TypeError",
          "evalue": "'set' object is not subscriptable",
          "traceback": [
            "\u001b[0;31m---------------------------------------------------------------------------\u001b[0m",
            "\u001b[0;31mTypeError\u001b[0m                                 Traceback (most recent call last)",
            "\u001b[0;32m<ipython-input-168-cbaf9deb34b4>\u001b[0m in \u001b[0;36m<cell line: 0>\u001b[0;34m()\u001b[0m\n\u001b[1;32m      1\u001b[0m \u001b[0;31m# 7. Cobalah untuk melihat elemen pertama\u001b[0m\u001b[0;34m\u001b[0m\u001b[0;34m\u001b[0m\u001b[0m\n\u001b[0;32m----> 2\u001b[0;31m \u001b[0mStates_Set\u001b[0m\u001b[0;34m[\u001b[0m\u001b[0;36m0\u001b[0m\u001b[0;34m]\u001b[0m\u001b[0;34m\u001b[0m\u001b[0;34m\u001b[0m\u001b[0m\n\u001b[0m",
            "\u001b[0;31mTypeError\u001b[0m: 'set' object is not subscriptable"
          ]
        }
      ]
    },
    {
      "cell_type": "code",
      "source": [
        "# Print setiap elemen pada States_Set menggunakan for loop\n",
        "for state in States_Set:\n",
        "  print(state)"
      ],
      "metadata": {
        "id": "BRSREdmlk2tM",
        "colab": {
          "base_uri": "https://localhost:8080/"
        },
        "outputId": "bb0bc55d-c84d-4356-f8ac-eebf6673c8d3"
      },
      "execution_count": null,
      "outputs": [
        {
          "output_type": "stream",
          "name": "stdout",
          "text": [
            "North Carolina\n",
            "Connecticut\n",
            "New Hampshire\n",
            "North Dakota\n",
            "Kentucky\n",
            "Delaware\n",
            "Maryland\n",
            "Texas\n",
            "Michigan\n",
            "Missouri\n",
            "Massachusetts\n",
            "South Carolina\n",
            "California\n",
            "Florida\n",
            "Colorado\n",
            "Ohio\n",
            "Mississippi\n",
            "Nebraska\n",
            "Oregon\n",
            "Pennsylvania\n",
            "District of Columbia\n",
            "Montana\n",
            "West Virginia\n",
            "Wisconsin\n",
            "Nevada\n",
            "Idaho\n",
            "Rhode Island\n",
            "New York\n",
            "Wyoming\n",
            "Louisiana\n",
            "Iowa\n",
            "Virginia\n",
            "Alabama\n",
            "New Jersey\n",
            "Georgia\n",
            "Tennessee\n",
            "Oklahoma\n",
            "Indiana\n",
            "Vermont\n",
            "Minnesota\n",
            "Washington\n",
            "Kansas\n",
            "Arizona\n",
            "Illinois\n",
            "South Dakota\n",
            "New Mexico\n",
            "Arkansas\n",
            "Maine\n",
            "Utah\n"
          ]
        }
      ]
    },
    {
      "cell_type": "markdown",
      "metadata": {
        "id": "TXlh9tERrM-H"
      },
      "source": [
        "---\n",
        "# `Dictionary`\n",
        "> `Dictionary` adalah struktur data dalam Python yang menyimpan data dalam bentuk pasangan *key*--*value*, merupakan jenis data yang sangat berguna saat kita ingin mengasosiasikan atau melakukan pemetaan data.\n",
        "\n",
        "Dictionary memiliki karakteristik sebagai berikut:\n",
        "- ***Unordered***: Urutan pasangan `key-value` dalam `dictionary` tidak dijamin konsisten dan bisa berubah seiring waktu.\n",
        "- ***Mutable***: Dimungkinkan untuk mengubah, menambah, atau menghapus pasangan `key-value` setelah `dictionary` dibuat.\n",
        "- ***Indexed by Keys***: Akses elemen `dictionary` dilakukan menggunakan `key`, bukan posisi index seperti pada `list`.\n",
        "- ***Unique Keys***: Setiap *key* dalam `dictionary` harus unik. Jika terdapat `value` dengan `key` terduplikat, maka value terakhir yang ditambahkan akan otomatis menggantikan `value` sebelumnya.\n",
        "- ***Heterogeneous Values***: `value` yang disimpan dalam `dictionary` dapat berupa objek dengan tipe data apa pun, termasuk `list`, `tuple`, `set`, atau bahkan `dictionary` lainnya."
      ]
    },
    {
      "cell_type": "markdown",
      "source": [
        "## Construction\n",
        "Beberapa cara yang lazim digunakan untuk menyusun `dictionary`:\n",
        "1. `type literals`:\n",
        "```python\n",
        "nama_dictionary = {} # Membuat dictionary kosong\n",
        "nama_dictionary = {\n",
        "  'key_1': 'value_1',\n",
        "  'key_2': 'value_2',\n",
        "  'key_n': 'value_n'\n",
        "}\n",
        "```\n",
        "2. `dict constructor`:\n",
        "```python\n",
        "nama_dictionary = dict() # Membuat dictionary kosong\n",
        "nama_dictionary = dict(\n",
        "   key_1='value_1',\n",
        "   key_2='value_2',\n",
        "   key_n='value_n'\n",
        ")\n",
        "```\n",
        "3. `zip method`:\n",
        "```python\n",
        "keys = ['key1', 'key2', 'key3']\n",
        "values = ['value1', 'value2', 'value3']\n",
        "nama_dict = dict(zip(keys, values))\n",
        "```"
      ],
      "metadata": {
        "id": "_QI9MQ0rgH15"
      }
    },
    {
      "cell_type": "markdown",
      "source": [
        "### Ilustrasi 15: `dictionary` Construction"
      ],
      "metadata": {
        "id": "HO4c-SrgwzjI"
      }
    },
    {
      "cell_type": "code",
      "execution_count": null,
      "metadata": {
        "id": "YIXprrdEkAkX",
        "colab": {
          "base_uri": "https://localhost:8080/"
        },
        "outputId": "586ce2e0-6445-4bf2-f6d6-c2f0f8bbead8"
      },
      "outputs": [
        {
          "output_type": "stream",
          "name": "stdout",
          "text": [
            "{'Nama': 'Dicky', 'Usia': 30, 'Role': 'Data Analyst', 'Dept': 'Marketing'}\n"
          ]
        }
      ],
      "source": [
        "# Membuat dictionary dengan literals\n",
        "\n",
        "pegawai_1 = {\n",
        "\t'Nama': 'Dicky',\n",
        "\t'Usia': 30,\n",
        "\t'Role': 'Data Analyst',\n",
        "\t'Dept': 'Marketing'\n",
        "}\n",
        "print(pegawai_1)"
      ]
    },
    {
      "cell_type": "code",
      "source": [
        "# Membuat dictionary dengan constructor\n",
        "\n",
        "pegawai_2 = dict(\n",
        "    Nama='Dika',\n",
        "    Usia=25,\n",
        "    Role='Data Analyst',\n",
        "    Dept='Marketing'\n",
        ")\n",
        "print(pegawai_2)"
      ],
      "metadata": {
        "id": "mpuHsM4OhuOE",
        "colab": {
          "base_uri": "https://localhost:8080/"
        },
        "outputId": "ff03ad75-71c2-48fa-ae8d-49e042fac346"
      },
      "execution_count": null,
      "outputs": [
        {
          "output_type": "stream",
          "name": "stdout",
          "text": [
            "{'Nama': 'Dika', 'Usia': 25, 'Role': 'Data Analyst', 'Dept': 'Marketing'}\n"
          ]
        }
      ]
    },
    {
      "cell_type": "markdown",
      "source": [
        "## Access to elements\n",
        "Terdapat dua cara yang lazimnya dipergunakan untuk mengakses elemen pada sebuah `dictionary`:\n",
        "1. Menggunakan `key`\n",
        "```python\n",
        "dictionary['key'] # Output: 'value'\n",
        "```\n",
        "2. Menggunakan method `get`\n",
        "```python\n",
        "dictionary.get('key', 'value_if_no_key_is_found')\n",
        "```"
      ],
      "metadata": {
        "id": "us0Ck0k9kBnn"
      }
    },
    {
      "cell_type": "markdown",
      "source": [
        "### Ilustrasi 16: Access to Elements"
      ],
      "metadata": {
        "id": "_FCwhjWax40-"
      }
    },
    {
      "cell_type": "code",
      "execution_count": null,
      "metadata": {
        "id": "Li8_-BDEs7WW",
        "colab": {
          "base_uri": "https://localhost:8080/",
          "height": 193
        },
        "outputId": "30a049b9-2974-4b0f-a2f5-7696ce05381a"
      },
      "outputs": [
        {
          "output_type": "stream",
          "name": "stdout",
          "text": [
            "Dicky\n"
          ]
        },
        {
          "output_type": "error",
          "ename": "KeyError",
          "evalue": "'Gaji'",
          "traceback": [
            "\u001b[0;31m---------------------------------------------------------------------------\u001b[0m",
            "\u001b[0;31mKeyError\u001b[0m                                  Traceback (most recent call last)",
            "\u001b[0;32m<ipython-input-138-92ce078d3045>\u001b[0m in \u001b[0;36m<cell line: 0>\u001b[0;34m()\u001b[0m\n\u001b[1;32m      2\u001b[0m \u001b[0;34m\u001b[0m\u001b[0m\n\u001b[1;32m      3\u001b[0m \u001b[0mprint\u001b[0m\u001b[0;34m(\u001b[0m\u001b[0mpegawai_1\u001b[0m\u001b[0;34m[\u001b[0m\u001b[0;34m'Nama'\u001b[0m\u001b[0;34m]\u001b[0m\u001b[0;34m)\u001b[0m\u001b[0;34m\u001b[0m\u001b[0;34m\u001b[0m\u001b[0m\n\u001b[0;32m----> 4\u001b[0;31m \u001b[0mprint\u001b[0m\u001b[0;34m(\u001b[0m\u001b[0mpegawai_1\u001b[0m\u001b[0;34m[\u001b[0m\u001b[0;34m'Gaji'\u001b[0m\u001b[0;34m]\u001b[0m\u001b[0;34m)\u001b[0m \u001b[0;31m# Memanggil key yang tidak terdapat pada dictionary akan menyebabkan error\u001b[0m\u001b[0;34m\u001b[0m\u001b[0;34m\u001b[0m\u001b[0m\n\u001b[0m",
            "\u001b[0;31mKeyError\u001b[0m: 'Gaji'"
          ]
        }
      ],
      "source": [
        "# Memanggil value dari dictionary menggunakan key\n",
        "\n",
        "print(pegawai_1['Nama'])\n",
        "print(pegawai_1['Gaji']) # Memanggil key yang tidak terdapat pada dictionary akan menyebabkan error"
      ]
    },
    {
      "cell_type": "code",
      "source": [
        "# Memanggil value dari dictionary menggunakan method 'get()'\n",
        "\n",
        "print(pegawai_1.get('Nama'))\n",
        "print(pegawai_1.get('Gaji')) # Memanggil key yang tidak ada, tidak menyebabkan error\n",
        "print(pegawai_1.get('Gaji', 'Key tersebut tidak ditemukan!'))"
      ],
      "metadata": {
        "id": "k-I6YksTkgB0",
        "colab": {
          "base_uri": "https://localhost:8080/"
        },
        "outputId": "f77081c2-fd55-4718-e87f-0dfcb371826c"
      },
      "execution_count": null,
      "outputs": [
        {
          "output_type": "stream",
          "name": "stdout",
          "text": [
            "Dicky\n",
            "None\n",
            "Key tersebut tidak ditemukan!\n"
          ]
        }
      ]
    },
    {
      "cell_type": "markdown",
      "source": [
        "## Size modification\n",
        "Modifikasi jumlah elemen pada sebuah `dictionary` dapat terjadi ketika dilakukan:\n",
        "1. Penambahan elemen, dengan cara:\n",
        "```python\n",
        "dictionary['key']='value'\n",
        "```\n",
        "  **Catatan**: Jika `key` yang dituliskan belum terdapat pada `dictionary`, maka akan terjadi penambahan elemen `key`:`value` pada `dictionary` tersebut. Sedangkan jika `key` yang dituliskan sudah ada, maka tidak akan terjadi penambahan elemen, akan tetapi akan terjadi perubahan `value` yang disimpan dengan `key` tersebut pada `dictionary`.\n",
        "2. Pengurangan elemen, dengan cara:\n",
        "```python\n",
        "del dictionary['key']\n",
        "```"
      ],
      "metadata": {
        "id": "_bQhl8IhlmUC"
      }
    },
    {
      "cell_type": "markdown",
      "source": [
        "### Ilustrasi 17: Size Modification"
      ],
      "metadata": {
        "id": "80YF5-bty7iQ"
      }
    },
    {
      "cell_type": "code",
      "execution_count": null,
      "metadata": {
        "id": "6iyvfORls9z0",
        "colab": {
          "base_uri": "https://localhost:8080/"
        },
        "outputId": "ee1b6862-2bfb-4ec0-cea1-1e32a378f82d"
      },
      "outputs": [
        {
          "output_type": "stream",
          "name": "stdout",
          "text": [
            "{'Nama': 'Ricky', 'Usia': 30, 'Role': 'Data Analyst', 'Dept': 'Marketing'}\n"
          ]
        }
      ],
      "source": [
        "# Mengganti nilai pada dictionary\n",
        "\n",
        "pegawai_1['Nama'] = 'Ricky'\n",
        "\n",
        "print(pegawai_1)"
      ]
    },
    {
      "cell_type": "code",
      "execution_count": null,
      "metadata": {
        "id": "btXvZzcctAe_",
        "colab": {
          "base_uri": "https://localhost:8080/"
        },
        "outputId": "028bc367-b956-4546-99c2-8783cb19adde"
      },
      "outputs": [
        {
          "output_type": "stream",
          "name": "stdout",
          "text": [
            "{'Nama': 'Ricky', 'Usia': 30, 'Role': 'Data Analyst', 'Dept': 'Marketing', 'Gaji': 10000000}\n",
            "{'Nama': 'Dika', 'Usia': 25, 'Role': 'Data Analyst', 'Dept': 'Marketing', 'Gaji': 9500000}\n"
          ]
        }
      ],
      "source": [
        "# Menambahkan key baru beserta valuenya\n",
        "\n",
        "pegawai_1['Gaji'] = 10_000_000\n",
        "pegawai_2['Gaji'] = 9_500_000\n",
        "\n",
        "print(pegawai_1)\n",
        "print(pegawai_2)"
      ]
    },
    {
      "cell_type": "code",
      "execution_count": null,
      "metadata": {
        "id": "j_7U3L22tBTR",
        "colab": {
          "base_uri": "https://localhost:8080/"
        },
        "outputId": "f60cb0ef-0ef0-41d3-b28c-7dc43b6649eb"
      },
      "outputs": [
        {
          "output_type": "stream",
          "name": "stdout",
          "text": [
            "{'Nama': 'Ricky', 'Usia': 30, 'Dept': 'Marketing', 'Gaji': 10000000}\n",
            "{'Nama': 'Dika', 'Usia': 25, 'Dept': 'Marketing', 'Gaji': 9500000}\n"
          ]
        }
      ],
      "source": [
        "# Menghapus key beserta valuenya\n",
        "\n",
        "del pegawai_1['Role']\n",
        "del pegawai_2['Role']\n",
        "\n",
        "print(pegawai_1)\n",
        "print(pegawai_2)"
      ]
    },
    {
      "cell_type": "markdown",
      "source": [
        "## Methods\n",
        "Beberapa methods lain yang sangat berguna dalam pemanfaatan object `dictionary` adalah sebagai berikut:\n",
        "1. `keys`;\n",
        "2. `values`;\n",
        "3. `items`;\n",
        "4. `copy`;\n",
        "5. `clear`; dan\n",
        "6. `get`.\n",
        "Adapun penggunaan masing-masing method tersebut dapat dicoba pada examples di bawah berikut."
      ],
      "metadata": {
        "id": "f8XizLr5l0pf"
      }
    },
    {
      "cell_type": "markdown",
      "source": [
        "### Ilustrasi 18: `dictionary` Methods"
      ],
      "metadata": {
        "id": "luQK5fL56NMP"
      }
    },
    {
      "cell_type": "code",
      "execution_count": null,
      "metadata": {
        "id": "onRJzBXktK64",
        "colab": {
          "base_uri": "https://localhost:8080/"
        },
        "outputId": "4d47df3b-cad6-4360-fcfc-67bf1116a4d7"
      },
      "outputs": [
        {
          "output_type": "execute_result",
          "data": {
            "text/plain": [
              "dict_keys(['Nama', 'Usia', 'Dept', 'Gaji'])"
            ]
          },
          "metadata": {},
          "execution_count": 143
        }
      ],
      "source": [
        "# Menampilkan daftar key dari dictionary\n",
        "pegawai_1.keys()"
      ]
    },
    {
      "cell_type": "code",
      "execution_count": null,
      "metadata": {
        "id": "YCIxOTZMuLPk",
        "colab": {
          "base_uri": "https://localhost:8080/"
        },
        "outputId": "1eea62ad-eefd-4311-f89f-54c65b75871f"
      },
      "outputs": [
        {
          "output_type": "execute_result",
          "data": {
            "text/plain": [
              "dict_values(['Ricky', 30, 'Marketing', 10000000])"
            ]
          },
          "metadata": {},
          "execution_count": 144
        }
      ],
      "source": [
        "# Menampilkan daftar values\n",
        "pegawai_1.values()"
      ]
    },
    {
      "cell_type": "code",
      "execution_count": null,
      "metadata": {
        "id": "7wvf6JiuuMep",
        "colab": {
          "base_uri": "https://localhost:8080/"
        },
        "outputId": "bbd6a634-2133-46fe-d820-09cc65c80b00"
      },
      "outputs": [
        {
          "output_type": "execute_result",
          "data": {
            "text/plain": [
              "dict_items([('Nama', 'Ricky'), ('Usia', 30), ('Dept', 'Marketing'), ('Gaji', 10000000)])"
            ]
          },
          "metadata": {},
          "execution_count": 145
        }
      ],
      "source": [
        "# Menampilkan pasangan key value dalam bentuk list of tuples\n",
        "pegawai_1.items()"
      ]
    },
    {
      "cell_type": "code",
      "execution_count": null,
      "metadata": {
        "id": "-_fzyG_XuNoa",
        "colab": {
          "base_uri": "https://localhost:8080/"
        },
        "outputId": "8897030d-2128-4624-a681-92c8bf303165"
      },
      "outputs": [
        {
          "output_type": "stream",
          "name": "stdout",
          "text": [
            "{'Nama': 'Ricky', 'Usia': 30, 'Dept': 'Marketing', 'Gaji': 10000000}\n"
          ]
        }
      ],
      "source": [
        "# menyalin dictionary\n",
        "copy_of_pegawai_1 = pegawai_1.copy()\n",
        "print(copy_of_pegawai_1)"
      ]
    },
    {
      "cell_type": "code",
      "execution_count": null,
      "metadata": {
        "id": "d0Ozu2fDOfOc",
        "colab": {
          "base_uri": "https://localhost:8080/"
        },
        "outputId": "40c04736-4de9-4a7e-af0e-bec32349bb67"
      },
      "outputs": [
        {
          "output_type": "stream",
          "name": "stdout",
          "text": [
            "{}\n"
          ]
        }
      ],
      "source": [
        "# menghapus seluruh isi dictionary\n",
        "copy_of_pegawai_1.clear()\n",
        "print(copy_of_pegawai_1)"
      ]
    },
    {
      "cell_type": "code",
      "source": [
        "# Menampilkan data yang disimpan pada sebuah dictionary\n",
        "pegawai_1['Nama']"
      ],
      "metadata": {
        "id": "dL0b1-grvf9V",
        "colab": {
          "base_uri": "https://localhost:8080/",
          "height": 35
        },
        "outputId": "16a88bcc-9b39-4dc3-d544-18ca01a32936"
      },
      "execution_count": null,
      "outputs": [
        {
          "output_type": "execute_result",
          "data": {
            "text/plain": [
              "'Ricky'"
            ],
            "application/vnd.google.colaboratory.intrinsic+json": {
              "type": "string"
            }
          },
          "metadata": {},
          "execution_count": 148
        }
      ]
    },
    {
      "cell_type": "code",
      "source": [
        "# Jika key yang diinput tidak ditemukan pada dictionary\n",
        "pegawai_1['Alamat']"
      ],
      "metadata": {
        "id": "qjF12u9bwBNg",
        "colab": {
          "base_uri": "https://localhost:8080/",
          "height": 158
        },
        "outputId": "16bc4e81-9dbc-4e2a-e432-43d3c5f0a038"
      },
      "execution_count": null,
      "outputs": [
        {
          "output_type": "error",
          "ename": "KeyError",
          "evalue": "'Alamat'",
          "traceback": [
            "\u001b[0;31m---------------------------------------------------------------------------\u001b[0m",
            "\u001b[0;31mKeyError\u001b[0m                                  Traceback (most recent call last)",
            "\u001b[0;32m<ipython-input-149-61b4dc49ea2c>\u001b[0m in \u001b[0;36m<cell line: 0>\u001b[0;34m()\u001b[0m\n\u001b[1;32m      1\u001b[0m \u001b[0;31m# Jika key yang diinput tidak ditemukan pada dictionary\u001b[0m\u001b[0;34m\u001b[0m\u001b[0;34m\u001b[0m\u001b[0m\n\u001b[0;32m----> 2\u001b[0;31m \u001b[0mpegawai_1\u001b[0m\u001b[0;34m[\u001b[0m\u001b[0;34m'Alamat'\u001b[0m\u001b[0;34m]\u001b[0m\u001b[0;34m\u001b[0m\u001b[0;34m\u001b[0m\u001b[0m\n\u001b[0m",
            "\u001b[0;31mKeyError\u001b[0m: 'Alamat'"
          ]
        }
      ]
    },
    {
      "cell_type": "code",
      "source": [
        "# Agar tidak menghasilkan error saat pencarian data\n",
        "pegawai_1.get('Alamat')"
      ],
      "metadata": {
        "id": "3xIYCr_3wOIc"
      },
      "execution_count": null,
      "outputs": []
    },
    {
      "cell_type": "code",
      "source": [
        "# Untuk memberikan keterangan \"Data yang dicari tidak ada dalam database!\"\n",
        "pegawai_1.get('Alamat', \"Data yang dicari tidak ada dalam database!\")"
      ],
      "metadata": {
        "id": "wuvU2rEywXRs",
        "colab": {
          "base_uri": "https://localhost:8080/",
          "height": 35
        },
        "outputId": "2729ab5e-e545-449b-91ae-710a2870dc15"
      },
      "execution_count": null,
      "outputs": [
        {
          "output_type": "execute_result",
          "data": {
            "text/plain": [
              "'Data yang dicari tidak ada dalam database!'"
            ],
            "application/vnd.google.colaboratory.intrinsic+json": {
              "type": "string"
            }
          },
          "metadata": {},
          "execution_count": 151
        }
      ]
    },
    {
      "cell_type": "markdown",
      "source": [
        "# EXERCISE 5: `dictionary`\n",
        "1. Buat sebuah `list` berisikan dua `dictionary` pegawai_1 dan pegawai_2, lalu *assign* ke variabel `list_pegawai`;\n",
        "2. Gunakan teknik `list comprehension` untuk mengambil hanya setiap *values* dari kedua pegawai pada `list_pegawai`;\n",
        "3. Gunakan teknik `list comprehension` untuk mengambil hanya data `Nama` dan `Usia` dari kedua pegawai pada `list_pegawai`;\n",
        "4. Gunakan teknik `list comprehension` untuk melakukan filtering data\n",
        " `Usia` pada `list_pegawai` yang memiliki value `Nama` == 'Dika';\n",
        "5. Gunakan teknis `list comprehension` untuk melakukan filtering data pegawai yang memiliki nilai gaji dibawah 10 juta."
      ],
      "metadata": {
        "id": "I1V_hmANmBTg"
      }
    },
    {
      "cell_type": "code",
      "source": [
        "# 1. Buat list_pegawai\n",
        "list_pegawai = [pegawai_1, pegawai_2]\n",
        "print(list_pegawai)"
      ],
      "metadata": {
        "id": "IjCnzfHXsyxV",
        "colab": {
          "base_uri": "https://localhost:8080/"
        },
        "outputId": "baea04a2-6097-462c-c27e-276727aadcd3"
      },
      "execution_count": null,
      "outputs": [
        {
          "output_type": "stream",
          "name": "stdout",
          "text": [
            "[{'Nama': 'Ricky', 'Usia': 30, 'Dept': 'Marketing', 'Gaji': 10000000}, {'Nama': 'Dika', 'Usia': 25, 'Dept': 'Marketing', 'Gaji': 9500000}]\n"
          ]
        }
      ]
    },
    {
      "cell_type": "code",
      "source": [
        "# 2. Tampilkan hanya item values saja\n",
        "[data.values() for data in list_pegawai]"
      ],
      "metadata": {
        "id": "BZNNWswtxcL5",
        "colab": {
          "base_uri": "https://localhost:8080/"
        },
        "outputId": "7ecb1f76-6ffb-467b-af0b-da058dd557e1"
      },
      "execution_count": null,
      "outputs": [
        {
          "output_type": "execute_result",
          "data": {
            "text/plain": [
              "[dict_values(['Ricky', 30, 'Marketing', 10000000]),\n",
              " dict_values(['Dika', 25, 'Marketing', 9500000])]"
            ]
          },
          "metadata": {},
          "execution_count": 153
        }
      ]
    },
    {
      "cell_type": "code",
      "source": [
        "# 3. Tampilkan data 'Nama' dan 'Usia' saja\n",
        "[(data['Nama'], data['Usia']) for data in list_pegawai]"
      ],
      "metadata": {
        "id": "M1u1jeLZv8kl",
        "colab": {
          "base_uri": "https://localhost:8080/"
        },
        "outputId": "9bf9714b-2c97-42cd-94fb-aaba0d115ad1"
      },
      "execution_count": null,
      "outputs": [
        {
          "output_type": "execute_result",
          "data": {
            "text/plain": [
              "[('Ricky', 30), ('Dika', 25)]"
            ]
          },
          "metadata": {},
          "execution_count": 154
        }
      ]
    },
    {
      "cell_type": "code",
      "source": [
        "# 4. Tampilkan hanya data 'Usia' dari pegawai bernama 'Dika'\n",
        "[data['Usia'] for data in list_pegawai if data['Nama'] == 'Dika']"
      ],
      "metadata": {
        "id": "mY7DUdJ9s-qw",
        "colab": {
          "base_uri": "https://localhost:8080/"
        },
        "outputId": "4736ced1-1646-4d2a-9af6-294d3b1374df"
      },
      "execution_count": null,
      "outputs": [
        {
          "output_type": "execute_result",
          "data": {
            "text/plain": [
              "[25]"
            ]
          },
          "metadata": {},
          "execution_count": 155
        }
      ]
    },
    {
      "cell_type": "code",
      "source": [
        "# 5. Tampilkan data pegawai yang nilai 'Gaji' di bawah 10 juta\n",
        "[data for data in list_pegawai if data['Gaji'] < 10_000_000]"
      ],
      "metadata": {
        "id": "Sul4s2AOzEmP",
        "colab": {
          "base_uri": "https://localhost:8080/"
        },
        "outputId": "7d932a1e-0250-4c00-a25e-516a4aba07be"
      },
      "execution_count": null,
      "outputs": [
        {
          "output_type": "execute_result",
          "data": {
            "text/plain": [
              "[{'Nama': 'Dika', 'Usia': 25, 'Dept': 'Marketing', 'Gaji': 9500000}]"
            ]
          },
          "metadata": {},
          "execution_count": 156
        }
      ]
    },
    {
      "cell_type": "markdown",
      "source": [
        "---\n",
        "# `pd.DataFrame` Object\n",
        "\n",
        "Seperti telah dicontohkan pada pertemuan ke-7 sebelumnya, kegiatan data analytics akan mengharuskan seorang data analyst untuk biasa bekerja dengan object `pd.DataFrame`. Seperti dicontohkan pada ilustrasi di pertemuan tersebut, bahwa data dari kegiatan survey dapat disimpan dalam berbagai object data fundamental python, seperti `list` dan `tuple`, dan dikonversi menjadi object `pd.DataFrame` agar memudahkan proses pengolahan, dan analisis lebih lanjutnya."
      ],
      "metadata": {
        "id": "mt8wui1h0KMs"
      }
    },
    {
      "cell_type": "markdown",
      "source": [
        "### CONSTRUCTION\n",
        "Pada exercise di bawah ini, akan diperkenalkan beberapa methods pada modul `pandas` yang umumnya dipergunakan untuk membangun sebuah dataframe, yaitu:\n",
        "1. `pd.DataFrame`; dan\n",
        "2. `pd.concat`."
      ],
      "metadata": {
        "id": "CZVa_cZeMDmo"
      }
    },
    {
      "cell_type": "markdown",
      "source": [
        "#### **METHOD `pd.DataFrame`**\n",
        "\n",
        "Method ini cukup fleksibel, karena dapat dimanfaatkan untuk menkonversi data yang tersimpan di dalam berbagai jenis object python fundamental, atau pada sebuah object `pd.series`.\n",
        "\n",
        "Hal penting yang harus dipastikan dalam penggunaan method ini adalah:\n",
        "1. Setiap data yang akan dikonversi memiliki **jumlah elemen** yang sama;\n",
        "2. Setiap data yang akan dikonversi memiliki **penulisan index** yang seragam; dan\n",
        "3. Setiap data yang akan dikonversi tersimpan dalam **tipe object** (object fundamental python atau `pd.series`) yang seragam.\n",
        "\n",
        "Berikut ini dicontohkan cara penggunaannya yang disesuaikan dengan jenis object yang akan dikonversi."
      ],
      "metadata": {
        "id": "E7UanytFMKSA"
      }
    },
    {
      "cell_type": "code",
      "source": [
        "import pandas as pd\n",
        "# 1. Mengkonversi beberapa object fundamental python menjadi dataframe\n",
        "# Buat list berisi `kode_tuple`, `nama_teman`, `umur_tuple`, dan `gaji_tuple`\n",
        "list_of_objects = [kode_tuple, nama_teman, umur_tuple, gaji_tuple]\n",
        "# Proses list_of_data menjadi dataframe\n",
        "df_fundamental = pd.DataFrame(list_of_objects, index=['Kode', 'Nama', 'Usia', 'Gaji']).T.set_index('Kode')\n",
        "# Check hasil konversi\n",
        "df_fundamental"
      ],
      "metadata": {
        "id": "YDWpUH6y6siX",
        "colab": {
          "base_uri": "https://localhost:8080/",
          "height": 237
        },
        "outputId": "514418fc-53fa-42af-a021-b209de07f094"
      },
      "execution_count": null,
      "outputs": [
        {
          "output_type": "execute_result",
          "data": {
            "text/plain": [
              "       Nama Usia     Gaji\n",
              "Kode                     \n",
              "100    Amir   25  1000000\n",
              "200    Budi   20  2000000\n",
              "300   Cinta   30  3000000\n",
              "400   Dimas   40  4000000\n",
              "500     Edi   50  5000000"
            ],
            "text/html": [
              "\n",
              "  <div id=\"df-e8985b10-36c4-4df8-84ab-9db0dd1f302c\" class=\"colab-df-container\">\n",
              "    <div>\n",
              "<style scoped>\n",
              "    .dataframe tbody tr th:only-of-type {\n",
              "        vertical-align: middle;\n",
              "    }\n",
              "\n",
              "    .dataframe tbody tr th {\n",
              "        vertical-align: top;\n",
              "    }\n",
              "\n",
              "    .dataframe thead th {\n",
              "        text-align: right;\n",
              "    }\n",
              "</style>\n",
              "<table border=\"1\" class=\"dataframe\">\n",
              "  <thead>\n",
              "    <tr style=\"text-align: right;\">\n",
              "      <th></th>\n",
              "      <th>Nama</th>\n",
              "      <th>Usia</th>\n",
              "      <th>Gaji</th>\n",
              "    </tr>\n",
              "    <tr>\n",
              "      <th>Kode</th>\n",
              "      <th></th>\n",
              "      <th></th>\n",
              "      <th></th>\n",
              "    </tr>\n",
              "  </thead>\n",
              "  <tbody>\n",
              "    <tr>\n",
              "      <th>100</th>\n",
              "      <td>Amir</td>\n",
              "      <td>25</td>\n",
              "      <td>1000000</td>\n",
              "    </tr>\n",
              "    <tr>\n",
              "      <th>200</th>\n",
              "      <td>Budi</td>\n",
              "      <td>20</td>\n",
              "      <td>2000000</td>\n",
              "    </tr>\n",
              "    <tr>\n",
              "      <th>300</th>\n",
              "      <td>Cinta</td>\n",
              "      <td>30</td>\n",
              "      <td>3000000</td>\n",
              "    </tr>\n",
              "    <tr>\n",
              "      <th>400</th>\n",
              "      <td>Dimas</td>\n",
              "      <td>40</td>\n",
              "      <td>4000000</td>\n",
              "    </tr>\n",
              "    <tr>\n",
              "      <th>500</th>\n",
              "      <td>Edi</td>\n",
              "      <td>50</td>\n",
              "      <td>5000000</td>\n",
              "    </tr>\n",
              "  </tbody>\n",
              "</table>\n",
              "</div>\n",
              "    <div class=\"colab-df-buttons\">\n",
              "\n",
              "  <div class=\"colab-df-container\">\n",
              "    <button class=\"colab-df-convert\" onclick=\"convertToInteractive('df-e8985b10-36c4-4df8-84ab-9db0dd1f302c')\"\n",
              "            title=\"Convert this dataframe to an interactive table.\"\n",
              "            style=\"display:none;\">\n",
              "\n",
              "  <svg xmlns=\"http://www.w3.org/2000/svg\" height=\"24px\" viewBox=\"0 -960 960 960\">\n",
              "    <path d=\"M120-120v-720h720v720H120Zm60-500h600v-160H180v160Zm220 220h160v-160H400v160Zm0 220h160v-160H400v160ZM180-400h160v-160H180v160Zm440 0h160v-160H620v160ZM180-180h160v-160H180v160Zm440 0h160v-160H620v160Z\"/>\n",
              "  </svg>\n",
              "    </button>\n",
              "\n",
              "  <style>\n",
              "    .colab-df-container {\n",
              "      display:flex;\n",
              "      gap: 12px;\n",
              "    }\n",
              "\n",
              "    .colab-df-convert {\n",
              "      background-color: #E8F0FE;\n",
              "      border: none;\n",
              "      border-radius: 50%;\n",
              "      cursor: pointer;\n",
              "      display: none;\n",
              "      fill: #1967D2;\n",
              "      height: 32px;\n",
              "      padding: 0 0 0 0;\n",
              "      width: 32px;\n",
              "    }\n",
              "\n",
              "    .colab-df-convert:hover {\n",
              "      background-color: #E2EBFA;\n",
              "      box-shadow: 0px 1px 2px rgba(60, 64, 67, 0.3), 0px 1px 3px 1px rgba(60, 64, 67, 0.15);\n",
              "      fill: #174EA6;\n",
              "    }\n",
              "\n",
              "    .colab-df-buttons div {\n",
              "      margin-bottom: 4px;\n",
              "    }\n",
              "\n",
              "    [theme=dark] .colab-df-convert {\n",
              "      background-color: #3B4455;\n",
              "      fill: #D2E3FC;\n",
              "    }\n",
              "\n",
              "    [theme=dark] .colab-df-convert:hover {\n",
              "      background-color: #434B5C;\n",
              "      box-shadow: 0px 1px 3px 1px rgba(0, 0, 0, 0.15);\n",
              "      filter: drop-shadow(0px 1px 2px rgba(0, 0, 0, 0.3));\n",
              "      fill: #FFFFFF;\n",
              "    }\n",
              "  </style>\n",
              "\n",
              "    <script>\n",
              "      const buttonEl =\n",
              "        document.querySelector('#df-e8985b10-36c4-4df8-84ab-9db0dd1f302c button.colab-df-convert');\n",
              "      buttonEl.style.display =\n",
              "        google.colab.kernel.accessAllowed ? 'block' : 'none';\n",
              "\n",
              "      async function convertToInteractive(key) {\n",
              "        const element = document.querySelector('#df-e8985b10-36c4-4df8-84ab-9db0dd1f302c');\n",
              "        const dataTable =\n",
              "          await google.colab.kernel.invokeFunction('convertToInteractive',\n",
              "                                                    [key], {});\n",
              "        if (!dataTable) return;\n",
              "\n",
              "        const docLinkHtml = 'Like what you see? Visit the ' +\n",
              "          '<a target=\"_blank\" href=https://colab.research.google.com/notebooks/data_table.ipynb>data table notebook</a>'\n",
              "          + ' to learn more about interactive tables.';\n",
              "        element.innerHTML = '';\n",
              "        dataTable['output_type'] = 'display_data';\n",
              "        await google.colab.output.renderOutput(dataTable, element);\n",
              "        const docLink = document.createElement('div');\n",
              "        docLink.innerHTML = docLinkHtml;\n",
              "        element.appendChild(docLink);\n",
              "      }\n",
              "    </script>\n",
              "  </div>\n",
              "\n",
              "\n",
              "    <div id=\"df-10ec1154-5806-4fb8-9d05-e5896704a818\">\n",
              "      <button class=\"colab-df-quickchart\" onclick=\"quickchart('df-10ec1154-5806-4fb8-9d05-e5896704a818')\"\n",
              "                title=\"Suggest charts\"\n",
              "                style=\"display:none;\">\n",
              "\n",
              "<svg xmlns=\"http://www.w3.org/2000/svg\" height=\"24px\"viewBox=\"0 0 24 24\"\n",
              "     width=\"24px\">\n",
              "    <g>\n",
              "        <path d=\"M19 3H5c-1.1 0-2 .9-2 2v14c0 1.1.9 2 2 2h14c1.1 0 2-.9 2-2V5c0-1.1-.9-2-2-2zM9 17H7v-7h2v7zm4 0h-2V7h2v10zm4 0h-2v-4h2v4z\"/>\n",
              "    </g>\n",
              "</svg>\n",
              "      </button>\n",
              "\n",
              "<style>\n",
              "  .colab-df-quickchart {\n",
              "      --bg-color: #E8F0FE;\n",
              "      --fill-color: #1967D2;\n",
              "      --hover-bg-color: #E2EBFA;\n",
              "      --hover-fill-color: #174EA6;\n",
              "      --disabled-fill-color: #AAA;\n",
              "      --disabled-bg-color: #DDD;\n",
              "  }\n",
              "\n",
              "  [theme=dark] .colab-df-quickchart {\n",
              "      --bg-color: #3B4455;\n",
              "      --fill-color: #D2E3FC;\n",
              "      --hover-bg-color: #434B5C;\n",
              "      --hover-fill-color: #FFFFFF;\n",
              "      --disabled-bg-color: #3B4455;\n",
              "      --disabled-fill-color: #666;\n",
              "  }\n",
              "\n",
              "  .colab-df-quickchart {\n",
              "    background-color: var(--bg-color);\n",
              "    border: none;\n",
              "    border-radius: 50%;\n",
              "    cursor: pointer;\n",
              "    display: none;\n",
              "    fill: var(--fill-color);\n",
              "    height: 32px;\n",
              "    padding: 0;\n",
              "    width: 32px;\n",
              "  }\n",
              "\n",
              "  .colab-df-quickchart:hover {\n",
              "    background-color: var(--hover-bg-color);\n",
              "    box-shadow: 0 1px 2px rgba(60, 64, 67, 0.3), 0 1px 3px 1px rgba(60, 64, 67, 0.15);\n",
              "    fill: var(--button-hover-fill-color);\n",
              "  }\n",
              "\n",
              "  .colab-df-quickchart-complete:disabled,\n",
              "  .colab-df-quickchart-complete:disabled:hover {\n",
              "    background-color: var(--disabled-bg-color);\n",
              "    fill: var(--disabled-fill-color);\n",
              "    box-shadow: none;\n",
              "  }\n",
              "\n",
              "  .colab-df-spinner {\n",
              "    border: 2px solid var(--fill-color);\n",
              "    border-color: transparent;\n",
              "    border-bottom-color: var(--fill-color);\n",
              "    animation:\n",
              "      spin 1s steps(1) infinite;\n",
              "  }\n",
              "\n",
              "  @keyframes spin {\n",
              "    0% {\n",
              "      border-color: transparent;\n",
              "      border-bottom-color: var(--fill-color);\n",
              "      border-left-color: var(--fill-color);\n",
              "    }\n",
              "    20% {\n",
              "      border-color: transparent;\n",
              "      border-left-color: var(--fill-color);\n",
              "      border-top-color: var(--fill-color);\n",
              "    }\n",
              "    30% {\n",
              "      border-color: transparent;\n",
              "      border-left-color: var(--fill-color);\n",
              "      border-top-color: var(--fill-color);\n",
              "      border-right-color: var(--fill-color);\n",
              "    }\n",
              "    40% {\n",
              "      border-color: transparent;\n",
              "      border-right-color: var(--fill-color);\n",
              "      border-top-color: var(--fill-color);\n",
              "    }\n",
              "    60% {\n",
              "      border-color: transparent;\n",
              "      border-right-color: var(--fill-color);\n",
              "    }\n",
              "    80% {\n",
              "      border-color: transparent;\n",
              "      border-right-color: var(--fill-color);\n",
              "      border-bottom-color: var(--fill-color);\n",
              "    }\n",
              "    90% {\n",
              "      border-color: transparent;\n",
              "      border-bottom-color: var(--fill-color);\n",
              "    }\n",
              "  }\n",
              "</style>\n",
              "\n",
              "      <script>\n",
              "        async function quickchart(key) {\n",
              "          const quickchartButtonEl =\n",
              "            document.querySelector('#' + key + ' button');\n",
              "          quickchartButtonEl.disabled = true;  // To prevent multiple clicks.\n",
              "          quickchartButtonEl.classList.add('colab-df-spinner');\n",
              "          try {\n",
              "            const charts = await google.colab.kernel.invokeFunction(\n",
              "                'suggestCharts', [key], {});\n",
              "          } catch (error) {\n",
              "            console.error('Error during call to suggestCharts:', error);\n",
              "          }\n",
              "          quickchartButtonEl.classList.remove('colab-df-spinner');\n",
              "          quickchartButtonEl.classList.add('colab-df-quickchart-complete');\n",
              "        }\n",
              "        (() => {\n",
              "          let quickchartButtonEl =\n",
              "            document.querySelector('#df-10ec1154-5806-4fb8-9d05-e5896704a818 button');\n",
              "          quickchartButtonEl.style.display =\n",
              "            google.colab.kernel.accessAllowed ? 'block' : 'none';\n",
              "        })();\n",
              "      </script>\n",
              "    </div>\n",
              "\n",
              "  <div id=\"id_b8b1d59b-0a33-4af9-9f5a-6d09ddfeeb32\">\n",
              "    <style>\n",
              "      .colab-df-generate {\n",
              "        background-color: #E8F0FE;\n",
              "        border: none;\n",
              "        border-radius: 50%;\n",
              "        cursor: pointer;\n",
              "        display: none;\n",
              "        fill: #1967D2;\n",
              "        height: 32px;\n",
              "        padding: 0 0 0 0;\n",
              "        width: 32px;\n",
              "      }\n",
              "\n",
              "      .colab-df-generate:hover {\n",
              "        background-color: #E2EBFA;\n",
              "        box-shadow: 0px 1px 2px rgba(60, 64, 67, 0.3), 0px 1px 3px 1px rgba(60, 64, 67, 0.15);\n",
              "        fill: #174EA6;\n",
              "      }\n",
              "\n",
              "      [theme=dark] .colab-df-generate {\n",
              "        background-color: #3B4455;\n",
              "        fill: #D2E3FC;\n",
              "      }\n",
              "\n",
              "      [theme=dark] .colab-df-generate:hover {\n",
              "        background-color: #434B5C;\n",
              "        box-shadow: 0px 1px 3px 1px rgba(0, 0, 0, 0.15);\n",
              "        filter: drop-shadow(0px 1px 2px rgba(0, 0, 0, 0.3));\n",
              "        fill: #FFFFFF;\n",
              "      }\n",
              "    </style>\n",
              "    <button class=\"colab-df-generate\" onclick=\"generateWithVariable('df_fundamental')\"\n",
              "            title=\"Generate code using this dataframe.\"\n",
              "            style=\"display:none;\">\n",
              "\n",
              "  <svg xmlns=\"http://www.w3.org/2000/svg\" height=\"24px\"viewBox=\"0 0 24 24\"\n",
              "       width=\"24px\">\n",
              "    <path d=\"M7,19H8.4L18.45,9,17,7.55,7,17.6ZM5,21V16.75L18.45,3.32a2,2,0,0,1,2.83,0l1.4,1.43a1.91,1.91,0,0,1,.58,1.4,1.91,1.91,0,0,1-.58,1.4L9.25,21ZM18.45,9,17,7.55Zm-12,3A5.31,5.31,0,0,0,4.9,8.1,5.31,5.31,0,0,0,1,6.5,5.31,5.31,0,0,0,4.9,4.9,5.31,5.31,0,0,0,6.5,1,5.31,5.31,0,0,0,8.1,4.9,5.31,5.31,0,0,0,12,6.5,5.46,5.46,0,0,0,6.5,12Z\"/>\n",
              "  </svg>\n",
              "    </button>\n",
              "    <script>\n",
              "      (() => {\n",
              "      const buttonEl =\n",
              "        document.querySelector('#id_b8b1d59b-0a33-4af9-9f5a-6d09ddfeeb32 button.colab-df-generate');\n",
              "      buttonEl.style.display =\n",
              "        google.colab.kernel.accessAllowed ? 'block' : 'none';\n",
              "\n",
              "      buttonEl.onclick = () => {\n",
              "        google.colab.notebook.generateWithVariable('df_fundamental');\n",
              "      }\n",
              "      })();\n",
              "    </script>\n",
              "  </div>\n",
              "\n",
              "    </div>\n",
              "  </div>\n"
            ],
            "application/vnd.google.colaboratory.intrinsic+json": {
              "type": "dataframe",
              "variable_name": "df_fundamental",
              "summary": "{\n  \"name\": \"df_fundamental\",\n  \"rows\": 5,\n  \"fields\": [\n    {\n      \"column\": \"Kode\",\n      \"properties\": {\n        \"dtype\": \"number\",\n        \"std\": 158,\n        \"min\": 100,\n        \"max\": 500,\n        \"num_unique_values\": 5,\n        \"samples\": [\n          200,\n          500,\n          300\n        ],\n        \"semantic_type\": \"\",\n        \"description\": \"\"\n      }\n    },\n    {\n      \"column\": \"Nama\",\n      \"properties\": {\n        \"dtype\": \"string\",\n        \"num_unique_values\": 5,\n        \"samples\": [\n          \"Budi\",\n          \"Edi\",\n          \"Cinta\"\n        ],\n        \"semantic_type\": \"\",\n        \"description\": \"\"\n      }\n    },\n    {\n      \"column\": \"Usia\",\n      \"properties\": {\n        \"dtype\": \"date\",\n        \"min\": 20,\n        \"max\": 50,\n        \"num_unique_values\": 5,\n        \"samples\": [\n          20,\n          50,\n          30\n        ],\n        \"semantic_type\": \"\",\n        \"description\": \"\"\n      }\n    },\n    {\n      \"column\": \"Gaji\",\n      \"properties\": {\n        \"dtype\": \"date\",\n        \"min\": 1000000,\n        \"max\": 5000000,\n        \"num_unique_values\": 5,\n        \"samples\": [\n          2000000,\n          5000000,\n          3000000\n        ],\n        \"semantic_type\": \"\",\n        \"description\": \"\"\n      }\n    }\n  ]\n}"
            }
          },
          "metadata": {},
          "execution_count": 157
        }
      ]
    },
    {
      "cell_type": "code",
      "source": [
        "# 2. Mengkonversi beberapa series menjadi dataframe\n",
        "# Buat list berisi kode_tuple, nama_teman, umur_tuple, dan gaji_tuple yang telah diubah menjadi object series\n",
        "list_of_series = [pd.Series(kode_tuple, name='Kode'),\n",
        "                  pd.Series(nama_teman, name='Nama'),\n",
        "                  pd.Series(umur_tuple, name='Usia'),\n",
        "                  pd.Series(gaji_tuple, name='Gaji')]\n",
        "# Proses konversi list_of_series menjadi dataframe\n",
        "df_series = pd.DataFrame(list_of_series).T.set_index('Kode')\n",
        "df_series"
      ],
      "metadata": {
        "id": "rsmEEuaFu7ZY",
        "colab": {
          "base_uri": "https://localhost:8080/",
          "height": 237
        },
        "outputId": "73fc3181-ed59-4759-9727-37ed2deaf627"
      },
      "execution_count": null,
      "outputs": [
        {
          "output_type": "execute_result",
          "data": {
            "text/plain": [
              "       Nama Usia     Gaji\n",
              "Kode                     \n",
              "100    Amir   25  1000000\n",
              "200    Budi   20  2000000\n",
              "300   Cinta   30  3000000\n",
              "400   Dimas   40  4000000\n",
              "500     Edi   50  5000000"
            ],
            "text/html": [
              "\n",
              "  <div id=\"df-4d4e2533-d82f-43ba-96db-c1f731579af5\" class=\"colab-df-container\">\n",
              "    <div>\n",
              "<style scoped>\n",
              "    .dataframe tbody tr th:only-of-type {\n",
              "        vertical-align: middle;\n",
              "    }\n",
              "\n",
              "    .dataframe tbody tr th {\n",
              "        vertical-align: top;\n",
              "    }\n",
              "\n",
              "    .dataframe thead th {\n",
              "        text-align: right;\n",
              "    }\n",
              "</style>\n",
              "<table border=\"1\" class=\"dataframe\">\n",
              "  <thead>\n",
              "    <tr style=\"text-align: right;\">\n",
              "      <th></th>\n",
              "      <th>Nama</th>\n",
              "      <th>Usia</th>\n",
              "      <th>Gaji</th>\n",
              "    </tr>\n",
              "    <tr>\n",
              "      <th>Kode</th>\n",
              "      <th></th>\n",
              "      <th></th>\n",
              "      <th></th>\n",
              "    </tr>\n",
              "  </thead>\n",
              "  <tbody>\n",
              "    <tr>\n",
              "      <th>100</th>\n",
              "      <td>Amir</td>\n",
              "      <td>25</td>\n",
              "      <td>1000000</td>\n",
              "    </tr>\n",
              "    <tr>\n",
              "      <th>200</th>\n",
              "      <td>Budi</td>\n",
              "      <td>20</td>\n",
              "      <td>2000000</td>\n",
              "    </tr>\n",
              "    <tr>\n",
              "      <th>300</th>\n",
              "      <td>Cinta</td>\n",
              "      <td>30</td>\n",
              "      <td>3000000</td>\n",
              "    </tr>\n",
              "    <tr>\n",
              "      <th>400</th>\n",
              "      <td>Dimas</td>\n",
              "      <td>40</td>\n",
              "      <td>4000000</td>\n",
              "    </tr>\n",
              "    <tr>\n",
              "      <th>500</th>\n",
              "      <td>Edi</td>\n",
              "      <td>50</td>\n",
              "      <td>5000000</td>\n",
              "    </tr>\n",
              "  </tbody>\n",
              "</table>\n",
              "</div>\n",
              "    <div class=\"colab-df-buttons\">\n",
              "\n",
              "  <div class=\"colab-df-container\">\n",
              "    <button class=\"colab-df-convert\" onclick=\"convertToInteractive('df-4d4e2533-d82f-43ba-96db-c1f731579af5')\"\n",
              "            title=\"Convert this dataframe to an interactive table.\"\n",
              "            style=\"display:none;\">\n",
              "\n",
              "  <svg xmlns=\"http://www.w3.org/2000/svg\" height=\"24px\" viewBox=\"0 -960 960 960\">\n",
              "    <path d=\"M120-120v-720h720v720H120Zm60-500h600v-160H180v160Zm220 220h160v-160H400v160Zm0 220h160v-160H400v160ZM180-400h160v-160H180v160Zm440 0h160v-160H620v160ZM180-180h160v-160H180v160Zm440 0h160v-160H620v160Z\"/>\n",
              "  </svg>\n",
              "    </button>\n",
              "\n",
              "  <style>\n",
              "    .colab-df-container {\n",
              "      display:flex;\n",
              "      gap: 12px;\n",
              "    }\n",
              "\n",
              "    .colab-df-convert {\n",
              "      background-color: #E8F0FE;\n",
              "      border: none;\n",
              "      border-radius: 50%;\n",
              "      cursor: pointer;\n",
              "      display: none;\n",
              "      fill: #1967D2;\n",
              "      height: 32px;\n",
              "      padding: 0 0 0 0;\n",
              "      width: 32px;\n",
              "    }\n",
              "\n",
              "    .colab-df-convert:hover {\n",
              "      background-color: #E2EBFA;\n",
              "      box-shadow: 0px 1px 2px rgba(60, 64, 67, 0.3), 0px 1px 3px 1px rgba(60, 64, 67, 0.15);\n",
              "      fill: #174EA6;\n",
              "    }\n",
              "\n",
              "    .colab-df-buttons div {\n",
              "      margin-bottom: 4px;\n",
              "    }\n",
              "\n",
              "    [theme=dark] .colab-df-convert {\n",
              "      background-color: #3B4455;\n",
              "      fill: #D2E3FC;\n",
              "    }\n",
              "\n",
              "    [theme=dark] .colab-df-convert:hover {\n",
              "      background-color: #434B5C;\n",
              "      box-shadow: 0px 1px 3px 1px rgba(0, 0, 0, 0.15);\n",
              "      filter: drop-shadow(0px 1px 2px rgba(0, 0, 0, 0.3));\n",
              "      fill: #FFFFFF;\n",
              "    }\n",
              "  </style>\n",
              "\n",
              "    <script>\n",
              "      const buttonEl =\n",
              "        document.querySelector('#df-4d4e2533-d82f-43ba-96db-c1f731579af5 button.colab-df-convert');\n",
              "      buttonEl.style.display =\n",
              "        google.colab.kernel.accessAllowed ? 'block' : 'none';\n",
              "\n",
              "      async function convertToInteractive(key) {\n",
              "        const element = document.querySelector('#df-4d4e2533-d82f-43ba-96db-c1f731579af5');\n",
              "        const dataTable =\n",
              "          await google.colab.kernel.invokeFunction('convertToInteractive',\n",
              "                                                    [key], {});\n",
              "        if (!dataTable) return;\n",
              "\n",
              "        const docLinkHtml = 'Like what you see? Visit the ' +\n",
              "          '<a target=\"_blank\" href=https://colab.research.google.com/notebooks/data_table.ipynb>data table notebook</a>'\n",
              "          + ' to learn more about interactive tables.';\n",
              "        element.innerHTML = '';\n",
              "        dataTable['output_type'] = 'display_data';\n",
              "        await google.colab.output.renderOutput(dataTable, element);\n",
              "        const docLink = document.createElement('div');\n",
              "        docLink.innerHTML = docLinkHtml;\n",
              "        element.appendChild(docLink);\n",
              "      }\n",
              "    </script>\n",
              "  </div>\n",
              "\n",
              "\n",
              "    <div id=\"df-01a97cc3-b795-497f-a6d3-d7e6558dd5f8\">\n",
              "      <button class=\"colab-df-quickchart\" onclick=\"quickchart('df-01a97cc3-b795-497f-a6d3-d7e6558dd5f8')\"\n",
              "                title=\"Suggest charts\"\n",
              "                style=\"display:none;\">\n",
              "\n",
              "<svg xmlns=\"http://www.w3.org/2000/svg\" height=\"24px\"viewBox=\"0 0 24 24\"\n",
              "     width=\"24px\">\n",
              "    <g>\n",
              "        <path d=\"M19 3H5c-1.1 0-2 .9-2 2v14c0 1.1.9 2 2 2h14c1.1 0 2-.9 2-2V5c0-1.1-.9-2-2-2zM9 17H7v-7h2v7zm4 0h-2V7h2v10zm4 0h-2v-4h2v4z\"/>\n",
              "    </g>\n",
              "</svg>\n",
              "      </button>\n",
              "\n",
              "<style>\n",
              "  .colab-df-quickchart {\n",
              "      --bg-color: #E8F0FE;\n",
              "      --fill-color: #1967D2;\n",
              "      --hover-bg-color: #E2EBFA;\n",
              "      --hover-fill-color: #174EA6;\n",
              "      --disabled-fill-color: #AAA;\n",
              "      --disabled-bg-color: #DDD;\n",
              "  }\n",
              "\n",
              "  [theme=dark] .colab-df-quickchart {\n",
              "      --bg-color: #3B4455;\n",
              "      --fill-color: #D2E3FC;\n",
              "      --hover-bg-color: #434B5C;\n",
              "      --hover-fill-color: #FFFFFF;\n",
              "      --disabled-bg-color: #3B4455;\n",
              "      --disabled-fill-color: #666;\n",
              "  }\n",
              "\n",
              "  .colab-df-quickchart {\n",
              "    background-color: var(--bg-color);\n",
              "    border: none;\n",
              "    border-radius: 50%;\n",
              "    cursor: pointer;\n",
              "    display: none;\n",
              "    fill: var(--fill-color);\n",
              "    height: 32px;\n",
              "    padding: 0;\n",
              "    width: 32px;\n",
              "  }\n",
              "\n",
              "  .colab-df-quickchart:hover {\n",
              "    background-color: var(--hover-bg-color);\n",
              "    box-shadow: 0 1px 2px rgba(60, 64, 67, 0.3), 0 1px 3px 1px rgba(60, 64, 67, 0.15);\n",
              "    fill: var(--button-hover-fill-color);\n",
              "  }\n",
              "\n",
              "  .colab-df-quickchart-complete:disabled,\n",
              "  .colab-df-quickchart-complete:disabled:hover {\n",
              "    background-color: var(--disabled-bg-color);\n",
              "    fill: var(--disabled-fill-color);\n",
              "    box-shadow: none;\n",
              "  }\n",
              "\n",
              "  .colab-df-spinner {\n",
              "    border: 2px solid var(--fill-color);\n",
              "    border-color: transparent;\n",
              "    border-bottom-color: var(--fill-color);\n",
              "    animation:\n",
              "      spin 1s steps(1) infinite;\n",
              "  }\n",
              "\n",
              "  @keyframes spin {\n",
              "    0% {\n",
              "      border-color: transparent;\n",
              "      border-bottom-color: var(--fill-color);\n",
              "      border-left-color: var(--fill-color);\n",
              "    }\n",
              "    20% {\n",
              "      border-color: transparent;\n",
              "      border-left-color: var(--fill-color);\n",
              "      border-top-color: var(--fill-color);\n",
              "    }\n",
              "    30% {\n",
              "      border-color: transparent;\n",
              "      border-left-color: var(--fill-color);\n",
              "      border-top-color: var(--fill-color);\n",
              "      border-right-color: var(--fill-color);\n",
              "    }\n",
              "    40% {\n",
              "      border-color: transparent;\n",
              "      border-right-color: var(--fill-color);\n",
              "      border-top-color: var(--fill-color);\n",
              "    }\n",
              "    60% {\n",
              "      border-color: transparent;\n",
              "      border-right-color: var(--fill-color);\n",
              "    }\n",
              "    80% {\n",
              "      border-color: transparent;\n",
              "      border-right-color: var(--fill-color);\n",
              "      border-bottom-color: var(--fill-color);\n",
              "    }\n",
              "    90% {\n",
              "      border-color: transparent;\n",
              "      border-bottom-color: var(--fill-color);\n",
              "    }\n",
              "  }\n",
              "</style>\n",
              "\n",
              "      <script>\n",
              "        async function quickchart(key) {\n",
              "          const quickchartButtonEl =\n",
              "            document.querySelector('#' + key + ' button');\n",
              "          quickchartButtonEl.disabled = true;  // To prevent multiple clicks.\n",
              "          quickchartButtonEl.classList.add('colab-df-spinner');\n",
              "          try {\n",
              "            const charts = await google.colab.kernel.invokeFunction(\n",
              "                'suggestCharts', [key], {});\n",
              "          } catch (error) {\n",
              "            console.error('Error during call to suggestCharts:', error);\n",
              "          }\n",
              "          quickchartButtonEl.classList.remove('colab-df-spinner');\n",
              "          quickchartButtonEl.classList.add('colab-df-quickchart-complete');\n",
              "        }\n",
              "        (() => {\n",
              "          let quickchartButtonEl =\n",
              "            document.querySelector('#df-01a97cc3-b795-497f-a6d3-d7e6558dd5f8 button');\n",
              "          quickchartButtonEl.style.display =\n",
              "            google.colab.kernel.accessAllowed ? 'block' : 'none';\n",
              "        })();\n",
              "      </script>\n",
              "    </div>\n",
              "\n",
              "  <div id=\"id_0181e73f-d2ae-420f-bf1c-9807de65dace\">\n",
              "    <style>\n",
              "      .colab-df-generate {\n",
              "        background-color: #E8F0FE;\n",
              "        border: none;\n",
              "        border-radius: 50%;\n",
              "        cursor: pointer;\n",
              "        display: none;\n",
              "        fill: #1967D2;\n",
              "        height: 32px;\n",
              "        padding: 0 0 0 0;\n",
              "        width: 32px;\n",
              "      }\n",
              "\n",
              "      .colab-df-generate:hover {\n",
              "        background-color: #E2EBFA;\n",
              "        box-shadow: 0px 1px 2px rgba(60, 64, 67, 0.3), 0px 1px 3px 1px rgba(60, 64, 67, 0.15);\n",
              "        fill: #174EA6;\n",
              "      }\n",
              "\n",
              "      [theme=dark] .colab-df-generate {\n",
              "        background-color: #3B4455;\n",
              "        fill: #D2E3FC;\n",
              "      }\n",
              "\n",
              "      [theme=dark] .colab-df-generate:hover {\n",
              "        background-color: #434B5C;\n",
              "        box-shadow: 0px 1px 3px 1px rgba(0, 0, 0, 0.15);\n",
              "        filter: drop-shadow(0px 1px 2px rgba(0, 0, 0, 0.3));\n",
              "        fill: #FFFFFF;\n",
              "      }\n",
              "    </style>\n",
              "    <button class=\"colab-df-generate\" onclick=\"generateWithVariable('df_series')\"\n",
              "            title=\"Generate code using this dataframe.\"\n",
              "            style=\"display:none;\">\n",
              "\n",
              "  <svg xmlns=\"http://www.w3.org/2000/svg\" height=\"24px\"viewBox=\"0 0 24 24\"\n",
              "       width=\"24px\">\n",
              "    <path d=\"M7,19H8.4L18.45,9,17,7.55,7,17.6ZM5,21V16.75L18.45,3.32a2,2,0,0,1,2.83,0l1.4,1.43a1.91,1.91,0,0,1,.58,1.4,1.91,1.91,0,0,1-.58,1.4L9.25,21ZM18.45,9,17,7.55Zm-12,3A5.31,5.31,0,0,0,4.9,8.1,5.31,5.31,0,0,0,1,6.5,5.31,5.31,0,0,0,4.9,4.9,5.31,5.31,0,0,0,6.5,1,5.31,5.31,0,0,0,8.1,4.9,5.31,5.31,0,0,0,12,6.5,5.46,5.46,0,0,0,6.5,12Z\"/>\n",
              "  </svg>\n",
              "    </button>\n",
              "    <script>\n",
              "      (() => {\n",
              "      const buttonEl =\n",
              "        document.querySelector('#id_0181e73f-d2ae-420f-bf1c-9807de65dace button.colab-df-generate');\n",
              "      buttonEl.style.display =\n",
              "        google.colab.kernel.accessAllowed ? 'block' : 'none';\n",
              "\n",
              "      buttonEl.onclick = () => {\n",
              "        google.colab.notebook.generateWithVariable('df_series');\n",
              "      }\n",
              "      })();\n",
              "    </script>\n",
              "  </div>\n",
              "\n",
              "    </div>\n",
              "  </div>\n"
            ],
            "application/vnd.google.colaboratory.intrinsic+json": {
              "type": "dataframe",
              "variable_name": "df_series",
              "summary": "{\n  \"name\": \"df_series\",\n  \"rows\": 5,\n  \"fields\": [\n    {\n      \"column\": \"Kode\",\n      \"properties\": {\n        \"dtype\": \"number\",\n        \"std\": 158,\n        \"min\": 100,\n        \"max\": 500,\n        \"num_unique_values\": 5,\n        \"samples\": [\n          200,\n          500,\n          300\n        ],\n        \"semantic_type\": \"\",\n        \"description\": \"\"\n      }\n    },\n    {\n      \"column\": \"Nama\",\n      \"properties\": {\n        \"dtype\": \"string\",\n        \"num_unique_values\": 5,\n        \"samples\": [\n          \"Budi\",\n          \"Edi\",\n          \"Cinta\"\n        ],\n        \"semantic_type\": \"\",\n        \"description\": \"\"\n      }\n    },\n    {\n      \"column\": \"Usia\",\n      \"properties\": {\n        \"dtype\": \"date\",\n        \"min\": 20,\n        \"max\": 50,\n        \"num_unique_values\": 5,\n        \"samples\": [\n          20,\n          50,\n          30\n        ],\n        \"semantic_type\": \"\",\n        \"description\": \"\"\n      }\n    },\n    {\n      \"column\": \"Gaji\",\n      \"properties\": {\n        \"dtype\": \"date\",\n        \"min\": 1000000,\n        \"max\": 5000000,\n        \"num_unique_values\": 5,\n        \"samples\": [\n          2000000,\n          5000000,\n          3000000\n        ],\n        \"semantic_type\": \"\",\n        \"description\": \"\"\n      }\n    }\n  ]\n}"
            }
          },
          "metadata": {},
          "execution_count": 158
        }
      ]
    },
    {
      "cell_type": "code",
      "source": [
        "# 3. Menkonversi dictionary menjadi dataframe\n",
        "# Buat dictionary kengan keys=['Kode', 'Nama', 'Umur', 'Gaji'] dan values=[kode_tuple, nama_teman, umur_tuple, gaji_tuple]\n",
        "data_teman = {\n",
        "    'Kode':kode_tuple,\n",
        "    'Nama':nama_teman,\n",
        "    'Umur':umur_tuple,\n",
        "    'Gaji':gaji_tuple\n",
        "}\n",
        "# Proses konversi dictionary data_teman menjadi dataframe\n",
        "df_dictionary = pd.DataFrame(data_teman).set_index('Kode')\n",
        "df_dictionary"
      ],
      "metadata": {
        "id": "SV73Drfn7G5r",
        "colab": {
          "base_uri": "https://localhost:8080/",
          "height": 237
        },
        "outputId": "80a27b93-69a4-4794-c917-742e07ea51c8"
      },
      "execution_count": null,
      "outputs": [
        {
          "output_type": "execute_result",
          "data": {
            "text/plain": [
              "       Nama  Umur     Gaji\n",
              "Kode                      \n",
              "100    Amir    25  1000000\n",
              "200    Budi    20  2000000\n",
              "300   Cinta    30  3000000\n",
              "400   Dimas    40  4000000\n",
              "500     Edi    50  5000000"
            ],
            "text/html": [
              "\n",
              "  <div id=\"df-48ff36d3-5d24-4379-946b-b0ff995e5b4f\" class=\"colab-df-container\">\n",
              "    <div>\n",
              "<style scoped>\n",
              "    .dataframe tbody tr th:only-of-type {\n",
              "        vertical-align: middle;\n",
              "    }\n",
              "\n",
              "    .dataframe tbody tr th {\n",
              "        vertical-align: top;\n",
              "    }\n",
              "\n",
              "    .dataframe thead th {\n",
              "        text-align: right;\n",
              "    }\n",
              "</style>\n",
              "<table border=\"1\" class=\"dataframe\">\n",
              "  <thead>\n",
              "    <tr style=\"text-align: right;\">\n",
              "      <th></th>\n",
              "      <th>Nama</th>\n",
              "      <th>Umur</th>\n",
              "      <th>Gaji</th>\n",
              "    </tr>\n",
              "    <tr>\n",
              "      <th>Kode</th>\n",
              "      <th></th>\n",
              "      <th></th>\n",
              "      <th></th>\n",
              "    </tr>\n",
              "  </thead>\n",
              "  <tbody>\n",
              "    <tr>\n",
              "      <th>100</th>\n",
              "      <td>Amir</td>\n",
              "      <td>25</td>\n",
              "      <td>1000000</td>\n",
              "    </tr>\n",
              "    <tr>\n",
              "      <th>200</th>\n",
              "      <td>Budi</td>\n",
              "      <td>20</td>\n",
              "      <td>2000000</td>\n",
              "    </tr>\n",
              "    <tr>\n",
              "      <th>300</th>\n",
              "      <td>Cinta</td>\n",
              "      <td>30</td>\n",
              "      <td>3000000</td>\n",
              "    </tr>\n",
              "    <tr>\n",
              "      <th>400</th>\n",
              "      <td>Dimas</td>\n",
              "      <td>40</td>\n",
              "      <td>4000000</td>\n",
              "    </tr>\n",
              "    <tr>\n",
              "      <th>500</th>\n",
              "      <td>Edi</td>\n",
              "      <td>50</td>\n",
              "      <td>5000000</td>\n",
              "    </tr>\n",
              "  </tbody>\n",
              "</table>\n",
              "</div>\n",
              "    <div class=\"colab-df-buttons\">\n",
              "\n",
              "  <div class=\"colab-df-container\">\n",
              "    <button class=\"colab-df-convert\" onclick=\"convertToInteractive('df-48ff36d3-5d24-4379-946b-b0ff995e5b4f')\"\n",
              "            title=\"Convert this dataframe to an interactive table.\"\n",
              "            style=\"display:none;\">\n",
              "\n",
              "  <svg xmlns=\"http://www.w3.org/2000/svg\" height=\"24px\" viewBox=\"0 -960 960 960\">\n",
              "    <path d=\"M120-120v-720h720v720H120Zm60-500h600v-160H180v160Zm220 220h160v-160H400v160Zm0 220h160v-160H400v160ZM180-400h160v-160H180v160Zm440 0h160v-160H620v160ZM180-180h160v-160H180v160Zm440 0h160v-160H620v160Z\"/>\n",
              "  </svg>\n",
              "    </button>\n",
              "\n",
              "  <style>\n",
              "    .colab-df-container {\n",
              "      display:flex;\n",
              "      gap: 12px;\n",
              "    }\n",
              "\n",
              "    .colab-df-convert {\n",
              "      background-color: #E8F0FE;\n",
              "      border: none;\n",
              "      border-radius: 50%;\n",
              "      cursor: pointer;\n",
              "      display: none;\n",
              "      fill: #1967D2;\n",
              "      height: 32px;\n",
              "      padding: 0 0 0 0;\n",
              "      width: 32px;\n",
              "    }\n",
              "\n",
              "    .colab-df-convert:hover {\n",
              "      background-color: #E2EBFA;\n",
              "      box-shadow: 0px 1px 2px rgba(60, 64, 67, 0.3), 0px 1px 3px 1px rgba(60, 64, 67, 0.15);\n",
              "      fill: #174EA6;\n",
              "    }\n",
              "\n",
              "    .colab-df-buttons div {\n",
              "      margin-bottom: 4px;\n",
              "    }\n",
              "\n",
              "    [theme=dark] .colab-df-convert {\n",
              "      background-color: #3B4455;\n",
              "      fill: #D2E3FC;\n",
              "    }\n",
              "\n",
              "    [theme=dark] .colab-df-convert:hover {\n",
              "      background-color: #434B5C;\n",
              "      box-shadow: 0px 1px 3px 1px rgba(0, 0, 0, 0.15);\n",
              "      filter: drop-shadow(0px 1px 2px rgba(0, 0, 0, 0.3));\n",
              "      fill: #FFFFFF;\n",
              "    }\n",
              "  </style>\n",
              "\n",
              "    <script>\n",
              "      const buttonEl =\n",
              "        document.querySelector('#df-48ff36d3-5d24-4379-946b-b0ff995e5b4f button.colab-df-convert');\n",
              "      buttonEl.style.display =\n",
              "        google.colab.kernel.accessAllowed ? 'block' : 'none';\n",
              "\n",
              "      async function convertToInteractive(key) {\n",
              "        const element = document.querySelector('#df-48ff36d3-5d24-4379-946b-b0ff995e5b4f');\n",
              "        const dataTable =\n",
              "          await google.colab.kernel.invokeFunction('convertToInteractive',\n",
              "                                                    [key], {});\n",
              "        if (!dataTable) return;\n",
              "\n",
              "        const docLinkHtml = 'Like what you see? Visit the ' +\n",
              "          '<a target=\"_blank\" href=https://colab.research.google.com/notebooks/data_table.ipynb>data table notebook</a>'\n",
              "          + ' to learn more about interactive tables.';\n",
              "        element.innerHTML = '';\n",
              "        dataTable['output_type'] = 'display_data';\n",
              "        await google.colab.output.renderOutput(dataTable, element);\n",
              "        const docLink = document.createElement('div');\n",
              "        docLink.innerHTML = docLinkHtml;\n",
              "        element.appendChild(docLink);\n",
              "      }\n",
              "    </script>\n",
              "  </div>\n",
              "\n",
              "\n",
              "    <div id=\"df-aa7fced7-84f9-4be2-b879-c4e369177078\">\n",
              "      <button class=\"colab-df-quickchart\" onclick=\"quickchart('df-aa7fced7-84f9-4be2-b879-c4e369177078')\"\n",
              "                title=\"Suggest charts\"\n",
              "                style=\"display:none;\">\n",
              "\n",
              "<svg xmlns=\"http://www.w3.org/2000/svg\" height=\"24px\"viewBox=\"0 0 24 24\"\n",
              "     width=\"24px\">\n",
              "    <g>\n",
              "        <path d=\"M19 3H5c-1.1 0-2 .9-2 2v14c0 1.1.9 2 2 2h14c1.1 0 2-.9 2-2V5c0-1.1-.9-2-2-2zM9 17H7v-7h2v7zm4 0h-2V7h2v10zm4 0h-2v-4h2v4z\"/>\n",
              "    </g>\n",
              "</svg>\n",
              "      </button>\n",
              "\n",
              "<style>\n",
              "  .colab-df-quickchart {\n",
              "      --bg-color: #E8F0FE;\n",
              "      --fill-color: #1967D2;\n",
              "      --hover-bg-color: #E2EBFA;\n",
              "      --hover-fill-color: #174EA6;\n",
              "      --disabled-fill-color: #AAA;\n",
              "      --disabled-bg-color: #DDD;\n",
              "  }\n",
              "\n",
              "  [theme=dark] .colab-df-quickchart {\n",
              "      --bg-color: #3B4455;\n",
              "      --fill-color: #D2E3FC;\n",
              "      --hover-bg-color: #434B5C;\n",
              "      --hover-fill-color: #FFFFFF;\n",
              "      --disabled-bg-color: #3B4455;\n",
              "      --disabled-fill-color: #666;\n",
              "  }\n",
              "\n",
              "  .colab-df-quickchart {\n",
              "    background-color: var(--bg-color);\n",
              "    border: none;\n",
              "    border-radius: 50%;\n",
              "    cursor: pointer;\n",
              "    display: none;\n",
              "    fill: var(--fill-color);\n",
              "    height: 32px;\n",
              "    padding: 0;\n",
              "    width: 32px;\n",
              "  }\n",
              "\n",
              "  .colab-df-quickchart:hover {\n",
              "    background-color: var(--hover-bg-color);\n",
              "    box-shadow: 0 1px 2px rgba(60, 64, 67, 0.3), 0 1px 3px 1px rgba(60, 64, 67, 0.15);\n",
              "    fill: var(--button-hover-fill-color);\n",
              "  }\n",
              "\n",
              "  .colab-df-quickchart-complete:disabled,\n",
              "  .colab-df-quickchart-complete:disabled:hover {\n",
              "    background-color: var(--disabled-bg-color);\n",
              "    fill: var(--disabled-fill-color);\n",
              "    box-shadow: none;\n",
              "  }\n",
              "\n",
              "  .colab-df-spinner {\n",
              "    border: 2px solid var(--fill-color);\n",
              "    border-color: transparent;\n",
              "    border-bottom-color: var(--fill-color);\n",
              "    animation:\n",
              "      spin 1s steps(1) infinite;\n",
              "  }\n",
              "\n",
              "  @keyframes spin {\n",
              "    0% {\n",
              "      border-color: transparent;\n",
              "      border-bottom-color: var(--fill-color);\n",
              "      border-left-color: var(--fill-color);\n",
              "    }\n",
              "    20% {\n",
              "      border-color: transparent;\n",
              "      border-left-color: var(--fill-color);\n",
              "      border-top-color: var(--fill-color);\n",
              "    }\n",
              "    30% {\n",
              "      border-color: transparent;\n",
              "      border-left-color: var(--fill-color);\n",
              "      border-top-color: var(--fill-color);\n",
              "      border-right-color: var(--fill-color);\n",
              "    }\n",
              "    40% {\n",
              "      border-color: transparent;\n",
              "      border-right-color: var(--fill-color);\n",
              "      border-top-color: var(--fill-color);\n",
              "    }\n",
              "    60% {\n",
              "      border-color: transparent;\n",
              "      border-right-color: var(--fill-color);\n",
              "    }\n",
              "    80% {\n",
              "      border-color: transparent;\n",
              "      border-right-color: var(--fill-color);\n",
              "      border-bottom-color: var(--fill-color);\n",
              "    }\n",
              "    90% {\n",
              "      border-color: transparent;\n",
              "      border-bottom-color: var(--fill-color);\n",
              "    }\n",
              "  }\n",
              "</style>\n",
              "\n",
              "      <script>\n",
              "        async function quickchart(key) {\n",
              "          const quickchartButtonEl =\n",
              "            document.querySelector('#' + key + ' button');\n",
              "          quickchartButtonEl.disabled = true;  // To prevent multiple clicks.\n",
              "          quickchartButtonEl.classList.add('colab-df-spinner');\n",
              "          try {\n",
              "            const charts = await google.colab.kernel.invokeFunction(\n",
              "                'suggestCharts', [key], {});\n",
              "          } catch (error) {\n",
              "            console.error('Error during call to suggestCharts:', error);\n",
              "          }\n",
              "          quickchartButtonEl.classList.remove('colab-df-spinner');\n",
              "          quickchartButtonEl.classList.add('colab-df-quickchart-complete');\n",
              "        }\n",
              "        (() => {\n",
              "          let quickchartButtonEl =\n",
              "            document.querySelector('#df-aa7fced7-84f9-4be2-b879-c4e369177078 button');\n",
              "          quickchartButtonEl.style.display =\n",
              "            google.colab.kernel.accessAllowed ? 'block' : 'none';\n",
              "        })();\n",
              "      </script>\n",
              "    </div>\n",
              "\n",
              "  <div id=\"id_6f2dad68-90de-41e7-8cd8-c909afd4aff2\">\n",
              "    <style>\n",
              "      .colab-df-generate {\n",
              "        background-color: #E8F0FE;\n",
              "        border: none;\n",
              "        border-radius: 50%;\n",
              "        cursor: pointer;\n",
              "        display: none;\n",
              "        fill: #1967D2;\n",
              "        height: 32px;\n",
              "        padding: 0 0 0 0;\n",
              "        width: 32px;\n",
              "      }\n",
              "\n",
              "      .colab-df-generate:hover {\n",
              "        background-color: #E2EBFA;\n",
              "        box-shadow: 0px 1px 2px rgba(60, 64, 67, 0.3), 0px 1px 3px 1px rgba(60, 64, 67, 0.15);\n",
              "        fill: #174EA6;\n",
              "      }\n",
              "\n",
              "      [theme=dark] .colab-df-generate {\n",
              "        background-color: #3B4455;\n",
              "        fill: #D2E3FC;\n",
              "      }\n",
              "\n",
              "      [theme=dark] .colab-df-generate:hover {\n",
              "        background-color: #434B5C;\n",
              "        box-shadow: 0px 1px 3px 1px rgba(0, 0, 0, 0.15);\n",
              "        filter: drop-shadow(0px 1px 2px rgba(0, 0, 0, 0.3));\n",
              "        fill: #FFFFFF;\n",
              "      }\n",
              "    </style>\n",
              "    <button class=\"colab-df-generate\" onclick=\"generateWithVariable('df_dictionary')\"\n",
              "            title=\"Generate code using this dataframe.\"\n",
              "            style=\"display:none;\">\n",
              "\n",
              "  <svg xmlns=\"http://www.w3.org/2000/svg\" height=\"24px\"viewBox=\"0 0 24 24\"\n",
              "       width=\"24px\">\n",
              "    <path d=\"M7,19H8.4L18.45,9,17,7.55,7,17.6ZM5,21V16.75L18.45,3.32a2,2,0,0,1,2.83,0l1.4,1.43a1.91,1.91,0,0,1,.58,1.4,1.91,1.91,0,0,1-.58,1.4L9.25,21ZM18.45,9,17,7.55Zm-12,3A5.31,5.31,0,0,0,4.9,8.1,5.31,5.31,0,0,0,1,6.5,5.31,5.31,0,0,0,4.9,4.9,5.31,5.31,0,0,0,6.5,1,5.31,5.31,0,0,0,8.1,4.9,5.31,5.31,0,0,0,12,6.5,5.46,5.46,0,0,0,6.5,12Z\"/>\n",
              "  </svg>\n",
              "    </button>\n",
              "    <script>\n",
              "      (() => {\n",
              "      const buttonEl =\n",
              "        document.querySelector('#id_6f2dad68-90de-41e7-8cd8-c909afd4aff2 button.colab-df-generate');\n",
              "      buttonEl.style.display =\n",
              "        google.colab.kernel.accessAllowed ? 'block' : 'none';\n",
              "\n",
              "      buttonEl.onclick = () => {\n",
              "        google.colab.notebook.generateWithVariable('df_dictionary');\n",
              "      }\n",
              "      })();\n",
              "    </script>\n",
              "  </div>\n",
              "\n",
              "    </div>\n",
              "  </div>\n"
            ],
            "application/vnd.google.colaboratory.intrinsic+json": {
              "type": "dataframe",
              "variable_name": "df_dictionary",
              "summary": "{\n  \"name\": \"df_dictionary\",\n  \"rows\": 5,\n  \"fields\": [\n    {\n      \"column\": \"Kode\",\n      \"properties\": {\n        \"dtype\": \"number\",\n        \"std\": 158,\n        \"min\": 100,\n        \"max\": 500,\n        \"num_unique_values\": 5,\n        \"samples\": [\n          200,\n          500,\n          300\n        ],\n        \"semantic_type\": \"\",\n        \"description\": \"\"\n      }\n    },\n    {\n      \"column\": \"Nama\",\n      \"properties\": {\n        \"dtype\": \"string\",\n        \"num_unique_values\": 5,\n        \"samples\": [\n          \"Budi\",\n          \"Edi\",\n          \"Cinta\"\n        ],\n        \"semantic_type\": \"\",\n        \"description\": \"\"\n      }\n    },\n    {\n      \"column\": \"Umur\",\n      \"properties\": {\n        \"dtype\": \"number\",\n        \"std\": 12,\n        \"min\": 20,\n        \"max\": 50,\n        \"num_unique_values\": 5,\n        \"samples\": [\n          20,\n          50,\n          30\n        ],\n        \"semantic_type\": \"\",\n        \"description\": \"\"\n      }\n    },\n    {\n      \"column\": \"Gaji\",\n      \"properties\": {\n        \"dtype\": \"number\",\n        \"std\": 1581138,\n        \"min\": 1000000,\n        \"max\": 5000000,\n        \"num_unique_values\": 5,\n        \"samples\": [\n          2000000,\n          5000000,\n          3000000\n        ],\n        \"semantic_type\": \"\",\n        \"description\": \"\"\n      }\n    }\n  ]\n}"
            }
          },
          "metadata": {},
          "execution_count": 159
        }
      ]
    },
    {
      "cell_type": "markdown",
      "source": [
        "#### **METHOD `pd.concat`**\n",
        "Method ini hanya dapat dipergunakan untuk menggabungkan object `dataframe` atau `series` menjadi sebuah dataframe.\n",
        "\n",
        "Salah satu parameter pada method ini adalah `axis` yang akan menentukan bagaimana penggabungan akan dilakukan.\n",
        "1. `axis` = 0, maka `series`/`dataframe` akan digabungkan secara tumpang tindih;\n",
        "2. `axis`= 1, maka `series`/`dataframe` akan digabungkan secara bersebelahan.\n",
        "\n",
        "Hal yang harus dipastikan adalah:\n",
        "1. Jika `axis`=0, nama kolom pada setiap `dataframe`/`series` yang digabungkan sama;\n",
        "2. Jika `axis`=1, penulisan index baris setiap `dataframe`/`series` yang digabungkan sama."
      ],
      "metadata": {
        "id": "ypSV77zaxeBI"
      }
    },
    {
      "cell_type": "code",
      "source": [
        "# Menggabungkan data pada list_of_series\n",
        "pd.concat(list_of_series, axis=1).set_index('Kode')"
      ],
      "metadata": {
        "id": "Fnpv5MZd0Ku9",
        "colab": {
          "base_uri": "https://localhost:8080/",
          "height": 237
        },
        "outputId": "0de4c04e-8887-4f40-f23b-344987f8eeb5"
      },
      "execution_count": null,
      "outputs": [
        {
          "output_type": "execute_result",
          "data": {
            "text/plain": [
              "       Nama  Usia     Gaji\n",
              "Kode                      \n",
              "100    Amir    25  1000000\n",
              "200    Budi    20  2000000\n",
              "300   Cinta    30  3000000\n",
              "400   Dimas    40  4000000\n",
              "500     Edi    50  5000000"
            ],
            "text/html": [
              "\n",
              "  <div id=\"df-0f20de82-347d-4e36-b624-f0ebeb897ce2\" class=\"colab-df-container\">\n",
              "    <div>\n",
              "<style scoped>\n",
              "    .dataframe tbody tr th:only-of-type {\n",
              "        vertical-align: middle;\n",
              "    }\n",
              "\n",
              "    .dataframe tbody tr th {\n",
              "        vertical-align: top;\n",
              "    }\n",
              "\n",
              "    .dataframe thead th {\n",
              "        text-align: right;\n",
              "    }\n",
              "</style>\n",
              "<table border=\"1\" class=\"dataframe\">\n",
              "  <thead>\n",
              "    <tr style=\"text-align: right;\">\n",
              "      <th></th>\n",
              "      <th>Nama</th>\n",
              "      <th>Usia</th>\n",
              "      <th>Gaji</th>\n",
              "    </tr>\n",
              "    <tr>\n",
              "      <th>Kode</th>\n",
              "      <th></th>\n",
              "      <th></th>\n",
              "      <th></th>\n",
              "    </tr>\n",
              "  </thead>\n",
              "  <tbody>\n",
              "    <tr>\n",
              "      <th>100</th>\n",
              "      <td>Amir</td>\n",
              "      <td>25</td>\n",
              "      <td>1000000</td>\n",
              "    </tr>\n",
              "    <tr>\n",
              "      <th>200</th>\n",
              "      <td>Budi</td>\n",
              "      <td>20</td>\n",
              "      <td>2000000</td>\n",
              "    </tr>\n",
              "    <tr>\n",
              "      <th>300</th>\n",
              "      <td>Cinta</td>\n",
              "      <td>30</td>\n",
              "      <td>3000000</td>\n",
              "    </tr>\n",
              "    <tr>\n",
              "      <th>400</th>\n",
              "      <td>Dimas</td>\n",
              "      <td>40</td>\n",
              "      <td>4000000</td>\n",
              "    </tr>\n",
              "    <tr>\n",
              "      <th>500</th>\n",
              "      <td>Edi</td>\n",
              "      <td>50</td>\n",
              "      <td>5000000</td>\n",
              "    </tr>\n",
              "  </tbody>\n",
              "</table>\n",
              "</div>\n",
              "    <div class=\"colab-df-buttons\">\n",
              "\n",
              "  <div class=\"colab-df-container\">\n",
              "    <button class=\"colab-df-convert\" onclick=\"convertToInteractive('df-0f20de82-347d-4e36-b624-f0ebeb897ce2')\"\n",
              "            title=\"Convert this dataframe to an interactive table.\"\n",
              "            style=\"display:none;\">\n",
              "\n",
              "  <svg xmlns=\"http://www.w3.org/2000/svg\" height=\"24px\" viewBox=\"0 -960 960 960\">\n",
              "    <path d=\"M120-120v-720h720v720H120Zm60-500h600v-160H180v160Zm220 220h160v-160H400v160Zm0 220h160v-160H400v160ZM180-400h160v-160H180v160Zm440 0h160v-160H620v160ZM180-180h160v-160H180v160Zm440 0h160v-160H620v160Z\"/>\n",
              "  </svg>\n",
              "    </button>\n",
              "\n",
              "  <style>\n",
              "    .colab-df-container {\n",
              "      display:flex;\n",
              "      gap: 12px;\n",
              "    }\n",
              "\n",
              "    .colab-df-convert {\n",
              "      background-color: #E8F0FE;\n",
              "      border: none;\n",
              "      border-radius: 50%;\n",
              "      cursor: pointer;\n",
              "      display: none;\n",
              "      fill: #1967D2;\n",
              "      height: 32px;\n",
              "      padding: 0 0 0 0;\n",
              "      width: 32px;\n",
              "    }\n",
              "\n",
              "    .colab-df-convert:hover {\n",
              "      background-color: #E2EBFA;\n",
              "      box-shadow: 0px 1px 2px rgba(60, 64, 67, 0.3), 0px 1px 3px 1px rgba(60, 64, 67, 0.15);\n",
              "      fill: #174EA6;\n",
              "    }\n",
              "\n",
              "    .colab-df-buttons div {\n",
              "      margin-bottom: 4px;\n",
              "    }\n",
              "\n",
              "    [theme=dark] .colab-df-convert {\n",
              "      background-color: #3B4455;\n",
              "      fill: #D2E3FC;\n",
              "    }\n",
              "\n",
              "    [theme=dark] .colab-df-convert:hover {\n",
              "      background-color: #434B5C;\n",
              "      box-shadow: 0px 1px 3px 1px rgba(0, 0, 0, 0.15);\n",
              "      filter: drop-shadow(0px 1px 2px rgba(0, 0, 0, 0.3));\n",
              "      fill: #FFFFFF;\n",
              "    }\n",
              "  </style>\n",
              "\n",
              "    <script>\n",
              "      const buttonEl =\n",
              "        document.querySelector('#df-0f20de82-347d-4e36-b624-f0ebeb897ce2 button.colab-df-convert');\n",
              "      buttonEl.style.display =\n",
              "        google.colab.kernel.accessAllowed ? 'block' : 'none';\n",
              "\n",
              "      async function convertToInteractive(key) {\n",
              "        const element = document.querySelector('#df-0f20de82-347d-4e36-b624-f0ebeb897ce2');\n",
              "        const dataTable =\n",
              "          await google.colab.kernel.invokeFunction('convertToInteractive',\n",
              "                                                    [key], {});\n",
              "        if (!dataTable) return;\n",
              "\n",
              "        const docLinkHtml = 'Like what you see? Visit the ' +\n",
              "          '<a target=\"_blank\" href=https://colab.research.google.com/notebooks/data_table.ipynb>data table notebook</a>'\n",
              "          + ' to learn more about interactive tables.';\n",
              "        element.innerHTML = '';\n",
              "        dataTable['output_type'] = 'display_data';\n",
              "        await google.colab.output.renderOutput(dataTable, element);\n",
              "        const docLink = document.createElement('div');\n",
              "        docLink.innerHTML = docLinkHtml;\n",
              "        element.appendChild(docLink);\n",
              "      }\n",
              "    </script>\n",
              "  </div>\n",
              "\n",
              "\n",
              "    <div id=\"df-a6f6332c-374a-4f02-8d9d-01adc7c67a4d\">\n",
              "      <button class=\"colab-df-quickchart\" onclick=\"quickchart('df-a6f6332c-374a-4f02-8d9d-01adc7c67a4d')\"\n",
              "                title=\"Suggest charts\"\n",
              "                style=\"display:none;\">\n",
              "\n",
              "<svg xmlns=\"http://www.w3.org/2000/svg\" height=\"24px\"viewBox=\"0 0 24 24\"\n",
              "     width=\"24px\">\n",
              "    <g>\n",
              "        <path d=\"M19 3H5c-1.1 0-2 .9-2 2v14c0 1.1.9 2 2 2h14c1.1 0 2-.9 2-2V5c0-1.1-.9-2-2-2zM9 17H7v-7h2v7zm4 0h-2V7h2v10zm4 0h-2v-4h2v4z\"/>\n",
              "    </g>\n",
              "</svg>\n",
              "      </button>\n",
              "\n",
              "<style>\n",
              "  .colab-df-quickchart {\n",
              "      --bg-color: #E8F0FE;\n",
              "      --fill-color: #1967D2;\n",
              "      --hover-bg-color: #E2EBFA;\n",
              "      --hover-fill-color: #174EA6;\n",
              "      --disabled-fill-color: #AAA;\n",
              "      --disabled-bg-color: #DDD;\n",
              "  }\n",
              "\n",
              "  [theme=dark] .colab-df-quickchart {\n",
              "      --bg-color: #3B4455;\n",
              "      --fill-color: #D2E3FC;\n",
              "      --hover-bg-color: #434B5C;\n",
              "      --hover-fill-color: #FFFFFF;\n",
              "      --disabled-bg-color: #3B4455;\n",
              "      --disabled-fill-color: #666;\n",
              "  }\n",
              "\n",
              "  .colab-df-quickchart {\n",
              "    background-color: var(--bg-color);\n",
              "    border: none;\n",
              "    border-radius: 50%;\n",
              "    cursor: pointer;\n",
              "    display: none;\n",
              "    fill: var(--fill-color);\n",
              "    height: 32px;\n",
              "    padding: 0;\n",
              "    width: 32px;\n",
              "  }\n",
              "\n",
              "  .colab-df-quickchart:hover {\n",
              "    background-color: var(--hover-bg-color);\n",
              "    box-shadow: 0 1px 2px rgba(60, 64, 67, 0.3), 0 1px 3px 1px rgba(60, 64, 67, 0.15);\n",
              "    fill: var(--button-hover-fill-color);\n",
              "  }\n",
              "\n",
              "  .colab-df-quickchart-complete:disabled,\n",
              "  .colab-df-quickchart-complete:disabled:hover {\n",
              "    background-color: var(--disabled-bg-color);\n",
              "    fill: var(--disabled-fill-color);\n",
              "    box-shadow: none;\n",
              "  }\n",
              "\n",
              "  .colab-df-spinner {\n",
              "    border: 2px solid var(--fill-color);\n",
              "    border-color: transparent;\n",
              "    border-bottom-color: var(--fill-color);\n",
              "    animation:\n",
              "      spin 1s steps(1) infinite;\n",
              "  }\n",
              "\n",
              "  @keyframes spin {\n",
              "    0% {\n",
              "      border-color: transparent;\n",
              "      border-bottom-color: var(--fill-color);\n",
              "      border-left-color: var(--fill-color);\n",
              "    }\n",
              "    20% {\n",
              "      border-color: transparent;\n",
              "      border-left-color: var(--fill-color);\n",
              "      border-top-color: var(--fill-color);\n",
              "    }\n",
              "    30% {\n",
              "      border-color: transparent;\n",
              "      border-left-color: var(--fill-color);\n",
              "      border-top-color: var(--fill-color);\n",
              "      border-right-color: var(--fill-color);\n",
              "    }\n",
              "    40% {\n",
              "      border-color: transparent;\n",
              "      border-right-color: var(--fill-color);\n",
              "      border-top-color: var(--fill-color);\n",
              "    }\n",
              "    60% {\n",
              "      border-color: transparent;\n",
              "      border-right-color: var(--fill-color);\n",
              "    }\n",
              "    80% {\n",
              "      border-color: transparent;\n",
              "      border-right-color: var(--fill-color);\n",
              "      border-bottom-color: var(--fill-color);\n",
              "    }\n",
              "    90% {\n",
              "      border-color: transparent;\n",
              "      border-bottom-color: var(--fill-color);\n",
              "    }\n",
              "  }\n",
              "</style>\n",
              "\n",
              "      <script>\n",
              "        async function quickchart(key) {\n",
              "          const quickchartButtonEl =\n",
              "            document.querySelector('#' + key + ' button');\n",
              "          quickchartButtonEl.disabled = true;  // To prevent multiple clicks.\n",
              "          quickchartButtonEl.classList.add('colab-df-spinner');\n",
              "          try {\n",
              "            const charts = await google.colab.kernel.invokeFunction(\n",
              "                'suggestCharts', [key], {});\n",
              "          } catch (error) {\n",
              "            console.error('Error during call to suggestCharts:', error);\n",
              "          }\n",
              "          quickchartButtonEl.classList.remove('colab-df-spinner');\n",
              "          quickchartButtonEl.classList.add('colab-df-quickchart-complete');\n",
              "        }\n",
              "        (() => {\n",
              "          let quickchartButtonEl =\n",
              "            document.querySelector('#df-a6f6332c-374a-4f02-8d9d-01adc7c67a4d button');\n",
              "          quickchartButtonEl.style.display =\n",
              "            google.colab.kernel.accessAllowed ? 'block' : 'none';\n",
              "        })();\n",
              "      </script>\n",
              "    </div>\n",
              "\n",
              "    </div>\n",
              "  </div>\n"
            ],
            "application/vnd.google.colaboratory.intrinsic+json": {
              "type": "dataframe",
              "summary": "{\n  \"name\": \"pd\",\n  \"rows\": 5,\n  \"fields\": [\n    {\n      \"column\": \"Kode\",\n      \"properties\": {\n        \"dtype\": \"number\",\n        \"std\": 158,\n        \"min\": 100,\n        \"max\": 500,\n        \"num_unique_values\": 5,\n        \"samples\": [\n          200,\n          500,\n          300\n        ],\n        \"semantic_type\": \"\",\n        \"description\": \"\"\n      }\n    },\n    {\n      \"column\": \"Nama\",\n      \"properties\": {\n        \"dtype\": \"string\",\n        \"num_unique_values\": 5,\n        \"samples\": [\n          \"Budi\",\n          \"Edi\",\n          \"Cinta\"\n        ],\n        \"semantic_type\": \"\",\n        \"description\": \"\"\n      }\n    },\n    {\n      \"column\": \"Usia\",\n      \"properties\": {\n        \"dtype\": \"number\",\n        \"std\": 12,\n        \"min\": 20,\n        \"max\": 50,\n        \"num_unique_values\": 5,\n        \"samples\": [\n          20,\n          50,\n          30\n        ],\n        \"semantic_type\": \"\",\n        \"description\": \"\"\n      }\n    },\n    {\n      \"column\": \"Gaji\",\n      \"properties\": {\n        \"dtype\": \"number\",\n        \"std\": 1581138,\n        \"min\": 1000000,\n        \"max\": 5000000,\n        \"num_unique_values\": 5,\n        \"samples\": [\n          2000000,\n          5000000,\n          3000000\n        ],\n        \"semantic_type\": \"\",\n        \"description\": \"\"\n      }\n    }\n  ]\n}"
            }
          },
          "metadata": {},
          "execution_count": 160
        }
      ]
    },
    {
      "cell_type": "markdown",
      "metadata": {
        "id": "X2wP6M-0e2t9"
      },
      "source": [
        "---"
      ]
    }
  ],
  "metadata": {
    "colab": {
      "provenance": [],
      "include_colab_link": true
    },
    "kernelspec": {
      "display_name": "Python 3",
      "name": "python3"
    },
    "language_info": {
      "name": "python"
    },
    "widgets": {
      "application/vnd.jupyter.widget-state+json": {
        "b6791c36ba094fe1873867b70947a727": {
          "model_module": "@jupyter-widgets/controls",
          "model_name": "CheckboxModel",
          "model_module_version": "1.5.0",
          "state": {
            "_dom_classes": [],
            "_model_module": "@jupyter-widgets/controls",
            "_model_module_version": "1.5.0",
            "_model_name": "CheckboxModel",
            "_view_count": null,
            "_view_module": "@jupyter-widgets/controls",
            "_view_module_version": "1.5.0",
            "_view_name": "CheckboxView",
            "description": "urutan_naik berisikan angka desimal dari 0.0 hingga 100.00",
            "description_tooltip": null,
            "disabled": false,
            "indent": true,
            "layout": "IPY_MODEL_8b7e292cc44048989ae62f075b8e9175",
            "style": "IPY_MODEL_823b6662eead43a3825ca51548cba3ce",
            "value": false
          }
        },
        "8b7e292cc44048989ae62f075b8e9175": {
          "model_module": "@jupyter-widgets/base",
          "model_name": "LayoutModel",
          "model_module_version": "1.2.0",
          "state": {
            "_model_module": "@jupyter-widgets/base",
            "_model_module_version": "1.2.0",
            "_model_name": "LayoutModel",
            "_view_count": null,
            "_view_module": "@jupyter-widgets/base",
            "_view_module_version": "1.2.0",
            "_view_name": "LayoutView",
            "align_content": null,
            "align_items": null,
            "align_self": null,
            "border": null,
            "bottom": null,
            "display": null,
            "flex": null,
            "flex_flow": null,
            "grid_area": null,
            "grid_auto_columns": null,
            "grid_auto_flow": null,
            "grid_auto_rows": null,
            "grid_column": null,
            "grid_gap": null,
            "grid_row": null,
            "grid_template_areas": null,
            "grid_template_columns": null,
            "grid_template_rows": null,
            "height": null,
            "justify_content": null,
            "justify_items": null,
            "left": null,
            "margin": null,
            "max_height": null,
            "max_width": null,
            "min_height": null,
            "min_width": null,
            "object_fit": null,
            "object_position": null,
            "order": null,
            "overflow": null,
            "overflow_x": null,
            "overflow_y": null,
            "padding": null,
            "right": null,
            "top": null,
            "visibility": null,
            "width": "auto"
          }
        },
        "823b6662eead43a3825ca51548cba3ce": {
          "model_module": "@jupyter-widgets/controls",
          "model_name": "DescriptionStyleModel",
          "model_module_version": "1.5.0",
          "state": {
            "_model_module": "@jupyter-widgets/controls",
            "_model_module_version": "1.5.0",
            "_model_name": "DescriptionStyleModel",
            "_view_count": null,
            "_view_module": "@jupyter-widgets/base",
            "_view_module_version": "1.2.0",
            "_view_name": "StyleView",
            "description_width": ""
          }
        },
        "16f4a443ab9744e7b3cc05a6dd7418df": {
          "model_module": "@jupyter-widgets/controls",
          "model_name": "CheckboxModel",
          "model_module_version": "1.5.0",
          "state": {
            "_dom_classes": [],
            "_model_module": "@jupyter-widgets/controls",
            "_model_module_version": "1.5.0",
            "_model_name": "CheckboxModel",
            "_view_count": null,
            "_view_module": "@jupyter-widgets/controls",
            "_view_module_version": "1.5.0",
            "_view_name": "CheckboxView",
            "description": "urutan_naik berisikan angka bulat dari 0 hingga 101",
            "description_tooltip": null,
            "disabled": false,
            "indent": true,
            "layout": "IPY_MODEL_8b7e292cc44048989ae62f075b8e9175",
            "style": "IPY_MODEL_e72c8b550a3c4cf488faca4b22e09889",
            "value": false
          }
        },
        "e72c8b550a3c4cf488faca4b22e09889": {
          "model_module": "@jupyter-widgets/controls",
          "model_name": "DescriptionStyleModel",
          "model_module_version": "1.5.0",
          "state": {
            "_model_module": "@jupyter-widgets/controls",
            "_model_module_version": "1.5.0",
            "_model_name": "DescriptionStyleModel",
            "_view_count": null,
            "_view_module": "@jupyter-widgets/base",
            "_view_module_version": "1.2.0",
            "_view_name": "StyleView",
            "description_width": ""
          }
        },
        "e4059c17702044ec88a2c583162442e8": {
          "model_module": "@jupyter-widgets/controls",
          "model_name": "CheckboxModel",
          "model_module_version": "1.5.0",
          "state": {
            "_dom_classes": [],
            "_model_module": "@jupyter-widgets/controls",
            "_model_module_version": "1.5.0",
            "_model_name": "CheckboxModel",
            "_view_count": null,
            "_view_module": "@jupyter-widgets/controls",
            "_view_module_version": "1.5.0",
            "_view_name": "CheckboxView",
            "description": "urutan_naik berisikan [0, 1, 2, ..., 100]",
            "description_tooltip": null,
            "disabled": false,
            "indent": true,
            "layout": "IPY_MODEL_8b7e292cc44048989ae62f075b8e9175",
            "style": "IPY_MODEL_bf8502e5f36a44769935b0a39c3dfcba",
            "value": false
          }
        },
        "bf8502e5f36a44769935b0a39c3dfcba": {
          "model_module": "@jupyter-widgets/controls",
          "model_name": "DescriptionStyleModel",
          "model_module_version": "1.5.0",
          "state": {
            "_model_module": "@jupyter-widgets/controls",
            "_model_module_version": "1.5.0",
            "_model_name": "DescriptionStyleModel",
            "_view_count": null,
            "_view_module": "@jupyter-widgets/base",
            "_view_module_version": "1.2.0",
            "_view_name": "StyleView",
            "description_width": ""
          }
        },
        "df2c12918a3a4149b0eb30fcef47f9c1": {
          "model_module": "@jupyter-widgets/controls",
          "model_name": "CheckboxModel",
          "model_module_version": "1.5.0",
          "state": {
            "_dom_classes": [],
            "_model_module": "@jupyter-widgets/controls",
            "_model_module_version": "1.5.0",
            "_model_name": "CheckboxModel",
            "_view_count": null,
            "_view_module": "@jupyter-widgets/controls",
            "_view_module_version": "1.5.0",
            "_view_name": "CheckboxView",
            "description": "urutan_naik berisikan range(101)",
            "description_tooltip": null,
            "disabled": false,
            "indent": true,
            "layout": "IPY_MODEL_8b7e292cc44048989ae62f075b8e9175",
            "style": "IPY_MODEL_b99deed4ba7642f08afb9896404143b0",
            "value": true
          }
        },
        "b99deed4ba7642f08afb9896404143b0": {
          "model_module": "@jupyter-widgets/controls",
          "model_name": "DescriptionStyleModel",
          "model_module_version": "1.5.0",
          "state": {
            "_model_module": "@jupyter-widgets/controls",
            "_model_module_version": "1.5.0",
            "_model_name": "DescriptionStyleModel",
            "_view_count": null,
            "_view_module": "@jupyter-widgets/base",
            "_view_module_version": "1.2.0",
            "_view_name": "StyleView",
            "description_width": ""
          }
        },
        "463a641504794e16a04e42b96556db28": {
          "model_module": "@jupyter-widgets/controls",
          "model_name": "CheckboxModel",
          "model_module_version": "1.5.0",
          "state": {
            "_dom_classes": [],
            "_model_module": "@jupyter-widgets/controls",
            "_model_module_version": "1.5.0",
            "_model_name": "CheckboxModel",
            "_view_count": null,
            "_view_module": "@jupyter-widgets/controls",
            "_view_module_version": "1.5.0",
            "_view_name": "CheckboxView",
            "description": "urutan_naik berisikan range(0, 100)",
            "description_tooltip": null,
            "disabled": false,
            "indent": true,
            "layout": "IPY_MODEL_8b7e292cc44048989ae62f075b8e9175",
            "style": "IPY_MODEL_e1b387dec9334957ae783ba3de1985a3",
            "value": false
          }
        },
        "e1b387dec9334957ae783ba3de1985a3": {
          "model_module": "@jupyter-widgets/controls",
          "model_name": "DescriptionStyleModel",
          "model_module_version": "1.5.0",
          "state": {
            "_model_module": "@jupyter-widgets/controls",
            "_model_module_version": "1.5.0",
            "_model_name": "DescriptionStyleModel",
            "_view_count": null,
            "_view_module": "@jupyter-widgets/base",
            "_view_module_version": "1.2.0",
            "_view_name": "StyleView",
            "description_width": ""
          }
        },
        "96d7a2235ce8462c9b3013235c72d382": {
          "model_module": "@jupyter-widgets/controls",
          "model_name": "ButtonModel",
          "model_module_version": "1.5.0",
          "state": {
            "_dom_classes": [],
            "_model_module": "@jupyter-widgets/controls",
            "_model_module_version": "1.5.0",
            "_model_name": "ButtonModel",
            "_view_count": null,
            "_view_module": "@jupyter-widgets/controls",
            "_view_module_version": "1.5.0",
            "_view_name": "ButtonView",
            "button_style": "",
            "description": "Cek Jawaban",
            "disabled": false,
            "icon": "",
            "layout": "IPY_MODEL_8dd728de8e224f01b78ccd615e103a85",
            "style": "IPY_MODEL_2e311710c9e743fb8760354f93162f2e",
            "tooltip": ""
          }
        },
        "8dd728de8e224f01b78ccd615e103a85": {
          "model_module": "@jupyter-widgets/base",
          "model_name": "LayoutModel",
          "model_module_version": "1.2.0",
          "state": {
            "_model_module": "@jupyter-widgets/base",
            "_model_module_version": "1.2.0",
            "_model_name": "LayoutModel",
            "_view_count": null,
            "_view_module": "@jupyter-widgets/base",
            "_view_module_version": "1.2.0",
            "_view_name": "LayoutView",
            "align_content": null,
            "align_items": null,
            "align_self": null,
            "border": null,
            "bottom": null,
            "display": null,
            "flex": null,
            "flex_flow": null,
            "grid_area": null,
            "grid_auto_columns": null,
            "grid_auto_flow": null,
            "grid_auto_rows": null,
            "grid_column": null,
            "grid_gap": null,
            "grid_row": null,
            "grid_template_areas": null,
            "grid_template_columns": null,
            "grid_template_rows": null,
            "height": null,
            "justify_content": null,
            "justify_items": null,
            "left": null,
            "margin": null,
            "max_height": null,
            "max_width": null,
            "min_height": null,
            "min_width": null,
            "object_fit": null,
            "object_position": null,
            "order": null,
            "overflow": null,
            "overflow_x": null,
            "overflow_y": null,
            "padding": null,
            "right": null,
            "top": null,
            "visibility": null,
            "width": null
          }
        },
        "2e311710c9e743fb8760354f93162f2e": {
          "model_module": "@jupyter-widgets/controls",
          "model_name": "ButtonStyleModel",
          "model_module_version": "1.5.0",
          "state": {
            "_model_module": "@jupyter-widgets/controls",
            "_model_module_version": "1.5.0",
            "_model_name": "ButtonStyleModel",
            "_view_count": null,
            "_view_module": "@jupyter-widgets/base",
            "_view_module_version": "1.2.0",
            "_view_name": "StyleView",
            "button_color": null,
            "font_weight": ""
          }
        },
        "3267ab5f7df248b5bd1b7503bbd40492": {
          "model_module": "@jupyter-widgets/controls",
          "model_name": "TextareaModel",
          "model_module_version": "1.5.0",
          "state": {
            "_dom_classes": [],
            "_model_module": "@jupyter-widgets/controls",
            "_model_module_version": "1.5.0",
            "_model_name": "TextareaModel",
            "_view_count": null,
            "_view_module": "@jupyter-widgets/controls",
            "_view_module_version": "1.5.0",
            "_view_name": "TextareaView",
            "continuous_update": true,
            "description": "",
            "description_tooltip": null,
            "disabled": true,
            "layout": "IPY_MODEL_c9f5eadf6fe24eb6b0a5e375f8c4b98f",
            "placeholder": "Feedback",
            "rows": null,
            "style": "IPY_MODEL_d3233df32c0e4463a194213cc9f800d4",
            "value": "Pilihan anda tepat!"
          }
        },
        "c9f5eadf6fe24eb6b0a5e375f8c4b98f": {
          "model_module": "@jupyter-widgets/base",
          "model_name": "LayoutModel",
          "model_module_version": "1.2.0",
          "state": {
            "_model_module": "@jupyter-widgets/base",
            "_model_module_version": "1.2.0",
            "_model_name": "LayoutModel",
            "_view_count": null,
            "_view_module": "@jupyter-widgets/base",
            "_view_module_version": "1.2.0",
            "_view_name": "LayoutView",
            "align_content": null,
            "align_items": null,
            "align_self": null,
            "border": null,
            "bottom": null,
            "display": null,
            "flex": null,
            "flex_flow": null,
            "grid_area": null,
            "grid_auto_columns": null,
            "grid_auto_flow": null,
            "grid_auto_rows": null,
            "grid_column": null,
            "grid_gap": null,
            "grid_row": null,
            "grid_template_areas": null,
            "grid_template_columns": null,
            "grid_template_rows": null,
            "height": null,
            "justify_content": null,
            "justify_items": null,
            "left": null,
            "margin": null,
            "max_height": null,
            "max_width": null,
            "min_height": null,
            "min_width": null,
            "object_fit": null,
            "object_position": null,
            "order": null,
            "overflow": null,
            "overflow_x": null,
            "overflow_y": null,
            "padding": null,
            "right": null,
            "top": null,
            "visibility": null,
            "width": null
          }
        },
        "d3233df32c0e4463a194213cc9f800d4": {
          "model_module": "@jupyter-widgets/controls",
          "model_name": "DescriptionStyleModel",
          "model_module_version": "1.5.0",
          "state": {
            "_model_module": "@jupyter-widgets/controls",
            "_model_module_version": "1.5.0",
            "_model_name": "DescriptionStyleModel",
            "_view_count": null,
            "_view_module": "@jupyter-widgets/base",
            "_view_module_version": "1.2.0",
            "_view_name": "StyleView",
            "description_width": ""
          }
        },
        "267e97c9f7d948cd8325cdbc760ad01b": {
          "model_module": "@jupyter-widgets/controls",
          "model_name": "CheckboxModel",
          "model_module_version": "1.5.0",
          "state": {
            "_dom_classes": [],
            "_model_module": "@jupyter-widgets/controls",
            "_model_module_version": "1.5.0",
            "_model_name": "CheckboxModel",
            "_view_count": null,
            "_view_module": "@jupyter-widgets/controls",
            "_view_module_version": "1.5.0",
            "_view_name": "CheckboxView",
            "description": "urutan_turun berisikan angka desimal dari 100.0 hingga 0.0",
            "description_tooltip": null,
            "disabled": false,
            "indent": true,
            "layout": "IPY_MODEL_8b7e292cc44048989ae62f075b8e9175",
            "style": "IPY_MODEL_6e3f8d6c936b4aa58ec2a526e227766b",
            "value": false
          }
        },
        "6e3f8d6c936b4aa58ec2a526e227766b": {
          "model_module": "@jupyter-widgets/controls",
          "model_name": "DescriptionStyleModel",
          "model_module_version": "1.5.0",
          "state": {
            "_model_module": "@jupyter-widgets/controls",
            "_model_module_version": "1.5.0",
            "_model_name": "DescriptionStyleModel",
            "_view_count": null,
            "_view_module": "@jupyter-widgets/base",
            "_view_module_version": "1.2.0",
            "_view_name": "StyleView",
            "description_width": ""
          }
        },
        "70bb24794e124e0abd8e61f34c1bee5d": {
          "model_module": "@jupyter-widgets/controls",
          "model_name": "CheckboxModel",
          "model_module_version": "1.5.0",
          "state": {
            "_dom_classes": [],
            "_model_module": "@jupyter-widgets/controls",
            "_model_module_version": "1.5.0",
            "_model_name": "CheckboxModel",
            "_view_count": null,
            "_view_module": "@jupyter-widgets/controls",
            "_view_module_version": "1.5.0",
            "_view_name": "CheckboxView",
            "description": "urutan_turun menghasilkan angka bulat dari 100 hingga 0",
            "description_tooltip": null,
            "disabled": false,
            "indent": true,
            "layout": "IPY_MODEL_8b7e292cc44048989ae62f075b8e9175",
            "style": "IPY_MODEL_bd2db55070294f3daabde7ab6ec3f7fd",
            "value": true
          }
        },
        "bd2db55070294f3daabde7ab6ec3f7fd": {
          "model_module": "@jupyter-widgets/controls",
          "model_name": "DescriptionStyleModel",
          "model_module_version": "1.5.0",
          "state": {
            "_model_module": "@jupyter-widgets/controls",
            "_model_module_version": "1.5.0",
            "_model_name": "DescriptionStyleModel",
            "_view_count": null,
            "_view_module": "@jupyter-widgets/base",
            "_view_module_version": "1.2.0",
            "_view_name": "StyleView",
            "description_width": ""
          }
        },
        "c1d1b1362df9421aa97ebb38eb9b84bd": {
          "model_module": "@jupyter-widgets/controls",
          "model_name": "CheckboxModel",
          "model_module_version": "1.5.0",
          "state": {
            "_dom_classes": [],
            "_model_module": "@jupyter-widgets/controls",
            "_model_module_version": "1.5.0",
            "_model_name": "CheckboxModel",
            "_view_count": null,
            "_view_module": "@jupyter-widgets/controls",
            "_view_module_version": "1.5.0",
            "_view_name": "CheckboxView",
            "description": "urutan_turun berisikan [100, 99, 98, ..., 0]",
            "description_tooltip": null,
            "disabled": false,
            "indent": true,
            "layout": "IPY_MODEL_8b7e292cc44048989ae62f075b8e9175",
            "style": "IPY_MODEL_facf32ef7fe34d408720b074dbc46abc",
            "value": false
          }
        },
        "facf32ef7fe34d408720b074dbc46abc": {
          "model_module": "@jupyter-widgets/controls",
          "model_name": "DescriptionStyleModel",
          "model_module_version": "1.5.0",
          "state": {
            "_model_module": "@jupyter-widgets/controls",
            "_model_module_version": "1.5.0",
            "_model_name": "DescriptionStyleModel",
            "_view_count": null,
            "_view_module": "@jupyter-widgets/base",
            "_view_module_version": "1.2.0",
            "_view_name": "StyleView",
            "description_width": ""
          }
        },
        "96a7edb7cb5042f49a57248d60ff32f2": {
          "model_module": "@jupyter-widgets/controls",
          "model_name": "CheckboxModel",
          "model_module_version": "1.5.0",
          "state": {
            "_dom_classes": [],
            "_model_module": "@jupyter-widgets/controls",
            "_model_module_version": "1.5.0",
            "_model_name": "CheckboxModel",
            "_view_count": null,
            "_view_module": "@jupyter-widgets/controls",
            "_view_module_version": "1.5.0",
            "_view_name": "CheckboxView",
            "description": "urutan_turun berisikan range(100, -1, -1)",
            "description_tooltip": null,
            "disabled": false,
            "indent": true,
            "layout": "IPY_MODEL_8b7e292cc44048989ae62f075b8e9175",
            "style": "IPY_MODEL_62f456cc8d544623ba105c0e0ec7612a",
            "value": true
          }
        },
        "62f456cc8d544623ba105c0e0ec7612a": {
          "model_module": "@jupyter-widgets/controls",
          "model_name": "DescriptionStyleModel",
          "model_module_version": "1.5.0",
          "state": {
            "_model_module": "@jupyter-widgets/controls",
            "_model_module_version": "1.5.0",
            "_model_name": "DescriptionStyleModel",
            "_view_count": null,
            "_view_module": "@jupyter-widgets/base",
            "_view_module_version": "1.2.0",
            "_view_name": "StyleView",
            "description_width": ""
          }
        },
        "e1686166ef8d4959a7db82216da305cb": {
          "model_module": "@jupyter-widgets/controls",
          "model_name": "CheckboxModel",
          "model_module_version": "1.5.0",
          "state": {
            "_dom_classes": [],
            "_model_module": "@jupyter-widgets/controls",
            "_model_module_version": "1.5.0",
            "_model_name": "CheckboxModel",
            "_view_count": null,
            "_view_module": "@jupyter-widgets/controls",
            "_view_module_version": "1.5.0",
            "_view_name": "CheckboxView",
            "description": "urutan_turun berisikan range(101, 0, -1)",
            "description_tooltip": null,
            "disabled": false,
            "indent": true,
            "layout": "IPY_MODEL_8b7e292cc44048989ae62f075b8e9175",
            "style": "IPY_MODEL_196dbc1b804d4a6ab9b43a5f4bfa4468",
            "value": false
          }
        },
        "196dbc1b804d4a6ab9b43a5f4bfa4468": {
          "model_module": "@jupyter-widgets/controls",
          "model_name": "DescriptionStyleModel",
          "model_module_version": "1.5.0",
          "state": {
            "_model_module": "@jupyter-widgets/controls",
            "_model_module_version": "1.5.0",
            "_model_name": "DescriptionStyleModel",
            "_view_count": null,
            "_view_module": "@jupyter-widgets/base",
            "_view_module_version": "1.2.0",
            "_view_name": "StyleView",
            "description_width": ""
          }
        },
        "a9ebf1b2bf794aa3bea5225c1974fd09": {
          "model_module": "@jupyter-widgets/controls",
          "model_name": "ButtonModel",
          "model_module_version": "1.5.0",
          "state": {
            "_dom_classes": [],
            "_model_module": "@jupyter-widgets/controls",
            "_model_module_version": "1.5.0",
            "_model_name": "ButtonModel",
            "_view_count": null,
            "_view_module": "@jupyter-widgets/controls",
            "_view_module_version": "1.5.0",
            "_view_name": "ButtonView",
            "button_style": "",
            "description": "Cek Jawaban",
            "disabled": false,
            "icon": "",
            "layout": "IPY_MODEL_97d9d49e055a4413933c37917a918858",
            "style": "IPY_MODEL_cf48ec82bd7e4cd4bf8cd2f1230a9ee6",
            "tooltip": ""
          }
        },
        "97d9d49e055a4413933c37917a918858": {
          "model_module": "@jupyter-widgets/base",
          "model_name": "LayoutModel",
          "model_module_version": "1.2.0",
          "state": {
            "_model_module": "@jupyter-widgets/base",
            "_model_module_version": "1.2.0",
            "_model_name": "LayoutModel",
            "_view_count": null,
            "_view_module": "@jupyter-widgets/base",
            "_view_module_version": "1.2.0",
            "_view_name": "LayoutView",
            "align_content": null,
            "align_items": null,
            "align_self": null,
            "border": null,
            "bottom": null,
            "display": null,
            "flex": null,
            "flex_flow": null,
            "grid_area": null,
            "grid_auto_columns": null,
            "grid_auto_flow": null,
            "grid_auto_rows": null,
            "grid_column": null,
            "grid_gap": null,
            "grid_row": null,
            "grid_template_areas": null,
            "grid_template_columns": null,
            "grid_template_rows": null,
            "height": null,
            "justify_content": null,
            "justify_items": null,
            "left": null,
            "margin": null,
            "max_height": null,
            "max_width": null,
            "min_height": null,
            "min_width": null,
            "object_fit": null,
            "object_position": null,
            "order": null,
            "overflow": null,
            "overflow_x": null,
            "overflow_y": null,
            "padding": null,
            "right": null,
            "top": null,
            "visibility": null,
            "width": null
          }
        },
        "cf48ec82bd7e4cd4bf8cd2f1230a9ee6": {
          "model_module": "@jupyter-widgets/controls",
          "model_name": "ButtonStyleModel",
          "model_module_version": "1.5.0",
          "state": {
            "_model_module": "@jupyter-widgets/controls",
            "_model_module_version": "1.5.0",
            "_model_name": "ButtonStyleModel",
            "_view_count": null,
            "_view_module": "@jupyter-widgets/base",
            "_view_module_version": "1.2.0",
            "_view_name": "StyleView",
            "button_color": null,
            "font_weight": ""
          }
        },
        "9bff31a91da043e5a9874c695e5c11b8": {
          "model_module": "@jupyter-widgets/controls",
          "model_name": "TextareaModel",
          "model_module_version": "1.5.0",
          "state": {
            "_dom_classes": [],
            "_model_module": "@jupyter-widgets/controls",
            "_model_module_version": "1.5.0",
            "_model_name": "TextareaModel",
            "_view_count": null,
            "_view_module": "@jupyter-widgets/controls",
            "_view_module_version": "1.5.0",
            "_view_name": "TextareaView",
            "continuous_update": true,
            "description": "",
            "description_tooltip": null,
            "disabled": true,
            "layout": "IPY_MODEL_a11b786559fe407aac5ced12176f0aa3",
            "placeholder": "Feedback",
            "rows": null,
            "style": "IPY_MODEL_37ef5309f0394f5a96e7ba7e3ff89219",
            "value": "Pilihan anda tepat!"
          }
        },
        "a11b786559fe407aac5ced12176f0aa3": {
          "model_module": "@jupyter-widgets/base",
          "model_name": "LayoutModel",
          "model_module_version": "1.2.0",
          "state": {
            "_model_module": "@jupyter-widgets/base",
            "_model_module_version": "1.2.0",
            "_model_name": "LayoutModel",
            "_view_count": null,
            "_view_module": "@jupyter-widgets/base",
            "_view_module_version": "1.2.0",
            "_view_name": "LayoutView",
            "align_content": null,
            "align_items": null,
            "align_self": null,
            "border": null,
            "bottom": null,
            "display": null,
            "flex": null,
            "flex_flow": null,
            "grid_area": null,
            "grid_auto_columns": null,
            "grid_auto_flow": null,
            "grid_auto_rows": null,
            "grid_column": null,
            "grid_gap": null,
            "grid_row": null,
            "grid_template_areas": null,
            "grid_template_columns": null,
            "grid_template_rows": null,
            "height": null,
            "justify_content": null,
            "justify_items": null,
            "left": null,
            "margin": null,
            "max_height": null,
            "max_width": null,
            "min_height": null,
            "min_width": null,
            "object_fit": null,
            "object_position": null,
            "order": null,
            "overflow": null,
            "overflow_x": null,
            "overflow_y": null,
            "padding": null,
            "right": null,
            "top": null,
            "visibility": null,
            "width": null
          }
        },
        "37ef5309f0394f5a96e7ba7e3ff89219": {
          "model_module": "@jupyter-widgets/controls",
          "model_name": "DescriptionStyleModel",
          "model_module_version": "1.5.0",
          "state": {
            "_model_module": "@jupyter-widgets/controls",
            "_model_module_version": "1.5.0",
            "_model_name": "DescriptionStyleModel",
            "_view_count": null,
            "_view_module": "@jupyter-widgets/base",
            "_view_module_version": "1.2.0",
            "_view_name": "StyleView",
            "description_width": ""
          }
        },
        "38728407aac2474a922cd11a7f2cc466": {
          "model_module": "@jupyter-widgets/controls",
          "model_name": "CheckboxModel",
          "model_module_version": "1.5.0",
          "state": {
            "_dom_classes": [],
            "_model_module": "@jupyter-widgets/controls",
            "_model_module_version": "1.5.0",
            "_model_name": "CheckboxModel",
            "_view_count": null,
            "_view_module": "@jupyter-widgets/controls",
            "_view_module_version": "1.5.0",
            "_view_name": "CheckboxView",
            "description": "nama_teman = ['Amir', 'Budi', 'Cinta', 'Dimas', 'Edi']",
            "description_tooltip": null,
            "disabled": false,
            "indent": true,
            "layout": "IPY_MODEL_8b7e292cc44048989ae62f075b8e9175",
            "style": "IPY_MODEL_952e5562799b4c1fa75582eb7a1f19a2",
            "value": false
          }
        },
        "952e5562799b4c1fa75582eb7a1f19a2": {
          "model_module": "@jupyter-widgets/controls",
          "model_name": "DescriptionStyleModel",
          "model_module_version": "1.5.0",
          "state": {
            "_model_module": "@jupyter-widgets/controls",
            "_model_module_version": "1.5.0",
            "_model_name": "DescriptionStyleModel",
            "_view_count": null,
            "_view_module": "@jupyter-widgets/base",
            "_view_module_version": "1.2.0",
            "_view_name": "StyleView",
            "description_width": ""
          }
        },
        "3b871390c235436f83bb1bdca063bc58": {
          "model_module": "@jupyter-widgets/controls",
          "model_name": "CheckboxModel",
          "model_module_version": "1.5.0",
          "state": {
            "_dom_classes": [],
            "_model_module": "@jupyter-widgets/controls",
            "_model_module_version": "1.5.0",
            "_model_name": "CheckboxModel",
            "_view_count": null,
            "_view_module": "@jupyter-widgets/controls",
            "_view_module_version": "1.5.0",
            "_view_name": "CheckboxView",
            "description": "angka = list(range(0, 10, 1))",
            "description_tooltip": null,
            "disabled": false,
            "indent": true,
            "layout": "IPY_MODEL_8b7e292cc44048989ae62f075b8e9175",
            "style": "IPY_MODEL_2b963c921a8e48cc9d20eef5cdf92f9c",
            "value": false
          }
        },
        "2b963c921a8e48cc9d20eef5cdf92f9c": {
          "model_module": "@jupyter-widgets/controls",
          "model_name": "DescriptionStyleModel",
          "model_module_version": "1.5.0",
          "state": {
            "_model_module": "@jupyter-widgets/controls",
            "_model_module_version": "1.5.0",
            "_model_name": "DescriptionStyleModel",
            "_view_count": null,
            "_view_module": "@jupyter-widgets/base",
            "_view_module_version": "1.2.0",
            "_view_name": "StyleView",
            "description_width": ""
          }
        },
        "f483dc1ed25a4e55a33ba1c23b23c11f": {
          "model_module": "@jupyter-widgets/controls",
          "model_name": "CheckboxModel",
          "model_module_version": "1.5.0",
          "state": {
            "_dom_classes": [],
            "_model_module": "@jupyter-widgets/controls",
            "_model_module_version": "1.5.0",
            "_model_name": "CheckboxModel",
            "_view_count": null,
            "_view_module": "@jupyter-widgets/controls",
            "_view_module_version": "1.5.0",
            "_view_name": "CheckboxView",
            "description": "angka_ganjil = [odd for odd in range(0, 10, 1) if odd % 2 == 1]",
            "description_tooltip": null,
            "disabled": false,
            "indent": true,
            "layout": "IPY_MODEL_8b7e292cc44048989ae62f075b8e9175",
            "style": "IPY_MODEL_94d54b3716724c14938c4a3db5a23af8",
            "value": true
          }
        },
        "94d54b3716724c14938c4a3db5a23af8": {
          "model_module": "@jupyter-widgets/controls",
          "model_name": "DescriptionStyleModel",
          "model_module_version": "1.5.0",
          "state": {
            "_model_module": "@jupyter-widgets/controls",
            "_model_module_version": "1.5.0",
            "_model_name": "DescriptionStyleModel",
            "_view_count": null,
            "_view_module": "@jupyter-widgets/base",
            "_view_module_version": "1.2.0",
            "_view_name": "StyleView",
            "description_width": ""
          }
        },
        "6333011712c845838b0adb81da7727df": {
          "model_module": "@jupyter-widgets/controls",
          "model_name": "ButtonModel",
          "model_module_version": "1.5.0",
          "state": {
            "_dom_classes": [],
            "_model_module": "@jupyter-widgets/controls",
            "_model_module_version": "1.5.0",
            "_model_name": "ButtonModel",
            "_view_count": null,
            "_view_module": "@jupyter-widgets/controls",
            "_view_module_version": "1.5.0",
            "_view_name": "ButtonView",
            "button_style": "",
            "description": "Cek Jawaban",
            "disabled": false,
            "icon": "",
            "layout": "IPY_MODEL_b893c88c9afb41d59464b2661ccf3e79",
            "style": "IPY_MODEL_4a46a6d7feb84cecba9ec7de0caa3f95",
            "tooltip": ""
          }
        },
        "b893c88c9afb41d59464b2661ccf3e79": {
          "model_module": "@jupyter-widgets/base",
          "model_name": "LayoutModel",
          "model_module_version": "1.2.0",
          "state": {
            "_model_module": "@jupyter-widgets/base",
            "_model_module_version": "1.2.0",
            "_model_name": "LayoutModel",
            "_view_count": null,
            "_view_module": "@jupyter-widgets/base",
            "_view_module_version": "1.2.0",
            "_view_name": "LayoutView",
            "align_content": null,
            "align_items": null,
            "align_self": null,
            "border": null,
            "bottom": null,
            "display": null,
            "flex": null,
            "flex_flow": null,
            "grid_area": null,
            "grid_auto_columns": null,
            "grid_auto_flow": null,
            "grid_auto_rows": null,
            "grid_column": null,
            "grid_gap": null,
            "grid_row": null,
            "grid_template_areas": null,
            "grid_template_columns": null,
            "grid_template_rows": null,
            "height": null,
            "justify_content": null,
            "justify_items": null,
            "left": null,
            "margin": null,
            "max_height": null,
            "max_width": null,
            "min_height": null,
            "min_width": null,
            "object_fit": null,
            "object_position": null,
            "order": null,
            "overflow": null,
            "overflow_x": null,
            "overflow_y": null,
            "padding": null,
            "right": null,
            "top": null,
            "visibility": null,
            "width": null
          }
        },
        "4a46a6d7feb84cecba9ec7de0caa3f95": {
          "model_module": "@jupyter-widgets/controls",
          "model_name": "ButtonStyleModel",
          "model_module_version": "1.5.0",
          "state": {
            "_model_module": "@jupyter-widgets/controls",
            "_model_module_version": "1.5.0",
            "_model_name": "ButtonStyleModel",
            "_view_count": null,
            "_view_module": "@jupyter-widgets/base",
            "_view_module_version": "1.2.0",
            "_view_name": "StyleView",
            "button_color": null,
            "font_weight": ""
          }
        },
        "acc8a005a2ab490fa11d9f641a1a3f14": {
          "model_module": "@jupyter-widgets/controls",
          "model_name": "TextareaModel",
          "model_module_version": "1.5.0",
          "state": {
            "_dom_classes": [],
            "_model_module": "@jupyter-widgets/controls",
            "_model_module_version": "1.5.0",
            "_model_name": "TextareaModel",
            "_view_count": null,
            "_view_module": "@jupyter-widgets/controls",
            "_view_module_version": "1.5.0",
            "_view_name": "TextareaView",
            "continuous_update": true,
            "description": "",
            "description_tooltip": null,
            "disabled": true,
            "layout": "IPY_MODEL_4f34a86258444f5483da1402b1207528",
            "placeholder": "Feedback",
            "rows": null,
            "style": "IPY_MODEL_f8203d437f124bbeb50b7698851013a6",
            "value": "Pilihan anda tepat!"
          }
        },
        "4f34a86258444f5483da1402b1207528": {
          "model_module": "@jupyter-widgets/base",
          "model_name": "LayoutModel",
          "model_module_version": "1.2.0",
          "state": {
            "_model_module": "@jupyter-widgets/base",
            "_model_module_version": "1.2.0",
            "_model_name": "LayoutModel",
            "_view_count": null,
            "_view_module": "@jupyter-widgets/base",
            "_view_module_version": "1.2.0",
            "_view_name": "LayoutView",
            "align_content": null,
            "align_items": null,
            "align_self": null,
            "border": null,
            "bottom": null,
            "display": null,
            "flex": null,
            "flex_flow": null,
            "grid_area": null,
            "grid_auto_columns": null,
            "grid_auto_flow": null,
            "grid_auto_rows": null,
            "grid_column": null,
            "grid_gap": null,
            "grid_row": null,
            "grid_template_areas": null,
            "grid_template_columns": null,
            "grid_template_rows": null,
            "height": null,
            "justify_content": null,
            "justify_items": null,
            "left": null,
            "margin": null,
            "max_height": null,
            "max_width": null,
            "min_height": null,
            "min_width": null,
            "object_fit": null,
            "object_position": null,
            "order": null,
            "overflow": null,
            "overflow_x": null,
            "overflow_y": null,
            "padding": null,
            "right": null,
            "top": null,
            "visibility": null,
            "width": null
          }
        },
        "f8203d437f124bbeb50b7698851013a6": {
          "model_module": "@jupyter-widgets/controls",
          "model_name": "DescriptionStyleModel",
          "model_module_version": "1.5.0",
          "state": {
            "_model_module": "@jupyter-widgets/controls",
            "_model_module_version": "1.5.0",
            "_model_name": "DescriptionStyleModel",
            "_view_count": null,
            "_view_module": "@jupyter-widgets/base",
            "_view_module_version": "1.2.0",
            "_view_name": "StyleView",
            "description_width": ""
          }
        },
        "e3718784ded742bb9770ad983081c986": {
          "model_module": "@jupyter-widgets/controls",
          "model_name": "CheckboxModel",
          "model_module_version": "1.5.0",
          "state": {
            "_dom_classes": [],
            "_model_module": "@jupyter-widgets/controls",
            "_model_module_version": "1.5.0",
            "_model_name": "CheckboxModel",
            "_view_count": null,
            "_view_module": "@jupyter-widgets/controls",
            "_view_module_version": "1.5.0",
            "_view_name": "CheckboxView",
            "description": "nama_teman = ['Amir', 'Budi', 'Cinta', 'Dimas', 'Edi']",
            "description_tooltip": null,
            "disabled": false,
            "indent": true,
            "layout": "IPY_MODEL_8b7e292cc44048989ae62f075b8e9175",
            "style": "IPY_MODEL_badea875daa0470bbb2ff83b6cc01cd6",
            "value": true
          }
        },
        "badea875daa0470bbb2ff83b6cc01cd6": {
          "model_module": "@jupyter-widgets/controls",
          "model_name": "DescriptionStyleModel",
          "model_module_version": "1.5.0",
          "state": {
            "_model_module": "@jupyter-widgets/controls",
            "_model_module_version": "1.5.0",
            "_model_name": "DescriptionStyleModel",
            "_view_count": null,
            "_view_module": "@jupyter-widgets/base",
            "_view_module_version": "1.2.0",
            "_view_name": "StyleView",
            "description_width": ""
          }
        },
        "ceffc445c92b4a1b81b8aa927b6f35a8": {
          "model_module": "@jupyter-widgets/controls",
          "model_name": "CheckboxModel",
          "model_module_version": "1.5.0",
          "state": {
            "_dom_classes": [],
            "_model_module": "@jupyter-widgets/controls",
            "_model_module_version": "1.5.0",
            "_model_name": "CheckboxModel",
            "_view_count": null,
            "_view_module": "@jupyter-widgets/controls",
            "_view_module_version": "1.5.0",
            "_view_name": "CheckboxView",
            "description": "angka = list(range(0, 10, 1))",
            "description_tooltip": null,
            "disabled": false,
            "indent": true,
            "layout": "IPY_MODEL_8b7e292cc44048989ae62f075b8e9175",
            "style": "IPY_MODEL_1f6170a1bfba4133b0b026a9e7f0d009",
            "value": false
          }
        },
        "1f6170a1bfba4133b0b026a9e7f0d009": {
          "model_module": "@jupyter-widgets/controls",
          "model_name": "DescriptionStyleModel",
          "model_module_version": "1.5.0",
          "state": {
            "_model_module": "@jupyter-widgets/controls",
            "_model_module_version": "1.5.0",
            "_model_name": "DescriptionStyleModel",
            "_view_count": null,
            "_view_module": "@jupyter-widgets/base",
            "_view_module_version": "1.2.0",
            "_view_name": "StyleView",
            "description_width": ""
          }
        },
        "d4bfd86547d745cc970c318a9d7795f2": {
          "model_module": "@jupyter-widgets/controls",
          "model_name": "CheckboxModel",
          "model_module_version": "1.5.0",
          "state": {
            "_dom_classes": [],
            "_model_module": "@jupyter-widgets/controls",
            "_model_module_version": "1.5.0",
            "_model_name": "CheckboxModel",
            "_view_count": null,
            "_view_module": "@jupyter-widgets/controls",
            "_view_module_version": "1.5.0",
            "_view_name": "CheckboxView",
            "description": "angka_ganjil = [odd for odd in range(0, 10, 1) if odd % 2 == 1]",
            "description_tooltip": null,
            "disabled": false,
            "indent": true,
            "layout": "IPY_MODEL_8b7e292cc44048989ae62f075b8e9175",
            "style": "IPY_MODEL_2e34b5943140449a9c177b7b1a783c5b",
            "value": false
          }
        },
        "2e34b5943140449a9c177b7b1a783c5b": {
          "model_module": "@jupyter-widgets/controls",
          "model_name": "DescriptionStyleModel",
          "model_module_version": "1.5.0",
          "state": {
            "_model_module": "@jupyter-widgets/controls",
            "_model_module_version": "1.5.0",
            "_model_name": "DescriptionStyleModel",
            "_view_count": null,
            "_view_module": "@jupyter-widgets/base",
            "_view_module_version": "1.2.0",
            "_view_name": "StyleView",
            "description_width": ""
          }
        },
        "6d1fb60d55c54443b9e930710c827b5f": {
          "model_module": "@jupyter-widgets/controls",
          "model_name": "ButtonModel",
          "model_module_version": "1.5.0",
          "state": {
            "_dom_classes": [],
            "_model_module": "@jupyter-widgets/controls",
            "_model_module_version": "1.5.0",
            "_model_name": "ButtonModel",
            "_view_count": null,
            "_view_module": "@jupyter-widgets/controls",
            "_view_module_version": "1.5.0",
            "_view_name": "ButtonView",
            "button_style": "",
            "description": "Cek Jawaban",
            "disabled": false,
            "icon": "",
            "layout": "IPY_MODEL_5264decba575430b941828b78ac03e20",
            "style": "IPY_MODEL_3267b9726dab4844a1e547df1257c495",
            "tooltip": ""
          }
        },
        "5264decba575430b941828b78ac03e20": {
          "model_module": "@jupyter-widgets/base",
          "model_name": "LayoutModel",
          "model_module_version": "1.2.0",
          "state": {
            "_model_module": "@jupyter-widgets/base",
            "_model_module_version": "1.2.0",
            "_model_name": "LayoutModel",
            "_view_count": null,
            "_view_module": "@jupyter-widgets/base",
            "_view_module_version": "1.2.0",
            "_view_name": "LayoutView",
            "align_content": null,
            "align_items": null,
            "align_self": null,
            "border": null,
            "bottom": null,
            "display": null,
            "flex": null,
            "flex_flow": null,
            "grid_area": null,
            "grid_auto_columns": null,
            "grid_auto_flow": null,
            "grid_auto_rows": null,
            "grid_column": null,
            "grid_gap": null,
            "grid_row": null,
            "grid_template_areas": null,
            "grid_template_columns": null,
            "grid_template_rows": null,
            "height": null,
            "justify_content": null,
            "justify_items": null,
            "left": null,
            "margin": null,
            "max_height": null,
            "max_width": null,
            "min_height": null,
            "min_width": null,
            "object_fit": null,
            "object_position": null,
            "order": null,
            "overflow": null,
            "overflow_x": null,
            "overflow_y": null,
            "padding": null,
            "right": null,
            "top": null,
            "visibility": null,
            "width": null
          }
        },
        "3267b9726dab4844a1e547df1257c495": {
          "model_module": "@jupyter-widgets/controls",
          "model_name": "ButtonStyleModel",
          "model_module_version": "1.5.0",
          "state": {
            "_model_module": "@jupyter-widgets/controls",
            "_model_module_version": "1.5.0",
            "_model_name": "ButtonStyleModel",
            "_view_count": null,
            "_view_module": "@jupyter-widgets/base",
            "_view_module_version": "1.2.0",
            "_view_name": "StyleView",
            "button_color": null,
            "font_weight": ""
          }
        },
        "16abd3097a764a539491b5b39630a7b1": {
          "model_module": "@jupyter-widgets/controls",
          "model_name": "TextareaModel",
          "model_module_version": "1.5.0",
          "state": {
            "_dom_classes": [],
            "_model_module": "@jupyter-widgets/controls",
            "_model_module_version": "1.5.0",
            "_model_name": "TextareaModel",
            "_view_count": null,
            "_view_module": "@jupyter-widgets/controls",
            "_view_module_version": "1.5.0",
            "_view_name": "TextareaView",
            "continuous_update": true,
            "description": "",
            "description_tooltip": null,
            "disabled": true,
            "layout": "IPY_MODEL_c9dbc021349d4170bd646ce388fccbbe",
            "placeholder": "Feedback",
            "rows": null,
            "style": "IPY_MODEL_cac7657515cf4074a92f90fca9c7d210",
            "value": "Pilihan anda tepat!"
          }
        },
        "c9dbc021349d4170bd646ce388fccbbe": {
          "model_module": "@jupyter-widgets/base",
          "model_name": "LayoutModel",
          "model_module_version": "1.2.0",
          "state": {
            "_model_module": "@jupyter-widgets/base",
            "_model_module_version": "1.2.0",
            "_model_name": "LayoutModel",
            "_view_count": null,
            "_view_module": "@jupyter-widgets/base",
            "_view_module_version": "1.2.0",
            "_view_name": "LayoutView",
            "align_content": null,
            "align_items": null,
            "align_self": null,
            "border": null,
            "bottom": null,
            "display": null,
            "flex": null,
            "flex_flow": null,
            "grid_area": null,
            "grid_auto_columns": null,
            "grid_auto_flow": null,
            "grid_auto_rows": null,
            "grid_column": null,
            "grid_gap": null,
            "grid_row": null,
            "grid_template_areas": null,
            "grid_template_columns": null,
            "grid_template_rows": null,
            "height": null,
            "justify_content": null,
            "justify_items": null,
            "left": null,
            "margin": null,
            "max_height": null,
            "max_width": null,
            "min_height": null,
            "min_width": null,
            "object_fit": null,
            "object_position": null,
            "order": null,
            "overflow": null,
            "overflow_x": null,
            "overflow_y": null,
            "padding": null,
            "right": null,
            "top": null,
            "visibility": null,
            "width": null
          }
        },
        "cac7657515cf4074a92f90fca9c7d210": {
          "model_module": "@jupyter-widgets/controls",
          "model_name": "DescriptionStyleModel",
          "model_module_version": "1.5.0",
          "state": {
            "_model_module": "@jupyter-widgets/controls",
            "_model_module_version": "1.5.0",
            "_model_name": "DescriptionStyleModel",
            "_view_count": null,
            "_view_module": "@jupyter-widgets/base",
            "_view_module_version": "1.2.0",
            "_view_name": "StyleView",
            "description_width": ""
          }
        },
        "39c5fe7f1e9440f6b18060b807ae1644": {
          "model_module": "@jupyter-widgets/controls",
          "model_name": "CheckboxModel",
          "model_module_version": "1.5.0",
          "state": {
            "_dom_classes": [],
            "_model_module": "@jupyter-widgets/controls",
            "_model_module_version": "1.5.0",
            "_model_name": "CheckboxModel",
            "_view_count": null,
            "_view_module": "@jupyter-widgets/controls",
            "_view_module_version": "1.5.0",
            "_view_name": "CheckboxView",
            "description": "nama_teman[0] # Mengakses elemen pertama pada list `nama_teman`.",
            "description_tooltip": null,
            "disabled": false,
            "indent": true,
            "layout": "IPY_MODEL_8b7e292cc44048989ae62f075b8e9175",
            "style": "IPY_MODEL_ec5cc8def643441085cf2ef275339aed",
            "value": true
          }
        },
        "ec5cc8def643441085cf2ef275339aed": {
          "model_module": "@jupyter-widgets/controls",
          "model_name": "DescriptionStyleModel",
          "model_module_version": "1.5.0",
          "state": {
            "_model_module": "@jupyter-widgets/controls",
            "_model_module_version": "1.5.0",
            "_model_name": "DescriptionStyleModel",
            "_view_count": null,
            "_view_module": "@jupyter-widgets/base",
            "_view_module_version": "1.2.0",
            "_view_name": "StyleView",
            "description_width": ""
          }
        },
        "c2ddba1ca8b34e7391533fde12b20116": {
          "model_module": "@jupyter-widgets/controls",
          "model_name": "CheckboxModel",
          "model_module_version": "1.5.0",
          "state": {
            "_dom_classes": [],
            "_model_module": "@jupyter-widgets/controls",
            "_model_module_version": "1.5.0",
            "_model_name": "CheckboxModel",
            "_view_count": null,
            "_view_module": "@jupyter-widgets/controls",
            "_view_module_version": "1.5.0",
            "_view_name": "CheckboxView",
            "description": "nama_teman[1] # Mengakses elemen kedua pada list `nama_teman`.",
            "description_tooltip": null,
            "disabled": false,
            "indent": true,
            "layout": "IPY_MODEL_8b7e292cc44048989ae62f075b8e9175",
            "style": "IPY_MODEL_5a16ff8893704948b3a8dcf5428349e9",
            "value": true
          }
        },
        "5a16ff8893704948b3a8dcf5428349e9": {
          "model_module": "@jupyter-widgets/controls",
          "model_name": "DescriptionStyleModel",
          "model_module_version": "1.5.0",
          "state": {
            "_model_module": "@jupyter-widgets/controls",
            "_model_module_version": "1.5.0",
            "_model_name": "DescriptionStyleModel",
            "_view_count": null,
            "_view_module": "@jupyter-widgets/base",
            "_view_module_version": "1.2.0",
            "_view_name": "StyleView",
            "description_width": ""
          }
        },
        "b78e09147c7a4ca6b8c2aea117f069b4": {
          "model_module": "@jupyter-widgets/controls",
          "model_name": "CheckboxModel",
          "model_module_version": "1.5.0",
          "state": {
            "_dom_classes": [],
            "_model_module": "@jupyter-widgets/controls",
            "_model_module_version": "1.5.0",
            "_model_name": "CheckboxModel",
            "_view_count": null,
            "_view_module": "@jupyter-widgets/controls",
            "_view_module_version": "1.5.0",
            "_view_name": "CheckboxView",
            "description": "nama_teman[-1] # Mengakses elemen paling akhir pada list `nama_teman`.",
            "description_tooltip": null,
            "disabled": false,
            "indent": true,
            "layout": "IPY_MODEL_8b7e292cc44048989ae62f075b8e9175",
            "style": "IPY_MODEL_eed355e0300f40acbb402e8e22f084ce",
            "value": true
          }
        },
        "eed355e0300f40acbb402e8e22f084ce": {
          "model_module": "@jupyter-widgets/controls",
          "model_name": "DescriptionStyleModel",
          "model_module_version": "1.5.0",
          "state": {
            "_model_module": "@jupyter-widgets/controls",
            "_model_module_version": "1.5.0",
            "_model_name": "DescriptionStyleModel",
            "_view_count": null,
            "_view_module": "@jupyter-widgets/base",
            "_view_module_version": "1.2.0",
            "_view_name": "StyleView",
            "description_width": ""
          }
        },
        "46d5a3f040dc48ed9aeecbf9eae7179a": {
          "model_module": "@jupyter-widgets/controls",
          "model_name": "CheckboxModel",
          "model_module_version": "1.5.0",
          "state": {
            "_dom_classes": [],
            "_model_module": "@jupyter-widgets/controls",
            "_model_module_version": "1.5.0",
            "_model_name": "CheckboxModel",
            "_view_count": null,
            "_view_module": "@jupyter-widgets/controls",
            "_view_module_version": "1.5.0",
            "_view_name": "CheckboxView",
            "description": "nama_teman[-1] # Mengakses elemen kedua dari akhir pada list `nama_teman`.",
            "description_tooltip": null,
            "disabled": false,
            "indent": true,
            "layout": "IPY_MODEL_8b7e292cc44048989ae62f075b8e9175",
            "style": "IPY_MODEL_ce9ad3eb90734af08e0c703707c1d247",
            "value": false
          }
        },
        "ce9ad3eb90734af08e0c703707c1d247": {
          "model_module": "@jupyter-widgets/controls",
          "model_name": "DescriptionStyleModel",
          "model_module_version": "1.5.0",
          "state": {
            "_model_module": "@jupyter-widgets/controls",
            "_model_module_version": "1.5.0",
            "_model_name": "DescriptionStyleModel",
            "_view_count": null,
            "_view_module": "@jupyter-widgets/base",
            "_view_module_version": "1.2.0",
            "_view_name": "StyleView",
            "description_width": ""
          }
        },
        "fe40005855ed4239ba0e505ff21994d4": {
          "model_module": "@jupyter-widgets/controls",
          "model_name": "ButtonModel",
          "model_module_version": "1.5.0",
          "state": {
            "_dom_classes": [],
            "_model_module": "@jupyter-widgets/controls",
            "_model_module_version": "1.5.0",
            "_model_name": "ButtonModel",
            "_view_count": null,
            "_view_module": "@jupyter-widgets/controls",
            "_view_module_version": "1.5.0",
            "_view_name": "ButtonView",
            "button_style": "",
            "description": "Cek Jawaban",
            "disabled": false,
            "icon": "",
            "layout": "IPY_MODEL_87fac6725da747c2819a10f3f0eabcfe",
            "style": "IPY_MODEL_022c0ae4b5054a0c8842de25eca4c5a2",
            "tooltip": ""
          }
        },
        "87fac6725da747c2819a10f3f0eabcfe": {
          "model_module": "@jupyter-widgets/base",
          "model_name": "LayoutModel",
          "model_module_version": "1.2.0",
          "state": {
            "_model_module": "@jupyter-widgets/base",
            "_model_module_version": "1.2.0",
            "_model_name": "LayoutModel",
            "_view_count": null,
            "_view_module": "@jupyter-widgets/base",
            "_view_module_version": "1.2.0",
            "_view_name": "LayoutView",
            "align_content": null,
            "align_items": null,
            "align_self": null,
            "border": null,
            "bottom": null,
            "display": null,
            "flex": null,
            "flex_flow": null,
            "grid_area": null,
            "grid_auto_columns": null,
            "grid_auto_flow": null,
            "grid_auto_rows": null,
            "grid_column": null,
            "grid_gap": null,
            "grid_row": null,
            "grid_template_areas": null,
            "grid_template_columns": null,
            "grid_template_rows": null,
            "height": null,
            "justify_content": null,
            "justify_items": null,
            "left": null,
            "margin": null,
            "max_height": null,
            "max_width": null,
            "min_height": null,
            "min_width": null,
            "object_fit": null,
            "object_position": null,
            "order": null,
            "overflow": null,
            "overflow_x": null,
            "overflow_y": null,
            "padding": null,
            "right": null,
            "top": null,
            "visibility": null,
            "width": null
          }
        },
        "022c0ae4b5054a0c8842de25eca4c5a2": {
          "model_module": "@jupyter-widgets/controls",
          "model_name": "ButtonStyleModel",
          "model_module_version": "1.5.0",
          "state": {
            "_model_module": "@jupyter-widgets/controls",
            "_model_module_version": "1.5.0",
            "_model_name": "ButtonStyleModel",
            "_view_count": null,
            "_view_module": "@jupyter-widgets/base",
            "_view_module_version": "1.2.0",
            "_view_name": "StyleView",
            "button_color": null,
            "font_weight": ""
          }
        },
        "4f571264965747f6a8bf78f7e1d13f37": {
          "model_module": "@jupyter-widgets/controls",
          "model_name": "TextareaModel",
          "model_module_version": "1.5.0",
          "state": {
            "_dom_classes": [],
            "_model_module": "@jupyter-widgets/controls",
            "_model_module_version": "1.5.0",
            "_model_name": "TextareaModel",
            "_view_count": null,
            "_view_module": "@jupyter-widgets/controls",
            "_view_module_version": "1.5.0",
            "_view_name": "TextareaView",
            "continuous_update": true,
            "description": "",
            "description_tooltip": null,
            "disabled": true,
            "layout": "IPY_MODEL_c805f2b9a5e14ffda7ad779374441aa3",
            "placeholder": "Feedback",
            "rows": null,
            "style": "IPY_MODEL_7ef741cb712147f9a881f6f43a9413d4",
            "value": "Pilihan anda tepat!"
          }
        },
        "c805f2b9a5e14ffda7ad779374441aa3": {
          "model_module": "@jupyter-widgets/base",
          "model_name": "LayoutModel",
          "model_module_version": "1.2.0",
          "state": {
            "_model_module": "@jupyter-widgets/base",
            "_model_module_version": "1.2.0",
            "_model_name": "LayoutModel",
            "_view_count": null,
            "_view_module": "@jupyter-widgets/base",
            "_view_module_version": "1.2.0",
            "_view_name": "LayoutView",
            "align_content": null,
            "align_items": null,
            "align_self": null,
            "border": null,
            "bottom": null,
            "display": null,
            "flex": null,
            "flex_flow": null,
            "grid_area": null,
            "grid_auto_columns": null,
            "grid_auto_flow": null,
            "grid_auto_rows": null,
            "grid_column": null,
            "grid_gap": null,
            "grid_row": null,
            "grid_template_areas": null,
            "grid_template_columns": null,
            "grid_template_rows": null,
            "height": null,
            "justify_content": null,
            "justify_items": null,
            "left": null,
            "margin": null,
            "max_height": null,
            "max_width": null,
            "min_height": null,
            "min_width": null,
            "object_fit": null,
            "object_position": null,
            "order": null,
            "overflow": null,
            "overflow_x": null,
            "overflow_y": null,
            "padding": null,
            "right": null,
            "top": null,
            "visibility": null,
            "width": null
          }
        },
        "7ef741cb712147f9a881f6f43a9413d4": {
          "model_module": "@jupyter-widgets/controls",
          "model_name": "DescriptionStyleModel",
          "model_module_version": "1.5.0",
          "state": {
            "_model_module": "@jupyter-widgets/controls",
            "_model_module_version": "1.5.0",
            "_model_name": "DescriptionStyleModel",
            "_view_count": null,
            "_view_module": "@jupyter-widgets/base",
            "_view_module_version": "1.2.0",
            "_view_name": "StyleView",
            "description_width": ""
          }
        },
        "742e17292c7e479381429e3b2f887cb5": {
          "model_module": "@jupyter-widgets/controls",
          "model_name": "CheckboxModel",
          "model_module_version": "1.5.0",
          "state": {
            "_dom_classes": [],
            "_model_module": "@jupyter-widgets/controls",
            "_model_module_version": "1.5.0",
            "_model_name": "CheckboxModel",
            "_view_count": null,
            "_view_module": "@jupyter-widgets/controls",
            "_view_module_version": "1.5.0",
            "_view_name": "CheckboxView",
            "description": "nama_teman[:2] # Mengakses elemen nama_teman, dari elemen indeks 0 hingga elemen indeks 1",
            "description_tooltip": null,
            "disabled": false,
            "indent": true,
            "layout": "IPY_MODEL_8b7e292cc44048989ae62f075b8e9175",
            "style": "IPY_MODEL_f93ca8c87d324db2913e8ea68b93a952",
            "value": true
          }
        },
        "f93ca8c87d324db2913e8ea68b93a952": {
          "model_module": "@jupyter-widgets/controls",
          "model_name": "DescriptionStyleModel",
          "model_module_version": "1.5.0",
          "state": {
            "_model_module": "@jupyter-widgets/controls",
            "_model_module_version": "1.5.0",
            "_model_name": "DescriptionStyleModel",
            "_view_count": null,
            "_view_module": "@jupyter-widgets/base",
            "_view_module_version": "1.2.0",
            "_view_name": "StyleView",
            "description_width": ""
          }
        },
        "89ec32a5d4f7430eac0eff3cabc783ec": {
          "model_module": "@jupyter-widgets/controls",
          "model_name": "CheckboxModel",
          "model_module_version": "1.5.0",
          "state": {
            "_dom_classes": [],
            "_model_module": "@jupyter-widgets/controls",
            "_model_module_version": "1.5.0",
            "_model_name": "CheckboxModel",
            "_view_count": null,
            "_view_module": "@jupyter-widgets/controls",
            "_view_module_version": "1.5.0",
            "_view_name": "CheckboxView",
            "description": "nama_teman[::2] # Mengakses seluruh elemen nama_teman yang bernomor indeks genap (0, 2, 4, ...)",
            "description_tooltip": null,
            "disabled": false,
            "indent": true,
            "layout": "IPY_MODEL_8b7e292cc44048989ae62f075b8e9175",
            "style": "IPY_MODEL_35e36e56917344e6812557a369f02398",
            "value": true
          }
        },
        "35e36e56917344e6812557a369f02398": {
          "model_module": "@jupyter-widgets/controls",
          "model_name": "DescriptionStyleModel",
          "model_module_version": "1.5.0",
          "state": {
            "_model_module": "@jupyter-widgets/controls",
            "_model_module_version": "1.5.0",
            "_model_name": "DescriptionStyleModel",
            "_view_count": null,
            "_view_module": "@jupyter-widgets/base",
            "_view_module_version": "1.2.0",
            "_view_name": "StyleView",
            "description_width": ""
          }
        },
        "4c2b7eae15bf4e5eb2b70334a0af5220": {
          "model_module": "@jupyter-widgets/controls",
          "model_name": "CheckboxModel",
          "model_module_version": "1.5.0",
          "state": {
            "_dom_classes": [],
            "_model_module": "@jupyter-widgets/controls",
            "_model_module_version": "1.5.0",
            "_model_name": "CheckboxModel",
            "_view_count": null,
            "_view_module": "@jupyter-widgets/controls",
            "_view_module_version": "1.5.0",
            "_view_name": "CheckboxView",
            "description": "nama_teman[::-2] # Mengakses seluruh elemen nama_teman  secara terbalik, mulai dari urutan kedua dari akhir hingga paling awal",
            "description_tooltip": null,
            "disabled": false,
            "indent": true,
            "layout": "IPY_MODEL_8b7e292cc44048989ae62f075b8e9175",
            "style": "IPY_MODEL_600a5d6c9e944ea3bde29e6f4d8df515",
            "value": false
          }
        },
        "600a5d6c9e944ea3bde29e6f4d8df515": {
          "model_module": "@jupyter-widgets/controls",
          "model_name": "DescriptionStyleModel",
          "model_module_version": "1.5.0",
          "state": {
            "_model_module": "@jupyter-widgets/controls",
            "_model_module_version": "1.5.0",
            "_model_name": "DescriptionStyleModel",
            "_view_count": null,
            "_view_module": "@jupyter-widgets/base",
            "_view_module_version": "1.2.0",
            "_view_name": "StyleView",
            "description_width": ""
          }
        },
        "7582229473224b72ab886f73f6452772": {
          "model_module": "@jupyter-widgets/controls",
          "model_name": "CheckboxModel",
          "model_module_version": "1.5.0",
          "state": {
            "_dom_classes": [],
            "_model_module": "@jupyter-widgets/controls",
            "_model_module_version": "1.5.0",
            "_model_name": "CheckboxModel",
            "_view_count": null,
            "_view_module": "@jupyter-widgets/controls",
            "_view_module_version": "1.5.0",
            "_view_name": "CheckboxView",
            "description": "nama_teman[::-1] # Mengakses seluruh elemen pada nama_teman secara terbalik, dari urutan paling akhir hingga ke awal",
            "description_tooltip": null,
            "disabled": false,
            "indent": true,
            "layout": "IPY_MODEL_8b7e292cc44048989ae62f075b8e9175",
            "style": "IPY_MODEL_df83aed5bced453780da0e0a28a5c98e",
            "value": true
          }
        },
        "df83aed5bced453780da0e0a28a5c98e": {
          "model_module": "@jupyter-widgets/controls",
          "model_name": "DescriptionStyleModel",
          "model_module_version": "1.5.0",
          "state": {
            "_model_module": "@jupyter-widgets/controls",
            "_model_module_version": "1.5.0",
            "_model_name": "DescriptionStyleModel",
            "_view_count": null,
            "_view_module": "@jupyter-widgets/base",
            "_view_module_version": "1.2.0",
            "_view_name": "StyleView",
            "description_width": ""
          }
        },
        "ad04712fbd2c47019f881f714763bb2a": {
          "model_module": "@jupyter-widgets/controls",
          "model_name": "ButtonModel",
          "model_module_version": "1.5.0",
          "state": {
            "_dom_classes": [],
            "_model_module": "@jupyter-widgets/controls",
            "_model_module_version": "1.5.0",
            "_model_name": "ButtonModel",
            "_view_count": null,
            "_view_module": "@jupyter-widgets/controls",
            "_view_module_version": "1.5.0",
            "_view_name": "ButtonView",
            "button_style": "",
            "description": "Cek Jawaban",
            "disabled": false,
            "icon": "",
            "layout": "IPY_MODEL_e546f572df4740718b382ae77631238e",
            "style": "IPY_MODEL_73c026fe24ba4f069b5661caa311a640",
            "tooltip": ""
          }
        },
        "e546f572df4740718b382ae77631238e": {
          "model_module": "@jupyter-widgets/base",
          "model_name": "LayoutModel",
          "model_module_version": "1.2.0",
          "state": {
            "_model_module": "@jupyter-widgets/base",
            "_model_module_version": "1.2.0",
            "_model_name": "LayoutModel",
            "_view_count": null,
            "_view_module": "@jupyter-widgets/base",
            "_view_module_version": "1.2.0",
            "_view_name": "LayoutView",
            "align_content": null,
            "align_items": null,
            "align_self": null,
            "border": null,
            "bottom": null,
            "display": null,
            "flex": null,
            "flex_flow": null,
            "grid_area": null,
            "grid_auto_columns": null,
            "grid_auto_flow": null,
            "grid_auto_rows": null,
            "grid_column": null,
            "grid_gap": null,
            "grid_row": null,
            "grid_template_areas": null,
            "grid_template_columns": null,
            "grid_template_rows": null,
            "height": null,
            "justify_content": null,
            "justify_items": null,
            "left": null,
            "margin": null,
            "max_height": null,
            "max_width": null,
            "min_height": null,
            "min_width": null,
            "object_fit": null,
            "object_position": null,
            "order": null,
            "overflow": null,
            "overflow_x": null,
            "overflow_y": null,
            "padding": null,
            "right": null,
            "top": null,
            "visibility": null,
            "width": null
          }
        },
        "73c026fe24ba4f069b5661caa311a640": {
          "model_module": "@jupyter-widgets/controls",
          "model_name": "ButtonStyleModel",
          "model_module_version": "1.5.0",
          "state": {
            "_model_module": "@jupyter-widgets/controls",
            "_model_module_version": "1.5.0",
            "_model_name": "ButtonStyleModel",
            "_view_count": null,
            "_view_module": "@jupyter-widgets/base",
            "_view_module_version": "1.2.0",
            "_view_name": "StyleView",
            "button_color": null,
            "font_weight": ""
          }
        },
        "cd43b61f88d640c5b8f49ff97e1153f9": {
          "model_module": "@jupyter-widgets/controls",
          "model_name": "TextareaModel",
          "model_module_version": "1.5.0",
          "state": {
            "_dom_classes": [],
            "_model_module": "@jupyter-widgets/controls",
            "_model_module_version": "1.5.0",
            "_model_name": "TextareaModel",
            "_view_count": null,
            "_view_module": "@jupyter-widgets/controls",
            "_view_module_version": "1.5.0",
            "_view_name": "TextareaView",
            "continuous_update": true,
            "description": "",
            "description_tooltip": null,
            "disabled": true,
            "layout": "IPY_MODEL_dd24d118559444339364f6ee2bd2da30",
            "placeholder": "Feedback",
            "rows": null,
            "style": "IPY_MODEL_c81e1f130a7140e785b2fe6fa1eaf29e",
            "value": "Pilihan anda tepat!"
          }
        },
        "dd24d118559444339364f6ee2bd2da30": {
          "model_module": "@jupyter-widgets/base",
          "model_name": "LayoutModel",
          "model_module_version": "1.2.0",
          "state": {
            "_model_module": "@jupyter-widgets/base",
            "_model_module_version": "1.2.0",
            "_model_name": "LayoutModel",
            "_view_count": null,
            "_view_module": "@jupyter-widgets/base",
            "_view_module_version": "1.2.0",
            "_view_name": "LayoutView",
            "align_content": null,
            "align_items": null,
            "align_self": null,
            "border": null,
            "bottom": null,
            "display": null,
            "flex": null,
            "flex_flow": null,
            "grid_area": null,
            "grid_auto_columns": null,
            "grid_auto_flow": null,
            "grid_auto_rows": null,
            "grid_column": null,
            "grid_gap": null,
            "grid_row": null,
            "grid_template_areas": null,
            "grid_template_columns": null,
            "grid_template_rows": null,
            "height": null,
            "justify_content": null,
            "justify_items": null,
            "left": null,
            "margin": null,
            "max_height": null,
            "max_width": null,
            "min_height": null,
            "min_width": null,
            "object_fit": null,
            "object_position": null,
            "order": null,
            "overflow": null,
            "overflow_x": null,
            "overflow_y": null,
            "padding": null,
            "right": null,
            "top": null,
            "visibility": null,
            "width": null
          }
        },
        "c81e1f130a7140e785b2fe6fa1eaf29e": {
          "model_module": "@jupyter-widgets/controls",
          "model_name": "DescriptionStyleModel",
          "model_module_version": "1.5.0",
          "state": {
            "_model_module": "@jupyter-widgets/controls",
            "_model_module_version": "1.5.0",
            "_model_name": "DescriptionStyleModel",
            "_view_count": null,
            "_view_module": "@jupyter-widgets/base",
            "_view_module_version": "1.2.0",
            "_view_name": "StyleView",
            "description_width": ""
          }
        },
        "72d0a0c4b50f46928fc575543b29ec9c": {
          "model_module": "@jupyter-widgets/controls",
          "model_name": "CheckboxModel",
          "model_module_version": "1.5.0",
          "state": {
            "_dom_classes": [],
            "_model_module": "@jupyter-widgets/controls",
            "_model_module_version": "1.5.0",
            "_model_name": "CheckboxModel",
            "_view_count": null,
            "_view_module": "@jupyter-widgets/controls",
            "_view_module_version": "1.5.0",
            "_view_name": "CheckboxView",
            "description": "nama_teman[-1::-2]",
            "description_tooltip": null,
            "disabled": false,
            "indent": true,
            "layout": "IPY_MODEL_8b7e292cc44048989ae62f075b8e9175",
            "style": "IPY_MODEL_8992156b99984ab3adc8a76cf941e44d",
            "value": false
          }
        },
        "8992156b99984ab3adc8a76cf941e44d": {
          "model_module": "@jupyter-widgets/controls",
          "model_name": "DescriptionStyleModel",
          "model_module_version": "1.5.0",
          "state": {
            "_model_module": "@jupyter-widgets/controls",
            "_model_module_version": "1.5.0",
            "_model_name": "DescriptionStyleModel",
            "_view_count": null,
            "_view_module": "@jupyter-widgets/base",
            "_view_module_version": "1.2.0",
            "_view_name": "StyleView",
            "description_width": ""
          }
        },
        "48f49c3a348b462e89196702b0529795": {
          "model_module": "@jupyter-widgets/controls",
          "model_name": "CheckboxModel",
          "model_module_version": "1.5.0",
          "state": {
            "_dom_classes": [],
            "_model_module": "@jupyter-widgets/controls",
            "_model_module_version": "1.5.0",
            "_model_name": "CheckboxModel",
            "_view_count": null,
            "_view_module": "@jupyter-widgets/controls",
            "_view_module_version": "1.5.0",
            "_view_name": "CheckboxView",
            "description": "nama_teman[-1:0:-2]",
            "description_tooltip": null,
            "disabled": false,
            "indent": true,
            "layout": "IPY_MODEL_8b7e292cc44048989ae62f075b8e9175",
            "style": "IPY_MODEL_a25f16a6d05e4574933735907d344ee5",
            "value": true
          }
        },
        "a25f16a6d05e4574933735907d344ee5": {
          "model_module": "@jupyter-widgets/controls",
          "model_name": "DescriptionStyleModel",
          "model_module_version": "1.5.0",
          "state": {
            "_model_module": "@jupyter-widgets/controls",
            "_model_module_version": "1.5.0",
            "_model_name": "DescriptionStyleModel",
            "_view_count": null,
            "_view_module": "@jupyter-widgets/base",
            "_view_module_version": "1.2.0",
            "_view_name": "StyleView",
            "description_width": ""
          }
        },
        "3cbd3c96c2574518b89282ebb2633056": {
          "model_module": "@jupyter-widgets/controls",
          "model_name": "CheckboxModel",
          "model_module_version": "1.5.0",
          "state": {
            "_dom_classes": [],
            "_model_module": "@jupyter-widgets/controls",
            "_model_module_version": "1.5.0",
            "_model_name": "CheckboxModel",
            "_view_count": null,
            "_view_module": "@jupyter-widgets/controls",
            "_view_module_version": "1.5.0",
            "_view_name": "CheckboxView",
            "description": "nama_teman[4:0:-2]",
            "description_tooltip": null,
            "disabled": false,
            "indent": true,
            "layout": "IPY_MODEL_8b7e292cc44048989ae62f075b8e9175",
            "style": "IPY_MODEL_6c73ef3d5c4046d5997c127e6247340b",
            "value": true
          }
        },
        "6c73ef3d5c4046d5997c127e6247340b": {
          "model_module": "@jupyter-widgets/controls",
          "model_name": "DescriptionStyleModel",
          "model_module_version": "1.5.0",
          "state": {
            "_model_module": "@jupyter-widgets/controls",
            "_model_module_version": "1.5.0",
            "_model_name": "DescriptionStyleModel",
            "_view_count": null,
            "_view_module": "@jupyter-widgets/base",
            "_view_module_version": "1.2.0",
            "_view_name": "StyleView",
            "description_width": ""
          }
        },
        "7d1ac7bc7e024f8eab25b7a6e1d4cfac": {
          "model_module": "@jupyter-widgets/controls",
          "model_name": "CheckboxModel",
          "model_module_version": "1.5.0",
          "state": {
            "_dom_classes": [],
            "_model_module": "@jupyter-widgets/controls",
            "_model_module_version": "1.5.0",
            "_model_name": "CheckboxModel",
            "_view_count": null,
            "_view_module": "@jupyter-widgets/controls",
            "_view_module_version": "1.5.0",
            "_view_name": "CheckboxView",
            "description": "nama_teman[:0:-2]",
            "description_tooltip": null,
            "disabled": false,
            "indent": true,
            "layout": "IPY_MODEL_8b7e292cc44048989ae62f075b8e9175",
            "style": "IPY_MODEL_b8b047732c614a9e8a147cc0fa7f9525",
            "value": true
          }
        },
        "b8b047732c614a9e8a147cc0fa7f9525": {
          "model_module": "@jupyter-widgets/controls",
          "model_name": "DescriptionStyleModel",
          "model_module_version": "1.5.0",
          "state": {
            "_model_module": "@jupyter-widgets/controls",
            "_model_module_version": "1.5.0",
            "_model_name": "DescriptionStyleModel",
            "_view_count": null,
            "_view_module": "@jupyter-widgets/base",
            "_view_module_version": "1.2.0",
            "_view_name": "StyleView",
            "description_width": ""
          }
        },
        "fd005af4035648058b7e6ed0455ff543": {
          "model_module": "@jupyter-widgets/controls",
          "model_name": "ButtonModel",
          "model_module_version": "1.5.0",
          "state": {
            "_dom_classes": [],
            "_model_module": "@jupyter-widgets/controls",
            "_model_module_version": "1.5.0",
            "_model_name": "ButtonModel",
            "_view_count": null,
            "_view_module": "@jupyter-widgets/controls",
            "_view_module_version": "1.5.0",
            "_view_name": "ButtonView",
            "button_style": "",
            "description": "Cek Jawaban",
            "disabled": false,
            "icon": "",
            "layout": "IPY_MODEL_31509488ee1346ac9ca16ba3222c0cd4",
            "style": "IPY_MODEL_90963cee2d1a4abc8ea0a517971822f6",
            "tooltip": ""
          }
        },
        "31509488ee1346ac9ca16ba3222c0cd4": {
          "model_module": "@jupyter-widgets/base",
          "model_name": "LayoutModel",
          "model_module_version": "1.2.0",
          "state": {
            "_model_module": "@jupyter-widgets/base",
            "_model_module_version": "1.2.0",
            "_model_name": "LayoutModel",
            "_view_count": null,
            "_view_module": "@jupyter-widgets/base",
            "_view_module_version": "1.2.0",
            "_view_name": "LayoutView",
            "align_content": null,
            "align_items": null,
            "align_self": null,
            "border": null,
            "bottom": null,
            "display": null,
            "flex": null,
            "flex_flow": null,
            "grid_area": null,
            "grid_auto_columns": null,
            "grid_auto_flow": null,
            "grid_auto_rows": null,
            "grid_column": null,
            "grid_gap": null,
            "grid_row": null,
            "grid_template_areas": null,
            "grid_template_columns": null,
            "grid_template_rows": null,
            "height": null,
            "justify_content": null,
            "justify_items": null,
            "left": null,
            "margin": null,
            "max_height": null,
            "max_width": null,
            "min_height": null,
            "min_width": null,
            "object_fit": null,
            "object_position": null,
            "order": null,
            "overflow": null,
            "overflow_x": null,
            "overflow_y": null,
            "padding": null,
            "right": null,
            "top": null,
            "visibility": null,
            "width": null
          }
        },
        "90963cee2d1a4abc8ea0a517971822f6": {
          "model_module": "@jupyter-widgets/controls",
          "model_name": "ButtonStyleModel",
          "model_module_version": "1.5.0",
          "state": {
            "_model_module": "@jupyter-widgets/controls",
            "_model_module_version": "1.5.0",
            "_model_name": "ButtonStyleModel",
            "_view_count": null,
            "_view_module": "@jupyter-widgets/base",
            "_view_module_version": "1.2.0",
            "_view_name": "StyleView",
            "button_color": null,
            "font_weight": ""
          }
        },
        "9b41400f37b244139f2ddfed16d76630": {
          "model_module": "@jupyter-widgets/controls",
          "model_name": "TextareaModel",
          "model_module_version": "1.5.0",
          "state": {
            "_dom_classes": [],
            "_model_module": "@jupyter-widgets/controls",
            "_model_module_version": "1.5.0",
            "_model_name": "TextareaModel",
            "_view_count": null,
            "_view_module": "@jupyter-widgets/controls",
            "_view_module_version": "1.5.0",
            "_view_name": "TextareaView",
            "continuous_update": true,
            "description": "",
            "description_tooltip": null,
            "disabled": true,
            "layout": "IPY_MODEL_baade59222574a38bcbae52362446847",
            "placeholder": "Feedback",
            "rows": null,
            "style": "IPY_MODEL_43f332c48b884b5daacb8e9a675a7d3e",
            "value": "Pilihan anda tepat!"
          }
        },
        "baade59222574a38bcbae52362446847": {
          "model_module": "@jupyter-widgets/base",
          "model_name": "LayoutModel",
          "model_module_version": "1.2.0",
          "state": {
            "_model_module": "@jupyter-widgets/base",
            "_model_module_version": "1.2.0",
            "_model_name": "LayoutModel",
            "_view_count": null,
            "_view_module": "@jupyter-widgets/base",
            "_view_module_version": "1.2.0",
            "_view_name": "LayoutView",
            "align_content": null,
            "align_items": null,
            "align_self": null,
            "border": null,
            "bottom": null,
            "display": null,
            "flex": null,
            "flex_flow": null,
            "grid_area": null,
            "grid_auto_columns": null,
            "grid_auto_flow": null,
            "grid_auto_rows": null,
            "grid_column": null,
            "grid_gap": null,
            "grid_row": null,
            "grid_template_areas": null,
            "grid_template_columns": null,
            "grid_template_rows": null,
            "height": null,
            "justify_content": null,
            "justify_items": null,
            "left": null,
            "margin": null,
            "max_height": null,
            "max_width": null,
            "min_height": null,
            "min_width": null,
            "object_fit": null,
            "object_position": null,
            "order": null,
            "overflow": null,
            "overflow_x": null,
            "overflow_y": null,
            "padding": null,
            "right": null,
            "top": null,
            "visibility": null,
            "width": null
          }
        },
        "43f332c48b884b5daacb8e9a675a7d3e": {
          "model_module": "@jupyter-widgets/controls",
          "model_name": "DescriptionStyleModel",
          "model_module_version": "1.5.0",
          "state": {
            "_model_module": "@jupyter-widgets/controls",
            "_model_module_version": "1.5.0",
            "_model_name": "DescriptionStyleModel",
            "_view_count": null,
            "_view_module": "@jupyter-widgets/base",
            "_view_module_version": "1.2.0",
            "_view_name": "StyleView",
            "description_width": ""
          }
        },
        "bb5dcc9cb7bc47029ee0762dae802dad": {
          "model_module": "@jupyter-widgets/controls",
          "model_name": "CheckboxModel",
          "model_module_version": "1.5.0",
          "state": {
            "_dom_classes": [],
            "_model_module": "@jupyter-widgets/controls",
            "_model_module_version": "1.5.0",
            "_model_name": "CheckboxModel",
            "_view_count": null,
            "_view_module": "@jupyter-widgets/controls",
            "_view_module_version": "1.5.0",
            "_view_name": "CheckboxView",
            "description": "angka_ganjil_copy = [1, 3, 1.25, 7, 9]",
            "description_tooltip": null,
            "disabled": false,
            "indent": true,
            "layout": "IPY_MODEL_8b7e292cc44048989ae62f075b8e9175",
            "style": "IPY_MODEL_e52a9e359d404d3b9f88a2b7287f803e",
            "value": false
          }
        },
        "e52a9e359d404d3b9f88a2b7287f803e": {
          "model_module": "@jupyter-widgets/controls",
          "model_name": "DescriptionStyleModel",
          "model_module_version": "1.5.0",
          "state": {
            "_model_module": "@jupyter-widgets/controls",
            "_model_module_version": "1.5.0",
            "_model_name": "DescriptionStyleModel",
            "_view_count": null,
            "_view_module": "@jupyter-widgets/base",
            "_view_module_version": "1.2.0",
            "_view_name": "StyleView",
            "description_width": ""
          }
        },
        "bd93286e42064d01b77ae7aa9604538e": {
          "model_module": "@jupyter-widgets/controls",
          "model_name": "CheckboxModel",
          "model_module_version": "1.5.0",
          "state": {
            "_dom_classes": [],
            "_model_module": "@jupyter-widgets/controls",
            "_model_module_version": "1.5.0",
            "_model_name": "CheckboxModel",
            "_view_count": null,
            "_view_module": "@jupyter-widgets/controls",
            "_view_module_version": "1.5.0",
            "_view_name": "CheckboxView",
            "description": "nama_teman_baru = ['Amir', 'Budi', 'Rhoma', 'Cinta', 'Dimas', 'Edi']",
            "description_tooltip": null,
            "disabled": false,
            "indent": true,
            "layout": "IPY_MODEL_8b7e292cc44048989ae62f075b8e9175",
            "style": "IPY_MODEL_b31dbe60aacd4529a166439066710a8c",
            "value": false
          }
        },
        "b31dbe60aacd4529a166439066710a8c": {
          "model_module": "@jupyter-widgets/controls",
          "model_name": "DescriptionStyleModel",
          "model_module_version": "1.5.0",
          "state": {
            "_model_module": "@jupyter-widgets/controls",
            "_model_module_version": "1.5.0",
            "_model_name": "DescriptionStyleModel",
            "_view_count": null,
            "_view_module": "@jupyter-widgets/base",
            "_view_module_version": "1.2.0",
            "_view_name": "StyleView",
            "description_width": ""
          }
        },
        "320eecb56ed04090b38e895fefa3f6c5": {
          "model_module": "@jupyter-widgets/controls",
          "model_name": "CheckboxModel",
          "model_module_version": "1.5.0",
          "state": {
            "_dom_classes": [],
            "_model_module": "@jupyter-widgets/controls",
            "_model_module_version": "1.5.0",
            "_model_name": "CheckboxModel",
            "_view_count": null,
            "_view_module": "@jupyter-widgets/controls",
            "_view_module_version": "1.5.0",
            "_view_name": "CheckboxView",
            "description": "angka_ganjil = [1, 3, 5, 7, 9]",
            "description_tooltip": null,
            "disabled": false,
            "indent": true,
            "layout": "IPY_MODEL_8b7e292cc44048989ae62f075b8e9175",
            "style": "IPY_MODEL_a61da18f638346749f3da0136473998a",
            "value": false
          }
        },
        "a61da18f638346749f3da0136473998a": {
          "model_module": "@jupyter-widgets/controls",
          "model_name": "DescriptionStyleModel",
          "model_module_version": "1.5.0",
          "state": {
            "_model_module": "@jupyter-widgets/controls",
            "_model_module_version": "1.5.0",
            "_model_name": "DescriptionStyleModel",
            "_view_count": null,
            "_view_module": "@jupyter-widgets/base",
            "_view_module_version": "1.2.0",
            "_view_name": "StyleView",
            "description_width": ""
          }
        },
        "953ee69c3e424e1489613546270fb283": {
          "model_module": "@jupyter-widgets/controls",
          "model_name": "CheckboxModel",
          "model_module_version": "1.5.0",
          "state": {
            "_dom_classes": [],
            "_model_module": "@jupyter-widgets/controls",
            "_model_module_version": "1.5.0",
            "_model_name": "CheckboxModel",
            "_view_count": null,
            "_view_module": "@jupyter-widgets/controls",
            "_view_module_version": "1.5.0",
            "_view_name": "CheckboxView",
            "description": "nama_teman = ['Amir', 'Budi', 'Cinta', 'Dimas', 'Edi']",
            "description_tooltip": null,
            "disabled": false,
            "indent": true,
            "layout": "IPY_MODEL_8b7e292cc44048989ae62f075b8e9175",
            "style": "IPY_MODEL_46ab6351ea494e6e8d711b64308eea6e",
            "value": false
          }
        },
        "46ab6351ea494e6e8d711b64308eea6e": {
          "model_module": "@jupyter-widgets/controls",
          "model_name": "DescriptionStyleModel",
          "model_module_version": "1.5.0",
          "state": {
            "_model_module": "@jupyter-widgets/controls",
            "_model_module_version": "1.5.0",
            "_model_name": "DescriptionStyleModel",
            "_view_count": null,
            "_view_module": "@jupyter-widgets/base",
            "_view_module_version": "1.2.0",
            "_view_name": "StyleView",
            "description_width": ""
          }
        },
        "0b2eec7df45840fcbdd7623ab30cd060": {
          "model_module": "@jupyter-widgets/controls",
          "model_name": "ButtonModel",
          "model_module_version": "1.5.0",
          "state": {
            "_dom_classes": [],
            "_model_module": "@jupyter-widgets/controls",
            "_model_module_version": "1.5.0",
            "_model_name": "ButtonModel",
            "_view_count": null,
            "_view_module": "@jupyter-widgets/controls",
            "_view_module_version": "1.5.0",
            "_view_name": "ButtonView",
            "button_style": "",
            "description": "Cek Jawaban",
            "disabled": false,
            "icon": "",
            "layout": "IPY_MODEL_d50c405c391449dfaef76cbb7651775f",
            "style": "IPY_MODEL_40765bb51dca476ba05d17702e20d5fc",
            "tooltip": ""
          }
        },
        "d50c405c391449dfaef76cbb7651775f": {
          "model_module": "@jupyter-widgets/base",
          "model_name": "LayoutModel",
          "model_module_version": "1.2.0",
          "state": {
            "_model_module": "@jupyter-widgets/base",
            "_model_module_version": "1.2.0",
            "_model_name": "LayoutModel",
            "_view_count": null,
            "_view_module": "@jupyter-widgets/base",
            "_view_module_version": "1.2.0",
            "_view_name": "LayoutView",
            "align_content": null,
            "align_items": null,
            "align_self": null,
            "border": null,
            "bottom": null,
            "display": null,
            "flex": null,
            "flex_flow": null,
            "grid_area": null,
            "grid_auto_columns": null,
            "grid_auto_flow": null,
            "grid_auto_rows": null,
            "grid_column": null,
            "grid_gap": null,
            "grid_row": null,
            "grid_template_areas": null,
            "grid_template_columns": null,
            "grid_template_rows": null,
            "height": null,
            "justify_content": null,
            "justify_items": null,
            "left": null,
            "margin": null,
            "max_height": null,
            "max_width": null,
            "min_height": null,
            "min_width": null,
            "object_fit": null,
            "object_position": null,
            "order": null,
            "overflow": null,
            "overflow_x": null,
            "overflow_y": null,
            "padding": null,
            "right": null,
            "top": null,
            "visibility": null,
            "width": null
          }
        },
        "40765bb51dca476ba05d17702e20d5fc": {
          "model_module": "@jupyter-widgets/controls",
          "model_name": "ButtonStyleModel",
          "model_module_version": "1.5.0",
          "state": {
            "_model_module": "@jupyter-widgets/controls",
            "_model_module_version": "1.5.0",
            "_model_name": "ButtonStyleModel",
            "_view_count": null,
            "_view_module": "@jupyter-widgets/base",
            "_view_module_version": "1.2.0",
            "_view_name": "StyleView",
            "button_color": null,
            "font_weight": ""
          }
        },
        "9e5e7f90c1ab4298918d4927e57310b9": {
          "model_module": "@jupyter-widgets/controls",
          "model_name": "TextareaModel",
          "model_module_version": "1.5.0",
          "state": {
            "_dom_classes": [],
            "_model_module": "@jupyter-widgets/controls",
            "_model_module_version": "1.5.0",
            "_model_name": "TextareaModel",
            "_view_count": null,
            "_view_module": "@jupyter-widgets/controls",
            "_view_module_version": "1.5.0",
            "_view_name": "TextareaView",
            "continuous_update": true,
            "description": "",
            "description_tooltip": null,
            "disabled": true,
            "layout": "IPY_MODEL_06415d4c29c3408790e0bc2089968d0e",
            "placeholder": "Feedback",
            "rows": null,
            "style": "IPY_MODEL_840e8b75d4fb42228240f0fbcac89ee4",
            "value": "Pilihan anda tepat!"
          }
        },
        "06415d4c29c3408790e0bc2089968d0e": {
          "model_module": "@jupyter-widgets/base",
          "model_name": "LayoutModel",
          "model_module_version": "1.2.0",
          "state": {
            "_model_module": "@jupyter-widgets/base",
            "_model_module_version": "1.2.0",
            "_model_name": "LayoutModel",
            "_view_count": null,
            "_view_module": "@jupyter-widgets/base",
            "_view_module_version": "1.2.0",
            "_view_name": "LayoutView",
            "align_content": null,
            "align_items": null,
            "align_self": null,
            "border": null,
            "bottom": null,
            "display": null,
            "flex": null,
            "flex_flow": null,
            "grid_area": null,
            "grid_auto_columns": null,
            "grid_auto_flow": null,
            "grid_auto_rows": null,
            "grid_column": null,
            "grid_gap": null,
            "grid_row": null,
            "grid_template_areas": null,
            "grid_template_columns": null,
            "grid_template_rows": null,
            "height": null,
            "justify_content": null,
            "justify_items": null,
            "left": null,
            "margin": null,
            "max_height": null,
            "max_width": null,
            "min_height": null,
            "min_width": null,
            "object_fit": null,
            "object_position": null,
            "order": null,
            "overflow": null,
            "overflow_x": null,
            "overflow_y": null,
            "padding": null,
            "right": null,
            "top": null,
            "visibility": null,
            "width": null
          }
        },
        "840e8b75d4fb42228240f0fbcac89ee4": {
          "model_module": "@jupyter-widgets/controls",
          "model_name": "DescriptionStyleModel",
          "model_module_version": "1.5.0",
          "state": {
            "_model_module": "@jupyter-widgets/controls",
            "_model_module_version": "1.5.0",
            "_model_name": "DescriptionStyleModel",
            "_view_count": null,
            "_view_module": "@jupyter-widgets/base",
            "_view_module_version": "1.2.0",
            "_view_name": "StyleView",
            "description_width": ""
          }
        },
        "129ccebd93d44a03b66225b6839d674a": {
          "model_module": "@jupyter-widgets/controls",
          "model_name": "CheckboxModel",
          "model_module_version": "1.5.0",
          "state": {
            "_dom_classes": [],
            "_model_module": "@jupyter-widgets/controls",
            "_model_module_version": "1.5.0",
            "_model_name": "CheckboxModel",
            "_view_count": null,
            "_view_module": "@jupyter-widgets/controls",
            "_view_module_version": "1.5.0",
            "_view_name": "CheckboxView",
            "description": "gaji_tuple = 1_000_000, 2_000_000, 3_000_000, 4_000_000, 5_000_000",
            "description_tooltip": null,
            "disabled": false,
            "indent": true,
            "layout": "IPY_MODEL_8b7e292cc44048989ae62f075b8e9175",
            "style": "IPY_MODEL_09f89736071e4486b0424415c8469557",
            "value": false
          }
        },
        "09f89736071e4486b0424415c8469557": {
          "model_module": "@jupyter-widgets/controls",
          "model_name": "DescriptionStyleModel",
          "model_module_version": "1.5.0",
          "state": {
            "_model_module": "@jupyter-widgets/controls",
            "_model_module_version": "1.5.0",
            "_model_name": "DescriptionStyleModel",
            "_view_count": null,
            "_view_module": "@jupyter-widgets/base",
            "_view_module_version": "1.2.0",
            "_view_name": "StyleView",
            "description_width": ""
          }
        },
        "9865f66bfd314d43b740fbf237ccf60f": {
          "model_module": "@jupyter-widgets/controls",
          "model_name": "CheckboxModel",
          "model_module_version": "1.5.0",
          "state": {
            "_dom_classes": [],
            "_model_module": "@jupyter-widgets/controls",
            "_model_module_version": "1.5.0",
            "_model_name": "CheckboxModel",
            "_view_count": null,
            "_view_module": "@jupyter-widgets/controls",
            "_view_module_version": "1.5.0",
            "_view_name": "CheckboxView",
            "description": "umur_tuple = (25, 20, 30, 40, 50)",
            "description_tooltip": null,
            "disabled": false,
            "indent": true,
            "layout": "IPY_MODEL_8b7e292cc44048989ae62f075b8e9175",
            "style": "IPY_MODEL_d23342f7b6694bfdb1e32cfc310244e0",
            "value": false
          }
        },
        "d23342f7b6694bfdb1e32cfc310244e0": {
          "model_module": "@jupyter-widgets/controls",
          "model_name": "DescriptionStyleModel",
          "model_module_version": "1.5.0",
          "state": {
            "_model_module": "@jupyter-widgets/controls",
            "_model_module_version": "1.5.0",
            "_model_name": "DescriptionStyleModel",
            "_view_count": null,
            "_view_module": "@jupyter-widgets/base",
            "_view_module_version": "1.2.0",
            "_view_name": "StyleView",
            "description_width": ""
          }
        },
        "42bf03ae91c745a18a95a09ad6aa9c9c": {
          "model_module": "@jupyter-widgets/controls",
          "model_name": "CheckboxModel",
          "model_module_version": "1.5.0",
          "state": {
            "_dom_classes": [],
            "_model_module": "@jupyter-widgets/controls",
            "_model_module_version": "1.5.0",
            "_model_name": "CheckboxModel",
            "_view_count": null,
            "_view_module": "@jupyter-widgets/controls",
            "_view_module_version": "1.5.0",
            "_view_name": "CheckboxView",
            "description": "kode_tuple = tuple(range(100, 501, 100))",
            "description_tooltip": null,
            "disabled": false,
            "indent": true,
            "layout": "IPY_MODEL_8b7e292cc44048989ae62f075b8e9175",
            "style": "IPY_MODEL_9814494d9cd64af58c87984e0b0d1752",
            "value": false
          }
        },
        "9814494d9cd64af58c87984e0b0d1752": {
          "model_module": "@jupyter-widgets/controls",
          "model_name": "DescriptionStyleModel",
          "model_module_version": "1.5.0",
          "state": {
            "_model_module": "@jupyter-widgets/controls",
            "_model_module_version": "1.5.0",
            "_model_name": "DescriptionStyleModel",
            "_view_count": null,
            "_view_module": "@jupyter-widgets/base",
            "_view_module_version": "1.2.0",
            "_view_name": "StyleView",
            "description_width": ""
          }
        },
        "89cee6aec4314430ab7f50afc4172276": {
          "model_module": "@jupyter-widgets/controls",
          "model_name": "CheckboxModel",
          "model_module_version": "1.5.0",
          "state": {
            "_dom_classes": [],
            "_model_module": "@jupyter-widgets/controls",
            "_model_module_version": "1.5.0",
            "_model_name": "CheckboxModel",
            "_view_count": null,
            "_view_module": "@jupyter-widgets/controls",
            "_view_module_version": "1.5.0",
            "_view_name": "CheckboxView",
            "description": "kode_tuple = tuple(x**2 for x in tuple(range(100, 501, 100)))",
            "description_tooltip": null,
            "disabled": false,
            "indent": true,
            "layout": "IPY_MODEL_8b7e292cc44048989ae62f075b8e9175",
            "style": "IPY_MODEL_71845c38d1b64fcb8c41873a70d6d66f",
            "value": false
          }
        },
        "71845c38d1b64fcb8c41873a70d6d66f": {
          "model_module": "@jupyter-widgets/controls",
          "model_name": "DescriptionStyleModel",
          "model_module_version": "1.5.0",
          "state": {
            "_model_module": "@jupyter-widgets/controls",
            "_model_module_version": "1.5.0",
            "_model_name": "DescriptionStyleModel",
            "_view_count": null,
            "_view_module": "@jupyter-widgets/base",
            "_view_module_version": "1.2.0",
            "_view_name": "StyleView",
            "description_width": ""
          }
        },
        "291fd649bb494e61bfc8dbf8894f932c": {
          "model_module": "@jupyter-widgets/controls",
          "model_name": "CheckboxModel",
          "model_module_version": "1.5.0",
          "state": {
            "_dom_classes": [],
            "_model_module": "@jupyter-widgets/controls",
            "_model_module_version": "1.5.0",
            "_model_name": "CheckboxModel",
            "_view_count": null,
            "_view_module": "@jupyter-widgets/controls",
            "_view_module_version": "1.5.0",
            "_view_name": "CheckboxView",
            "description": "kode_tuple = (x**2 for x in range(100, 501, 100))",
            "description_tooltip": null,
            "disabled": false,
            "indent": true,
            "layout": "IPY_MODEL_8b7e292cc44048989ae62f075b8e9175",
            "style": "IPY_MODEL_2c85cb2abf5446c397046089db6af15a",
            "value": true
          }
        },
        "2c85cb2abf5446c397046089db6af15a": {
          "model_module": "@jupyter-widgets/controls",
          "model_name": "DescriptionStyleModel",
          "model_module_version": "1.5.0",
          "state": {
            "_model_module": "@jupyter-widgets/controls",
            "_model_module_version": "1.5.0",
            "_model_name": "DescriptionStyleModel",
            "_view_count": null,
            "_view_module": "@jupyter-widgets/base",
            "_view_module_version": "1.2.0",
            "_view_name": "StyleView",
            "description_width": ""
          }
        },
        "e20edd67777e4d04b41daa83560dd1a6": {
          "model_module": "@jupyter-widgets/controls",
          "model_name": "ButtonModel",
          "model_module_version": "1.5.0",
          "state": {
            "_dom_classes": [],
            "_model_module": "@jupyter-widgets/controls",
            "_model_module_version": "1.5.0",
            "_model_name": "ButtonModel",
            "_view_count": null,
            "_view_module": "@jupyter-widgets/controls",
            "_view_module_version": "1.5.0",
            "_view_name": "ButtonView",
            "button_style": "",
            "description": "Cek Jawaban",
            "disabled": false,
            "icon": "",
            "layout": "IPY_MODEL_162d55538edc49ce9aad0ebc1aa09751",
            "style": "IPY_MODEL_ba85292fbd434dc683dc26efc67f0887",
            "tooltip": ""
          }
        },
        "162d55538edc49ce9aad0ebc1aa09751": {
          "model_module": "@jupyter-widgets/base",
          "model_name": "LayoutModel",
          "model_module_version": "1.2.0",
          "state": {
            "_model_module": "@jupyter-widgets/base",
            "_model_module_version": "1.2.0",
            "_model_name": "LayoutModel",
            "_view_count": null,
            "_view_module": "@jupyter-widgets/base",
            "_view_module_version": "1.2.0",
            "_view_name": "LayoutView",
            "align_content": null,
            "align_items": null,
            "align_self": null,
            "border": null,
            "bottom": null,
            "display": null,
            "flex": null,
            "flex_flow": null,
            "grid_area": null,
            "grid_auto_columns": null,
            "grid_auto_flow": null,
            "grid_auto_rows": null,
            "grid_column": null,
            "grid_gap": null,
            "grid_row": null,
            "grid_template_areas": null,
            "grid_template_columns": null,
            "grid_template_rows": null,
            "height": null,
            "justify_content": null,
            "justify_items": null,
            "left": null,
            "margin": null,
            "max_height": null,
            "max_width": null,
            "min_height": null,
            "min_width": null,
            "object_fit": null,
            "object_position": null,
            "order": null,
            "overflow": null,
            "overflow_x": null,
            "overflow_y": null,
            "padding": null,
            "right": null,
            "top": null,
            "visibility": null,
            "width": null
          }
        },
        "ba85292fbd434dc683dc26efc67f0887": {
          "model_module": "@jupyter-widgets/controls",
          "model_name": "ButtonStyleModel",
          "model_module_version": "1.5.0",
          "state": {
            "_model_module": "@jupyter-widgets/controls",
            "_model_module_version": "1.5.0",
            "_model_name": "ButtonStyleModel",
            "_view_count": null,
            "_view_module": "@jupyter-widgets/base",
            "_view_module_version": "1.2.0",
            "_view_name": "StyleView",
            "button_color": null,
            "font_weight": ""
          }
        },
        "a7194026d8ff4e86bccf90fab47cedbb": {
          "model_module": "@jupyter-widgets/controls",
          "model_name": "TextareaModel",
          "model_module_version": "1.5.0",
          "state": {
            "_dom_classes": [],
            "_model_module": "@jupyter-widgets/controls",
            "_model_module_version": "1.5.0",
            "_model_name": "TextareaModel",
            "_view_count": null,
            "_view_module": "@jupyter-widgets/controls",
            "_view_module_version": "1.5.0",
            "_view_name": "TextareaView",
            "continuous_update": true,
            "description": "",
            "description_tooltip": null,
            "disabled": true,
            "layout": "IPY_MODEL_ccba7c2e6b724644a53f736edec864fc",
            "placeholder": "Feedback",
            "rows": null,
            "style": "IPY_MODEL_c99ac636b6e242c2928feca0f4c91b30",
            "value": "Pilihan anda tepat!"
          }
        },
        "ccba7c2e6b724644a53f736edec864fc": {
          "model_module": "@jupyter-widgets/base",
          "model_name": "LayoutModel",
          "model_module_version": "1.2.0",
          "state": {
            "_model_module": "@jupyter-widgets/base",
            "_model_module_version": "1.2.0",
            "_model_name": "LayoutModel",
            "_view_count": null,
            "_view_module": "@jupyter-widgets/base",
            "_view_module_version": "1.2.0",
            "_view_name": "LayoutView",
            "align_content": null,
            "align_items": null,
            "align_self": null,
            "border": null,
            "bottom": null,
            "display": null,
            "flex": null,
            "flex_flow": null,
            "grid_area": null,
            "grid_auto_columns": null,
            "grid_auto_flow": null,
            "grid_auto_rows": null,
            "grid_column": null,
            "grid_gap": null,
            "grid_row": null,
            "grid_template_areas": null,
            "grid_template_columns": null,
            "grid_template_rows": null,
            "height": null,
            "justify_content": null,
            "justify_items": null,
            "left": null,
            "margin": null,
            "max_height": null,
            "max_width": null,
            "min_height": null,
            "min_width": null,
            "object_fit": null,
            "object_position": null,
            "order": null,
            "overflow": null,
            "overflow_x": null,
            "overflow_y": null,
            "padding": null,
            "right": null,
            "top": null,
            "visibility": null,
            "width": null
          }
        },
        "c99ac636b6e242c2928feca0f4c91b30": {
          "model_module": "@jupyter-widgets/controls",
          "model_name": "DescriptionStyleModel",
          "model_module_version": "1.5.0",
          "state": {
            "_model_module": "@jupyter-widgets/controls",
            "_model_module_version": "1.5.0",
            "_model_name": "DescriptionStyleModel",
            "_view_count": null,
            "_view_module": "@jupyter-widgets/base",
            "_view_module_version": "1.2.0",
            "_view_name": "StyleView",
            "description_width": ""
          }
        }
      }
    }
  },
  "nbformat": 4,
  "nbformat_minor": 0
}