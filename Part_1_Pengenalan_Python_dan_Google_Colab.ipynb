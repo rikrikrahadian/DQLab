{
  "cells": [
    {
      "cell_type": "markdown",
      "metadata": {
        "id": "view-in-github",
        "colab_type": "text"
      },
      "source": [
        "<a href=\"https://colab.research.google.com/github/rikrikrahadian/DQLab/blob/main/Part_1_Pengenalan_Python_dan_Google_Colab.ipynb\" target=\"_parent\"><img src=\"https://colab.research.google.com/assets/colab-badge.svg\" alt=\"Open In Colab\"/></a>"
      ]
    },
    {
      "cell_type": "markdown",
      "metadata": {
        "id": "sqCD1r_j9ANz"
      },
      "source": [
        "# ALGORITMA\n",
        "> \"*Algoritma adalah serangkaian langkah-langkah yang digunakan untuk menyelesaikan masalah atau menyelesaikan tugas.*\"\n",
        "\n",
        "Secara sederhana, algoritma adalah metode untuk menyelesaikan masalah dengan mengatur urutan langkah-langkah yang harus dilakukan. Algoritma digunakan secara luas di berbagai bidang, seperti:\n",
        "- ***Computer Science***;\n",
        "- **Matematika**;\n",
        "- **Riset Operasi**;\n",
        "- ***Artificial Intelligence***; dan\n",
        "- ***Data Science***.\n",
        "\n",
        "Agar bisa menyelesaikan masalah dengan efektif, sebuah algoritma terdiri dari instruksi-instruksi yang terstruktur, berurutan, dan tidak ambigu, sehingga prosesnya konsisten dan menghasilkan output yang diharapkan. Instruksi-instruksi dalam algoritma idealnya memiliki karakteristik berikut:\n",
        "1. **Input yang Jelas**: Setiap input yang dibutuhkan harus ditentukan dengan jelas;\n",
        "2. **Tidak Ambigu**: Setiap langkah harus jelas agar tidak menimbulkan penafsiran ganda;\n",
        "3. **Berakhir**: Algoritma harus selesai setelah sejumlah langkah yang terbatas;\n",
        "4. **Output yang Jelas**: Algoritma harus menghasilkan output yang sudah ditentukan dengan jelas;\n",
        "5. **Efektif**: Algoritma harus mampu menyelesaikan masalah sesuai yang diharapkan;\n",
        "6. **Independen Bahasa**: Algoritma harus bisa diterjemahkan ke berbagai bahasa pemrograman, tanpa bergantung pada satu bahasa tertentu.\n",
        "\n",
        "## Mengapa Algoritma Penting?\n",
        "Di zaman yang serba digital ini, memahami algoritma sangat penting, baik untuk mereka yang bekerja di bidang teknologi maupun dalam kehidupan sehari-hari. Banyak aplikasi yang kita gunakan setiap hari juga bekerja dengan algoritma. Misalnya, aplikasi pemesanan makanan mengatur proses dari memilih makanan hingga mengantarnya ke rumah kita dengan langkah-langkah yang mirip dengan algoritma memasak atau belanja bulanan. Memahami Algoritma akan membantu kita membuat keputusan yang lebih baik, bekerja lebih efisien, dan memahami proses di sekitar kita dengan lebih baik.\n",
        "\n"
      ]
    },
    {
      "cell_type": "markdown",
      "metadata": {
        "id": "noHUIEmAGZav"
      },
      "source": [
        "## Algoritma Dalam Keseharian\n",
        "Pada dasarnya algoritma bukanlah sesuatu yang asing, hampir setiap aspek dalam keseharian kita akan berurusan dengan algoritma. Permasalahan sehari-hari yang kita hadapi biasanya membutuhkan penanganan logis dan sistematis, maka secara natural algoritma akan selalu dapat diterapkan. Selain membantu menyederhanakan permasalahan yang kompleks, algoritma juga memungkinkan replikasi proses pemecahan masalah oleh individu lain yang menghadapi permasalahan serupa serta memastikan output yang sama akan dihasilkan, terlepas dari siapapun yang melaksanakan proses.\n",
        "\n",
        "Resep Masakan adalah ilustrasi paling nyata dari penerapan algoritma dalam kehidupan sehari-hari. Mengkonsumsi makanan yang telah dimasak adalah salah satu cara untuk memenuhi kebutuhan energi dan melangsungkan kehidupan. Untuk memastikan bahwa makanan yang dikonsumsi memenuhi standar selera serta nutrisi berdasarkan bahan baku tertentu, maka disusunlah tata cara memasak yang dituangkan ke dalam sebuah resep. Dengan adanya resep tersebut, maka cita rasa dan nutrisi yang serupa dapat disediakan di meja setiap rumahtangga yang menggunakannya.\n",
        "\n",
        "Tidak hanya Resep seperti dideskripsikan di atas, masih banyak hal dari keseharian kita yang sebenarnya merupakan ilustrasi penerapan dari algoritma. Untuk membantu dalam memahami bagaimana algoritma diterapkan dalam berbagai pemecahan masalah, di bawah berikut telah disusun beberapa ilustrasi lain secara lebih terperinci."
      ]
    },
    {
      "cell_type": "markdown",
      "metadata": {
        "id": "Ga-5VwgRvsnr"
      },
      "source": [
        "### Memasak Mie Goreng Instan\n",
        "Memasak mie goreng instan adalah satu-satunya keterampilan memasak yang diperlukan bagi seorang pria Indonesia sejati untuk bisa bertahan hidup.\n",
        "\n",
        "```\n",
        "Nyalakan kompor\n",
        "Isi panci dengan air bersih\n",
        "Taruh panci berisi air di kompor yang menyala\n",
        "Buka bungkus mie goreng\n",
        "Ambil mangkuk dan tuangkan bumbu instan\n",
        "Jika air di panci mendidih\n",
        "    Masukkan mie ke dalam panci\n",
        "    Jika waktu rebus masih di bawah 3 menit\n",
        "        Biarkan mie di panci\n",
        "    Matikan kompor\n",
        "    Angkat panci\n",
        "Pindahkan mie dari panci ke saringan\n",
        "Tiriskan mie di saringan\n",
        "Tuang mie yang sudah ditiriskan ke mangkuk\n",
        "Aduk mie hingga bumbu merata\n",
        "Sajikan mie goreng\n",
        "```"
      ]
    },
    {
      "cell_type": "markdown",
      "metadata": {
        "id": "HlbIPbNe9L3Y"
      },
      "source": [
        "**Coba pikirkan:** Apakah ada efisiensi yang dapat dilakukan terhadap algoritma di atas??"
      ]
    },
    {
      "cell_type": "markdown",
      "metadata": {
        "id": "G07QWLNqGo47"
      },
      "source": [
        "### Belanja Bulanan Keluarga\n",
        "\n",
        "Dalam rangka memenuhi kebutuhannya, setiap awal bulan sebuah keluarga harus melakukan belanja bulanan. Sebelum berbelanja, keluarga tersebut akan membuat sebuah daftar belanja berisikan berbagai barang serta jumlah yang diperkirakan akan dibutuhkan olehnya selama sebulan ke depan. Untuk memastikan agar siapapun yang berbelanja akan membawa pulang berbagai barang yang sesuai dengan kebutuhan, maka keluarga tersebut membuat sebuah prosedur belanja bulanan seperti berikut ini:\n",
        "\n",
        "```\n",
        "Buka `Daftar Belanja`\n",
        "Jika seluruh `Item` pada `Daftar Belanja` sudah tercoret\n",
        "    Batalkan belanja bulanan\n",
        "Ambil `Trolley`\n",
        "Untuk setiap `Item` pada `Daftar Belanja`\n",
        "    Cari dan kumpulkan setiap `Merek` tersedia dari `Item`\n",
        "    Buat `Daftar Merek` berisi setiap `Merek` dari `Item` yang tersedia\n",
        "    Jika jumlah `Merek` pada `Daftar Merek` lebih dari 1\n",
        "        Untuk setiap `Merek` pada `Daftar Merek`\n",
        "            Hitung `Harga per satuan` dari `Merek`\n",
        "            Proses `Merek` selanjutnya\n",
        "        Urutkan `Merek` pada `Daftar Merek` berdasarkan `Harga per satuan`\n",
        "        Masukkan `Item` dengan `Harga per satuan` paling rendah ke `Trolley` sebanyak jumlah tertera pada `Daftar Belanja`\n",
        "        Coret `Item` pada `Daftar Belanja`\n",
        "    Jika `Merek` pada `Ragam Item` hanya 1\n",
        "        Masukkan `Item` ke `Trolley` sebanyak jumlah tertera pada `Daftar Belanja`\n",
        "        Coret `Item` pada `Daftar Belanja`\n",
        "    Lanjutkan pencarian ke `Item` berikutnya\n",
        "Bawa `Trolley` ke kasir dan lakukan pembayaran\n",
        "Jika terdapat `Item` pada `Daftar Belanja` yang belum tercoret\n",
        "    Pergi ke toko lain, ulangi proses belanja dari awal\n",
        "```"
      ]
    },
    {
      "cell_type": "markdown",
      "metadata": {
        "id": "lpmlV-yexqfs"
      },
      "source": [
        "**Coba pikirkan:** Adakah proses yang perlu ditambahkan/dikurangi dari algoritma di atas??"
      ]
    },
    {
      "cell_type": "markdown",
      "metadata": {
        "id": "pevDAA3WNUx2"
      },
      "source": [
        "### Sensus Tumbuh Kembang Anak\n",
        "Dalam rangka melakukan analisis kecukupan gizi siswa Sekolah Dasar (SD) di sebuah Kabupaten, maka setiap Kepala SD di Kabupaten tersebut diperintahkan untuk melakukan Sensus **Indikator Tumbuh Kembang** anak terhadap seluruh murid yang terdaftar di sekolahnya. Untuk memastikan agar pelaksanaan dan output dari sensus sesuai dengan seharusnya, maka pelaksana sensus menetapkan sebuah prosedur sederhana yang harus dipatuhi oleh setiap kepala sekolah seperti berikut ini:\n",
        "\n",
        "```\n",
        "Buka `Daftar Murid`, ambil data dari kolom `Nama`, `Jenis Kelamin`, dan `Tanggal Lahir`\n",
        "Untuk setiap `Murid` pada `Daftar Murid`\n",
        "    Panggil `Murid` menghadap ke UKS\n",
        "    Untuk setiap `Indikator` pada `Indikator Tumbuh Kembang`\n",
        "        Ukur dan catat `Indikator` dari `Murid`\n",
        "        Lanjutkan pengukuran dan pencatatan untuk `Indikator` berikutnya\n",
        "    Tandai `Murid` sudah disurvey pada `Daftar Murid`\n",
        "    Lanjutkan proses ke `Murid` berikutnya\n",
        "Hitung `Umur` seluruh `Murid` berdasarkan `Tanggal Lahir`\n",
        "Tentukan `Kelompok Usia` setiap `Murid` berdasarkan hasil perhitungan `Umur`\n",
        "Hitung statistics:\n",
        "  1. Kelompokkan data berdasarkan `Kelompok Usia`\n",
        "  2. Hitung `mean`, `min`, `max`, & `stdev` per `Kelompok Usia`\n",
        "```"
      ]
    },
    {
      "cell_type": "markdown",
      "metadata": {
        "id": "6fFrvX9mx_nH"
      },
      "source": [
        "\n",
        "### Kesimpulan\n",
        "Algoritma adalah bagian integral dari kehidupan kita, dari hal-hal sederhana seperti memasak mie hingga proses yang lebih kompleks dalam dunia teknologi. Dengan memahami dan menerapkan algoritma, kita dapat menyelesaikan masalah lebih efisien serta memastikan hasil yang konsisten dan dapat direplikasi."
      ]
    },
    {
      "cell_type": "markdown",
      "metadata": {
        "id": "tx2J11yIyphO"
      },
      "source": [
        "# **EXERCISES**: Getting to Know `Python`\n",
        "___\n",
        "> Untuk dapat mengikuti dan menjalankan beberapa *exercises* di bawah berikut, silahkan unduh modul [functions](https://drive.google.com/file/d/1dXMuGyplSRowrLZ-_tvowhavE7rJ3Xw_/view?usp=sharing) terlebih dahulu, lalu unggah modul tersebut ke `session storage` sehingga berbagai fungsi yang telah dibuat di dalamnya dapat di*import* ke `notebook` ini.\n",
        "___"
      ]
    },
    {
      "cell_type": "markdown",
      "metadata": {
        "id": "Irn5C_L4Z12t"
      },
      "source": [
        "## EXERCISE 1: Getting ready"
      ]
    },
    {
      "cell_type": "code",
      "execution_count": null,
      "metadata": {
        "id": "pO1fzVPu65eC"
      },
      "outputs": [],
      "source": [
        "# Import fungsi-fungsi yang diperlukan dari modul `functions`\n",
        "from functions import generate_deret, print_satu_persatu"
      ]
    },
    {
      "cell_type": "code",
      "execution_count": null,
      "metadata": {
        "id": "nlzqyFLiX22H",
        "colab": {
          "base_uri": "https://localhost:8080/"
        },
        "outputId": "9723a13f-77c9-415c-922e-236e806b42d7"
      },
      "outputs": [
        {
          "output_type": "execute_result",
          "data": {
            "text/plain": [
              "function"
            ]
          },
          "metadata": {},
          "execution_count": 7
        }
      ],
      "source": [
        "# Melakukan pengecekan jenis dari sebuah object\n",
        "type(generate_deret)"
      ]
    },
    {
      "cell_type": "code",
      "execution_count": null,
      "metadata": {
        "id": "dYVCuh-KYEkX",
        "colab": {
          "base_uri": "https://localhost:8080/"
        },
        "outputId": "9e2265a3-cdfb-4ec8-fefb-f631efaa935b"
      },
      "outputs": [
        {
          "output_type": "stream",
          "name": "stdout",
          "text": [
            "Help on function generate_deret in module functions:\n",
            "\n",
            "generate_deret(jumlah_elemen: int, batas_bawah: int, batas_atas: int, seed: int = 10) -> list\n",
            "    FUNGSI UNTUK MEN-GENERATE DERET ACAK\n",
            "    PARAMETERS:\n",
            "      1. jumlah_elemen : Int, jumlah elemen deret yang akan digenerate;\n",
            "      2. batas_bawah : Int, nilai batas bawah dari angka yang akan digenerate;\n",
            "      3. batas_atas : Int, nilai batas atas dari angka yang akan digenerate;\n",
            "      4. seed : Int, nilai seed bagi fungsi random, agar deret yang sama dapat\n",
            "           digenerate ulang (nilai default = 10).\n",
            "\n"
          ]
        }
      ],
      "source": [
        "# Memanggil dokumentasi dari sebuah object\n",
        "help(generate_deret)"
      ]
    },
    {
      "cell_type": "markdown",
      "metadata": {
        "id": "Bbp1ju3aVaDp"
      },
      "source": [
        "Sekarang cobalah untuk menggunakan kedua perintah di atas untuk dua fungsi sebagai berikut:\n",
        "1. `print_satu_persatu`; dan\n",
        "2. `print`."
      ]
    },
    {
      "cell_type": "code",
      "execution_count": null,
      "metadata": {
        "id": "EcGhJDd9X69F",
        "colab": {
          "base_uri": "https://localhost:8080/"
        },
        "outputId": "87806186-5782-4b0b-f85c-919ec9f815fd"
      },
      "outputs": [
        {
          "output_type": "execute_result",
          "data": {
            "text/plain": [
              "function"
            ]
          },
          "metadata": {},
          "execution_count": 9
        }
      ],
      "source": [
        "# Cek jenis object `print_satu_persatu`\n",
        "type(print_satu_persatu)"
      ]
    },
    {
      "cell_type": "code",
      "execution_count": null,
      "metadata": {
        "id": "Q6iI3AzSKR_C",
        "colab": {
          "base_uri": "https://localhost:8080/"
        },
        "outputId": "02eefa64-da48-4546-fa98-34ad66bd5c95"
      },
      "outputs": [
        {
          "output_type": "stream",
          "name": "stdout",
          "text": [
            "Help on function print_satu_persatu in module functions:\n",
            "\n",
            "print_satu_persatu(jdl: str, deret: list, margin: int) -> None\n",
            "    Fungsi untuk menampilkan isi sebuah list secara animasi\n",
            "    PARAMETERS:\n",
            "        1. jdl -> string yang ditampilkan sebagai dari judul deret;\n",
            "        2. deret -> list yang akan dianimasikan;\n",
            "        3. margin -> sebuah angka bulat yang menentukan panjang margin layar.\n",
            "\n"
          ]
        }
      ],
      "source": [
        "# Lihat dokumentasi `print_satu_persatu`\n",
        "help(print_satu_persatu)"
      ]
    },
    {
      "cell_type": "code",
      "execution_count": null,
      "metadata": {
        "id": "LljyXQnAYThF",
        "colab": {
          "base_uri": "https://localhost:8080/"
        },
        "outputId": "e658770f-7dcc-4e80-a8f7-c00ea10def70"
      },
      "outputs": [
        {
          "output_type": "execute_result",
          "data": {
            "text/plain": [
              "builtin_function_or_method"
            ]
          },
          "metadata": {},
          "execution_count": 11
        }
      ],
      "source": [
        "# Cek jenis object `print`\n",
        "type(print)"
      ]
    },
    {
      "cell_type": "code",
      "execution_count": null,
      "metadata": {
        "id": "mZrUlDT0YW4F",
        "colab": {
          "base_uri": "https://localhost:8080/"
        },
        "outputId": "9f23b00c-bfea-45a0-fc77-029f73bb5945"
      },
      "outputs": [
        {
          "output_type": "stream",
          "name": "stdout",
          "text": [
            "Help on built-in function print in module builtins:\n",
            "\n",
            "print(*args, sep=' ', end='\\n', file=None, flush=False)\n",
            "    Prints the values to a stream, or to sys.stdout by default.\n",
            "    \n",
            "    sep\n",
            "      string inserted between values, default a space.\n",
            "    end\n",
            "      string appended after the last value, default a newline.\n",
            "    file\n",
            "      a file-like object (stream); defaults to the current sys.stdout.\n",
            "    flush\n",
            "      whether to forcibly flush the stream.\n",
            "\n"
          ]
        }
      ],
      "source": [
        "# Lihat dokumentasi `print`\n",
        "help(print)"
      ]
    },
    {
      "cell_type": "markdown",
      "metadata": {
        "id": "X1llBIIk5Plk"
      },
      "source": [
        "## EXERCISE 2: Creating a `list` of random numbers\n",
        "\n",
        "Dalam *exercise* ini, kita akan melakukan beberapa hal di bawah berikut:\n",
        "1. Melakukan `assignment` nilai ke dalam `variable`;\n",
        "2. Menggunakan `variable` sebagai `argument` bagi berbagai `parameter` dalam sebuah `function`"
      ]
    },
    {
      "cell_type": "code",
      "execution_count": null,
      "metadata": {
        "id": "NDZ98nq3Q1Jk",
        "colab": {
          "base_uri": "https://localhost:8080/"
        },
        "outputId": "7442c8c6-73f1-4a8d-95b5-2ecc593a579c"
      },
      "outputs": [
        {
          "output_type": "stream",
          "name": "stdout",
          "text": [
            "Deret acak yang dihasilkan: [74894, 4270, 56215, 63250, 75771, 1944, 27013, 60631, 64395, 36375]"
          ]
        }
      ],
      "source": [
        "\"\"\"\n",
        "Script di bawah berikut adalah sebuah rangkaian proses (Input - Process - Output)\n",
        "yang dilakukan untuk menghasilkan sebuah object python berupa `list`\n",
        "yang berisikan 10 angka `integer` acak dengan rentang nilai 0 - 100_000.\n",
        "\"\"\"\n",
        "# INPUTS:\n",
        "# 1. Tentukan jumlah elemen `list`\n",
        "jml_elemen = 10\n",
        "# 2. Tentukan batas bawah nilai elemen\n",
        "bts_bawah = 0\n",
        "# 3. Tentukan batas atas nilai elemen\n",
        "bts_atas = 100000\n",
        "# PROCESS:\n",
        "# Buat `list`, masukkan variabel-variabel INPUTS ke fungsi `generate_deret`\n",
        "deret = generate_deret(jumlah_elemen=jml_elemen, batas_bawah=bts_bawah, batas_atas=bts_atas)\n",
        "# OUTPUT:\n",
        "# Tampilkan isi `list` menggunakan fungsi `print_satu_persatu`\n",
        "print_satu_persatu(jdl=\"Deret acak yang dihasilkan:\", deret=deret, margin=0)"
      ]
    },
    {
      "cell_type": "code",
      "source": [
        "print(deret)"
      ],
      "metadata": {
        "colab": {
          "base_uri": "https://localhost:8080/"
        },
        "id": "uaB2Buv3Ja1K",
        "outputId": "0bf6083d-16e0-43d1-8244-8e031e6927ed"
      },
      "execution_count": null,
      "outputs": [
        {
          "output_type": "stream",
          "name": "stdout",
          "text": [
            "[74894, 4270, 56215, 63250, 75771, 1944, 27013, 60631, 64395, 36375]\n"
          ]
        }
      ]
    },
    {
      "cell_type": "code",
      "source": [
        "jml_elemen"
      ],
      "metadata": {
        "colab": {
          "base_uri": "https://localhost:8080/"
        },
        "id": "u9oHFLFjLBiJ",
        "outputId": "c4bba156-9ecf-45fe-af6e-11d7c30b7320"
      },
      "execution_count": null,
      "outputs": [
        {
          "output_type": "execute_result",
          "data": {
            "text/plain": [
              "10"
            ]
          },
          "metadata": {},
          "execution_count": 18
        }
      ]
    },
    {
      "cell_type": "markdown",
      "metadata": {
        "id": "h5KpiIZOVHxU"
      },
      "source": [
        "Amati Script di atas:\n",
        "1. Ada berapa baris pada script di atas?\n",
        "4. Adakah bagian dari script di atas yang memberikan gambaran umum terkait tujuan dan `output` dari proses yang dilakukan?\n",
        "5. Ada berapa langkah yang dilakukan pada script di atas?\n",
        "3. Apakah setiap baris perintah pada script di atas dieksekusi oleh python tanpa terkecuali?"
      ]
    },
    {
      "cell_type": "markdown",
      "metadata": {
        "id": "t-x12EBE7hEC"
      },
      "source": [
        "## EXERCISE 3: *Sorting* things out\n",
        "> \"*Sorting adalah proses untuk mengurutkan angka/karakter berdasarkan urutan tertentu (Descending/Ascending)*.\"\n",
        "\n",
        "*Sorting* merupakan salah satu proses terkomputerisasi dasar penting yang menjadi bagian integral dari algoritma proses terkomputerisasi lanjutan lainnya. Sebagai ilustrasi, dalam setiap algoritma *search*, proses *sorting* merupakan proses pertama yang dikenakan terhadap data, sebelum pencarian dilakukan. Seperti kata pepatah \"Banyak jalan menuju Roma\", demikian pula halnya dengan proses melakukan *sorting*, terdapat banyak alternatif algoritma yang dapat dipilih, mulai dari yang paling sederhana hingga yang teramat kompleks. Oleh karena itu, pemahaman atas bagaimana berbagai proses *sorting* yang berbeda dilakukan, merupakan sebuah langkah awal untuk mengerti berbagai alternatif algoritma lain yang tersedia untuk menyelesaikan suatu permasalahan.\n",
        "\n",
        "Meskipun banyak alternatif algoritma yang tersedia bagi proses *sorting*, namun mempertimbangkan sisi kemudahan pembelajaran dan keterbatasan waktu, maka pada *exercise* ini hanya akan dilakukan pembahasan terkait dua algoritma *sorting* klasik, yaitu:\n",
        "1. ***Bubble Sorting***; dan\n",
        "2. ***Quick Sorting***.\n",
        "\n",
        "Pada exercise ini, kita akan melakukan proses *sorting* terhadap sebuah deret acak dengan menggunakan kedua algoritma tersebut, untuk membandingkan *output* dari keduanya."
      ]
    },
    {
      "cell_type": "markdown",
      "metadata": {
        "id": "XKvxKH6MXcjm"
      },
      "source": [
        "---\n",
        "### *Bubble Sorting*\n",
        "Algoritma *Bubble Sorting* menerapkan teknik ***Nested Loop***, dimana sebuah proses iterasi dilakukan di dalam sebuah iterasi lain. Sehingga algoritma ini akan dicirikan dengan terdapatnya sebuah ***inner loop*** dalam sebuah ***outer loop***. *Nested Loop* ini dilakukan untuk memastikan agar output yang dihasilkan dari proses sesuai dengan harapan.\n",
        "\n",
        "Pada *bubble sorting* ini, ***inner loop*** akan berupa pengulangan proses **perbandingan nilai dan penukaran posisi** untuk setiap elemen pada `deret` dari elemen paling kiri hingga paling kanan. Selanjutnya, setiap `deret` hasil ***inner loop*** akan diproses ulang sebanyak jumlah elemen pada `deret` oleh sebuah ***outer loop***.\n",
        "\n",
        "Adapun algoritma dimaksud, akan seperti dituliskan di bawah berikut:\n",
        "```\n",
        "Terima `deret` untuk disort\n",
        "Tentukan `banyaknya_proses` berdasarkan jumlah elemen pada `deret`\n",
        "Untuk setiap `urutan_proses` pada `banyaknya_proses`\n",
        "    Untuk setiap `posisi_elemen` pada `deret`\n",
        "        Jika elemen ke-(`posisi_elemen`) > elemen ke-(`posisi_elemen`+1)\n",
        "            Tukar posisi elemen ke-(`posisi_elemen`) dengan elemen ke-(`posisi_elemen`+1)\n",
        "        Lanjut ke `posisi_elemen` berikutnya\n",
        "    Lanjut ke `urutan_proses` berikutnya\n",
        "```\n",
        "---"
      ]
    },
    {
      "cell_type": "code",
      "execution_count": null,
      "metadata": {
        "id": "JQbuiSur7oAw"
      },
      "outputs": [],
      "source": [
        "# Import fungsi `bubble_sort` yang diperlukan dari `functions`\n",
        "from functions import bubble_sort"
      ]
    },
    {
      "cell_type": "code",
      "execution_count": null,
      "metadata": {
        "id": "kG09YqklML7Z",
        "colab": {
          "base_uri": "https://localhost:8080/"
        },
        "outputId": "d26f413c-cb40-4339-99ba-93e7a14f98e5"
      },
      "outputs": [
        {
          "output_type": "stream",
          "name": "stdout",
          "text": [
            "Help on function bubble_sort in module functions:\n",
            "\n",
            "bubble_sort(deret: list) -> list\n",
            "    Fungsi untuk melakukan pengurutan elemen pada suatu deret \n",
            "      dengan menggunakan algoritma 'bubble sort`\n",
            "    PARAMETERS:\n",
            "        1. deret -> list yang belum disortir.\n",
            "\n"
          ]
        }
      ],
      "source": [
        "# Cek dokumentasi fungsi `bubble_sort`\n",
        "help(bubble_sort)"
      ]
    },
    {
      "cell_type": "code",
      "source": [
        "deret"
      ],
      "metadata": {
        "colab": {
          "base_uri": "https://localhost:8080/"
        },
        "id": "TIKw9GPmO-mz",
        "outputId": "ca32473a-a5f3-4ea3-bd47-b0c4a41d9c02"
      },
      "execution_count": null,
      "outputs": [
        {
          "output_type": "execute_result",
          "data": {
            "text/plain": [
              "[74894, 4270, 56215, 63250, 75771, 1944, 27013, 60631, 64395, 36375]"
            ]
          },
          "metadata": {},
          "execution_count": 22
        }
      ]
    },
    {
      "cell_type": "code",
      "execution_count": null,
      "metadata": {
        "id": "-NIMcCOl8hiA",
        "colab": {
          "base_uri": "https://localhost:8080/"
        },
        "outputId": "cde313d8-60fc-4c9b-a7cd-915dec27c71f"
      },
      "outputs": [
        {
          "output_type": "stream",
          "name": "stdout",
          "text": [
            "Hasil Bubble Sort: [1944, 4270, 27013, 36375, 56215, 60631, 63250, 64395, 74894, 75771]"
          ]
        }
      ],
      "source": [
        "\"\"\"Script di bawah berikut bertujuan untuk menampilkan hasil sorting menggunakan algoritma `bubble sort`\"\"\"\n",
        "# 1. Urut `deret` dengan fungsi `bubble_sort`, simpan pada variabel `deret_bubble_sort`\n",
        "deret_bubble_sort = bubble_sort(deret)\n",
        "# 2. Tampilkan Hasil sorting menggunakan fungsi `print_satu_persatu`\n",
        "print_satu_persatu(jdl=\"Hasil Bubble Sort:\", deret=deret_bubble_sort, margin=0)"
      ]
    },
    {
      "cell_type": "markdown",
      "metadata": {
        "id": "1M9tosuEfIAX"
      },
      "source": [
        "---\n",
        "### *Quick Sorting*\n",
        "Algoritma *Quick Sorting* menerapkan teknik ***Function Recursion***, dimana suatu fungsi akan memanggil dirinya sendiri untuk memproses *output*nya. Sehingga algoritma ini akan dicirikan dengan terdapatnya pemanggilan dirinya sendiri untuk memproses output yang dihasilkannya. Hal penting yang perlu ditentukan pada teknis *recursive* adalah untuk menghindari terjadinya pemrosesan tanpa akhir (*infinite*). Oleh karena itu pada algoritma ini akan diperlukan penetapan kondisi dimana proses *recursive* harus dihentikan.\n",
        "\n",
        "Proses *recursive* yang dilakukan pada saat menerapkan algoritma *quick sorting* melibatkan tiga proses berikut ini:\n",
        "1. Pemilihan sebuah elemen dari `deret` untuk bertindak sebagai **pivot**, biasanya dipilih dari elemen paling tengah, paling awal, atau paling ujung pada `deret`;\n",
        "2. Proses **partisi** yang memisahkan elemen deret menjadi tiga kelompok `deret`, yaitu `deret kiri`, `deret tengah`, dan `deret kanan`, dengan cara membandingkan nilai setiap elemen dengan nilai **pivot**; dan\n",
        "3. Memanggil dirinya sendiri untuk memproses setiap kelompok `deret kiri` dan `deret kanan` yang dihasilkan.\n",
        "\n",
        "Agar proses *recursive* di atas tidak berlangsung selamanya, maka perlu ditentukan sebuah kondisi penghentian proses, yaitu ketika jumlah elemen pada `deret` yang diproses lebih kecil atau sama dengan satu.\n",
        "\n",
        "Adapun algoritma dimaksud, akan seperti dituliskan di bawah berikut:\n",
        "```\n",
        "Terima `deret` untuk disort\n",
        "Jika jumlah elemen pada `deret`<=1\n",
        "    maka `deret` tidak perlu diproses\n",
        "Set nilai `pivot` = elemen `deret` paling tengah\n",
        "Pisah elemen `deret` bernilai < `pivot` ke deret `kiri`\n",
        "Pisah elemen `deret` bernilai == `pivot` ke deret `tengah`\n",
        "Pisah elemen `deret` bernilai > `pivot` ke deret `kanan`\n",
        "Lakukan langkah 1 - 7 terhadap `kiri`\n",
        "Lakukan langkah 1 - 7 terhadap `kanan`\n",
        "Gabungkan hasil langkah ke-8 dengan `tengah` dan hasil langkah ke-9\n",
        "```\n",
        "---"
      ]
    },
    {
      "cell_type": "code",
      "execution_count": null,
      "metadata": {
        "id": "MPJyb-sJF123"
      },
      "outputs": [],
      "source": [
        "# Import fungsi `quick_sort` yang diperlukan dari `functions`\n",
        "from functions import quick_sort"
      ]
    },
    {
      "cell_type": "code",
      "execution_count": null,
      "metadata": {
        "id": "oZ5hcWMbMrS8",
        "colab": {
          "base_uri": "https://localhost:8080/"
        },
        "outputId": "2a8f2c42-fb2d-4da8-9f32-2b20ac9c0a82"
      },
      "outputs": [
        {
          "output_type": "stream",
          "name": "stdout",
          "text": [
            "Help on function quick_sort in module functions:\n",
            "\n",
            "quick_sort(deret: list) -> list\n",
            "    Fungsi untuk mengurutkan elemen pada suatu deret \n",
            "      yang dilakukan dengan algoritma 'quick sort`\n",
            "    PARAMETERS:\n",
            "        1. deret -> list yang belum disortir.\n",
            "\n"
          ]
        }
      ],
      "source": [
        "# Cek dokumentasi fungsi `quick_sort`\n",
        "help(quick_sort)"
      ]
    },
    {
      "cell_type": "code",
      "execution_count": null,
      "metadata": {
        "id": "OOM5dl-dGCPX",
        "colab": {
          "base_uri": "https://localhost:8080/"
        },
        "outputId": "348cbb0b-ffdd-40f9-93e9-e0a0ddc6e5cd"
      },
      "outputs": [
        {
          "output_type": "stream",
          "name": "stdout",
          "text": [
            "Hasil Quick sort: [1944, 4270, 27013, 36375, 56215, 60631, 63250, 64395, 74894, 75771]"
          ]
        }
      ],
      "source": [
        "\"\"\"Script di bawah berikut bertujuan untuk menampilkan hasil sorting menggunakan algoritma `quick sort`\"\"\"\n",
        "# 1. Urut deret dengan `quick_sort`, simpan pada variabel `deret_quick_sort`\n",
        "deret_quick_sort = quick_sort(deret)\n",
        "# 2. Tampilkan `deret_quick_sort` menggunakan print_satu_persatu\n",
        "print_satu_persatu(\"Hasil Quick sort:\", deret_quick_sort, 0)"
      ]
    },
    {
      "cell_type": "code",
      "execution_count": null,
      "metadata": {
        "id": "BPqy-85tM6W0",
        "colab": {
          "base_uri": "https://localhost:8080/"
        },
        "outputId": "f598638d-f568-4ca8-cd24-6d56d4fc5411"
      },
      "outputs": [
        {
          "output_type": "execute_result",
          "data": {
            "text/plain": [
              "True"
            ]
          },
          "metadata": {},
          "execution_count": 26
        }
      ],
      "source": [
        "# Cek apakah `deret_bubble_sort` sama dengan `deret_quick_sort`\n",
        "deret_bubble_sort==deret_quick_sort"
      ]
    },
    {
      "cell_type": "markdown",
      "metadata": {
        "id": "2O81cc8JKSI1"
      },
      "source": [
        "**Efektivitas** : Penerapan algoritma baik `Bubble` maupun `Quick` *sorting* terhadap sebuah deret yang acak, akan menghasilkan output berupa deret terurut yang serupa!!"
      ]
    },
    {
      "cell_type": "markdown",
      "metadata": {
        "id": "xLr9H10Aw2zB"
      },
      "source": [
        "## EXERCISE 4: Bubble Vs Quick Sorting\n",
        "Seperti telah ditunjukkan pada **EXERCISE 3** terdahulu, kedua algoritma *sorting* sama efektifnya dalam mencapai tujuan proses, dimana output yang dihasilkan keduanya adalah identik. Pada **EXERCISE** ini, kita akan mencoba untuk melihat perbedaan mendasar dari kedua algoritma *sorting* tersebut dari segi cara pemrosesan secara visual sederhana."
      ]
    },
    {
      "cell_type": "markdown",
      "metadata": {
        "id": "q0BMK9cJxJNC"
      },
      "source": [
        "### How Bubble Sorting works\n",
        "Agar dapat memvisualisasikan langkah-langkah yang dilakukan ketika menjalankan algoritma *Bubble Sorting*, maka fungsi `bubble_sort` yang sudah kita pergunakan sebelumnya di atas telah dimodifikasi menjadi sebuah fungsi berbeda bernama `bubble_sort_show`."
      ]
    },
    {
      "cell_type": "code",
      "execution_count": null,
      "metadata": {
        "id": "eZWki4bCK-Hs"
      },
      "outputs": [],
      "source": [
        "# 0. Import fungsi `bubble_sort_show` dari functions\n",
        "from functions import bubble_sort_show"
      ]
    },
    {
      "cell_type": "code",
      "execution_count": null,
      "metadata": {
        "id": "hJcMnkieOS_a",
        "colab": {
          "base_uri": "https://localhost:8080/"
        },
        "outputId": "2e280e2d-cb46-4e5e-ddae-aafd92817355"
      },
      "outputs": [
        {
          "output_type": "stream",
          "name": "stdout",
          "text": [
            "Help on function bubble_sort_show in module functions:\n",
            "\n",
            "bubble_sort_show(deret: list, N: int) -> list\n",
            "    Fungsi untuk melakukan visualisasi bagi proses pengurutan deret \n",
            "      yang dilakukan dengan menggunakan algoritma `bubble sort`\n",
            "    PARAMETERS:\n",
            "        1. deret -> list yang belum disortir;\n",
            "        2. N -> int dari angka lebar layar pada tampilan.\n",
            "\n"
          ]
        }
      ],
      "source": [
        "# Cek Dokumentasi fungsi `bubble_sort_show`\n",
        "help(bubble_sort_show)"
      ]
    },
    {
      "cell_type": "code",
      "execution_count": null,
      "metadata": {
        "id": "lcPw7ufMwTSr",
        "colab": {
          "base_uri": "https://localhost:8080/"
        },
        "outputId": "5d808c14-ecf1-433f-c727-644dd2869d73"
      },
      "outputs": [
        {
          "output_type": "stream",
          "name": "stdout",
          "text": [
            " DERET AWAL ========================================================================================\n",
            "                [74894, 4270, 56215, 63250, 75771, 1944, 27013, 60631, 64395, 36375]                \n",
            "====================================================================================================\n",
            "         Proses ke-1 : [4270, 56215, 63250, 74894, 1944, 27013, 60631, 64395, 36375, 75771]         \n",
            "         Proses ke-2 : [4270, 56215, 63250, 1944, 27013, 60631, 64395, 36375, 74894, 75771]         \n",
            "         Proses ke-3 : [4270, 56215, 1944, 27013, 60631, 63250, 36375, 64395, 74894, 75771]         \n",
            "         Proses ke-4 : [4270, 1944, 27013, 56215, 60631, 36375, 63250, 64395, 74894, 75771]         \n",
            "         Proses ke-5 : [1944, 4270, 27013, 56215, 36375, 60631, 63250, 64395, 74894, 75771]         \n",
            "         Proses ke-6 : [1944, 4270, 27013, 36375, 56215, 60631, 63250, 64395, 74894, 75771]         \n",
            "         Proses ke-7 : [1944, 4270, 27013, 36375, 56215, 60631, 63250, 64395, 74894, 75771]         \n",
            "         Proses ke-8 : [1944, 4270, 27013, 36375, 56215, 60631, 63250, 64395, 74894, 75771]         \n",
            "         Proses ke-9 : [1944, 4270, 27013, 36375, 56215, 60631, 63250, 64395, 74894, 75771]         \n",
            "        Proses ke-10 : [1944, 4270, 27013, 36375, 56215, 60631, 63250, 64395, 74894, 75771]         \n",
            "======================================================================================= DERET AKHIR \n",
            "                [1944, 4270, 27013, 36375, 56215, 60631, 63250, 64395, 74894, 75771]                \n",
            "====================================================================================================\n"
          ]
        }
      ],
      "source": [
        "\"\"\"\n",
        "Scripts di bawah berikut bertujuan untuk menunjukkan secara visual setiap langkah\n",
        "pada proses pengurutan yang dilakukan dengan menggunakan algoritma `bubble_sort`\n",
        "\"\"\"\n",
        "# 1. Setting margin Tampilan\n",
        "margin = 100\n",
        "# 2. Cetak garis Pembatas awal\n",
        "print(f\"{' DERET AWAL ':=<{margin}}\")\n",
        "# 3. Cetak Deret awal yang akan di sort\n",
        "print_satu_persatu(\"\", deret, margin)\n",
        "# 4. Cetak Garis Pembatas\n",
        "print(f\"\\n{'':=^{margin}}\")\n",
        "# 5. Visualisasikan proses Sorting dan simpan hasilnya pada `new_deret`\n",
        "new_deret = bubble_sort_show(deret, margin)\n",
        "# 6. Cetak Garis Pembatas\n",
        "print(f\"{' DERET AKHIR ':=>{margin}}\")\n",
        "# 7. Cetak hasil sorting\n",
        "print_satu_persatu(\"\", new_deret, margin)\n",
        "# 8. Cetak garis pembatas akhir\n",
        "print(f\"\\n{'':=^{margin}}\")"
      ]
    },
    {
      "cell_type": "markdown",
      "metadata": {
        "id": "1yq5Qv2kxGIs"
      },
      "source": [
        "### How Quick Sorting works\n",
        "Serupa dengan sebelumnya, untuk memvisualisasikan proses yang terjadi di dalam sebuah algoritma *quick sorting*, maka telah dilakukan modifikasi terhadap fungsi `quick_sort` menjadi fungsi lain bernama `quick_sort_show`."
      ]
    },
    {
      "cell_type": "code",
      "execution_count": null,
      "metadata": {
        "id": "qaZTzrSlMCQ0"
      },
      "outputs": [],
      "source": [
        "# 0. Import fungsi `quick_sort_show` dari `functions`\n",
        "from functions import quick_sort_show"
      ]
    },
    {
      "cell_type": "code",
      "execution_count": null,
      "metadata": {
        "id": "thEWiJbzPt6O",
        "colab": {
          "base_uri": "https://localhost:8080/"
        },
        "outputId": "a20ae42d-96a2-4205-fdef-803663ebb8ca"
      },
      "outputs": [
        {
          "output_type": "stream",
          "name": "stdout",
          "text": [
            "Help on function quick_sort_show in module functions:\n",
            "\n",
            "quick_sort_show(deret: list, N: int, recursive=1) -> list\n",
            "    Fungsi untuk memvisualisasikan proses pengurutan elemen suatu deret \n",
            "      yang dilakukan dengan algoritma `quick sort`\n",
            "    PARAMETERS:\n",
            "        1. deret -> list yang belum di sortir;\n",
            "        2. N -> int berupa angka lebar layar;\n",
            "        3. recursive -> penomoran proses dengan default angka 1.\n",
            "\n"
          ]
        }
      ],
      "source": [
        "# Cek dokumentasi `quick_sort_show`\n",
        "help(quick_sort_show)"
      ]
    },
    {
      "cell_type": "code",
      "execution_count": null,
      "metadata": {
        "id": "Zwpsz3TlCgH0",
        "colab": {
          "base_uri": "https://localhost:8080/"
        },
        "outputId": "09d30d78-77ad-414d-b74c-2a511bec4c33"
      },
      "outputs": [
        {
          "output_type": "stream",
          "name": "stdout",
          "text": [
            " DERET AWAL ========================================================================================\n",
            "                [74894, 4270, 56215, 63250, 75771, 1944, 27013, 60631, 64395, 36375]                \n",
            "=========================================== PARTISI KE-1 ===========================================\n",
            "                [74894, 4270, 56215, 63250, 75771, 1944, 27013, 60631, 64395, 36375]                \n",
            "------------------------------------------- PIVOT = 1944 -------------------------------------------\n",
            "\n",
            "                                   Elemen bernilai = 1944: [1944]                                   \n",
            "       Elemen bernilai > 1944: [74894, 4270, 56215, 63250, 75771, 27013, 60631, 64395, 36375]       \n",
            "=========================================== PARTISI KE-2 ===========================================\n",
            "                   [74894, 4270, 56215, 63250, 75771, 27013, 60631, 64395, 36375]                   \n",
            "------------------------------------------ PIVOT = 75771 -------------------------------------------\n",
            "          Elemen bernilai < 75771: [74894, 4270, 56215, 63250, 27013, 60631, 64395, 36375]          \n",
            "                                  Elemen bernilai = 75771: [75771]                                  \n",
            "\n",
            "=========================================== PARTISI KE-3 ===========================================\n",
            "                       [74894, 4270, 56215, 63250, 27013, 60631, 64395, 36375]                      \n",
            "------------------------------------------ PIVOT = 27013 -------------------------------------------\n",
            "                                  Elemen bernilai < 27013: [4270]                                   \n",
            "                                  Elemen bernilai = 27013: [27013]                                  \n",
            "                Elemen bernilai > 27013: [74894, 56215, 63250, 60631, 64395, 36375]                 \n",
            "=========================================== PARTISI KE-4 ===========================================\n",
            "                             [74894, 56215, 63250, 60631, 64395, 36375]                             \n",
            "------------------------------------------ PIVOT = 60631 -------------------------------------------\n",
            "                              Elemen bernilai < 60631: [56215, 36375]                               \n",
            "                                  Elemen bernilai = 60631: [60631]                                  \n",
            "                           Elemen bernilai > 60631: [74894, 63250, 64395]                           \n",
            "=========================================== PARTISI KE-5 ===========================================\n",
            "                                           [56215, 36375]                                           \n",
            "------------------------------------------ PIVOT = 36375 -------------------------------------------\n",
            "\n",
            "                                  Elemen bernilai = 36375: [36375]                                  \n",
            "                                  Elemen bernilai > 36375: [56215]                                  \n",
            "=========================================== PARTISI KE-5 ===========================================\n",
            "                                        [74894, 63250, 64395]                                       \n",
            "------------------------------------------ PIVOT = 63250 -------------------------------------------\n",
            "\n",
            "                                  Elemen bernilai = 63250: [63250]                                  \n",
            "                              Elemen bernilai > 63250: [74894, 64395]                               \n",
            "=========================================== PARTISI KE-6 ===========================================\n",
            "                                           [74894, 64395]                                           \n",
            "------------------------------------------ PIVOT = 64395 -------------------------------------------\n",
            "\n",
            "                                  Elemen bernilai = 64395: [64395]                                  \n",
            "                                  Elemen bernilai > 64395: [74894]                                  \n",
            "======================================================================================= DERET AKHIR \n",
            "                [1944, 4270, 27013, 36375, 56215, 60631, 63250, 64395, 74894, 75771]                \n",
            "====================================================================================================\n"
          ]
        }
      ],
      "source": [
        "\"\"\"\n",
        "Scripts di bawah berikut bertujuan untuk menunjukkan secara visual setiap langkah\n",
        "pada proses pengurutan yang dilakukan dengan menggunakan algoritma `quick_sort`\n",
        "\"\"\"\n",
        "# 1. Cetak garis Pembatas awal\n",
        "print(f\"{' DERET AWAL ':=<{margin}}\")\n",
        "# 2. Cetak Deret awal yang akan di sort\n",
        "print_satu_persatu(\"\", deret, margin)\n",
        "# 3. Beri Jeda Pemrosesan\n",
        "input()\n",
        "# 4. Lakukan Sorting dan simpan hasilnya pada `new_deret`\n",
        "new_deret = quick_sort_show(deret, margin)\n",
        "# 5. Cetak Garis Pembatas\n",
        "print(f\"{' DERET AKHIR ':=>{margin}}\")\n",
        "# 6. Cetak hasil sorting\n",
        "print_satu_persatu(\"\", new_deret, margin)\n",
        "# 7. Cetak garis pembatas akhir\n",
        "print(f\"\\n{'':=^{margin}}\")"
      ]
    },
    {
      "cell_type": "markdown",
      "metadata": {
        "id": "8CXWy9y_jPN3"
      },
      "source": [
        "## EXERCISE 5: The cost of algorithm choice\n",
        "Penerapan algoritma berbeda, seperti ditunjukkan pada **EXERCISE** sebelumnya, akan berpengaruh terhadap cara penyelesaian masalah dan tentunya sumberdaya yang dipergunakan, sehingga pada akhirnya akan berdampak pada *Elapsed Time* (waktu pemrosesan) yang dipergunakan untuk menghasilkan output. Di bawah berikut telah disediakan sebuah pemrosesan yang ditujukan untuk melakukan pencatatan `elapsed_time` dari kedua algoritma *sorting* berdasarkan inputan jumlah elemen pada `deret` yang disorting."
      ]
    },
    {
      "cell_type": "code",
      "execution_count": null,
      "metadata": {
        "id": "rHC26AfONM4z"
      },
      "outputs": [],
      "source": [
        "# Import fungsi `elapsed_time` dan `visual_sebaran` dari modul `functions`\n",
        "from functions import elapsed_time, visual_sebaran"
      ]
    },
    {
      "cell_type": "code",
      "execution_count": null,
      "metadata": {
        "id": "ZxQyn2JNkRiX",
        "colab": {
          "base_uri": "https://localhost:8080/"
        },
        "outputId": "ed96baca-5110-4f92-bf17-a02a2d645f90"
      },
      "outputs": [
        {
          "output_type": "stream",
          "name": "stdout",
          "text": [
            "Help on function elapsed_time in module functions:\n",
            "\n",
            "elapsed_time(fungsi: object, deret: list) -> object\n",
            "    Fungsi untuk menghitung `elapsed time` pemrosesan \n",
            "      yang dilakukan oleh suatu fungsi terhadap sebuah deret\n",
            "    PARAMETERS:\n",
            "        1. fungsi -> object berupa fungsi yang akan dinilai `elapsed time`nya;\n",
            "        2. deret -> list yang akan disortir dengan menggunakan fungsi.\n",
            "\n"
          ]
        }
      ],
      "source": [
        "# Cek dokumentasi `elapsed_time`\n",
        "help(elapsed_time)"
      ]
    },
    {
      "cell_type": "code",
      "execution_count": null,
      "metadata": {
        "id": "k7I_zAMRkY0-",
        "colab": {
          "base_uri": "https://localhost:8080/"
        },
        "outputId": "096529de-5615-4637-c0f3-cb3a4d20516c"
      },
      "outputs": [
        {
          "output_type": "stream",
          "name": "stdout",
          "text": [
            "Help on function visual_sebaran in module functions:\n",
            "\n",
            "visual_sebaran(data: object, output_path: str) -> None\n",
            "    Fungsi untuk membuat grafik sebaran dari sebuah dictionary\n",
            "    dan menyimpan hasilnya dalam format `png`\n",
            "    PARAMETERS:\n",
            "    1. data -> object, dictionary;\n",
            "    2. output_path -> str, path menyimpan file.\n",
            "\n"
          ]
        }
      ],
      "source": [
        "# Cek dokumentasi `visual_sebaran`\n",
        "help(visual_sebaran)"
      ]
    },
    {
      "cell_type": "code",
      "execution_count": null,
      "metadata": {
        "id": "aSqZ4xEXwOya",
        "colab": {
          "base_uri": "https://localhost:8080/"
        },
        "outputId": "0955c038-e331-41a7-f904-f7e7de85aeca"
      },
      "outputs": [
        {
          "output_type": "stream",
          "name": "stdout",
          "text": [
            "Waktu proses Bubble Sort = 0.0000121800 detik\n",
            "Waktu proses Quick Sort = 0.0000204000 detik\n"
          ]
        }
      ],
      "source": [
        "\"\"\"\n",
        "Scripts di bawah berikut bertujuan untuk menampilkan nilai elapsed time\n",
        "dari proses mengurutkan deret 10 elemen dengan menggunakan algoritma\n",
        "`bubble_sort` dan `quick_sort`\n",
        "\"\"\"\n",
        "# Cek elapsed time dari pemrosesan fungsi `bubble_sort`\n",
        "et_bubble = elapsed_time(bubble_sort, deret)\n",
        "print(f\"Waktu proses Bubble Sort = {et_bubble:,.10f} detik\")\n",
        "\n",
        "# Cek elapsed time dari pemrosesan fungsi `quick_sort`\n",
        "et_quick = elapsed_time(quick_sort, deret)\n",
        "print(f\"Waktu proses Quick Sort = {et_quick:,.10f} detik\")"
      ]
    },
    {
      "cell_type": "markdown",
      "metadata": {
        "id": "8WYklro7ZQu-"
      },
      "source": [
        "1. Cobalah untuk mengeksekusi ulang script pada `cell` di atas beberapa kali, apakah setiap percobaan menghasilkan elapsed time yang sama seperti sebelumnya???\n",
        "2. Bagaimana sebaiknya kita menentukan besaran elapsed time?"
      ]
    },
    {
      "cell_type": "code",
      "execution_count": null,
      "metadata": {
        "id": "7utu-KhjxCTz",
        "colab": {
          "base_uri": "https://localhost:8080/"
        },
        "outputId": "800b00f3-a229-4e19-ee73-c348993cb12e"
      },
      "outputs": [
        {
          "output_type": "stream",
          "name": "stdout",
          "text": [
            "Tuliskan jumlah simulasi yang akan dilakukan : 1000\n",
            "Simulasi ke-1,000\n",
            "Rata-rata elapsed time Bubble Sort 1,000 kali = 0.0000142281 detik\n",
            "Rata-rata elapsed time Quick Sort 1,000 kali = 0.0000253175 detik\n"
          ]
        }
      ],
      "source": [
        "\"\"\"\n",
        "Scripts di bawah berikut bertujuan untuk menampilkan nilai rata-rata elapsed time\n",
        "dari proses mengurutkan deret 10 elemen dengan menggunakan algoritma\n",
        "`bubble_sort` dan `quick_sort` yang diulang sebanyak n kali\n",
        "\"\"\"\n",
        "# Menghitung rata-rata elapsed time `sorting` deret 10 elemen sebanyak n kali\n",
        "simulasi = int(input(\"Tuliskan jumlah simulasi yang akan dilakukan : \"))\n",
        "total_bs, total_qs = 0, 0\n",
        "for n in range(simulasi):\n",
        "  et_bubble = elapsed_time(bubble_sort, deret)\n",
        "  et_quick = elapsed_time(quick_sort, deret)\n",
        "  total_bs += et_bubble\n",
        "  total_qs += et_quick\n",
        "  print(f\"\\rSimulasi ke-{n+1:,.0f}\", flush=True, end=\"\")\n",
        "\n",
        "print(f\"\\nRata-rata elapsed time Bubble Sort {n+1:,.0f} kali = {total_bs/(n+1):,.10f} detik\")\n",
        "print(f\"Rata-rata elapsed time Quick Sort {n+1:,.0f} kali = {total_qs/(n+1):,.10f} detik\")"
      ]
    },
    {
      "cell_type": "markdown",
      "source": [
        "1. Apa kesimpulan yang bisa kita ambil dari hasil perhitungan rata-rata elapsed time yang dihasilkan oleh algoritma `Bubble sort` dan `Quick Sort`?\n",
        "2. Algoritma mana yang lebih efisien?"
      ],
      "metadata": {
        "id": "UfyalcfjlbmG"
      }
    },
    {
      "cell_type": "code",
      "execution_count": null,
      "metadata": {
        "id": "yCZU_HzH99M8",
        "colab": {
          "base_uri": "https://localhost:8080/",
          "height": 521
        },
        "outputId": "fbf99c22-96c9-467d-a087-eb12c767c7ad"
      },
      "outputs": [
        {
          "output_type": "stream",
          "name": "stdout",
          "text": [
            "Jumlah elemen pada deret            = 30\n",
            "Jumlah Simulasi dilakukan           = 500\n",
            "Average Elapsed Time Bubble Sort    = 0.000078 detik/proses\n",
            "Average Elapsed Time Quick Sort     = 0.000059 detik/proses\n"
          ]
        },
        {
          "output_type": "display_data",
          "data": {
            "text/plain": [
              "<Figure size 1000x500 with 1 Axes>"
            ],
            "image/png": "[encoded data removed]"
          },
          "metadata": {}
        }
      ],
      "source": [
        "\"\"\"\n",
        "Scripts di bawah berikut bertujuan untuk menampilkan nilai rata-rata elapsed time\n",
        "dari proses mengurutkan deret berisi n elemen dengan menggunakan algoritma\n",
        "`bubble_sort` dan `quick_sort` yang diulang sebanyak m kali\n",
        "\"\"\"\n",
        "# INPUTS:\n",
        "# 1. Mintakan jumlah elemen pada deret dari User\n",
        "print(f\"{'Jumlah elemen pada deret': <35}\", end=\"\")\n",
        "jml = input(\" = \")\n",
        "# 3. Mintakan jumlah sampel pemrosesan yang akan dikumpulkan\n",
        "print(f\"{'Jumlah Simulasi dilakukan': <35}\", end=\"\")\n",
        "sim = input(\" = \")\n",
        "\n",
        "# PROCESS:\n",
        "# 1. Cast `jml` dan `sims` menjadi angka bulat\n",
        "jml_elemen = int(jml) if jml else None\n",
        "sims = int(sim) if sim else None\n",
        "# 2. Generate `deret` berisi angka bulat acak\n",
        "deret = generate_deret(jml_elemen, 0, 100000)\n",
        "# 3. Proses Simulasi untuk kedua fungsi, catat data pada `dict_output`\n",
        "dict_output = {fungsi.__name__:[elapsed_time(fungsi, deret) for simulasi in range(sims)] for fungsi in [bubble_sort, quick_sort]}\n",
        "# Untuk setiap `key` pada `dict_output`\n",
        "for key in dict_output.keys():\n",
        "  # Rata-ratakan seluruh `value` pada list\n",
        "  average_et=sum(value for value in iter(dict_output[key]))/sims\n",
        "  # Buat Text `pesan`\n",
        "  pesan = f\"Average Elapsed Time %s\" % (key.title().replace(\"_\",\" \"))\n",
        "  # Tampilkan Pesan ke layar\n",
        "  print(f\"{pesan: <35} ={average_et: >9,.6f} detik/proses\")\n",
        "\n",
        "# OUTPUT\n",
        "# Buat Visualisasi dari data yang dihasilkan dan tampilkan ke layar\n",
        "visual_sebaran(dict_output, f\"Sebaran Elapsed Time Sorting {jml_elemen:,.0f} Elemen {sims:,.0f} Kali Simulasi\")"
      ]
    },
    {
      "cell_type": "markdown",
      "source": [
        "Cobalah melakukan proses di atas untuk jumlah elemen sebanyak 10, 15, 20, 30, 50, 100, 200, 300, dan 400 yang masing-masing disimulasikan sebanyak 1000 kali.\n",
        "1. Apa kesimpulan yang diperoleh?\n",
        "2. Algoritma mana yang memiliki efisiensi lebih baik?"
      ],
      "metadata": {
        "id": "AK-aNiECqfWs"
      }
    },
    {
      "cell_type": "markdown",
      "metadata": {
        "id": "etS7xjoZ5TQS"
      },
      "source": [
        "## EXERCISE 6: *Time Complexity*, a simulation\n",
        "> ***Time Complexity*** merupakan sebuah indikator yang biasanya dipergunakan untuk mendeskripsikan seberapa lama waktu yang diperlukan untuk mengeksekusi sebuah algoritma seiring dengan meningkatnya jumlah input.\n",
        "\n",
        "Pada exercise ini, kita akan coba untuk menunjukkan secara visual bagaimana *time complexity* bagi kedua algoritma sorting yang sedang kita amati."
      ]
    },
    {
      "cell_type": "code",
      "execution_count": null,
      "metadata": {
        "id": "-SXKW9sZqEO0"
      },
      "outputs": [],
      "source": [
        "# Import berbagai fungsi yang diperlukan\n",
        "from functions import generate_time_complexity as gtc, buat_visualisasi"
      ]
    },
    {
      "cell_type": "code",
      "execution_count": null,
      "metadata": {
        "id": "2FJkWFc_h5F9",
        "colab": {
          "base_uri": "https://localhost:8080/"
        },
        "outputId": "59bc7a25-f119-431e-d898-3a48bee46060"
      },
      "outputs": [
        {
          "output_type": "stream",
          "name": "stdout",
          "text": [
            "Help on function generate_time_complexity in module functions:\n",
            "\n",
            "generate_time_complexity(fungsi1: object, fungsi2: object, ukuran_input: list, sims: int = 1) -> tuple\n",
            "    Fungsi untuk mencatat data jumlah elemen yang harus diproses (N), dan\n",
            "      elapsed time yang diperlukan untuk memproses sejumlah elemen tersebut\n",
            "      oleh dua buah proses sejenis yang menerapkan algoritma berbeda\n",
            "    PARAMETERS:\n",
            "        1. fungsi1 -> object, fungsi sortir pertama yang akan diperbandingkan;\n",
            "        2. fungsi2 -> object, fungsi sortir kedua yang akan diperbandingkan;\n",
            "        3. ukuran_input -> list berisi int, jumlah deret yang akan disortir;\n",
            "        4. sims -> int, angka jumlah pengulangan simulasi yang dilakukan (secara default = 1 kali).\n",
            "\n"
          ]
        }
      ],
      "source": [
        "# Cek dokumentasi untuk `gtc`\n",
        "help(gtc)"
      ]
    },
    {
      "cell_type": "code",
      "execution_count": null,
      "metadata": {
        "id": "ldXs5AoC49k2",
        "colab": {
          "base_uri": "https://localhost:8080/",
          "height": 482
        },
        "outputId": "5d00b4d9-fac8-4a80-b7c4-5c264fee70aa"
      },
      "outputs": [
        {
          "output_type": "stream",
          "name": "stdout",
          "text": [
            "Simulasi ke-15"
          ]
        },
        {
          "output_type": "display_data",
          "data": {
            "text/plain": [
              "<Figure size 1000x500 with 1 Axes>"
            ],
            "image/png": "[encoded data removed]"
          },
          "metadata": {}
        }
      ],
      "source": [
        "\"\"\"\n",
        "Scripts di bawah berikut bertujuan untuk menampilkan nilai rata-rata elapsed time\n",
        "dari proses mengurutkan deret dengan jumlah elemen 1 hingga 500 dengan menggunakan algoritma\n",
        "`bubble_sort` dan `quick_sort` yang masing-masingnya diulang sebanyak 50 kali\n",
        "\"\"\"\n",
        "# 1. Tentukan Jumlah elemen maksimum pada deret\n",
        "jml_elemen = 500\n",
        "# 2. Tentukan Jumlah Simulasi\n",
        "simulasi = 15\n",
        "# 3. Lakukan sampling time complexity yang diulang sebanyak `simulasi`\n",
        "df_raw, df_aggregate = gtc(quick_sort, bubble_sort, range(1, jml_elemen+1, 1), simulasi)\n",
        "# 4. Buat Visualisasi hasil pengolahan\n",
        "buat_visualisasi(df_aggregate, f\"Time_Complexity {jml_elemen} elements - {simulasi} simulations.png\")"
      ]
    },
    {
      "cell_type": "markdown",
      "metadata": {
        "id": "zXIIoA8i5HZe"
      },
      "source": [
        "---"
      ]
    }
  ],
  "metadata": {
    "colab": {
      "provenance": [],
      "mount_file_id": "1rBxwcov2SN95chNRejT1zl2nI7slpmH4",
      "authorship_tag": "ABX9TyNcNUU30IJAUx2+xoZeVsZU",
      "include_colab_link": true
    },
    "kernelspec": {
      "display_name": "Python 3",
      "name": "python3"
    },
    "language_info": {
      "name": "python"
    }
  },
  "nbformat": 4,
  "nbformat_minor": 0
}