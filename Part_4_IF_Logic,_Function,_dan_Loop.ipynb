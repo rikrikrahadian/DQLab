{
  "nbformat": 4,
  "nbformat_minor": 0,
  "metadata": {
    "colab": {
      "provenance": [],
      "include_colab_link": true
    },
    "kernelspec": {
      "name": "python3",
      "display_name": "Python 3"
    },
    "language_info": {
      "name": "python"
    },
    "widgets": {
      "application/vnd.jupyter.widget-state+json": {
        "228f48a918f948d5a8dd0e12cf3aed2d": {
          "model_module": "@jupyter-widgets/controls",
          "model_name": "CheckboxModel",
          "model_module_version": "1.5.0",
          "state": {
            "_dom_classes": [],
            "_model_module": "@jupyter-widgets/controls",
            "_model_module_version": "1.5.0",
            "_model_name": "CheckboxModel",
            "_view_count": null,
            "_view_module": "@jupyter-widgets/controls",
            "_view_module_version": "1.5.0",
            "_view_name": "CheckboxView",
            "description": "Output dari fungsi ini adalah object bertipe `integer`.",
            "description_tooltip": null,
            "disabled": false,
            "indent": true,
            "layout": "IPY_MODEL_92cf8c2f42c44c44bfe23918cdbd3047",
            "style": "IPY_MODEL_222dcac5f70f4cdc804cdf903bfd67c6",
            "value": false
          }
        },
        "92cf8c2f42c44c44bfe23918cdbd3047": {
          "model_module": "@jupyter-widgets/base",
          "model_name": "LayoutModel",
          "model_module_version": "1.2.0",
          "state": {
            "_model_module": "@jupyter-widgets/base",
            "_model_module_version": "1.2.0",
            "_model_name": "LayoutModel",
            "_view_count": null,
            "_view_module": "@jupyter-widgets/base",
            "_view_module_version": "1.2.0",
            "_view_name": "LayoutView",
            "align_content": null,
            "align_items": null,
            "align_self": null,
            "border": null,
            "bottom": null,
            "display": null,
            "flex": null,
            "flex_flow": null,
            "grid_area": null,
            "grid_auto_columns": null,
            "grid_auto_flow": null,
            "grid_auto_rows": null,
            "grid_column": null,
            "grid_gap": null,
            "grid_row": null,
            "grid_template_areas": null,
            "grid_template_columns": null,
            "grid_template_rows": null,
            "height": null,
            "justify_content": null,
            "justify_items": null,
            "left": null,
            "margin": null,
            "max_height": null,
            "max_width": null,
            "min_height": null,
            "min_width": null,
            "object_fit": null,
            "object_position": null,
            "order": null,
            "overflow": null,
            "overflow_x": null,
            "overflow_y": null,
            "padding": null,
            "right": null,
            "top": null,
            "visibility": null,
            "width": "auto"
          }
        },
        "222dcac5f70f4cdc804cdf903bfd67c6": {
          "model_module": "@jupyter-widgets/controls",
          "model_name": "DescriptionStyleModel",
          "model_module_version": "1.5.0",
          "state": {
            "_model_module": "@jupyter-widgets/controls",
            "_model_module_version": "1.5.0",
            "_model_name": "DescriptionStyleModel",
            "_view_count": null,
            "_view_module": "@jupyter-widgets/base",
            "_view_module_version": "1.2.0",
            "_view_name": "StyleView",
            "description_width": ""
          }
        },
        "bc6de3ceea434834907c18fb47373851": {
          "model_module": "@jupyter-widgets/controls",
          "model_name": "CheckboxModel",
          "model_module_version": "1.5.0",
          "state": {
            "_dom_classes": [],
            "_model_module": "@jupyter-widgets/controls",
            "_model_module_version": "1.5.0",
            "_model_name": "CheckboxModel",
            "_view_count": null,
            "_view_module": "@jupyter-widgets/controls",
            "_view_module_version": "1.5.0",
            "_view_name": "CheckboxView",
            "description": "Input dari fungsi ini adalah variabel `jenis_file`",
            "description_tooltip": null,
            "disabled": false,
            "indent": true,
            "layout": "IPY_MODEL_92cf8c2f42c44c44bfe23918cdbd3047",
            "style": "IPY_MODEL_c58502632b2e471ca9790001fa47f381",
            "value": false
          }
        },
        "c58502632b2e471ca9790001fa47f381": {
          "model_module": "@jupyter-widgets/controls",
          "model_name": "DescriptionStyleModel",
          "model_module_version": "1.5.0",
          "state": {
            "_model_module": "@jupyter-widgets/controls",
            "_model_module_version": "1.5.0",
            "_model_name": "DescriptionStyleModel",
            "_view_count": null,
            "_view_module": "@jupyter-widgets/base",
            "_view_module_version": "1.2.0",
            "_view_name": "StyleView",
            "description_width": ""
          }
        },
        "7d554eaa79e44cb8be8382a35f71313b": {
          "model_module": "@jupyter-widgets/controls",
          "model_name": "CheckboxModel",
          "model_module_version": "1.5.0",
          "state": {
            "_dom_classes": [],
            "_model_module": "@jupyter-widgets/controls",
            "_model_module_version": "1.5.0",
            "_model_name": "CheckboxModel",
            "_view_count": null,
            "_view_module": "@jupyter-widgets/controls",
            "_view_module_version": "1.5.0",
            "_view_name": "CheckboxView",
            "description": "Fungsi ini tidak berisikan operasi apapun.",
            "description_tooltip": null,
            "disabled": false,
            "indent": true,
            "layout": "IPY_MODEL_92cf8c2f42c44c44bfe23918cdbd3047",
            "style": "IPY_MODEL_2db84a8b00324e5bb8a806df03eba57e",
            "value": false
          }
        },
        "2db84a8b00324e5bb8a806df03eba57e": {
          "model_module": "@jupyter-widgets/controls",
          "model_name": "DescriptionStyleModel",
          "model_module_version": "1.5.0",
          "state": {
            "_model_module": "@jupyter-widgets/controls",
            "_model_module_version": "1.5.0",
            "_model_name": "DescriptionStyleModel",
            "_view_count": null,
            "_view_module": "@jupyter-widgets/base",
            "_view_module_version": "1.2.0",
            "_view_name": "StyleView",
            "description_width": ""
          }
        },
        "c3aa8c9eb4934d898ce11b2db882511d": {
          "model_module": "@jupyter-widgets/controls",
          "model_name": "CheckboxModel",
          "model_module_version": "1.5.0",
          "state": {
            "_dom_classes": [],
            "_model_module": "@jupyter-widgets/controls",
            "_model_module_version": "1.5.0",
            "_model_name": "CheckboxModel",
            "_view_count": null,
            "_view_module": "@jupyter-widgets/controls",
            "_view_module_version": "1.5.0",
            "_view_name": "CheckboxView",
            "description": "Output dari fungsi ini dihasilkan dari sebuah `ternary operation`.",
            "description_tooltip": null,
            "disabled": false,
            "indent": true,
            "layout": "IPY_MODEL_92cf8c2f42c44c44bfe23918cdbd3047",
            "style": "IPY_MODEL_a5bea3dc06a74f81a7c124b0b79ce112",
            "value": true
          }
        },
        "a5bea3dc06a74f81a7c124b0b79ce112": {
          "model_module": "@jupyter-widgets/controls",
          "model_name": "DescriptionStyleModel",
          "model_module_version": "1.5.0",
          "state": {
            "_model_module": "@jupyter-widgets/controls",
            "_model_module_version": "1.5.0",
            "_model_name": "DescriptionStyleModel",
            "_view_count": null,
            "_view_module": "@jupyter-widgets/base",
            "_view_module_version": "1.2.0",
            "_view_name": "StyleView",
            "description_width": ""
          }
        },
        "903f156201fc457eb36e31c0c39cc2e7": {
          "model_module": "@jupyter-widgets/controls",
          "model_name": "ButtonModel",
          "model_module_version": "1.5.0",
          "state": {
            "_dom_classes": [],
            "_model_module": "@jupyter-widgets/controls",
            "_model_module_version": "1.5.0",
            "_model_name": "ButtonModel",
            "_view_count": null,
            "_view_module": "@jupyter-widgets/controls",
            "_view_module_version": "1.5.0",
            "_view_name": "ButtonView",
            "button_style": "",
            "description": "Cek Jawaban",
            "disabled": false,
            "icon": "",
            "layout": "IPY_MODEL_f785f5c0e8744bda92166f9323232f54",
            "style": "IPY_MODEL_1f0c0a7fbe634e05be03821768955c80",
            "tooltip": ""
          }
        },
        "f785f5c0e8744bda92166f9323232f54": {
          "model_module": "@jupyter-widgets/base",
          "model_name": "LayoutModel",
          "model_module_version": "1.2.0",
          "state": {
            "_model_module": "@jupyter-widgets/base",
            "_model_module_version": "1.2.0",
            "_model_name": "LayoutModel",
            "_view_count": null,
            "_view_module": "@jupyter-widgets/base",
            "_view_module_version": "1.2.0",
            "_view_name": "LayoutView",
            "align_content": null,
            "align_items": null,
            "align_self": null,
            "border": null,
            "bottom": null,
            "display": null,
            "flex": null,
            "flex_flow": null,
            "grid_area": null,
            "grid_auto_columns": null,
            "grid_auto_flow": null,
            "grid_auto_rows": null,
            "grid_column": null,
            "grid_gap": null,
            "grid_row": null,
            "grid_template_areas": null,
            "grid_template_columns": null,
            "grid_template_rows": null,
            "height": null,
            "justify_content": null,
            "justify_items": null,
            "left": null,
            "margin": null,
            "max_height": null,
            "max_width": null,
            "min_height": null,
            "min_width": null,
            "object_fit": null,
            "object_position": null,
            "order": null,
            "overflow": null,
            "overflow_x": null,
            "overflow_y": null,
            "padding": null,
            "right": null,
            "top": null,
            "visibility": null,
            "width": null
          }
        },
        "1f0c0a7fbe634e05be03821768955c80": {
          "model_module": "@jupyter-widgets/controls",
          "model_name": "ButtonStyleModel",
          "model_module_version": "1.5.0",
          "state": {
            "_model_module": "@jupyter-widgets/controls",
            "_model_module_version": "1.5.0",
            "_model_name": "ButtonStyleModel",
            "_view_count": null,
            "_view_module": "@jupyter-widgets/base",
            "_view_module_version": "1.2.0",
            "_view_name": "StyleView",
            "button_color": null,
            "font_weight": ""
          }
        },
        "838857f94337484885496928c0b8e5e7": {
          "model_module": "@jupyter-widgets/controls",
          "model_name": "TextareaModel",
          "model_module_version": "1.5.0",
          "state": {
            "_dom_classes": [],
            "_model_module": "@jupyter-widgets/controls",
            "_model_module_version": "1.5.0",
            "_model_name": "TextareaModel",
            "_view_count": null,
            "_view_module": "@jupyter-widgets/controls",
            "_view_module_version": "1.5.0",
            "_view_name": "TextareaView",
            "continuous_update": true,
            "description": "",
            "description_tooltip": null,
            "disabled": true,
            "layout": "IPY_MODEL_f02a518cef8e434caf90813ababf9455",
            "placeholder": "Feedback",
            "rows": null,
            "style": "IPY_MODEL_0450f74d832e45f9896e1778391f0bcb",
            "value": "Pilihan anda tepat!"
          }
        },
        "f02a518cef8e434caf90813ababf9455": {
          "model_module": "@jupyter-widgets/base",
          "model_name": "LayoutModel",
          "model_module_version": "1.2.0",
          "state": {
            "_model_module": "@jupyter-widgets/base",
            "_model_module_version": "1.2.0",
            "_model_name": "LayoutModel",
            "_view_count": null,
            "_view_module": "@jupyter-widgets/base",
            "_view_module_version": "1.2.0",
            "_view_name": "LayoutView",
            "align_content": null,
            "align_items": null,
            "align_self": null,
            "border": null,
            "bottom": null,
            "display": null,
            "flex": null,
            "flex_flow": null,
            "grid_area": null,
            "grid_auto_columns": null,
            "grid_auto_flow": null,
            "grid_auto_rows": null,
            "grid_column": null,
            "grid_gap": null,
            "grid_row": null,
            "grid_template_areas": null,
            "grid_template_columns": null,
            "grid_template_rows": null,
            "height": null,
            "justify_content": null,
            "justify_items": null,
            "left": null,
            "margin": null,
            "max_height": null,
            "max_width": null,
            "min_height": null,
            "min_width": null,
            "object_fit": null,
            "object_position": null,
            "order": null,
            "overflow": null,
            "overflow_x": null,
            "overflow_y": null,
            "padding": null,
            "right": null,
            "top": null,
            "visibility": null,
            "width": null
          }
        },
        "0450f74d832e45f9896e1778391f0bcb": {
          "model_module": "@jupyter-widgets/controls",
          "model_name": "DescriptionStyleModel",
          "model_module_version": "1.5.0",
          "state": {
            "_model_module": "@jupyter-widgets/controls",
            "_model_module_version": "1.5.0",
            "_model_name": "DescriptionStyleModel",
            "_view_count": null,
            "_view_module": "@jupyter-widgets/base",
            "_view_module_version": "1.2.0",
            "_view_name": "StyleView",
            "description_width": ""
          }
        },
        "b1d15dcb7ce24ff6805e011f508a9769": {
          "model_module": "@jupyter-widgets/controls",
          "model_name": "CheckboxModel",
          "model_module_version": "1.5.0",
          "state": {
            "_dom_classes": [],
            "_model_module": "@jupyter-widgets/controls",
            "_model_module_version": "1.5.0",
            "_model_name": "CheckboxModel",
            "_view_count": null,
            "_view_module": "@jupyter-widgets/controls",
            "_view_module_version": "1.5.0",
            "_view_name": "CheckboxView",
            "description": "Output dari fungsi ini adalah object bertipe `integer`.",
            "description_tooltip": null,
            "disabled": false,
            "indent": true,
            "layout": "IPY_MODEL_92cf8c2f42c44c44bfe23918cdbd3047",
            "style": "IPY_MODEL_19264ea804294b88af9a27dd714d8591",
            "value": false
          }
        },
        "19264ea804294b88af9a27dd714d8591": {
          "model_module": "@jupyter-widgets/controls",
          "model_name": "DescriptionStyleModel",
          "model_module_version": "1.5.0",
          "state": {
            "_model_module": "@jupyter-widgets/controls",
            "_model_module_version": "1.5.0",
            "_model_name": "DescriptionStyleModel",
            "_view_count": null,
            "_view_module": "@jupyter-widgets/base",
            "_view_module_version": "1.2.0",
            "_view_name": "StyleView",
            "description_width": ""
          }
        },
        "2c5d63c02a0e45f190b36cddb5124d0e": {
          "model_module": "@jupyter-widgets/controls",
          "model_name": "CheckboxModel",
          "model_module_version": "1.5.0",
          "state": {
            "_dom_classes": [],
            "_model_module": "@jupyter-widgets/controls",
            "_model_module_version": "1.5.0",
            "_model_name": "CheckboxModel",
            "_view_count": null,
            "_view_module": "@jupyter-widgets/controls",
            "_view_module_version": "1.5.0",
            "_view_name": "CheckboxView",
            "description": "Input dari fungsi ini adalah variabel `jenis_file`",
            "description_tooltip": null,
            "disabled": false,
            "indent": true,
            "layout": "IPY_MODEL_92cf8c2f42c44c44bfe23918cdbd3047",
            "style": "IPY_MODEL_44c0efe4da50450eb01a1ab1c9ec2282",
            "value": false
          }
        },
        "44c0efe4da50450eb01a1ab1c9ec2282": {
          "model_module": "@jupyter-widgets/controls",
          "model_name": "DescriptionStyleModel",
          "model_module_version": "1.5.0",
          "state": {
            "_model_module": "@jupyter-widgets/controls",
            "_model_module_version": "1.5.0",
            "_model_name": "DescriptionStyleModel",
            "_view_count": null,
            "_view_module": "@jupyter-widgets/base",
            "_view_module_version": "1.2.0",
            "_view_name": "StyleView",
            "description_width": ""
          }
        },
        "f9db9a7d9e49418ab93e07bca40a394a": {
          "model_module": "@jupyter-widgets/controls",
          "model_name": "CheckboxModel",
          "model_module_version": "1.5.0",
          "state": {
            "_dom_classes": [],
            "_model_module": "@jupyter-widgets/controls",
            "_model_module_version": "1.5.0",
            "_model_name": "CheckboxModel",
            "_view_count": null,
            "_view_module": "@jupyter-widgets/controls",
            "_view_module_version": "1.5.0",
            "_view_name": "CheckboxView",
            "description": "Fungsi ini tidak berisikan operasi apapun.",
            "description_tooltip": null,
            "disabled": false,
            "indent": true,
            "layout": "IPY_MODEL_92cf8c2f42c44c44bfe23918cdbd3047",
            "style": "IPY_MODEL_84558a9aaa174a8d9609ee8759923834",
            "value": false
          }
        },
        "84558a9aaa174a8d9609ee8759923834": {
          "model_module": "@jupyter-widgets/controls",
          "model_name": "DescriptionStyleModel",
          "model_module_version": "1.5.0",
          "state": {
            "_model_module": "@jupyter-widgets/controls",
            "_model_module_version": "1.5.0",
            "_model_name": "DescriptionStyleModel",
            "_view_count": null,
            "_view_module": "@jupyter-widgets/base",
            "_view_module_version": "1.2.0",
            "_view_name": "StyleView",
            "description_width": ""
          }
        },
        "3afa2b33ed3c4679a703525991c23e44": {
          "model_module": "@jupyter-widgets/controls",
          "model_name": "CheckboxModel",
          "model_module_version": "1.5.0",
          "state": {
            "_dom_classes": [],
            "_model_module": "@jupyter-widgets/controls",
            "_model_module_version": "1.5.0",
            "_model_name": "CheckboxModel",
            "_view_count": null,
            "_view_module": "@jupyter-widgets/controls",
            "_view_module_version": "1.5.0",
            "_view_name": "CheckboxView",
            "description": "Output dari fungsi ini dihasilkan dari sebuah `method operation`.",
            "description_tooltip": null,
            "disabled": false,
            "indent": true,
            "layout": "IPY_MODEL_92cf8c2f42c44c44bfe23918cdbd3047",
            "style": "IPY_MODEL_f3a9daa588d647b6958d2f141de77a54",
            "value": true
          }
        },
        "f3a9daa588d647b6958d2f141de77a54": {
          "model_module": "@jupyter-widgets/controls",
          "model_name": "DescriptionStyleModel",
          "model_module_version": "1.5.0",
          "state": {
            "_model_module": "@jupyter-widgets/controls",
            "_model_module_version": "1.5.0",
            "_model_name": "DescriptionStyleModel",
            "_view_count": null,
            "_view_module": "@jupyter-widgets/base",
            "_view_module_version": "1.2.0",
            "_view_name": "StyleView",
            "description_width": ""
          }
        },
        "ee853727af4f4399a79f571c34073a9a": {
          "model_module": "@jupyter-widgets/controls",
          "model_name": "ButtonModel",
          "model_module_version": "1.5.0",
          "state": {
            "_dom_classes": [],
            "_model_module": "@jupyter-widgets/controls",
            "_model_module_version": "1.5.0",
            "_model_name": "ButtonModel",
            "_view_count": null,
            "_view_module": "@jupyter-widgets/controls",
            "_view_module_version": "1.5.0",
            "_view_name": "ButtonView",
            "button_style": "",
            "description": "Cek Jawaban",
            "disabled": false,
            "icon": "",
            "layout": "IPY_MODEL_ba74d20f7cb6465599365559753a6a1a",
            "style": "IPY_MODEL_1dea77d7d5df4500a8052acc7430d397",
            "tooltip": ""
          }
        },
        "ba74d20f7cb6465599365559753a6a1a": {
          "model_module": "@jupyter-widgets/base",
          "model_name": "LayoutModel",
          "model_module_version": "1.2.0",
          "state": {
            "_model_module": "@jupyter-widgets/base",
            "_model_module_version": "1.2.0",
            "_model_name": "LayoutModel",
            "_view_count": null,
            "_view_module": "@jupyter-widgets/base",
            "_view_module_version": "1.2.0",
            "_view_name": "LayoutView",
            "align_content": null,
            "align_items": null,
            "align_self": null,
            "border": null,
            "bottom": null,
            "display": null,
            "flex": null,
            "flex_flow": null,
            "grid_area": null,
            "grid_auto_columns": null,
            "grid_auto_flow": null,
            "grid_auto_rows": null,
            "grid_column": null,
            "grid_gap": null,
            "grid_row": null,
            "grid_template_areas": null,
            "grid_template_columns": null,
            "grid_template_rows": null,
            "height": null,
            "justify_content": null,
            "justify_items": null,
            "left": null,
            "margin": null,
            "max_height": null,
            "max_width": null,
            "min_height": null,
            "min_width": null,
            "object_fit": null,
            "object_position": null,
            "order": null,
            "overflow": null,
            "overflow_x": null,
            "overflow_y": null,
            "padding": null,
            "right": null,
            "top": null,
            "visibility": null,
            "width": null
          }
        },
        "1dea77d7d5df4500a8052acc7430d397": {
          "model_module": "@jupyter-widgets/controls",
          "model_name": "ButtonStyleModel",
          "model_module_version": "1.5.0",
          "state": {
            "_model_module": "@jupyter-widgets/controls",
            "_model_module_version": "1.5.0",
            "_model_name": "ButtonStyleModel",
            "_view_count": null,
            "_view_module": "@jupyter-widgets/base",
            "_view_module_version": "1.2.0",
            "_view_name": "StyleView",
            "button_color": null,
            "font_weight": ""
          }
        },
        "5e5a680bd7c74f15b0cb93ded2a6e9ef": {
          "model_module": "@jupyter-widgets/controls",
          "model_name": "TextareaModel",
          "model_module_version": "1.5.0",
          "state": {
            "_dom_classes": [],
            "_model_module": "@jupyter-widgets/controls",
            "_model_module_version": "1.5.0",
            "_model_name": "TextareaModel",
            "_view_count": null,
            "_view_module": "@jupyter-widgets/controls",
            "_view_module_version": "1.5.0",
            "_view_name": "TextareaView",
            "continuous_update": true,
            "description": "",
            "description_tooltip": null,
            "disabled": true,
            "layout": "IPY_MODEL_d50841b4baff4d1bb34fb1731050ee3b",
            "placeholder": "Feedback",
            "rows": null,
            "style": "IPY_MODEL_97c78944d0a845fd8ed44534b6ce8860",
            "value": "Pilihan anda tepat!"
          }
        },
        "d50841b4baff4d1bb34fb1731050ee3b": {
          "model_module": "@jupyter-widgets/base",
          "model_name": "LayoutModel",
          "model_module_version": "1.2.0",
          "state": {
            "_model_module": "@jupyter-widgets/base",
            "_model_module_version": "1.2.0",
            "_model_name": "LayoutModel",
            "_view_count": null,
            "_view_module": "@jupyter-widgets/base",
            "_view_module_version": "1.2.0",
            "_view_name": "LayoutView",
            "align_content": null,
            "align_items": null,
            "align_self": null,
            "border": null,
            "bottom": null,
            "display": null,
            "flex": null,
            "flex_flow": null,
            "grid_area": null,
            "grid_auto_columns": null,
            "grid_auto_flow": null,
            "grid_auto_rows": null,
            "grid_column": null,
            "grid_gap": null,
            "grid_row": null,
            "grid_template_areas": null,
            "grid_template_columns": null,
            "grid_template_rows": null,
            "height": null,
            "justify_content": null,
            "justify_items": null,
            "left": null,
            "margin": null,
            "max_height": null,
            "max_width": null,
            "min_height": null,
            "min_width": null,
            "object_fit": null,
            "object_position": null,
            "order": null,
            "overflow": null,
            "overflow_x": null,
            "overflow_y": null,
            "padding": null,
            "right": null,
            "top": null,
            "visibility": null,
            "width": null
          }
        },
        "97c78944d0a845fd8ed44534b6ce8860": {
          "model_module": "@jupyter-widgets/controls",
          "model_name": "DescriptionStyleModel",
          "model_module_version": "1.5.0",
          "state": {
            "_model_module": "@jupyter-widgets/controls",
            "_model_module_version": "1.5.0",
            "_model_name": "DescriptionStyleModel",
            "_view_count": null,
            "_view_module": "@jupyter-widgets/base",
            "_view_module_version": "1.2.0",
            "_view_name": "StyleView",
            "description_width": ""
          }
        },
        "fefc732a0bd24caf85890bff1892207e": {
          "model_module": "@jupyter-widgets/controls",
          "model_name": "CheckboxModel",
          "model_module_version": "1.5.0",
          "state": {
            "_dom_classes": [],
            "_model_module": "@jupyter-widgets/controls",
            "_model_module_version": "1.5.0",
            "_model_name": "CheckboxModel",
            "_view_count": null,
            "_view_module": "@jupyter-widgets/controls",
            "_view_module_version": "1.5.0",
            "_view_name": "CheckboxView",
            "description": "Output dari fungsi ini adalah object bertipe `integer`.",
            "description_tooltip": null,
            "disabled": false,
            "indent": true,
            "layout": "IPY_MODEL_92cf8c2f42c44c44bfe23918cdbd3047",
            "style": "IPY_MODEL_86215f9e5cdc467e9562f7bccda6df93",
            "value": false
          }
        },
        "86215f9e5cdc467e9562f7bccda6df93": {
          "model_module": "@jupyter-widgets/controls",
          "model_name": "DescriptionStyleModel",
          "model_module_version": "1.5.0",
          "state": {
            "_model_module": "@jupyter-widgets/controls",
            "_model_module_version": "1.5.0",
            "_model_name": "DescriptionStyleModel",
            "_view_count": null,
            "_view_module": "@jupyter-widgets/base",
            "_view_module_version": "1.2.0",
            "_view_name": "StyleView",
            "description_width": ""
          }
        },
        "4594ce049a684f2f9c7efc0ddcab5deb": {
          "model_module": "@jupyter-widgets/controls",
          "model_name": "CheckboxModel",
          "model_module_version": "1.5.0",
          "state": {
            "_dom_classes": [],
            "_model_module": "@jupyter-widgets/controls",
            "_model_module_version": "1.5.0",
            "_model_name": "CheckboxModel",
            "_view_count": null,
            "_view_module": "@jupyter-widgets/controls",
            "_view_module_version": "1.5.0",
            "_view_name": "CheckboxView",
            "description": "Input dari fungsi ini adalah variabel `file_path` dan `nama_file`",
            "description_tooltip": null,
            "disabled": false,
            "indent": true,
            "layout": "IPY_MODEL_92cf8c2f42c44c44bfe23918cdbd3047",
            "style": "IPY_MODEL_9e9762322d404f83912c1193e102d3c1",
            "value": false
          }
        },
        "9e9762322d404f83912c1193e102d3c1": {
          "model_module": "@jupyter-widgets/controls",
          "model_name": "DescriptionStyleModel",
          "model_module_version": "1.5.0",
          "state": {
            "_model_module": "@jupyter-widgets/controls",
            "_model_module_version": "1.5.0",
            "_model_name": "DescriptionStyleModel",
            "_view_count": null,
            "_view_module": "@jupyter-widgets/base",
            "_view_module_version": "1.2.0",
            "_view_name": "StyleView",
            "description_width": ""
          }
        },
        "bee3722f36e646f9b004dc28431b66c9": {
          "model_module": "@jupyter-widgets/controls",
          "model_name": "CheckboxModel",
          "model_module_version": "1.5.0",
          "state": {
            "_dom_classes": [],
            "_model_module": "@jupyter-widgets/controls",
            "_model_module_version": "1.5.0",
            "_model_name": "CheckboxModel",
            "_view_count": null,
            "_view_module": "@jupyter-widgets/controls",
            "_view_module_version": "1.5.0",
            "_view_name": "CheckboxView",
            "description": "Fungsi ini melakukan satu kali validasi.",
            "description_tooltip": null,
            "disabled": false,
            "indent": true,
            "layout": "IPY_MODEL_92cf8c2f42c44c44bfe23918cdbd3047",
            "style": "IPY_MODEL_c466434fe79546d084278e89cc889fa1",
            "value": false
          }
        },
        "c466434fe79546d084278e89cc889fa1": {
          "model_module": "@jupyter-widgets/controls",
          "model_name": "DescriptionStyleModel",
          "model_module_version": "1.5.0",
          "state": {
            "_model_module": "@jupyter-widgets/controls",
            "_model_module_version": "1.5.0",
            "_model_name": "DescriptionStyleModel",
            "_view_count": null,
            "_view_module": "@jupyter-widgets/base",
            "_view_module_version": "1.2.0",
            "_view_name": "StyleView",
            "description_width": ""
          }
        },
        "98e52ab41bbd4337b1eb34b85b70bcb7": {
          "model_module": "@jupyter-widgets/controls",
          "model_name": "CheckboxModel",
          "model_module_version": "1.5.0",
          "state": {
            "_dom_classes": [],
            "_model_module": "@jupyter-widgets/controls",
            "_model_module_version": "1.5.0",
            "_model_name": "CheckboxModel",
            "_view_count": null,
            "_view_module": "@jupyter-widgets/controls",
            "_view_module_version": "1.5.0",
            "_view_name": "CheckboxView",
            "description": "Output dari fungsi dapat berupa object `pd.DataFrame` atau None.",
            "description_tooltip": null,
            "disabled": false,
            "indent": true,
            "layout": "IPY_MODEL_92cf8c2f42c44c44bfe23918cdbd3047",
            "style": "IPY_MODEL_614c6478273e410ebcfa81feb60db7ce",
            "value": true
          }
        },
        "614c6478273e410ebcfa81feb60db7ce": {
          "model_module": "@jupyter-widgets/controls",
          "model_name": "DescriptionStyleModel",
          "model_module_version": "1.5.0",
          "state": {
            "_model_module": "@jupyter-widgets/controls",
            "_model_module_version": "1.5.0",
            "_model_name": "DescriptionStyleModel",
            "_view_count": null,
            "_view_module": "@jupyter-widgets/base",
            "_view_module_version": "1.2.0",
            "_view_name": "StyleView",
            "description_width": ""
          }
        },
        "dab1dbaffbcf42deaf80f1af724fd9fd": {
          "model_module": "@jupyter-widgets/controls",
          "model_name": "ButtonModel",
          "model_module_version": "1.5.0",
          "state": {
            "_dom_classes": [],
            "_model_module": "@jupyter-widgets/controls",
            "_model_module_version": "1.5.0",
            "_model_name": "ButtonModel",
            "_view_count": null,
            "_view_module": "@jupyter-widgets/controls",
            "_view_module_version": "1.5.0",
            "_view_name": "ButtonView",
            "button_style": "",
            "description": "Cek Jawaban",
            "disabled": false,
            "icon": "",
            "layout": "IPY_MODEL_dd1f788c0b1e47b89aa5d3cdf4953682",
            "style": "IPY_MODEL_382bf2e748cc4134b277ac1a2d579f13",
            "tooltip": ""
          }
        },
        "dd1f788c0b1e47b89aa5d3cdf4953682": {
          "model_module": "@jupyter-widgets/base",
          "model_name": "LayoutModel",
          "model_module_version": "1.2.0",
          "state": {
            "_model_module": "@jupyter-widgets/base",
            "_model_module_version": "1.2.0",
            "_model_name": "LayoutModel",
            "_view_count": null,
            "_view_module": "@jupyter-widgets/base",
            "_view_module_version": "1.2.0",
            "_view_name": "LayoutView",
            "align_content": null,
            "align_items": null,
            "align_self": null,
            "border": null,
            "bottom": null,
            "display": null,
            "flex": null,
            "flex_flow": null,
            "grid_area": null,
            "grid_auto_columns": null,
            "grid_auto_flow": null,
            "grid_auto_rows": null,
            "grid_column": null,
            "grid_gap": null,
            "grid_row": null,
            "grid_template_areas": null,
            "grid_template_columns": null,
            "grid_template_rows": null,
            "height": null,
            "justify_content": null,
            "justify_items": null,
            "left": null,
            "margin": null,
            "max_height": null,
            "max_width": null,
            "min_height": null,
            "min_width": null,
            "object_fit": null,
            "object_position": null,
            "order": null,
            "overflow": null,
            "overflow_x": null,
            "overflow_y": null,
            "padding": null,
            "right": null,
            "top": null,
            "visibility": null,
            "width": null
          }
        },
        "382bf2e748cc4134b277ac1a2d579f13": {
          "model_module": "@jupyter-widgets/controls",
          "model_name": "ButtonStyleModel",
          "model_module_version": "1.5.0",
          "state": {
            "_model_module": "@jupyter-widgets/controls",
            "_model_module_version": "1.5.0",
            "_model_name": "ButtonStyleModel",
            "_view_count": null,
            "_view_module": "@jupyter-widgets/base",
            "_view_module_version": "1.2.0",
            "_view_name": "StyleView",
            "button_color": null,
            "font_weight": ""
          }
        },
        "12310b7051484e2ebad328daed889a25": {
          "model_module": "@jupyter-widgets/controls",
          "model_name": "TextareaModel",
          "model_module_version": "1.5.0",
          "state": {
            "_dom_classes": [],
            "_model_module": "@jupyter-widgets/controls",
            "_model_module_version": "1.5.0",
            "_model_name": "TextareaModel",
            "_view_count": null,
            "_view_module": "@jupyter-widgets/controls",
            "_view_module_version": "1.5.0",
            "_view_name": "TextareaView",
            "continuous_update": true,
            "description": "",
            "description_tooltip": null,
            "disabled": true,
            "layout": "IPY_MODEL_5b4cf872e32e40d283b13c6d7220cf45",
            "placeholder": "Feedback",
            "rows": null,
            "style": "IPY_MODEL_b6cb091aad164056adca6e9d13974348",
            "value": "Pilihan anda tepat!"
          }
        },
        "5b4cf872e32e40d283b13c6d7220cf45": {
          "model_module": "@jupyter-widgets/base",
          "model_name": "LayoutModel",
          "model_module_version": "1.2.0",
          "state": {
            "_model_module": "@jupyter-widgets/base",
            "_model_module_version": "1.2.0",
            "_model_name": "LayoutModel",
            "_view_count": null,
            "_view_module": "@jupyter-widgets/base",
            "_view_module_version": "1.2.0",
            "_view_name": "LayoutView",
            "align_content": null,
            "align_items": null,
            "align_self": null,
            "border": null,
            "bottom": null,
            "display": null,
            "flex": null,
            "flex_flow": null,
            "grid_area": null,
            "grid_auto_columns": null,
            "grid_auto_flow": null,
            "grid_auto_rows": null,
            "grid_column": null,
            "grid_gap": null,
            "grid_row": null,
            "grid_template_areas": null,
            "grid_template_columns": null,
            "grid_template_rows": null,
            "height": null,
            "justify_content": null,
            "justify_items": null,
            "left": null,
            "margin": null,
            "max_height": null,
            "max_width": null,
            "min_height": null,
            "min_width": null,
            "object_fit": null,
            "object_position": null,
            "order": null,
            "overflow": null,
            "overflow_x": null,
            "overflow_y": null,
            "padding": null,
            "right": null,
            "top": null,
            "visibility": null,
            "width": null
          }
        },
        "b6cb091aad164056adca6e9d13974348": {
          "model_module": "@jupyter-widgets/controls",
          "model_name": "DescriptionStyleModel",
          "model_module_version": "1.5.0",
          "state": {
            "_model_module": "@jupyter-widgets/controls",
            "_model_module_version": "1.5.0",
            "_model_name": "DescriptionStyleModel",
            "_view_count": null,
            "_view_module": "@jupyter-widgets/base",
            "_view_module_version": "1.2.0",
            "_view_name": "StyleView",
            "description_width": ""
          }
        }
      }
    }
  },
  "cells": [
    {
      "cell_type": "markdown",
      "metadata": {
        "id": "view-in-github",
        "colab_type": "text"
      },
      "source": [
        "<a href=\"https://colab.research.google.com/github/rikrikrahadian/DQLab/blob/main/Part_4_IF_Logic%2C_Function%2C_dan_Loop.ipynb\" target=\"_parent\"><img src=\"https://colab.research.google.com/assets/colab-badge.svg\" alt=\"Open In Colab\"/></a>"
      ]
    },
    {
      "cell_type": "markdown",
      "source": [
        "# CONTROL STRUCTURES: `Conditional Statements`, `Loops`, and `Function Calls`"
      ],
      "metadata": {
        "id": "Z5KM6th2lPKL"
      }
    },
    {
      "cell_type": "markdown",
      "source": [
        "## *Control Structures*\n",
        "> ***Control Structures*** adalah berbagai struktur yang disediakan dalam sebuah bahasa pemrograman yang dapat mempengaruhi **alur eksekusi perintah dalam sebuah program** (*Program's Control Flow*).\n",
        "\n",
        "Dari beberapa pertemuan pengenalan bahasa pemrograman Python sebelumnya, sebagian besar pengguna sudah dapat menebak secara intuitif bahwa *Program's Control Flow* pada Python dilakukan secara *sequential*, dimana berbagai *`statements`* pada sebuah program akan dibaca oleh Python interpreter secara per baris dari *statement* paling atas hingga ke paling bawah, dengan arah membaca setiap *statement* dari kiri ke kanan, dan hirarki evaluasi `expressions` yang akan dijalankan pada *statement* dari `expression` paling dalam ke luar.\n",
        "\n",
        "Dalam prakteknya, eksekusi `expressions` pada sebuah program tidak selalu berjalan sesederhana itu. Tidak jarang ditemui adanya keperluan untuk memberikan opsi agar:\n",
        "  1. beberapa baris *statements* tertentu dilalui tanpa dieksekusi;\n",
        "  2. melakukan pengulangan terhadap sebuah *block statement*; atau\n",
        "  3. memilih antara beberapa alternatif *block statements* yang harus dieksekusi.\n",
        "\n",
        "*Control structures* berguna untuk membantu dalam mengarahkan alur eksekusi *statements* sesuai dengan keperluan. Beberapa *control structures* yang umumnya dimanfaatkan dalam Python adalah:\n",
        "1. *`Conditional Statements`*;\n",
        "2. *`Loops`*;\n",
        "3. *`Function Calls`*; dan\n",
        "4. *`Exceptions Handling`*.\n",
        "\n",
        "Pertemuan ke-4 ini bertujuan untuk memberikan pemahaman dan penguasaan terhadap tiga *Control Structures* pertama yang disebutkan di atas. Adapun `Exceptions` akan disinggung secara sekilas saja pada bagian `Functions`, dengan pertimbangan terbatasnya waktu sehingga pembahasan dapat lebih difokuskan terhadap bagian yang lebih penting."
      ],
      "metadata": {
        "id": "PB8O2ndLzn03"
      }
    },
    {
      "cell_type": "markdown",
      "source": [
        "### *Indentation* Matters\n",
        "\n",
        "Serangkaian *statements* yang harus dieksekusi di bawah sebuah `conditional`, `loop`, atau `function`, disebut sebagai satu **`Block Statement`**. Dalam Python, blok seperti ini **ditentukan secara visual melalui indentasi** — ini dikenal sebagai aturan **off-side rule**.\n",
        "\n",
        "Aturan `off-side` ini menyatakan bahwa:\n",
        "\n",
        "> \"Semua *statements* dalam blok yang sama **harus** memiliki **indentasi yang seragam**, menjorok ke kanan dari baris pembuka blok (header).\"\n",
        "\n",
        "Baris pembuka blok (`Block Header`) di Python selalu diakhiri dengan tanda titik dua (`:`), dan biasanya mencakup struktur seperti `if`, `for`, `while`, `def`, dan sebagainya.\n",
        "\n",
        "Secara konvensi, indentasi untuk setiap blok menggunakan **dua atau empat spasi** dari baris pembuka (bukan tab campur spasi!). Contoh struktur blok dapat dilihat pada kode berikut:\n",
        "\n",
        "```python\n",
        "# Top-level statement (global scope)\n",
        "global_variable = 10\n",
        "\n",
        "# Block Header: 'if' statement\n",
        "if global_variable > 5:\n",
        "    # Block statements: indented 4 spaces\n",
        "    block_variable = global_variable * 2 if global_variable==5 else global_variable\n",
        "    print(\"Nilai block_variable:\", block_variable)\n",
        "```"
      ],
      "metadata": {
        "id": "L6OkweHSt7pV"
      }
    },
    {
      "cell_type": "markdown",
      "source": [
        "## `Conditionals`\n",
        "Penggunaan `conditionals` memungkinkan sebuah program melakukan semacam *decision-making* untuk menentukan **`Block Statement`** mana yang harus dieksekusi berdasarkan kondisi yang berlaku. Dalam bahasa pemrograman Python, eksekusi *statement* bersyarat dapat dilakukan dengan menggunakan `if statements`."
      ],
      "metadata": {
        "id": "Wol7kLjIc1Lu"
      }
    },
    {
      "cell_type": "markdown",
      "source": [
        "### `if` conditional\n",
        "`if` conditional adalah bentuk paling sederhana dari conditionals, dimana hanya diperlukan sebuah `block statement`, yang hanya akan dieksekusi ketika `conditional expression` yang diberikan terpenuhi (bernilai `True`), sebelum proses dilanjutkan ke `statement` di bawah `block statement` tersebut.\n",
        "\n",
        "Sedangkan jika `conditional expression` tidak terpenuhi (bernilai `False`), maka `block statement` akan dilangkahi, dan proses langsung dilakukan terhadap `statement` yang berada di bawah `block statement`.\n",
        "\n",
        "Berikut ini adalah format penulisan dari sebuah `if` conditional beserta *`block statement`*nya:\n",
        "```python\n",
        "if <conditional_expression>:\n",
        "    # block statement\n",
        "    <block statement>\n",
        "    # end of block statement\n",
        "<statement>\n",
        "```"
      ],
      "metadata": {
        "id": "k5YkvWiMBWPl"
      }
    },
    {
      "cell_type": "markdown",
      "source": [
        "#### **Ilustrasi 1**: *Use-case* `if` conditional\n",
        "Dalam sebuah program, tidak jarang diperlukan `users' input` untuk dipergunakan oleh program dalam pemrosesan lebih lanjut. Biasanya kebutuhan input bagi program tersebut memiliki format tertentu yang akan mengakibatkan error jika format tersebut tidak dipenuhi. Oleh karena itu, terhadap setiap `users' input` perlu dilakukan validasi untuk memastikan bahwa format inputan memiliki kesesuaian dengan kebutuhan. Sebuah `if` conditional dapat dipergunakan untuk memberikan notifikasi jika `users' input` tidak sesuai dengan format yang diperlukan, seperti diilustrasikan pada `code cell` di bawah ini."
      ],
      "metadata": {
        "id": "0CVFosXJwbm0"
      }
    },
    {
      "cell_type": "code",
      "source": [
        "# Meminta input berupa nama file beserta ekstensinya\n",
        "nama_file: str = input(\"Tuliskan nama file lengkap dengan ekstensinya (contoh: 'nama_file.csv'): \")\n",
        "# Conditions:\n",
        "condition_1: bool = nama_file.count('.')!=1\n",
        "condition_2: bool = nama_file.split('.')[-1] not in ['txt', 'csv', 'xls', 'xlsx', 'json']\n",
        "# Validasi sederhana nama_file\n",
        "if condition_1 | condition_2:                         # Awal If Block Statement: Cek penulisan nama file, apakah tidak valid\n",
        "    print(\"Penulisan nama atau tipe file salah!\")     # Akhir If Block Statement: Tampilkan pesan tidak valid\n",
        "print(\"Proses selesai!\")"
      ],
      "metadata": {
        "id": "aGSV0avZJdpN",
        "colab": {
          "base_uri": "https://localhost:8080/"
        },
        "outputId": "e3b9544e-e291-4746-ca88-b90c5e1b6768"
      },
      "execution_count": null,
      "outputs": [
        {
          "output_type": "stream",
          "name": "stdout",
          "text": [
            "Tuliskan nama file lengkap dengan ekstensinya (contoh: 'nama_file.csv'): rikrik_rahadian.pptx\n",
            "Penulisan nama atau tipe file salah!\n",
            "Proses selesai!\n"
          ]
        }
      ]
    },
    {
      "cell_type": "code",
      "source": [
        "condition_1 | condition_2"
      ],
      "metadata": {
        "colab": {
          "base_uri": "https://localhost:8080/"
        },
        "id": "AKZYNOT_FL5h",
        "outputId": "b0659a27-84c0-4fa5-cc8e-b484cef63780"
      },
      "execution_count": null,
      "outputs": [
        {
          "output_type": "execute_result",
          "data": {
            "text/plain": [
              "True"
            ]
          },
          "metadata": {},
          "execution_count": 6
        }
      ]
    },
    {
      "cell_type": "markdown",
      "source": [
        "### `if ... else` conditional\n",
        "`if ... else` conditional dipergunakan jika terdapat alternatif pemrosesan yang harus dilakukan ketika `conditional expression` yang ditetapkan tidak terpenuhi. Dengan menggunakan conditional ini, maka pada program akan dituliskan dua `block statement`, yaitu:\n",
        "1. `if block statement`; dan\n",
        "2. `else block statement`.\n",
        "\n",
        "Dalam pemrosesan program, hanya salah satu dari kedua `block statements` tersebut yang akan dieksekusi, sebelum proses dilanjutkan dengan eksekusi `statement` di bawah keduanya. Adapun `block statement` mana yang akan dieksekusi tergantung dari terpenuhi (`True`) atau tidaknya (`False`) `conditional expression` yang ditetapkan.\n",
        "\n",
        "Berikut ini adalah format penulisan `if ... else` conditional dan *block statements* masing-masingnya:\n",
        "```python\n",
        "if <Conditional expression>:\n",
        "    # if block statement\n",
        "    <block statement>\n",
        "    # end of if block statement\n",
        "else:\n",
        "    # else block statement\n",
        "    <block statement>\n",
        "    # end of else block statement\n",
        "<statement>\n",
        "```"
      ],
      "metadata": {
        "id": "N1IXlZkcis6r"
      }
    },
    {
      "cell_type": "markdown",
      "source": [
        "#### **Ilustrasi 2**: *Use-case* `if ... else` conditional\n",
        "Pada `code cell` di bawah ini dicontohkan penggunaan `if ... else` untuk memberikan notifikasi apakah `users' input` memiliki format yang sesuai atau tidak."
      ],
      "metadata": {
        "id": "ryJZwSAy0aQU"
      }
    },
    {
      "cell_type": "code",
      "source": [
        "# Mintakan input berupa nama file beserta ekstensinya\n",
        "nama_file = input(\"Tuliskan nama file, lengkap dengan ekstensinya (contoh: 'nama_file.csv'): \")\n",
        "# Conditions\n",
        "condition_1 = nama_file.count('.')!=1\n",
        "condition_2 = nama_file.split('.')[-1] not in ['txt', 'csv', 'xls', 'xlsx', 'json']\n",
        "\n",
        "# Validasi format nama_file\n",
        "if condition_1 | condition_2:                          # if Block Header: Cek penulisan nama file, apakah tidak valid\n",
        "    pesan = \"Penulisan nama/tipe file tidak sesuai!\"   # End of if Block: assign 'Penulisan nama file tidak sesuai format!` ke pesan\n",
        "else:                                                  # Else block Header: Jika penulisan nama file valid\n",
        "    pesan = \"File sesuai!\"                             # End of else block: assign 'Penulisan nama file sesuai format!` ke pesan\n",
        "\n",
        "print(\"NAMA FILE = '%s'\" % nama_file)\n",
        "print(\"HASIL VALIDASI = %s\" % pesan)"
      ],
      "metadata": {
        "id": "LGE4ynYWM6Jg",
        "colab": {
          "base_uri": "https://localhost:8080/"
        },
        "outputId": "43f3eac7-fa3f-4b7b-99c3-b7b5c9ff7e51"
      },
      "execution_count": null,
      "outputs": [
        {
          "output_type": "stream",
          "name": "stdout",
          "text": [
            "Tuliskan nama file, lengkap dengan ekstensinya (contoh: 'nama_file.csv'): rikrik_rahadian.xlsx\n",
            "NAMA FILE = 'rikrik_rahadian.xlsx'\n",
            "HASIL VALIDASI = File sesuai!\n"
          ]
        }
      ]
    },
    {
      "cell_type": "markdown",
      "source": [
        "DRY : Don't Repeat yourself!!!"
      ],
      "metadata": {
        "id": "t43SSD_DHtkj"
      }
    },
    {
      "cell_type": "markdown",
      "source": [
        "### `if ... elif ... else` conditionals\n",
        "`elif` merupakan kependekan dari `else if`. Conditional ini akan diterapkan jika terdapat lebih dari dua alternatif pemrosesan yang harus dilakukan, sehingga jumlah `block statement` yang harus dituliskan akan sama dengan jumlah alternatif yang tersedia.\n",
        "\n",
        "Berikut ini adalah format penulisan `if ... elif ... else` conditional dan masing-masing *block statement*nya:\n",
        "```python\n",
        "if <conditional expression 1>:\n",
        "    # if block statement\n",
        "    <block statement>\n",
        "    # end of if block statement\n",
        "elif <conditional expression 2>:\n",
        "    # elif block statement\n",
        "    <block statement>\n",
        "    # end of elif block statement\n",
        "elif <conditional expression 3>:\n",
        "    # elif block statement\n",
        "    <block statement>\n",
        "    # end of elif block statement\n",
        "...\n",
        "...\n",
        "else:\n",
        "    # else block statement\n",
        "    <block statement>\n",
        "    # end of else block statement\n",
        "<statement>\n",
        "```"
      ],
      "metadata": {
        "id": "AWpWHOVHix3m"
      }
    },
    {
      "cell_type": "markdown",
      "source": [
        "#### **Ilustrasi 3**: `if ... elif ... else` conditional\n",
        "Di bawah berikut dapat dilihat sebuah *use-case* bagi `if ... elif ... else` conditional, yang dipergunakan untuk memberikan notifikasi apakah nama file yang menjadi `users-input` adalah file berisi data atau bukan, berdasarkan variabel `ekstensi_file` yang dihasilkan dari proses sebelumnya."
      ],
      "metadata": {
        "id": "mmlT3orb4hZx"
      }
    },
    {
      "cell_type": "code",
      "source": [
        "\"rikrik_rahadian.pptx\".split('.')[3]"
      ],
      "metadata": {
        "colab": {
          "base_uri": "https://localhost:8080/",
          "height": 141
        },
        "id": "tSK-xgb4JBxI",
        "outputId": "057d15fa-cc94-430b-93fd-eee0d554ff48"
      },
      "execution_count": null,
      "outputs": [
        {
          "output_type": "error",
          "ename": "IndexError",
          "evalue": "list index out of range",
          "traceback": [
            "\u001b[0;31m---------------------------------------------------------------------------\u001b[0m",
            "\u001b[0;31mIndexError\u001b[0m                                Traceback (most recent call last)",
            "\u001b[0;32m<ipython-input-24-44ed14ea5e90>\u001b[0m in \u001b[0;36m<cell line: 0>\u001b[0;34m()\u001b[0m\n\u001b[0;32m----> 1\u001b[0;31m \u001b[0;34m\"rikrik_rahadian.pptx\"\u001b[0m\u001b[0;34m.\u001b[0m\u001b[0msplit\u001b[0m\u001b[0;34m(\u001b[0m\u001b[0;34m'.'\u001b[0m\u001b[0;34m)\u001b[0m\u001b[0;34m[\u001b[0m\u001b[0;36m3\u001b[0m\u001b[0;34m]\u001b[0m\u001b[0;34m\u001b[0m\u001b[0;34m\u001b[0m\u001b[0m\n\u001b[0m",
            "\u001b[0;31mIndexError\u001b[0m: list index out of range"
          ]
        }
      ]
    },
    {
      "cell_type": "code",
      "source": [
        "# Mintakan input berupa nama file beserta ekstensinya\n",
        "nama_file = input(\"Tuliskan nama file, lengkap dengan ekstensinya (contoh: 'nama_file.csv'): \")\n",
        "\n",
        "# Pisahkan ekstensi_file dari nama_file\n",
        "if nama_file.count('.')!=1:                    # Awal If Block: Cek penulisan nama file, apakah tidak valid\n",
        "    ekstensi_file = None                       # If Block statement: Assign nama_diinput ke nama_file\n",
        "else:                                          # Awal Else Block: Jika penulisan nama file valid\n",
        "    ekstensi_file = nama_file.split(\".\")[-1]   # Else Block statement: Proses Separasi nama dan ekstensi_file\n",
        "\n",
        "# Pengecekan apakah file adalah file data atau bukan\n",
        "if ekstensi_file in ['csv', 'xls', 'xlsx', 'txt', 'json']:\n",
        "  pesan = f\"File '{nama_file}' adalah file data!\"\n",
        "elif ekstensi_file is None:\n",
        "  pesan = f\"Penulisan nama file '{nama_file}' tidak valid.\"\n",
        "else:\n",
        "  pesan = f\"File '{nama_file}' bukan file data!\"\n",
        "\n",
        "print(pesan)"
      ],
      "metadata": {
        "id": "MyN3MIpegFZ-",
        "colab": {
          "base_uri": "https://localhost:8080/"
        },
        "outputId": "16781914-7cfa-4f72-804b-d1fd0d8245ef"
      },
      "execution_count": null,
      "outputs": [
        {
          "output_type": "stream",
          "name": "stdout",
          "text": [
            "Tuliskan nama file, lengkap dengan ekstensinya (contoh: 'nama_file.csv'): rikrik_rahadian.json\n",
            "File 'rikrik_rahadian.json' adalah file data!\n"
          ]
        }
      ]
    },
    {
      "cell_type": "markdown",
      "source": [
        "Statement `if ... elif ... else` seperti diilustrasikan di atas memberikan keleluasan kepada programmer untuk mengekspresikan percabangan pemrosesan dengan alternatif conditional yang tidak terbatas. Meskipun demikian, penggunaan yang berlebihan biasanya akan meningkatkan kerumitan serta berpengaruh terhadap menurunnya *readability* script dari program. Oleh karena itu, penggunaan `if ... elif ... else` yang terlalu eksesif, jika memungkinkan, harus dihindari."
      ],
      "metadata": {
        "id": "Q-tc6_UXErxp"
      }
    },
    {
      "cell_type": "markdown",
      "source": [
        "### Conditional Operator (Python Ternary Operators)\n",
        "> Berbeda dengan ketiga *conditionals* yang telah dibahas sebelumnya, `Conditional Operator` bukanlah sebuah `control structure`, namun bertindak sebagai sebuah operator yang mendefinisikan `expression` mana yang harus digunakan oleh sebuah `statement`.\n",
        "\n",
        "`Conditional Operator` tergolong sebagai `one-liner` operator, dengan format penulisan paling sederhana seperti di bawah ini:\n",
        "```python\n",
        "<expr_1> if <conditional_expr> else <expr_2>\n",
        "```\n",
        "Urutan eksekusi operator di atas adalah seperti demikian: *interpreter* akan mengevaluasi `conditional_expr`, yang berada di tengah, terlebih dahulu, lalu mengeksekusi `expression` yang terkait dengan hasil evaluasi, dimana:\n",
        "  - Jika bernilai `True`, maka operator akan memberikan hasil `expr_1` untuk digunakan dalam `statement`;\n",
        "  - Jika bernilai `False`, maka operator akan memberikan hasil `expr_2` untuk digunakan dalam `statement`."
      ],
      "metadata": {
        "id": "AihsJ3u9c-Cx"
      }
    },
    {
      "cell_type": "markdown",
      "source": [
        "#### **Ilustrasi 4**: Ternary Operator\n",
        "Di bawah berikut, dapat diamati bagaimana sebuah `ternary operator` diterapkan untuk menjalankan proses yang sama dengan yang dilakukan pada **Ilustrasi 3** sebelumnya."
      ],
      "metadata": {
        "id": "fo5qVUcQ7jo0"
      }
    },
    {
      "cell_type": "code",
      "source": [
        "# Mintakan input berupa nama file beserta ekstensinya\n",
        "nama_file = input(\"Tuliskan nama file, lengkap dengan ekstensinya (contoh: 'nama_file.csv'): \")\n",
        "\n",
        "# Percabangan `if ... else` untuk memisahkan ekstensi dari nama_file\n",
        "if nama_file.count('.')!=1:                  # Awal Conditional Block: Cek penulisan nama file, apakah tidak valid\n",
        "    ekstensi_file  = None                    # Block statement: Assign nama_diinput ke nama_file\n",
        "else:                                        # Awal Else Block: Jika penulisan nama file valid\n",
        "    ekstensi_file = nama_file.split(\".\")[-1] # Block statement: Proses Separasi\n",
        "\n",
        "# Menggunakan Ternary Operator untuk melakukan pengecekan file data\n",
        "pengecekan = \"adalah file data!\" if (ekstensi_file in ['txt', 'xls', 'xlsx', 'json', 'csv']) else 'bukan file data' if (ekstensi_file is not None) else \"penulisan namanya tidak valid.\"\n",
        "\n",
        "# Tampilkan pesan ke layar\n",
        "print(f\"File '{nama_file}' {pengecekan}!\")"
      ],
      "metadata": {
        "id": "Uuqoc8EDeGXd",
        "colab": {
          "base_uri": "https://localhost:8080/"
        },
        "outputId": "bf447a86-3542-4e8b-c113-21cffb224e78"
      },
      "execution_count": null,
      "outputs": [
        {
          "output_type": "stream",
          "name": "stdout",
          "text": [
            "Tuliskan nama file, lengkap dengan ekstensinya (contoh: 'nama_file.csv'): rikrik_rahadian.xlsx\n",
            "File 'rikrik_rahadian.xlsx' adalah file data!!\n"
          ]
        }
      ]
    },
    {
      "cell_type": "markdown",
      "source": [
        "## `Loops`\n",
        "Pada sebuah program, `Loop` dipergunakan untuk melakukan pengulangan proses terhadap sebuah `block statements` tertentu yang menjadi bagian dari program tersebut, sebelum proses dilanjutkan ke `statements` berikutnya. Pengulangan proses seperti yang dideskripsikan di atas, dalam bahasa pemrograman biasanya disebut dengan istilah `Iteration`.\n",
        "\n",
        "Pada bahasa pemrograman Python, terdapat dua macam `iterations` yang biasanya dilakukan, yaitu:\n",
        "1. `Definite Iteration`: pada iterasi jenis ini, jumlah iterasi yang akan dilakukan sudah ditentukan dari awal, sehingga secara otomatis proses iterasi akan berhenti ketika jumlah yang dilakukan sudah mencapai jumlah yang ditentukan tersebut; dan\n",
        "2. `Indefinite Iteration`: pada iterasi jenis ini, jumlah iterasi yang harus dilakukan tidak ditentukan, namun proses akan berhenti jika kondisi tertentu telah tercapai."
      ],
      "metadata": {
        "id": "nyOVq2eByGB8"
      }
    },
    {
      "cell_type": "markdown",
      "source": [
        "### `Definite Iteration`\n",
        "Pada bahasa pemrograman Python, `Definite Iteration` dapat dilakukan dengan menggunakan `statement` `for` loop. Di bawah berikut dapat diamati format standar penulisan dari `statement` `for` loop:\n",
        "```python\n",
        "for var in iterable:\n",
        "    # Block statement\n",
        "    <statement>\n",
        "    # end of block statement\n",
        "```\n",
        "> `iterable` adalah sebuah `collection`/`container` berisi objek, seperti `list`, `tuple`, `set`, `dictionary`, fungsi `range`, atau `iterator` objek.\n",
        "\n",
        "Perhatikan penulisan `<statement>` berindentasi di bawah `statement` `for`, yang menunjukkan bahwa berbagai `statements` tersebut merupakan sebuah `block statement` yang akan diiterasi untuk setiap `var` yang dimuat di dalam `iterable`."
      ],
      "metadata": {
        "id": "edsY4jlpyIm8"
      }
    },
    {
      "cell_type": "markdown",
      "source": [
        "#### **Ilustrasi 5**: Basic *use-case* of `for` loop"
      ],
      "metadata": {
        "id": "Tsk36Whi9Skr"
      }
    },
    {
      "cell_type": "code",
      "source": [
        "import time\n",
        "\n",
        "# Melakukan iterasi terhadap setiap elemen dari sebuah list\n",
        "for bunga in ['Mawar', 'Melati', 'Anggrek', 'Bank', 'Sakura']:\n",
        "    # Menampilkan setiap elemen ke layar menggunakan fungsi `print()`\n",
        "    print(bunga if bunga not in ['Bank'] else f\"-->> {bunga} <<--\")\n",
        "    time.sleep(0.5)"
      ],
      "metadata": {
        "id": "-yWcWZt-bppY",
        "colab": {
          "base_uri": "https://localhost:8080/"
        },
        "outputId": "67625ba9-8bb5-4f3e-875c-ef6ec33224d9"
      },
      "execution_count": null,
      "outputs": [
        {
          "output_type": "stream",
          "name": "stdout",
          "text": [
            "Mawar\n",
            "Melati\n",
            "Anggrek\n",
            "-->> Bank <<--\n",
            "Sakura\n"
          ]
        }
      ]
    },
    {
      "cell_type": "markdown",
      "source": [
        "#### **Ilustrasi 6**: `List` construction\n",
        "Pada ilustrasi ini, dicontohkan pemanfaatan `for loop block statements` untuk menghasilkan tiga `list` yang berbeda terhadap setiap elemen pada object `range()`."
      ],
      "metadata": {
        "id": "URXshs2V9f7S"
      }
    },
    {
      "cell_type": "code",
      "source": [
        "# Memisahkan angka 0-9 menjadi genap dan ganjil menggunakan for loop\n",
        "# Membuat tiga list kosong\n",
        "semua_angka, angka_genap, angka_ganjil = [], [], []\n",
        "# Melakukan iterasi bagi elemen pada sebuah object range()\n",
        "for number in range(0, 10, 1):\n",
        "    # tambahkan number ke list semua_angka\n",
        "    semua_angka.append(number)\n",
        "    # Cek apakah elemen genap\n",
        "    if (number % 2 == 0):\n",
        "        # tambahkan ke list angka_genap\n",
        "        angka_genap.append(number)\n",
        "    # Jika tidak genap\n",
        "    else:\n",
        "        # tambahkan ke list angka_ganjil\n",
        "        angka_ganjil.append(number)\n",
        "\n",
        "print(semua_angka)\n",
        "print(angka_ganjil)\n",
        "print(angka_genap)"
      ],
      "metadata": {
        "id": "RFliMs5fwf90",
        "colab": {
          "base_uri": "https://localhost:8080/"
        },
        "outputId": "47547eb0-374e-41ce-f8a3-2b4ee767a57b"
      },
      "execution_count": null,
      "outputs": [
        {
          "output_type": "stream",
          "name": "stdout",
          "text": [
            "[0, 1, 2, 3, 4, 5, 6, 7, 8, 9]\n",
            "[1, 3, 5, 7, 9]\n",
            "[0, 2, 4, 6, 8]\n"
          ]
        }
      ]
    },
    {
      "cell_type": "markdown",
      "source": [
        "#### List Comprehension\n",
        "> `List Comprehension` adalah salah satu metode yang dipergunakan untuk membuat atau mentransformasikan sebuah `list` dengan memanfaatkan `for` loop.\n",
        "\n",
        "Dengan memanfaatkan `list comprehension`, pembuatan `list` seperti pada ilustrasi sebelumnya di atas dapat dilakukan dengan cara yang jauh lebih *elegan* dan ringkas. Berikut ini adalah format dari penulisan sebuah perintah `one-liner`, `list comprehension` standar:\n",
        "```python\n",
        "nama_list = [<expression> for <var> in <iterable> if <conditional_expr>]\n",
        "```"
      ],
      "metadata": {
        "id": "wsdm0KxIxvpu"
      }
    },
    {
      "cell_type": "markdown",
      "source": [
        "#### **Ilustrasi 7**: *Use-case* `list comprehension`\n",
        "Di bawah ini dapat diamati penggunaan `list comprehension` untuk melakukan `list` construction yang serupa dengan yang dilakukan pada **Ilustrasi 6** sebelumnya."
      ],
      "metadata": {
        "id": "W9eRfSO5-JYF"
      }
    },
    {
      "cell_type": "code",
      "source": [
        "# Membuat list dari range(0, 10, 1)\n",
        "semua_angka_comp = [num for num in range(0, 10, 1)]\n",
        "# Pisahkan angka genap dari range(0, 10, 1)\n",
        "angka_genap_comp = [nomor for nomor in range(0, 10, 1) if (nomor % 2 == 0)]\n",
        "# Pisahkan angka ganjil dari range(0, 10, 1)\n",
        "angka_ganjil_comp = [angka for angka in range(0, 10, 1) if (angka % 2 != 0)]\n",
        "\n",
        "print(semua_angka_comp)\n",
        "print(angka_ganjil_comp)\n",
        "print(angka_genap_comp)"
      ],
      "metadata": {
        "id": "VnC_4X1Cx_Pj",
        "colab": {
          "base_uri": "https://localhost:8080/"
        },
        "outputId": "bd2ad2d3-d034-4dfd-ed8f-262a301103ba"
      },
      "execution_count": null,
      "outputs": [
        {
          "output_type": "stream",
          "name": "stdout",
          "text": [
            "[0, 1, 2, 3, 4, 5, 6, 7, 8, 9]\n",
            "[1, 3, 5, 7, 9]\n",
            "[0, 2, 4, 6, 8]\n"
          ]
        }
      ]
    },
    {
      "cell_type": "markdown",
      "source": [
        "**CHALLENGE** -- Lakukan pembuatan list untuk angka genap dan ganjil, dengan `list comprehension` tanpa menggunakan conditional."
      ],
      "metadata": {
        "id": "iScx_wd4HD9M"
      }
    },
    {
      "cell_type": "code",
      "source": [
        "angka_ganjil_noif = [angka for angka in range(1, 10, 2)]\n",
        "angka_genap_noif = [numero for numero in range(0, 10, 2)]\n",
        "\n",
        "print(angka_ganjil_noif)\n",
        "print(angka_genap_noif)"
      ],
      "metadata": {
        "id": "H_MSamkSHbXw",
        "colab": {
          "base_uri": "https://localhost:8080/"
        },
        "outputId": "fb3ea0b4-07cb-4e4b-a38a-c3830a191367"
      },
      "execution_count": null,
      "outputs": [
        {
          "output_type": "stream",
          "name": "stdout",
          "text": [
            "[1, 3, 5, 7, 9]\n",
            "[0, 2, 4, 6, 8]\n"
          ]
        }
      ]
    },
    {
      "cell_type": "markdown",
      "source": [
        "### `Indefinite Iteration`\n",
        "Untuk melakukan `indefinite iteration`, Python menyediakan `statement` `while` loop. Di bawah berikut dapat dicermati format standar penulisan `while` loop.\n",
        "```python\n",
        "while <conditional_expression>:\n",
        "    # block statement\n",
        "    <block statement>\n",
        "    # End of block statement\n",
        "```\n",
        "Berbagai `statements` pada `while block` seperti di atas, akan terus diiterasi selama `conditional_expr` yang dinyatakan pada awal `while block` terpenuhi."
      ],
      "metadata": {
        "id": "1fE8u0DxyYyF"
      }
    },
    {
      "cell_type": "markdown",
      "source": [
        "#### **Ilustrasi 8**: Basic *use-case* `while` loop\n",
        "Pada ilustrasi ini, `while` loop dipergunakan untuk membuat sebuah program yang melakukan *countdown* mulai dari nilai angka tertentu yang di set berdasarkan `users' input`."
      ],
      "metadata": {
        "id": "pqZ5VRUf-t5K"
      }
    },
    {
      "cell_type": "code",
      "source": [
        "# Minta user menginput nilai untuk angka_awal\n",
        "angka_awal = int(input(\"Hitung mundur dari angka berapa? \"))\n",
        "\n",
        "while angka_awal >= 0:\n",
        "  print(angka_awal)\n",
        "  angka_awal -= 1 # angka_awal dikurangi 1\n",
        "  time.sleep(0.5)"
      ],
      "metadata": {
        "id": "nYpg_jeGySF_",
        "colab": {
          "base_uri": "https://localhost:8080/"
        },
        "outputId": "41091c5c-2d13-430a-acdf-acfb25f2b9d0"
      },
      "execution_count": null,
      "outputs": [
        {
          "output_type": "stream",
          "name": "stdout",
          "text": [
            "Hitung mundur dari angka berapa? 15\n",
            "15\n",
            "14\n",
            "13\n",
            "12\n",
            "11\n",
            "10\n",
            "9\n",
            "8\n",
            "7\n",
            "6\n",
            "5\n",
            "4\n",
            "3\n",
            "2\n",
            "1\n",
            "0\n"
          ]
        }
      ]
    },
    {
      "cell_type": "markdown",
      "source": [
        "### Altering `loop` behaviour\n",
        "Proses iterasi pada berbagai loop seperti dijelaskan sebelumnya, dapat diinterupsi dengan memanfaatkan beberapa `statements` berikut:\n",
        "1. `break`, dipergunakan untuk menghentikan proses iterasi dan keluar dari `block statements`;\n",
        "2. `continue`, dipergunakan untuk melangkahi iterasi yang sedang berlangsung, dan lanjut ke iterasi berikutnya;\n",
        "3. `pass`, dipergunakan untuk menandai bahwa `block statements` bagi loop belum selesai dibuat, `statement` ini memberikan isyarat agar loop tidak mengerjakan apapun."
      ],
      "metadata": {
        "id": "Py8DuCjkQ8qN"
      }
    },
    {
      "cell_type": "markdown",
      "source": [
        "#### **Ilustrasi 9**: *Use-case* `break`"
      ],
      "metadata": {
        "id": "6BNolIwzCIxx"
      }
    },
    {
      "cell_type": "code",
      "source": [
        "# Menghentikan iterasi pada loop ketika i bernilai 6\n",
        "for i in range(100):\n",
        "  print(i)\n",
        "  if i == 6:\n",
        "    break\n",
        "  time.sleep(0.5)"
      ],
      "metadata": {
        "id": "F3o3RRAjQp7N",
        "colab": {
          "base_uri": "https://localhost:8080/"
        },
        "outputId": "baa3c8f3-f258-4f47-dd0b-e0987a2f07d2"
      },
      "execution_count": null,
      "outputs": [
        {
          "output_type": "stream",
          "name": "stdout",
          "text": [
            "0\n",
            "1\n",
            "2\n",
            "3\n",
            "4\n",
            "5\n",
            "6\n"
          ]
        }
      ]
    },
    {
      "cell_type": "code",
      "source": [
        "# Validasi inputan user\n",
        "while True:\n",
        "  pilihan = input(\"\\rApakah proses akan dilanjutkan? (y/n): \")\n",
        "  if pilihan in ['y', 'n']:\n",
        "    break\n",
        "  print(\"\\rPilihan tidak valid, silahkan diulang!\", end=\"\")"
      ],
      "metadata": {
        "id": "EhtneW_aefX0",
        "colab": {
          "base_uri": "https://localhost:8080/"
        },
        "outputId": "173ea03d-8a24-4e5e-a44b-b1f3b13499fa"
      },
      "execution_count": null,
      "outputs": [
        {
          "name": "stdout",
          "output_type": "stream",
          "text": [
            "\rApakah proses akan dilanjutkan? (y/n): y\n"
          ]
        }
      ]
    },
    {
      "cell_type": "markdown",
      "source": [
        "#### **Ilustrasi 10**: *Use-case* `continue`"
      ],
      "metadata": {
        "id": "Ki5glzgmCRER"
      }
    },
    {
      "cell_type": "code",
      "source": [
        "# Ketika i bernilai ganjil, iterasi dilangkahi lalu lanjut ke iterasi selanjutnya\n",
        "for i in range(10):\n",
        "  if (i % 2 != 0):\n",
        "    continue\n",
        "  print(i)\n",
        "  time.sleep(0.5)"
      ],
      "metadata": {
        "id": "TjBCcQS6RUZe",
        "colab": {
          "base_uri": "https://localhost:8080/"
        },
        "outputId": "dffa627a-12a5-413b-82be-70a922aa70fa"
      },
      "execution_count": null,
      "outputs": [
        {
          "output_type": "stream",
          "name": "stdout",
          "text": [
            "0\n",
            "2\n",
            "4\n",
            "6\n",
            "8\n"
          ]
        }
      ]
    },
    {
      "cell_type": "markdown",
      "source": [
        "#### **Ilustrasi 11**: *Use-case* `pass`"
      ],
      "metadata": {
        "id": "Sv0DgDXiCa9b"
      }
    },
    {
      "cell_type": "code",
      "source": [
        "# Menandai bahwa `block statements` belum ditentukan\n",
        "for i in range(10):\n",
        "  pass"
      ],
      "metadata": {
        "id": "2ebQ-_stRcMp"
      },
      "execution_count": null,
      "outputs": []
    },
    {
      "cell_type": "markdown",
      "source": [
        "### EXERCISE 1\n",
        "Lakukan inventarisir **file-file berisi data** yang ada di folder 'sample_data'. Untuk itu tuliskan code bagi beberapa *statements* di bawah berikut:\n",
        "1. import method `glob` dari modul `glob`;\n",
        "2. import modul os\n",
        "3. minta user input untuk nama folder yang akan diinventarisir, lalu assign inputannya ke variabel `folder`;\n",
        "4. assign text `\"*\"` ke variabel `file_name_pattern`;\n",
        "5. gabungkan `folder` dan `file_name_pattern` menjadi sebuah variabel `file_path` menggunakan method `os.path.join`;\n",
        "6. gunakan method `glob`, masukkan `file_path` sebagai argument, assign hasilnya ke variabel `list_file`;\n",
        "7. buat sebuah list kosong, assign ke variabel bernama `daftar_file_data`;\n",
        "8. lakukan iterasi berikut terhadap setiap `file` yang ada pada `list_file`:\n",
        "    - gunakan method `split()` terhadap `file` dengan `\".\"` sebagai separator, ambil item paling akhir, lalu assign ke variabel `ekstensi_file`;\n",
        "    - Gunakan operator `in` untuk melakukan pengecekan apakah `ekstensi_file` ada di list `['xls', 'xlsx', 'txt', 'csv', 'json']`;\n",
        "    - Jika hasil pengecekan adalah `True`, maka:\n",
        "        - gunakan method `split()` terhadap file dengan `\"/\"` sebagai separator, ambil hanya elemen terakhir, lalu `append` hasilnya ke `daftar_file_data`;\n",
        "9. Buat sebuah dictionary dengan key = `folder` dan value = `daftar_file_data`, assign ke variabel `dict_file_data`."
      ],
      "metadata": {
        "id": "dM60kCPrbYNr"
      }
    },
    {
      "cell_type": "code",
      "source": [
        "glob(\"sample_data/*\")"
      ],
      "metadata": {
        "colab": {
          "base_uri": "https://localhost:8080/"
        },
        "id": "gV8dnmZfX0Pj",
        "outputId": "23645567-2f2c-4443-9376-58d52b1a87f6"
      },
      "execution_count": null,
      "outputs": [
        {
          "output_type": "execute_result",
          "data": {
            "text/plain": [
              "['sample_data/anscombe.json',\n",
              " 'sample_data/README.md',\n",
              " 'sample_data/mnist_test.csv',\n",
              " 'sample_data/mnist_train_small.csv',\n",
              " 'sample_data/california_housing_train.csv',\n",
              " 'sample_data/california_housing_test.csv']"
            ]
          },
          "metadata": {},
          "execution_count": 57
        }
      ]
    },
    {
      "cell_type": "code",
      "source": [
        "# GANTILAH SETIAP KARAKTER '_____' PADA STATEMENTS DI BAWAH BERIKUT\n",
        "# DENGAN EKSPRESI YANG SEHARUSNYA, LALU RUN CELL INI.\n",
        "# Import method glob dari modul glob\n",
        "from glob import glob\n",
        "# Import modul os\n",
        "import os\n",
        "\n",
        "\n",
        "# Minta input berupa nama folder\n",
        "folder = input(\"Tuliskan folder tempat file: \")\n",
        "\n",
        "# Buat text pattern file\n",
        "file_name_pattern = \"*\"\n",
        "\n",
        "# Gabungkan nama folder dan pattern file, assign sebagai file_path\n",
        "file_path = os.path.join(folder, file_name_pattern)\n",
        "\n",
        "# masukkan file_path ke fungsi glob, lalu assign hasilnya ke 'list_file'\n",
        "list_file = glob(file_path)\n",
        "\n",
        "# Buat list kosong\n",
        "daftar_file_data = list()\n",
        "\n",
        "# iterasi file yang tercatat pada 'list_file'\n",
        "for nama_file in list_file:\n",
        "    # Pisahkan ekstensi_file dari nama_file\n",
        "    ekstensi_file = nama_file.split(\".\")[-1]\n",
        "    # Cek ekstensi_file apakah merupakan ekstensi untuk file data\n",
        "    if ekstensi_file in ['xls', 'xlsx', 'txt', 'csv', 'json']:\n",
        "        # Jike hasil pengecekan adalah True\n",
        "        daftar_file_data.append(nama_file.split(\"/\")[-1])\n",
        "\n",
        "# Buat dictionary dengan key = folder dan value = daftar_file_data\n",
        "folder_data = {\n",
        "    folder: daftar_file_data\n",
        "}\n",
        "\n",
        "folder_data"
      ],
      "metadata": {
        "id": "GcuQOz_MrCRd",
        "colab": {
          "base_uri": "https://localhost:8080/"
        },
        "outputId": "c821db67-b323-49d9-e690-5e9364f4a2bb"
      },
      "execution_count": null,
      "outputs": [
        {
          "name": "stdout",
          "output_type": "stream",
          "text": [
            "Tuliskan folder tempat file: sample_data\n"
          ]
        },
        {
          "output_type": "execute_result",
          "data": {
            "text/plain": [
              "{'sample_data': ['anscombe.json',\n",
              "  'mnist_test.csv',\n",
              "  'mnist_train_small.csv',\n",
              "  'california_housing_train.csv',\n",
              "  'california_housing_test.csv']}"
            ]
          },
          "metadata": {},
          "execution_count": 56
        }
      ]
    },
    {
      "cell_type": "markdown",
      "source": [
        "## `Function` calls\n",
        "> Dalam bahasa pemrograman, sebuah fungsi adalah sebuah `block statements` yang terpisah dan dikembangkan, idealnya, untuk mengerjakan sebuah tugas spesifik tertentu.\n",
        "\n",
        "Dalam bahasa pemrograman Python, terdapat dua macam fungsi, yaitu fungsi-fungsi `built-in` dan `user-defined`. Sebagai ilustrasi, berbagai fungsi pada `common sequence operators`--seperti `len()`, `max()`, `min()` yang diperkenalkan pada sesi ke-8 sebelumnya--adalah beberapa contoh dari fungsi `built-in` yang disediakan oleh python.\n",
        "\n",
        "Umumnya, setiap bahasa pemrograman yang berkembang memberikan kebebasan kepada penggunanya untuk mengembangkan fungsi yang memenuhi kebutuhan pemrosesan bagi program yang dikembangkannya. Fungsi `user-defined` memberikan keuntungan bagi proses pengembangan program, utamanya dari segi *reusability* dan *modularity* fungsi yang dikembangkan.\n",
        "\n",
        "Pada sesi ke-9 ini, kita akan mempelajari tata cara pembuatan, dan penggunaan fungsi `user-defined`. Di bawah berikut adalah format dasar bagi pendefinisian sebuah fungsi pada Python.\n",
        "```python\n",
        "def function_name([<parameters>]):\n",
        "    # Function block statement\n",
        "    <block statement>\n",
        "    \n",
        "    return <output(s)>\n",
        "```\n",
        "Dari format di atas, terdapat beberapa komponen penting sebagai berikut:\n",
        "1. `def` : sebuah *keyword* penting yang memberitahukan kepada Python bahwa sebuah fungsi sedang didefinisikan;\n",
        "2. `function_name` : Sebuah *identifier* unik yang memberi identitas nama bagi fungsi yang didefinisikan, sebagai nama panggil;\n",
        "3. `<parameters>` : Opsional, list parameter yang dipisahkan oleh koma, yang akan dipergunakan oleh fungsi sebagai input;\n",
        "4. `:` : Penanda awal dari sebuah `function block`;\n",
        "5. `<block statement>` : Berbagai ekspressi yang dituliskan dengan indentasi yang tepat, dalam bahasa pemrograman Python yang akan diproses ketika fungsi dipanggil;\n",
        "6. `return`: sebuah `statement` yang dituliskan di akhir sebuah `block statement` sebagai:\n",
        "  - Penanda bagi Python bahwa `function block` sudah selesai diproses; dan\n",
        "  - Perintah untuk mengeluarkan hasil pemrosesan ke *environment*.\n",
        "\n",
        "Hal yang perlu diperhatikan dalam pembuatan `user-defined` function:\n",
        "1. Biasakan membuat fungsi yang hanya mengerjakan satu tugas tertentu saja;\n",
        "2. Berikan `<function_name>` yang secara ringkas mendeskripsikan tugas apa yang dilakukan oleh fungsi tersebut;\n",
        "3. Berikan nama `<parameters>` yang deskriptif, memudahkan untuk menebak argument macam apa yang harus disisipkan;\n",
        "4. Dokumentasikan fungsi:\n",
        "   - Tipe data untuk masing-masing `<parameter>`;\n",
        "   - Tipe data dari Output yang dihasilkan;\n",
        "   - Dokumentasikan tujuan dan informasi lainnya di bawah `block` header;\n",
        "   - Gunakan `comment` untuk menjelaskan berbagai `<statements>`.\n",
        "\n",
        "Adapun syntax yang dipergunakan untuk memanggil fungsi yang sudah dibuat, adalah sebagai berikut:\n",
        "```python\n",
        "function_name(parameters=arguments)\n",
        "```\n",
        "\n"
      ],
      "metadata": {
        "id": "9rzPbPwhqJjn"
      }
    },
    {
      "cell_type": "markdown",
      "source": [
        "#### Outcome of `function calls`\n",
        "Terdapat dua kondisi akhir yang mungkin terjadi ketika sebuah fungsi dipanggil, yaitu: **normal** atau **abnormal**.\n",
        "\n",
        "1. Sebuah fungsi berakhir secara normal ketika terdapat kesesuaian antara tipe berbagai `parameter` yang diinput dengan persyaratan pemrosesan, sehingga pemrosesan menghasilkan output.\n",
        "2. Sebuah fungsi berakhir secara abnormal ketika terjadi ketidaksesuaian tipe `parameter` yang diinput dengan persyaratan pemrosesan, sehingga proses terhenti dan gagal menghasilkan output.\n",
        "\n",
        "Perhatikan contoh *script* di bawah berikut:\n",
        "```python\n",
        "# Konstruksi fungsi\n",
        "def pembagian_angka(dibagi, pembagi):\n",
        "  hasil = dibagi / pembagi\n",
        "\n",
        "  return hasil\n",
        "\n",
        "# Pemanggilan fungsi\n",
        "# Proses angka 4 dibagi 2\n",
        "bagi_angka_1 = pembagian_angka(4, 2)\n",
        "print(bagi_angka_1)                      # Output: 2\n",
        "\n",
        "# Proses angka 4 dibagi 0\n",
        "bagi_angka_2 = pembagian_angka(4, 0) # Output: ZeroDivisionError: division by zero\n",
        "print(bagi_angka_2)\n",
        "```\n",
        "Dari script di atas, dapat kita lihat bahwa `Proses angka 4 dibagi 2` berakhir secara normal, sedangkan `Proses angka 4 dibagi 0` berakhir secara abnormal.\n",
        "\n",
        "Ketika proses berakhir secara abnormal, secara *default* python akan memuntahkan pesan kesalahan seperti yang dicontohkan. Meskipun demikian, pesan kesalahan *default* tersebut biasanya masih kurang bisa dimengerti oleh *users*. Sebaiknya sebuah fungsi disertai dengan proses validasi kesesuaian `argument` dengan persyaratan pemrosesan seperti dicontohkan di bawah berikut.\n",
        "```python\n",
        "# Konstruksi fungsi\n",
        "def pembagian_angka_val(dibagi, pembagi):\n",
        "  # validasi\n",
        "  if pembagi == 0:\n",
        "    raise ValueError('Parameter \"pembagi\" tidak boleh berisi angka 0')\n",
        "  # Pemrosesan\n",
        "  hasil = dibagi / pembagi\n",
        "\n",
        "  return hasil\n",
        "\n",
        "# Pemanggilan fungsi\n",
        "# Proses angka 4 dibagi 2\n",
        "bagi_angka_1 = pembagian_angka_val(4, 2)\n",
        "print(bagi_angka_1)                      # Output: 2\n",
        "\n",
        "# Proses angka 4 dibagi 0\n",
        "bagi_angka_2 = pembagian_angka_val(4, 0) # Output: ValueError: Parameter \"Pembagi\" tidak boleh berisi angka 0\n",
        "print(bagi_angka_2)\n",
        "```\n",
        "Script di atas menunjukkan bahwa meskipun `proses validasi` yang diterapkan pada fungsi `pembagian_angka_val` tetap menghasilkan *outcome* abnormal pada `Proses 4 dibagi 0`, akan tetapi peringatan kesalahan yang muncul jauh lebih dapat dimengerti oleh *users*.\n",
        "\n",
        "> `raise` statement adalah alarm di dalam fungsi — jika terdapat sesuatu yang tidak beres, fungsi akan membunyikan alarm, dan proses berhenti."
      ],
      "metadata": {
        "id": "EKPhD51U0eF6"
      }
    },
    {
      "cell_type": "markdown",
      "source": [
        "#### **Ilustrasi 12**: `Function` Construction\n",
        "\n",
        "Amati tiga *user-defined* functions di bawah berikut:\n",
        "\n",
        "---\n",
        "```python\n",
        "def validasi_file_data(nama_file):\n",
        "  return nama_file.count('.')==1 and nama_file.split('.')[-1] in ['txt', 'csv', 'xls', 'xlsx', 'json']\n",
        "```\n",
        "```python\n",
        "def validasi_file_ada(file_path: str) -> bool:\n",
        "  return os.path.exists(file_path)\n",
        "```\n",
        "```python\n",
        "def parsing_file_data(nama_folder: str, nama_file: str) -> pd.DataFrame | None:\n",
        "    \"\"\"\n",
        "    Fungsi untuk melakukan parsing data dari beberapa jenis file data\n",
        "\n",
        "    ARGUMENTS:\n",
        "    1. nama_folder: str, nama folder dimana file data disimpan;\n",
        "    2. nama_file  : str, nama file yang akan diparsing, nama file\n",
        "                 harus ditulis lengkap dengan ekstensinya.\n",
        "    OUTPUT:\n",
        "    Object berupa pandas.dataframe atau None\n",
        "    \"\"\"\n",
        "    # Validasi filename : apakah penulisan file benar dan merupakan file data?\n",
        "    if validasi_file_data(nama_file) is False:\n",
        "      raise ValueError(f\"'{nama_file}': penulisan nama tidak valid / bukan file Data.\")\n",
        "\n",
        "    # Membuat file_path, berdasarkan info dari argument pada fungsi\n",
        "    file_path = os.path.join(nama_folder, nama_file)\n",
        "\n",
        "    # Validasi file_path : apakah file dimaksud ada?\n",
        "    if validasi_file_ada(file_path) is False:\n",
        "      raise FileNotFoundError(f\"File '{file_path}' tidak ditemukan.\")\n",
        "\n",
        "    # Mengambil info ekstensi file\n",
        "    ekstensi = nama_file.split('.')[-1]\n",
        "\n",
        "    # Proses Parsing, menggunakan metode yang disesuaikan dengan ekstensi file\n",
        "    if ekstensi in ['csv', 'txt']:      # Jika ekstensi `csv` atau `txt`\n",
        "        df = pd.read_csv(file_path)\n",
        "    elif ekstensi == 'json':            # Jika ekstensi `json`\n",
        "        df = pd.read_json(file_path)\n",
        "    elif ekstensi in ['xls', 'xlsx']:   # Jika ekstensi `xls` atau `xlsx`\n",
        "        df = pd.read_excel(file_path)\n",
        "\n",
        "    return df\n",
        "```\n",
        "---\n",
        "\n",
        "Untuk dapat menjalankan formulir pada ilustrasi ini, silahkan unduh file [functions.py](https://drive.google.com/file/d/1dXMuGyplSRowrLZ-_tvowhavE7rJ3Xw_/view?usp=sharing), lalu unggah file tersebut ke *working directory*.\n",
        "\n",
        "---"
      ],
      "metadata": {
        "id": "r8uL6oMBEsG1"
      }
    },
    {
      "cell_type": "code",
      "source": [
        "# @title ##### Pilihlah pernyataan yang tepat untuk masing-masing fungsi:\n",
        "# Loading modules\n",
        "from functions import check_answers, layouts, parsing_file_data, validasi_file_ada, validasi_file_data, PART_4\n",
        "from ipywidgets import widgets\n",
        "from IPython.display import display, Markdown\n",
        "\n",
        "correct_answers_1 = PART_4['Q1']\n",
        "correct_answers_2 = PART_4['Q2']\n",
        "correct_answers_3 = PART_4['Q3']\n",
        "\n",
        "# Question 1\n",
        "display(Markdown(\"---\\n##### 1. validasi_file_data:\"))\n",
        "# 1. Options for Question 1\n",
        "option_a_1 = widgets.Checkbox(value=False, description=\"Output dari fungsi ini adalah object bertipe `integer`.\", layout=layouts)\n",
        "option_b_1 = widgets.Checkbox(value=False, description=\"Input dari fungsi ini adalah variabel `jenis_file`\", layout=layouts)\n",
        "option_c_1 = widgets.Checkbox(value=False, description=\"Fungsi ini tidak berisikan operasi apapun.\", layout=layouts)\n",
        "option_d_1 = widgets.Checkbox(value=False, description=\"Output dari fungsi ini dihasilkan dari sebuah `ternary operation`.\", layout=layouts)\n",
        "\n",
        "options_1 = (option_a_1, option_b_1, option_c_1, option_d_1)\n",
        "# 2. Result of Question 1\n",
        "result_1 = widgets.Textarea(value=\"Check pilihan, lalu tekan tombol 'Cek Jawaban'\", placeholder='Feedback', description='', disabled=True)\n",
        "# 3. Button to check answers for Question 1\n",
        "check_button_1 = widgets.Button(description=\"Cek Jawaban\")\n",
        "check_button_1.on_click(lambda event: check_answers(correct_answers_1, options_1, result_1))\n",
        "# 4. Display the interactive form for Question 1\n",
        "display(option_a_1, option_b_1, option_c_1, option_d_1, check_button_1, result_1)\n",
        "\n",
        "# Question 2\n",
        "display(Markdown(\"---\\n##### 2. validasi_file_ada:\"))\n",
        "# 1. Options for Question 2\n",
        "option_a_2 = widgets.Checkbox(value=False, description=\"Output dari fungsi ini adalah object bertipe `integer`.\", layout=layouts)\n",
        "option_b_2 = widgets.Checkbox(value=False, description=\"Input dari fungsi ini adalah variabel `jenis_file`\", layout=layouts)\n",
        "option_c_2 = widgets.Checkbox(value=False, description=\"Fungsi ini tidak berisikan operasi apapun.\", layout=layouts)\n",
        "option_d_2 = widgets.Checkbox(value=False, description=\"Output dari fungsi ini dihasilkan dari sebuah `method operation`.\", layout=layouts)\n",
        "\n",
        "options_2 = (option_a_2, option_b_2, option_c_2, option_d_2)\n",
        "# 2. Result of Question 2\n",
        "result_2 = widgets.Textarea(value=\"Check pilihan, lalu tekan tombol 'Cek Jawaban'\", placeholder='Feedback', description='', disabled=True)\n",
        "# 3. Button to check answers for Question 1\n",
        "check_button_2 = widgets.Button(description=\"Cek Jawaban\")\n",
        "check_button_2.on_click(lambda event: check_answers(correct_answers_2, options_2, result_2))\n",
        "# 4. Display the interactive form for Question 1\n",
        "display(option_a_2, option_b_2, option_c_2, option_d_2, check_button_2, result_2)\n",
        "\n",
        "# Question 3\n",
        "display(Markdown(\"---\\n##### 3. parsing_file_data:\"))\n",
        "# 1. Options for Question 3\n",
        "option_a_3 = widgets.Checkbox(value=False, description=\"Output dari fungsi ini adalah object bertipe `integer`.\", layout=layouts)\n",
        "option_b_3 = widgets.Checkbox(value=False, description=\"Input dari fungsi ini adalah variabel `file_path` dan `nama_file`\", layout=layouts)\n",
        "option_c_3 = widgets.Checkbox(value=False, description=\"Fungsi ini melakukan satu kali validasi.\", layout=layouts)\n",
        "option_d_3 = widgets.Checkbox(value=False, description=\"Output dari fungsi dapat berupa object `pd.DataFrame` atau None.\", layout=layouts)\n",
        "\n",
        "options_3 = (option_a_3, option_b_3, option_c_3, option_d_3)\n",
        "# 2. Result of Question 3\n",
        "result_3 = widgets.Textarea(value=\"Check pilihan, lalu tekan tombol 'Cek Jawaban'\", placeholder='Feedback', description='', disabled=True)\n",
        "# 3. Button to check answers for Question 3\n",
        "check_button_3 = widgets.Button(description=\"Cek Jawaban\")\n",
        "check_button_3.on_click(lambda event: check_answers(correct_answers_3, options_3, result_3))\n",
        "# 4. Display the interactive form for Question 1\n",
        "display(option_a_3, option_b_3, option_c_3, option_d_3, check_button_3, result_3)\n"
      ],
      "metadata": {
        "cellView": "form",
        "id": "lDluno4jNtY2",
        "colab": {
          "base_uri": "https://localhost:8080/",
          "height": 740,
          "referenced_widgets": [
            "228f48a918f948d5a8dd0e12cf3aed2d",
            "92cf8c2f42c44c44bfe23918cdbd3047",
            "222dcac5f70f4cdc804cdf903bfd67c6",
            "bc6de3ceea434834907c18fb47373851",
            "c58502632b2e471ca9790001fa47f381",
            "7d554eaa79e44cb8be8382a35f71313b",
            "2db84a8b00324e5bb8a806df03eba57e",
            "c3aa8c9eb4934d898ce11b2db882511d",
            "a5bea3dc06a74f81a7c124b0b79ce112",
            "903f156201fc457eb36e31c0c39cc2e7",
            "f785f5c0e8744bda92166f9323232f54",
            "1f0c0a7fbe634e05be03821768955c80",
            "838857f94337484885496928c0b8e5e7",
            "f02a518cef8e434caf90813ababf9455",
            "0450f74d832e45f9896e1778391f0bcb",
            "b1d15dcb7ce24ff6805e011f508a9769",
            "19264ea804294b88af9a27dd714d8591",
            "2c5d63c02a0e45f190b36cddb5124d0e",
            "44c0efe4da50450eb01a1ab1c9ec2282",
            "f9db9a7d9e49418ab93e07bca40a394a",
            "84558a9aaa174a8d9609ee8759923834",
            "3afa2b33ed3c4679a703525991c23e44",
            "f3a9daa588d647b6958d2f141de77a54",
            "ee853727af4f4399a79f571c34073a9a",
            "ba74d20f7cb6465599365559753a6a1a",
            "1dea77d7d5df4500a8052acc7430d397",
            "5e5a680bd7c74f15b0cb93ded2a6e9ef",
            "d50841b4baff4d1bb34fb1731050ee3b",
            "97c78944d0a845fd8ed44534b6ce8860",
            "fefc732a0bd24caf85890bff1892207e",
            "86215f9e5cdc467e9562f7bccda6df93",
            "4594ce049a684f2f9c7efc0ddcab5deb",
            "9e9762322d404f83912c1193e102d3c1",
            "bee3722f36e646f9b004dc28431b66c9",
            "c466434fe79546d084278e89cc889fa1",
            "98e52ab41bbd4337b1eb34b85b70bcb7",
            "614c6478273e410ebcfa81feb60db7ce",
            "dab1dbaffbcf42deaf80f1af724fd9fd",
            "dd1f788c0b1e47b89aa5d3cdf4953682",
            "382bf2e748cc4134b277ac1a2d579f13",
            "12310b7051484e2ebad328daed889a25",
            "5b4cf872e32e40d283b13c6d7220cf45",
            "b6cb091aad164056adca6e9d13974348"
          ]
        },
        "outputId": "2d81d259-c096-4d39-fec4-3d20fc518383"
      },
      "execution_count": null,
      "outputs": [
        {
          "output_type": "display_data",
          "data": {
            "text/plain": [
              "<IPython.core.display.Markdown object>"
            ],
            "text/markdown": "---\n##### 1. validasi_file_data:"
          },
          "metadata": {}
        },
        {
          "output_type": "display_data",
          "data": {
            "text/plain": [
              "Checkbox(value=False, description='Output dari fungsi ini adalah object bertipe `integer`.', layout=Layout(wid…"
            ],
            "application/vnd.jupyter.widget-view+json": {
              "version_major": 2,
              "version_minor": 0,
              "model_id": "228f48a918f948d5a8dd0e12cf3aed2d"
            }
          },
          "metadata": {}
        },
        {
          "output_type": "display_data",
          "data": {
            "text/plain": [
              "Checkbox(value=False, description='Input dari fungsi ini adalah variabel `jenis_file`', layout=Layout(width='a…"
            ],
            "application/vnd.jupyter.widget-view+json": {
              "version_major": 2,
              "version_minor": 0,
              "model_id": "bc6de3ceea434834907c18fb47373851"
            }
          },
          "metadata": {}
        },
        {
          "output_type": "display_data",
          "data": {
            "text/plain": [
              "Checkbox(value=False, description='Fungsi ini tidak berisikan operasi apapun.', layout=Layout(width='auto'))"
            ],
            "application/vnd.jupyter.widget-view+json": {
              "version_major": 2,
              "version_minor": 0,
              "model_id": "7d554eaa79e44cb8be8382a35f71313b"
            }
          },
          "metadata": {}
        },
        {
          "output_type": "display_data",
          "data": {
            "text/plain": [
              "Checkbox(value=False, description='Output dari fungsi ini dihasilkan dari sebuah `ternary operation`.', layout…"
            ],
            "application/vnd.jupyter.widget-view+json": {
              "version_major": 2,
              "version_minor": 0,
              "model_id": "c3aa8c9eb4934d898ce11b2db882511d"
            }
          },
          "metadata": {}
        },
        {
          "output_type": "display_data",
          "data": {
            "text/plain": [
              "Button(description='Cek Jawaban', style=ButtonStyle())"
            ],
            "application/vnd.jupyter.widget-view+json": {
              "version_major": 2,
              "version_minor": 0,
              "model_id": "903f156201fc457eb36e31c0c39cc2e7"
            }
          },
          "metadata": {}
        },
        {
          "output_type": "display_data",
          "data": {
            "text/plain": [
              "Textarea(value=\"Check pilihan, lalu tekan tombol 'Cek Jawaban'\", disabled=True, placeholder='Feedback')"
            ],
            "application/vnd.jupyter.widget-view+json": {
              "version_major": 2,
              "version_minor": 0,
              "model_id": "838857f94337484885496928c0b8e5e7"
            }
          },
          "metadata": {}
        },
        {
          "output_type": "display_data",
          "data": {
            "text/plain": [
              "<IPython.core.display.Markdown object>"
            ],
            "text/markdown": "---\n##### 2. validasi_file_ada:"
          },
          "metadata": {}
        },
        {
          "output_type": "display_data",
          "data": {
            "text/plain": [
              "Checkbox(value=False, description='Output dari fungsi ini adalah object bertipe `integer`.', layout=Layout(wid…"
            ],
            "application/vnd.jupyter.widget-view+json": {
              "version_major": 2,
              "version_minor": 0,
              "model_id": "b1d15dcb7ce24ff6805e011f508a9769"
            }
          },
          "metadata": {}
        },
        {
          "output_type": "display_data",
          "data": {
            "text/plain": [
              "Checkbox(value=False, description='Input dari fungsi ini adalah variabel `jenis_file`', layout=Layout(width='a…"
            ],
            "application/vnd.jupyter.widget-view+json": {
              "version_major": 2,
              "version_minor": 0,
              "model_id": "2c5d63c02a0e45f190b36cddb5124d0e"
            }
          },
          "metadata": {}
        },
        {
          "output_type": "display_data",
          "data": {
            "text/plain": [
              "Checkbox(value=False, description='Fungsi ini tidak berisikan operasi apapun.', layout=Layout(width='auto'))"
            ],
            "application/vnd.jupyter.widget-view+json": {
              "version_major": 2,
              "version_minor": 0,
              "model_id": "f9db9a7d9e49418ab93e07bca40a394a"
            }
          },
          "metadata": {}
        },
        {
          "output_type": "display_data",
          "data": {
            "text/plain": [
              "Checkbox(value=False, description='Output dari fungsi ini dihasilkan dari sebuah `method operation`.', layout=…"
            ],
            "application/vnd.jupyter.widget-view+json": {
              "version_major": 2,
              "version_minor": 0,
              "model_id": "3afa2b33ed3c4679a703525991c23e44"
            }
          },
          "metadata": {}
        },
        {
          "output_type": "display_data",
          "data": {
            "text/plain": [
              "Button(description='Cek Jawaban', style=ButtonStyle())"
            ],
            "application/vnd.jupyter.widget-view+json": {
              "version_major": 2,
              "version_minor": 0,
              "model_id": "ee853727af4f4399a79f571c34073a9a"
            }
          },
          "metadata": {}
        },
        {
          "output_type": "display_data",
          "data": {
            "text/plain": [
              "Textarea(value=\"Check pilihan, lalu tekan tombol 'Cek Jawaban'\", disabled=True, placeholder='Feedback')"
            ],
            "application/vnd.jupyter.widget-view+json": {
              "version_major": 2,
              "version_minor": 0,
              "model_id": "5e5a680bd7c74f15b0cb93ded2a6e9ef"
            }
          },
          "metadata": {}
        },
        {
          "output_type": "display_data",
          "data": {
            "text/plain": [
              "<IPython.core.display.Markdown object>"
            ],
            "text/markdown": "---\n##### 3. parsing_file_data:"
          },
          "metadata": {}
        },
        {
          "output_type": "display_data",
          "data": {
            "text/plain": [
              "Checkbox(value=False, description='Output dari fungsi ini adalah object bertipe `integer`.', layout=Layout(wid…"
            ],
            "application/vnd.jupyter.widget-view+json": {
              "version_major": 2,
              "version_minor": 0,
              "model_id": "fefc732a0bd24caf85890bff1892207e"
            }
          },
          "metadata": {}
        },
        {
          "output_type": "display_data",
          "data": {
            "text/plain": [
              "Checkbox(value=False, description='Input dari fungsi ini adalah variabel `file_path` dan `nama_file`', layout=…"
            ],
            "application/vnd.jupyter.widget-view+json": {
              "version_major": 2,
              "version_minor": 0,
              "model_id": "4594ce049a684f2f9c7efc0ddcab5deb"
            }
          },
          "metadata": {}
        },
        {
          "output_type": "display_data",
          "data": {
            "text/plain": [
              "Checkbox(value=False, description='Fungsi ini melakukan satu kali validasi.', layout=Layout(width='auto'))"
            ],
            "application/vnd.jupyter.widget-view+json": {
              "version_major": 2,
              "version_minor": 0,
              "model_id": "bee3722f36e646f9b004dc28431b66c9"
            }
          },
          "metadata": {}
        },
        {
          "output_type": "display_data",
          "data": {
            "text/plain": [
              "Checkbox(value=False, description='Output dari fungsi dapat berupa object `pd.DataFrame` atau None.', layout=L…"
            ],
            "application/vnd.jupyter.widget-view+json": {
              "version_major": 2,
              "version_minor": 0,
              "model_id": "98e52ab41bbd4337b1eb34b85b70bcb7"
            }
          },
          "metadata": {}
        },
        {
          "output_type": "display_data",
          "data": {
            "text/plain": [
              "Button(description='Cek Jawaban', style=ButtonStyle())"
            ],
            "application/vnd.jupyter.widget-view+json": {
              "version_major": 2,
              "version_minor": 0,
              "model_id": "dab1dbaffbcf42deaf80f1af724fd9fd"
            }
          },
          "metadata": {}
        },
        {
          "output_type": "display_data",
          "data": {
            "text/plain": [
              "Textarea(value=\"Check pilihan, lalu tekan tombol 'Cek Jawaban'\", disabled=True, placeholder='Feedback')"
            ],
            "application/vnd.jupyter.widget-view+json": {
              "version_major": 2,
              "version_minor": 0,
              "model_id": "12310b7051484e2ebad328daed889a25"
            }
          },
          "metadata": {}
        }
      ]
    },
    {
      "cell_type": "markdown",
      "source": [
        "#### **Ilustrasi 13**: `Function` Call"
      ],
      "metadata": {
        "id": "vciZpfdqFaBR"
      }
    },
    {
      "cell_type": "code",
      "source": [
        "# Panggil `parsing_file_data` untuk membuka `README.md`\n",
        "parsing_file_data('sample_data', 'README.md')"
      ],
      "metadata": {
        "id": "IdXS7nrK5xnr",
        "colab": {
          "base_uri": "https://localhost:8080/",
          "height": 280
        },
        "outputId": "94b707aa-8d14-4548-ba83-af6d5ea04dbc"
      },
      "execution_count": null,
      "outputs": [
        {
          "output_type": "error",
          "ename": "ValueError",
          "evalue": "'README.md': penulisan nama tidak valid / bukan file Data.",
          "traceback": [
            "\u001b[0;31m---------------------------------------------------------------------------\u001b[0m",
            "\u001b[0;31mValueError\u001b[0m                                Traceback (most recent call last)",
            "\u001b[0;32m<ipython-input-59-15fd0d7b2674>\u001b[0m in \u001b[0;36m<cell line: 0>\u001b[0;34m()\u001b[0m\n\u001b[1;32m      1\u001b[0m \u001b[0;31m# Panggil `parsing_file_data` untuk membuka `README.md`\u001b[0m\u001b[0;34m\u001b[0m\u001b[0;34m\u001b[0m\u001b[0m\n\u001b[0;32m----> 2\u001b[0;31m \u001b[0mparsing_file_data\u001b[0m\u001b[0;34m(\u001b[0m\u001b[0;34m'sample_data'\u001b[0m\u001b[0;34m,\u001b[0m \u001b[0;34m'README.md'\u001b[0m\u001b[0;34m)\u001b[0m\u001b[0;34m\u001b[0m\u001b[0;34m\u001b[0m\u001b[0m\n\u001b[0m",
            "\u001b[0;32m/content/functions.py\u001b[0m in \u001b[0;36mparsing_file_data\u001b[0;34m(nama_folder, nama_file)\u001b[0m\n\u001b[1;32m     60\u001b[0m     \u001b[0;31m# Validasi filename : apakah penulisan file benar dan merupakan file data?\u001b[0m\u001b[0;34m\u001b[0m\u001b[0;34m\u001b[0m\u001b[0m\n\u001b[1;32m     61\u001b[0m     \u001b[0;32mif\u001b[0m \u001b[0mvalidasi_file_data\u001b[0m\u001b[0;34m(\u001b[0m\u001b[0mnama_file\u001b[0m\u001b[0;34m)\u001b[0m \u001b[0;32mis\u001b[0m \u001b[0;32mFalse\u001b[0m\u001b[0;34m:\u001b[0m\u001b[0;34m\u001b[0m\u001b[0;34m\u001b[0m\u001b[0m\n\u001b[0;32m---> 62\u001b[0;31m       \u001b[0;32mraise\u001b[0m \u001b[0mValueError\u001b[0m\u001b[0;34m(\u001b[0m\u001b[0;34mf\"'{nama_file}': penulisan nama tidak valid / bukan file Data.\"\u001b[0m\u001b[0;34m)\u001b[0m\u001b[0;34m\u001b[0m\u001b[0;34m\u001b[0m\u001b[0m\n\u001b[0m\u001b[1;32m     63\u001b[0m \u001b[0;34m\u001b[0m\u001b[0m\n\u001b[1;32m     64\u001b[0m     \u001b[0;31m# Membuat file_path, berdasarkan info dari argument pada fungsi\u001b[0m\u001b[0;34m\u001b[0m\u001b[0;34m\u001b[0m\u001b[0m\n",
            "\u001b[0;31mValueError\u001b[0m: 'README.md': penulisan nama tidak valid / bukan file Data."
          ]
        }
      ]
    },
    {
      "cell_type": "code",
      "source": [
        "# Panggil `parsing_file_data` untuk membuka `rikrik_rahadian.csv`\n",
        "parsing_file_data('sample_data', 'rikrik_rahadian.csv')"
      ],
      "metadata": {
        "id": "4fxQThVuRzjy",
        "colab": {
          "base_uri": "https://localhost:8080/",
          "height": 280
        },
        "outputId": "1e9309f8-1400-4957-b8c5-798afc349d6d"
      },
      "execution_count": null,
      "outputs": [
        {
          "output_type": "error",
          "ename": "FileNotFoundError",
          "evalue": "File 'sample_data/rikrik_rahadian.csv' tidak ditemukan.",
          "traceback": [
            "\u001b[0;31m---------------------------------------------------------------------------\u001b[0m",
            "\u001b[0;31mFileNotFoundError\u001b[0m                         Traceback (most recent call last)",
            "\u001b[0;32m<ipython-input-60-564e900d8c70>\u001b[0m in \u001b[0;36m<cell line: 0>\u001b[0;34m()\u001b[0m\n\u001b[1;32m      1\u001b[0m \u001b[0;31m# Panggil `parsing_file_data` untuk membuka `rikrik_rahadian.csv`\u001b[0m\u001b[0;34m\u001b[0m\u001b[0;34m\u001b[0m\u001b[0m\n\u001b[0;32m----> 2\u001b[0;31m \u001b[0mparsing_file_data\u001b[0m\u001b[0;34m(\u001b[0m\u001b[0;34m'sample_data'\u001b[0m\u001b[0;34m,\u001b[0m \u001b[0;34m'rikrik_rahadian.csv'\u001b[0m\u001b[0;34m)\u001b[0m\u001b[0;34m\u001b[0m\u001b[0;34m\u001b[0m\u001b[0m\n\u001b[0m",
            "\u001b[0;32m/content/functions.py\u001b[0m in \u001b[0;36mparsing_file_data\u001b[0;34m(nama_folder, nama_file)\u001b[0m\n\u001b[1;32m     67\u001b[0m     \u001b[0;31m# Validasi file_path : apakah file dimaksud ada?\u001b[0m\u001b[0;34m\u001b[0m\u001b[0;34m\u001b[0m\u001b[0m\n\u001b[1;32m     68\u001b[0m     \u001b[0;32mif\u001b[0m \u001b[0mvalidasi_file_ada\u001b[0m\u001b[0;34m(\u001b[0m\u001b[0mfile_path\u001b[0m\u001b[0;34m)\u001b[0m \u001b[0;32mis\u001b[0m \u001b[0;32mFalse\u001b[0m\u001b[0;34m:\u001b[0m\u001b[0;34m\u001b[0m\u001b[0;34m\u001b[0m\u001b[0m\n\u001b[0;32m---> 69\u001b[0;31m       \u001b[0;32mraise\u001b[0m \u001b[0mFileNotFoundError\u001b[0m\u001b[0;34m(\u001b[0m\u001b[0;34mf\"File '{file_path}' tidak ditemukan.\"\u001b[0m\u001b[0;34m)\u001b[0m\u001b[0;34m\u001b[0m\u001b[0;34m\u001b[0m\u001b[0m\n\u001b[0m\u001b[1;32m     70\u001b[0m \u001b[0;34m\u001b[0m\u001b[0m\n\u001b[1;32m     71\u001b[0m     \u001b[0;31m# Mengambil info ekstensi file\u001b[0m\u001b[0;34m\u001b[0m\u001b[0;34m\u001b[0m\u001b[0m\n",
            "\u001b[0;31mFileNotFoundError\u001b[0m: File 'sample_data/rikrik_rahadian.csv' tidak ditemukan."
          ]
        }
      ]
    },
    {
      "cell_type": "code",
      "source": [
        "# Melakukan parsing data dari `anscombe.json`\n",
        "df_json = parsing_file_data('sample_data', 'anscombe.json')\n",
        "df_json.head()"
      ],
      "metadata": {
        "id": "oJG5lQpnmGrq",
        "colab": {
          "base_uri": "https://localhost:8080/",
          "height": 206
        },
        "outputId": "0abaed9b-4f3e-45a6-992e-e56b40b58f79"
      },
      "execution_count": null,
      "outputs": [
        {
          "output_type": "execute_result",
          "data": {
            "text/plain": [
              "  Series   X     Y\n",
              "0      I  10  8.04\n",
              "1      I   8  6.95\n",
              "2      I  13  7.58\n",
              "3      I   9  8.81\n",
              "4      I  11  8.33"
            ],
            "text/html": [
              "\n",
              "  <div id=\"df-3e871f4c-fe41-4af7-9f23-ed71a913ceed\" class=\"colab-df-container\">\n",
              "    <div>\n",
              "<style scoped>\n",
              "    .dataframe tbody tr th:only-of-type {\n",
              "        vertical-align: middle;\n",
              "    }\n",
              "\n",
              "    .dataframe tbody tr th {\n",
              "        vertical-align: top;\n",
              "    }\n",
              "\n",
              "    .dataframe thead th {\n",
              "        text-align: right;\n",
              "    }\n",
              "</style>\n",
              "<table border=\"1\" class=\"dataframe\">\n",
              "  <thead>\n",
              "    <tr style=\"text-align: right;\">\n",
              "      <th></th>\n",
              "      <th>Series</th>\n",
              "      <th>X</th>\n",
              "      <th>Y</th>\n",
              "    </tr>\n",
              "  </thead>\n",
              "  <tbody>\n",
              "    <tr>\n",
              "      <th>0</th>\n",
              "      <td>I</td>\n",
              "      <td>10</td>\n",
              "      <td>8.04</td>\n",
              "    </tr>\n",
              "    <tr>\n",
              "      <th>1</th>\n",
              "      <td>I</td>\n",
              "      <td>8</td>\n",
              "      <td>6.95</td>\n",
              "    </tr>\n",
              "    <tr>\n",
              "      <th>2</th>\n",
              "      <td>I</td>\n",
              "      <td>13</td>\n",
              "      <td>7.58</td>\n",
              "    </tr>\n",
              "    <tr>\n",
              "      <th>3</th>\n",
              "      <td>I</td>\n",
              "      <td>9</td>\n",
              "      <td>8.81</td>\n",
              "    </tr>\n",
              "    <tr>\n",
              "      <th>4</th>\n",
              "      <td>I</td>\n",
              "      <td>11</td>\n",
              "      <td>8.33</td>\n",
              "    </tr>\n",
              "  </tbody>\n",
              "</table>\n",
              "</div>\n",
              "    <div class=\"colab-df-buttons\">\n",
              "\n",
              "  <div class=\"colab-df-container\">\n",
              "    <button class=\"colab-df-convert\" onclick=\"convertToInteractive('df-3e871f4c-fe41-4af7-9f23-ed71a913ceed')\"\n",
              "            title=\"Convert this dataframe to an interactive table.\"\n",
              "            style=\"display:none;\">\n",
              "\n",
              "  <svg xmlns=\"http://www.w3.org/2000/svg\" height=\"24px\" viewBox=\"0 -960 960 960\">\n",
              "    <path d=\"M120-120v-720h720v720H120Zm60-500h600v-160H180v160Zm220 220h160v-160H400v160Zm0 220h160v-160H400v160ZM180-400h160v-160H180v160Zm440 0h160v-160H620v160ZM180-180h160v-160H180v160Zm440 0h160v-160H620v160Z\"/>\n",
              "  </svg>\n",
              "    </button>\n",
              "\n",
              "  <style>\n",
              "    .colab-df-container {\n",
              "      display:flex;\n",
              "      gap: 12px;\n",
              "    }\n",
              "\n",
              "    .colab-df-convert {\n",
              "      background-color: #E8F0FE;\n",
              "      border: none;\n",
              "      border-radius: 50%;\n",
              "      cursor: pointer;\n",
              "      display: none;\n",
              "      fill: #1967D2;\n",
              "      height: 32px;\n",
              "      padding: 0 0 0 0;\n",
              "      width: 32px;\n",
              "    }\n",
              "\n",
              "    .colab-df-convert:hover {\n",
              "      background-color: #E2EBFA;\n",
              "      box-shadow: 0px 1px 2px rgba(60, 64, 67, 0.3), 0px 1px 3px 1px rgba(60, 64, 67, 0.15);\n",
              "      fill: #174EA6;\n",
              "    }\n",
              "\n",
              "    .colab-df-buttons div {\n",
              "      margin-bottom: 4px;\n",
              "    }\n",
              "\n",
              "    [theme=dark] .colab-df-convert {\n",
              "      background-color: #3B4455;\n",
              "      fill: #D2E3FC;\n",
              "    }\n",
              "\n",
              "    [theme=dark] .colab-df-convert:hover {\n",
              "      background-color: #434B5C;\n",
              "      box-shadow: 0px 1px 3px 1px rgba(0, 0, 0, 0.15);\n",
              "      filter: drop-shadow(0px 1px 2px rgba(0, 0, 0, 0.3));\n",
              "      fill: #FFFFFF;\n",
              "    }\n",
              "  </style>\n",
              "\n",
              "    <script>\n",
              "      const buttonEl =\n",
              "        document.querySelector('#df-3e871f4c-fe41-4af7-9f23-ed71a913ceed button.colab-df-convert');\n",
              "      buttonEl.style.display =\n",
              "        google.colab.kernel.accessAllowed ? 'block' : 'none';\n",
              "\n",
              "      async function convertToInteractive(key) {\n",
              "        const element = document.querySelector('#df-3e871f4c-fe41-4af7-9f23-ed71a913ceed');\n",
              "        const dataTable =\n",
              "          await google.colab.kernel.invokeFunction('convertToInteractive',\n",
              "                                                    [key], {});\n",
              "        if (!dataTable) return;\n",
              "\n",
              "        const docLinkHtml = 'Like what you see? Visit the ' +\n",
              "          '<a target=\"_blank\" href=https://colab.research.google.com/notebooks/data_table.ipynb>data table notebook</a>'\n",
              "          + ' to learn more about interactive tables.';\n",
              "        element.innerHTML = '';\n",
              "        dataTable['output_type'] = 'display_data';\n",
              "        await google.colab.output.renderOutput(dataTable, element);\n",
              "        const docLink = document.createElement('div');\n",
              "        docLink.innerHTML = docLinkHtml;\n",
              "        element.appendChild(docLink);\n",
              "      }\n",
              "    </script>\n",
              "  </div>\n",
              "\n",
              "\n",
              "    <div id=\"df-38d17b28-8e27-4d01-8200-603f22357aff\">\n",
              "      <button class=\"colab-df-quickchart\" onclick=\"quickchart('df-38d17b28-8e27-4d01-8200-603f22357aff')\"\n",
              "                title=\"Suggest charts\"\n",
              "                style=\"display:none;\">\n",
              "\n",
              "<svg xmlns=\"http://www.w3.org/2000/svg\" height=\"24px\"viewBox=\"0 0 24 24\"\n",
              "     width=\"24px\">\n",
              "    <g>\n",
              "        <path d=\"M19 3H5c-1.1 0-2 .9-2 2v14c0 1.1.9 2 2 2h14c1.1 0 2-.9 2-2V5c0-1.1-.9-2-2-2zM9 17H7v-7h2v7zm4 0h-2V7h2v10zm4 0h-2v-4h2v4z\"/>\n",
              "    </g>\n",
              "</svg>\n",
              "      </button>\n",
              "\n",
              "<style>\n",
              "  .colab-df-quickchart {\n",
              "      --bg-color: #E8F0FE;\n",
              "      --fill-color: #1967D2;\n",
              "      --hover-bg-color: #E2EBFA;\n",
              "      --hover-fill-color: #174EA6;\n",
              "      --disabled-fill-color: #AAA;\n",
              "      --disabled-bg-color: #DDD;\n",
              "  }\n",
              "\n",
              "  [theme=dark] .colab-df-quickchart {\n",
              "      --bg-color: #3B4455;\n",
              "      --fill-color: #D2E3FC;\n",
              "      --hover-bg-color: #434B5C;\n",
              "      --hover-fill-color: #FFFFFF;\n",
              "      --disabled-bg-color: #3B4455;\n",
              "      --disabled-fill-color: #666;\n",
              "  }\n",
              "\n",
              "  .colab-df-quickchart {\n",
              "    background-color: var(--bg-color);\n",
              "    border: none;\n",
              "    border-radius: 50%;\n",
              "    cursor: pointer;\n",
              "    display: none;\n",
              "    fill: var(--fill-color);\n",
              "    height: 32px;\n",
              "    padding: 0;\n",
              "    width: 32px;\n",
              "  }\n",
              "\n",
              "  .colab-df-quickchart:hover {\n",
              "    background-color: var(--hover-bg-color);\n",
              "    box-shadow: 0 1px 2px rgba(60, 64, 67, 0.3), 0 1px 3px 1px rgba(60, 64, 67, 0.15);\n",
              "    fill: var(--button-hover-fill-color);\n",
              "  }\n",
              "\n",
              "  .colab-df-quickchart-complete:disabled,\n",
              "  .colab-df-quickchart-complete:disabled:hover {\n",
              "    background-color: var(--disabled-bg-color);\n",
              "    fill: var(--disabled-fill-color);\n",
              "    box-shadow: none;\n",
              "  }\n",
              "\n",
              "  .colab-df-spinner {\n",
              "    border: 2px solid var(--fill-color);\n",
              "    border-color: transparent;\n",
              "    border-bottom-color: var(--fill-color);\n",
              "    animation:\n",
              "      spin 1s steps(1) infinite;\n",
              "  }\n",
              "\n",
              "  @keyframes spin {\n",
              "    0% {\n",
              "      border-color: transparent;\n",
              "      border-bottom-color: var(--fill-color);\n",
              "      border-left-color: var(--fill-color);\n",
              "    }\n",
              "    20% {\n",
              "      border-color: transparent;\n",
              "      border-left-color: var(--fill-color);\n",
              "      border-top-color: var(--fill-color);\n",
              "    }\n",
              "    30% {\n",
              "      border-color: transparent;\n",
              "      border-left-color: var(--fill-color);\n",
              "      border-top-color: var(--fill-color);\n",
              "      border-right-color: var(--fill-color);\n",
              "    }\n",
              "    40% {\n",
              "      border-color: transparent;\n",
              "      border-right-color: var(--fill-color);\n",
              "      border-top-color: var(--fill-color);\n",
              "    }\n",
              "    60% {\n",
              "      border-color: transparent;\n",
              "      border-right-color: var(--fill-color);\n",
              "    }\n",
              "    80% {\n",
              "      border-color: transparent;\n",
              "      border-right-color: var(--fill-color);\n",
              "      border-bottom-color: var(--fill-color);\n",
              "    }\n",
              "    90% {\n",
              "      border-color: transparent;\n",
              "      border-bottom-color: var(--fill-color);\n",
              "    }\n",
              "  }\n",
              "</style>\n",
              "\n",
              "      <script>\n",
              "        async function quickchart(key) {\n",
              "          const quickchartButtonEl =\n",
              "            document.querySelector('#' + key + ' button');\n",
              "          quickchartButtonEl.disabled = true;  // To prevent multiple clicks.\n",
              "          quickchartButtonEl.classList.add('colab-df-spinner');\n",
              "          try {\n",
              "            const charts = await google.colab.kernel.invokeFunction(\n",
              "                'suggestCharts', [key], {});\n",
              "          } catch (error) {\n",
              "            console.error('Error during call to suggestCharts:', error);\n",
              "          }\n",
              "          quickchartButtonEl.classList.remove('colab-df-spinner');\n",
              "          quickchartButtonEl.classList.add('colab-df-quickchart-complete');\n",
              "        }\n",
              "        (() => {\n",
              "          let quickchartButtonEl =\n",
              "            document.querySelector('#df-38d17b28-8e27-4d01-8200-603f22357aff button');\n",
              "          quickchartButtonEl.style.display =\n",
              "            google.colab.kernel.accessAllowed ? 'block' : 'none';\n",
              "        })();\n",
              "      </script>\n",
              "    </div>\n",
              "\n",
              "    </div>\n",
              "  </div>\n"
            ],
            "application/vnd.google.colaboratory.intrinsic+json": {
              "type": "dataframe",
              "variable_name": "df_json",
              "summary": "{\n  \"name\": \"df_json\",\n  \"rows\": 44,\n  \"fields\": [\n    {\n      \"column\": \"Series\",\n      \"properties\": {\n        \"dtype\": \"category\",\n        \"num_unique_values\": 4,\n        \"samples\": [\n          \"II\",\n          \"IV\",\n          \"I\"\n        ],\n        \"semantic_type\": \"\",\n        \"description\": \"\"\n      }\n    },\n    {\n      \"column\": \"X\",\n      \"properties\": {\n        \"dtype\": \"number\",\n        \"std\": 3,\n        \"min\": 4,\n        \"max\": 19,\n        \"num_unique_values\": 12,\n        \"samples\": [\n          5,\n          7,\n          10\n        ],\n        \"semantic_type\": \"\",\n        \"description\": \"\"\n      }\n    },\n    {\n      \"column\": \"Y\",\n      \"properties\": {\n        \"dtype\": \"number\",\n        \"std\": 1.9592439863084528,\n        \"min\": 3.1,\n        \"max\": 12.74,\n        \"num_unique_values\": 43,\n        \"samples\": [\n          7.04,\n          12.74,\n          7.11\n        ],\n        \"semantic_type\": \"\",\n        \"description\": \"\"\n      }\n    }\n  ]\n}"
            }
          },
          "metadata": {},
          "execution_count": 61
        }
      ]
    },
    {
      "cell_type": "code",
      "source": [
        "# Melakukan parsing data dari `california_housing_test.csv`\n",
        "df_csv = parsing_file_data('sample_data', 'california_housing_test.csv')\n",
        "df_csv.head()"
      ],
      "metadata": {
        "id": "x8V6-PWbqOhT",
        "colab": {
          "base_uri": "https://localhost:8080/",
          "height": 206
        },
        "outputId": "a0b117fb-0dc0-47c2-8dec-c84b41862817"
      },
      "execution_count": null,
      "outputs": [
        {
          "output_type": "execute_result",
          "data": {
            "text/plain": [
              "   longitude  latitude  housing_median_age  total_rooms  total_bedrooms  \\\n",
              "0    -122.05     37.37                27.0       3885.0           661.0   \n",
              "1    -118.30     34.26                43.0       1510.0           310.0   \n",
              "2    -117.81     33.78                27.0       3589.0           507.0   \n",
              "3    -118.36     33.82                28.0         67.0            15.0   \n",
              "4    -119.67     36.33                19.0       1241.0           244.0   \n",
              "\n",
              "   population  households  median_income  median_house_value  \n",
              "0      1537.0       606.0         6.6085            344700.0  \n",
              "1       809.0       277.0         3.5990            176500.0  \n",
              "2      1484.0       495.0         5.7934            270500.0  \n",
              "3        49.0        11.0         6.1359            330000.0  \n",
              "4       850.0       237.0         2.9375             81700.0  "
            ],
            "text/html": [
              "\n",
              "  <div id=\"df-e709e7a9-27a8-452c-a123-4e0228b0f007\" class=\"colab-df-container\">\n",
              "    <div>\n",
              "<style scoped>\n",
              "    .dataframe tbody tr th:only-of-type {\n",
              "        vertical-align: middle;\n",
              "    }\n",
              "\n",
              "    .dataframe tbody tr th {\n",
              "        vertical-align: top;\n",
              "    }\n",
              "\n",
              "    .dataframe thead th {\n",
              "        text-align: right;\n",
              "    }\n",
              "</style>\n",
              "<table border=\"1\" class=\"dataframe\">\n",
              "  <thead>\n",
              "    <tr style=\"text-align: right;\">\n",
              "      <th></th>\n",
              "      <th>longitude</th>\n",
              "      <th>latitude</th>\n",
              "      <th>housing_median_age</th>\n",
              "      <th>total_rooms</th>\n",
              "      <th>total_bedrooms</th>\n",
              "      <th>population</th>\n",
              "      <th>households</th>\n",
              "      <th>median_income</th>\n",
              "      <th>median_house_value</th>\n",
              "    </tr>\n",
              "  </thead>\n",
              "  <tbody>\n",
              "    <tr>\n",
              "      <th>0</th>\n",
              "      <td>-122.05</td>\n",
              "      <td>37.37</td>\n",
              "      <td>27.0</td>\n",
              "      <td>3885.0</td>\n",
              "      <td>661.0</td>\n",
              "      <td>1537.0</td>\n",
              "      <td>606.0</td>\n",
              "      <td>6.6085</td>\n",
              "      <td>344700.0</td>\n",
              "    </tr>\n",
              "    <tr>\n",
              "      <th>1</th>\n",
              "      <td>-118.30</td>\n",
              "      <td>34.26</td>\n",
              "      <td>43.0</td>\n",
              "      <td>1510.0</td>\n",
              "      <td>310.0</td>\n",
              "      <td>809.0</td>\n",
              "      <td>277.0</td>\n",
              "      <td>3.5990</td>\n",
              "      <td>176500.0</td>\n",
              "    </tr>\n",
              "    <tr>\n",
              "      <th>2</th>\n",
              "      <td>-117.81</td>\n",
              "      <td>33.78</td>\n",
              "      <td>27.0</td>\n",
              "      <td>3589.0</td>\n",
              "      <td>507.0</td>\n",
              "      <td>1484.0</td>\n",
              "      <td>495.0</td>\n",
              "      <td>5.7934</td>\n",
              "      <td>270500.0</td>\n",
              "    </tr>\n",
              "    <tr>\n",
              "      <th>3</th>\n",
              "      <td>-118.36</td>\n",
              "      <td>33.82</td>\n",
              "      <td>28.0</td>\n",
              "      <td>67.0</td>\n",
              "      <td>15.0</td>\n",
              "      <td>49.0</td>\n",
              "      <td>11.0</td>\n",
              "      <td>6.1359</td>\n",
              "      <td>330000.0</td>\n",
              "    </tr>\n",
              "    <tr>\n",
              "      <th>4</th>\n",
              "      <td>-119.67</td>\n",
              "      <td>36.33</td>\n",
              "      <td>19.0</td>\n",
              "      <td>1241.0</td>\n",
              "      <td>244.0</td>\n",
              "      <td>850.0</td>\n",
              "      <td>237.0</td>\n",
              "      <td>2.9375</td>\n",
              "      <td>81700.0</td>\n",
              "    </tr>\n",
              "  </tbody>\n",
              "</table>\n",
              "</div>\n",
              "    <div class=\"colab-df-buttons\">\n",
              "\n",
              "  <div class=\"colab-df-container\">\n",
              "    <button class=\"colab-df-convert\" onclick=\"convertToInteractive('df-e709e7a9-27a8-452c-a123-4e0228b0f007')\"\n",
              "            title=\"Convert this dataframe to an interactive table.\"\n",
              "            style=\"display:none;\">\n",
              "\n",
              "  <svg xmlns=\"http://www.w3.org/2000/svg\" height=\"24px\" viewBox=\"0 -960 960 960\">\n",
              "    <path d=\"M120-120v-720h720v720H120Zm60-500h600v-160H180v160Zm220 220h160v-160H400v160Zm0 220h160v-160H400v160ZM180-400h160v-160H180v160Zm440 0h160v-160H620v160ZM180-180h160v-160H180v160Zm440 0h160v-160H620v160Z\"/>\n",
              "  </svg>\n",
              "    </button>\n",
              "\n",
              "  <style>\n",
              "    .colab-df-container {\n",
              "      display:flex;\n",
              "      gap: 12px;\n",
              "    }\n",
              "\n",
              "    .colab-df-convert {\n",
              "      background-color: #E8F0FE;\n",
              "      border: none;\n",
              "      border-radius: 50%;\n",
              "      cursor: pointer;\n",
              "      display: none;\n",
              "      fill: #1967D2;\n",
              "      height: 32px;\n",
              "      padding: 0 0 0 0;\n",
              "      width: 32px;\n",
              "    }\n",
              "\n",
              "    .colab-df-convert:hover {\n",
              "      background-color: #E2EBFA;\n",
              "      box-shadow: 0px 1px 2px rgba(60, 64, 67, 0.3), 0px 1px 3px 1px rgba(60, 64, 67, 0.15);\n",
              "      fill: #174EA6;\n",
              "    }\n",
              "\n",
              "    .colab-df-buttons div {\n",
              "      margin-bottom: 4px;\n",
              "    }\n",
              "\n",
              "    [theme=dark] .colab-df-convert {\n",
              "      background-color: #3B4455;\n",
              "      fill: #D2E3FC;\n",
              "    }\n",
              "\n",
              "    [theme=dark] .colab-df-convert:hover {\n",
              "      background-color: #434B5C;\n",
              "      box-shadow: 0px 1px 3px 1px rgba(0, 0, 0, 0.15);\n",
              "      filter: drop-shadow(0px 1px 2px rgba(0, 0, 0, 0.3));\n",
              "      fill: #FFFFFF;\n",
              "    }\n",
              "  </style>\n",
              "\n",
              "    <script>\n",
              "      const buttonEl =\n",
              "        document.querySelector('#df-e709e7a9-27a8-452c-a123-4e0228b0f007 button.colab-df-convert');\n",
              "      buttonEl.style.display =\n",
              "        google.colab.kernel.accessAllowed ? 'block' : 'none';\n",
              "\n",
              "      async function convertToInteractive(key) {\n",
              "        const element = document.querySelector('#df-e709e7a9-27a8-452c-a123-4e0228b0f007');\n",
              "        const dataTable =\n",
              "          await google.colab.kernel.invokeFunction('convertToInteractive',\n",
              "                                                    [key], {});\n",
              "        if (!dataTable) return;\n",
              "\n",
              "        const docLinkHtml = 'Like what you see? Visit the ' +\n",
              "          '<a target=\"_blank\" href=https://colab.research.google.com/notebooks/data_table.ipynb>data table notebook</a>'\n",
              "          + ' to learn more about interactive tables.';\n",
              "        element.innerHTML = '';\n",
              "        dataTable['output_type'] = 'display_data';\n",
              "        await google.colab.output.renderOutput(dataTable, element);\n",
              "        const docLink = document.createElement('div');\n",
              "        docLink.innerHTML = docLinkHtml;\n",
              "        element.appendChild(docLink);\n",
              "      }\n",
              "    </script>\n",
              "  </div>\n",
              "\n",
              "\n",
              "    <div id=\"df-f14e5af7-77e6-4c56-851d-1c8c8a9d03a8\">\n",
              "      <button class=\"colab-df-quickchart\" onclick=\"quickchart('df-f14e5af7-77e6-4c56-851d-1c8c8a9d03a8')\"\n",
              "                title=\"Suggest charts\"\n",
              "                style=\"display:none;\">\n",
              "\n",
              "<svg xmlns=\"http://www.w3.org/2000/svg\" height=\"24px\"viewBox=\"0 0 24 24\"\n",
              "     width=\"24px\">\n",
              "    <g>\n",
              "        <path d=\"M19 3H5c-1.1 0-2 .9-2 2v14c0 1.1.9 2 2 2h14c1.1 0 2-.9 2-2V5c0-1.1-.9-2-2-2zM9 17H7v-7h2v7zm4 0h-2V7h2v10zm4 0h-2v-4h2v4z\"/>\n",
              "    </g>\n",
              "</svg>\n",
              "      </button>\n",
              "\n",
              "<style>\n",
              "  .colab-df-quickchart {\n",
              "      --bg-color: #E8F0FE;\n",
              "      --fill-color: #1967D2;\n",
              "      --hover-bg-color: #E2EBFA;\n",
              "      --hover-fill-color: #174EA6;\n",
              "      --disabled-fill-color: #AAA;\n",
              "      --disabled-bg-color: #DDD;\n",
              "  }\n",
              "\n",
              "  [theme=dark] .colab-df-quickchart {\n",
              "      --bg-color: #3B4455;\n",
              "      --fill-color: #D2E3FC;\n",
              "      --hover-bg-color: #434B5C;\n",
              "      --hover-fill-color: #FFFFFF;\n",
              "      --disabled-bg-color: #3B4455;\n",
              "      --disabled-fill-color: #666;\n",
              "  }\n",
              "\n",
              "  .colab-df-quickchart {\n",
              "    background-color: var(--bg-color);\n",
              "    border: none;\n",
              "    border-radius: 50%;\n",
              "    cursor: pointer;\n",
              "    display: none;\n",
              "    fill: var(--fill-color);\n",
              "    height: 32px;\n",
              "    padding: 0;\n",
              "    width: 32px;\n",
              "  }\n",
              "\n",
              "  .colab-df-quickchart:hover {\n",
              "    background-color: var(--hover-bg-color);\n",
              "    box-shadow: 0 1px 2px rgba(60, 64, 67, 0.3), 0 1px 3px 1px rgba(60, 64, 67, 0.15);\n",
              "    fill: var(--button-hover-fill-color);\n",
              "  }\n",
              "\n",
              "  .colab-df-quickchart-complete:disabled,\n",
              "  .colab-df-quickchart-complete:disabled:hover {\n",
              "    background-color: var(--disabled-bg-color);\n",
              "    fill: var(--disabled-fill-color);\n",
              "    box-shadow: none;\n",
              "  }\n",
              "\n",
              "  .colab-df-spinner {\n",
              "    border: 2px solid var(--fill-color);\n",
              "    border-color: transparent;\n",
              "    border-bottom-color: var(--fill-color);\n",
              "    animation:\n",
              "      spin 1s steps(1) infinite;\n",
              "  }\n",
              "\n",
              "  @keyframes spin {\n",
              "    0% {\n",
              "      border-color: transparent;\n",
              "      border-bottom-color: var(--fill-color);\n",
              "      border-left-color: var(--fill-color);\n",
              "    }\n",
              "    20% {\n",
              "      border-color: transparent;\n",
              "      border-left-color: var(--fill-color);\n",
              "      border-top-color: var(--fill-color);\n",
              "    }\n",
              "    30% {\n",
              "      border-color: transparent;\n",
              "      border-left-color: var(--fill-color);\n",
              "      border-top-color: var(--fill-color);\n",
              "      border-right-color: var(--fill-color);\n",
              "    }\n",
              "    40% {\n",
              "      border-color: transparent;\n",
              "      border-right-color: var(--fill-color);\n",
              "      border-top-color: var(--fill-color);\n",
              "    }\n",
              "    60% {\n",
              "      border-color: transparent;\n",
              "      border-right-color: var(--fill-color);\n",
              "    }\n",
              "    80% {\n",
              "      border-color: transparent;\n",
              "      border-right-color: var(--fill-color);\n",
              "      border-bottom-color: var(--fill-color);\n",
              "    }\n",
              "    90% {\n",
              "      border-color: transparent;\n",
              "      border-bottom-color: var(--fill-color);\n",
              "    }\n",
              "  }\n",
              "</style>\n",
              "\n",
              "      <script>\n",
              "        async function quickchart(key) {\n",
              "          const quickchartButtonEl =\n",
              "            document.querySelector('#' + key + ' button');\n",
              "          quickchartButtonEl.disabled = true;  // To prevent multiple clicks.\n",
              "          quickchartButtonEl.classList.add('colab-df-spinner');\n",
              "          try {\n",
              "            const charts = await google.colab.kernel.invokeFunction(\n",
              "                'suggestCharts', [key], {});\n",
              "          } catch (error) {\n",
              "            console.error('Error during call to suggestCharts:', error);\n",
              "          }\n",
              "          quickchartButtonEl.classList.remove('colab-df-spinner');\n",
              "          quickchartButtonEl.classList.add('colab-df-quickchart-complete');\n",
              "        }\n",
              "        (() => {\n",
              "          let quickchartButtonEl =\n",
              "            document.querySelector('#df-f14e5af7-77e6-4c56-851d-1c8c8a9d03a8 button');\n",
              "          quickchartButtonEl.style.display =\n",
              "            google.colab.kernel.accessAllowed ? 'block' : 'none';\n",
              "        })();\n",
              "      </script>\n",
              "    </div>\n",
              "\n",
              "    </div>\n",
              "  </div>\n"
            ],
            "application/vnd.google.colaboratory.intrinsic+json": {
              "type": "dataframe",
              "variable_name": "df_csv",
              "summary": "{\n  \"name\": \"df_csv\",\n  \"rows\": 3000,\n  \"fields\": [\n    {\n      \"column\": \"longitude\",\n      \"properties\": {\n        \"dtype\": \"number\",\n        \"std\": 1.9949362939550161,\n        \"min\": -124.18,\n        \"max\": -114.49,\n        \"num_unique_values\": 607,\n        \"samples\": [\n          -121.15,\n          -121.46,\n          -121.02\n        ],\n        \"semantic_type\": \"\",\n        \"description\": \"\"\n      }\n    },\n    {\n      \"column\": \"latitude\",\n      \"properties\": {\n        \"dtype\": \"number\",\n        \"std\": 2.1296695233438325,\n        \"min\": 32.56,\n        \"max\": 41.92,\n        \"num_unique_values\": 587,\n        \"samples\": [\n          40.17,\n          33.69,\n          39.61\n        ],\n        \"semantic_type\": \"\",\n        \"description\": \"\"\n      }\n    },\n    {\n      \"column\": \"housing_median_age\",\n      \"properties\": {\n        \"dtype\": \"number\",\n        \"std\": 12.555395554955755,\n        \"min\": 1.0,\n        \"max\": 52.0,\n        \"num_unique_values\": 52,\n        \"samples\": [\n          14.0,\n          49.0,\n          7.0\n        ],\n        \"semantic_type\": \"\",\n        \"description\": \"\"\n      }\n    },\n    {\n      \"column\": \"total_rooms\",\n      \"properties\": {\n        \"dtype\": \"number\",\n        \"std\": 2155.59333162558,\n        \"min\": 6.0,\n        \"max\": 30450.0,\n        \"num_unique_values\": 2215,\n        \"samples\": [\n          1961.0,\n          1807.0,\n          680.0\n        ],\n        \"semantic_type\": \"\",\n        \"description\": \"\"\n      }\n    },\n    {\n      \"column\": \"total_bedrooms\",\n      \"properties\": {\n        \"dtype\": \"number\",\n        \"std\": 415.6543681363232,\n        \"min\": 2.0,\n        \"max\": 5419.0,\n        \"num_unique_values\": 1055,\n        \"samples\": [\n          532.0,\n          764.0,\n          2162.0\n        ],\n        \"semantic_type\": \"\",\n        \"description\": \"\"\n      }\n    },\n    {\n      \"column\": \"population\",\n      \"properties\": {\n        \"dtype\": \"number\",\n        \"std\": 1030.5430124122422,\n        \"min\": 5.0,\n        \"max\": 11935.0,\n        \"num_unique_values\": 1802,\n        \"samples\": [\n          947.0,\n          1140.0,\n          2019.0\n        ],\n        \"semantic_type\": \"\",\n        \"description\": \"\"\n      }\n    },\n    {\n      \"column\": \"households\",\n      \"properties\": {\n        \"dtype\": \"number\",\n        \"std\": 365.42270980552604,\n        \"min\": 2.0,\n        \"max\": 4930.0,\n        \"num_unique_values\": 1026,\n        \"samples\": [\n          646.0,\n          629.0,\n          504.0\n        ],\n        \"semantic_type\": \"\",\n        \"description\": \"\"\n      }\n    },\n    {\n      \"column\": \"median_income\",\n      \"properties\": {\n        \"dtype\": \"number\",\n        \"std\": 1.854511729691481,\n        \"min\": 0.4999,\n        \"max\": 15.0001,\n        \"num_unique_values\": 2578,\n        \"samples\": [\n          1.725,\n          0.7403,\n          2.6964\n        ],\n        \"semantic_type\": \"\",\n        \"description\": \"\"\n      }\n    },\n    {\n      \"column\": \"median_house_value\",\n      \"properties\": {\n        \"dtype\": \"number\",\n        \"std\": 113119.68746964433,\n        \"min\": 22500.0,\n        \"max\": 500001.0,\n        \"num_unique_values\": 1784,\n        \"samples\": [\n          71900.0,\n          63000.0,\n          115800.0\n        ],\n        \"semantic_type\": \"\",\n        \"description\": \"\"\n      }\n    }\n  ]\n}"
            }
          },
          "metadata": {},
          "execution_count": 62
        }
      ]
    },
    {
      "cell_type": "markdown",
      "source": [
        "### EXERCISE 2\n",
        "Pada exercise kali ini, kita akan coba untuk melakukan `parsing` seluruh data yang tersimpan pada setiap file pada folder `sample_data`, lalu menyimpannya ke sebuah `dictionary` yang berisi pasangan `key` berupa `nama_file` dan `value` berupa `DataFrame` berisi data hasil `parsing` dari file terkait.\n",
        "\n",
        "Untuk melakukan exercise ini, maka kita akan menggunakan beberapa objek berikut:\n",
        "1. List `folder_data` yang telah kita hasilkan dari **EXERCISE 1** di bagian terdahulu;\n",
        "2. fungsi `parsing_file_data` yang telah kita buat pada **Ilustrasi 12** sebelumnya."
      ],
      "metadata": {
        "id": "r3Y2LxIhru4X"
      }
    },
    {
      "cell_type": "code",
      "source": [
        "folder_data"
      ],
      "metadata": {
        "colab": {
          "base_uri": "https://localhost:8080/"
        },
        "id": "fVfP9wHXjXYN",
        "outputId": "4a57decd-e7b2-4430-83c5-cdca4372f8d0"
      },
      "execution_count": null,
      "outputs": [
        {
          "output_type": "execute_result",
          "data": {
            "text/plain": [
              "{'sample_data': ['anscombe.json',\n",
              "  'mnist_test.csv',\n",
              "  'mnist_train_small.csv',\n",
              "  'california_housing_train.csv',\n",
              "  'california_housing_test.csv']}"
            ]
          },
          "metadata": {},
          "execution_count": 63
        }
      ]
    },
    {
      "cell_type": "code",
      "source": [
        "# Buat list `isi_folder_data` dari seluruh `keys` yang ada pada `folder_data`\n",
        "isi_folder_data = list(folder_data.keys())\n",
        "# Tampilkan isi list dari memory\n",
        "isi_folder_data"
      ],
      "metadata": {
        "id": "Uq_Eyind6W0J",
        "colab": {
          "base_uri": "https://localhost:8080/"
        },
        "outputId": "49109aa4-3e83-4f13-d154-d3f55f1ab0bf"
      },
      "execution_count": null,
      "outputs": [
        {
          "output_type": "execute_result",
          "data": {
            "text/plain": [
              "['sample_data']"
            ]
          },
          "metadata": {},
          "execution_count": 64
        }
      ]
    },
    {
      "cell_type": "code",
      "source": [
        "# Buat sebuah dictionary kosong untuk placeholder\n",
        "dictionary_for_data = {}\n",
        "\n",
        "# Buat nested loop untuk membaca setiap key pada dictionary folder_data\n",
        "# Buat loop untuk mengiterasi `isi_folder_data`\n",
        "for folder in isi_folder_data:\n",
        "    # Buat loop untuk mengiterasi proses parsing data pada setiap file yang terdaftar pada `folder_data[folder]`\n",
        "    for nama_file in folder_data[folder]:\n",
        "        dictionary_for_data[nama_file]=parsing_file_data(folder, nama_file)"
      ],
      "metadata": {
        "id": "gvhjqUKfQQ9m"
      },
      "execution_count": null,
      "outputs": []
    },
    {
      "cell_type": "code",
      "source": [
        "# Tampilkan isi dari dictionary dari memory\n",
        "dictionary_for_data"
      ],
      "metadata": {
        "id": "G6QGHS6kQuhT",
        "colab": {
          "base_uri": "https://localhost:8080/"
        },
        "outputId": "3bb27170-37d5-43cc-a0cb-1454f6641d1a"
      },
      "execution_count": null,
      "outputs": [
        {
          "output_type": "execute_result",
          "data": {
            "text/plain": [
              "{'anscombe.json':    Series   X      Y\n",
              " 0       I  10   8.04\n",
              " 1       I   8   6.95\n",
              " 2       I  13   7.58\n",
              " 3       I   9   8.81\n",
              " 4       I  11   8.33\n",
              " 5       I  14   9.96\n",
              " 6       I   6   7.24\n",
              " 7       I   4   4.26\n",
              " 8       I  12  10.84\n",
              " 9       I   7   4.81\n",
              " 10      I   5   5.68\n",
              " 11     II  10   9.14\n",
              " 12     II   8   8.14\n",
              " 13     II  13   8.74\n",
              " 14     II   9   8.77\n",
              " 15     II  11   9.26\n",
              " 16     II  14   8.10\n",
              " 17     II   6   6.13\n",
              " 18     II   4   3.10\n",
              " 19     II  12   9.13\n",
              " 20     II   7   7.26\n",
              " 21     II   5   4.74\n",
              " 22    III  10   7.46\n",
              " 23    III   8   6.77\n",
              " 24    III  13  12.74\n",
              " 25    III   9   7.11\n",
              " 26    III  11   7.81\n",
              " 27    III  14   8.84\n",
              " 28    III   6   6.08\n",
              " 29    III   4   5.39\n",
              " 30    III  12   8.15\n",
              " 31    III   7   6.42\n",
              " 32    III   5   5.73\n",
              " 33     IV   8   6.58\n",
              " 34     IV   8   5.76\n",
              " 35     IV   8   7.71\n",
              " 36     IV   8   8.84\n",
              " 37     IV   8   8.47\n",
              " 38     IV   8   7.04\n",
              " 39     IV   8   5.25\n",
              " 40     IV  19  12.50\n",
              " 41     IV   8   5.56\n",
              " 42     IV   8   7.91\n",
              " 43     IV   8   6.89,\n",
              " 'mnist_test.csv':       7  0  0.1  0.2  0.3  0.4  0.5  0.6  0.7  0.8  ...  0.658  0.659  0.660  \\\n",
              " 0     2  0    0    0    0    0    0    0    0    0  ...      0      0      0   \n",
              " 1     1  0    0    0    0    0    0    0    0    0  ...      0      0      0   \n",
              " 2     0  0    0    0    0    0    0    0    0    0  ...      0      0      0   \n",
              " 3     4  0    0    0    0    0    0    0    0    0  ...      0      0      0   \n",
              " 4     1  0    0    0    0    0    0    0    0    0  ...      0      0      0   \n",
              " ...  .. ..  ...  ...  ...  ...  ...  ...  ...  ...  ...    ...    ...    ...   \n",
              " 9994  2  0    0    0    0    0    0    0    0    0  ...      0      0      0   \n",
              " 9995  3  0    0    0    0    0    0    0    0    0  ...      0      0      0   \n",
              " 9996  4  0    0    0    0    0    0    0    0    0  ...      0      0      0   \n",
              " 9997  5  0    0    0    0    0    0    0    0    0  ...      0      0      0   \n",
              " 9998  6  0    0    0    0    0    0    0    0    0  ...      0      0      0   \n",
              " \n",
              "       0.661  0.662  0.663  0.664  0.665  0.666  0.667  \n",
              " 0         0      0      0      0      0      0      0  \n",
              " 1         0      0      0      0      0      0      0  \n",
              " 2         0      0      0      0      0      0      0  \n",
              " 3         0      0      0      0      0      0      0  \n",
              " 4         0      0      0      0      0      0      0  \n",
              " ...     ...    ...    ...    ...    ...    ...    ...  \n",
              " 9994      0      0      0      0      0      0      0  \n",
              " 9995      0      0      0      0      0      0      0  \n",
              " 9996      0      0      0      0      0      0      0  \n",
              " 9997      0      0      0      0      0      0      0  \n",
              " 9998      0      0      0      0      0      0      0  \n",
              " \n",
              " [9999 rows x 785 columns],\n",
              " 'mnist_train_small.csv':        6  0  0.1  0.2  0.3  0.4  0.5  0.6  0.7  0.8  ...  0.581  0.582  0.583  \\\n",
              " 0      5  0    0    0    0    0    0    0    0    0  ...      0      0      0   \n",
              " 1      7  0    0    0    0    0    0    0    0    0  ...      0      0      0   \n",
              " 2      9  0    0    0    0    0    0    0    0    0  ...      0      0      0   \n",
              " 3      5  0    0    0    0    0    0    0    0    0  ...      0      0      0   \n",
              " 4      2  0    0    0    0    0    0    0    0    0  ...      0      0      0   \n",
              " ...   .. ..  ...  ...  ...  ...  ...  ...  ...  ...  ...    ...    ...    ...   \n",
              " 19994  0  0    0    0    0    0    0    0    0    0  ...      0      0      0   \n",
              " 19995  1  0    0    0    0    0    0    0    0    0  ...      0      0      0   \n",
              " 19996  2  0    0    0    0    0    0    0    0    0  ...      0      0      0   \n",
              " 19997  9  0    0    0    0    0    0    0    0    0  ...      0      0      0   \n",
              " 19998  5  0    0    0    0    0    0    0    0    0  ...      0      0      0   \n",
              " \n",
              "        0.584  0.585  0.586  0.587  0.588  0.589  0.590  \n",
              " 0          0      0      0      0      0      0      0  \n",
              " 1          0      0      0      0      0      0      0  \n",
              " 2          0      0      0      0      0      0      0  \n",
              " 3          0      0      0      0      0      0      0  \n",
              " 4          0      0      0      0      0      0      0  \n",
              " ...      ...    ...    ...    ...    ...    ...    ...  \n",
              " 19994      0      0      0      0      0      0      0  \n",
              " 19995      0      0      0      0      0      0      0  \n",
              " 19996      0      0      0      0      0      0      0  \n",
              " 19997      0      0      0      0      0      0      0  \n",
              " 19998      0      0      0      0      0      0      0  \n",
              " \n",
              " [19999 rows x 785 columns],\n",
              " 'california_housing_train.csv':        longitude  latitude  housing_median_age  total_rooms  total_bedrooms  \\\n",
              " 0        -114.31     34.19                15.0       5612.0          1283.0   \n",
              " 1        -114.47     34.40                19.0       7650.0          1901.0   \n",
              " 2        -114.56     33.69                17.0        720.0           174.0   \n",
              " 3        -114.57     33.64                14.0       1501.0           337.0   \n",
              " 4        -114.57     33.57                20.0       1454.0           326.0   \n",
              " ...          ...       ...                 ...          ...             ...   \n",
              " 16995    -124.26     40.58                52.0       2217.0           394.0   \n",
              " 16996    -124.27     40.69                36.0       2349.0           528.0   \n",
              " 16997    -124.30     41.84                17.0       2677.0           531.0   \n",
              " 16998    -124.30     41.80                19.0       2672.0           552.0   \n",
              " 16999    -124.35     40.54                52.0       1820.0           300.0   \n",
              " \n",
              "        population  households  median_income  median_house_value  \n",
              " 0          1015.0       472.0         1.4936             66900.0  \n",
              " 1          1129.0       463.0         1.8200             80100.0  \n",
              " 2           333.0       117.0         1.6509             85700.0  \n",
              " 3           515.0       226.0         3.1917             73400.0  \n",
              " 4           624.0       262.0         1.9250             65500.0  \n",
              " ...           ...         ...            ...                 ...  \n",
              " 16995       907.0       369.0         2.3571            111400.0  \n",
              " 16996      1194.0       465.0         2.5179             79000.0  \n",
              " 16997      1244.0       456.0         3.0313            103600.0  \n",
              " 16998      1298.0       478.0         1.9797             85800.0  \n",
              " 16999       806.0       270.0         3.0147             94600.0  \n",
              " \n",
              " [17000 rows x 9 columns],\n",
              " 'california_housing_test.csv':       longitude  latitude  housing_median_age  total_rooms  total_bedrooms  \\\n",
              " 0       -122.05     37.37                27.0       3885.0           661.0   \n",
              " 1       -118.30     34.26                43.0       1510.0           310.0   \n",
              " 2       -117.81     33.78                27.0       3589.0           507.0   \n",
              " 3       -118.36     33.82                28.0         67.0            15.0   \n",
              " 4       -119.67     36.33                19.0       1241.0           244.0   \n",
              " ...         ...       ...                 ...          ...             ...   \n",
              " 2995    -119.86     34.42                23.0       1450.0           642.0   \n",
              " 2996    -118.14     34.06                27.0       5257.0          1082.0   \n",
              " 2997    -119.70     36.30                10.0        956.0           201.0   \n",
              " 2998    -117.12     34.10                40.0         96.0            14.0   \n",
              " 2999    -119.63     34.42                42.0       1765.0           263.0   \n",
              " \n",
              "       population  households  median_income  median_house_value  \n",
              " 0         1537.0       606.0         6.6085            344700.0  \n",
              " 1          809.0       277.0         3.5990            176500.0  \n",
              " 2         1484.0       495.0         5.7934            270500.0  \n",
              " 3           49.0        11.0         6.1359            330000.0  \n",
              " 4          850.0       237.0         2.9375             81700.0  \n",
              " ...          ...         ...            ...                 ...  \n",
              " 2995      1258.0       607.0         1.1790            225000.0  \n",
              " 2996      3496.0      1036.0         3.3906            237200.0  \n",
              " 2997       693.0       220.0         2.2895             62000.0  \n",
              " 2998        46.0        14.0         3.2708            162500.0  \n",
              " 2999       753.0       260.0         8.5608            500001.0  \n",
              " \n",
              " [3000 rows x 9 columns]}"
            ]
          },
          "metadata": {},
          "execution_count": 66
        }
      ]
    },
    {
      "cell_type": "code",
      "source": [
        "# Tampilkan key apa saja yang ada di dalam ditionary tersebut dari memory\n",
        "dictionary_for_data.keys()"
      ],
      "metadata": {
        "id": "y3pYWseP7fe3",
        "colab": {
          "base_uri": "https://localhost:8080/"
        },
        "outputId": "ae6461d5-6976-4ef7-f17a-ddc6d3544353"
      },
      "execution_count": null,
      "outputs": [
        {
          "output_type": "execute_result",
          "data": {
            "text/plain": [
              "dict_keys(['anscombe.json', 'mnist_test.csv', 'mnist_train_small.csv', 'california_housing_train.csv', 'california_housing_test.csv'])"
            ]
          },
          "metadata": {},
          "execution_count": 67
        }
      ]
    },
    {
      "cell_type": "code",
      "source": [
        "# Tampilkan lima rows paling atas dari salah satu `DataFrame` yang tersimpan dalam dictionary tersebut\n",
        "dictionary_for_data['anscombe.json'].head()"
      ],
      "metadata": {
        "id": "u1jy_BhOVKhE",
        "colab": {
          "base_uri": "https://localhost:8080/",
          "height": 206
        },
        "outputId": "a2ae775b-3641-407f-dacf-350b4b015171"
      },
      "execution_count": null,
      "outputs": [
        {
          "output_type": "execute_result",
          "data": {
            "text/plain": [
              "  Series   X     Y\n",
              "0      I  10  8.04\n",
              "1      I   8  6.95\n",
              "2      I  13  7.58\n",
              "3      I   9  8.81\n",
              "4      I  11  8.33"
            ],
            "text/html": [
              "\n",
              "  <div id=\"df-487ad62b-88ad-4cc4-a05c-22c77444119e\" class=\"colab-df-container\">\n",
              "    <div>\n",
              "<style scoped>\n",
              "    .dataframe tbody tr th:only-of-type {\n",
              "        vertical-align: middle;\n",
              "    }\n",
              "\n",
              "    .dataframe tbody tr th {\n",
              "        vertical-align: top;\n",
              "    }\n",
              "\n",
              "    .dataframe thead th {\n",
              "        text-align: right;\n",
              "    }\n",
              "</style>\n",
              "<table border=\"1\" class=\"dataframe\">\n",
              "  <thead>\n",
              "    <tr style=\"text-align: right;\">\n",
              "      <th></th>\n",
              "      <th>Series</th>\n",
              "      <th>X</th>\n",
              "      <th>Y</th>\n",
              "    </tr>\n",
              "  </thead>\n",
              "  <tbody>\n",
              "    <tr>\n",
              "      <th>0</th>\n",
              "      <td>I</td>\n",
              "      <td>10</td>\n",
              "      <td>8.04</td>\n",
              "    </tr>\n",
              "    <tr>\n",
              "      <th>1</th>\n",
              "      <td>I</td>\n",
              "      <td>8</td>\n",
              "      <td>6.95</td>\n",
              "    </tr>\n",
              "    <tr>\n",
              "      <th>2</th>\n",
              "      <td>I</td>\n",
              "      <td>13</td>\n",
              "      <td>7.58</td>\n",
              "    </tr>\n",
              "    <tr>\n",
              "      <th>3</th>\n",
              "      <td>I</td>\n",
              "      <td>9</td>\n",
              "      <td>8.81</td>\n",
              "    </tr>\n",
              "    <tr>\n",
              "      <th>4</th>\n",
              "      <td>I</td>\n",
              "      <td>11</td>\n",
              "      <td>8.33</td>\n",
              "    </tr>\n",
              "  </tbody>\n",
              "</table>\n",
              "</div>\n",
              "    <div class=\"colab-df-buttons\">\n",
              "\n",
              "  <div class=\"colab-df-container\">\n",
              "    <button class=\"colab-df-convert\" onclick=\"convertToInteractive('df-487ad62b-88ad-4cc4-a05c-22c77444119e')\"\n",
              "            title=\"Convert this dataframe to an interactive table.\"\n",
              "            style=\"display:none;\">\n",
              "\n",
              "  <svg xmlns=\"http://www.w3.org/2000/svg\" height=\"24px\" viewBox=\"0 -960 960 960\">\n",
              "    <path d=\"M120-120v-720h720v720H120Zm60-500h600v-160H180v160Zm220 220h160v-160H400v160Zm0 220h160v-160H400v160ZM180-400h160v-160H180v160Zm440 0h160v-160H620v160ZM180-180h160v-160H180v160Zm440 0h160v-160H620v160Z\"/>\n",
              "  </svg>\n",
              "    </button>\n",
              "\n",
              "  <style>\n",
              "    .colab-df-container {\n",
              "      display:flex;\n",
              "      gap: 12px;\n",
              "    }\n",
              "\n",
              "    .colab-df-convert {\n",
              "      background-color: #E8F0FE;\n",
              "      border: none;\n",
              "      border-radius: 50%;\n",
              "      cursor: pointer;\n",
              "      display: none;\n",
              "      fill: #1967D2;\n",
              "      height: 32px;\n",
              "      padding: 0 0 0 0;\n",
              "      width: 32px;\n",
              "    }\n",
              "\n",
              "    .colab-df-convert:hover {\n",
              "      background-color: #E2EBFA;\n",
              "      box-shadow: 0px 1px 2px rgba(60, 64, 67, 0.3), 0px 1px 3px 1px rgba(60, 64, 67, 0.15);\n",
              "      fill: #174EA6;\n",
              "    }\n",
              "\n",
              "    .colab-df-buttons div {\n",
              "      margin-bottom: 4px;\n",
              "    }\n",
              "\n",
              "    [theme=dark] .colab-df-convert {\n",
              "      background-color: #3B4455;\n",
              "      fill: #D2E3FC;\n",
              "    }\n",
              "\n",
              "    [theme=dark] .colab-df-convert:hover {\n",
              "      background-color: #434B5C;\n",
              "      box-shadow: 0px 1px 3px 1px rgba(0, 0, 0, 0.15);\n",
              "      filter: drop-shadow(0px 1px 2px rgba(0, 0, 0, 0.3));\n",
              "      fill: #FFFFFF;\n",
              "    }\n",
              "  </style>\n",
              "\n",
              "    <script>\n",
              "      const buttonEl =\n",
              "        document.querySelector('#df-487ad62b-88ad-4cc4-a05c-22c77444119e button.colab-df-convert');\n",
              "      buttonEl.style.display =\n",
              "        google.colab.kernel.accessAllowed ? 'block' : 'none';\n",
              "\n",
              "      async function convertToInteractive(key) {\n",
              "        const element = document.querySelector('#df-487ad62b-88ad-4cc4-a05c-22c77444119e');\n",
              "        const dataTable =\n",
              "          await google.colab.kernel.invokeFunction('convertToInteractive',\n",
              "                                                    [key], {});\n",
              "        if (!dataTable) return;\n",
              "\n",
              "        const docLinkHtml = 'Like what you see? Visit the ' +\n",
              "          '<a target=\"_blank\" href=https://colab.research.google.com/notebooks/data_table.ipynb>data table notebook</a>'\n",
              "          + ' to learn more about interactive tables.';\n",
              "        element.innerHTML = '';\n",
              "        dataTable['output_type'] = 'display_data';\n",
              "        await google.colab.output.renderOutput(dataTable, element);\n",
              "        const docLink = document.createElement('div');\n",
              "        docLink.innerHTML = docLinkHtml;\n",
              "        element.appendChild(docLink);\n",
              "      }\n",
              "    </script>\n",
              "  </div>\n",
              "\n",
              "\n",
              "    <div id=\"df-61066ebd-60b5-487f-abf8-a18d87125969\">\n",
              "      <button class=\"colab-df-quickchart\" onclick=\"quickchart('df-61066ebd-60b5-487f-abf8-a18d87125969')\"\n",
              "                title=\"Suggest charts\"\n",
              "                style=\"display:none;\">\n",
              "\n",
              "<svg xmlns=\"http://www.w3.org/2000/svg\" height=\"24px\"viewBox=\"0 0 24 24\"\n",
              "     width=\"24px\">\n",
              "    <g>\n",
              "        <path d=\"M19 3H5c-1.1 0-2 .9-2 2v14c0 1.1.9 2 2 2h14c1.1 0 2-.9 2-2V5c0-1.1-.9-2-2-2zM9 17H7v-7h2v7zm4 0h-2V7h2v10zm4 0h-2v-4h2v4z\"/>\n",
              "    </g>\n",
              "</svg>\n",
              "      </button>\n",
              "\n",
              "<style>\n",
              "  .colab-df-quickchart {\n",
              "      --bg-color: #E8F0FE;\n",
              "      --fill-color: #1967D2;\n",
              "      --hover-bg-color: #E2EBFA;\n",
              "      --hover-fill-color: #174EA6;\n",
              "      --disabled-fill-color: #AAA;\n",
              "      --disabled-bg-color: #DDD;\n",
              "  }\n",
              "\n",
              "  [theme=dark] .colab-df-quickchart {\n",
              "      --bg-color: #3B4455;\n",
              "      --fill-color: #D2E3FC;\n",
              "      --hover-bg-color: #434B5C;\n",
              "      --hover-fill-color: #FFFFFF;\n",
              "      --disabled-bg-color: #3B4455;\n",
              "      --disabled-fill-color: #666;\n",
              "  }\n",
              "\n",
              "  .colab-df-quickchart {\n",
              "    background-color: var(--bg-color);\n",
              "    border: none;\n",
              "    border-radius: 50%;\n",
              "    cursor: pointer;\n",
              "    display: none;\n",
              "    fill: var(--fill-color);\n",
              "    height: 32px;\n",
              "    padding: 0;\n",
              "    width: 32px;\n",
              "  }\n",
              "\n",
              "  .colab-df-quickchart:hover {\n",
              "    background-color: var(--hover-bg-color);\n",
              "    box-shadow: 0 1px 2px rgba(60, 64, 67, 0.3), 0 1px 3px 1px rgba(60, 64, 67, 0.15);\n",
              "    fill: var(--button-hover-fill-color);\n",
              "  }\n",
              "\n",
              "  .colab-df-quickchart-complete:disabled,\n",
              "  .colab-df-quickchart-complete:disabled:hover {\n",
              "    background-color: var(--disabled-bg-color);\n",
              "    fill: var(--disabled-fill-color);\n",
              "    box-shadow: none;\n",
              "  }\n",
              "\n",
              "  .colab-df-spinner {\n",
              "    border: 2px solid var(--fill-color);\n",
              "    border-color: transparent;\n",
              "    border-bottom-color: var(--fill-color);\n",
              "    animation:\n",
              "      spin 1s steps(1) infinite;\n",
              "  }\n",
              "\n",
              "  @keyframes spin {\n",
              "    0% {\n",
              "      border-color: transparent;\n",
              "      border-bottom-color: var(--fill-color);\n",
              "      border-left-color: var(--fill-color);\n",
              "    }\n",
              "    20% {\n",
              "      border-color: transparent;\n",
              "      border-left-color: var(--fill-color);\n",
              "      border-top-color: var(--fill-color);\n",
              "    }\n",
              "    30% {\n",
              "      border-color: transparent;\n",
              "      border-left-color: var(--fill-color);\n",
              "      border-top-color: var(--fill-color);\n",
              "      border-right-color: var(--fill-color);\n",
              "    }\n",
              "    40% {\n",
              "      border-color: transparent;\n",
              "      border-right-color: var(--fill-color);\n",
              "      border-top-color: var(--fill-color);\n",
              "    }\n",
              "    60% {\n",
              "      border-color: transparent;\n",
              "      border-right-color: var(--fill-color);\n",
              "    }\n",
              "    80% {\n",
              "      border-color: transparent;\n",
              "      border-right-color: var(--fill-color);\n",
              "      border-bottom-color: var(--fill-color);\n",
              "    }\n",
              "    90% {\n",
              "      border-color: transparent;\n",
              "      border-bottom-color: var(--fill-color);\n",
              "    }\n",
              "  }\n",
              "</style>\n",
              "\n",
              "      <script>\n",
              "        async function quickchart(key) {\n",
              "          const quickchartButtonEl =\n",
              "            document.querySelector('#' + key + ' button');\n",
              "          quickchartButtonEl.disabled = true;  // To prevent multiple clicks.\n",
              "          quickchartButtonEl.classList.add('colab-df-spinner');\n",
              "          try {\n",
              "            const charts = await google.colab.kernel.invokeFunction(\n",
              "                'suggestCharts', [key], {});\n",
              "          } catch (error) {\n",
              "            console.error('Error during call to suggestCharts:', error);\n",
              "          }\n",
              "          quickchartButtonEl.classList.remove('colab-df-spinner');\n",
              "          quickchartButtonEl.classList.add('colab-df-quickchart-complete');\n",
              "        }\n",
              "        (() => {\n",
              "          let quickchartButtonEl =\n",
              "            document.querySelector('#df-61066ebd-60b5-487f-abf8-a18d87125969 button');\n",
              "          quickchartButtonEl.style.display =\n",
              "            google.colab.kernel.accessAllowed ? 'block' : 'none';\n",
              "        })();\n",
              "      </script>\n",
              "    </div>\n",
              "\n",
              "    </div>\n",
              "  </div>\n"
            ],
            "application/vnd.google.colaboratory.intrinsic+json": {
              "type": "dataframe",
              "summary": "{\n  \"name\": \"dictionary_for_data['anscombe\",\n  \"rows\": 5,\n  \"fields\": [\n    {\n      \"column\": \"Series\",\n      \"properties\": {\n        \"dtype\": \"category\",\n        \"num_unique_values\": 1,\n        \"samples\": [\n          \"I\"\n        ],\n        \"semantic_type\": \"\",\n        \"description\": \"\"\n      }\n    },\n    {\n      \"column\": \"X\",\n      \"properties\": {\n        \"dtype\": \"number\",\n        \"std\": 1,\n        \"min\": 8,\n        \"max\": 13,\n        \"num_unique_values\": 5,\n        \"samples\": [\n          8\n        ],\n        \"semantic_type\": \"\",\n        \"description\": \"\"\n      }\n    },\n    {\n      \"column\": \"Y\",\n      \"properties\": {\n        \"dtype\": \"number\",\n        \"std\": 0.7121586901807772,\n        \"min\": 6.95,\n        \"max\": 8.81,\n        \"num_unique_values\": 5,\n        \"samples\": [\n          6.95\n        ],\n        \"semantic_type\": \"\",\n        \"description\": \"\"\n      }\n    }\n  ]\n}"
            }
          },
          "metadata": {},
          "execution_count": 72
        }
      ]
    },
    {
      "cell_type": "markdown",
      "source": [
        "---"
      ],
      "metadata": {
        "id": "z9IJwQMV7qF_"
      }
    }
  ]
}