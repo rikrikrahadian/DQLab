{
  "nbformat": 4,
  "nbformat_minor": 0,
  "metadata": {
    "colab": {
      "provenance": [],
      "include_colab_link": true
    },
    "kernelspec": {
      "name": "python3",
      "display_name": "Python 3"
    },
    "language_info": {
      "name": "python"
    }
  },
  "cells": [
    {
      "cell_type": "markdown",
      "metadata": {
        "id": "view-in-github",
        "colab_type": "text"
      },
      "source": [
        "<a href=\"https://colab.research.google.com/github/rikrikrahadian/DQLab/blob/main/Part_4_IF_Logic%2C_Function%2C_dan_Loop.ipynb\" target=\"_parent\"><img src=\"https://colab.research.google.com/assets/colab-badge.svg\" alt=\"Open In Colab\"/></a>"
      ]
    },
    {
      "cell_type": "markdown",
      "source": [
        "# CONTROL STRUCTURES: `Conditional Statements`, `Loops`, and `Function Calls`"
      ],
      "metadata": {
        "id": "Z5KM6th2lPKL"
      }
    },
    {
      "cell_type": "markdown",
      "source": [
        "## *Control Structures*\n",
        "> ***Control Structures*** adalah berbagai struktur yang disediakan dalam sebuah bahasa pemrograman yang dapat mempengaruhi **alur eksekusi perintah dalam sebuah program** (*Program's Control Flow*).\n",
        "\n",
        "Dari beberapa pertemuan pengenalan bahasa pemrograman Python sebelumnya, sebagian besar pengguna sudah dapat menebak secara intuitif bahwa *Program's Control Flow* pada Python dilakukan secara *sequential*, dimana berbagai *`statements`* pada sebuah program akan dibaca oleh Python interpreter secara per baris dari *statement* paling atas hingga ke paling bawah, dengan arah membaca setiap *statement* dari kiri ke kanan, dan hirarki evaluasi `expressions` yang akan dijalankan pada *statement* dari `expression` paling dalam ke luar.\n",
        "\n",
        "Dalam prakteknya, eksekusi `expressions` pada sebuah program tidak selalu berjalan sesederhana itu. Tidak jarang ditemui adanya keperluan untuk memberikan opsi agar:\n",
        "  1. beberapa baris *statements* tertentu dilalui tanpa dieksekusi;\n",
        "  2. melakukan pengulangan terhadap sebuah *block statement*; atau\n",
        "  3. memilih antara beberapa alternatif *block statements* yang harus dieksekusi.\n",
        "\n",
        "*Control structures* berguna untuk membantu dalam mengarahkan alur eksekusi *statements* sesuai dengan keperluan. Beberapa *control structures* yang umumnya dimanfaatkan dalam Python adalah:\n",
        "1. *`Conditional Statements`*;\n",
        "2. *`Loops`*;\n",
        "3. *`Function Calls`*; dan\n",
        "4. *`Exceptions Handling`*.\n",
        "\n",
        "Pertemuan ke-4 ini bertujuan untuk memberikan pemahaman dan penguasaan terhadap tiga *Control Structures* pertama yang disebutkan di atas. Adapun `Exceptions` akan disinggung secara sekilas saja pada bagian `Functions`, dengan pertimbangan terbatasnya waktu sehingga pembahasan dapat lebih difokuskan terhadap bagian yang lebih penting."
      ],
      "metadata": {
        "id": "PB8O2ndLzn03"
      }
    },
    {
      "cell_type": "markdown",
      "source": [
        "### *Indentation* Matters\n",
        "\n",
        "Serangkaian *statements* yang harus dieksekusi di bawah sebuah `conditional`, `loop`, atau `function`, disebut sebagai satu **`Block Statement`**. Dalam Python, blok seperti ini **ditentukan secara visual melalui indentasi** — ini dikenal sebagai aturan **off-side rule**.\n",
        "\n",
        "Aturan `off-side` ini menyatakan bahwa:\n",
        "\n",
        "> \"Semua *statements* dalam blok yang sama **harus** memiliki **indentasi yang seragam**, menjorok ke kanan dari baris pembuka blok (header).\"\n",
        "\n",
        "Baris pembuka blok (`Block Header`) di Python selalu diakhiri dengan tanda titik dua (`:`), dan biasanya mencakup struktur seperti `if`, `for`, `while`, `def`, dan sebagainya.\n",
        "\n",
        "Secara konvensi, indentasi untuk setiap blok menggunakan **dua atau empat spasi** dari baris pembuka (bukan tab campur spasi!). Contoh struktur blok dapat dilihat pada kode berikut:\n",
        "\n",
        "```python\n",
        "# Top-level statement (global scope)\n",
        "global_variable = 10\n",
        "\n",
        "# Block Header: 'if' statement\n",
        "if global_variable > 5:\n",
        "    # Block statements: indented 4 spaces\n",
        "    block_variable = global_variable * 2 if global_variable==5 else global_variable\n",
        "    print(\"Nilai block_variable:\", block_variable)\n",
        "```"
      ],
      "metadata": {
        "id": "L6OkweHSt7pV"
      }
    },
    {
      "cell_type": "markdown",
      "source": [
        "## `Conditionals`\n",
        "Penggunaan `conditionals` memungkinkan sebuah program melakukan semacam *decision-making* untuk menentukan **`Block Statement`** mana yang harus dieksekusi berdasarkan kondisi yang berlaku. Dalam bahasa pemrograman Python, eksekusi *statement* bersyarat dapat dilakukan dengan menggunakan `if statements`."
      ],
      "metadata": {
        "id": "Wol7kLjIc1Lu"
      }
    },
    {
      "cell_type": "markdown",
      "source": [
        "### `if` conditional\n",
        "`if` conditional adalah bentuk paling sederhana dari conditionals, dimana hanya diperlukan sebuah `block statement`, yang hanya akan dieksekusi ketika `conditional expression` yang diberikan terpenuhi (bernilai `True`), sebelum proses dilanjutkan ke `statement` di bawah `block statement` tersebut.\n",
        "\n",
        "Sedangkan jika `conditional expression` tidak terpenuhi (bernilai `False`), maka `block statement` akan dilangkahi, dan proses langsung dilakukan terhadap `statement` yang berada di bawah `block statement`.\n",
        "\n",
        "Berikut ini adalah format penulisan dari sebuah `if` conditional beserta *`block statement`*nya:\n",
        "```python\n",
        "if <conditional_expression>:\n",
        "    # block statement\n",
        "    <block statement>\n",
        "    # end of block statement\n",
        "<statement>\n",
        "```"
      ],
      "metadata": {
        "id": "k5YkvWiMBWPl"
      }
    },
    {
      "cell_type": "markdown",
      "source": [
        "#### **Ilustrasi 1**: *Use-case* `if` conditional\n",
        "Dalam sebuah program, tidak jarang diperlukan `users' input` untuk dipergunakan oleh program dalam pemrosesan lebih lanjut. Biasanya kebutuhan input bagi program tersebut memiliki format tertentu yang akan mengakibatkan error jika format tersebut tidak dipenuhi. Oleh karena itu, terhadap setiap `users' input` perlu dilakukan validasi untuk memastikan bahwa format inputan memiliki kesesuaian dengan kebutuhan. Sebuah `if` conditional dapat dipergunakan untuk memberikan notifikasi jika `users' input` tidak sesuai dengan format yang diperlukan, seperti diilustrasikan pada `code cell` di bawah ini."
      ],
      "metadata": {
        "id": "0CVFosXJwbm0"
      }
    },
    {
      "cell_type": "code",
      "source": [
        "# Meminta input berupa nama file beserta ekstensinya\n",
        "nama_file: str = input(\"Tuliskan nama file lengkap dengan ekstensinya (contoh: 'nama_file.csv'): \")\n",
        "# Conditions:\n",
        "condition_1: bool = nama_file.count('.')!=1\n",
        "condition_2: bool = nama_file.split('.')[-1] not in ['txt', 'csv', 'xls', 'xlsx', 'json']\n",
        "# Validasi sederhana nama_file\n",
        "if condition_1 | condition_2:                         # Awal If Block Statement: Cek penulisan nama file, apakah tidak valid\n",
        "    print(\"Penulisan nama atau tipe file salah!\")     # Akhir If Block Statement: Tampilkan pesan tidak valid\n",
        "print(\"Proses selesai!\")"
      ],
      "metadata": {
        "id": "aGSV0avZJdpN"
      },
      "execution_count": null,
      "outputs": []
    },
    {
      "cell_type": "code",
      "source": [
        "condition_1 | condition_2"
      ],
      "metadata": {
        "id": "AKZYNOT_FL5h"
      },
      "execution_count": null,
      "outputs": []
    },
    {
      "cell_type": "markdown",
      "source": [
        "### `if ... else` conditional\n",
        "`if ... else` conditional dipergunakan jika terdapat alternatif pemrosesan yang harus dilakukan ketika `conditional expression` yang ditetapkan tidak terpenuhi. Dengan menggunakan conditional ini, maka pada program akan dituliskan dua `block statement`, yaitu:\n",
        "1. `if block statement`; dan\n",
        "2. `else block statement`.\n",
        "\n",
        "Dalam pemrosesan program, hanya salah satu dari kedua `block statements` tersebut yang akan dieksekusi, sebelum proses dilanjutkan dengan eksekusi `statement` di bawah keduanya. Adapun `block statement` mana yang akan dieksekusi tergantung dari terpenuhi (`True`) atau tidaknya (`False`) `conditional expression` yang ditetapkan.\n",
        "\n",
        "Berikut ini adalah format penulisan `if ... else` conditional dan *block statements* masing-masingnya:\n",
        "```python\n",
        "if <Conditional expression>:\n",
        "    # if block statement\n",
        "    <block statement>\n",
        "    # end of if block statement\n",
        "else:\n",
        "    # else block statement\n",
        "    <block statement>\n",
        "    # end of else block statement\n",
        "<statement>\n",
        "```"
      ],
      "metadata": {
        "id": "N1IXlZkcis6r"
      }
    },
    {
      "cell_type": "markdown",
      "source": [
        "#### **Ilustrasi 2**: *Use-case* `if ... else` conditional\n",
        "Pada `code cell` di bawah ini dicontohkan penggunaan `if ... else` untuk memberikan notifikasi apakah `users' input` memiliki format yang sesuai atau tidak."
      ],
      "metadata": {
        "id": "ryJZwSAy0aQU"
      }
    },
    {
      "cell_type": "code",
      "source": [
        "# Mintakan input berupa nama file beserta ekstensinya\n",
        "nama_file = input(\"Tuliskan nama file, lengkap dengan ekstensinya (contoh: 'nama_file.csv'): \")\n",
        "# Conditions\n",
        "condition_1 = nama_file.count('.')!=1\n",
        "condition_2 = nama_file.split('.')[-1] not in ['txt', 'csv', 'xls', 'xlsx', 'json']\n",
        "\n",
        "# Validasi format nama_file\n",
        "if condition_1 | condition_2:                          # if Block Header: Cek penulisan nama file, apakah tidak valid\n",
        "    pesan = \"Penulisan nama/tipe file tidak sesuai!\"   # End of if Block: assign 'Penulisan nama file tidak sesuai format!` ke pesan\n",
        "else:                                                  # Else block Header: Jika penulisan nama file valid\n",
        "    pesan = \"File sesuai!\"                             # End of else block: assign 'Penulisan nama file sesuai format!` ke pesan\n",
        "\n",
        "print(\"NAMA FILE = '%s'\" % nama_file)\n",
        "print(\"HASIL VALIDASI = %s\" % pesan)"
      ],
      "metadata": {
        "id": "LGE4ynYWM6Jg"
      },
      "execution_count": null,
      "outputs": []
    },
    {
      "cell_type": "markdown",
      "source": [
        "DRY : Don't Repeat yourself!!!"
      ],
      "metadata": {
        "id": "t43SSD_DHtkj"
      }
    },
    {
      "cell_type": "markdown",
      "source": [
        "### `if ... elif ... else` conditionals\n",
        "`elif` merupakan kependekan dari `else if`. Conditional ini akan diterapkan jika terdapat lebih dari dua alternatif pemrosesan yang harus dilakukan, sehingga jumlah `block statement` yang harus dituliskan akan sama dengan jumlah alternatif yang tersedia.\n",
        "\n",
        "Berikut ini adalah format penulisan `if ... elif ... else` conditional dan masing-masing *block statement*nya:\n",
        "```python\n",
        "if <conditional expression 1>:\n",
        "    # if block statement\n",
        "    <block statement>\n",
        "    # end of if block statement\n",
        "elif <conditional expression 2>:\n",
        "    # elif block statement\n",
        "    <block statement>\n",
        "    # end of elif block statement\n",
        "elif <conditional expression 3>:\n",
        "    # elif block statement\n",
        "    <block statement>\n",
        "    # end of elif block statement\n",
        "...\n",
        "...\n",
        "else:\n",
        "    # else block statement\n",
        "    <block statement>\n",
        "    # end of else block statement\n",
        "<statement>\n",
        "```"
      ],
      "metadata": {
        "id": "AWpWHOVHix3m"
      }
    },
    {
      "cell_type": "markdown",
      "source": [
        "#### **Ilustrasi 3**: `if ... elif ... else` conditional\n",
        "Di bawah berikut dapat dilihat sebuah *use-case* bagi `if ... elif ... else` conditional, yang dipergunakan untuk memberikan notifikasi apakah nama file yang menjadi `users-input` adalah file berisi data atau bukan, berdasarkan variabel `ekstensi_file` yang dihasilkan dari proses sebelumnya."
      ],
      "metadata": {
        "id": "mmlT3orb4hZx"
      }
    },
    {
      "cell_type": "code",
      "source": [
        "\"rikrik_rahadian.pptx\".split('.')[3]"
      ],
      "metadata": {
        "id": "tSK-xgb4JBxI"
      },
      "execution_count": null,
      "outputs": []
    },
    {
      "cell_type": "code",
      "source": [
        "# Mintakan input berupa nama file beserta ekstensinya\n",
        "nama_file = input(\"Tuliskan nama file, lengkap dengan ekstensinya (contoh: 'nama_file.csv'): \")\n",
        "\n",
        "# Pisahkan ekstensi_file dari nama_file\n",
        "if nama_file.count('.')!=1:                    # Awal If Block: Cek penulisan nama file, apakah tidak valid\n",
        "    ekstensi_file = None                       # If Block statement: Assign nama_diinput ke nama_file\n",
        "else:                                          # Awal Else Block: Jika penulisan nama file valid\n",
        "    ekstensi_file = nama_file.split(\".\")[-1]   # Else Block statement: Proses Separasi nama dan ekstensi_file\n",
        "\n",
        "# Pengecekan apakah file adalah file data atau bukan\n",
        "if ekstensi_file in ['csv', 'xls', 'xlsx', 'txt', 'json']:\n",
        "  pesan = f\"File '{nama_file}' adalah file data!\"\n",
        "elif ekstensi_file is None:\n",
        "  pesan = f\"Penulisan nama file '{nama_file}' tidak valid.\"\n",
        "else:\n",
        "  pesan = f\"File '{nama_file}' bukan file data!\"\n",
        "\n",
        "print(pesan)"
      ],
      "metadata": {
        "id": "MyN3MIpegFZ-"
      },
      "execution_count": null,
      "outputs": []
    },
    {
      "cell_type": "markdown",
      "source": [
        "Statement `if ... elif ... else` seperti diilustrasikan di atas memberikan keleluasan kepada programmer untuk mengekspresikan percabangan pemrosesan dengan alternatif conditional yang tidak terbatas. Meskipun demikian, penggunaan yang berlebihan biasanya akan meningkatkan kerumitan serta berpengaruh terhadap menurunnya *readability* script dari program. Oleh karena itu, penggunaan `if ... elif ... else` yang terlalu eksesif, jika memungkinkan, harus dihindari."
      ],
      "metadata": {
        "id": "Q-tc6_UXErxp"
      }
    },
    {
      "cell_type": "markdown",
      "source": [
        "### Conditional Operator (Python Ternary Operators)\n",
        "> Berbeda dengan ketiga *conditionals* yang telah dibahas sebelumnya, `Conditional Operator` bukanlah sebuah `control structure`, namun bertindak sebagai sebuah operator yang mendefinisikan `expression` mana yang harus digunakan oleh sebuah `statement`.\n",
        "\n",
        "`Conditional Operator` tergolong sebagai `one-liner` operator, dengan format penulisan paling sederhana seperti di bawah ini:\n",
        "```python\n",
        "<expr_1> if <conditional_expr> else <expr_2>\n",
        "```\n",
        "Urutan eksekusi operator di atas adalah seperti demikian: *interpreter* akan mengevaluasi `conditional_expr`, yang berada di tengah, terlebih dahulu, lalu mengeksekusi `expression` yang terkait dengan hasil evaluasi, dimana:\n",
        "  - Jika bernilai `True`, maka operator akan memberikan hasil `expr_1` untuk digunakan dalam `statement`;\n",
        "  - Jika bernilai `False`, maka operator akan memberikan hasil `expr_2` untuk digunakan dalam `statement`."
      ],
      "metadata": {
        "id": "AihsJ3u9c-Cx"
      }
    },
    {
      "cell_type": "markdown",
      "source": [
        "#### **Ilustrasi 4**: Ternary Operator\n",
        "Di bawah berikut, dapat diamati bagaimana sebuah `ternary operator` diterapkan untuk menjalankan proses yang sama dengan yang dilakukan pada **Ilustrasi 3** sebelumnya."
      ],
      "metadata": {
        "id": "fo5qVUcQ7jo0"
      }
    },
    {
      "cell_type": "code",
      "source": [
        "# Mintakan input berupa nama file beserta ekstensinya\n",
        "nama_file = input(\"Tuliskan nama file, lengkap dengan ekstensinya (contoh: 'nama_file.csv'): \")\n",
        "\n",
        "# Percabangan `if ... else` untuk memisahkan ekstensi dari nama_file\n",
        "if nama_file.count('.')!=1:                  # Awal Conditional Block: Cek penulisan nama file, apakah tidak valid\n",
        "    ekstensi_file  = None                    # Block statement: Assign nama_diinput ke nama_file\n",
        "else:                                        # Awal Else Block: Jika penulisan nama file valid\n",
        "    ekstensi_file = nama_file.split(\".\")[-1] # Block statement: Proses Separasi\n",
        "\n",
        "# Menggunakan Ternary Operator untuk melakukan pengecekan file data\n",
        "pengecekan = \"adalah file data!\" if (ekstensi_file in ['txt', 'xls', 'xlsx', 'json', 'csv']) else 'bukan file data' if (ekstensi_file is not None) else \"penulisan namanya tidak valid.\"\n",
        "\n",
        "# Tampilkan pesan ke layar\n",
        "print(f\"File '{nama_file}' {pengecekan}!\")"
      ],
      "metadata": {
        "id": "Uuqoc8EDeGXd"
      },
      "execution_count": null,
      "outputs": []
    },
    {
      "cell_type": "markdown",
      "source": [
        "## `Loops`\n",
        "Pada sebuah program, `Loop` dipergunakan untuk melakukan pengulangan proses terhadap sebuah `block statements` tertentu yang menjadi bagian dari program tersebut, sebelum proses dilanjutkan ke `statements` berikutnya. Pengulangan proses seperti yang dideskripsikan di atas, dalam bahasa pemrograman biasanya disebut dengan istilah `Iteration`.\n",
        "\n",
        "Pada bahasa pemrograman Python, terdapat dua macam `iterations` yang biasanya dilakukan, yaitu:\n",
        "1. `Definite Iteration`: pada iterasi jenis ini, jumlah iterasi yang akan dilakukan sudah ditentukan dari awal, sehingga secara otomatis proses iterasi akan berhenti ketika jumlah yang dilakukan sudah mencapai jumlah yang ditentukan tersebut; dan\n",
        "2. `Indefinite Iteration`: pada iterasi jenis ini, jumlah iterasi yang harus dilakukan tidak ditentukan, namun proses akan berhenti jika kondisi tertentu telah tercapai."
      ],
      "metadata": {
        "id": "nyOVq2eByGB8"
      }
    },
    {
      "cell_type": "markdown",
      "source": [
        "### `Definite Iteration`\n",
        "Pada bahasa pemrograman Python, `Definite Iteration` dapat dilakukan dengan menggunakan `statement` `for` loop. Di bawah berikut dapat diamati format standar penulisan dari `statement` `for` loop:\n",
        "```python\n",
        "for var in iterable:\n",
        "    # Block statement\n",
        "    <statement>\n",
        "    # end of block statement\n",
        "```\n",
        "> `iterable` adalah sebuah `collection`/`container` berisi objek, seperti `list`, `tuple`, `set`, `dictionary`, fungsi `range`, atau `iterator` objek.\n",
        "\n",
        "Perhatikan penulisan `<statement>` berindentasi di bawah `statement` `for`, yang menunjukkan bahwa berbagai `statements` tersebut merupakan sebuah `block statement` yang akan diiterasi untuk setiap `var` yang dimuat di dalam `iterable`."
      ],
      "metadata": {
        "id": "edsY4jlpyIm8"
      }
    },
    {
      "cell_type": "markdown",
      "source": [
        "#### **Ilustrasi 5**: Basic *use-case* of `for` loop"
      ],
      "metadata": {
        "id": "Tsk36Whi9Skr"
      }
    },
    {
      "cell_type": "code",
      "source": [
        "import time\n",
        "\n",
        "# Melakukan iterasi terhadap setiap elemen dari sebuah list\n",
        "for bunga in ['Mawar', 'Melati', 'Anggrek', 'Bank', 'Sakura']:\n",
        "    # Menampilkan setiap elemen ke layar menggunakan fungsi `print()`\n",
        "    print(bunga if bunga not in ['Bank'] else f\"-->> {bunga} <<--\")\n",
        "    time.sleep(0.5)"
      ],
      "metadata": {
        "id": "-yWcWZt-bppY"
      },
      "execution_count": null,
      "outputs": []
    },
    {
      "cell_type": "markdown",
      "source": [
        "#### **Ilustrasi 6**: `List` construction\n",
        "Pada ilustrasi ini, dicontohkan pemanfaatan `for loop block statements` untuk menghasilkan tiga `list` yang berbeda terhadap setiap elemen pada object `range()`."
      ],
      "metadata": {
        "id": "URXshs2V9f7S"
      }
    },
    {
      "cell_type": "code",
      "source": [
        "# Memisahkan angka 0-9 menjadi genap dan ganjil menggunakan for loop\n",
        "# Membuat tiga list kosong\n",
        "semua_angka, angka_genap, angka_ganjil = [], [], []\n",
        "# Melakukan iterasi bagi elemen pada sebuah object range()\n",
        "for number in range(0, 10, 1):\n",
        "    # tambahkan number ke list semua_angka\n",
        "    semua_angka.append(number)\n",
        "    # Cek apakah elemen genap\n",
        "    if (number % 2 == 0):\n",
        "        # tambahkan ke list angka_genap\n",
        "        angka_genap.append(number)\n",
        "    # Jika tidak genap\n",
        "    else:\n",
        "        # tambahkan ke list angka_ganjil\n",
        "        angka_ganjil.append(number)\n",
        "\n",
        "print(semua_angka)\n",
        "print(angka_ganjil)\n",
        "print(angka_genap)"
      ],
      "metadata": {
        "id": "RFliMs5fwf90"
      },
      "execution_count": null,
      "outputs": []
    },
    {
      "cell_type": "markdown",
      "source": [
        "#### List Comprehension\n",
        "> `List Comprehension` adalah salah satu metode yang dipergunakan untuk membuat atau mentransformasikan sebuah `list` dengan memanfaatkan `for` loop.\n",
        "\n",
        "Dengan memanfaatkan `list comprehension`, pembuatan `list` seperti pada ilustrasi sebelumnya di atas dapat dilakukan dengan cara yang jauh lebih *elegan* dan ringkas. Berikut ini adalah format dari penulisan sebuah perintah `one-liner`, `list comprehension` standar:\n",
        "```python\n",
        "nama_list = [<expression> for <var> in <iterable> if <conditional_expr>]\n",
        "```"
      ],
      "metadata": {
        "id": "wsdm0KxIxvpu"
      }
    },
    {
      "cell_type": "markdown",
      "source": [
        "#### **Ilustrasi 7**: *Use-case* `list comprehension`\n",
        "Di bawah ini dapat diamati penggunaan `list comprehension` untuk melakukan `list` construction yang serupa dengan yang dilakukan pada **Ilustrasi 6** sebelumnya."
      ],
      "metadata": {
        "id": "W9eRfSO5-JYF"
      }
    },
    {
      "cell_type": "code",
      "source": [
        "# Membuat list dari range(0, 10, 1)\n",
        "semua_angka_comp = [num for num in range(0, 10, 1)]\n",
        "# Pisahkan angka genap dari range(0, 10, 1)\n",
        "angka_genap_comp = [nomor for nomor in range(0, 10, 1) if (nomor % 2 == 0)]\n",
        "# Pisahkan angka ganjil dari range(0, 10, 1)\n",
        "angka_ganjil_comp = [angka for angka in range(0, 10, 1) if (angka % 2 != 0)]\n",
        "\n",
        "print(semua_angka_comp)\n",
        "print(angka_ganjil_comp)\n",
        "print(angka_genap_comp)"
      ],
      "metadata": {
        "id": "VnC_4X1Cx_Pj"
      },
      "execution_count": null,
      "outputs": []
    },
    {
      "cell_type": "markdown",
      "source": [
        "**CHALLENGE** -- Lakukan pembuatan list untuk angka genap dan ganjil, dengan `list comprehension` tanpa menggunakan conditional."
      ],
      "metadata": {
        "id": "iScx_wd4HD9M"
      }
    },
    {
      "cell_type": "code",
      "source": [
        "angka_ganjil_noif = [angka for angka in range(1, 10, 2)]\n",
        "angka_genap_noif = [numero for numero in range(0, 10, 2)]\n",
        "\n",
        "print(angka_ganjil_noif)\n",
        "print(angka_genap_noif)"
      ],
      "metadata": {
        "id": "H_MSamkSHbXw"
      },
      "execution_count": null,
      "outputs": []
    },
    {
      "cell_type": "markdown",
      "source": [
        "### `Indefinite Iteration`\n",
        "Untuk melakukan `indefinite iteration`, Python menyediakan `statement` `while` loop. Di bawah berikut dapat dicermati format standar penulisan `while` loop.\n",
        "```python\n",
        "while <conditional_expression>:\n",
        "    # block statement\n",
        "    <block statement>\n",
        "    # End of block statement\n",
        "```\n",
        "Berbagai `statements` pada `while block` seperti di atas, akan terus diiterasi selama `conditional_expr` yang dinyatakan pada awal `while block` terpenuhi."
      ],
      "metadata": {
        "id": "1fE8u0DxyYyF"
      }
    },
    {
      "cell_type": "markdown",
      "source": [
        "#### **Ilustrasi 8**: Basic *use-case* `while` loop\n",
        "Pada ilustrasi ini, `while` loop dipergunakan untuk membuat sebuah program yang melakukan *countdown* mulai dari nilai angka tertentu yang di set berdasarkan `users' input`."
      ],
      "metadata": {
        "id": "pqZ5VRUf-t5K"
      }
    },
    {
      "cell_type": "code",
      "source": [
        "# Minta user menginput nilai untuk angka_awal\n",
        "angka_awal = int(input(\"Hitung mundur dari angka berapa? \"))\n",
        "\n",
        "while angka_awal >= 0:\n",
        "  print(angka_awal)\n",
        "  angka_awal -= 1 # angka_awal dikurangi 1\n",
        "  time.sleep(0.5)"
      ],
      "metadata": {
        "id": "nYpg_jeGySF_"
      },
      "execution_count": null,
      "outputs": []
    },
    {
      "cell_type": "markdown",
      "source": [
        "### Altering `loop` behaviour\n",
        "Proses iterasi pada berbagai loop seperti dijelaskan sebelumnya, dapat diinterupsi dengan memanfaatkan beberapa `statements` berikut:\n",
        "1. `break`, dipergunakan untuk menghentikan proses iterasi dan keluar dari `block statements`;\n",
        "2. `continue`, dipergunakan untuk melangkahi iterasi yang sedang berlangsung, dan lanjut ke iterasi berikutnya;\n",
        "3. `pass`, dipergunakan untuk menandai bahwa `block statements` bagi loop belum selesai dibuat, `statement` ini memberikan isyarat agar loop tidak mengerjakan apapun."
      ],
      "metadata": {
        "id": "Py8DuCjkQ8qN"
      }
    },
    {
      "cell_type": "markdown",
      "source": [
        "#### **Ilustrasi 9**: *Use-case* `break`"
      ],
      "metadata": {
        "id": "6BNolIwzCIxx"
      }
    },
    {
      "cell_type": "code",
      "source": [
        "# Menghentikan iterasi pada loop ketika i bernilai 6\n",
        "for i in range(100):\n",
        "  print(i)\n",
        "  if i == 6:\n",
        "    break\n",
        "  time.sleep(0.5)"
      ],
      "metadata": {
        "id": "F3o3RRAjQp7N"
      },
      "execution_count": null,
      "outputs": []
    },
    {
      "cell_type": "code",
      "source": [
        "# Validasi inputan user\n",
        "while True:\n",
        "  pilihan = input(\"\\rApakah proses akan dilanjutkan? (y/n): \")\n",
        "  if pilihan in ['y', 'n']:\n",
        "    break\n",
        "  print(\"\\rPilihan tidak valid, silahkan diulang!\", end=\"\")"
      ],
      "metadata": {
        "id": "EhtneW_aefX0"
      },
      "execution_count": null,
      "outputs": []
    },
    {
      "cell_type": "markdown",
      "source": [
        "#### **Ilustrasi 10**: *Use-case* `continue`"
      ],
      "metadata": {
        "id": "Ki5glzgmCRER"
      }
    },
    {
      "cell_type": "code",
      "source": [
        "# Ketika i bernilai ganjil, iterasi dilangkahi lalu lanjut ke iterasi selanjutnya\n",
        "for i in range(10):\n",
        "  if (i % 2 != 0):\n",
        "    continue\n",
        "  print(i)\n",
        "  time.sleep(0.5)"
      ],
      "metadata": {
        "id": "TjBCcQS6RUZe"
      },
      "execution_count": null,
      "outputs": []
    },
    {
      "cell_type": "markdown",
      "source": [
        "#### **Ilustrasi 11**: *Use-case* `pass`"
      ],
      "metadata": {
        "id": "Sv0DgDXiCa9b"
      }
    },
    {
      "cell_type": "code",
      "source": [
        "# Menandai bahwa `block statements` belum ditentukan\n",
        "for i in range(10):\n",
        "  pass"
      ],
      "metadata": {
        "id": "2ebQ-_stRcMp"
      },
      "execution_count": null,
      "outputs": []
    },
    {
      "cell_type": "markdown",
      "source": [
        "### EXERCISE 1\n",
        "Lakukan inventarisir **file-file berisi data** yang ada di folder 'sample_data'. Untuk itu tuliskan code bagi beberapa *statements* di bawah berikut:\n",
        "1. import method `glob` dari modul `glob`;\n",
        "2. import modul os\n",
        "3. minta user input untuk nama folder yang akan diinventarisir, lalu assign inputannya ke variabel `folder`;\n",
        "4. assign text `\"*\"` ke variabel `file_name_pattern`;\n",
        "5. gabungkan `folder` dan `file_name_pattern` menjadi sebuah variabel `file_path` menggunakan method `os.path.join`;\n",
        "6. gunakan method `glob`, masukkan `file_path` sebagai argument, assign hasilnya ke variabel `list_file`;\n",
        "7. buat sebuah list kosong, assign ke variabel bernama `daftar_file_data`;\n",
        "8. lakukan iterasi berikut terhadap setiap `file` yang ada pada `list_file`:\n",
        "    - gunakan method `split()` terhadap `file` dengan `\".\"` sebagai separator, ambil item paling akhir, lalu assign ke variabel `ekstensi_file`;\n",
        "    - Gunakan operator `in` untuk melakukan pengecekan apakah `ekstensi_file` ada di list `['xls', 'xlsx', 'txt', 'csv', 'json']`;\n",
        "    - Jika hasil pengecekan adalah `True`, maka:\n",
        "        - gunakan method `split()` terhadap file dengan `\"/\"` sebagai separator, ambil hanya elemen terakhir, lalu `append` hasilnya ke `daftar_file_data`;\n",
        "9. Buat sebuah dictionary dengan key = `folder` dan value = `daftar_file_data`, assign ke variabel `dict_file_data`."
      ],
      "metadata": {
        "id": "dM60kCPrbYNr"
      }
    },
    {
      "cell_type": "code",
      "source": [
        "glob(\"sample_data/*\")"
      ],
      "metadata": {
        "id": "gV8dnmZfX0Pj"
      },
      "execution_count": null,
      "outputs": []
    },
    {
      "cell_type": "code",
      "source": [
        "# GANTILAH SETIAP KARAKTER '_____' PADA STATEMENTS DI BAWAH BERIKUT\n",
        "# DENGAN EKSPRESI YANG SEHARUSNYA, LALU RUN CELL INI.\n",
        "# Import method glob dari modul glob\n",
        "from glob import glob\n",
        "# Import modul os\n",
        "import os\n",
        "\n",
        "\n",
        "# Minta input berupa nama folder\n",
        "folder = input(\"Tuliskan folder tempat file: \")\n",
        "\n",
        "# Buat text pattern file\n",
        "file_name_pattern = \"*\"\n",
        "\n",
        "# Gabungkan nama folder dan pattern file, assign sebagai file_path\n",
        "file_path = os.path.join(folder, file_name_pattern)\n",
        "\n",
        "# masukkan file_path ke fungsi glob, lalu assign hasilnya ke 'list_file'\n",
        "list_file = glob(file_path)\n",
        "\n",
        "# Buat list kosong\n",
        "daftar_file_data = list()\n",
        "\n",
        "# iterasi file yang tercatat pada 'list_file'\n",
        "for nama_file in list_file:\n",
        "    # Pisahkan ekstensi_file dari nama_file\n",
        "    ekstensi_file = nama_file.split(\".\")[-1]\n",
        "    # Cek ekstensi_file apakah merupakan ekstensi untuk file data\n",
        "    if ekstensi_file in ['xls', 'xlsx', 'txt', 'csv', 'json']:\n",
        "        # Jike hasil pengecekan adalah True\n",
        "        daftar_file_data.append(nama_file.split(\"/\")[-1])\n",
        "\n",
        "# Buat dictionary dengan key = folder dan value = daftar_file_data\n",
        "folder_data = {\n",
        "    folder: daftar_file_data\n",
        "}\n",
        "\n",
        "folder_data"
      ],
      "metadata": {
        "id": "GcuQOz_MrCRd"
      },
      "execution_count": null,
      "outputs": []
    },
    {
      "cell_type": "markdown",
      "source": [
        "## `Function` calls\n",
        "> Dalam bahasa pemrograman, sebuah fungsi adalah sebuah `block statements` yang terpisah dan dikembangkan, idealnya, untuk mengerjakan sebuah tugas spesifik tertentu.\n",
        "\n",
        "Dalam bahasa pemrograman Python, terdapat dua macam fungsi, yaitu fungsi-fungsi `built-in` dan `user-defined`. Sebagai ilustrasi, berbagai fungsi pada `common sequence operators`--seperti `len()`, `max()`, `min()` yang diperkenalkan pada sesi ke-8 sebelumnya--adalah beberapa contoh dari fungsi `built-in` yang disediakan oleh python.\n",
        "\n",
        "Umumnya, setiap bahasa pemrograman yang berkembang memberikan kebebasan kepada penggunanya untuk mengembangkan fungsi yang memenuhi kebutuhan pemrosesan bagi program yang dikembangkannya. Fungsi `user-defined` memberikan keuntungan bagi proses pengembangan program, utamanya dari segi *reusability* dan *modularity* fungsi yang dikembangkan.\n",
        "\n",
        "Pada sesi ke-9 ini, kita akan mempelajari tata cara pembuatan, dan penggunaan fungsi `user-defined`. Di bawah berikut adalah format dasar bagi pendefinisian sebuah fungsi pada Python.\n",
        "```python\n",
        "def function_name([<parameters>]):\n",
        "    # Function block statement\n",
        "    <block statement>\n",
        "    \n",
        "    return <output(s)>\n",
        "```\n",
        "Dari format di atas, terdapat beberapa komponen penting sebagai berikut:\n",
        "1. `def` : sebuah *keyword* penting yang memberitahukan kepada Python bahwa sebuah fungsi sedang didefinisikan;\n",
        "2. `function_name` : Sebuah *identifier* unik yang memberi identitas nama bagi fungsi yang didefinisikan, sebagai nama panggil;\n",
        "3. `<parameters>` : Opsional, list parameter yang dipisahkan oleh koma, yang akan dipergunakan oleh fungsi sebagai input;\n",
        "4. `:` : Penanda awal dari sebuah `function block`;\n",
        "5. `<block statement>` : Berbagai ekspressi yang dituliskan dengan indentasi yang tepat, dalam bahasa pemrograman Python yang akan diproses ketika fungsi dipanggil;\n",
        "6. `return`: sebuah `statement` yang dituliskan di akhir sebuah `block statement` sebagai:\n",
        "  - Penanda bagi Python bahwa `function block` sudah selesai diproses; dan\n",
        "  - Perintah untuk mengeluarkan hasil pemrosesan ke *environment*.\n",
        "\n",
        "Hal yang perlu diperhatikan dalam pembuatan `user-defined` function:\n",
        "1. Biasakan membuat fungsi yang hanya mengerjakan satu tugas tertentu saja;\n",
        "2. Berikan `<function_name>` yang secara ringkas mendeskripsikan tugas apa yang dilakukan oleh fungsi tersebut;\n",
        "3. Berikan nama `<parameters>` yang deskriptif, memudahkan untuk menebak argument macam apa yang harus disisipkan;\n",
        "4. Dokumentasikan fungsi:\n",
        "   - Tipe data untuk masing-masing `<parameter>`;\n",
        "   - Tipe data dari Output yang dihasilkan;\n",
        "   - Dokumentasikan tujuan dan informasi lainnya di bawah `block` header;\n",
        "   - Gunakan `comment` untuk menjelaskan berbagai `<statements>`.\n",
        "\n",
        "Adapun syntax yang dipergunakan untuk memanggil fungsi yang sudah dibuat, adalah sebagai berikut:\n",
        "```python\n",
        "function_name(parameters=arguments)\n",
        "```\n",
        "\n"
      ],
      "metadata": {
        "id": "9rzPbPwhqJjn"
      }
    },
    {
      "cell_type": "markdown",
      "source": [
        "#### Outcome of `function calls`\n",
        "Terdapat dua kondisi akhir yang mungkin terjadi ketika sebuah fungsi dipanggil, yaitu: **normal** atau **abnormal**.\n",
        "\n",
        "1. Sebuah fungsi berakhir secara normal ketika terdapat kesesuaian antara tipe berbagai `parameter` yang diinput dengan persyaratan pemrosesan, sehingga pemrosesan menghasilkan output.\n",
        "2. Sebuah fungsi berakhir secara abnormal ketika terjadi ketidaksesuaian tipe `parameter` yang diinput dengan persyaratan pemrosesan, sehingga proses terhenti dan gagal menghasilkan output.\n",
        "\n",
        "Perhatikan contoh *script* di bawah berikut:\n",
        "```python\n",
        "# Konstruksi fungsi\n",
        "def pembagian_angka(dibagi, pembagi):\n",
        "  hasil = dibagi / pembagi\n",
        "\n",
        "  return hasil\n",
        "\n",
        "# Pemanggilan fungsi\n",
        "# Proses angka 4 dibagi 2\n",
        "bagi_angka_1 = pembagian_angka(4, 2)\n",
        "print(bagi_angka_1)                      # Output: 2\n",
        "\n",
        "# Proses angka 4 dibagi 0\n",
        "bagi_angka_2 = pembagian_angka(4, 0) # Output: ZeroDivisionError: division by zero\n",
        "print(bagi_angka_2)\n",
        "```\n",
        "Dari script di atas, dapat kita lihat bahwa `Proses angka 4 dibagi 2` berakhir secara normal, sedangkan `Proses angka 4 dibagi 0` berakhir secara abnormal.\n",
        "\n",
        "Ketika proses berakhir secara abnormal, secara *default* python akan memuntahkan pesan kesalahan seperti yang dicontohkan. Meskipun demikian, pesan kesalahan *default* tersebut biasanya masih kurang bisa dimengerti oleh *users*. Sebaiknya sebuah fungsi disertai dengan proses validasi kesesuaian `argument` dengan persyaratan pemrosesan seperti dicontohkan di bawah berikut.\n",
        "```python\n",
        "# Konstruksi fungsi\n",
        "def pembagian_angka_val(dibagi, pembagi):\n",
        "  # validasi\n",
        "  if pembagi == 0:\n",
        "    raise ValueError('Parameter \"pembagi\" tidak boleh berisi angka 0')\n",
        "  # Pemrosesan\n",
        "  hasil = dibagi / pembagi\n",
        "\n",
        "  return hasil\n",
        "\n",
        "# Pemanggilan fungsi\n",
        "# Proses angka 4 dibagi 2\n",
        "bagi_angka_1 = pembagian_angka_val(4, 2)\n",
        "print(bagi_angka_1)                      # Output: 2\n",
        "\n",
        "# Proses angka 4 dibagi 0\n",
        "bagi_angka_2 = pembagian_angka_val(4, 0) # Output: ValueError: Parameter \"Pembagi\" tidak boleh berisi angka 0\n",
        "print(bagi_angka_2)\n",
        "```\n",
        "Script di atas menunjukkan bahwa meskipun `proses validasi` yang diterapkan pada fungsi `pembagian_angka_val` tetap menghasilkan *outcome* abnormal pada `Proses 4 dibagi 0`, akan tetapi peringatan kesalahan yang muncul jauh lebih dapat dimengerti oleh *users*.\n",
        "\n",
        "> `raise` statement adalah alarm di dalam fungsi — jika terdapat sesuatu yang tidak beres, fungsi akan membunyikan alarm, dan proses berhenti."
      ],
      "metadata": {
        "id": "EKPhD51U0eF6"
      }
    },
    {
      "cell_type": "markdown",
      "source": [
        "#### **Ilustrasi 12**: `Function` Construction\n",
        "\n",
        "Amati tiga *user-defined* functions di bawah berikut:\n",
        "\n",
        "---\n",
        "```python\n",
        "def validasi_file_data(nama_file):\n",
        "  return nama_file.count('.')==1 and nama_file.split('.')[-1] in ['txt', 'csv', 'xls', 'xlsx', 'json']\n",
        "```\n",
        "```python\n",
        "def validasi_file_ada(file_path: str) -> bool:\n",
        "  return os.path.exists(file_path)\n",
        "```\n",
        "```python\n",
        "def parsing_file_data(nama_folder: str, nama_file: str) -> pd.DataFrame | None:\n",
        "    \"\"\"\n",
        "    Fungsi untuk melakukan parsing data dari beberapa jenis file data\n",
        "\n",
        "    ARGUMENTS:\n",
        "    1. nama_folder: str, nama folder dimana file data disimpan;\n",
        "    2. nama_file  : str, nama file yang akan diparsing, nama file\n",
        "                 harus ditulis lengkap dengan ekstensinya.\n",
        "    OUTPUT:\n",
        "    Object berupa pandas.dataframe atau None\n",
        "    \"\"\"\n",
        "    # Validasi filename : apakah penulisan file benar dan merupakan file data?\n",
        "    if validasi_file_data(nama_file) is False:\n",
        "      raise ValueError(f\"'{nama_file}': penulisan nama tidak valid / bukan file Data.\")\n",
        "\n",
        "    # Membuat file_path, berdasarkan info dari argument pada fungsi\n",
        "    file_path = os.path.join(nama_folder, nama_file)\n",
        "\n",
        "    # Validasi file_path : apakah file dimaksud ada?\n",
        "    if validasi_file_ada(file_path) is False:\n",
        "      raise FileNotFoundError(f\"File '{file_path}' tidak ditemukan.\")\n",
        "\n",
        "    # Mengambil info ekstensi file\n",
        "    ekstensi = nama_file.split('.')[-1]\n",
        "\n",
        "    # Proses Parsing, menggunakan metode yang disesuaikan dengan ekstensi file\n",
        "    if ekstensi in ['csv', 'txt']:      # Jika ekstensi `csv` atau `txt`\n",
        "        df = pd.read_csv(file_path)\n",
        "    elif ekstensi == 'json':            # Jika ekstensi `json`\n",
        "        df = pd.read_json(file_path)\n",
        "    elif ekstensi in ['xls', 'xlsx']:   # Jika ekstensi `xls` atau `xlsx`\n",
        "        df = pd.read_excel(file_path)\n",
        "\n",
        "    return df\n",
        "```\n",
        "---\n",
        "\n",
        "Untuk dapat menjalankan formulir pada ilustrasi ini, silahkan unduh file [functions.py](https://drive.google.com/file/d/1dXMuGyplSRowrLZ-_tvowhavE7rJ3Xw_/view?usp=sharing), lalu unggah file tersebut ke *working directory*.\n",
        "\n",
        "---"
      ],
      "metadata": {
        "id": "r8uL6oMBEsG1"
      }
    },
    {
      "cell_type": "code",
      "source": [
        "# @title ##### Pilihlah pernyataan yang tepat untuk masing-masing fungsi:\n",
        "# Loading modules\n",
        "from functions import check_answers, layouts, parsing_file_data, validasi_file_ada, validasi_file_data, PART_4\n",
        "from ipywidgets import widgets\n",
        "from IPython.display import display, Markdown\n",
        "\n",
        "correct_answers_1 = PART_4['Q1']\n",
        "correct_answers_2 = PART_4['Q2']\n",
        "correct_answers_3 = PART_4['Q3']\n",
        "\n",
        "# Question 1\n",
        "display(Markdown(\"---\\n##### 1. validasi_file_data:\"))\n",
        "# 1. Options for Question 1\n",
        "option_a_1 = widgets.Checkbox(value=False, description=\"Output dari fungsi ini adalah object bertipe `integer`.\", layout=layouts)\n",
        "option_b_1 = widgets.Checkbox(value=False, description=\"Input dari fungsi ini adalah variabel `jenis_file`\", layout=layouts)\n",
        "option_c_1 = widgets.Checkbox(value=False, description=\"Fungsi ini tidak berisikan operasi apapun.\", layout=layouts)\n",
        "option_d_1 = widgets.Checkbox(value=False, description=\"Output dari fungsi ini dihasilkan dari sebuah `ternary operation`.\", layout=layouts)\n",
        "\n",
        "options_1 = (option_a_1, option_b_1, option_c_1, option_d_1)\n",
        "# 2. Result of Question 1\n",
        "result_1 = widgets.Textarea(value=\"Check pilihan, lalu tekan tombol 'Cek Jawaban'\", placeholder='Feedback', description='', disabled=True)\n",
        "# 3. Button to check answers for Question 1\n",
        "check_button_1 = widgets.Button(description=\"Cek Jawaban\")\n",
        "check_button_1.on_click(lambda event: check_answers(correct_answers_1, options_1, result_1))\n",
        "# 4. Display the interactive form for Question 1\n",
        "display(option_a_1, option_b_1, option_c_1, option_d_1, check_button_1, result_1)\n",
        "\n",
        "# Question 2\n",
        "display(Markdown(\"---\\n##### 2. validasi_file_ada:\"))\n",
        "# 1. Options for Question 2\n",
        "option_a_2 = widgets.Checkbox(value=False, description=\"Output dari fungsi ini adalah object bertipe `integer`.\", layout=layouts)\n",
        "option_b_2 = widgets.Checkbox(value=False, description=\"Input dari fungsi ini adalah variabel `jenis_file`\", layout=layouts)\n",
        "option_c_2 = widgets.Checkbox(value=False, description=\"Fungsi ini tidak berisikan operasi apapun.\", layout=layouts)\n",
        "option_d_2 = widgets.Checkbox(value=False, description=\"Output dari fungsi ini dihasilkan dari sebuah `method operation`.\", layout=layouts)\n",
        "\n",
        "options_2 = (option_a_2, option_b_2, option_c_2, option_d_2)\n",
        "# 2. Result of Question 2\n",
        "result_2 = widgets.Textarea(value=\"Check pilihan, lalu tekan tombol 'Cek Jawaban'\", placeholder='Feedback', description='', disabled=True)\n",
        "# 3. Button to check answers for Question 1\n",
        "check_button_2 = widgets.Button(description=\"Cek Jawaban\")\n",
        "check_button_2.on_click(lambda event: check_answers(correct_answers_2, options_2, result_2))\n",
        "# 4. Display the interactive form for Question 1\n",
        "display(option_a_2, option_b_2, option_c_2, option_d_2, check_button_2, result_2)\n",
        "\n",
        "# Question 3\n",
        "display(Markdown(\"---\\n##### 3. parsing_file_data:\"))\n",
        "# 1. Options for Question 3\n",
        "option_a_3 = widgets.Checkbox(value=False, description=\"Output dari fungsi ini adalah object bertipe `integer`.\", layout=layouts)\n",
        "option_b_3 = widgets.Checkbox(value=False, description=\"Input dari fungsi ini adalah variabel `file_path` dan `nama_file`\", layout=layouts)\n",
        "option_c_3 = widgets.Checkbox(value=False, description=\"Fungsi ini melakukan satu kali validasi.\", layout=layouts)\n",
        "option_d_3 = widgets.Checkbox(value=False, description=\"Output dari fungsi dapat berupa object `pd.DataFrame` atau None.\", layout=layouts)\n",
        "\n",
        "options_3 = (option_a_3, option_b_3, option_c_3, option_d_3)\n",
        "# 2. Result of Question 3\n",
        "result_3 = widgets.Textarea(value=\"Check pilihan, lalu tekan tombol 'Cek Jawaban'\", placeholder='Feedback', description='', disabled=True)\n",
        "# 3. Button to check answers for Question 3\n",
        "check_button_3 = widgets.Button(description=\"Cek Jawaban\")\n",
        "check_button_3.on_click(lambda event: check_answers(correct_answers_3, options_3, result_3))\n",
        "# 4. Display the interactive form for Question 1\n",
        "display(option_a_3, option_b_3, option_c_3, option_d_3, check_button_3, result_3)\n"
      ],
      "metadata": {
        "cellView": "form",
        "id": "lDluno4jNtY2"
      },
      "execution_count": null,
      "outputs": []
    },
    {
      "cell_type": "markdown",
      "source": [
        "#### **Ilustrasi 13**: `Function` Call"
      ],
      "metadata": {
        "id": "vciZpfdqFaBR"
      }
    },
    {
      "cell_type": "code",
      "source": [
        "# Panggil `parsing_file_data` untuk membuka `README.md`\n",
        "parsing_file_data('sample_data', 'README.md')"
      ],
      "metadata": {
        "id": "IdXS7nrK5xnr"
      },
      "execution_count": null,
      "outputs": []
    },
    {
      "cell_type": "code",
      "source": [
        "# Panggil `parsing_file_data` untuk membuka `rikrik_rahadian.csv`\n",
        "parsing_file_data('sample_data', 'rikrik_rahadian.csv')"
      ],
      "metadata": {
        "id": "4fxQThVuRzjy"
      },
      "execution_count": null,
      "outputs": []
    },
    {
      "cell_type": "code",
      "source": [
        "# Melakukan parsing data dari `anscombe.json`\n",
        "df_json = parsing_file_data('sample_data', 'anscombe.json')\n",
        "df_json.head()"
      ],
      "metadata": {
        "id": "oJG5lQpnmGrq"
      },
      "execution_count": null,
      "outputs": []
    },
    {
      "cell_type": "code",
      "source": [
        "# Melakukan parsing data dari `california_housing_test.csv`\n",
        "df_csv = parsing_file_data('sample_data', 'california_housing_test.csv')\n",
        "df_csv.head()"
      ],
      "metadata": {
        "id": "x8V6-PWbqOhT"
      },
      "execution_count": null,
      "outputs": []
    },
    {
      "cell_type": "markdown",
      "source": [
        "### EXERCISE 2\n",
        "Pada exercise kali ini, kita akan coba untuk melakukan `parsing` seluruh data yang tersimpan pada setiap file pada folder `sample_data`, lalu menyimpannya ke sebuah `dictionary` yang berisi pasangan `key` berupa `nama_file` dan `value` berupa `DataFrame` berisi data hasil `parsing` dari file terkait.\n",
        "\n",
        "Untuk melakukan exercise ini, maka kita akan menggunakan beberapa objek berikut:\n",
        "1. List `folder_data` yang telah kita hasilkan dari **EXERCISE 1** di bagian terdahulu;\n",
        "2. fungsi `parsing_file_data` yang telah kita buat pada **Ilustrasi 12** sebelumnya."
      ],
      "metadata": {
        "id": "r3Y2LxIhru4X"
      }
    },
    {
      "cell_type": "code",
      "source": [
        "folder_data"
      ],
      "metadata": {
        "id": "fVfP9wHXjXYN"
      },
      "execution_count": null,
      "outputs": []
    },
    {
      "cell_type": "code",
      "source": [
        "# Buat list `isi_folder_data` dari seluruh `keys` yang ada pada `folder_data`\n",
        "isi_folder_data = list(folder_data.keys())\n",
        "# Tampilkan isi list dari memory\n",
        "isi_folder_data"
      ],
      "metadata": {
        "id": "Uq_Eyind6W0J"
      },
      "execution_count": null,
      "outputs": []
    },
    {
      "cell_type": "code",
      "source": [
        "# Buat sebuah dictionary kosong untuk placeholder\n",
        "dictionary_for_data = {}\n",
        "\n",
        "# Buat nested loop untuk membaca setiap key pada dictionary folder_data\n",
        "# Buat loop untuk mengiterasi `isi_folder_data`\n",
        "for folder in isi_folder_data:\n",
        "    # Buat loop untuk mengiterasi proses parsing data pada setiap file yang terdaftar pada `folder_data[folder]`\n",
        "    for nama_file in folder_data[folder]:\n",
        "        dictionary_for_data[nama_file]=parsing_file_data(folder, nama_file)"
      ],
      "metadata": {
        "id": "gvhjqUKfQQ9m"
      },
      "execution_count": null,
      "outputs": []
    },
    {
      "cell_type": "code",
      "source": [
        "# Tampilkan isi dari dictionary dari memory\n",
        "dictionary_for_data"
      ],
      "metadata": {
        "id": "G6QGHS6kQuhT"
      },
      "execution_count": null,
      "outputs": []
    },
    {
      "cell_type": "code",
      "source": [
        "# Tampilkan key apa saja yang ada di dalam ditionary tersebut dari memory\n",
        "dictionary_for_data.keys()"
      ],
      "metadata": {
        "id": "y3pYWseP7fe3"
      },
      "execution_count": null,
      "outputs": []
    },
    {
      "cell_type": "code",
      "source": [
        "# Tampilkan lima rows paling atas dari salah satu `DataFrame` yang tersimpan dalam dictionary tersebut\n",
        "dictionary_for_data['anscombe.json'].head()"
      ],
      "metadata": {
        "id": "u1jy_BhOVKhE"
      },
      "execution_count": null,
      "outputs": []
    },
    {
      "cell_type": "markdown",
      "source": [
        "---"
      ],
      "metadata": {
        "id": "z9IJwQMV7qF_"
      }
    }
  ]
}