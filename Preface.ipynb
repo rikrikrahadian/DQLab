{
  "nbformat": 4,
  "nbformat_minor": 0,
  "metadata": {
    "colab": {
      "provenance": [],
      "authorship_tag": "ABX9TyMWTi2JsFoJh4+tv907xM2m",
      "include_colab_link": true
    },
    "kernelspec": {
      "name": "python3",
      "display_name": "Python 3"
    },
    "language_info": {
      "name": "python"
    }
  },
  "cells": [
    {
      "cell_type": "markdown",
      "metadata": {
        "id": "view-in-github",
        "colab_type": "text"
      },
      "source": [
        "<a href=\"https://colab.research.google.com/github/rikrikrahadian/DQLab/blob/main/Preface.ipynb\" target=\"_parent\"><img src=\"https://colab.research.google.com/assets/colab-badge.svg\" alt=\"Open In Colab\"/></a>"
      ]
    },
    {
      "cell_type": "markdown",
      "source": [
        "# 🚀 Bootcamp: Python for Data Analysis\n",
        "Selamat datang di **Bootcamp**!\n",
        "\n",
        "Notebook ini adalah panduan utama untuk mengakses seluruh materi dari setiap sesi pertemuan.\n",
        "\n",
        "## 📚 Daftar Materi:\n",
        "### 📘 Sesi 1: Pengenalan Python dan Google Colab [![Open in Colab](https://colab.research.google.com/assets/colab-badge.svg)](https://colab.research.google.com/github/rikrikrahadian/DQLab/blob/main/Part_1_Pengenalan_Python_dan_Google_Colab.ipynb)\n",
        "### 📘 Sesi 2: Variable, Tipe Data, dan Operator [![Open in Colab](https://colab.research.google.com/assets/colab-badge.svg)](https://colab.research.google.com/github/rikrikrahadian/DQLab/blob/main/Part_2_Variable%2C_Tipe_Data%2C_dan_Operator.ipynb)\n",
        "### 📘 Sesi 3: Structured Data: `List`, `Tuple`, `Dictionary`, dan `Set` [![Open in Colab](https://colab.research.google.com/assets/colab-badge.svg)](https://colab.research.google.com/github/rikrikrahadian/DQLab/blob/main/Part_3_Struktur_Data_(List%2C_Tuple%2C_Dictionary%2C_Set).ipynb)\n",
        "### 📘 Sesi 4: Control Structures: `Conditional Statements`, `Loops`, dan `Functions Calls` [![Open in Colab](https://colab.research.google.com/assets/colab-badge.svg)](https://colab.research.google.com/github/rikrikrahadian/DQLab/blob/main/Part_4_IF_Logic%2C_Function%2C_dan_Loop.ipynb)\n",
        "### 📘 Sesi 5: Data Manipulation in Python: `pandas` [![Open in Colab](https://colab.research.google.com/assets/colab-badge.svg)](https://colab.research.google.com/github/rikrikrahadian/DQLab/blob/main/Part_5_pandas_dan_Manipulasi_Data.ipynb)\n",
        "### 📘 Sesi 6: Data Handling in Python: `pandas` [![Open in Colab](https://colab.research.google.com/assets/colab-badge.svg)](https://colab.research.google.com/github/rikrikrahadian/DQLab/blob/main/Part_6_Data_Handling.ipynb)\n",
        "### 📘 Sesi 7: EDA dengan Visualisasi Data [![Open in Colab](https://colab.research.google.com/assets/colab-badge.svg)](https://colab.research.google.com/github/rikrikrahadian/DQLab/blob/main/Part_7_EDA_dengan_Visualisasi_Data.ipynb)\n",
        "\n",
        "---\n",
        "### 📌 Petunjuk\n",
        "1. Klik tombol ![Open in Colab](https://colab.research.google.com/assets/colab-badge.svg) untuk mulai belajar.\n",
        "2. Pastikan Anda sudah login ke akun Google.\n",
        "3. Jangan lupa menyimpan salinan sebelum mengedit."
      ],
      "metadata": {
        "id": "snz5rOW7m_Dv"
      }
    }
  ]
}