{
  "nbformat": 4,
  "nbformat_minor": 0,
  "metadata": {
    "colab": {
      "provenance": [],
      "collapsed_sections": [
        "MyP9asrvyQEB"
      ],
      "include_colab_link": true
    },
    "kernelspec": {
      "name": "python3",
      "display_name": "Python 3"
    },
    "language_info": {
      "name": "python"
    }
  },
  "cells": [
    {
      "cell_type": "markdown",
      "metadata": {
        "id": "view-in-github",
        "colab_type": "text"
      },
      "source": [
        "<a href=\"https://colab.research.google.com/github/rikrikrahadian/DQLab/blob/main/Part_2_Variable%2C_Tipe_Data%2C_dan_Operator.ipynb\" target=\"_parent\"><img src=\"https://colab.research.google.com/assets/colab-badge.svg\" alt=\"Open In Colab\"/></a>"
      ]
    },
    {
      "cell_type": "markdown",
      "source": [
        "# VARIABLE DALAM PEMROGRAMAN PYTHON\n",
        "> \"To be is to be the value of a variable\" - [*Willard Van Orman Quine*](https://en.wikipedia.org/wiki/Willard_Van_Orman_Quine)\n",
        "\n",
        "Dalam Python, **variabel** dapat diilustrasikan sebagai wadah yang menyimpan sebuah nilai. Dapat digunakan sebagai label untuk data yang disimpan dalam memori komputer, sehingga memungkinkan programmer untuk menyimpan, mengambil, dan memanipulasi data dalam program yang dibuatnya secara mudah dan fleksibel."
      ],
      "metadata": {
        "id": "MyP9asrvyQEB"
      }
    },
    {
      "cell_type": "markdown",
      "source": [
        "\n",
        "## Beberapa Poin Penting tentang Variabel:\n",
        "\n",
        "1. **Penamaan**: Sebuah Variabel dapat diberi nama apapun, asalkan dimulai dengan huruf atau garis bawah (`_`) dan diikuti oleh huruf, angka, atau garis bawah. Sebagai contoh, `usia`, `total_nilai`, dan `_sementara` adalah nama-nama variabel yang valid.\n",
        "\n",
        "2. ***Assignment***: Dalam python, sebuah variabel dideklarasikan secara sederhana, dengan menggunakan operator penugasan `=`. Sintaksnya adalah seperti contoh di bawah berikut:\n",
        "   ```python\n",
        "   usia = 25      # Assign angka bulat 25 ke variabel usia\n",
        "   nama = \"Alice\" # Assign string \"Alice\" ke variabel nama\n",
        "   pi = 3.14      # Assign angka desimal 3.14 ke variabel pi\n",
        "   ```\n",
        "\n",
        "3. **Tipe Data**: Variabel dapat menyimpan berbagai tipe data, seperti angka, string, daftar, atau struktur yang lebih kompleks. Python secara otomatis mendeteksi tipe data yang di-*assign* ke variabel.\n",
        "\n",
        "4. **Tipe Dinamis**: Python adalah bahasa yang bertipe dinamis, artinya programmer tidak perlu menyatakan tipe variabel saat *assignment*. Selain itu, perubahan tipe data yang disimpan dalam variabel dapat dilakukan cukup dengan memberikan nilai baru. Meskipun bukan untuk tujuan validasi, untuk mengurangi kemungkinan kesalahan penginputan tipe data, terutama pada saat menggunakan `function`, maka *assignment* dapat dilakukan dengan disertai *type hinting* sebagai *guidance* bagi pengguna.\n",
        "   ```python\n",
        "   # Dynamic Data Type\n",
        "   jumlah = 10         # `jumlah` di-assign data `int`\n",
        "   jumlah = \"sepuluh\"  # `jumlah` di-reassign data `string`\n",
        "   # Assignment dengan type hinting\n",
        "   angka_bulat : int = 10\n",
        "   angka_float : float = 3.14\n",
        "   nama_lengkap : str = \"Rikrik Rahadian\"\n",
        "   ```\n",
        "\n",
        "5. **Penggunaan Variabel**: Setelah dilakukan *assignment*, seorang programmer dapat menggunakan variabel di setiap bagian dari programnya untuk menyimpan dan bekerja dengan nilai yang di*assign* ke dalamnya. Misalnya, dicetak ke layar, dipergunakan dalam perhitungan, atau dijadikan sebagai input bagi sebuah fungsi.\n",
        "   ```python\n",
        "   # Assignment\n",
        "   harga = 100\n",
        "   diskon = 0.2\n",
        "   # Perhitungan dan Assignment hasilnya\n",
        "   harga_akhir = harga * (1 - diskon)\n",
        "   # Mencetak hasil perhitungan ke layar\n",
        "   print(harga_akhir)  # Output: 80.0\n",
        "   ```\n",
        "\n",
        "6. **Lingkup (Scope)**: Variabel memiliki lingkup, yang menentukan pada bagian mana dari program--**lokal** atau **global**--variabel tersebut dapat diakses. Variabel yang di-*assign* di dalam sebuah fungsi akan bersifat lokal, sehingga hanya berlaku di dalam fungsi tersebut, sedangkan variabel yang di-*assign* di luar fungsi akan bersifat global dan tersedia untuk diakses dari mana saja dalam kode.\n",
        "\n",
        "---\n",
        "\n",
        "Singkatnya, variabel sangat penting dalam pemrograman Python karena memungkinkan programmer untuk menyimpan, mengelola, dan menggunakan data secara efektif dalam kode yang dituliskannya. Variabel menyediakan cara untuk merujuk nilai dengan menggunakan nama yang diberikan, sehingga program yang dikembangkan menjadi lebih mudah dibaca dan fleksibel."
      ],
      "metadata": {
        "id": "Z3aOQ8CIgkOu"
      }
    },
    {
      "cell_type": "markdown",
      "source": [
        "---\n",
        "# NUMERICAL DATA : `Integer & Float`\n",
        "\n",
        "Python mendukung penggunaan dua tipe data numerik utama, yaitu: **integer** dan **float**.\n"
      ],
      "metadata": {
        "id": "owoJn72dGP6v"
      }
    },
    {
      "cell_type": "markdown",
      "source": [
        "\n",
        "## Integer (`int`)\n",
        "\n",
        "- **Definisi**: Integer adalah bilangan bulat yang tidak memiliki bagian desimal. Integer dapat bernilai positif atau negatif, termasuk nol.\n",
        "- **Contoh**:\n",
        "  ```python\n",
        "  angka_positif = 10\n",
        "  angka_negatif = -5\n",
        "  nol = 0\n",
        "  ```\n",
        "- **Penggunaan**: Integer biasanya digunakan untuk perhitungan yang tidak memerlukan nilai pecahan atau desimal, seperti penghitungan jumlah orang atau benda.\n"
      ],
      "metadata": {
        "id": "BIVzYR2DhDed"
      }
    },
    {
      "cell_type": "markdown",
      "source": [
        "## Float (`float`)\n",
        "\n",
        "- **Definisi**: Float adalah bilangan yang memiliki bagian desimal, memungkinkan representasi angka dengan pecahan.\n",
        "- **Contoh**:\n",
        "  ```python\n",
        "  pi = 3.14\n",
        "  suhu = -10.5\n",
        "  saldo = 1000.75\n",
        "  ```\n",
        "- **Penggunaan**: Float digunakan dalam perhitungan yang membutuhkan presisi, seperti pengukuran ilmiah, penghitungan keuangan, atau grafik komputer."
      ],
      "metadata": {
        "id": "0PyC8I_mhPMR"
      }
    },
    {
      "cell_type": "markdown",
      "source": [
        "## Konversi Tipe Data Numerikal (*Casting*)\n",
        "\n",
        "Python memungkinkan untuk melakukan konversi data dari integer ke float, *vice versa*. Konversi ini dapat dilakukan dengan memasukkan angka ke fungsi `int()` dan/atau `float()`:\n",
        "\n",
        "- **Integer ke Float**:\n",
        "  ```python\n",
        "  float_angka = float(10)  # Output: 10.0\n",
        "  ```\n",
        "\n",
        "- **Float ke Integer** (pembulatan ke bawah):\n",
        "  ```python\n",
        "  int_angka = int(3.99)  # Output: 3\n",
        "  ```\n",
        "\n",
        "Python secara otomatis menangani angka dengan presisi yang baik, tetapi penting untuk diingat bahwa operasi dengan float mungkin menghasilkan angka yang hanya mendekati nilai sebenarnya karena adanya keterbatasan representasi komputer.\n",
        "\n",
        "Data numerik, baik integer maupun float, merupakan bagian yang sangat penting dalam pemrograman, memungkinkan programmer untuk melakukan berbagai jenis perhitungan dan analisis data."
      ],
      "metadata": {
        "id": "zfY5tGP7haPh"
      }
    },
    {
      "cell_type": "markdown",
      "source": [
        "## Arithmetic Operations\n",
        "Dalam pemrograman dengan menggunakan Python sangat dimungkinkan untuk melakukan berbagai jenis arithmetic operations menggunakan beberapa simbol *operators*. Pada bagian berikut di bawah ini disampaikan beberapa operasi arithmetic dasar beserta simbolnya yang dapat dipergunakan dalam pemrosesan data menggunakan Python:\n",
        "\n",
        "1. **Addition (`+`)**: Penjumlahan\n",
        "   ```python\n",
        "   result = 5 + 3  # Output: 8\n",
        "   ```\n",
        "2. **Subtraction (`-`)**: Pengurangan\n",
        "   ```python\n",
        "   result = 5 - 3  # Output: 2\n",
        "   ```\n",
        "3. **Multiplication (`*`)**: Perkalian dua angka\n",
        "   ```python\n",
        "   result = 5 * 3  # Output: 15\n",
        "   ```\n",
        "4. **Division (`/`)**: Pembagian\n",
        "   ```python\n",
        "   result = 5 / 2  # Output: 2.5\n",
        "   ```\n",
        "5. **Floor Division (`//`)**: Pembagian dengan hasil dibulatkan ke bawah\n",
        "   ```python\n",
        "   result = 5 // 2  # Output: 2\n",
        "   ```\n",
        "6. **Modulus (`%`)**: Menghitung sisa dari hasil pembagian\n",
        "   ```python\n",
        "   result = 5 % 2  # Output: 1\n",
        "   ```\n",
        "7. **Exponentiation (` ** `)**: Pemangkatan\n",
        "   ```python\n",
        "   result = 5 ** 2  # Output: 25\n",
        "   ```\n",
        "8. **Negation (`-`)**: Merubah nilai sebuah angka menjadi kebalikannya\n",
        "   ```python\n",
        "   numeric = 5\n",
        "   negation = -numeric # Output: -5\n",
        "   ```\n",
        "9. **Compound Assignment**: Operator yang mengkombinasikan berbagai operator aritmatika di atas dengan operator *assignment* (`=`) untuk melakukan operasi kumulatif dalam satu langkah.\n",
        "   ```python\n",
        "   initial_value = 0\n",
        "   initial_value += 1 # Output: 1\n",
        "   initial_value -= 1 # Output: 0\n",
        "   ```\n",
        "\n",
        "\n",
        "Berbagai operasi di atas memungkinkan program yang disusun dengan berbasis Python untuk melakukan berbagai jenis kalkulasi matematis. Setiap operasi tersebut dipergunakan untuk memanipulasi angka dan dapat diterapkan terhadap baik data berjenis `int` maupun `float`."
      ],
      "metadata": {
        "id": "T8dfQSfzhgcY"
      }
    },
    {
      "cell_type": "markdown",
      "source": [
        "## Ilustrasi 1: `Numerical Data`"
      ],
      "metadata": {
        "id": "xhEc2GrR_k1L"
      }
    },
    {
      "cell_type": "markdown",
      "source": [
        "### 1. *Integer*"
      ],
      "metadata": {
        "id": "pJWqCDpK_gbh"
      }
    },
    {
      "cell_type": "code",
      "source": [
        "# Assignment\n",
        "data_integer = 5 # Assign 5 to data_integer"
      ],
      "metadata": {
        "id": "W1iTIm6oAvQX"
      },
      "execution_count": null,
      "outputs": []
    },
    {
      "cell_type": "code",
      "source": [
        "# Lakukan pengecekan tipe object dari `data_integer`\n",
        "type(data_integer)"
      ],
      "metadata": {
        "id": "2FbuBzrj_n43"
      },
      "execution_count": null,
      "outputs": []
    },
    {
      "cell_type": "code",
      "source": [
        "# Displaying value to screen\n",
        "print(data_integer)"
      ],
      "metadata": {
        "id": "0qvlv0ml8UKd"
      },
      "execution_count": null,
      "outputs": []
    },
    {
      "cell_type": "code",
      "source": [
        "# Calling variable from memory\n",
        "data_integer"
      ],
      "metadata": {
        "id": "3OT51B6H8a15"
      },
      "execution_count": null,
      "outputs": []
    },
    {
      "cell_type": "markdown",
      "source": [
        "### 2. *Float*"
      ],
      "metadata": {
        "id": "kmnDA6ajBybh"
      }
    },
    {
      "cell_type": "code",
      "source": [
        "from numpy import pi\n",
        "# Assigning value of `pi` into `nilai_pi`\n",
        "nilai_pi = pi"
      ],
      "metadata": {
        "id": "AnNpIYWdBHSB"
      },
      "execution_count": null,
      "outputs": []
    },
    {
      "cell_type": "code",
      "source": [
        "# Type checking for `nilai_pi`\n",
        "type(nilai_pi)"
      ],
      "metadata": {
        "id": "UeHpDsPdBTfR"
      },
      "execution_count": null,
      "outputs": []
    },
    {
      "cell_type": "code",
      "source": [
        "# Displaying value of `nilai_pi` to screen\n",
        "print(nilai_pi)"
      ],
      "metadata": {
        "id": "vUlcmk8l8_7M"
      },
      "execution_count": null,
      "outputs": []
    },
    {
      "cell_type": "code",
      "source": [
        "# Callling `nilai_pi` from memory\n",
        "nilai_pi"
      ],
      "metadata": {
        "id": "uezVt2a-kMYt"
      },
      "execution_count": null,
      "outputs": []
    },
    {
      "cell_type": "code",
      "source": [
        "3.14"
      ],
      "metadata": {
        "id": "yo0JsAGyoZh7"
      },
      "execution_count": null,
      "outputs": []
    },
    {
      "cell_type": "markdown",
      "source": [
        "### 3. *Arithmetic Operations*"
      ],
      "metadata": {
        "id": "FiiP99fXAPuS"
      }
    },
    {
      "cell_type": "code",
      "source": [
        "# Addition\n",
        "addition = data_integer + nilai_pi\n",
        "addition"
      ],
      "metadata": {
        "id": "NVg4-6eFGc6j"
      },
      "execution_count": null,
      "outputs": []
    },
    {
      "cell_type": "code",
      "source": [
        "# substraction\n",
        "substraction = data_integer - nilai_pi\n",
        "substraction"
      ],
      "metadata": {
        "id": "G4hHBedpGh7f"
      },
      "execution_count": null,
      "outputs": []
    },
    {
      "cell_type": "code",
      "source": [
        "# multiplication\n",
        "multiplication = data_integer * nilai_pi\n",
        "multiplication"
      ],
      "metadata": {
        "id": "O_Y2SezVGkkt"
      },
      "execution_count": null,
      "outputs": []
    },
    {
      "cell_type": "code",
      "source": [
        "# division\n",
        "division = data_integer / nilai_pi\n",
        "division"
      ],
      "metadata": {
        "id": "0QafaK3mGw-M"
      },
      "execution_count": null,
      "outputs": []
    },
    {
      "cell_type": "code",
      "source": [
        "# floor division\n",
        "bagi_pembulatan = data_integer // 3\n",
        "bagi_pembulatan"
      ],
      "metadata": {
        "id": "SqByomU2Gx2_"
      },
      "execution_count": null,
      "outputs": []
    },
    {
      "cell_type": "code",
      "source": [
        "# modulus\n",
        "modulo = data_integer % 3\n",
        "modulo"
      ],
      "metadata": {
        "id": "lkGGdugeGy1o"
      },
      "execution_count": null,
      "outputs": []
    },
    {
      "cell_type": "code",
      "source": [
        "# negation\n",
        "negasi = -data_integer\n",
        "negasi"
      ],
      "metadata": {
        "id": "s7TU0DCkG0qk"
      },
      "execution_count": null,
      "outputs": []
    },
    {
      "cell_type": "code",
      "source": [
        "# exponentiation\n",
        "pangkat = data_integer ** data_integer\n",
        "pangkat"
      ],
      "metadata": {
        "id": "kmNynqbbG2UW"
      },
      "execution_count": null,
      "outputs": []
    },
    {
      "cell_type": "code",
      "source": [
        "# Assigning variable's value into another variable\n",
        "data_inisial = data_integer\n",
        "data_inisial"
      ],
      "metadata": {
        "id": "2Yo-Bp9zBm2i"
      },
      "execution_count": null,
      "outputs": []
    },
    {
      "cell_type": "code",
      "source": [
        "# Addition Compound Assignment\n",
        "data_inisial += 1\n",
        "data_inisial"
      ],
      "metadata": {
        "id": "RceIkl7bqtRD"
      },
      "execution_count": null,
      "outputs": []
    },
    {
      "cell_type": "code",
      "source": [
        "# Subtraction Compund Assignment\n",
        "data_inisial -= 1\n",
        "data_inisial"
      ],
      "metadata": {
        "id": "XGgHo_l6sQwM"
      },
      "execution_count": null,
      "outputs": []
    },
    {
      "cell_type": "code",
      "source": [
        "# Contoh Penggunaan Compound Operators\n",
        "x = 10\n",
        "for i in range(10):\n",
        "  x -= 1\n",
        "  if x == 3:\n",
        "    break\n",
        "  print(x)"
      ],
      "metadata": {
        "id": "4P9aTSmEpnHr"
      },
      "execution_count": null,
      "outputs": []
    },
    {
      "cell_type": "markdown",
      "source": [
        "___\n",
        "# EXERCISE 1: `numeric` `dataframe` operations\n",
        "Pada exercise ini, kita akan mencoba untuk melakukan beberapa *arithmatic operations* sederhana terhadap `numeric` data pada sebuah `dataframe` yang berasal dari sebuah file bertipe *comma sepparated values* (`csv`) yang disimpan pada tautan berikut:\n",
        "  ```\n",
        "  https://storage.googleapis.com/dqlab-dataset/SuperStore.csv\n",
        "  ```"
      ],
      "metadata": {
        "id": "B3pPB6yrk93s"
      }
    },
    {
      "cell_type": "code",
      "source": [
        "\"\"\"\n",
        "LENGKAPI SCRIPTS DI BAWAH BERIKUT DENGAN `VARIABLE`, METHOD, ATAU DATA YANG TEPAT!!\n",
        "Scripts tersebut berisikan langkah-langkah yang dipergunakan untuk melakukan\n",
        "parsing data dari sebuah file `csv` yang diletakan pada tautan tersebut di atas,\n",
        "dengan menggunakan method `read_csv` dari modul `pandas`.\n",
        "\"\"\"\n",
        "# Parsing Data from `csv` file to `DataFrame`\n",
        "# 1. Import modul `pandas`\n",
        "import pandas as pd\n",
        "\n",
        "# 2. Assign tautan file ke variabel `file_path`\n",
        "file_path = \"https://storage.googleapis.com/dqlab-dataset/SuperStore.csv\"\n",
        "\n",
        "# 3. Parse data pada file dan assign ke `df_sales`\n",
        "df_sales = pd.read_csv(file_path)\n",
        "\n",
        "# 4. Check isi `df_sales` dari memory\n",
        "df_sales.head()"
      ],
      "metadata": {
        "id": "MnQTXcZkBPpD"
      },
      "execution_count": null,
      "outputs": []
    },
    {
      "cell_type": "markdown",
      "source": [
        "1. Informasi apa yang termuat dalam setiap baris pada `df_sales`?\n",
        "1. Berapa banyak kolom yang terdapat pada `df_sales`?\n",
        "2. Berapa banyak kolom yang bertipe data `numeric` pada `df_sales`?"
      ],
      "metadata": {
        "id": "hCQj7DJsoZX3"
      }
    },
    {
      "cell_type": "code",
      "source": [
        "\"\"\"\n",
        "LENGKAPI SCRIPTS DI BAWAH BERIKUT DENGAN `VARIABLE`, METHOD, ATAU DATA YANG TEPAT!!\n",
        "Scripts berikut berisikan langkah-langkah yang dilakukan untuk membuat sebuah\n",
        "kolom baru ke dalam `df_sales`, yaitu `Gross_Sales` yang ke dalamnya di assign\n",
        "value dengan rumus (Sales / (1 - Discount)), dan kemudian melakukan perhitungan\n",
        "aggregat untuk memperoleh informasi:\n",
        "1. Jumlah Transaksi yang memiliki `Gross_Sales`;\n",
        "2. Total nilai `Gross_Sales`; dan\n",
        "2. Rata-rata nilai `Gross_Sales` per transaksi.\n",
        "\"\"\"\n",
        "# Menghitung `Net_Sales`\n",
        "df_sales[\"Gross_Sales\"] = df_sales['Sales'] / (1 - df_sales['Discount'])\n",
        "\n",
        "# Tampilkan ke layar jumlah transaksi yang memiliki nilai `Gross_Sales`\n",
        "print(\"Total Transaksi =\", df_sales['Gross_Sales'].count())\n",
        "\n",
        "# Tampilkan ke layar nilai total `Net_Sales`\n",
        "print(\"Total Gross Sales =\", df_sales['Gross_Sales'].sum())\n",
        "\n",
        "# Tampilkan ke layar nilai rata-rata `Net_Sales` per transaksi\n",
        "print(\"Average Gross Sales w/ operator =\", df_sales['Gross_Sales'].sum()/df_sales['Gross_Sales'].count())\n",
        "print(\"Average Gross Sales w/ method =\", df_sales['Gross_Sales'].mean())"
      ],
      "metadata": {
        "id": "xC7bkbuElE83"
      },
      "execution_count": null,
      "outputs": []
    },
    {
      "cell_type": "code",
      "source": [
        "df_sales.head()"
      ],
      "metadata": {
        "id": "IyO5c21tuucs"
      },
      "execution_count": null,
      "outputs": []
    },
    {
      "cell_type": "code",
      "source": [
        "df_sales.drop(columns='Segment', inplace=True)\n",
        "df_sales.head()"
      ],
      "metadata": {
        "id": "NNU4oxn6vEf2"
      },
      "execution_count": null,
      "outputs": []
    },
    {
      "cell_type": "markdown",
      "source": [
        "1. Apakah terdapat perbedaan nilai rata-rata `Net_Sales` yang dihasilkan dari perhitungan menggunakan `operator` dan `method`?\n",
        "2. Cara manakah yang sebaiknya dipergunakan untuk melakukan perhitungan aggregat seperti pada contoh di atas, `operator` atau `method`?"
      ],
      "metadata": {
        "id": "zJtl_VMvq5e8"
      }
    },
    {
      "cell_type": "code",
      "source": [
        "# Beberapa Method Bagi Indikator Statistik Aggregat Umum\n",
        "print(\"Net Sales Numbers =\", df_sales['Net_Sales'].count())\n",
        "print(\"Average Net Sales =\", df_sales['Net_Sales'].mean())\n",
        "print(\"Maximum Net Sales =\", df_sales['Net_Sales'].max())\n",
        "print(\"Minimum Net Sales =\", df_sales['Net_Sales'].min())\n",
        "print(\"Std Dev Net Sales =\", df_sales['Net_Sales'].std())"
      ],
      "metadata": {
        "id": "mDLT8XRXpM6z"
      },
      "execution_count": null,
      "outputs": []
    },
    {
      "cell_type": "markdown",
      "source": [
        "---\n",
        "# BOOLEAN DATA\n",
        "> \"*The best thing about Boolean is even if you are wrong, you are only off by a bit*\" -- *a Programmer's Joke*\n",
        "\n",
        "Meskipun tipe data `Boolean` (`Bool`) adalah tipe data yang hanya memiliki dua nilai--yaitu `True` (1) dan `False` (0)--namun keduanya sangat berguna dalam *programming*, terutama untuk operasi logika dan kontrol alur program."
      ],
      "metadata": {
        "id": "lI_d6EQWHQN-"
      }
    },
    {
      "cell_type": "markdown",
      "source": [
        "## Penggunaan\n",
        "1. **Kondisi dan Percabangan**: Boolean sering digunakan dalam pernyataan kondisional seperti `if`, `else`, dan `elif` untuk menentukan alur eksekusi program berdasarkan kondisi tertentu.\n",
        "\n",
        "   ```python\n",
        "   is_raining = True\n",
        "   if is_raining:\n",
        "       print(\"Bawa payung!\")\n",
        "   else:\n",
        "       print(\"Tidak perlu payung.\")\n",
        "   ```\n",
        "\n",
        "2. **Operator Logika**: Beberapa object `Boolean` dapat dikombinasikan menggunakan operator logika `and`, `or`, dan `not` untuk menggabungkan beberapa kondisi.\n",
        "\n",
        "   ```python\n",
        "   is_sunny = False\n",
        "   is_windy = True\n",
        "\n",
        "   if is_sunny and not is_windy:\n",
        "       print(\"Bagus untuk piknik.\")\n",
        "   else:\n",
        "       print(\"Lebih baik di dalam rumah.\")\n",
        "   ```\n",
        "\n",
        "3. **Konversi Tipe**: Data `non-boolean` di Python dapat dikonversi menjadi Boolean menggunakan fungsi `bool()`. Misalnya, angka `0` dan string kosong `''` akan dikonversi menjadi `False`, sedangkan angka bukan nol dan string non-kosong akan dikonversi menjadi `True`.\n",
        "\n",
        "   ```python\n",
        "   print(bool(0))      # Output: False\n",
        "   print(bool(1))      # Output: True\n",
        "   print(bool(\"\"))     # Output: False\n",
        "   print(bool(\"Halo\")) # Output: True\n",
        "   ```\n",
        "\n",
        "Tipe data Boolean di Python sangat penting untuk kontrol alur program dan evaluasi logika. Memahami cara kerja dan penggunaannya akan membantu dalam penulisan kode yang lebih efisien dan efektif."
      ],
      "metadata": {
        "id": "-p98qVl-__zz"
      }
    },
    {
      "cell_type": "markdown",
      "source": [
        "## Ilustrasi 2: Boolean Data"
      ],
      "metadata": {
        "id": "L58bWXuftSMc"
      }
    },
    {
      "cell_type": "code",
      "source": [
        "# cara penulisan nilai True yang benar\n",
        "True"
      ],
      "metadata": {
        "id": "F5I2uZtCG4my"
      },
      "execution_count": null,
      "outputs": []
    },
    {
      "cell_type": "code",
      "source": [
        "# cara penulisan nilai False yang benar\n",
        "False"
      ],
      "metadata": {
        "id": "fGqLEQWgHUV3"
      },
      "execution_count": null,
      "outputs": []
    },
    {
      "cell_type": "code",
      "source": [
        "# penulisan boolean yang salah akan dianggap sebagai nama variabel, dan menghasilkan error\n",
        "false"
      ],
      "metadata": {
        "id": "qOWemTWVHVCv"
      },
      "execution_count": null,
      "outputs": []
    },
    {
      "cell_type": "markdown",
      "source": [
        "### Operasi Logika"
      ],
      "metadata": {
        "id": "QKKha9YkiVOY"
      }
    },
    {
      "cell_type": "markdown",
      "source": [
        "#### 1. Operator `and` [&]\n",
        "Kondisi yang dihubungkan dengan operator `and` akan bernilai `True` jika semua kondisi bernilai `True`."
      ],
      "metadata": {
        "id": "4v2sFhRKiff3"
      }
    },
    {
      "cell_type": "code",
      "source": [
        "True and True"
      ],
      "metadata": {
        "id": "7s8uP4fRHVwK"
      },
      "execution_count": null,
      "outputs": []
    },
    {
      "cell_type": "code",
      "source": [
        "True & True"
      ],
      "metadata": {
        "id": "smD2XcENtFAF"
      },
      "execution_count": null,
      "outputs": []
    },
    {
      "cell_type": "code",
      "source": [
        "True and False"
      ],
      "metadata": {
        "id": "ad0i85PVHoxX"
      },
      "execution_count": null,
      "outputs": []
    },
    {
      "cell_type": "code",
      "source": [
        "False and False"
      ],
      "metadata": {
        "id": "ZhrMXk5NHqvm"
      },
      "execution_count": null,
      "outputs": []
    },
    {
      "cell_type": "code",
      "source": [
        "# contoh: seseorang akan mendapatkan pekerjaan jika rajin dan upgrade skill\n",
        "is_rajin = True\n",
        "is_upgrade_skill = True\n",
        "\n",
        "get_job = is_rajin and is_upgrade_skill\n",
        "\n",
        "get_job"
      ],
      "metadata": {
        "id": "lM2b5IqbHuYh"
      },
      "execution_count": null,
      "outputs": []
    },
    {
      "cell_type": "markdown",
      "source": [
        "#### 2. Operator `or` [ | ]\n",
        "Kondisi yang dihubungkan dengan operator `or` akan bernilai `True` jika salah satu kondisi bernilai `True`."
      ],
      "metadata": {
        "id": "FtvLYy8OinXn"
      }
    },
    {
      "cell_type": "code",
      "source": [
        "True or True"
      ],
      "metadata": {
        "id": "fXFmyC35IFu8"
      },
      "execution_count": null,
      "outputs": []
    },
    {
      "cell_type": "code",
      "source": [
        "True | True"
      ],
      "metadata": {
        "id": "oF6YmfD5tU-h"
      },
      "execution_count": null,
      "outputs": []
    },
    {
      "cell_type": "code",
      "source": [
        "True or False"
      ],
      "metadata": {
        "id": "g3tVyz5YIOuv"
      },
      "execution_count": null,
      "outputs": []
    },
    {
      "cell_type": "code",
      "source": [
        "False or False"
      ],
      "metadata": {
        "id": "SOs9oXZ1IPxs"
      },
      "execution_count": null,
      "outputs": []
    },
    {
      "cell_type": "code",
      "source": [
        "# seseorang dikatakan lulusan fakultas mipa jika dia lulusan jurusan matematika atau jurusan IPA\n",
        "is_matematika = True\n",
        "is_ipa = False\n",
        "\n",
        "is_mipa = is_matematika or is_ipa\n",
        "\n",
        "is_mipa"
      ],
      "metadata": {
        "id": "liq7SYsiIRGj"
      },
      "execution_count": null,
      "outputs": []
    },
    {
      "cell_type": "markdown",
      "source": [
        "### Operasi Arithmetic\n",
        "Operasi numerik dapat berlaku untuk data `boolean`, karena pada dasarnya `True` memiliki nilai 1 dan `False` memiliki nilai 0."
      ],
      "metadata": {
        "id": "fF7-XM-DjOG3"
      }
    },
    {
      "cell_type": "code",
      "source": [
        "True + True"
      ],
      "metadata": {
        "id": "FbWAT8KcLN1C"
      },
      "execution_count": null,
      "outputs": []
    },
    {
      "cell_type": "code",
      "source": [
        "False + False"
      ],
      "metadata": {
        "id": "B75xGNHILP9f"
      },
      "execution_count": null,
      "outputs": []
    },
    {
      "cell_type": "code",
      "source": [
        "3 * True"
      ],
      "metadata": {
        "id": "OAToqm3OLSd7"
      },
      "execution_count": null,
      "outputs": []
    },
    {
      "cell_type": "code",
      "source": [
        "float(True)"
      ],
      "metadata": {
        "id": "aJir-PJVLeqW"
      },
      "execution_count": null,
      "outputs": []
    },
    {
      "cell_type": "code",
      "source": [
        "float(False)"
      ],
      "metadata": {
        "id": "_0F9wIOgLgdm"
      },
      "execution_count": null,
      "outputs": []
    },
    {
      "cell_type": "markdown",
      "source": [
        "### Operasi Perbandingan\n",
        "Operasi perbandingan data `non-boolean` akan menghasilkan data bertipe `boolean`, biasanya dilakukan menggunakan operator-operator berikut:\n",
        "- '>' lebih dari\n",
        "- '<' kurang dari\n",
        "- '>=' lebih dari atau sama dengan\n",
        "- '<=' kurang dari atau sama dengan\n",
        "- '==' sama dengan\n",
        "- '!=' tidak sama dengan\n",
        "\n",
        "operasi perbandingan akan menghasilkan True atau False"
      ],
      "metadata": {
        "id": "_XdG6oXhKmcc"
      }
    },
    {
      "cell_type": "code",
      "source": [
        "# Lebih dari\n",
        "data_integer > nilai_pi"
      ],
      "metadata": {
        "id": "R1udm4zmK-yw"
      },
      "execution_count": null,
      "outputs": []
    },
    {
      "cell_type": "code",
      "source": [
        "#Kurang dari\n",
        "data_integer < nilai_pi"
      ],
      "metadata": {
        "id": "sIJozRMmK_5O"
      },
      "execution_count": null,
      "outputs": []
    },
    {
      "cell_type": "code",
      "source": [
        "# Sama dengan\n",
        "data_integer == nilai_pi"
      ],
      "metadata": {
        "id": "iRD-OX9dLA9z"
      },
      "execution_count": null,
      "outputs": []
    },
    {
      "cell_type": "code",
      "source": [
        "# Tidak sama dengan\n",
        "data_integer != nilai_pi"
      ],
      "metadata": {
        "id": "v2ValuEeLC8P"
      },
      "execution_count": null,
      "outputs": []
    },
    {
      "cell_type": "markdown",
      "source": [
        "___\n",
        "# EXERCISE 2: filtering `dataframe` using `Boolean`\n",
        "\n",
        "Dalam pengolahan data menggunakan python, `boolean` biasanya digunakan untuk melakukan proses filtering rows yang akan ditampilkan dari sebuah dataset. Langkah-langkah dasar filtering `dataframe` umumnya adalah sebagai berikut:\n",
        "1. Tentukan kriteria filtering;\n",
        "2. Rubah elemen pada kolom yang menjadi filter ke type `boolean` dengan cara melakukan operasi perbandingan antara elemen pada kolom dengan kriteria filtering;\n",
        "3. Masukkan hasil perubahan tersebut ke dalam dataframe.\n",
        "\n",
        "Adapun contoh prakteknya adalah memilah data pada `df_sales` untuk hanya menunjukkan transaksi yang dilakukan pada `Region` 'South' seperti berikut ini."
      ],
      "metadata": {
        "id": "SsLHCTCBAfDj"
      }
    },
    {
      "cell_type": "code",
      "source": [
        "filter_region"
      ],
      "metadata": {
        "id": "23ryrDelzP8Z"
      },
      "execution_count": null,
      "outputs": []
    },
    {
      "cell_type": "code",
      "source": [
        "\"\"\"\n",
        "LENGKAPI SCRIPTS BERIKUT DENGAN VARIABLE, METHOD, ATAU DATA YANG TEPAT!!\n",
        "Scripts berikut adalah langkah-langkah dasar yang dilakukan ketika seorang\n",
        "data analyst hendak melakukan filtering data pada sebuah dataframe.\n",
        "\"\"\"\n",
        "# 1. Tentukan Kriteria\n",
        "criteria_region = 'South'\n",
        "\n",
        "# 2. Lakukan identifikasi apakah setiap elemen kolom `Region` berisi 'South'\n",
        "#    lalu assign hasilnya ke variabel filter_region\n",
        "filter_region = df_sales['Region'] == criteria_region\n",
        "\n",
        "# 3. Menerapkan filter_region ke DataFrame\n",
        "df_sales[filter_region]"
      ],
      "metadata": {
        "id": "r5XzBMvpCPHR"
      },
      "execution_count": null,
      "outputs": []
    },
    {
      "cell_type": "markdown",
      "source": [
        "Berdasarkan hasil filtering di atas:\n",
        "1. Ada berapa banyak transaksi yang terjadi di Wilayah 'South'??\n",
        "2. Ada berapa banyak `State` yang tercatat pada `dataframe` hasil filtering tersebut?"
      ],
      "metadata": {
        "id": "bT5Y9xuvCznX"
      }
    },
    {
      "cell_type": "code",
      "source": [
        "df_sales"
      ],
      "metadata": {
        "id": "mohRQB5T55T_"
      },
      "execution_count": null,
      "outputs": []
    },
    {
      "cell_type": "markdown",
      "source": [
        "Berdasarkan hasil filtering di atas:\n",
        "1. Ada berapa banyak transaksi yang terjadi di wilayah 'South` dan Negara Bagian 'Kentucky'?\n",
        "2. Ada berapa banyak `State` yang tercata pada `dataframe` baru tersebut?"
      ],
      "metadata": {
        "id": "i3QN-ITaDE79"
      }
    },
    {
      "cell_type": "code",
      "source": [
        "\"\"\"\n",
        "Buatlah Scripts berdasarkan langkah-langkah yang telah ditentukan, untuk\n",
        "melakukan filtering `df_sales` dengan kriteria dimana nilai\n",
        "'Nilai_Discount > Rata-rata Discount'\n",
        "\"\"\"\n",
        "# 1. Hitung besaran nilai discount dan assign ke kolom `Discount_Value`\n",
        "df_sales['Discount_Value'] = df_sales['Gross_Sales'] * df_sales['Discount']\n",
        "\n",
        "# 2. Buat Criteria (hitung rata-rata discount)\n",
        "rata_rata_discount = df_sales['Discount_Value'].mean()\n",
        "\n",
        "# 3. Buat Filter (`Discount_Value` > rata-rata `Discount_Value`)\n",
        "filter_discount = df_sales['Discount_Value'] > rata_rata_discount\n",
        "\n",
        "# 3. Terapkan Filter ke `df_sales`, lalu assign ke variable `filtered_sales`\n",
        "filtered_sales = df_sales[filter_discount & filter_region]\n",
        "\n",
        "# 4. Tampilkan ke layar Jumlah Transaksi dengan `Discount_Value` > Rata-rata `Discount_Value`\n",
        "print(\"Jumlah Transaksi dengan discount di atas rata-rata =\", filtered_sales['Discount_Value'].count())\n",
        "\n",
        "# 5. Tampilkan ke Layar Rata-Rata `Discount_Value` bagi Seluruh Transaksi\n",
        "#    dengan `Discount_Value` > Rata-Rata `Discount_Value`\n",
        "print(\"Rata-rata nilai discount, untuk transaksi discount di atas rata-rata =\", filtered_sales['Discount_Value'].mean())"
      ],
      "metadata": {
        "id": "kGW6DLXLuFB6"
      },
      "execution_count": null,
      "outputs": []
    },
    {
      "cell_type": "markdown",
      "source": [
        "Berdasarkan hasil pengolahan di atas:\n",
        "1. Berapa banyak transaksi yang bernilai diskon di atas rata-ratanya?\n",
        "2. Berapa nilai Rata-rata `Discount_Value` bagi transaksi dengan `Discount_Value` di atas rata-rata?"
      ],
      "metadata": {
        "id": "avQ521txCEtj"
      }
    },
    {
      "cell_type": "markdown",
      "source": [
        "---\n",
        "# STRING DATA\n",
        "String adalah tipe data di Python yang digunakan untuk merepresentasikan teks. String didefinisikan dengan menggunakan tanda kutip tunggal (`'...'`) atau tanda kutip ganda (`\"...\"`) dalam satu baris.\n"
      ],
      "metadata": {
        "id": "Oqk7wPjCLxY3"
      }
    },
    {
      "cell_type": "markdown",
      "source": [
        "## String Assignment\n",
        "Sebuah String bisa dideklarasikan dengan cara berikut:\n",
        "\n",
        "```python\n",
        "nama = \"Python\"\n",
        "pesan = 'Selamat datang di dunia pemrograman!'\n",
        "```"
      ],
      "metadata": {
        "id": "F3QBZYmYspAe"
      }
    },
    {
      "cell_type": "markdown",
      "source": [
        "\n",
        "## String Operations\n",
        "1. **Akses Karakter**: Setiap karakter dalam string dapati diakses dengan menggunakan indeks.\n",
        "\n",
        "   ```python\n",
        "   teks = \"Python\"\n",
        "   print(teks[0])  # Output: P\n",
        "   print(teks[-1]) # Output: n\n",
        "   ```\n",
        "2. **Panjang String**: Gunakan fungsi `len()` untuk memperoleh informasi panjang string.\n",
        "\n",
        "   ```python\n",
        "   teks = \"Pemrograman\"\n",
        "   print(len(teks))  # Output: 11\n",
        "   ```\n",
        "3. **Irisan (Slicing)**: Sebagian dari String dapat diambil dengan menggunakan teknik slicing.\n",
        "\n",
        "   ```python\n",
        "   teks = \"Pemrograman\"\n",
        "   bagian = teks[0:3]\n",
        "   print(bagian)  # Output: Pem\n",
        "   ```"
      ],
      "metadata": {
        "id": "TakUTVNzsyK2"
      }
    },
    {
      "cell_type": "markdown",
      "source": [
        "## String Manipulation\n",
        "### Operasi Matematis\n",
        "\n",
        "Beberapa operator matematis dapat dipergunakan untuk melakukan operasi terhadap data String. Seperti berikut di bawah ini:\n",
        "1. **Concatenation**\n",
        "  ```python\n",
        "  nama_depan = 'Elon'\n",
        "  nama_belakang = 'Musk'\n",
        "\n",
        "  nama_depan + ' ' + nama_belakang # Output : \"Elon Musk\"\n",
        "  ```\n",
        "2. **Repetition**\n",
        "  ```python\n",
        "  'Python' * 5 # Output : PythonPythonPythonPythonPython\n",
        "  ```"
      ],
      "metadata": {
        "id": "Rwxn3UvQs5U7"
      }
    },
    {
      "cell_type": "markdown",
      "source": [
        "### String methods\n",
        "> Methods adalah fungsi yang terkait dengan suatu objek tertentu dan digunakan untuk memanipulasi atribut atau mengenakan suatu aksi terhadap objek terkait.\n",
        "\n",
        "Beberapa string methods yang cukup sering dipergunakan dalam pengolahan data String, antara lain:\n",
        "1. **Case Changing**\n",
        "  ```python\n",
        "  # Merubah format string menjadi capital\n",
        "  'Python'.upper()                  # Output : 'PYTHON'\n",
        "  # Merubah format String ke lowercase\n",
        "  'PyThon'.lower()                  # Output : 'python'\n",
        "  # Menukar format String\n",
        "  'PyThon'.swapcase()               # Output : pYtHON\n",
        "  # Merubah format String menjadi format judul\n",
        "  'aku suka belajar python'.title() # Output: 'Aku Suka Belajar Python'\n",
        "  ```\n",
        "2. **String Replacement**\n",
        "  ```python\n",
        "  # Mengganti karakter dengan karakter lain\n",
        "  'Aku suka belajar Python'.replace('u','i') # Output : 'Aki sika belajar Python'\n",
        "  ```\n",
        "3. **White Space Stripping**\n",
        "  ```python\n",
        "  # Menghapus whitespace berlebihan di awal dan akhir dari String\n",
        "  '      Aku suka belajar Python        '.strip() # Output : 'Aku suka belajar Python'\n",
        "  ```\n",
        "4. **String Splitting**\n",
        "  ```python\n",
        "  # Memisahkan text menjadi sebuah list berdasarkan separator tertentu\n",
        "  'Aku suka belajar python'.split(sep=\" \") # Output : ['Aku', 'suka', 'belajar', 'python']\n",
        "  ```\n",
        "5. **String Concatenation**\n",
        "  ```python\n",
        "  # Menggabungkan potongan string\n",
        "  \" \".join([nama_depan, nama_belakang]) # Output : \"Elon Musk\"\n",
        "  ```\n",
        "6. **Counting String**\n",
        "  ```python\n",
        "  # Menghitung kemunculan karakter tertentu\n",
        "  'Aku suka belajar Python'.count('u') # Output : 2\n",
        "  ```\n",
        "7. **Finding String**\n",
        "  ```python\n",
        "  # Mengidentifikasi posisi keberapa suatu string pada text berada\n",
        "  'Aku suka belajar python'.find('ajar') # Output : 12\n",
        "  # Jika string yang dicari tidak ditemukan\n",
        "  'Aku suka belajar python'.find('membaca') # Output : -1\n",
        "  # Untuk mengidentifikasi apakah suatu string terdapat pada text\n",
        "  'Aku suka belajar python'.find('dia')>-1 # Output : False\n",
        "  ```"
      ],
      "metadata": {
        "id": "eTDZ7UNptFsa"
      }
    },
    {
      "cell_type": "markdown",
      "source": [
        "\n",
        "### String Formatting\n",
        "> *String Formatting* adalah sebuah proses menyematkan string atau variabel ke dalam sebuah text tanpa menggunakan operator seperti pada *concatenation*.\n",
        "\n",
        "Terdapat tiga cara *string formatting* yang sering digunakan dalam python adalah, sebagai berikut:\n",
        "\n",
        "1. **`% Operator`**\n",
        "  ```python\n",
        "  # String Assignment\n",
        "  query_by_provinsi = \"\"\"SELECT * FROM tbl_produksi WHERE nama_provinsi = '%s' AND nama_kabupaten = '%s';\"\"\"\n",
        "\n",
        "  # Tampilkan String ke layar tanpa disemat argument\n",
        "  print(query_by_provinsi)\n",
        "  # Output : \"SELECT * FROM tbl_produksi WHERE nama_provinsi = '%s' AND nama_kabupaten = '%s';\"\n",
        "  \n",
        "  # Tampilkan String ke layar dengan disematkan argument\n",
        "  print(query_by_provinsi % ('DKI JAKARTA', 'JAKARTA PUSAT'))\n",
        "  # Output : \"SELECT * FROM tbl_produksi WHERE nama_provinsi = 'DKI JAKARTA' AND nama_kabupaten = 'JAKARTA PUSAT';\"\n",
        "\n",
        "  # Jika jumlah argument yang disematkan tidak sesuai, akan mengakibatkan error\n",
        "  print(query_by_provinsi % ('DKI JAKARTA'))\n",
        "  # Output : 'TypeError: not enough arguments for format string'\n",
        "  ```\n",
        "\n",
        "2. **`str.format()` Method**\n",
        "  ```python\n",
        "  # String Assignment\n",
        "  template_sapaan = \"Hi,\\nnama saya {},\\numur saya {} tahun,\\nsalam kenal!\"\n",
        "\n",
        "  # Sematkan argument ke dalam String\n",
        "  sapa = template_sapaan.format(nama_lengkap, \"17\")\n",
        "\n",
        "  # Tampilkan hasil formatting ke layar\n",
        "  print(sapa)\n",
        "  # Output :\n",
        "    \"\"\"\n",
        "    Hi,\n",
        "    nama saya Rikrik Rahadian,\n",
        "    umur saya 17 tahun,\n",
        "    salam kenal!\n",
        "    \"\"\"\n",
        "  ```\n",
        "\n",
        "3. **`f-strings`**\n",
        "- **Formatting**\n",
        "  ```python\n",
        "  # String Assignment\n",
        "  first_name = \"Elon\"\n",
        "  last_name = \"Musk\"\n",
        "  nomor_kamar = \"512\"\n",
        "  waktu = \"siang\"\n",
        "  # String Formatting\n",
        "  template_greeting = f\"Hallo Tuan {last_name}, selamat {waktu}, anda menginap di kamar {nomor_kamar}\"\n",
        "  # Tampilkan hasil formatting ke layar\n",
        "  print(template_greeting)\n",
        "  # Output : \"Hallo Tuan Musk, selamat siang, anda menginap di kamar 512\"\n",
        "  ```\n",
        "\n",
        "- **Alignment & Padding**\n",
        "  ```python\n",
        "  # String Assignment\n",
        "  formatted_string = f\"{'Elon Musk':*^30}\"\n",
        "  # Tampilkan string ke layar\n",
        "  print(formatted_string)\n",
        "  # Output : '**********Elon Musk***********'\n",
        "  ```\n",
        "\n",
        "Penjelasan script di atas:\n",
        "  - **Value**: 'Elon Musk' adalah String yang akan diformat.\n",
        "  - **Padding Character**: * memberikan spesifikasi bahwa value tersebut akan diberi *padding* berupa simbol *asterisks*.\n",
        "  - **Alignment**: ^ mengindikasikan *alignment* dari value di tengah. Opsi lainnya adalah: < untuk *left alignment* dan > untuk *right alignment*.\n",
        "  - **Width**: 30 menunjukkan total karakter seluruhnya meliputi value dari string ditambah padding yang diulang sebanyak sisa total karakter dikurangi jumlah karakter dari value.\n",
        "\n",
        "String adalah bagian penting dalam pemrograman Python yang memungkinkan programmer untuk memanipulasi dan bekerja dengan teks secara efisien. Memahami operasi dasar dan metode string akan membantu mengelola data teks dengan lebih baik.`"
      ],
      "metadata": {
        "id": "EQ6j2y22tMNk"
      }
    },
    {
      "cell_type": "markdown",
      "source": [
        "## Ilustrasi 3: String Data"
      ],
      "metadata": {
        "id": "TklNRGmL4tR7"
      }
    },
    {
      "cell_type": "code",
      "source": [
        "# Serangkaian Karakter yang sama dengan tanda kutip berbeda, akan dianggap sama oleh python\n",
        "hello_satu = 'Hello world'\n",
        "hello_dua = \"Hello world\"\n",
        "hello_satu == hello_dua"
      ],
      "metadata": {
        "id": "l-fDf8_xLFCC"
      },
      "execution_count": null,
      "outputs": []
    },
    {
      "cell_type": "code",
      "source": [
        "# Tanda kutip singel di baris berbeda akan membangkitkan error\n",
        "\"Hello World\n",
        "\""
      ],
      "metadata": {
        "id": "v9bjmmi8cq7m"
      },
      "execution_count": null,
      "outputs": []
    },
    {
      "cell_type": "code",
      "source": [
        "# Data String dengan multi baris harus dituliskan diantara \"\"\" atau '''\n",
        "query_pertama = \"\"\"\n",
        "SELECT\n",
        "  col1,\n",
        "  col2,\n",
        "  col3\n",
        "FROM tbl_produksi\n",
        "LIMIT 5;\n",
        "\"\"\"\n",
        "print(query_pertama)"
      ],
      "metadata": {
        "id": "re5ttuHNdHAX"
      },
      "execution_count": null,
      "outputs": []
    },
    {
      "cell_type": "code",
      "source": [
        "# Data string multi baris pada memory\n",
        "query_pertama"
      ],
      "metadata": {
        "id": "ObdaHyYxDjIO"
      },
      "execution_count": null,
      "outputs": []
    },
    {
      "cell_type": "code",
      "source": [
        "# Data String dengan multi baris juga dapat dituliskan dalam 1 baris di antara \" atau '\n",
        "query_kedua = \"SELECT\\n  col1,\\n  col2,\\n  col3\\nFROM tbl_produksi \\nLIMIT 5;\"\n",
        "print(query_kedua)"
      ],
      "metadata": {
        "id": "_SGhgEYHeuxR"
      },
      "execution_count": null,
      "outputs": []
    },
    {
      "cell_type": "code",
      "source": [
        "# Slicing Data String\n",
        "nama_lengkap = \"Rikrik Rahadian\"\n",
        "nama_lengkap[10] # Slicing"
      ],
      "metadata": {
        "id": "RvOpKUi-oDEJ"
      },
      "execution_count": null,
      "outputs": []
    },
    {
      "cell_type": "code",
      "source": [
        "nama_lengkap[2]"
      ],
      "metadata": {
        "id": "4wzCts_eFDl_"
      },
      "execution_count": null,
      "outputs": []
    },
    {
      "cell_type": "code",
      "source": [
        "nama_lengkap[3:6]"
      ],
      "metadata": {
        "id": "NjaGZqgsE8Qp"
      },
      "execution_count": null,
      "outputs": []
    },
    {
      "cell_type": "code",
      "source": [
        "nama_lengkap[3:6:2]"
      ],
      "metadata": {
        "id": "jZ2mZywN1g0b"
      },
      "execution_count": null,
      "outputs": []
    },
    {
      "cell_type": "markdown",
      "source": [
        "___\n",
        "# EXERCISE 3: Variables\n",
        "\n",
        "Pada exercise ini kita akan melakukan pengamatan dan menjalankan script yang melakukan proses penginputan informasi calon responden ke dalam sebuah daftar responden.\n",
        "\n",
        "Sebelum menjalankan `scripts`, coba amati terlebih dahulu, lalu carilah informasi terkait:\n",
        "1. Data responden apa saja yang diinput?\n",
        "2. Berapa banyak variable yang di-assign value pada `script`?\n",
        "3. Tipe data apa saja yang di-assign ke dalam setiap variable tersebut?\n",
        "4. Pada variable apakah data seluruh responden yang diinput di-assign?\n"
      ],
      "metadata": {
        "id": "UDbnJhsW4DCP"
      }
    },
    {
      "cell_type": "code",
      "source": [
        "# MEMBUAT DAFTAR CALON RESPONDEN\n",
        "# 1. Persiapan\n",
        "# Set sebuah list kosong sebagai `respondent_listed`\n",
        "respondent_listed : list = []\n",
        "\n",
        "# 2. Proses Mengisi Daftar\n",
        "# Buat unlimited loop\n",
        "while True:\n",
        "  # Cek apakah user akan mengisi data ke daftar\n",
        "  pilihan : str = input(f\"{'':=^63}\\nApakah ada nama yang akan ditambahkan ke list? (1=ya/0=tidak) \")\n",
        "  # Validasi pilihan user\n",
        "  # Apakah pilihan user benar??\n",
        "  if pilihan not in ['0', '1']:\n",
        "    print(\"Pilihan tidak valid, silahkan pilih 1 atau 0!\")\n",
        "\n",
        "  # Jika tidak tambah responden\n",
        "  if pilihan == '0':\n",
        "    break # Hentikan unlimited loop\n",
        "  # Jika tambah responden\n",
        "  elif pilihan == '1':\n",
        "    # Mintakan nama lengkap\n",
        "    nama_lengkap : str = input('1. Nama Lengkap: ')\n",
        "    # Mintakan Nomor Telepon\n",
        "    nomor_telepon : str = input('2. Nomor Telepon: ')\n",
        "    # Mintakan Tanggal Lahir\n",
        "    dob : str = input(\"3. Tanggal Lahir: (dd/mm/yyyy)\")\n",
        "    # Mintakan Jenis Kelamin\n",
        "    jenis_kelamin : bool = bool(int(input(\"4. Jenis Kelamin: (1=L/0=P)\")))\n",
        "    # Tambahkan data responden ke dalam list `respondent_listed`\n",
        "    respondent_listed.append((nama_lengkap, nomor_telepon, dob, jenis_kelamin))\n",
        "\n",
        "# 3. Tampilkan daftar ke layar\n",
        "# Buat Judul tabel\n",
        "print(f\"\\n{'DAFTAR CALON RESPONDEN':-^63}\")\n",
        "# Buat Garis Pembatas\n",
        "print(f\"{'':=^63}\")\n",
        "# Buat Header Tabel\n",
        "print(f\"{'NO': ^4}\", f\"{'NAMA': ^19}\", f\"{'TELEPON': ^15}\", f\"{'DOB': ^13}\", f\"{'L/P': ^8}\", sep = \"|\")\n",
        "# Buat Garis Pembatas baris\n",
        "print(f\"{'':-^63}\")\n",
        "# Buat loop berdasarkan elemen pada `respondent_listed`\n",
        "for idx, item in enumerate(respondent_listed):\n",
        "  print(f\"{idx+1: >4}\", f\"{item[0]: <19}\", f\"{item[1]: >15}\", f\"{item[2]: ^13}\", f\"{item[3]: ^8}\", sep = \"|\")\n",
        "# Buat Garis Pembatas\n",
        "print(f\"{'':=^63}\")"
      ],
      "metadata": {
        "id": "kH3tLH0tl3PG"
      },
      "execution_count": null,
      "outputs": []
    },
    {
      "cell_type": "code",
      "source": [
        "# Panggil isi Variable yang di-assign data seluruh calon responden dari memory\n",
        "respondent_listed"
      ],
      "metadata": {
        "id": "qpgV4PGo09o9"
      },
      "execution_count": null,
      "outputs": []
    },
    {
      "cell_type": "code",
      "source": [
        "# Cek tipe data yang disimpan pada variable tersebut\n",
        "type(respondent_listed)"
      ],
      "metadata": {
        "id": "z8P0VPEl9ADY"
      },
      "execution_count": null,
      "outputs": []
    },
    {
      "cell_type": "markdown",
      "source": [
        "# EXERCISE 4: `string` Manipulation in a `dataframe`\n",
        "Seperti telah kita amati bersama pada exercise sebelumnya, bahwa data responden yang diinput tersimpan dalam sebuah variable `responden_listed` dengan data bertipe `list`. Selanjutnya, data yang sudah terkumpul tersebut biasanya akan diproses lebih lanjut agar sesuai dengan kebutuhan. Untuk memudahkan pemrosesan lebih lanjut, dalam python, `list` berisi data tersebut umumnya diubah ke format tabular berupa object `pandas.DataFrame`.\n",
        "\n",
        "Sebagai ilustrasi, misalkan kita diminta untuk merubah struktur data, dimana nama responden dipisahkan menjadi dua kolom, yaitu: `FIRSTNAME` dan `LASTNAME`. Untuk melakukan proses tersebut, maka kita akan melakukan proses dengan langkah-langkah berikut:\n",
        "1. Ubah `list` menjadi `pd.DataFrame` dengan nama kolom berikut: `NAME`, `TELEPON`, `DOB`, dan `GENDER`, lalu assign ke `daftar_responden`;\n",
        "2. Buat `copy` dari `daftar_responden` assign ke `df_responden`;\n",
        "3. Buat kolom `FIRSTNAME`;\n",
        "4. Buat kolom `LASTNAME`; dan\n",
        "5. Filter kolom hanya berisi `FIRSTNAME`, `LASTNAME`, `TELEPON`, `DOB`, dan `GENDER`, lalu copy dan assign ke `df_responden_rapi`.\n",
        "\n",
        "Lengkapi `scripts` di bawah berikut dengan `variable`, atau data yang tepat!!"
      ],
      "metadata": {
        "id": "p0FsLxcQEAe0"
      }
    },
    {
      "cell_type": "code",
      "source": [
        "respondent_listed[0]"
      ],
      "metadata": {
        "id": "c1695OWZ_SOf"
      },
      "execution_count": null,
      "outputs": []
    },
    {
      "cell_type": "code",
      "source": [
        "# 1. Convert `respondent_listed` menjadi sebuah DataFrame dengan menggunakan\n",
        "#    method `DataFrame` dari modul `pandas`\n",
        "daftar_responden = pd.DataFrame(respondent_listed, columns=['NAME', 'TELEPON', 'DOB', 'GENDER'])\n",
        "# Tampilkan informasi type object `daftar_responden` ke layar\n",
        "print(daftar_responden)\n",
        "# Check isi `daftar_responden` yang tersimpan pada memory\n",
        "daftar_responden"
      ],
      "metadata": {
        "id": "0DrzW5QW1d1i"
      },
      "execution_count": null,
      "outputs": []
    },
    {
      "cell_type": "code",
      "source": [
        "daftar_responden.loc[0]"
      ],
      "metadata": {
        "id": "YQ1IzOvD_aUk"
      },
      "execution_count": null,
      "outputs": []
    },
    {
      "cell_type": "code",
      "source": [
        "# 2. Buat copy dari `daftar_responden` ke `df_responden`\n",
        "df_responden = daftar_responden.copy()"
      ],
      "metadata": {
        "id": "JJ29jg0a7QG3"
      },
      "execution_count": null,
      "outputs": []
    },
    {
      "cell_type": "markdown",
      "source": [
        "---\n",
        "***Basic DataFrame String Methods***\n",
        "\n",
        "Penggunaan `string methods` pada object `dataframe` sangat berbeda dengan `string methods` biasa seperti yang telah dibahas pada bagian terdahulu. Selain perbedaan dari sisi perbendaharaan `methods`, untuk mengaktivasi berbagai `string methods` pada sebuah `dataframe` diperlukan `accessor` `str`, seperti dicontohkan pada illustrasi di bawah berikut:"
      ],
      "metadata": {
        "id": "lK1sUvRc_W5D"
      }
    },
    {
      "cell_type": "code",
      "source": [
        "# Basic Dataframe String-Splitting\n",
        "df_responden['NAME'].str.split(\" \", expand=True)"
      ],
      "metadata": {
        "id": "B5ThGada7S0x"
      },
      "execution_count": null,
      "outputs": []
    },
    {
      "cell_type": "markdown",
      "source": [
        "---"
      ],
      "metadata": {
        "id": "zXaNQjeD_dk0"
      }
    },
    {
      "cell_type": "code",
      "source": [
        "# 3. Buat Kolom baru `FIRSTNAME`\n",
        "df_responden['FIRSTNAME'] = df_responden['NAME'].str.split(\" \", expand=True)[0]\n",
        "\n",
        "# 4. Buat Kolom baru `LASTNAME`\n",
        "df_responden['LASTNAME'] = df_responden['NAME'].str.split(\" \", expand=True)[1]\n",
        "\n",
        "# 5. Filter Kolom yang ditampilkan\n",
        "df_responden_rapi = df_responden[['FIRSTNAME', 'LASTNAME', 'TELEPON', 'DOB', 'GENDER']].copy()\n",
        "\n",
        "# Cek isi `df_responden_rapi` dari memory\n",
        "df_responden_rapi"
      ],
      "metadata": {
        "id": "NFtSC00R18MJ"
      },
      "execution_count": null,
      "outputs": []
    },
    {
      "cell_type": "code",
      "source": [
        "# Cek Struktur `df_responden_rapi`\n",
        "df_responden_rapi.info()"
      ],
      "metadata": {
        "id": "__wD5GmS9-J6"
      },
      "execution_count": null,
      "outputs": []
    },
    {
      "cell_type": "code",
      "source": [
        "# Pengolahan Data String dengan Method Chaining\n",
        "(pd.DataFrame(respondent_listed, columns=['NAMA', 'TELEPON', 'DOB', 'GENDER'])\n",
        " .assign(FIRSTNAME=lambda df: df['NAMA'].str.split(\" \", expand=True)[0],\n",
        "         LASTNAME=lambda df: df['NAMA'].str.split(\" \", expand=True)[1])\n",
        " .loc[:,['FIRSTNAME', 'LASTNAME', 'TELEPON', 'DOB', 'GENDER']])"
      ],
      "metadata": {
        "id": "VTaSQ1rQ9V-R"
      },
      "execution_count": null,
      "outputs": []
    },
    {
      "cell_type": "markdown",
      "source": [
        "# `python` `DATETIME`\n",
        "`datetime` adalah sebuah modul *built-in* pada `python` yang menyediakan berbagai alat untuk bekerja dengan berbagai object berupa **tanggal**, **waktu**, dan **interval waktu**. Dengan menggunakan modul ini, maka seorang data analyst dapat membuat, memanipulasi, dan melakukan *formatting* terhadap objek `date/time` secara konsisten."
      ],
      "metadata": {
        "id": "9KIf1VqqFYsn"
      }
    },
    {
      "cell_type": "markdown",
      "source": [
        "---\n",
        "\n",
        "## Why `datetime`?\n",
        "\n",
        "* 🗓️ Untuk *parsing* dan *handling timestamps* pada datasets;\n",
        "* ⏳ Untuk melakukan kalkulasi `date/time` (e.g., duration, umur, deadlines);\n",
        "* 🧾 Untuk melakukan *formatting* `dates/times`;\n",
        "* 📅 Untuk melakukan *filtering* atau *grouping* data berdasarkan `date/time`."
      ],
      "metadata": {
        "id": "nZ5frcALHo5J"
      }
    },
    {
      "cell_type": "markdown",
      "source": [
        "---\n",
        "\n",
        "## How to Use\n",
        "\n",
        "### 1. **Importing the module**\n",
        "\n",
        "```python\n",
        "import datetime\n",
        "```\n",
        "\n",
        "### 2. **Creating date/time objects**\n",
        "\n",
        "```python\n",
        "today = datetime.date.today()               # current date\n",
        "now = datetime.datetime.now()               # current date and time\n",
        "custom_date = datetime.date(2024, 5, 17)    # specific date\n",
        "```\n",
        "\n",
        "### 3. **Parsing from string**\n",
        "\n",
        "```python\n",
        "from datetime import datetime\n",
        "dt = datetime.strptime(\"2024-05-17\", \"%Y-%m-%d\")\n",
        "```\n",
        "\n",
        "### 4. **Formatting to string**\n",
        "\n",
        "```python\n",
        "dt.strftime(\"%d %B %Y\")   # Output: '17 May 2024'\n",
        "```\n",
        "\n",
        "### 5. **Date arithmetic**\n",
        "\n",
        "```python\n",
        "delta = datetime.timedelta(days=7)\n",
        "next_week = today + delta\n",
        "```"
      ],
      "metadata": {
        "id": "hNwsQRAsHudj"
      }
    },
    {
      "cell_type": "markdown",
      "source": [
        "---\n",
        "\n",
        "> **Tips:**\n",
        "\n",
        "* Pergunakan `pandas.to_datetime()` ketika bekerja dengan `date/time` pada sebuah `dataframe`."
      ],
      "metadata": {
        "id": "Y7ypPlkWH4fj"
      }
    },
    {
      "cell_type": "markdown",
      "source": [
        "# EXERCISE 5: `string` to `datetime`\n",
        "Seperti telah kita kerjakan pada exercise sebelumnya, sekarang kita memiliki sebuah tabel berisi data responden yang sudah terformat dengan rapi. Sebagai ilustrasi selanjutnya, misalkan kita diminta untuk menghitung umur dari setiap responden agar dapat dilakukan pengelompokkan berdasarkan umur pada analisis lanjutan.\n",
        "Hal penting yang perlu kita pikirkan adalah:\n",
        "1. Adakah data yang dapat kita olah untuk memperoleh informasi `UMUR`?\n",
        "2. Apakah tipe data yang ada memungkinkan untuk memperoleh informasi `UMUR`?\n",
        "3. Perlukan dilakukan *adjustment* terhadap data tersebut?"
      ],
      "metadata": {
        "id": "ZDduVkAu_idd"
      }
    },
    {
      "cell_type": "code",
      "source": [
        "# 1. Casting string to datetime\n",
        "df_responden_rapi['DOB'] = pd.to_datetime(df_responden_rapi['DOB'], dayfirst=True)"
      ],
      "metadata": {
        "id": "NG2SR0Z8MbWa"
      },
      "execution_count": null,
      "outputs": []
    },
    {
      "cell_type": "code",
      "source": [
        "# Cek Struktur DataFrame\n",
        "df_responden_rapi.info()"
      ],
      "metadata": {
        "id": "hWl-qSD22VPw"
      },
      "execution_count": null,
      "outputs": []
    },
    {
      "cell_type": "code",
      "source": [
        "# 2. Datetime operation: Menghitung Umur Responden\n",
        "# Import method `datetime` dari modul `datetime`\n",
        "from datetime import datetime\n",
        "# Hitung umur, lalu assign ke kolom `UMUR`\n",
        "df_responden_rapi['UMUR'] = datetime.now().year - df_responden_rapi['DOB'].dt.year\n",
        "# Cek isi `df_responden_rapi` dari memory\n",
        "df_responden_rapi"
      ],
      "metadata": {
        "id": "Ei3SpI57E_8G"
      },
      "execution_count": null,
      "outputs": []
    },
    {
      "cell_type": "code",
      "source": [
        "# Cek Struktur DataFrame\n",
        "df_responden_rapi.info()"
      ],
      "metadata": {
        "id": "tHaIeQ8GAAqV"
      },
      "execution_count": null,
      "outputs": []
    },
    {
      "cell_type": "code",
      "source": [
        "# Pengolahan data UMUR dengan Method Chaining\n",
        "(pd.DataFrame(respondent_listed, columns=['NAMA', 'TELEPON', 'DOB', 'GENDER'])\n",
        " .assign(FIRSTNAME=lambda df: df['NAMA'].str.split(\" \", expand=True)[0],\n",
        "         LASTNAME=lambda df: df['NAMA'].str.split(\" \", expand=True)[1],\n",
        "         DOB=lambda df: pd.to_datetime(df['DOB'], dayfirst=True),\n",
        "         UMUR=lambda df: datetime.now().year - df['DOB'].dt.year)\n",
        " .loc[:,['FIRSTNAME', 'LASTNAME', 'TELEPON', 'DOB', 'GENDER', 'UMUR']])"
      ],
      "metadata": {
        "id": "WUfzL8SzeeSj"
      },
      "execution_count": null,
      "outputs": []
    },
    {
      "cell_type": "markdown",
      "source": [
        "# EXERCISE 6: conditionals data manipulation => `bool` to `string`\n",
        "`DataFrame` hasil pengolahan pada exercise sebelumnya sudah terstruktur dengan baik, namun masih belum tepat untuk publikasi. Idealnya, tabel yang dipublikasikan harus memudahkan proses interpretasi. Pada `df_responden_rapi` tersebut, pengkodean `GENDER` masih berupa data `boolean`, sehingga masih perlu proses interpretasi lebih jauh.\n",
        "\n",
        "Pada exercise ini, kita akan melakukan manipulasi data `boolean` menjadi data `string` yang terkait dengan pengkodean yang diterapkan, dengan menggunakan method `where` pada modul `numpy`."
      ],
      "metadata": {
        "id": "l7dnm99Z8nWM"
      }
    },
    {
      "cell_type": "code",
      "source": [
        "# 1. Import modul `numpy`\n",
        "import numpy as np\n",
        "# 2. Gunakan method `where` untuk mengubah data kolom `GENDER`,\n",
        "#    True menjadi 'Laki-laki' dan False menjadi 'Perempuan'\n",
        "df_responden_rapi['GENDER'] = np.where(df_responden_rapi['GENDER'], 'Laki-laki', 'Perempuan')\n",
        "# Cek isi `df_responden_rapi` dari memory\n",
        "df_responden_rapi"
      ],
      "metadata": {
        "id": "jYQAjU-T7--v"
      },
      "execution_count": null,
      "outputs": []
    },
    {
      "cell_type": "code",
      "source": [
        "df_responden_rapi['KELOMPOK_USIA'] = np.where(\n",
        "    df_responden_rapi['UMUR'] > 60,\n",
        "    'Lanjut Usia',\n",
        "    np.where(df_responden_rapi['UMUR'] > 20,\n",
        "             'Usia Produktif', 'Remaja'))\n",
        "df_responden_rapi"
      ],
      "metadata": {
        "id": "zjUWxVYoF0se"
      },
      "execution_count": null,
      "outputs": []
    },
    {
      "cell_type": "code",
      "source": [
        "# Cek struktur DataFrame\n",
        "df_responden_rapi.info()"
      ],
      "metadata": {
        "id": "cFR879UWEFXp"
      },
      "execution_count": null,
      "outputs": []
    },
    {
      "cell_type": "code",
      "source": [
        "# Pengolahan data GENDER dengan Method Chaining\n",
        "(pd.DataFrame(respondent_listed, columns=['NAMA', 'TELEPON', 'DOB', 'GENDER'])\n",
        " .assign(FIRSTNAME=lambda df: df['NAMA'].str.split(\" \", expand=True)[0],\n",
        "         LASTNAME=lambda df: df['NAMA'].str.split(\" \", expand=True)[1],\n",
        "         DOB=lambda df: pd.to_datetime(df['DOB'], dayfirst=True),\n",
        "         UMUR=lambda df: datetime.now().year - df['DOB'].dt.year,\n",
        "         GENDER=lambda df: np.where(df['GENDER'], 'Laki-laki', 'Perempuan'))\n",
        " .loc[:,['FIRSTNAME', 'LASTNAME', 'TELEPON', 'DOB', 'GENDER', 'UMUR']])"
      ],
      "metadata": {
        "id": "xXZwuqsECzhG"
      },
      "execution_count": null,
      "outputs": []
    },
    {
      "cell_type": "markdown",
      "source": [
        "___"
      ],
      "metadata": {
        "id": "ccDI1jhkNayf"
      }
    }
  ]
}